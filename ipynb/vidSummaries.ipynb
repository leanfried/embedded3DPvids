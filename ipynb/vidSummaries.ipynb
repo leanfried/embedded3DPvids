{
 "cells": [
  {
   "cell_type": "markdown",
   "id": "567b4fe6",
   "metadata": {},
   "source": [
    "# Summarizing metrics from single lines"
   ]
  },
  {
   "cell_type": "markdown",
   "id": "3b7724a2",
   "metadata": {},
   "source": [
    "Leanne Friedrich 08/02/21"
   ]
  },
  {
   "cell_type": "markdown",
   "id": "33d19060",
   "metadata": {},
   "source": [
    "## initialization"
   ]
  },
  {
   "cell_type": "code",
   "execution_count": 2,
   "id": "750cac0b",
   "metadata": {},
   "outputs": [],
   "source": [
    "%load_ext autoreload\n",
    "%autoreload 2\n",
    "LOGGERDEFINED = False"
   ]
  },
  {
   "cell_type": "code",
   "execution_count": null,
   "id": "a1489cbb",
   "metadata": {},
   "outputs": [],
   "source": [
    "import os\n",
    "import sys\n",
    "sys.path.append(\"../\")\n",
    "from py.config import cfg\n",
    "import py.logs as logs\n",
    "import py.metrics as me\n",
    "from printVals import *\n",
    "from plainIm import plainIm\n",
    "import matplotlib.pyplot as plt\n",
    "import metricPlots as mp\n",
    "import regression as rg\n",
    "LOGGERDEFINED = logs.openLog('vidSummaries.ipynb', LOGGERDEFINED, level='DEBUG', exportLog=False)"
   ]
  },
  {
   "cell_type": "markdown",
   "id": "5e75b16c",
   "metadata": {},
   "source": [
    "## summarizing data"
   ]
  },
  {
   "cell_type": "markdown",
   "id": "e3dda59a",
   "metadata": {},
   "source": [
    "### summarize everything"
   ]
  },
  {
   "cell_type": "code",
   "execution_count": null,
   "id": "79c2b223",
   "metadata": {},
   "outputs": [],
   "source": [
    "# newfolders = [os.path.join(cfg.path.server, r'singleLines\\vels LapRD LapRD 1day\\I_3.00_S_3.00\\I_3.00_S_3.00_VI_2.5_VS_10_211109')]\n",
    "newfolders = []\n",
    "tt, u = me.stillsSummary(os.path.join(cfg.path.server, r'singleLines'), cfg.path.fig, newfolders=newfolders)"
   ]
  },
  {
   "cell_type": "markdown",
   "id": "200b7942",
   "metadata": {},
   "source": [
    "### get a table of programmed timings from Fluigent records"
   ]
  },
  {
   "cell_type": "code",
   "execution_count": 72,
   "id": "9623f52f",
   "metadata": {
    "collapsed": true,
    "jupyter": {
     "outputs_hidden": true
    }
   },
   "outputs": [
    {
     "name": "stdout",
     "output_type": "stream",
     "text": [
      "INFO: Exported //cfs2e.nist.gov/642/internal/3D Printing Lab/Shopbot/videos/singleLines\\mineral812S LapRDT\\I_M6S_S_2.50T\\I_M6S_S_2.50T_210922\\singleLinesNoZig_5_speeds_I_M6S_S_2.50T_210922_153212.csv\n",
      "INFO: Exported //cfs2e.nist.gov/642/internal/3D Printing Lab/Shopbot/videos/singleLines\\mineral812S LapRDT\\I_M7S_S_2.50T\\I_M7S_S_2.50T_210922\\singleLinesNoZig_5_speeds_I_M7S_S_2.50T_210922_161713.csv\n",
      "INFO: Exported //cfs2e.nist.gov/642/internal/3D Printing Lab/Shopbot/videos/singleLines\\PEGDA LapRD\\I_PEG10_S_2.25\\I_PEG10_S_2.25_211006\\I_PEG10_S_2.25_211006_progDims.csv\n",
      "INFO: Exported //cfs2e.nist.gov/642/internal/3D Printing Lab/Shopbot/videos/singleLines\\PEGDA LapRD\\I_PEG10_S_2.50\\I_PEG10_S_2.50_211006\\I_PEG10_S_2.50_211006_progDims.csv\n",
      "INFO: Exported //cfs2e.nist.gov/642/internal/3D Printing Lab/Shopbot/videos/singleLines\\PEGDA LapRD\\I_PEG10_S_2.75\\I_PEG10_S_2.75_211006\\I_PEG10_S_2.75_211006_progDims.csv\n",
      "INFO: Exported //cfs2e.nist.gov/642/internal/3D Printing Lab/Shopbot/videos/singleLines\\PEGDA LapRD\\I_PEG10_S_3.00\\I_PEG10_S_3.00_211006\\I_PEG10_S_3.00_211006_progDims.csv\n",
      "INFO: Exported //cfs2e.nist.gov/642/internal/3D Printing Lab/Shopbot/videos/singleLines\\PEGDA LapRD\\I_PEG10_S_3.50\\I_PEG10_S_3.50_211006\\I_PEG10_S_3.50_211006_progDims.csv\n",
      "INFO: Exported //cfs2e.nist.gov/642/internal/3D Printing Lab/Shopbot/videos/singleLines\\PEGDA LapRD\\I_PEG10_S_4.00\\I_PEG10_S_4.00_211006\\I_PEG10_S_4.00_211006_progDims.csv\n",
      "INFO: Exported //cfs2e.nist.gov/642/internal/3D Printing Lab/Shopbot/videos/singleLines\\PEGDA LapRD\\I_PEG12.5_S_2.25\\I_PEG12.5_S_2.25_211006\\I_PEG12.5_S_2.25_211006_progDims.csv\n",
      "INFO: Exported //cfs2e.nist.gov/642/internal/3D Printing Lab/Shopbot/videos/singleLines\\PEGDA LapRD\\I_PEG12.5_S_2.50\\I_PEG12.5_S_2.50_211006\\I_PEG12.5_S_2.50_211006_progDims.csv\n",
      "INFO: Exported //cfs2e.nist.gov/642/internal/3D Printing Lab/Shopbot/videos/singleLines\\PEGDA LapRD\\I_PEG12.5_S_2.75\\I_PEG12.5_S_2.75_211006\\I_PEG12.5_S_2.75_211006_progDims.csv\n",
      "INFO: Exported //cfs2e.nist.gov/642/internal/3D Printing Lab/Shopbot/videos/singleLines\\PEGDA LapRD\\I_PEG12.5_S_3.00\\I_PEG12.5_S_3.00_211006\\I_PEG12.5_S_3.00_211006_progDims.csv\n",
      "INFO: Exported //cfs2e.nist.gov/642/internal/3D Printing Lab/Shopbot/videos/singleLines\\PEGDA LapRD\\I_PEG12.5_S_3.50\\I_PEG12.5_S_3.50_211006\\I_PEG12.5_S_3.50_211006_progDims.csv\n",
      "INFO: Exported //cfs2e.nist.gov/642/internal/3D Printing Lab/Shopbot/videos/singleLines\\PEGDA LapRD\\I_PEG12.5_S_4.00\\I_PEG12.5_S_4.00_211006\\I_PEG12.5_S_4.00_211006_progDims.csv\n",
      "INFO: Exported //cfs2e.nist.gov/642/internal/3D Printing Lab/Shopbot/videos/singleLines\\PEGDA LapRD\\I_PEG5_S_2.25\\I_PEG5_S_2.25_211006\\I_PEG5_S_2.25_211006_progDims.csv\n",
      "INFO: Exported //cfs2e.nist.gov/642/internal/3D Printing Lab/Shopbot/videos/singleLines\\PEGDA LapRD\\I_PEG5_S_2.50\\I_PEG5_S_2.50_211006\\I_PEG5_S_2.50_211006_progDims.csv\n",
      "INFO: Exported //cfs2e.nist.gov/642/internal/3D Printing Lab/Shopbot/videos/singleLines\\PEGDA LapRD\\I_PEG5_S_2.75\\I_PEG5_S_2.75_211006\\I_PEG5_S_2.75_211006_progDims.csv\n",
      "INFO: Exported //cfs2e.nist.gov/642/internal/3D Printing Lab/Shopbot/videos/singleLines\\PEGDA LapRD\\I_PEG5_S_3.00\\I_PEG5_S_3.00_211006\\I_PEG5_S_3.00_211006_progDims.csv\n",
      "INFO: Exported //cfs2e.nist.gov/642/internal/3D Printing Lab/Shopbot/videos/singleLines\\PEGDA LapRD\\I_PEG5_S_3.50\\I_PEG5_S_3.50_211006\\I_PEG5_S_3.50_211006_progDims.csv\n",
      "INFO: Exported //cfs2e.nist.gov/642/internal/3D Printing Lab/Shopbot/videos/singleLines\\PEGDA LapRD\\I_PEG5_S_4.00\\I_PEG5_S_4.00_211006\\I_PEG5_S_4.00_211006_progDims.csv\n",
      "INFO: Exported //cfs2e.nist.gov/642/internal/3D Printing Lab/Shopbot/videos/singleLines\\PEGDA LapRD\\I_PEG7.5_S_2.25\\I_PEG7.5_S_2.25_211006\\I_PEG7.5_S_2.25_211006_progDims.csv\n",
      "INFO: Exported //cfs2e.nist.gov/642/internal/3D Printing Lab/Shopbot/videos/singleLines\\PEGDA LapRD\\I_PEG7.5_S_2.50\\I_PEG7.5_S_2.50_211006\\I_PEG7.5_S_2.50_211006_progDims.csv\n",
      "INFO: Exported //cfs2e.nist.gov/642/internal/3D Printing Lab/Shopbot/videos/singleLines\\PEGDA LapRD\\I_PEG7.5_S_2.75\\I_PEG7.5_S_2.75_211006\\I_PEG7.5_S_2.75_211006_progDims.csv\n",
      "INFO: Exported //cfs2e.nist.gov/642/internal/3D Printing Lab/Shopbot/videos/singleLines\\PEGDA LapRD\\I_PEG7.5_S_2.75\\I_PEG7.5_S_2.75_v2_211006\\I_PEG7.5_S_2.75_v2_211006_progDims.csv\n",
      "INFO: Exported //cfs2e.nist.gov/642/internal/3D Printing Lab/Shopbot/videos/singleLines\\PEGDA LapRD\\I_PEG7.5_S_3.00\\I_PEG7.5_S_3.00_211006\\I_PEG7.5_S_3.00_211006_progDims.csv\n",
      "INFO: Exported //cfs2e.nist.gov/642/internal/3D Printing Lab/Shopbot/videos/singleLines\\PEGDA LapRD\\I_PEG7.5_S_3.50\\I_PEG7.5_S_3.50_211006\\I_PEG7.5_S_3.50_211006_progDims.csv\n",
      "INFO: Exported //cfs2e.nist.gov/642/internal/3D Printing Lab/Shopbot/videos/singleLines\\PEGDA LapRD\\I_PEG7.5_S_4.00\\I_PEG7.5_S_4.00_211006\\I_PEG7.5_S_4.00_211006_progDims.csv\n",
      "INFO: Exported C:/Users/lmf1/OneDriveNIST/NIST/data/shopbot/results\\progTable.csv\n"
     ]
    }
   ],
   "source": [
    "tt, u = me.progTable(os.path.join(cfg.path.server, 'singleLines'), cfg.path.fig, 'progTable.csv', overwrite=False)"
   ]
  },
  {
   "cell_type": "markdown",
   "id": "a68fa7b0",
   "metadata": {},
   "source": [
    "### get a table of originally intended timings"
   ]
  },
  {
   "cell_type": "code",
   "execution_count": 36,
   "id": "462b00bd",
   "metadata": {},
   "outputs": [
    {
     "name": "stdout",
     "output_type": "stream",
     "text": [
      "INFO: Exported C:/Users/lmf1/OneDriveNIST/NIST/data/shopbot/results\\progTableDefault.csv\n"
     ]
    }
   ],
   "source": [
    "ttdefault, u2 = me.progTable(os.path.join(cfg.path.server, 'singleLines', 'vels mineral LapRD'), cfg.path.fig, 'progTableDefault.csv', useDefault=True)"
   ]
  }
 ],
 "metadata": {
  "kernelspec": {
   "display_name": "Python 3",
   "language": "python",
   "name": "python3"
  },
  "language_info": {
   "codemirror_mode": {
    "name": "ipython",
    "version": 3
   },
   "file_extension": ".py",
   "mimetype": "text/x-python",
   "name": "python",
   "nbconvert_exporter": "python",
   "pygments_lexer": "ipython3",
   "version": "3.8.3"
  }
 },
 "nbformat": 4,
 "nbformat_minor": 5
}
