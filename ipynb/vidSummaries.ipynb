{
 "cells": [
  {
   "cell_type": "markdown",
   "id": "42081f5d",
   "metadata": {},
   "source": [
    "# Summarizing metrics from single lines"
   ]
  },
  {
   "cell_type": "markdown",
   "id": "0d172648",
   "metadata": {},
   "source": [
    "Leanne Friedrich 08/02/21"
   ]
  },
  {
   "cell_type": "markdown",
   "id": "f9d00a58",
   "metadata": {},
   "source": [
    "## initialization"
   ]
  },
  {
   "cell_type": "code",
   "execution_count": 1,
   "id": "932c867a",
   "metadata": {},
   "outputs": [],
   "source": [
    "%load_ext autoreload\n",
    "%autoreload 2\n",
    "LOGGERDEFINED = False"
   ]
  },
  {
   "cell_type": "code",
   "execution_count": 2,
   "id": "dbc1fc3c",
   "metadata": {},
   "outputs": [],
   "source": [
    "import os\n",
    "import sys\n",
    "sys.path.append(\"../\")\n",
    "from py.config import cfg\n",
    "import py.logs as logs\n",
    "import py.metrics as me\n",
    "from printVals import *\n",
    "from plainIm import plainIm\n",
    "import matplotlib.pyplot as plt\n",
    "import metricPlots as mp\n",
    "import regression as rg\n",
    "LOGGERDEFINED = logs.openLog('vidSummaries.ipynb', LOGGERDEFINED, level='DEBUG', exportLog=False)"
   ]
  },
  {
   "cell_type": "markdown",
   "id": "19397b4c",
   "metadata": {},
   "source": [
    "## summarizing data"
   ]
  },
  {
   "cell_type": "markdown",
   "id": "e01b7715",
   "metadata": {},
   "source": [
    "### summarize everything"
   ]
  },
  {
   "cell_type": "code",
   "execution_count": null,
   "id": "97838325",
   "metadata": {
    "tags": []
   },
   "outputs": [],
   "source": [
    "# newfolders = [os.path.join(cfg.path.server, r'singleLines\\vels LapRD LapRD 1day\\I_3.00_S_3.00\\I_3.00_S_3.00_VI_2.5_VS_10_211109')]\n",
    "# newfolders = [os.path.join(cfg.path.server, r'singleLines\\mineral812S LapRDT')]\n",
    "newfolders = []\n",
    "tt, u = me.stillsSummary(os.path.join(cfg.path.server, r'singleLines'), cfg.path.fig, newfolders=newfolders)"
   ]
  },
  {
   "cell_type": "markdown",
   "id": "83170c88",
   "metadata": {},
   "source": [
    "### get a table of programmed timings from Fluigent records"
   ]
  },
  {
   "cell_type": "code",
   "execution_count": null,
   "id": "40244682",
   "metadata": {
    "tags": []
   },
   "outputs": [],
   "source": [
    "tt, u = me.progTable(os.path.join(cfg.path.server, 'singleLines'), cfg.path.fig, 'progTable.csv', overwrite=False)"
   ]
  },
  {
   "cell_type": "markdown",
   "id": "3a7d4b4d",
   "metadata": {},
   "source": [
    "### get a table of originally intended timings"
   ]
  },
  {
   "cell_type": "code",
   "execution_count": null,
   "id": "009c6b0d",
   "metadata": {},
   "outputs": [],
   "source": [
    "ttdefault, u2 = me.progTable(os.path.join(cfg.path.server, 'singleLines', 'vels mineral LapRD'), cfg.path.fig, 'progTableDefault.csv', useDefault=True)"
   ]
  }
 ],
 "metadata": {
  "kernelspec": {
   "display_name": "Python 3",
   "language": "python",
   "name": "python3"
  },
  "language_info": {
   "codemirror_mode": {
    "name": "ipython",
    "version": 3
   },
   "file_extension": ".py",
   "mimetype": "text/x-python",
   "name": "python",
   "nbconvert_exporter": "python",
   "pygments_lexer": "ipython3",
   "version": "3.8.3"
  }
 },
 "nbformat": 4,
 "nbformat_minor": 5
}
