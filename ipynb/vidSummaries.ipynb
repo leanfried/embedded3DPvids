{
 "cells": [
  {
   "cell_type": "markdown",
   "id": "724fca85",
   "metadata": {},
   "source": [
    "# Summarizing metrics from single lines"
   ]
  },
  {
   "cell_type": "markdown",
   "id": "4e94bfc7",
   "metadata": {},
   "source": [
    "Leanne Friedrich 08/02/21"
   ]
  },
  {
   "cell_type": "markdown",
   "id": "0fb00e56",
   "metadata": {},
   "source": [
    "## initialization"
   ]
  },
  {
   "cell_type": "code",
   "execution_count": 2,
   "id": "da9f8502",
   "metadata": {},
   "outputs": [],
   "source": [
    "%load_ext autoreload\n",
    "%autoreload 2\n",
    "LOGGERDEFINED = False"
   ]
  },
  {
   "cell_type": "code",
   "execution_count": 3,
   "id": "c6cfac1d",
   "metadata": {},
   "outputs": [],
   "source": [
    "import os\n",
    "import sys\n",
    "sys.path.append(\"../\")\n",
    "from py.config import cfg\n",
    "import py.logs as logs\n",
    "import py.metrics as me\n",
    "from printVals import *\n",
    "from plainIm import plainIm\n",
    "import matplotlib.pyplot as plt\n",
    "import metricPlots as mp\n",
    "import regression as rg\n",
    "LOGGERDEFINED = logs.openLog('vidSummaries.ipynb', LOGGERDEFINED, level='DEBUG', exportLog=False)"
   ]
  },
  {
   "cell_type": "markdown",
   "id": "08ff4c7f",
   "metadata": {},
   "source": [
    "## summarizing data"
   ]
  },
  {
   "cell_type": "markdown",
   "id": "87546ad7",
   "metadata": {},
   "source": [
    "### summarize everything"
   ]
  },
  {
   "cell_type": "code",
   "execution_count": 4,
   "id": "c595adac",
   "metadata": {},
   "outputs": [
    {
     "name": "stdout",
     "output_type": "stream",
     "text": [
      "INFO: //cfs2e.nist.gov/642/internal/3D Printing Lab/Shopbot/videos/singleLines\n",
      "INFO: //cfs2e.nist.gov/642/internal/3D Printing Lab/Shopbot/videos/singleLines\\LapRD LapRD 1day\n",
      "INFO: //cfs2e.nist.gov/642/internal/3D Printing Lab/Shopbot/videos/singleLines\\LapRD LapRD 1day\\I_2.25_S_2.25\n",
      "INFO: //cfs2e.nist.gov/642/internal/3D Printing Lab/Shopbot/videos/singleLines\\LapRD LapRD 1day\\I_2.25_S_2.50\n",
      "INFO: //cfs2e.nist.gov/642/internal/3D Printing Lab/Shopbot/videos/singleLines\\LapRD LapRD 1day\\I_2.25_S_2.75\n",
      "INFO: //cfs2e.nist.gov/642/internal/3D Printing Lab/Shopbot/videos/singleLines\\LapRD LapRD 1day\\I_2.25_S_3.00\n",
      "INFO: //cfs2e.nist.gov/642/internal/3D Printing Lab/Shopbot/videos/singleLines\\LapRD LapRD 1day\\I_2.25_S_3.50\n",
      "INFO: //cfs2e.nist.gov/642/internal/3D Printing Lab/Shopbot/videos/singleLines\\LapRD LapRD 1day\\I_2.25_S_4.00\n",
      "INFO: //cfs2e.nist.gov/642/internal/3D Printing Lab/Shopbot/videos/singleLines\\LapRD LapRD 1day\\I_2.50_S_2.25\n",
      "INFO: //cfs2e.nist.gov/642/internal/3D Printing Lab/Shopbot/videos/singleLines\\LapRD LapRD 1day\\I_2.50_S_2.50\n",
      "INFO: //cfs2e.nist.gov/642/internal/3D Printing Lab/Shopbot/videos/singleLines\\LapRD LapRD 1day\\I_2.50_S_2.75\n",
      "INFO: //cfs2e.nist.gov/642/internal/3D Printing Lab/Shopbot/videos/singleLines\\LapRD LapRD 1day\\I_2.50_S_3.00\n",
      "INFO: //cfs2e.nist.gov/642/internal/3D Printing Lab/Shopbot/videos/singleLines\\LapRD LapRD 1day\\I_2.50_S_3.50\n",
      "INFO: //cfs2e.nist.gov/642/internal/3D Printing Lab/Shopbot/videos/singleLines\\LapRD LapRD 1day\\I_2.50_S_4.00\n",
      "INFO: //cfs2e.nist.gov/642/internal/3D Printing Lab/Shopbot/videos/singleLines\\LapRD LapRD 1day\\I_2.75_S_2.25\n",
      "INFO: //cfs2e.nist.gov/642/internal/3D Printing Lab/Shopbot/videos/singleLines\\LapRD LapRD 1day\\I_2.75_S_2.50\n",
      "INFO: //cfs2e.nist.gov/642/internal/3D Printing Lab/Shopbot/videos/singleLines\\LapRD LapRD 1day\\I_2.75_S_2.75\n",
      "INFO: //cfs2e.nist.gov/642/internal/3D Printing Lab/Shopbot/videos/singleLines\\LapRD LapRD 1day\\I_2.75_S_3.00\n",
      "INFO: //cfs2e.nist.gov/642/internal/3D Printing Lab/Shopbot/videos/singleLines\\LapRD LapRD 1day\\I_2.75_S_3.50\n",
      "INFO: //cfs2e.nist.gov/642/internal/3D Printing Lab/Shopbot/videos/singleLines\\LapRD LapRD 1day\\I_2.75_S_4.00\n",
      "INFO: //cfs2e.nist.gov/642/internal/3D Printing Lab/Shopbot/videos/singleLines\\LapRD LapRD 1day\\I_3.00_S_2.25\n",
      "INFO: //cfs2e.nist.gov/642/internal/3D Printing Lab/Shopbot/videos/singleLines\\LapRD LapRD 1day\\I_3.00_S_2.50\n",
      "INFO: //cfs2e.nist.gov/642/internal/3D Printing Lab/Shopbot/videos/singleLines\\LapRD LapRD 1day\\I_3.00_S_2.75\n",
      "INFO: //cfs2e.nist.gov/642/internal/3D Printing Lab/Shopbot/videos/singleLines\\LapRD LapRD 1day\\I_3.00_S_3.00\n",
      "INFO: //cfs2e.nist.gov/642/internal/3D Printing Lab/Shopbot/videos/singleLines\\LapRD LapRD 1day\\I_3.00_S_3.50\n",
      "INFO: //cfs2e.nist.gov/642/internal/3D Printing Lab/Shopbot/videos/singleLines\\LapRD LapRD 1day\\I_3.00_S_4.00\n",
      "INFO: //cfs2e.nist.gov/642/internal/3D Printing Lab/Shopbot/videos/singleLines\\LapRD LapRD 1day\\I_3.50_S_2.25\n",
      "INFO: //cfs2e.nist.gov/642/internal/3D Printing Lab/Shopbot/videos/singleLines\\LapRD LapRD 1day\\I_3.50_S_2.50\n",
      "INFO: //cfs2e.nist.gov/642/internal/3D Printing Lab/Shopbot/videos/singleLines\\LapRD LapRD 1day\\I_3.50_S_2.75\n",
      "INFO: //cfs2e.nist.gov/642/internal/3D Printing Lab/Shopbot/videos/singleLines\\LapRD LapRD 1day\\I_3.50_S_3.00\n",
      "INFO: //cfs2e.nist.gov/642/internal/3D Printing Lab/Shopbot/videos/singleLines\\LapRD LapRD 1day\\I_3.50_S_3.50\n",
      "INFO: //cfs2e.nist.gov/642/internal/3D Printing Lab/Shopbot/videos/singleLines\\LapRD LapRD 1day\\I_3.50_S_4.00\n",
      "INFO: //cfs2e.nist.gov/642/internal/3D Printing Lab/Shopbot/videos/singleLines\\LapRD LapRD 1day\\I_4.00_S_2.25\n",
      "INFO: //cfs2e.nist.gov/642/internal/3D Printing Lab/Shopbot/videos/singleLines\\LapRD LapRD 1day\\I_4.00_S_2.50\n",
      "INFO: //cfs2e.nist.gov/642/internal/3D Printing Lab/Shopbot/videos/singleLines\\LapRD LapRD 1day\\I_4.00_S_2.75\n",
      "INFO: //cfs2e.nist.gov/642/internal/3D Printing Lab/Shopbot/videos/singleLines\\LapRD LapRD 1day\\I_4.00_S_3.00\n",
      "INFO: //cfs2e.nist.gov/642/internal/3D Printing Lab/Shopbot/videos/singleLines\\LapRD LapRD 1day\\I_4.00_S_3.50\n",
      "INFO: //cfs2e.nist.gov/642/internal/3D Printing Lab/Shopbot/videos/singleLines\\LapRD LapRD 1day\\I_4.00_S_4.00\n",
      "INFO: //cfs2e.nist.gov/642/internal/3D Printing Lab/Shopbot/videos/singleLines\\LapRD LapRD 3day\n",
      "INFO: //cfs2e.nist.gov/642/internal/3D Printing Lab/Shopbot/videos/singleLines\\LapRD LapRD 3day\\I_2.25_S_2.25\n",
      "INFO: //cfs2e.nist.gov/642/internal/3D Printing Lab/Shopbot/videos/singleLines\\LapRD LapRD 3day\\I_2.25_S_2.50\n",
      "INFO: //cfs2e.nist.gov/642/internal/3D Printing Lab/Shopbot/videos/singleLines\\LapRD LapRD 3day\\I_2.25_S_2.75\n",
      "INFO: //cfs2e.nist.gov/642/internal/3D Printing Lab/Shopbot/videos/singleLines\\LapRD LapRD 3day\\I_2.50_S_2.25\n",
      "INFO: //cfs2e.nist.gov/642/internal/3D Printing Lab/Shopbot/videos/singleLines\\LapRD LapRD 3day\\I_2.50_S_2.50\n",
      "INFO: //cfs2e.nist.gov/642/internal/3D Printing Lab/Shopbot/videos/singleLines\\LapRD LapRD 3day\\I_2.50_S_2.75\n",
      "INFO: //cfs2e.nist.gov/642/internal/3D Printing Lab/Shopbot/videos/singleLines\\LapRD LapRD 3day\\I_2.50_S_3.00\n",
      "INFO: //cfs2e.nist.gov/642/internal/3D Printing Lab/Shopbot/videos/singleLines\\LapRD LapRD 3day\\I_2.75_S_2.25\n",
      "INFO: //cfs2e.nist.gov/642/internal/3D Printing Lab/Shopbot/videos/singleLines\\LapRD LapRD 3day\\I_2.75_S_2.50\n",
      "INFO: //cfs2e.nist.gov/642/internal/3D Printing Lab/Shopbot/videos/singleLines\\LapRD LapRD 3day\\I_2.75_S_2.75\n",
      "INFO: //cfs2e.nist.gov/642/internal/3D Printing Lab/Shopbot/videos/singleLines\\LapRD LapRD 3day\\I_2.75_S_3.00\n",
      "INFO: //cfs2e.nist.gov/642/internal/3D Printing Lab/Shopbot/videos/singleLines\\LapRD LapRD 3day\\I_2.75_S_3.50\n",
      "INFO: //cfs2e.nist.gov/642/internal/3D Printing Lab/Shopbot/videos/singleLines\\LapRD LapRD 3day\\I_3.00_S_2.50\n",
      "INFO: //cfs2e.nist.gov/642/internal/3D Printing Lab/Shopbot/videos/singleLines\\LapRD LapRD 3day\\I_3.00_S_2.75\n",
      "INFO: //cfs2e.nist.gov/642/internal/3D Printing Lab/Shopbot/videos/singleLines\\LapRD LapRD 3day\\I_3.00_S_3.00\n",
      "INFO: //cfs2e.nist.gov/642/internal/3D Printing Lab/Shopbot/videos/singleLines\\LapRD LapRD 3day\\I_3.00_S_3.50\n",
      "INFO: //cfs2e.nist.gov/642/internal/3D Printing Lab/Shopbot/videos/singleLines\\LapRD LapRD 3day\\I_3.00_S_4.00\n",
      "INFO: //cfs2e.nist.gov/642/internal/3D Printing Lab/Shopbot/videos/singleLines\\LapRD LapRD 3day\\I_3.50_S_2.75\n",
      "INFO: //cfs2e.nist.gov/642/internal/3D Printing Lab/Shopbot/videos/singleLines\\LapRD LapRD 3day\\I_3.50_S_3.00\n",
      "INFO: //cfs2e.nist.gov/642/internal/3D Printing Lab/Shopbot/videos/singleLines\\LapRD LapRD 3day\\I_3.50_S_3.50\n",
      "INFO: //cfs2e.nist.gov/642/internal/3D Printing Lab/Shopbot/videos/singleLines\\LapRD LapRD 3day\\I_3.50_S_4.00\n",
      "INFO: //cfs2e.nist.gov/642/internal/3D Printing Lab/Shopbot/videos/singleLines\\LapRD LapRD 3day\\I_4.00_S_3.00\n",
      "INFO: //cfs2e.nist.gov/642/internal/3D Printing Lab/Shopbot/videos/singleLines\\LapRD LapRD 3day\\I_4.00_S_3.50\n",
      "INFO: //cfs2e.nist.gov/642/internal/3D Printing Lab/Shopbot/videos/singleLines\\LapRD LapRD 3day\\I_4.00_S_4.00\n",
      "INFO: //cfs2e.nist.gov/642/internal/3D Printing Lab/Shopbot/videos/singleLines\\mineral812 LapRD\n",
      "INFO: //cfs2e.nist.gov/642/internal/3D Printing Lab/Shopbot/videos/singleLines\\mineral812 LapRD\\I_M4_S_2.25\n",
      "INFO: //cfs2e.nist.gov/642/internal/3D Printing Lab/Shopbot/videos/singleLines\\mineral812 LapRD\\I_M4_S_2.50\n",
      "INFO: //cfs2e.nist.gov/642/internal/3D Printing Lab/Shopbot/videos/singleLines\\mineral812 LapRD\\I_M4_S_2.75\n",
      "INFO: //cfs2e.nist.gov/642/internal/3D Printing Lab/Shopbot/videos/singleLines\\mineral812 LapRD\\I_M4_S_3.00\n",
      "INFO: //cfs2e.nist.gov/642/internal/3D Printing Lab/Shopbot/videos/singleLines\\mineral812 LapRD\\I_M4_S_3.50\n",
      "INFO: //cfs2e.nist.gov/642/internal/3D Printing Lab/Shopbot/videos/singleLines\\mineral812 LapRD\\I_M4_S_4.00\n",
      "INFO: //cfs2e.nist.gov/642/internal/3D Printing Lab/Shopbot/videos/singleLines\\mineral812 LapRD\\I_M5_S_2.25\n",
      "INFO: //cfs2e.nist.gov/642/internal/3D Printing Lab/Shopbot/videos/singleLines\\mineral812 LapRD\\I_M5_S_2.50\n",
      "INFO: //cfs2e.nist.gov/642/internal/3D Printing Lab/Shopbot/videos/singleLines\\mineral812 LapRD\\I_M5_S_2.75\n",
      "INFO: //cfs2e.nist.gov/642/internal/3D Printing Lab/Shopbot/videos/singleLines\\mineral812 LapRD\\I_M5_S_3.00\n",
      "INFO: //cfs2e.nist.gov/642/internal/3D Printing Lab/Shopbot/videos/singleLines\\mineral812 LapRD\\I_M5_S_3.50\n",
      "INFO: //cfs2e.nist.gov/642/internal/3D Printing Lab/Shopbot/videos/singleLines\\mineral812 LapRD\\I_M5_S_4.00\n",
      "INFO: //cfs2e.nist.gov/642/internal/3D Printing Lab/Shopbot/videos/singleLines\\mineral812 LapRD\\I_M6_S_2.25\n",
      "INFO: //cfs2e.nist.gov/642/internal/3D Printing Lab/Shopbot/videos/singleLines\\mineral812 LapRD\\I_M6_S_2.50\n",
      "INFO: //cfs2e.nist.gov/642/internal/3D Printing Lab/Shopbot/videos/singleLines\\mineral812 LapRD\\I_M6_S_2.75\n",
      "INFO: //cfs2e.nist.gov/642/internal/3D Printing Lab/Shopbot/videos/singleLines\\mineral812 LapRD\\I_M6_S_3.00\n",
      "INFO: //cfs2e.nist.gov/642/internal/3D Printing Lab/Shopbot/videos/singleLines\\mineral812 LapRD\\I_M6_S_3.50\n",
      "INFO: //cfs2e.nist.gov/642/internal/3D Printing Lab/Shopbot/videos/singleLines\\mineral812 LapRD\\I_M6_S_4.00\n",
      "INFO: //cfs2e.nist.gov/642/internal/3D Printing Lab/Shopbot/videos/singleLines\\mineral812 LapRD\\I_M7_S_2.25\n",
      "INFO: //cfs2e.nist.gov/642/internal/3D Printing Lab/Shopbot/videos/singleLines\\mineral812 LapRD\\I_M7_S_2.50\n",
      "INFO: //cfs2e.nist.gov/642/internal/3D Printing Lab/Shopbot/videos/singleLines\\mineral812 LapRD\\I_M7_S_2.75\n",
      "INFO: //cfs2e.nist.gov/642/internal/3D Printing Lab/Shopbot/videos/singleLines\\mineral812 LapRD\\I_M7_S_3.00\n",
      "INFO: //cfs2e.nist.gov/642/internal/3D Printing Lab/Shopbot/videos/singleLines\\mineral812 LapRD\\I_M7_S_3.50\n",
      "INFO: //cfs2e.nist.gov/642/internal/3D Printing Lab/Shopbot/videos/singleLines\\mineral812 LapRD\\I_M7_S_4.00\n",
      "INFO: //cfs2e.nist.gov/642/internal/3D Printing Lab/Shopbot/videos/singleLines\\mineral812 LapRD\\I_M8_S_2.25\n",
      "INFO: //cfs2e.nist.gov/642/internal/3D Printing Lab/Shopbot/videos/singleLines\\mineral812 LapRD\\I_M8_S_2.50\n",
      "INFO: //cfs2e.nist.gov/642/internal/3D Printing Lab/Shopbot/videos/singleLines\\mineral812 LapRD\\I_M8_S_2.75\n",
      "INFO: //cfs2e.nist.gov/642/internal/3D Printing Lab/Shopbot/videos/singleLines\\mineral812 LapRD\\I_M8_S_3.00\n",
      "INFO: //cfs2e.nist.gov/642/internal/3D Printing Lab/Shopbot/videos/singleLines\\mineral812 LapRD\\I_M8_S_3.50\n",
      "INFO: //cfs2e.nist.gov/642/internal/3D Printing Lab/Shopbot/videos/singleLines\\mineral812 LapRD\\I_M8_S_4.00\n",
      "INFO: //cfs2e.nist.gov/642/internal/3D Printing Lab/Shopbot/videos/singleLines\\mineral812 LapRD\\I_M9_S_2.25\n",
      "INFO: //cfs2e.nist.gov/642/internal/3D Printing Lab/Shopbot/videos/singleLines\\mineral812 LapRD\\I_M9_S_2.50\n",
      "INFO: //cfs2e.nist.gov/642/internal/3D Printing Lab/Shopbot/videos/singleLines\\mineral812 LapRD\\I_M9_S_2.75\n",
      "INFO: //cfs2e.nist.gov/642/internal/3D Printing Lab/Shopbot/videos/singleLines\\mineral812 LapRD\\I_M9_S_3.00\n",
      "INFO: //cfs2e.nist.gov/642/internal/3D Printing Lab/Shopbot/videos/singleLines\\mineral812 LapRD\\I_M9_S_3.50\n",
      "INFO: //cfs2e.nist.gov/642/internal/3D Printing Lab/Shopbot/videos/singleLines\\mineral812 LapRD\\I_M9_S_4.00\n",
      "INFO: //cfs2e.nist.gov/642/internal/3D Printing Lab/Shopbot/videos/singleLines\\mineral812S LapRDT\n",
      "INFO: //cfs2e.nist.gov/642/internal/3D Printing Lab/Shopbot/videos/singleLines\\mineral812S LapRDT\\I_M4S_S_2.25T\n",
      "INFO: //cfs2e.nist.gov/642/internal/3D Printing Lab/Shopbot/videos/singleLines\\mineral812S LapRDT\\I_M4S_S_2.50T\n",
      "INFO: //cfs2e.nist.gov/642/internal/3D Printing Lab/Shopbot/videos/singleLines\\mineral812S LapRDT\\I_M4S_S_2.75T\n",
      "INFO: //cfs2e.nist.gov/642/internal/3D Printing Lab/Shopbot/videos/singleLines\\mineral812S LapRDT\\I_M4S_S_3.00T\n",
      "INFO: //cfs2e.nist.gov/642/internal/3D Printing Lab/Shopbot/videos/singleLines\\mineral812S LapRDT\\I_M5S_S_2.25T\n",
      "INFO: //cfs2e.nist.gov/642/internal/3D Printing Lab/Shopbot/videos/singleLines\\mineral812S LapRDT\\I_M5S_S_2.50T\n",
      "INFO: //cfs2e.nist.gov/642/internal/3D Printing Lab/Shopbot/videos/singleLines\\mineral812S LapRDT\\I_M5S_S_2.75T\n",
      "INFO: //cfs2e.nist.gov/642/internal/3D Printing Lab/Shopbot/videos/singleLines\\mineral812S LapRDT\\I_M5S_S_3.00T\n",
      "INFO: //cfs2e.nist.gov/642/internal/3D Printing Lab/Shopbot/videos/singleLines\\mineral812S LapRDT\\I_M6S_S_2.25T\n",
      "INFO: //cfs2e.nist.gov/642/internal/3D Printing Lab/Shopbot/videos/singleLines\\mineral812S LapRDT\\I_M6S_S_2.50T\n",
      "INFO: //cfs2e.nist.gov/642/internal/3D Printing Lab/Shopbot/videos/singleLines\\mineral812S LapRDT\\I_M6S_S_2.75T\n",
      "INFO: //cfs2e.nist.gov/642/internal/3D Printing Lab/Shopbot/videos/singleLines\\mineral812S LapRDT\\I_M6S_S_3.00T\n",
      "INFO: //cfs2e.nist.gov/642/internal/3D Printing Lab/Shopbot/videos/singleLines\\mineral812S LapRDT\\I_M6S_S_3.50T\n",
      "INFO: //cfs2e.nist.gov/642/internal/3D Printing Lab/Shopbot/videos/singleLines\\mineral812S LapRDT\\I_M7S_S_2.25T\n",
      "INFO: //cfs2e.nist.gov/642/internal/3D Printing Lab/Shopbot/videos/singleLines\\mineral812S LapRDT\\I_M7S_S_2.50T\n",
      "INFO: //cfs2e.nist.gov/642/internal/3D Printing Lab/Shopbot/videos/singleLines\\mineral812S LapRDT\\I_M7S_S_2.75T\n",
      "INFO: //cfs2e.nist.gov/642/internal/3D Printing Lab/Shopbot/videos/singleLines\\mineral812S LapRDT\\I_M7S_S_3.00T\n",
      "INFO: //cfs2e.nist.gov/642/internal/3D Printing Lab/Shopbot/videos/singleLines\\mineral812S LapRDT\\I_M7S_S_3.50T\n",
      "INFO: //cfs2e.nist.gov/642/internal/3D Printing Lab/Shopbot/videos/singleLines\\mineral812S LapRDT\\I_M7S_S_4.00T\n",
      "INFO: //cfs2e.nist.gov/642/internal/3D Printing Lab/Shopbot/videos/singleLines\\mineral812S LapRDT\\I_M8S_S_2.25T\n",
      "INFO: //cfs2e.nist.gov/642/internal/3D Printing Lab/Shopbot/videos/singleLines\\mineral812S LapRDT\\I_M8S_S_2.50T\n",
      "INFO: //cfs2e.nist.gov/642/internal/3D Printing Lab/Shopbot/videos/singleLines\\mineral812S LapRDT\\I_M8S_S_2.75T\n",
      "INFO: //cfs2e.nist.gov/642/internal/3D Printing Lab/Shopbot/videos/singleLines\\mineral812S LapRDT\\I_M8S_S_3.00T\n",
      "INFO: //cfs2e.nist.gov/642/internal/3D Printing Lab/Shopbot/videos/singleLines\\mineral812S LapRDT\\I_M8S_S_3.50T\n",
      "INFO: //cfs2e.nist.gov/642/internal/3D Printing Lab/Shopbot/videos/singleLines\\mineral812S LapRDT\\I_M8S_S_4.00T\n",
      "INFO: //cfs2e.nist.gov/642/internal/3D Printing Lab/Shopbot/videos/singleLines\\mineral812S LapRDT\\I_M9S_S_2.25T\n",
      "INFO: //cfs2e.nist.gov/642/internal/3D Printing Lab/Shopbot/videos/singleLines\\mineral812S LapRDT\\I_M9S_S_2.50T\n",
      "INFO: //cfs2e.nist.gov/642/internal/3D Printing Lab/Shopbot/videos/singleLines\\mineral812S LapRDT\\I_M9S_S_2.75T\n",
      "INFO: //cfs2e.nist.gov/642/internal/3D Printing Lab/Shopbot/videos/singleLines\\mineral812S LapRDT\\I_M9S_S_3.00T\n",
      "INFO: //cfs2e.nist.gov/642/internal/3D Printing Lab/Shopbot/videos/singleLines\\mineral812S LapRDT\\I_M9S_S_3.50T\n",
      "INFO: //cfs2e.nist.gov/642/internal/3D Printing Lab/Shopbot/videos/singleLines\\mineral812S LapRDT\\I_M9S_S_4.00T\n",
      "INFO: //cfs2e.nist.gov/642/internal/3D Printing Lab/Shopbot/videos/singleLines\\PDMSM LapRD\n",
      "INFO: //cfs2e.nist.gov/642/internal/3D Printing Lab/Shopbot/videos/singleLines\\PDMSM LapRD\\I_PDMSM10_S_2.25\n",
      "INFO: //cfs2e.nist.gov/642/internal/3D Printing Lab/Shopbot/videos/singleLines\\PDMSM LapRD\\I_PDMSM10_S_2.50\n",
      "INFO: //cfs2e.nist.gov/642/internal/3D Printing Lab/Shopbot/videos/singleLines\\PDMSM LapRD\\I_PDMSM10_S_2.75\n",
      "INFO: //cfs2e.nist.gov/642/internal/3D Printing Lab/Shopbot/videos/singleLines\\PDMSM LapRD\\I_PDMSM10_S_3.00\n",
      "INFO: //cfs2e.nist.gov/642/internal/3D Printing Lab/Shopbot/videos/singleLines\\PDMSM LapRD\\I_PDMSM10_S_3.50\n",
      "INFO: //cfs2e.nist.gov/642/internal/3D Printing Lab/Shopbot/videos/singleLines\\PDMSM LapRD\\I_PDMSM10_S_4.00\n",
      "INFO: //cfs2e.nist.gov/642/internal/3D Printing Lab/Shopbot/videos/singleLines\\PDMSM LapRD\\I_PDMSM5_S_2.25\n",
      "INFO: //cfs2e.nist.gov/642/internal/3D Printing Lab/Shopbot/videos/singleLines\\PDMSM LapRD\\I_PDMSM5_S_2.50\n",
      "INFO: //cfs2e.nist.gov/642/internal/3D Printing Lab/Shopbot/videos/singleLines\\PDMSM LapRD\\I_PDMSM5_S_2.75\n",
      "INFO: //cfs2e.nist.gov/642/internal/3D Printing Lab/Shopbot/videos/singleLines\\PDMSM LapRD\\I_PDMSM5_S_3.00\n",
      "INFO: //cfs2e.nist.gov/642/internal/3D Printing Lab/Shopbot/videos/singleLines\\PDMSM LapRD\\I_PDMSM7.5_S_2.25\n",
      "INFO: //cfs2e.nist.gov/642/internal/3D Printing Lab/Shopbot/videos/singleLines\\PDMSM LapRD\\I_PDMSM7.5_S_2.50\n",
      "INFO: //cfs2e.nist.gov/642/internal/3D Printing Lab/Shopbot/videos/singleLines\\PDMSM LapRD\\I_PDMSM7.5_S_2.75\n",
      "INFO: //cfs2e.nist.gov/642/internal/3D Printing Lab/Shopbot/videos/singleLines\\PDMSM LapRD\\I_PDMSM7.5_S_3.00\n",
      "INFO: //cfs2e.nist.gov/642/internal/3D Printing Lab/Shopbot/videos/singleLines\\PDMSM LapRD\\I_PDMSM7.5_S_3.50\n",
      "INFO: //cfs2e.nist.gov/642/internal/3D Printing Lab/Shopbot/videos/singleLines\\PDMSM LapRD\\I_PDMSM7.5_S_4.00\n",
      "INFO: //cfs2e.nist.gov/642/internal/3D Printing Lab/Shopbot/videos/singleLines\\PDMSS LapRD\n",
      "INFO: //cfs2e.nist.gov/642/internal/3D Printing Lab/Shopbot/videos/singleLines\\PDMSS LapRD\\I_PDMSS10_S_2.25\n",
      "INFO: //cfs2e.nist.gov/642/internal/3D Printing Lab/Shopbot/videos/singleLines\\PDMSS LapRD\\I_PDMSS10_S_2.50\n",
      "INFO: //cfs2e.nist.gov/642/internal/3D Printing Lab/Shopbot/videos/singleLines\\PDMSS LapRD\\I_PDMSS10_S_2.75\n",
      "INFO: //cfs2e.nist.gov/642/internal/3D Printing Lab/Shopbot/videos/singleLines\\PDMSS LapRD\\I_PDMSS10_S_3.00\n",
      "INFO: //cfs2e.nist.gov/642/internal/3D Printing Lab/Shopbot/videos/singleLines\\PDMSS LapRD\\I_PDMSS10_S_3.50\n",
      "INFO: //cfs2e.nist.gov/642/internal/3D Printing Lab/Shopbot/videos/singleLines\\PDMSS LapRD\\I_PDMSS10_S_4.00\n",
      "INFO: //cfs2e.nist.gov/642/internal/3D Printing Lab/Shopbot/videos/singleLines\\PDMSS LapRD\\I_PDMSS12.5_S_2.75\n",
      "INFO: //cfs2e.nist.gov/642/internal/3D Printing Lab/Shopbot/videos/singleLines\\PDMSS LapRD\\I_PDMSS12.5_S_3.00\n",
      "INFO: //cfs2e.nist.gov/642/internal/3D Printing Lab/Shopbot/videos/singleLines\\PDMSS LapRD\\I_PDMSS12.5_S_3.50\n",
      "INFO: //cfs2e.nist.gov/642/internal/3D Printing Lab/Shopbot/videos/singleLines\\PDMSS LapRD\\I_PDMSS12.5_S_4.00\n",
      "INFO: //cfs2e.nist.gov/642/internal/3D Printing Lab/Shopbot/videos/singleLines\\PDMSS LapRD\\I_PDMSS5_S_2.25\n",
      "INFO: //cfs2e.nist.gov/642/internal/3D Printing Lab/Shopbot/videos/singleLines\\PDMSS LapRD\\I_PDMSS5_S_2.50\n",
      "INFO: //cfs2e.nist.gov/642/internal/3D Printing Lab/Shopbot/videos/singleLines\\PDMSS LapRD\\I_PDMSS5_S_2.75\n",
      "INFO: //cfs2e.nist.gov/642/internal/3D Printing Lab/Shopbot/videos/singleLines\\PDMSS LapRD\\I_PDMSS5_S_3.00\n",
      "INFO: //cfs2e.nist.gov/642/internal/3D Printing Lab/Shopbot/videos/singleLines\\PDMSS LapRD\\I_PDMSS7.5_S_2.25\n",
      "INFO: //cfs2e.nist.gov/642/internal/3D Printing Lab/Shopbot/videos/singleLines\\PDMSS LapRD\\I_PDMSS7.5_S_2.50\n",
      "INFO: //cfs2e.nist.gov/642/internal/3D Printing Lab/Shopbot/videos/singleLines\\PDMSS LapRD\\I_PDMSS7.5_S_2.75\n",
      "INFO: //cfs2e.nist.gov/642/internal/3D Printing Lab/Shopbot/videos/singleLines\\PDMSS LapRD\\I_PDMSS7.5_S_3.00\n",
      "INFO: //cfs2e.nist.gov/642/internal/3D Printing Lab/Shopbot/videos/singleLines\\PDMSS LapRD\\I_PDMSS7.5_S_3.50\n",
      "INFO: //cfs2e.nist.gov/642/internal/3D Printing Lab/Shopbot/videos/singleLines\\PDMSS LapRD\\I_PDMSS7.5_S_4.00\n",
      "INFO: //cfs2e.nist.gov/642/internal/3D Printing Lab/Shopbot/videos/singleLines\\PEGDA LapRD\n",
      "INFO: //cfs2e.nist.gov/642/internal/3D Printing Lab/Shopbot/videos/singleLines\\PEGDA LapRD\\I_PEG10_S_2.25\n",
      "INFO: //cfs2e.nist.gov/642/internal/3D Printing Lab/Shopbot/videos/singleLines\\PEGDA LapRD\\I_PEG10_S_2.50\n",
      "INFO: //cfs2e.nist.gov/642/internal/3D Printing Lab/Shopbot/videos/singleLines\\PEGDA LapRD\\I_PEG10_S_2.75\n",
      "INFO: //cfs2e.nist.gov/642/internal/3D Printing Lab/Shopbot/videos/singleLines\\PEGDA LapRD\\I_PEG10_S_3.00\n",
      "INFO: //cfs2e.nist.gov/642/internal/3D Printing Lab/Shopbot/videos/singleLines\\PEGDA LapRD\\I_PEG10_S_3.50\n",
      "INFO: //cfs2e.nist.gov/642/internal/3D Printing Lab/Shopbot/videos/singleLines\\PEGDA LapRD\\I_PEG10_S_4.00\n",
      "INFO: //cfs2e.nist.gov/642/internal/3D Printing Lab/Shopbot/videos/singleLines\\PEGDA LapRD\\I_PEG12.5_S_2.25\n",
      "INFO: //cfs2e.nist.gov/642/internal/3D Printing Lab/Shopbot/videos/singleLines\\PEGDA LapRD\\I_PEG12.5_S_2.50\n",
      "INFO: //cfs2e.nist.gov/642/internal/3D Printing Lab/Shopbot/videos/singleLines\\PEGDA LapRD\\I_PEG12.5_S_2.75\n",
      "INFO: //cfs2e.nist.gov/642/internal/3D Printing Lab/Shopbot/videos/singleLines\\PEGDA LapRD\\I_PEG12.5_S_3.00\n",
      "INFO: //cfs2e.nist.gov/642/internal/3D Printing Lab/Shopbot/videos/singleLines\\PEGDA LapRD\\I_PEG12.5_S_3.50\n",
      "INFO: //cfs2e.nist.gov/642/internal/3D Printing Lab/Shopbot/videos/singleLines\\PEGDA LapRD\\I_PEG12.5_S_4.00\n",
      "INFO: //cfs2e.nist.gov/642/internal/3D Printing Lab/Shopbot/videos/singleLines\\PEGDA LapRD\\I_PEG5_S_2.25\n",
      "INFO: //cfs2e.nist.gov/642/internal/3D Printing Lab/Shopbot/videos/singleLines\\PEGDA LapRD\\I_PEG5_S_2.50\n",
      "INFO: //cfs2e.nist.gov/642/internal/3D Printing Lab/Shopbot/videos/singleLines\\PEGDA LapRD\\I_PEG5_S_2.75\n",
      "INFO: //cfs2e.nist.gov/642/internal/3D Printing Lab/Shopbot/videos/singleLines\\PEGDA LapRD\\I_PEG5_S_3.00\n",
      "INFO: //cfs2e.nist.gov/642/internal/3D Printing Lab/Shopbot/videos/singleLines\\PEGDA LapRD\\I_PEG5_S_3.50\n",
      "INFO: //cfs2e.nist.gov/642/internal/3D Printing Lab/Shopbot/videos/singleLines\\PEGDA LapRD\\I_PEG5_S_4.00\n",
      "INFO: //cfs2e.nist.gov/642/internal/3D Printing Lab/Shopbot/videos/singleLines\\PEGDA LapRD\\I_PEG7.5_S_2.25\n",
      "INFO: //cfs2e.nist.gov/642/internal/3D Printing Lab/Shopbot/videos/singleLines\\PEGDA LapRD\\I_PEG7.5_S_2.50\n",
      "INFO: //cfs2e.nist.gov/642/internal/3D Printing Lab/Shopbot/videos/singleLines\\PEGDA LapRD\\I_PEG7.5_S_2.75\n",
      "INFO: //cfs2e.nist.gov/642/internal/3D Printing Lab/Shopbot/videos/singleLines\\PEGDA LapRD\\I_PEG7.5_S_3.00\n",
      "INFO: //cfs2e.nist.gov/642/internal/3D Printing Lab/Shopbot/videos/singleLines\\PEGDA LapRD\\I_PEG7.5_S_3.50\n",
      "INFO: //cfs2e.nist.gov/642/internal/3D Printing Lab/Shopbot/videos/singleLines\\PEGDA LapRD\\I_PEG7.5_S_4.00\n",
      "INFO: //cfs2e.nist.gov/642/internal/3D Printing Lab/Shopbot/videos/singleLines\\vels LapRD LapRD 1day\n",
      "INFO: //cfs2e.nist.gov/642/internal/3D Printing Lab/Shopbot/videos/singleLines\\vels LapRD LapRD 1day\\I_2.75_S_2.25\n",
      "INFO: //cfs2e.nist.gov/642/internal/3D Printing Lab/Shopbot/videos/singleLines\\vels LapRD LapRD 1day\\I_2.75_S_2.50\n",
      "INFO: //cfs2e.nist.gov/642/internal/3D Printing Lab/Shopbot/videos/singleLines\\vels LapRD LapRD 1day\\I_2.75_S_2.75\n",
      "INFO: //cfs2e.nist.gov/642/internal/3D Printing Lab/Shopbot/videos/singleLines\\vels LapRD LapRD 1day\\I_2.75_S_3.00\n",
      "INFO: //cfs2e.nist.gov/642/internal/3D Printing Lab/Shopbot/videos/singleLines\\vels LapRD LapRD 1day\\I_2.75_S_3.50\n",
      "INFO: //cfs2e.nist.gov/642/internal/3D Printing Lab/Shopbot/videos/singleLines\\vels LapRD LapRD 1day\\I_2.75_S_4.00\n",
      "INFO: //cfs2e.nist.gov/642/internal/3D Printing Lab/Shopbot/videos/singleLines\\vels LapRD LapRD 1day\\I_3.00_S_3.00\n",
      "INFO: //cfs2e.nist.gov/642/internal/3D Printing Lab/Shopbot/videos/singleLines\\vels LapRD LapRD 1day\\I_3.50_S_2.50\n",
      "INFO: //cfs2e.nist.gov/642/internal/3D Printing Lab/Shopbot/videos/singleLines\\vels mineral LapRD\n",
      "INFO: //cfs2e.nist.gov/642/internal/3D Printing Lab/Shopbot/videos/singleLines\\vels mineral LapRD\\I_M5_S_3.00\n",
      "INFO: //cfs2e.nist.gov/642/internal/3D Printing Lab/Shopbot/videos/singleLines\\vels mineral LapRD\\I_M6_S_3.00\n",
      "INFO: Exported C:/Users/lmf1/OneDriveNIST/NIST/data/shopbot/results\\stillsSummary.csv\n"
     ]
    }
   ],
   "source": [
    "# newfolders = [os.path.join(cfg.path.server, r'singleLines\\vels LapRD LapRD 1day\\I_3.00_S_3.00\\I_3.00_S_3.00_VI_2.5_VS_10_211109')]\n",
    "newfolders = []\n",
    "tt, u = me.stillsSummary(os.path.join(cfg.path.server, r'singleLines'), cfg.path.fig, newfolders=newfolders)"
   ]
  },
  {
   "cell_type": "markdown",
   "id": "d2425e1a",
   "metadata": {},
   "source": [
    "### get a table of programmed timings from Fluigent records"
   ]
  },
  {
   "cell_type": "code",
   "execution_count": 72,
   "id": "8705bfd8",
   "metadata": {
    "collapsed": true,
    "jupyter": {
     "outputs_hidden": true
    }
   },
   "outputs": [
    {
     "name": "stdout",
     "output_type": "stream",
     "text": [
      "INFO: Exported //cfs2e.nist.gov/642/internal/3D Printing Lab/Shopbot/videos/singleLines\\mineral812S LapRDT\\I_M6S_S_2.50T\\I_M6S_S_2.50T_210922\\singleLinesNoZig_5_speeds_I_M6S_S_2.50T_210922_153212.csv\n",
      "INFO: Exported //cfs2e.nist.gov/642/internal/3D Printing Lab/Shopbot/videos/singleLines\\mineral812S LapRDT\\I_M7S_S_2.50T\\I_M7S_S_2.50T_210922\\singleLinesNoZig_5_speeds_I_M7S_S_2.50T_210922_161713.csv\n",
      "INFO: Exported //cfs2e.nist.gov/642/internal/3D Printing Lab/Shopbot/videos/singleLines\\PEGDA LapRD\\I_PEG10_S_2.25\\I_PEG10_S_2.25_211006\\I_PEG10_S_2.25_211006_progDims.csv\n",
      "INFO: Exported //cfs2e.nist.gov/642/internal/3D Printing Lab/Shopbot/videos/singleLines\\PEGDA LapRD\\I_PEG10_S_2.50\\I_PEG10_S_2.50_211006\\I_PEG10_S_2.50_211006_progDims.csv\n",
      "INFO: Exported //cfs2e.nist.gov/642/internal/3D Printing Lab/Shopbot/videos/singleLines\\PEGDA LapRD\\I_PEG10_S_2.75\\I_PEG10_S_2.75_211006\\I_PEG10_S_2.75_211006_progDims.csv\n",
      "INFO: Exported //cfs2e.nist.gov/642/internal/3D Printing Lab/Shopbot/videos/singleLines\\PEGDA LapRD\\I_PEG10_S_3.00\\I_PEG10_S_3.00_211006\\I_PEG10_S_3.00_211006_progDims.csv\n",
      "INFO: Exported //cfs2e.nist.gov/642/internal/3D Printing Lab/Shopbot/videos/singleLines\\PEGDA LapRD\\I_PEG10_S_3.50\\I_PEG10_S_3.50_211006\\I_PEG10_S_3.50_211006_progDims.csv\n",
      "INFO: Exported //cfs2e.nist.gov/642/internal/3D Printing Lab/Shopbot/videos/singleLines\\PEGDA LapRD\\I_PEG10_S_4.00\\I_PEG10_S_4.00_211006\\I_PEG10_S_4.00_211006_progDims.csv\n",
      "INFO: Exported //cfs2e.nist.gov/642/internal/3D Printing Lab/Shopbot/videos/singleLines\\PEGDA LapRD\\I_PEG12.5_S_2.25\\I_PEG12.5_S_2.25_211006\\I_PEG12.5_S_2.25_211006_progDims.csv\n",
      "INFO: Exported //cfs2e.nist.gov/642/internal/3D Printing Lab/Shopbot/videos/singleLines\\PEGDA LapRD\\I_PEG12.5_S_2.50\\I_PEG12.5_S_2.50_211006\\I_PEG12.5_S_2.50_211006_progDims.csv\n",
      "INFO: Exported //cfs2e.nist.gov/642/internal/3D Printing Lab/Shopbot/videos/singleLines\\PEGDA LapRD\\I_PEG12.5_S_2.75\\I_PEG12.5_S_2.75_211006\\I_PEG12.5_S_2.75_211006_progDims.csv\n",
      "INFO: Exported //cfs2e.nist.gov/642/internal/3D Printing Lab/Shopbot/videos/singleLines\\PEGDA LapRD\\I_PEG12.5_S_3.00\\I_PEG12.5_S_3.00_211006\\I_PEG12.5_S_3.00_211006_progDims.csv\n",
      "INFO: Exported //cfs2e.nist.gov/642/internal/3D Printing Lab/Shopbot/videos/singleLines\\PEGDA LapRD\\I_PEG12.5_S_3.50\\I_PEG12.5_S_3.50_211006\\I_PEG12.5_S_3.50_211006_progDims.csv\n",
      "INFO: Exported //cfs2e.nist.gov/642/internal/3D Printing Lab/Shopbot/videos/singleLines\\PEGDA LapRD\\I_PEG12.5_S_4.00\\I_PEG12.5_S_4.00_211006\\I_PEG12.5_S_4.00_211006_progDims.csv\n",
      "INFO: Exported //cfs2e.nist.gov/642/internal/3D Printing Lab/Shopbot/videos/singleLines\\PEGDA LapRD\\I_PEG5_S_2.25\\I_PEG5_S_2.25_211006\\I_PEG5_S_2.25_211006_progDims.csv\n",
      "INFO: Exported //cfs2e.nist.gov/642/internal/3D Printing Lab/Shopbot/videos/singleLines\\PEGDA LapRD\\I_PEG5_S_2.50\\I_PEG5_S_2.50_211006\\I_PEG5_S_2.50_211006_progDims.csv\n",
      "INFO: Exported //cfs2e.nist.gov/642/internal/3D Printing Lab/Shopbot/videos/singleLines\\PEGDA LapRD\\I_PEG5_S_2.75\\I_PEG5_S_2.75_211006\\I_PEG5_S_2.75_211006_progDims.csv\n",
      "INFO: Exported //cfs2e.nist.gov/642/internal/3D Printing Lab/Shopbot/videos/singleLines\\PEGDA LapRD\\I_PEG5_S_3.00\\I_PEG5_S_3.00_211006\\I_PEG5_S_3.00_211006_progDims.csv\n",
      "INFO: Exported //cfs2e.nist.gov/642/internal/3D Printing Lab/Shopbot/videos/singleLines\\PEGDA LapRD\\I_PEG5_S_3.50\\I_PEG5_S_3.50_211006\\I_PEG5_S_3.50_211006_progDims.csv\n",
      "INFO: Exported //cfs2e.nist.gov/642/internal/3D Printing Lab/Shopbot/videos/singleLines\\PEGDA LapRD\\I_PEG5_S_4.00\\I_PEG5_S_4.00_211006\\I_PEG5_S_4.00_211006_progDims.csv\n",
      "INFO: Exported //cfs2e.nist.gov/642/internal/3D Printing Lab/Shopbot/videos/singleLines\\PEGDA LapRD\\I_PEG7.5_S_2.25\\I_PEG7.5_S_2.25_211006\\I_PEG7.5_S_2.25_211006_progDims.csv\n",
      "INFO: Exported //cfs2e.nist.gov/642/internal/3D Printing Lab/Shopbot/videos/singleLines\\PEGDA LapRD\\I_PEG7.5_S_2.50\\I_PEG7.5_S_2.50_211006\\I_PEG7.5_S_2.50_211006_progDims.csv\n",
      "INFO: Exported //cfs2e.nist.gov/642/internal/3D Printing Lab/Shopbot/videos/singleLines\\PEGDA LapRD\\I_PEG7.5_S_2.75\\I_PEG7.5_S_2.75_211006\\I_PEG7.5_S_2.75_211006_progDims.csv\n",
      "INFO: Exported //cfs2e.nist.gov/642/internal/3D Printing Lab/Shopbot/videos/singleLines\\PEGDA LapRD\\I_PEG7.5_S_2.75\\I_PEG7.5_S_2.75_v2_211006\\I_PEG7.5_S_2.75_v2_211006_progDims.csv\n",
      "INFO: Exported //cfs2e.nist.gov/642/internal/3D Printing Lab/Shopbot/videos/singleLines\\PEGDA LapRD\\I_PEG7.5_S_3.00\\I_PEG7.5_S_3.00_211006\\I_PEG7.5_S_3.00_211006_progDims.csv\n",
      "INFO: Exported //cfs2e.nist.gov/642/internal/3D Printing Lab/Shopbot/videos/singleLines\\PEGDA LapRD\\I_PEG7.5_S_3.50\\I_PEG7.5_S_3.50_211006\\I_PEG7.5_S_3.50_211006_progDims.csv\n",
      "INFO: Exported //cfs2e.nist.gov/642/internal/3D Printing Lab/Shopbot/videos/singleLines\\PEGDA LapRD\\I_PEG7.5_S_4.00\\I_PEG7.5_S_4.00_211006\\I_PEG7.5_S_4.00_211006_progDims.csv\n",
      "INFO: Exported C:/Users/lmf1/OneDriveNIST/NIST/data/shopbot/results\\progTable.csv\n"
     ]
    }
   ],
   "source": [
    "tt, u = me.progTable(os.path.join(cfg.path.server, 'singleLines'), cfg.path.fig, 'progTable.csv', overwrite=False)"
   ]
  },
  {
   "cell_type": "markdown",
   "id": "d7b9f34c",
   "metadata": {},
   "source": [
    "### get a table of originally intended timings"
   ]
  },
  {
   "cell_type": "code",
   "execution_count": 36,
   "id": "c3ecd5da",
   "metadata": {},
   "outputs": [
    {
     "name": "stdout",
     "output_type": "stream",
     "text": [
      "INFO: Exported C:/Users/lmf1/OneDriveNIST/NIST/data/shopbot/results\\progTableDefault.csv\n"
     ]
    }
   ],
   "source": [
    "ttdefault, u2 = me.progTable(os.path.join(cfg.path.server, 'singleLines', 'vels mineral LapRD'), cfg.path.fig, 'progTableDefault.csv', useDefault=True)"
   ]
  }
 ],
 "metadata": {
  "kernelspec": {
   "display_name": "Python 3",
   "language": "python",
   "name": "python3"
  },
  "language_info": {
   "codemirror_mode": {
    "name": "ipython",
    "version": 3
   },
   "file_extension": ".py",
   "mimetype": "text/x-python",
   "name": "python",
   "nbconvert_exporter": "python",
   "pygments_lexer": "ipython3",
   "version": "3.7.7"
  }
 },
 "nbformat": 4,
 "nbformat_minor": 5
}
