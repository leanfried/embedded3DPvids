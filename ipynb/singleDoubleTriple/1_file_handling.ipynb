{
 "cells": [
  {
   "cell_type": "markdown",
   "metadata": {},
   "source": [
    "# Sort files in folder\n",
    "Leanne Friedrich 9/29/22"
   ]
  },
  {
   "cell_type": "markdown",
   "metadata": {},
   "source": [
    "# initialization"
   ]
  },
  {
   "cell_type": "code",
   "execution_count": 1,
   "metadata": {
    "tags": []
   },
   "outputs": [],
   "source": [
    "%load_ext autoreload\n",
    "%autoreload 2\n",
    "LOGGERDEFINED = False"
   ]
  },
  {
   "cell_type": "code",
   "execution_count": 2,
   "metadata": {
    "tags": []
   },
   "outputs": [],
   "source": [
    "import os\n",
    "import sys\n",
    "sys.path.append(\"../\")\n",
    "sys.path.append(\"../../\")\n",
    "import py.file.file_handling as fh\n",
    "from py.tools.config import cfg\n",
    "import py.tools.logs as logs\n",
    "LOGGERDEFINED = logs.openLog('fileHandling.ipynb', LOGGERDEFINED, level='DEBUG', exportLog=False)"
   ]
  },
  {
   "cell_type": "markdown",
   "metadata": {},
   "source": [
    "# Sort and rename files and folders"
   ]
  },
  {
   "cell_type": "code",
   "execution_count": 4,
   "metadata": {
    "tags": []
   },
   "outputs": [
    {
     "name": "stdout",
     "output_type": "stream",
     "text": [
      "INFO: Moved //cfs2e.nist.gov/642/internal/3D Printing Lab/Shopbot/videos\\SDT\\PDMSS\\I_PDMSS10_S_3.00_230822 to //cfs2e.nist.gov/642/internal/3D Printing Lab/Shopbot/videos\\SDT\\PDMSS\\I_PDMSS10_S_3.00\\I_PDMSS10_S_3.00_230822\n",
      "INFO: Moved //cfs2e.nist.gov/642/internal/3D Printing Lab/Shopbot/videos\\SDT\\PDMSS\\I_PDMSS10_S_3.50_230822 to //cfs2e.nist.gov/642/internal/3D Printing Lab/Shopbot/videos\\SDT\\PDMSS\\I_PDMSS10_S_3.50\\I_PDMSS10_S_3.50_230822\n",
      "INFO: Moved //cfs2e.nist.gov/642/internal/3D Printing Lab/Shopbot/videos\\SDT\\PDMSS\\I_PDMSS10_S_4.00_230822 to //cfs2e.nist.gov/642/internal/3D Printing Lab/Shopbot/videos\\SDT\\PDMSS\\I_PDMSS10_S_4.00\\I_PDMSS10_S_4.00_230822\n"
     ]
    }
   ],
   "source": [
    "fh.sortRecursive(os.path.join(cfg.path.server, r'SDT\\PDMSS'), debug=False)"
   ]
  },
  {
   "cell_type": "code",
   "execution_count": 222,
   "metadata": {
    "tags": []
   },
   "outputs": [
    {
     "name": "stdout",
     "output_type": "stream",
     "text": [
      "INFO: Moved //cfs2e.nist.gov/642/internal/3D Printing Lab/Shopbot/videos\\SDT\\PDMSS_S85-0.05\\I_PDMSS8-S85-0.05_S_3.00_230818 to //cfs2e.nist.gov/642/internal/3D Printing Lab/Shopbot/videos\\SDT\\PDMSS_S85-0.05\\I_PDMSS8-S85-0.05_S_3.00\\I_PDMSS8-S85-0.05_S_3.00_230818\n",
      "INFO: Moved //cfs2e.nist.gov/642/internal/3D Printing Lab/Shopbot/videos\\SDT\\PDMSS_S85-0.05\\I_PDMSS8-S85-0.05_S_3.50_230818 to //cfs2e.nist.gov/642/internal/3D Printing Lab/Shopbot/videos\\SDT\\PDMSS_S85-0.05\\I_PDMSS8-S85-0.05_S_3.50\\I_PDMSS8-S85-0.05_S_3.50_230818\n",
      "INFO: Moved //cfs2e.nist.gov/642/internal/3D Printing Lab/Shopbot/videos\\SDT\\PDMSS_S85-0.05\\I_PDMSS8-S85-0.05_S_4.00_230818 to //cfs2e.nist.gov/642/internal/3D Printing Lab/Shopbot/videos\\SDT\\PDMSS_S85-0.05\\I_PDMSS8-S85-0.05_S_4.00\\I_PDMSS8-S85-0.05_S_4.00_230818\n"
     ]
    }
   ],
   "source": [
    "fh.sortRecursive(os.path.join(cfg.path.server, r'SDT\\PDMSS_S85-0.05'), debug=False)"
   ]
  },
  {
   "cell_type": "code",
   "execution_count": 8,
   "metadata": {
    "collapsed": true,
    "jupyter": {
     "outputs_hidden": true
    },
    "tags": []
   },
   "outputs": [
    {
     "ename": "KeyboardInterrupt",
     "evalue": "",
     "output_type": "error",
     "traceback": [
      "\u001b[1;31m---------------------------------------------------------------------------\u001b[0m",
      "\u001b[1;31mKeyboardInterrupt\u001b[0m                         Traceback (most recent call last)",
      "Cell \u001b[1;32mIn[8], line 3\u001b[0m\n\u001b[0;32m      1\u001b[0m \u001b[38;5;28;01mfor\u001b[39;00m v,d \u001b[38;5;129;01min\u001b[39;00m {\u001b[38;5;241m9\u001b[39m:\u001b[38;5;241m230721\u001b[39m, \u001b[38;5;241m10\u001b[39m:\u001b[38;5;241m230725\u001b[39m, \u001b[38;5;241m11\u001b[39m:\u001b[38;5;241m230727\u001b[39m}\u001b[38;5;241m.\u001b[39mitems():\n\u001b[0;32m      2\u001b[0m     \u001b[38;5;28;01mfor\u001b[39;00m w \u001b[38;5;129;01min\u001b[39;00m [\u001b[38;5;124m'\u001b[39m\u001b[38;5;124m3.00\u001b[39m\u001b[38;5;124m'\u001b[39m, \u001b[38;5;124m'\u001b[39m\u001b[38;5;124m3.50\u001b[39m\u001b[38;5;124m'\u001b[39m, \u001b[38;5;124m'\u001b[39m\u001b[38;5;124m4.00\u001b[39m\u001b[38;5;124m'\u001b[39m]:\n\u001b[1;32m----> 3\u001b[0m         \u001b[43mfh\u001b[49m\u001b[38;5;241;43m.\u001b[39;49m\u001b[43mputStillsAway\u001b[49m\u001b[43m(\u001b[49m\u001b[43mos\u001b[49m\u001b[38;5;241;43m.\u001b[39;49m\u001b[43mpath\u001b[49m\u001b[38;5;241;43m.\u001b[39;49m\u001b[43mjoin\u001b[49m\u001b[43m(\u001b[49m\u001b[43mcfg\u001b[49m\u001b[38;5;241;43m.\u001b[39;49m\u001b[43mpath\u001b[49m\u001b[38;5;241;43m.\u001b[39;49m\u001b[43mserver\u001b[49m\u001b[43m,\u001b[49m\u001b[43m \u001b[49m\u001b[38;5;124;43mr\u001b[39;49m\u001b[38;5;124;43m'\u001b[39;49m\u001b[38;5;124;43mSDT\u001b[39;49m\u001b[38;5;124;43m\\\u001b[39;49m\u001b[38;5;124;43mSO\u001b[39;49m\u001b[38;5;124;43m'\u001b[39;49m\u001b[43m,\u001b[49m\u001b[43m \u001b[49m\u001b[38;5;124;43mf\u001b[39;49m\u001b[38;5;124;43m'\u001b[39;49m\u001b[38;5;124;43mI_SO\u001b[39;49m\u001b[38;5;132;43;01m{\u001b[39;49;00m\u001b[43mv\u001b[49m\u001b[38;5;132;43;01m}\u001b[39;49;00m\u001b[38;5;124;43m_S_\u001b[39;49m\u001b[38;5;132;43;01m{\u001b[39;49;00m\u001b[43mw\u001b[49m\u001b[38;5;132;43;01m}\u001b[39;49;00m\u001b[38;5;124;43m'\u001b[39;49m\u001b[43m,\u001b[49m\u001b[43m \u001b[49m\u001b[38;5;124;43mf\u001b[39;49m\u001b[38;5;124;43m'\u001b[39;49m\u001b[38;5;124;43mI_SO\u001b[39;49m\u001b[38;5;132;43;01m{\u001b[39;49;00m\u001b[43mv\u001b[49m\u001b[38;5;132;43;01m}\u001b[39;49;00m\u001b[38;5;124;43m_S_\u001b[39;49m\u001b[38;5;132;43;01m{\u001b[39;49;00m\u001b[43mw\u001b[49m\u001b[38;5;132;43;01m}\u001b[39;49;00m\u001b[38;5;124;43m_\u001b[39;49m\u001b[38;5;132;43;01m{\u001b[39;49;00m\u001b[43md\u001b[49m\u001b[38;5;132;43;01m}\u001b[39;49;00m\u001b[38;5;124;43m'\u001b[39;49m\u001b[43m)\u001b[49m\u001b[43m,\u001b[49m\u001b[43m \u001b[49m\u001b[43mdebug\u001b[49m\u001b[38;5;241;43m=\u001b[39;49m\u001b[38;5;28;43;01mFalse\u001b[39;49;00m\u001b[43m)\u001b[49m\n",
      "File \u001b[1;32m~\\Documents\\GitHub\\embedded3DPvids\\py\\file\\file_handling.py:109\u001b[0m, in \u001b[0;36mputStillsAway\u001b[1;34m(folder, debug)\u001b[0m\n\u001b[0;32m    107\u001b[0m \u001b[38;5;28;01mif\u001b[39;00m levels\u001b[38;5;241m.\u001b[39mcurrentLevel \u001b[38;5;129;01min\u001b[39;00m [\u001b[38;5;124m'\u001b[39m\u001b[38;5;124msampleTypeFolder\u001b[39m\u001b[38;5;124m'\u001b[39m, \u001b[38;5;124m'\u001b[39m\u001b[38;5;124mprintTypeFolder\u001b[39m\u001b[38;5;124m'\u001b[39m, \u001b[38;5;124m'\u001b[39m\u001b[38;5;124msampleFolder\u001b[39m\u001b[38;5;124m'\u001b[39m, \u001b[38;5;124m'\u001b[39m\u001b[38;5;124msubFolder\u001b[39m\u001b[38;5;124m'\u001b[39m]:\n\u001b[0;32m    108\u001b[0m     \u001b[38;5;28;01mfor\u001b[39;00m f \u001b[38;5;129;01min\u001b[39;00m os\u001b[38;5;241m.\u001b[39mlistdir(folder):\n\u001b[1;32m--> 109\u001b[0m         \u001b[43mputStillsAway\u001b[49m\u001b[43m(\u001b[49m\u001b[43mos\u001b[49m\u001b[38;5;241;43m.\u001b[39;49m\u001b[43mpath\u001b[49m\u001b[38;5;241;43m.\u001b[39;49m\u001b[43mjoin\u001b[49m\u001b[43m(\u001b[49m\u001b[43mfolder\u001b[49m\u001b[43m,\u001b[49m\u001b[43m \u001b[49m\u001b[43mf\u001b[49m\u001b[43m)\u001b[49m\u001b[43m,\u001b[49m\u001b[43m \u001b[49m\u001b[43mdebug\u001b[49m\u001b[38;5;241;43m=\u001b[39;49m\u001b[43mdebug\u001b[49m\u001b[43m)\u001b[49m \u001b[38;5;66;03m# sort the folders inside sampleTypeFolder\u001b[39;00m\n\u001b[0;32m    110\u001b[0m \u001b[38;5;28;01melif\u001b[39;00m levels\u001b[38;5;241m.\u001b[39mcurrentLevel \u001b[38;5;129;01min\u001b[39;00m [\u001b[38;5;124m'\u001b[39m\u001b[38;5;124msbpFolder\u001b[39m\u001b[38;5;124m'\u001b[39m]: \n\u001b[0;32m    111\u001b[0m     pfd \u001b[38;5;241m=\u001b[39m printFileDict(folder)\n",
      "File \u001b[1;32m~\\Documents\\GitHub\\embedded3DPvids\\py\\file\\file_handling.py:106\u001b[0m, in \u001b[0;36mputStillsAway\u001b[1;34m(folder, debug)\u001b[0m\n\u001b[0;32m    104\u001b[0m \u001b[38;5;28;01mif\u001b[39;00m \u001b[38;5;124m\"\u001b[39m\u001b[38;5;124mThumbs\u001b[39m\u001b[38;5;124m\"\u001b[39m \u001b[38;5;129;01min\u001b[39;00m folder \u001b[38;5;129;01mor\u001b[39;00m \u001b[38;5;124m\"\u001b[39m\u001b[38;5;124mDS_Store\u001b[39m\u001b[38;5;124m\"\u001b[39m \u001b[38;5;129;01min\u001b[39;00m folder \u001b[38;5;129;01mor\u001b[39;00m \u001b[38;5;124m'\u001b[39m\u001b[38;5;124mREADME\u001b[39m\u001b[38;5;124m'\u001b[39m \u001b[38;5;129;01min\u001b[39;00m folder:\n\u001b[0;32m    105\u001b[0m     \u001b[38;5;28;01mreturn\u001b[39;00m\n\u001b[1;32m--> 106\u001b[0m levels \u001b[38;5;241m=\u001b[39m \u001b[43mlabelLevels\u001b[49m\u001b[43m(\u001b[49m\u001b[43mfolder\u001b[49m\u001b[43m)\u001b[49m\n\u001b[0;32m    107\u001b[0m \u001b[38;5;28;01mif\u001b[39;00m levels\u001b[38;5;241m.\u001b[39mcurrentLevel \u001b[38;5;129;01min\u001b[39;00m [\u001b[38;5;124m'\u001b[39m\u001b[38;5;124msampleTypeFolder\u001b[39m\u001b[38;5;124m'\u001b[39m, \u001b[38;5;124m'\u001b[39m\u001b[38;5;124mprintTypeFolder\u001b[39m\u001b[38;5;124m'\u001b[39m, \u001b[38;5;124m'\u001b[39m\u001b[38;5;124msampleFolder\u001b[39m\u001b[38;5;124m'\u001b[39m, \u001b[38;5;124m'\u001b[39m\u001b[38;5;124msubFolder\u001b[39m\u001b[38;5;124m'\u001b[39m]:\n\u001b[0;32m    108\u001b[0m     \u001b[38;5;28;01mfor\u001b[39;00m f \u001b[38;5;129;01min\u001b[39;00m os\u001b[38;5;241m.\u001b[39mlistdir(folder):\n",
      "File \u001b[1;32m~\\Documents\\GitHub\\embedded3DPvids\\py\\file\\levels.py:46\u001b[0m, in \u001b[0;36mlabelLevels.__init__\u001b[1;34m(self, file)\u001b[0m\n\u001b[0;32m     43\u001b[0m     \u001b[38;5;28;01mraise\u001b[39;00m \u001b[38;5;167;01mValueError\u001b[39;00m(\u001b[38;5;124mf\u001b[39m\u001b[38;5;124m'\u001b[39m\u001b[38;5;124mFile does not exist: \u001b[39m\u001b[38;5;132;01m{\u001b[39;00mfile\u001b[38;5;132;01m}\u001b[39;00m\u001b[38;5;124m'\u001b[39m)\n\u001b[0;32m     45\u001b[0m levels \u001b[38;5;241m=\u001b[39m {}\n\u001b[1;32m---> 46\u001b[0m bottom \u001b[38;5;241m=\u001b[39m \u001b[38;5;28;43mself\u001b[39;49m\u001b[38;5;241;43m.\u001b[39;49m\u001b[43mfindBottom\u001b[49m\u001b[43m(\u001b[49m\u001b[43mfile\u001b[49m\u001b[43m)\u001b[49m\n\u001b[0;32m     48\u001b[0m \u001b[38;5;66;03m# bottom is now a bottom level file\u001b[39;00m\n\u001b[0;32m     49\u001b[0m \u001b[38;5;28;01mif\u001b[39;00m os\u001b[38;5;241m.\u001b[39mpath\u001b[38;5;241m.\u001b[39misdir(bottom):\n",
      "File \u001b[1;32m~\\Documents\\GitHub\\embedded3DPvids\\py\\file\\levels.py:137\u001b[0m, in \u001b[0;36mlabelLevels.findBottom\u001b[1;34m(self, bottom)\u001b[0m\n\u001b[0;32m    135\u001b[0m \u001b[38;5;66;03m# recurse until you hit the bottom level\u001b[39;00m\n\u001b[0;32m    136\u001b[0m \u001b[38;5;28;01mwhile\u001b[39;00m os\u001b[38;5;241m.\u001b[39mpath\u001b[38;5;241m.\u001b[39misdir(bottom): \u001b[38;5;66;03m# bottom is a directory\u001b[39;00m\n\u001b[1;32m--> 137\u001b[0m     newbot \u001b[38;5;241m=\u001b[39m \u001b[38;5;28;43mself\u001b[39;49m\u001b[38;5;241;43m.\u001b[39;49m\u001b[43mfirstEntry\u001b[49m\u001b[43m(\u001b[49m\u001b[43mbottom\u001b[49m\u001b[43m,\u001b[49m\u001b[43m \u001b[49m\u001b[43mdirectory\u001b[49m\u001b[38;5;241;43m=\u001b[39;49m\u001b[38;5;28;43;01mTrue\u001b[39;49;00m\u001b[43m)\u001b[49m \u001b[38;5;66;03m# find the first directory\u001b[39;00m\n\u001b[0;32m    138\u001b[0m     \u001b[38;5;28;01mif\u001b[39;00m os\u001b[38;5;241m.\u001b[39mpath\u001b[38;5;241m.\u001b[39mexists(newbot):\n\u001b[0;32m    139\u001b[0m         \u001b[38;5;66;03m# this is a directory\u001b[39;00m\n\u001b[0;32m    140\u001b[0m         bottom \u001b[38;5;241m=\u001b[39m newbot\n",
      "File \u001b[1;32m~\\Documents\\GitHub\\embedded3DPvids\\py\\file\\levels.py:122\u001b[0m, in \u001b[0;36mlabelLevels.firstEntry\u001b[1;34m(self, folder, directory)\u001b[0m\n\u001b[0;32m    120\u001b[0m \u001b[38;5;250m\u001b[39m\u001b[38;5;124;03m'''find the first entry in the folder. directory=True to find directories, False to find files'''\u001b[39;00m\n\u001b[0;32m    121\u001b[0m ld \u001b[38;5;241m=\u001b[39m os\u001b[38;5;241m.\u001b[39mlistdir(folder)\n\u001b[1;32m--> 122\u001b[0m \u001b[38;5;28;01mif\u001b[39;00m \u001b[38;5;28;43mlen\u001b[39;49m(ld)\u001b[38;5;241m==\u001b[39m\u001b[38;5;241m0\u001b[39m:\n\u001b[0;32m    123\u001b[0m     \u001b[38;5;28;01mreturn\u001b[39;00m \u001b[38;5;124m'\u001b[39m\u001b[38;5;124m'\u001b[39m\n\u001b[0;32m    124\u001b[0m d1 \u001b[38;5;241m=\u001b[39m \u001b[38;5;124m'\u001b[39m\u001b[38;5;124m'\u001b[39m\n",
      "\u001b[1;31mKeyboardInterrupt\u001b[0m: "
     ]
    }
   ],
   "source": [
    "for v,d in {9:230721, 10:230725, 11:230727}.items():\n",
    "    for w in ['3.00', '3.50', '4.00']:\n",
    "        fh.putStillsAway(os.path.join(cfg.path.server, r'SDT\\SO', f'I_SO{v}_S_{w}', f'I_SO{v}_S_{w}_{d}'), debug=False)"
   ]
  },
  {
   "cell_type": "code",
   "execution_count": 9,
   "metadata": {},
   "outputs": [],
   "source": [
    "for v,d in {11:230727}.items():\n",
    "    for w in ['3.00', '3.50', '4.00']:\n",
    "        fh.putStillsAway(os.path.join(cfg.path.server, r'SDT\\SO', f'I_SO{v}_S_{w}', f'I_SO{v}_S_{w}_{d}'), debug=False)"
   ]
  },
  {
   "cell_type": "code",
   "execution_count": 218,
   "metadata": {
    "tags": []
   },
   "outputs": [],
   "source": [
    "fh.putStillsAway(os.path.join(cfg.path.server, r'SDT\\PDMSS'))"
   ]
  },
  {
   "cell_type": "code",
   "execution_count": 20,
   "metadata": {
    "tags": []
   },
   "outputs": [
    {
     "data": {
      "text/plain": [
       "[]"
      ]
     },
     "execution_count": 20,
     "metadata": {},
     "output_type": "execute_result"
    }
   ],
   "source": [
    "mismatch, tooMany = fh.checkFolders(os.path.join(cfg.path.server, 'SDT'))\n",
    "mismatch"
   ]
  }
 ],
 "metadata": {
  "kernelspec": {
   "display_name": "Python 3 (ipykernel)",
   "language": "python",
   "name": "python3"
  },
  "language_info": {
   "codemirror_mode": {
    "name": "ipython",
    "version": 3
   },
   "file_extension": ".py",
   "mimetype": "text/x-python",
   "name": "python",
   "nbconvert_exporter": "python",
   "pygments_lexer": "ipython3",
   "version": "3.8.3"
  }
 },
 "nbformat": 4,
 "nbformat_minor": 4
}
