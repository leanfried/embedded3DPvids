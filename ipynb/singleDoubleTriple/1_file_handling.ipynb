{
 "cells": [
  {
   "cell_type": "markdown",
   "metadata": {},
   "source": [
    "# Sort files in folder\n",
    "Leanne Friedrich 9/29/22"
   ]
  },
  {
   "cell_type": "markdown",
   "metadata": {},
   "source": [
    "# initialization"
   ]
  },
  {
   "cell_type": "code",
   "execution_count": 2,
   "metadata": {
    "tags": []
   },
   "outputs": [],
   "source": [
    "%load_ext autoreload\n",
    "%autoreload 2\n",
    "LOGGERDEFINED = False"
   ]
  },
  {
   "cell_type": "code",
   "execution_count": 3,
   "metadata": {
    "tags": []
   },
   "outputs": [],
   "source": [
    "import os\n",
    "import sys\n",
    "sys.path.append(\"../\")\n",
    "sys.path.append(\"../../\")\n",
    "import py.file.file_handling as fh\n",
    "from py.tools.config import cfg\n",
    "import py.tools.logs as logs\n",
    "LOGGERDEFINED = logs.openLog('fileHandling.ipynb', LOGGERDEFINED, level='DEBUG', exportLog=False)"
   ]
  },
  {
   "cell_type": "markdown",
   "metadata": {},
   "source": [
    "# Sort and rename files and folders"
   ]
  },
  {
   "cell_type": "code",
   "execution_count": 8,
   "metadata": {
    "collapsed": true,
    "jupyter": {
     "outputs_hidden": true
    },
    "tags": []
   },
   "outputs": [
    {
     "name": "stdout",
     "output_type": "stream",
     "text": [
      "//cfs2e.nist.gov/642/internal/3D Printing Lab/Shopbot/videos\\singleDoubleTriple\\SO\\I_SO10_S_3.50\\I_SO10_S_3.50_230208\\disturbVert2_1_0.500\n",
      "//cfs2e.nist.gov/642/internal/3D Printing Lab/Shopbot/videos\\singleDoubleTriple\\SO\\I_SO10_S_3.50\\I_SO10_S_3.50_230208\\disturbVert2_1_0.625\n",
      "//cfs2e.nist.gov/642/internal/3D Printing Lab/Shopbot/videos\\singleDoubleTriple\\SO\\I_SO10_S_3.50\\I_SO10_S_3.50_230208\\disturbVert2_1_0.750\n",
      "//cfs2e.nist.gov/642/internal/3D Printing Lab/Shopbot/videos\\singleDoubleTriple\\SO\\I_SO10_S_3.50\\I_SO10_S_3.50_230208\\disturbVert2_1_0.875\n",
      "//cfs2e.nist.gov/642/internal/3D Printing Lab/Shopbot/videos\\singleDoubleTriple\\SO\\I_SO10_S_3.50\\I_SO10_S_3.50_230208\\disturbVert2_1_1.000\n",
      "//cfs2e.nist.gov/642/internal/3D Printing Lab/Shopbot/videos\\singleDoubleTriple\\SO\\I_SO10_S_3.50\\I_SO10_S_3.50_230208\\disturbVert2_1_1.250\n",
      "//cfs2e.nist.gov/642/internal/3D Printing Lab/Shopbot/videos\\singleDoubleTriple\\SO\\I_SO10_S_3.50\\I_SO10_S_3.50_230208\\disturbVert2_2_0.500\n",
      "//cfs2e.nist.gov/642/internal/3D Printing Lab/Shopbot/videos\\singleDoubleTriple\\SO\\I_SO10_S_3.50\\I_SO10_S_3.50_v2_230208\\disturbVert2_1_0.500\n",
      "//cfs2e.nist.gov/642/internal/3D Printing Lab/Shopbot/videos\\singleDoubleTriple\\SO\\I_SO10_S_3.50\\I_SO10_S_3.50_v2_230208\\disturbVert2_1_0.625\n",
      "//cfs2e.nist.gov/642/internal/3D Printing Lab/Shopbot/videos\\singleDoubleTriple\\SO\\I_SO10_S_3.50\\I_SO10_S_3.50_v2_230208\\disturbVert2_1_0.750\n",
      "//cfs2e.nist.gov/642/internal/3D Printing Lab/Shopbot/videos\\singleDoubleTriple\\SO\\I_SO10_S_3.50\\I_SO10_S_3.50_v2_230208\\disturbVert2_1_0.875\n",
      "//cfs2e.nist.gov/642/internal/3D Printing Lab/Shopbot/videos\\singleDoubleTriple\\SO\\I_SO10_S_3.50\\I_SO10_S_3.50_v2_230208\\disturbVert2_1_1.000\n",
      "//cfs2e.nist.gov/642/internal/3D Printing Lab/Shopbot/videos\\singleDoubleTriple\\SO\\I_SO10_S_3.50\\I_SO10_S_3.50_v2_230208\\disturbVert2_1_1.250\n",
      "//cfs2e.nist.gov/642/internal/3D Printing Lab/Shopbot/videos\\singleDoubleTriple\\SO\\I_SO10_S_4.00\\I_SO10_S_4.00_230208\\disturbVert2_1_0.500\n",
      "//cfs2e.nist.gov/642/internal/3D Printing Lab/Shopbot/videos\\singleDoubleTriple\\SO\\I_SO10_S_4.00\\I_SO10_S_4.00_230208\\disturbVert2_1_0.625\n",
      "//cfs2e.nist.gov/642/internal/3D Printing Lab/Shopbot/videos\\singleDoubleTriple\\SO\\I_SO10_S_4.00\\I_SO10_S_4.00_230208\\disturbVert2_1_0.750\n",
      "//cfs2e.nist.gov/642/internal/3D Printing Lab/Shopbot/videos\\singleDoubleTriple\\SO\\I_SO10_S_4.00\\I_SO10_S_4.00_230208\\disturbVert2_1_0.875\n",
      "//cfs2e.nist.gov/642/internal/3D Printing Lab/Shopbot/videos\\singleDoubleTriple\\SO\\I_SO10_S_4.00\\I_SO10_S_4.00_230208\\disturbVert2_1_1.000\n",
      "//cfs2e.nist.gov/642/internal/3D Printing Lab/Shopbot/videos\\singleDoubleTriple\\SO\\I_SO10_S_4.00\\I_SO10_S_4.00_230208\\disturbVert2_1_1.250\n",
      "//cfs2e.nist.gov/642/internal/3D Printing Lab/Shopbot/videos\\singleDoubleTriple\\SO\\I_SO10_S_4.00\\I_SO10_S_4.00_230208\\disturbVert2_2_0.500\n",
      "//cfs2e.nist.gov/642/internal/3D Printing Lab/Shopbot/videos\\singleDoubleTriple\\SO\\I_SO10_S_4.00\\I_SO10_S_4.00_230208\\disturbVert2_2_0.625\n",
      "//cfs2e.nist.gov/642/internal/3D Printing Lab/Shopbot/videos\\singleDoubleTriple\\SO\\I_SO10_S_4.00\\I_SO10_S_4.00_230208\\disturbVert2_2_0.750\n",
      "//cfs2e.nist.gov/642/internal/3D Printing Lab/Shopbot/videos\\singleDoubleTriple\\SO\\I_SO10_S_4.00\\I_SO10_S_4.00_230208\\disturbVert2_2_0.875\n",
      "//cfs2e.nist.gov/642/internal/3D Printing Lab/Shopbot/videos\\singleDoubleTriple\\SO\\I_SO10_S_4.00\\I_SO10_S_4.00_230208\\disturbVert2_2_1.000\n",
      "//cfs2e.nist.gov/642/internal/3D Printing Lab/Shopbot/videos\\singleDoubleTriple\\SO\\I_SO10_S_4.00\\I_SO10_S_4.00_230208\\disturbVert2_2_1.250\n",
      "//cfs2e.nist.gov/642/internal/3D Printing Lab/Shopbot/videos\\singleDoubleTriple\\SO\\I_SO10_S_4.00\\I_SO10_S_4.00_230208\\disturbVert2_3_0.500\n",
      "//cfs2e.nist.gov/642/internal/3D Printing Lab/Shopbot/videos\\singleDoubleTriple\\SO\\I_SO10_S_4.00\\I_SO10_S_4.00_230208\\disturbVert2_3_0.625\n",
      "//cfs2e.nist.gov/642/internal/3D Printing Lab/Shopbot/videos\\singleDoubleTriple\\SO\\I_SO10_S_4.00\\I_SO10_S_4.00_230208\\disturbVert2_3_0.750\n",
      "//cfs2e.nist.gov/642/internal/3D Printing Lab/Shopbot/videos\\singleDoubleTriple\\SO\\I_SO10_S_4.00\\I_SO10_S_4.00_230208\\disturbVert2_3_0.875\n",
      "//cfs2e.nist.gov/642/internal/3D Printing Lab/Shopbot/videos\\singleDoubleTriple\\SO\\I_SO10_S_4.00\\I_SO10_S_4.00_230208\\disturbVert2_3_1.000\n",
      "//cfs2e.nist.gov/642/internal/3D Printing Lab/Shopbot/videos\\singleDoubleTriple\\SO\\I_SO10_S_4.00\\I_SO10_S_4.00_230208\\disturbVert2_3_1.250\n",
      "//cfs2e.nist.gov/642/internal/3D Printing Lab/Shopbot/videos\\singleDoubleTriple\\SO\\I_SO11_S_3.00\\I_SO11_S_3.00_230214\\disturbVert2_1_0.500\n",
      "//cfs2e.nist.gov/642/internal/3D Printing Lab/Shopbot/videos\\singleDoubleTriple\\SO\\I_SO11_S_3.00\\I_SO11_S_3.00_230214\\disturbVert2_1_0.625\n",
      "//cfs2e.nist.gov/642/internal/3D Printing Lab/Shopbot/videos\\singleDoubleTriple\\SO\\I_SO11_S_3.00\\I_SO11_S_3.00_230214\\disturbVert2_1_0.750\n",
      "//cfs2e.nist.gov/642/internal/3D Printing Lab/Shopbot/videos\\singleDoubleTriple\\SO\\I_SO11_S_3.00\\I_SO11_S_3.00_230214\\disturbVert2_1_0.875\n",
      "//cfs2e.nist.gov/642/internal/3D Printing Lab/Shopbot/videos\\singleDoubleTriple\\SO\\I_SO11_S_3.00\\I_SO11_S_3.00_230214\\disturbVert2_1_1.000\n",
      "//cfs2e.nist.gov/642/internal/3D Printing Lab/Shopbot/videos\\singleDoubleTriple\\SO\\I_SO11_S_3.00\\I_SO11_S_3.00_230214\\disturbVert2_1_1.250\n",
      "//cfs2e.nist.gov/642/internal/3D Printing Lab/Shopbot/videos\\singleDoubleTriple\\SO\\I_SO11_S_3.00\\I_SO11_S_3.00_230214\\disturbVert2_2_0.500\n",
      "//cfs2e.nist.gov/642/internal/3D Printing Lab/Shopbot/videos\\singleDoubleTriple\\SO\\I_SO11_S_3.00\\I_SO11_S_3.00_230214\\disturbVert2_2_0.625\n",
      "//cfs2e.nist.gov/642/internal/3D Printing Lab/Shopbot/videos\\singleDoubleTriple\\SO\\I_SO11_S_3.00\\I_SO11_S_3.00_230214\\disturbVert2_2_0.750\n",
      "//cfs2e.nist.gov/642/internal/3D Printing Lab/Shopbot/videos\\singleDoubleTriple\\SO\\I_SO11_S_3.00\\I_SO11_S_3.00_230214\\disturbVert2_2_0.875\n",
      "//cfs2e.nist.gov/642/internal/3D Printing Lab/Shopbot/videos\\singleDoubleTriple\\SO\\I_SO11_S_3.00\\I_SO11_S_3.00_230214\\disturbVert2_2_1.000\n",
      "//cfs2e.nist.gov/642/internal/3D Printing Lab/Shopbot/videos\\singleDoubleTriple\\SO\\I_SO11_S_3.00\\I_SO11_S_3.00_230214\\disturbVert2_2_1.250\n",
      "//cfs2e.nist.gov/642/internal/3D Printing Lab/Shopbot/videos\\singleDoubleTriple\\SO\\I_SO11_S_3.00\\I_SO11_S_3.00_230214\\disturbVert2_3_0.500\n",
      "//cfs2e.nist.gov/642/internal/3D Printing Lab/Shopbot/videos\\singleDoubleTriple\\SO\\I_SO11_S_3.00\\I_SO11_S_3.00_230214\\disturbVert2_3_0.625\n",
      "//cfs2e.nist.gov/642/internal/3D Printing Lab/Shopbot/videos\\singleDoubleTriple\\SO\\I_SO11_S_3.00\\I_SO11_S_3.00_230214\\disturbVert2_3_0.750\n",
      "//cfs2e.nist.gov/642/internal/3D Printing Lab/Shopbot/videos\\singleDoubleTriple\\SO\\I_SO11_S_3.00\\I_SO11_S_3.00_230214\\disturbVert2_3_0.875\n",
      "//cfs2e.nist.gov/642/internal/3D Printing Lab/Shopbot/videos\\singleDoubleTriple\\SO\\I_SO11_S_3.00\\I_SO11_S_3.00_230214\\disturbVert2_3_1.000\n",
      "//cfs2e.nist.gov/642/internal/3D Printing Lab/Shopbot/videos\\singleDoubleTriple\\SO\\I_SO11_S_3.00\\I_SO11_S_3.00_230214\\disturbVert2_3_1.250\n",
      "//cfs2e.nist.gov/642/internal/3D Printing Lab/Shopbot/videos\\singleDoubleTriple\\SO\\I_SO11_S_3.50\\I_SO11_S_3.50_230214\\disturbVert2_1_0.500\n",
      "//cfs2e.nist.gov/642/internal/3D Printing Lab/Shopbot/videos\\singleDoubleTriple\\SO\\I_SO11_S_3.50\\I_SO11_S_3.50_230214\\disturbVert2_1_0.625\n",
      "//cfs2e.nist.gov/642/internal/3D Printing Lab/Shopbot/videos\\singleDoubleTriple\\SO\\I_SO11_S_3.50\\I_SO11_S_3.50_230214\\disturbVert2_1_0.750\n",
      "//cfs2e.nist.gov/642/internal/3D Printing Lab/Shopbot/videos\\singleDoubleTriple\\SO\\I_SO11_S_3.50\\I_SO11_S_3.50_230214\\disturbVert2_1_0.875\n",
      "//cfs2e.nist.gov/642/internal/3D Printing Lab/Shopbot/videos\\singleDoubleTriple\\SO\\I_SO11_S_3.50\\I_SO11_S_3.50_230214\\disturbVert2_1_1.000\n",
      "//cfs2e.nist.gov/642/internal/3D Printing Lab/Shopbot/videos\\singleDoubleTriple\\SO\\I_SO11_S_3.50\\I_SO11_S_3.50_230214\\disturbVert2_1_1.250\n",
      "//cfs2e.nist.gov/642/internal/3D Printing Lab/Shopbot/videos\\singleDoubleTriple\\SO\\I_SO11_S_3.50\\I_SO11_S_3.50_230214\\disturbVert2_2_0.500\n",
      "//cfs2e.nist.gov/642/internal/3D Printing Lab/Shopbot/videos\\singleDoubleTriple\\SO\\I_SO11_S_3.50\\I_SO11_S_3.50_230214\\disturbVert2_2_0.625\n",
      "//cfs2e.nist.gov/642/internal/3D Printing Lab/Shopbot/videos\\singleDoubleTriple\\SO\\I_SO11_S_3.50\\I_SO11_S_3.50_230214\\disturbVert2_2_0.750\n",
      "//cfs2e.nist.gov/642/internal/3D Printing Lab/Shopbot/videos\\singleDoubleTriple\\SO\\I_SO11_S_3.50\\I_SO11_S_3.50_230214\\disturbVert2_2_0.875\n",
      "//cfs2e.nist.gov/642/internal/3D Printing Lab/Shopbot/videos\\singleDoubleTriple\\SO\\I_SO11_S_3.50\\I_SO11_S_3.50_230214\\disturbVert2_2_1.000\n",
      "//cfs2e.nist.gov/642/internal/3D Printing Lab/Shopbot/videos\\singleDoubleTriple\\SO\\I_SO11_S_3.50\\I_SO11_S_3.50_230214\\disturbVert2_2_1.250\n",
      "//cfs2e.nist.gov/642/internal/3D Printing Lab/Shopbot/videos\\singleDoubleTriple\\SO\\I_SO11_S_3.50\\I_SO11_S_3.50_230214\\disturbVert2_3_0.500\n",
      "//cfs2e.nist.gov/642/internal/3D Printing Lab/Shopbot/videos\\singleDoubleTriple\\SO\\I_SO11_S_3.50\\I_SO11_S_3.50_230214\\disturbVert2_3_0.625\n",
      "//cfs2e.nist.gov/642/internal/3D Printing Lab/Shopbot/videos\\singleDoubleTriple\\SO\\I_SO11_S_3.50\\I_SO11_S_3.50_230214\\disturbVert2_3_0.750\n",
      "//cfs2e.nist.gov/642/internal/3D Printing Lab/Shopbot/videos\\singleDoubleTriple\\SO\\I_SO11_S_3.50\\I_SO11_S_3.50_230214\\disturbVert2_3_0.875\n",
      "//cfs2e.nist.gov/642/internal/3D Printing Lab/Shopbot/videos\\singleDoubleTriple\\SO\\I_SO11_S_3.50\\I_SO11_S_3.50_230214\\disturbVert2_3_1.000\n",
      "//cfs2e.nist.gov/642/internal/3D Printing Lab/Shopbot/videos\\singleDoubleTriple\\SO\\I_SO11_S_3.50\\I_SO11_S_3.50_230214\\disturbVert2_3_1.250\n",
      "//cfs2e.nist.gov/642/internal/3D Printing Lab/Shopbot/videos\\singleDoubleTriple\\SO\\I_SO11_S_4.00\\I_SO11_S_4.00_230214\\disturbVert2_1_0.500\n",
      "//cfs2e.nist.gov/642/internal/3D Printing Lab/Shopbot/videos\\singleDoubleTriple\\SO\\I_SO11_S_4.00\\I_SO11_S_4.00_230214\\disturbVert2_1_0.625\n",
      "//cfs2e.nist.gov/642/internal/3D Printing Lab/Shopbot/videos\\singleDoubleTriple\\SO\\I_SO11_S_4.00\\I_SO11_S_4.00_230214\\disturbVert2_1_0.750\n",
      "//cfs2e.nist.gov/642/internal/3D Printing Lab/Shopbot/videos\\singleDoubleTriple\\SO\\I_SO11_S_4.00\\I_SO11_S_4.00_230214\\disturbVert2_1_0.875\n",
      "//cfs2e.nist.gov/642/internal/3D Printing Lab/Shopbot/videos\\singleDoubleTriple\\SO\\I_SO11_S_4.00\\I_SO11_S_4.00_230214\\disturbVert2_1_1.000\n",
      "//cfs2e.nist.gov/642/internal/3D Printing Lab/Shopbot/videos\\singleDoubleTriple\\SO\\I_SO11_S_4.00\\I_SO11_S_4.00_230214\\disturbVert2_1_1.250\n",
      "//cfs2e.nist.gov/642/internal/3D Printing Lab/Shopbot/videos\\singleDoubleTriple\\SO\\I_SO11_S_4.00\\I_SO11_S_4.00_230214\\disturbVert2_2_0.500\n",
      "//cfs2e.nist.gov/642/internal/3D Printing Lab/Shopbot/videos\\singleDoubleTriple\\SO\\I_SO11_S_4.00\\I_SO11_S_4.00_230214\\disturbVert2_2_0.625\n",
      "//cfs2e.nist.gov/642/internal/3D Printing Lab/Shopbot/videos\\singleDoubleTriple\\SO\\I_SO11_S_4.00\\I_SO11_S_4.00_230214\\disturbVert2_2_0.750\n",
      "//cfs2e.nist.gov/642/internal/3D Printing Lab/Shopbot/videos\\singleDoubleTriple\\SO\\I_SO11_S_4.00\\I_SO11_S_4.00_230214\\disturbVert2_2_0.875\n",
      "//cfs2e.nist.gov/642/internal/3D Printing Lab/Shopbot/videos\\singleDoubleTriple\\SO\\I_SO11_S_4.00\\I_SO11_S_4.00_230214\\disturbVert2_2_1.000\n",
      "//cfs2e.nist.gov/642/internal/3D Printing Lab/Shopbot/videos\\singleDoubleTriple\\SO\\I_SO11_S_4.00\\I_SO11_S_4.00_230214\\disturbVert2_2_1.250\n",
      "//cfs2e.nist.gov/642/internal/3D Printing Lab/Shopbot/videos\\singleDoubleTriple\\SO\\I_SO11_S_4.00\\I_SO11_S_4.00_230214\\disturbVert2_3_0.500\n",
      "//cfs2e.nist.gov/642/internal/3D Printing Lab/Shopbot/videos\\singleDoubleTriple\\SO\\I_SO11_S_4.00\\I_SO11_S_4.00_230214\\disturbVert2_3_0.625\n",
      "//cfs2e.nist.gov/642/internal/3D Printing Lab/Shopbot/videos\\singleDoubleTriple\\SO\\I_SO11_S_4.00\\I_SO11_S_4.00_230214\\disturbVert2_3_0.750\n",
      "//cfs2e.nist.gov/642/internal/3D Printing Lab/Shopbot/videos\\singleDoubleTriple\\SO\\I_SO11_S_4.00\\I_SO11_S_4.00_230214\\disturbVert2_3_0.875\n",
      "//cfs2e.nist.gov/642/internal/3D Printing Lab/Shopbot/videos\\singleDoubleTriple\\SO\\I_SO11_S_4.00\\I_SO11_S_4.00_230214\\disturbVert2_3_1.000\n",
      "//cfs2e.nist.gov/642/internal/3D Printing Lab/Shopbot/videos\\singleDoubleTriple\\SO\\I_SO11_S_4.00\\I_SO11_S_4.00_230214\\disturbVert2_3_1.250\n",
      "//cfs2e.nist.gov/642/internal/3D Printing Lab/Shopbot/videos\\singleDoubleTriple\\SO_S20-0.5\\I_SO6-S20-0.5_S_3.00\\I_SO6-S20-0.5_S_3.00_230215\\disturbVert2_1_0.500\n",
      "//cfs2e.nist.gov/642/internal/3D Printing Lab/Shopbot/videos\\singleDoubleTriple\\SO_S20-0.5\\I_SO6-S20-0.5_S_3.00\\I_SO6-S20-0.5_S_3.00_230215\\disturbVert2_1_0.625\n",
      "//cfs2e.nist.gov/642/internal/3D Printing Lab/Shopbot/videos\\singleDoubleTriple\\SO_S20-0.5\\I_SO6-S20-0.5_S_3.00\\I_SO6-S20-0.5_S_3.00_230215\\disturbVert2_1_0.750\n",
      "//cfs2e.nist.gov/642/internal/3D Printing Lab/Shopbot/videos\\singleDoubleTriple\\SO_S20-0.5\\I_SO6-S20-0.5_S_3.00\\I_SO6-S20-0.5_S_3.00_230215\\disturbVert2_1_0.875\n",
      "//cfs2e.nist.gov/642/internal/3D Printing Lab/Shopbot/videos\\singleDoubleTriple\\SO_S20-0.5\\I_SO6-S20-0.5_S_3.00\\I_SO6-S20-0.5_S_3.00_230215\\disturbVert2_1_1.000\n",
      "//cfs2e.nist.gov/642/internal/3D Printing Lab/Shopbot/videos\\singleDoubleTriple\\SO_S20-0.5\\I_SO6-S20-0.5_S_3.00\\I_SO6-S20-0.5_S_3.00_230215\\disturbVert2_1_1.250\n",
      "//cfs2e.nist.gov/642/internal/3D Printing Lab/Shopbot/videos\\singleDoubleTriple\\SO_S20-0.5\\I_SO6-S20-0.5_S_3.00\\I_SO6-S20-0.5_S_3.00_230215\\disturbVert2_2_0.500\n",
      "//cfs2e.nist.gov/642/internal/3D Printing Lab/Shopbot/videos\\singleDoubleTriple\\SO_S20-0.5\\I_SO6-S20-0.5_S_3.00\\I_SO6-S20-0.5_S_3.00_230215\\disturbVert2_2_0.625\n",
      "//cfs2e.nist.gov/642/internal/3D Printing Lab/Shopbot/videos\\singleDoubleTriple\\SO_S20-0.5\\I_SO6-S20-0.5_S_3.00\\I_SO6-S20-0.5_S_3.00_230215\\disturbVert2_2_0.750\n",
      "//cfs2e.nist.gov/642/internal/3D Printing Lab/Shopbot/videos\\singleDoubleTriple\\SO_S20-0.5\\I_SO6-S20-0.5_S_3.00\\I_SO6-S20-0.5_S_3.00_230215\\disturbVert2_2_0.875\n",
      "//cfs2e.nist.gov/642/internal/3D Printing Lab/Shopbot/videos\\singleDoubleTriple\\SO_S20-0.5\\I_SO6-S20-0.5_S_3.00\\I_SO6-S20-0.5_S_3.00_230215\\disturbVert2_2_1.000\n",
      "//cfs2e.nist.gov/642/internal/3D Printing Lab/Shopbot/videos\\singleDoubleTriple\\SO_S20-0.5\\I_SO6-S20-0.5_S_3.00\\I_SO6-S20-0.5_S_3.00_230215\\disturbVert2_2_1.250\n",
      "//cfs2e.nist.gov/642/internal/3D Printing Lab/Shopbot/videos\\singleDoubleTriple\\SO_S20-0.5\\I_SO6-S20-0.5_S_3.00\\I_SO6-S20-0.5_S_3.00_230215\\disturbVert2_3_0.500\n",
      "//cfs2e.nist.gov/642/internal/3D Printing Lab/Shopbot/videos\\singleDoubleTriple\\SO_S20-0.5\\I_SO6-S20-0.5_S_3.00\\I_SO6-S20-0.5_S_3.00_230215\\disturbVert2_3_0.625\n",
      "//cfs2e.nist.gov/642/internal/3D Printing Lab/Shopbot/videos\\singleDoubleTriple\\SO_S20-0.5\\I_SO6-S20-0.5_S_3.00\\I_SO6-S20-0.5_S_3.00_230215\\disturbVert2_3_0.750\n",
      "//cfs2e.nist.gov/642/internal/3D Printing Lab/Shopbot/videos\\singleDoubleTriple\\SO_S20-0.5\\I_SO6-S20-0.5_S_3.00\\I_SO6-S20-0.5_S_3.00_230215\\disturbVert2_3_0.875\n",
      "//cfs2e.nist.gov/642/internal/3D Printing Lab/Shopbot/videos\\singleDoubleTriple\\SO_S20-0.5\\I_SO6-S20-0.5_S_3.00\\I_SO6-S20-0.5_S_3.00_230215\\disturbVert2_3_1.000\n",
      "//cfs2e.nist.gov/642/internal/3D Printing Lab/Shopbot/videos\\singleDoubleTriple\\SO_S20-0.5\\I_SO6-S20-0.5_S_3.00\\I_SO6-S20-0.5_S_3.00_230215\\disturbVert2_3_1.250\n",
      "//cfs2e.nist.gov/642/internal/3D Printing Lab/Shopbot/videos\\singleDoubleTriple\\SO_S20-0.5\\I_SO6-S20-0.5_S_3.50\\I_SO6-S20-0.5_S_3.50_230215\\disturbVert2_1_0.500\n",
      "//cfs2e.nist.gov/642/internal/3D Printing Lab/Shopbot/videos\\singleDoubleTriple\\SO_S20-0.5\\I_SO6-S20-0.5_S_3.50\\I_SO6-S20-0.5_S_3.50_230215\\disturbVert2_1_0.625\n",
      "//cfs2e.nist.gov/642/internal/3D Printing Lab/Shopbot/videos\\singleDoubleTriple\\SO_S20-0.5\\I_SO6-S20-0.5_S_3.50\\I_SO6-S20-0.5_S_3.50_230215\\disturbVert2_1_0.750\n",
      "//cfs2e.nist.gov/642/internal/3D Printing Lab/Shopbot/videos\\singleDoubleTriple\\SO_S20-0.5\\I_SO6-S20-0.5_S_3.50\\I_SO6-S20-0.5_S_3.50_230215\\disturbVert2_1_0.875\n",
      "//cfs2e.nist.gov/642/internal/3D Printing Lab/Shopbot/videos\\singleDoubleTriple\\SO_S20-0.5\\I_SO6-S20-0.5_S_3.50\\I_SO6-S20-0.5_S_3.50_230215\\disturbVert2_1_1.000\n",
      "//cfs2e.nist.gov/642/internal/3D Printing Lab/Shopbot/videos\\singleDoubleTriple\\SO_S20-0.5\\I_SO6-S20-0.5_S_3.50\\I_SO6-S20-0.5_S_3.50_230215\\disturbVert2_1_1.250\n",
      "//cfs2e.nist.gov/642/internal/3D Printing Lab/Shopbot/videos\\singleDoubleTriple\\SO_S20-0.5\\I_SO6-S20-0.5_S_3.50\\I_SO6-S20-0.5_S_3.50_230215\\disturbVert2_2_0.500\n",
      "//cfs2e.nist.gov/642/internal/3D Printing Lab/Shopbot/videos\\singleDoubleTriple\\SO_S20-0.5\\I_SO6-S20-0.5_S_3.50\\I_SO6-S20-0.5_S_3.50_230215\\disturbVert2_2_0.625\n",
      "//cfs2e.nist.gov/642/internal/3D Printing Lab/Shopbot/videos\\singleDoubleTriple\\SO_S20-0.5\\I_SO6-S20-0.5_S_3.50\\I_SO6-S20-0.5_S_3.50_230215\\disturbVert2_2_0.750\n",
      "//cfs2e.nist.gov/642/internal/3D Printing Lab/Shopbot/videos\\singleDoubleTriple\\SO_S20-0.5\\I_SO6-S20-0.5_S_3.50\\I_SO6-S20-0.5_S_3.50_230215\\disturbVert2_2_0.875\n",
      "//cfs2e.nist.gov/642/internal/3D Printing Lab/Shopbot/videos\\singleDoubleTriple\\SO_S20-0.5\\I_SO6-S20-0.5_S_3.50\\I_SO6-S20-0.5_S_3.50_230215\\disturbVert2_2_1.000\n",
      "//cfs2e.nist.gov/642/internal/3D Printing Lab/Shopbot/videos\\singleDoubleTriple\\SO_S20-0.5\\I_SO6-S20-0.5_S_3.50\\I_SO6-S20-0.5_S_3.50_230215\\disturbVert2_2_1.250\n",
      "//cfs2e.nist.gov/642/internal/3D Printing Lab/Shopbot/videos\\singleDoubleTriple\\SO_S20-0.5\\I_SO6-S20-0.5_S_3.50\\I_SO6-S20-0.5_S_3.50_230215\\disturbVert2_3_0.500\n",
      "//cfs2e.nist.gov/642/internal/3D Printing Lab/Shopbot/videos\\singleDoubleTriple\\SO_S20-0.5\\I_SO6-S20-0.5_S_3.50\\I_SO6-S20-0.5_S_3.50_230215\\disturbVert2_3_0.625\n",
      "//cfs2e.nist.gov/642/internal/3D Printing Lab/Shopbot/videos\\singleDoubleTriple\\SO_S20-0.5\\I_SO6-S20-0.5_S_3.50\\I_SO6-S20-0.5_S_3.50_230215\\disturbVert2_3_0.750\n",
      "//cfs2e.nist.gov/642/internal/3D Printing Lab/Shopbot/videos\\singleDoubleTriple\\SO_S20-0.5\\I_SO6-S20-0.5_S_3.50\\I_SO6-S20-0.5_S_3.50_230215\\disturbVert2_3_0.875\n",
      "//cfs2e.nist.gov/642/internal/3D Printing Lab/Shopbot/videos\\singleDoubleTriple\\SO_S20-0.5\\I_SO6-S20-0.5_S_3.50\\I_SO6-S20-0.5_S_3.50_230215\\disturbVert2_3_1.000\n",
      "//cfs2e.nist.gov/642/internal/3D Printing Lab/Shopbot/videos\\singleDoubleTriple\\SO_S20-0.5\\I_SO6-S20-0.5_S_3.50\\I_SO6-S20-0.5_S_3.50_230215\\disturbVert2_3_1.250\n",
      "//cfs2e.nist.gov/642/internal/3D Printing Lab/Shopbot/videos\\singleDoubleTriple\\SO_S20-0.5\\I_SO6-S20-0.5_S_4.00\\I_SO6-S20-0.5_S_4.00_230215\\disturbVert2_1_0.500\n",
      "//cfs2e.nist.gov/642/internal/3D Printing Lab/Shopbot/videos\\singleDoubleTriple\\SO_S20-0.5\\I_SO6-S20-0.5_S_4.00\\I_SO6-S20-0.5_S_4.00_230215\\disturbVert2_1_0.625\n",
      "//cfs2e.nist.gov/642/internal/3D Printing Lab/Shopbot/videos\\singleDoubleTriple\\SO_S20-0.5\\I_SO6-S20-0.5_S_4.00\\I_SO6-S20-0.5_S_4.00_230215\\disturbVert2_1_0.750\n",
      "//cfs2e.nist.gov/642/internal/3D Printing Lab/Shopbot/videos\\singleDoubleTriple\\SO_S20-0.5\\I_SO6-S20-0.5_S_4.00\\I_SO6-S20-0.5_S_4.00_230215\\disturbVert2_1_0.875\n",
      "//cfs2e.nist.gov/642/internal/3D Printing Lab/Shopbot/videos\\singleDoubleTriple\\SO_S20-0.5\\I_SO6-S20-0.5_S_4.00\\I_SO6-S20-0.5_S_4.00_230215\\disturbVert2_1_1.000\n",
      "//cfs2e.nist.gov/642/internal/3D Printing Lab/Shopbot/videos\\singleDoubleTriple\\SO_S20-0.5\\I_SO6-S20-0.5_S_4.00\\I_SO6-S20-0.5_S_4.00_230215\\disturbVert2_1_1.250\n",
      "//cfs2e.nist.gov/642/internal/3D Printing Lab/Shopbot/videos\\singleDoubleTriple\\SO_S20-0.5\\I_SO6-S20-0.5_S_4.00\\I_SO6-S20-0.5_S_4.00_230215\\disturbVert2_2_0.500\n",
      "//cfs2e.nist.gov/642/internal/3D Printing Lab/Shopbot/videos\\singleDoubleTriple\\SO_S20-0.5\\I_SO6-S20-0.5_S_4.00\\I_SO6-S20-0.5_S_4.00_230215\\disturbVert2_2_0.625\n",
      "//cfs2e.nist.gov/642/internal/3D Printing Lab/Shopbot/videos\\singleDoubleTriple\\SO_S20-0.5\\I_SO6-S20-0.5_S_4.00\\I_SO6-S20-0.5_S_4.00_230215\\disturbVert2_2_0.750\n",
      "//cfs2e.nist.gov/642/internal/3D Printing Lab/Shopbot/videos\\singleDoubleTriple\\SO_S20-0.5\\I_SO6-S20-0.5_S_4.00\\I_SO6-S20-0.5_S_4.00_230215\\disturbVert2_2_0.875\n",
      "//cfs2e.nist.gov/642/internal/3D Printing Lab/Shopbot/videos\\singleDoubleTriple\\SO_S20-0.5\\I_SO6-S20-0.5_S_4.00\\I_SO6-S20-0.5_S_4.00_230215\\disturbVert2_2_1.000\n",
      "//cfs2e.nist.gov/642/internal/3D Printing Lab/Shopbot/videos\\singleDoubleTriple\\SO_S20-0.5\\I_SO6-S20-0.5_S_4.00\\I_SO6-S20-0.5_S_4.00_230215\\disturbVert2_2_1.250\n",
      "//cfs2e.nist.gov/642/internal/3D Printing Lab/Shopbot/videos\\singleDoubleTriple\\SO_S20-0.5\\I_SO6-S20-0.5_S_4.00\\I_SO6-S20-0.5_S_4.00_230215\\disturbVert2_3_0.500\n",
      "//cfs2e.nist.gov/642/internal/3D Printing Lab/Shopbot/videos\\singleDoubleTriple\\SO_S20-0.5\\I_SO6-S20-0.5_S_4.00\\I_SO6-S20-0.5_S_4.00_230215\\disturbVert2_3_0.625\n",
      "//cfs2e.nist.gov/642/internal/3D Printing Lab/Shopbot/videos\\singleDoubleTriple\\SO_S20-0.5\\I_SO6-S20-0.5_S_4.00\\I_SO6-S20-0.5_S_4.00_230215\\disturbVert2_3_0.750\n",
      "//cfs2e.nist.gov/642/internal/3D Printing Lab/Shopbot/videos\\singleDoubleTriple\\SO_S20-0.5\\I_SO6-S20-0.5_S_4.00\\I_SO6-S20-0.5_S_4.00_230215\\disturbVert2_3_0.875\n",
      "//cfs2e.nist.gov/642/internal/3D Printing Lab/Shopbot/videos\\singleDoubleTriple\\SO_S20-0.5\\I_SO6-S20-0.5_S_4.00\\I_SO6-S20-0.5_S_4.00_230215\\disturbVert2_3_1.000\n",
      "//cfs2e.nist.gov/642/internal/3D Printing Lab/Shopbot/videos\\singleDoubleTriple\\SO_S20-0.5\\I_SO6-S20-0.5_S_4.00\\I_SO6-S20-0.5_S_4.00_230215\\disturbVert2_3_1.250\n"
     ]
    }
   ],
   "source": [
    "def hasML(folder:str) -> bool:\n",
    "    if os.path.exists(os.path.join(folder, 'MLsegment')):\n",
    "        return\n",
    "    raise FileNotFoundError(folder)\n",
    "errorFolders = fh.folderLoop(os.path.join(cfg.path.server, 'singleDoubleTriple'), hasML, mustMatch=['disturbVert']).run()"
   ]
  },
  {
   "cell_type": "code",
   "execution_count": null,
   "metadata": {},
   "outputs": [],
   "source": [
    "import py.metrics.m_SDT as me\n",
    "me.moveMLResults(r'C:\\Users\\lmf1\\OneDrive - NIST\\NIST\\data\\shopbot\\results\\singleDoubleTriple\\trainingVert\\SO_segment_all_2\\png', \n",
    "                os.path.join(cfg.path.server, 'singleDoubleTriple'))"
   ]
  },
  {
   "cell_type": "code",
   "execution_count": 18,
   "metadata": {
    "tags": []
   },
   "outputs": [
    {
     "name": "stdout",
     "output_type": "stream",
     "text": [
      "INFO: Moved \\\\cfs2e.nist.gov\\642\\internal\\3D Printing Lab\\Shopbot\\videos\\singleDoubleTriple\\SO_S20.0.05\\I_SO6.S20.0.05_S_3.00_230215 to \\\\cfs2e.nist.gov\\642\\internal\\3D Printing Lab\\Shopbot\\videos\\singleDoubleTriple\\SO_S20.0.05\\I_SO6.S20.0.05_S_3.00\\I_SO6.S20.0.05_S_3.00_230215\n",
      "INFO: Moved \\\\cfs2e.nist.gov\\642\\internal\\3D Printing Lab\\Shopbot\\videos\\singleDoubleTriple\\SO_S20.0.05\\I_SO6.S20.0.05_S_3.00_v2_230215 to \\\\cfs2e.nist.gov\\642\\internal\\3D Printing Lab\\Shopbot\\videos\\singleDoubleTriple\\SO_S20.0.05\\I_SO6.S20.0.05_S_3.00\\I_SO6.S20.0.05_S_3.00_v2_230215\n"
     ]
    }
   ],
   "source": [
    "fh.sortRecursive(os.path.join(cfg.path.server, 'singleDoubleTriple'), debug=False)"
   ]
  },
  {
   "cell_type": "code",
   "execution_count": 20,
   "metadata": {
    "tags": []
   },
   "outputs": [
    {
     "data": {
      "text/plain": [
       "[]"
      ]
     },
     "execution_count": 20,
     "metadata": {},
     "output_type": "execute_result"
    }
   ],
   "source": [
    "mismatch, tooMany = fh.checkFolders(os.path.join(cfg.path.server, 'singleDoubleTriple'))\n",
    "mismatch"
   ]
  },
  {
   "cell_type": "code",
   "execution_count": 63,
   "metadata": {},
   "outputs": [
    {
     "name": "stdout",
     "output_type": "stream",
     "text": [
      "0.006999492645263672\n",
      "printFolder:\tdisturbXS2_3_+y_0.750\n",
      "\n",
      "vid:\t['disturbXS2_3_+y_0.750_Basler camera_I_SO10_S_4.00_230208_190459_2.avi']\n",
      "\n",
      "\n",
      "meta:\t['disturbXS2_3_+y_0.750_meta_I_SO10_S_4.00_230208_190459_2.csv']\n",
      "\n",
      "\n",
      "timeSeries:\t['disturbXS2_3_+y_0.750_time_I_SO10_S_4.00_230208_190459_2.csv']\n",
      "\n",
      "printType:\tSDT\n"
     ]
    }
   ],
   "source": [
    "pfd = fh.printFileDict(os.path.join(cfg.path.server, r'singleDoubleTriple\\SO\\I_SO10_S_4.00\\I_SO10_S_4.00_230208\\disturbXS2_3_+y_0.750'))\n",
    "pfd.printAll()"
   ]
  },
  {
   "cell_type": "code",
   "execution_count": 45,
   "metadata": {
    "tags": []
   },
   "outputs": [
    {
     "name": "stdout",
     "output_type": "stream",
     "text": [
      "printFolder:\tdisturbXS2_3_+y_0.750\n",
      "\n",
      "vid:\t['disturbXS2_3_+y_0.750_Basler camera_I_SO10_S_4.00_230208_190459_2.avi']\n",
      "\n",
      "printType:\tSDT\n",
      "sbp:\tdisturbXS2_3_+y_0.750\n",
      "summary:\tdisturbXS2_3_+y_0.750_xs_+ySummary_I_SO10_S_4.00_230208_190459_2.csv\n"
     ]
    }
   ],
   "source": [
    "pfd.printAll()"
   ]
  },
  {
   "cell_type": "code",
   "execution_count": 49,
   "metadata": {
    "tags": []
   },
   "outputs": [
    {
     "data": {
      "text/plain": [
       "'//cfs2e.nist.gov/642/internal/3D Printing Lab/Shopbot/videos\\\\singleDoubleTriple\\\\SO\\\\I_SO10_S_4.00\\\\I_SO10_S_4.00_230208\\\\disturbXS2_3_+y_0.750\\\\disturbXS2_3_+y_0.750_xs_+yMeasure_I_SO10_S_4.00_230208_190459_2.csv'"
      ]
     },
     "execution_count": 49,
     "metadata": {},
     "output_type": "execute_result"
    }
   ],
   "source": [
    "pfd.measure"
   ]
  },
  {
   "cell_type": "code",
   "execution_count": 48,
   "metadata": {
    "tags": []
   },
   "outputs": [
    {
     "data": {
      "text/plain": [
       "True"
      ]
     },
     "execution_count": 48,
     "metadata": {},
     "output_type": "execute_result"
    }
   ],
   "source": [
    "hasattr(pfd, 'measure')"
   ]
  },
  {
   "cell_type": "code",
   "execution_count": 30,
   "metadata": {
    "tags": []
   },
   "outputs": [
    {
     "data": {
      "text/plain": [
       "''"
      ]
     },
     "execution_count": 30,
     "metadata": {},
     "output_type": "execute_result"
    }
   ],
   "source": [
    "pfd.gjdkalg"
   ]
  },
  {
   "cell_type": "code",
   "execution_count": 51,
   "metadata": {
    "tags": []
   },
   "outputs": [
    {
     "ename": "AttributeError",
     "evalue": "",
     "output_type": "error",
     "traceback": [
      "\u001b[1;31m---------------------------------------------------------------------------\u001b[0m",
      "\u001b[1;31mAttributeError\u001b[0m                            Traceback (most recent call last)",
      "Cell \u001b[1;32mIn[51], line 1\u001b[0m\n\u001b[1;32m----> 1\u001b[0m \u001b[43mpfd\u001b[49m\u001b[38;5;241;43m.\u001b[39;49m\u001b[43mfailure\u001b[49m\n",
      "File \u001b[1;32m~\\Documents\\GitHub\\embedded3DPvids\\py\\file\\printFileDict.py:85\u001b[0m, in \u001b[0;36m__getattr__\u001b[1;34m(self, s, ext)\u001b[0m\n\u001b[0;32m     82\u001b[0m         self.printType=val\n\u001b[0;32m     83\u001b[0m         return  \n\u001b[1;32m---> 85\u001b[0m # printtype folder failed, try the printfolder\n\u001b[0;32m     86\u001b[0m logging.error('Could not determine print type from file hierarchy')\n\u001b[0;32m     87\u001b[0m bn = re.split('_',os.path.basename(self.printFolder))[0]\n",
      "\u001b[1;31mAttributeError\u001b[0m: "
     ]
    }
   ],
   "source": [
    "pfd.failure"
   ]
  },
  {
   "cell_type": "code",
   "execution_count": null,
   "metadata": {},
   "outputs": [],
   "source": []
  },
  {
   "cell_type": "code",
   "execution_count": 52,
   "metadata": {
    "tags": []
   },
   "outputs": [
    {
     "data": {
      "text/plain": [
       "False"
      ]
     },
     "execution_count": 52,
     "metadata": {},
     "output_type": "execute_result"
    }
   ],
   "source": [
    "hasattr(pfd, 'failure')"
   ]
  },
  {
   "cell_type": "code",
   "execution_count": null,
   "metadata": {},
   "outputs": [],
   "source": [
    "fh.putStillsAway(r'\\\\cfs2e.nist.gov\\642\\internal\\3D Printing Lab\\Shopbot\\videos\\singleDoubleTriple', debug=False)"
   ]
  },
  {
   "cell_type": "code",
   "execution_count": 53,
   "metadata": {
    "tags": []
   },
   "outputs": [],
   "source": [
    "import val.v_print as pv"
   ]
  },
  {
   "cell_type": "code",
   "execution_count": 61,
   "metadata": {
    "tags": []
   },
   "outputs": [
    {
     "data": {
      "text/plain": [
       "({'printFolder': '//cfs2e.nist.gov/642/internal/3D Printing Lab/Shopbot/videos\\\\singleDoubleTriple\\\\SO\\\\I_SO10_S_4.00\\\\I_SO10_S_4.00_230208\\\\disturbXS2_3_+y_0.750',\n",
       "  'bn': 'I_SO10_S_4.00',\n",
       "  'date': 230208,\n",
       "  'sigma': 37.8013,\n",
       "  'fluFile': False,\n",
       "  'calibFile': True,\n",
       "  'spacing': 0.75,\n",
       "  'vRatio': 1.0,\n",
       "  'dEst': 0.603,\n",
       "  'viscRatio': 0.0030503582276062047,\n",
       "  'rGrav': -57342474.967515215,\n",
       "  'int_Re': 5.3744544719530996e-05,\n",
       "  'ReRatio': 0.6829813222576208,\n",
       "  'hDragP': 184.52420977125576,\n",
       "  'vDragP': 47.603768354429995,\n",
       "  'int_CaInv': 0.034032089691381585,\n",
       "  'pressureCh0': 124391.38004829497,\n",
       "  'ink_shortname': 'SO10',\n",
       "  'ink_days': 1,\n",
       "  'ink_rheModifier': 'Aerosil R812S',\n",
       "  'ink_surfactant': '',\n",
       "  'ink_surfactantWt': '',\n",
       "  'ink_dye': 'red',\n",
       "  'ink_var': 'w% silica',\n",
       "  'ink_val': 10.0,\n",
       "  'ink_base': 'silicone oil',\n",
       "  'ink_type': 'silicone oil',\n",
       "  'ink_tau0': 0.893111,\n",
       "  'ink_eta0': 10.782518,\n",
       "  'ink_density': 0.99,\n",
       "  'ink_v': 10.0,\n",
       "  'ink_rate': 16.58374792703151,\n",
       "  'ink_visc0': 0.338819941751656,\n",
       "  'ink_CaInv': 11.156751814716715,\n",
       "  'ink_Re': 0.01761909281117697,\n",
       "  'ink_WeInv': 633.2194247617133,\n",
       "  'ink_OhInv': 0.44336423592207,\n",
       "  'ink_dPR': 42.32542203600672,\n",
       "  'ink_dnormInv': 70.19141299503602,\n",
       "  'ink_Bm': 0.15894753130993,\n",
       "  'sup_shortname': '4.00',\n",
       "  'sup_days': 1,\n",
       "  'sup_rheModifier': 'Laponite RD',\n",
       "  'sup_surfactant': '',\n",
       "  'sup_surfactantWt': '',\n",
       "  'sup_dye': '',\n",
       "  'sup_var': 'w% Laponite RD',\n",
       "  'sup_val': 4.0,\n",
       "  'sup_base': 'water',\n",
       "  'sup_type': 'water',\n",
       "  'sup_tau0': 18.75529,\n",
       "  'sup_eta0': 111.07545949367,\n",
       "  'sup_density': 1.023375,\n",
       "  'sup_v': 10.0,\n",
       "  'sup_rate': 0.03571428571428571,\n",
       "  'sup_visc0': 111.07545949367,\n",
       "  'sup_CaInv': 0.034032089691381585,\n",
       "  'sup_Re': 0.02579732744804263,\n",
       "  'sup_WeInv': 1.3192098972238218,\n",
       "  'sup_OhInv': 0.029630001037963653,\n",
       "  'sup_dPR': 2.0155006934043675,\n",
       "  'sup_dnormInv': 3.342455544617525,\n",
       "  'sup_Bm': 4.727850079521185},\n",
       " {'printFolder': '',\n",
       "  'bn': '',\n",
       "  'date': 'yymmdd',\n",
       "  'sigma': 'mN/m',\n",
       "  'fluFile': '',\n",
       "  'calibFile': '',\n",
       "  'spacing': '$d_i$',\n",
       "  'vRatio': '',\n",
       "  'dEst': 'mm',\n",
       "  'viscRatio': '',\n",
       "  'rGrav': 'mm',\n",
       "  'int_Re': '',\n",
       "  'ReRatio': '',\n",
       "  'hDragP': 'Pa',\n",
       "  'vDragP': 'Pa',\n",
       "  'int_CaInv': '',\n",
       "  'pressureCh0': 'Pa',\n",
       "  'ink_shortname': '',\n",
       "  'ink_days': '',\n",
       "  'ink_rheModifier': '',\n",
       "  'ink_surfactant': '',\n",
       "  'ink_surfactantWt': '',\n",
       "  'ink_dye': '',\n",
       "  'ink_var': '',\n",
       "  'ink_val': 'w% silica',\n",
       "  'ink_base': '',\n",
       "  'ink_type': '',\n",
       "  'ink_tau0': 'Pa',\n",
       "  'ink_eta0': 'Pa*s',\n",
       "  'ink_density': 'g/mL',\n",
       "  'ink_v': 'mm/s',\n",
       "  'ink_rate': '1/s',\n",
       "  'ink_visc0': 'Pa*s',\n",
       "  'ink_CaInv': '',\n",
       "  'ink_Re': '',\n",
       "  'ink_WeInv': '',\n",
       "  'ink_OhInv': '',\n",
       "  'ink_dPR': 'mm',\n",
       "  'ink_dnormInv': '',\n",
       "  'ink_Bm': '',\n",
       "  'sup_shortname': '',\n",
       "  'sup_days': '',\n",
       "  'sup_rheModifier': '',\n",
       "  'sup_surfactant': '',\n",
       "  'sup_surfactantWt': '',\n",
       "  'sup_dye': '',\n",
       "  'sup_var': '',\n",
       "  'sup_val': 'w% Laponite RD',\n",
       "  'sup_base': '',\n",
       "  'sup_type': '',\n",
       "  'sup_tau0': 'Pa',\n",
       "  'sup_eta0': 'Pa*s',\n",
       "  'sup_density': 'g/mL',\n",
       "  'sup_v': 'mm/s',\n",
       "  'sup_rate': '1/s',\n",
       "  'sup_visc0': 'Pa*s',\n",
       "  'sup_CaInv': '',\n",
       "  'sup_Re': '',\n",
       "  'sup_WeInv': '',\n",
       "  'sup_OhInv': '',\n",
       "  'sup_dPR': 'mm',\n",
       "  'sup_dnormInv': '',\n",
       "  'sup_Bm': ''})"
      ]
     },
     "execution_count": 61,
     "metadata": {},
     "output_type": "execute_result"
    }
   ],
   "source": [
    "pvi = pv.printVals(os.path.join(cfg.path.server, r'singleDoubleTriple\\SO\\I_SO10_S_4.00\\I_SO10_S_4.00_230208\\disturbXS2_3_+y_0.750'))\n",
    "pvi.metarow()"
   ]
  },
  {
   "cell_type": "code",
   "execution_count": null,
   "metadata": {},
   "outputs": [],
   "source": []
  }
 ],
 "metadata": {
  "kernelspec": {
   "display_name": "Python 3 (ipykernel)",
   "language": "python",
   "name": "python3"
  },
  "language_info": {
   "codemirror_mode": {
    "name": "ipython",
    "version": 3
   },
   "file_extension": ".py",
   "mimetype": "text/x-python",
   "name": "python",
   "nbconvert_exporter": "python",
   "pygments_lexer": "ipython3",
   "version": "3.8.3"
  }
 },
 "nbformat": 4,
 "nbformat_minor": 4
}
