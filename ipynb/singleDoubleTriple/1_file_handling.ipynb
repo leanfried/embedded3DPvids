{
 "cells": [
  {
   "cell_type": "markdown",
   "metadata": {},
   "source": [
    "# Sort files in folder\n",
    "Leanne Friedrich 9/29/22"
   ]
  },
  {
   "cell_type": "markdown",
   "metadata": {},
   "source": [
    "# initialization"
   ]
  },
  {
   "cell_type": "code",
   "execution_count": 1,
   "metadata": {
    "tags": []
   },
   "outputs": [],
   "source": [
    "%load_ext autoreload\n",
    "%autoreload 2\n",
    "LOGGERDEFINED = False"
   ]
  },
  {
   "cell_type": "code",
   "execution_count": 2,
   "metadata": {
    "tags": []
   },
   "outputs": [],
   "source": [
    "import os\n",
    "import sys\n",
    "sys.path.append(\"../\")\n",
    "sys.path.append(\"../../\")\n",
    "import py.file.file_handling as fh\n",
    "from py.tools.config import cfg\n",
    "import py.tools.logs as logs\n",
    "LOGGERDEFINED = logs.openLog('fileHandling.ipynb', LOGGERDEFINED, level='DEBUG', exportLog=False)"
   ]
  },
  {
   "cell_type": "markdown",
   "metadata": {},
   "source": [
    "# Sort and rename files and folders"
   ]
  },
  {
   "cell_type": "code",
   "execution_count": 3,
   "metadata": {
    "tags": []
   },
   "outputs": [
    {
     "name": "stdout",
     "output_type": "stream",
     "text": [
      "INFO: Moved //cfs2e.nist.gov/642/internal/3D Printing Lab/Shopbot/videos\\SDT\\PDMSS_vsweep\\I_PDMSS8-S85-0.05_S_3.50_vsweep2_231019 to //cfs2e.nist.gov/642/internal/3D Printing Lab/Shopbot/videos\\SDT\\PDMSS_vsweep\\I_PDMSS8-S85-0.05_S_3.50\\I_PDMSS8-S85-0.05_S_3.50_vsweep2_231019\n",
      "INFO: Moved //cfs2e.nist.gov/642/internal/3D Printing Lab/Shopbot/videos\\SDT\\PDMSS_vsweep\\I_PDMSS8-S85-0.05_S_3.50_vsweep_231019 to //cfs2e.nist.gov/642/internal/3D Printing Lab/Shopbot/videos\\SDT\\PDMSS_vsweep\\I_PDMSS8-S85-0.05_S_3.50\\I_PDMSS8-S85-0.05_S_3.50_vsweep_231019\n"
     ]
    }
   ],
   "source": [
    "fh.sortRecursive(os.path.join(cfg.path.server, r'SDT\\PDMSS_vsweep'), debug=False)"
   ]
  },
  {
   "cell_type": "code",
   "execution_count": 4,
   "metadata": {
    "collapsed": true,
    "jupyter": {
     "outputs_hidden": true
    },
    "tags": []
   },
   "outputs": [
    {
     "name": "stdout",
     "output_type": "stream",
     "text": [
      "INFO: Moved //cfs2e.nist.gov/642/internal/3D Printing Lab/Shopbot/videos\\SDT\\PDMSS_S85-0.05\\I_PDMSS10-S85-0.05_S_3.00_230908 to //cfs2e.nist.gov/642/internal/3D Printing Lab/Shopbot/videos\\SDT\\PDMSS_S85-0.05\\I_PDMSS10-S85-0.05_S_3.00\\I_PDMSS10-S85-0.05_S_3.00_230908\n",
      "INFO: Moved //cfs2e.nist.gov/642/internal/3D Printing Lab/Shopbot/videos\\SDT\\PDMSS_S85-0.05\\I_PDMSS10-S85-0.05_S_3.50_230908 to //cfs2e.nist.gov/642/internal/3D Printing Lab/Shopbot/videos\\SDT\\PDMSS_S85-0.05\\I_PDMSS10-S85-0.05_S_3.50\\I_PDMSS10-S85-0.05_S_3.50_230908\n",
      "INFO: Moved //cfs2e.nist.gov/642/internal/3D Printing Lab/Shopbot/videos\\SDT\\PDMSS_S85-0.05\\I_PDMSS10-S85-0.05_S_4.00_230908 to //cfs2e.nist.gov/642/internal/3D Printing Lab/Shopbot/videos\\SDT\\PDMSS_S85-0.05\\I_PDMSS10-S85-0.05_S_4.00\\I_PDMSS10-S85-0.05_S_4.00_230908\n",
      "INFO: Moved //cfs2e.nist.gov/642/internal/3D Printing Lab/Shopbot/videos\\SDT\\PDMSS_S85-0.05\\I_PDMSS10-S85-0.05_S_4.00_230908_v2 to //cfs2e.nist.gov/642/internal/3D Printing Lab/Shopbot/videos\\SDT\\PDMSS_S85-0.05\\I_PDMSS10-S85-0.05_S_4.00\\I_PDMSS10-S85-0.05_S_4.00_230908_v2\n",
      "INFO: Moved //cfs2e.nist.gov/642/internal/3D Printing Lab/Shopbot/videos\\SDT\\PDMSS_S85-0.05\\I_PDMSS6-S85-0.05_S_3.00_230908 to //cfs2e.nist.gov/642/internal/3D Printing Lab/Shopbot/videos\\SDT\\PDMSS_S85-0.05\\I_PDMSS6-S85-0.05_S_3.00\\I_PDMSS6-S85-0.05_S_3.00_230908\n",
      "INFO: Moved //cfs2e.nist.gov/642/internal/3D Printing Lab/Shopbot/videos\\SDT\\PDMSS_S85-0.05\\I_PDMSS6-S85-0.05_S_3.50_230908 to //cfs2e.nist.gov/642/internal/3D Printing Lab/Shopbot/videos\\SDT\\PDMSS_S85-0.05\\I_PDMSS6-S85-0.05_S_3.50\\I_PDMSS6-S85-0.05_S_3.50_230908\n",
      "INFO: Moved //cfs2e.nist.gov/642/internal/3D Printing Lab/Shopbot/videos\\SDT\\PDMSS_S85-0.05\\I_PDMSS6-S85-0.05_S_4.00_230908 to //cfs2e.nist.gov/642/internal/3D Printing Lab/Shopbot/videos\\SDT\\PDMSS_S85-0.05\\I_PDMSS6-S85-0.05_S_4.00\\I_PDMSS6-S85-0.05_S_4.00_230908\n",
      "INFO: Moved //cfs2e.nist.gov/642/internal/3D Printing Lab/Shopbot/videos\\SDT\\PDMSS_S85-0.05\\I_PDMSS8-S85-0.05_S_3.00_230908 to //cfs2e.nist.gov/642/internal/3D Printing Lab/Shopbot/videos\\SDT\\PDMSS_S85-0.05\\I_PDMSS8-S85-0.05_S_3.00\\I_PDMSS8-S85-0.05_S_3.00_230908\n",
      "INFO: Moved //cfs2e.nist.gov/642/internal/3D Printing Lab/Shopbot/videos\\SDT\\PDMSS_S85-0.05\\I_PDMSS8-S85-0.05_S_3.00_230908_v2 to //cfs2e.nist.gov/642/internal/3D Printing Lab/Shopbot/videos\\SDT\\PDMSS_S85-0.05\\I_PDMSS8-S85-0.05_S_3.00\\I_PDMSS8-S85-0.05_S_3.00_230908_v2\n",
      "INFO: Moved //cfs2e.nist.gov/642/internal/3D Printing Lab/Shopbot/videos\\SDT\\PDMSS_S85-0.05\\I_PDMSS8-S85-0.05_S_3.50_230908 to //cfs2e.nist.gov/642/internal/3D Printing Lab/Shopbot/videos\\SDT\\PDMSS_S85-0.05\\I_PDMSS8-S85-0.05_S_3.50\\I_PDMSS8-S85-0.05_S_3.50_230908\n",
      "INFO: Moved //cfs2e.nist.gov/642/internal/3D Printing Lab/Shopbot/videos\\SDT\\PDMSS_S85-0.05\\I_PDMSS8-S85-0.05_S_4.00_230908 to //cfs2e.nist.gov/642/internal/3D Printing Lab/Shopbot/videos\\SDT\\PDMSS_S85-0.05\\I_PDMSS8-S85-0.05_S_4.00\\I_PDMSS8-S85-0.05_S_4.00_230908\n"
     ]
    }
   ],
   "source": [
    "fh.sortRecursive(os.path.join(cfg.path.server, r'SDT\\PDMSS_S85-0.05'), debug=False)"
   ]
  },
  {
   "cell_type": "code",
   "execution_count": 10,
   "metadata": {
    "tags": []
   },
   "outputs": [],
   "source": [
    "def renameFile(file):\n",
    "    newname = file.replace('PDMSS6-S85_', 'PDMSS6-S85-0.05_')\n",
    "    if not newname==file:\n",
    "        os.rename(file, newname)\n",
    "    if os.path.isdir(newname):\n",
    "        for f in os.listdir(newname):\n",
    "            renameFile(os.path.join(newname, f))\n",
    "for w in ['3.00', '3.50', '4.00']:\n",
    "    renameFile(os.path.join(r'\\\\cfs2e.nist.gov\\642\\internal\\3D Printing Lab\\Shopbot\\videos\\SDT\\PDMSS_S85-0.05', f'I_PDMSS6-S85_S_{w}'))"
   ]
  },
  {
   "cell_type": "code",
   "execution_count": 9,
   "metadata": {},
   "outputs": [],
   "source": [
    "for v,d in {11:230727}.items():\n",
    "    for w in ['3.00', '3.50', '4.00']:\n",
    "        fh.putStillsAway(os.path.join(cfg.path.server, r'SDT\\SO', f'I_SO{v}_S_{w}', f'I_SO{v}_S_{w}_{d}'), debug=False)"
   ]
  },
  {
   "cell_type": "code",
   "execution_count": 218,
   "metadata": {
    "tags": []
   },
   "outputs": [],
   "source": [
    "fh.putStillsAway(os.path.join(cfg.path.server, r'SDT\\PDMSS'))"
   ]
  },
  {
   "cell_type": "code",
   "execution_count": 20,
   "metadata": {
    "tags": []
   },
   "outputs": [
    {
     "data": {
      "text/plain": [
       "[]"
      ]
     },
     "execution_count": 20,
     "metadata": {},
     "output_type": "execute_result"
    }
   ],
   "source": [
    "mismatch, tooMany = fh.checkFolders(os.path.join(cfg.path.server, 'SDT'))\n",
    "mismatch"
   ]
  }
 ],
 "metadata": {
  "kernelspec": {
   "display_name": "Python 3 (ipykernel)",
   "language": "python",
   "name": "python3"
  },
  "language_info": {
   "codemirror_mode": {
    "name": "ipython",
    "version": 3
   },
   "file_extension": ".py",
   "mimetype": "text/x-python",
   "name": "python",
   "nbconvert_exporter": "python",
   "pygments_lexer": "ipython3",
   "version": "3.8.3"
  }
 },
 "nbformat": 4,
 "nbformat_minor": 4
}
