{
 "cells": [
  {
   "cell_type": "markdown",
   "metadata": {},
   "source": [
    "# Sort files in folder\n",
    "Leanne Friedrich 9/29/22"
   ]
  },
  {
   "cell_type": "markdown",
   "metadata": {},
   "source": [
    "# initialization"
   ]
  },
  {
   "cell_type": "code",
   "execution_count": 1,
   "metadata": {
    "tags": []
   },
   "outputs": [],
   "source": [
    "%load_ext autoreload\n",
    "%autoreload 2\n",
    "LOGGERDEFINED = False"
   ]
  },
  {
   "cell_type": "code",
   "execution_count": 2,
   "metadata": {
    "tags": []
   },
   "outputs": [],
   "source": [
    "import os\n",
    "import sys\n",
    "sys.path.append(\"../\")\n",
    "sys.path.append(\"../../\")\n",
    "import py.file.file_handling as fh\n",
    "from py.tools.config import cfg\n",
    "import py.tools.logs as logs\n",
    "LOGGERDEFINED = logs.openLog('fileHandling.ipynb', LOGGERDEFINED, level='DEBUG', exportLog=False)"
   ]
  },
  {
   "cell_type": "markdown",
   "metadata": {},
   "source": [
    "# Sort and rename files and folders"
   ]
  },
  {
   "cell_type": "code",
   "execution_count": 39,
   "metadata": {
    "tags": []
   },
   "outputs": [
    {
     "name": "stdout",
     "output_type": "stream",
     "text": [
      "INFO: Moved //cfs2e.nist.gov/642/internal/3D Printing Lab/Shopbot/videos\\singleDoubleTriple\\SO_S85-0.05\\I_SO10-S85-0.05_S_3.00_230516 to //cfs2e.nist.gov/642/internal/3D Printing Lab/Shopbot/videos\\singleDoubleTriple\\SO_S85-0.05\\I_SO10-S85-0.05_S_3.00\\I_SO10-S85-0.05_S_3.00_230516\n",
      "INFO: Moved //cfs2e.nist.gov/642/internal/3D Printing Lab/Shopbot/videos\\singleDoubleTriple\\SO_S85-0.05\\I_SO10-S85-0.05_S_3.50_230516 to //cfs2e.nist.gov/642/internal/3D Printing Lab/Shopbot/videos\\singleDoubleTriple\\SO_S85-0.05\\I_SO10-S85-0.05_S_3.50\\I_SO10-S85-0.05_S_3.50_230516\n",
      "INFO: Moved //cfs2e.nist.gov/642/internal/3D Printing Lab/Shopbot/videos\\singleDoubleTriple\\SO_S85-0.05\\I_SO10-S85-0.05_S_4.00_230516 to //cfs2e.nist.gov/642/internal/3D Printing Lab/Shopbot/videos\\singleDoubleTriple\\SO_S85-0.05\\I_SO10-S85-0.05_S_4.00\\I_SO10-S85-0.05_S_4.00_230516\n"
     ]
    }
   ],
   "source": [
    "fh.sortRecursive(os.path.join(cfg.path.server, r'singleDoubleTriple\\SO_S85-0.05'), debug=False)"
   ]
  },
  {
   "cell_type": "code",
   "execution_count": 40,
   "metadata": {},
   "outputs": [],
   "source": [
    "fh.putStillsAway(os.path.join(cfg.path.server, r'singleDoubleTriple\\SO_S85-0.05'), debug=False)"
   ]
  },
  {
   "cell_type": "code",
   "execution_count": 20,
   "metadata": {
    "tags": []
   },
   "outputs": [
    {
     "data": {
      "text/plain": [
       "[]"
      ]
     },
     "execution_count": 20,
     "metadata": {},
     "output_type": "execute_result"
    }
   ],
   "source": [
    "mismatch, tooMany = fh.checkFolders(os.path.join(cfg.path.server, 'singleDoubleTriple'))\n",
    "mismatch"
   ]
  }
 ],
 "metadata": {
  "kernelspec": {
   "display_name": "Python 3 (ipykernel)",
   "language": "python",
   "name": "python3"
  },
  "language_info": {
   "codemirror_mode": {
    "name": "ipython",
    "version": 3
   },
   "file_extension": ".py",
   "mimetype": "text/x-python",
   "name": "python",
   "nbconvert_exporter": "python",
   "pygments_lexer": "ipython3",
   "version": "3.8.3"
  }
 },
 "nbformat": 4,
 "nbformat_minor": 4
}
