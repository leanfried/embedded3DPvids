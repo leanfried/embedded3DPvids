{
 "cells": [
  {
   "cell_type": "markdown",
   "metadata": {},
   "source": [
    "# Sort files in folder\n",
    "Leanne Friedrich 9/29/22"
   ]
  },
  {
   "cell_type": "markdown",
   "metadata": {},
   "source": [
    "# initialization"
   ]
  },
  {
   "cell_type": "code",
   "execution_count": 3,
   "metadata": {},
   "outputs": [],
   "source": [
    "%load_ext autoreload\n",
    "%autoreload 2\n",
    "LOGGERDEFINED = False"
   ]
  },
  {
   "cell_type": "code",
   "execution_count": 4,
   "metadata": {
    "tags": []
   },
   "outputs": [],
   "source": [
    "import os\n",
    "import sys\n",
    "sys.path.append(\"../\")\n",
    "sys.path.append(\"../../\")\n",
    "import py.file_handling as fh\n",
    "from py.tools.config import cfg\n",
    "import py.tools.logs as logs\n",
    "LOGGERDEFINED = logs.openLog('fileHandling.ipynb', LOGGERDEFINED, level='DEBUG', exportLog=False)"
   ]
  },
  {
   "cell_type": "markdown",
   "metadata": {},
   "source": [
    "# Sort and rename files and folders"
   ]
  },
  {
   "cell_type": "code",
   "execution_count": 18,
   "metadata": {
    "tags": []
   },
   "outputs": [
    {
     "name": "stdout",
     "output_type": "stream",
     "text": [
      "INFO: Moved \\\\cfs2e.nist.gov\\642\\internal\\3D Printing Lab\\Shopbot\\videos\\singleDoubleTriple\\SO_S20.0.05\\I_SO6.S20.0.05_S_3.00_230215 to \\\\cfs2e.nist.gov\\642\\internal\\3D Printing Lab\\Shopbot\\videos\\singleDoubleTriple\\SO_S20.0.05\\I_SO6.S20.0.05_S_3.00\\I_SO6.S20.0.05_S_3.00_230215\n",
      "INFO: Moved \\\\cfs2e.nist.gov\\642\\internal\\3D Printing Lab\\Shopbot\\videos\\singleDoubleTriple\\SO_S20.0.05\\I_SO6.S20.0.05_S_3.00_v2_230215 to \\\\cfs2e.nist.gov\\642\\internal\\3D Printing Lab\\Shopbot\\videos\\singleDoubleTriple\\SO_S20.0.05\\I_SO6.S20.0.05_S_3.00\\I_SO6.S20.0.05_S_3.00_v2_230215\n"
     ]
    }
   ],
   "source": [
    "fh.sortRecursive(os.path.join(cfg.path.server, 'singleDoubleTriple'), debug=False)"
   ]
  },
  {
   "cell_type": "code",
   "execution_count": 20,
   "metadata": {
    "tags": []
   },
   "outputs": [
    {
     "data": {
      "text/plain": [
       "[]"
      ]
     },
     "execution_count": 20,
     "metadata": {},
     "output_type": "execute_result"
    }
   ],
   "source": [
    "mismatch, tooMany = fh.checkFolders(os.path.join(cfg.path.server, 'singleDoubleTriple'))\n",
    "mismatch"
   ]
  },
  {
   "cell_type": "code",
   "execution_count": 29,
   "metadata": {},
   "outputs": [
    {
     "name": "stdout",
     "output_type": "stream",
     "text": [
      "\n",
      "vid:\t['disturbHoriz3_1_0.625_Basler camera_I_SO6.S20.0.05_S_3.00_230215_101055_2.avi']\n",
      "\n",
      "\n",
      "still_unknown:\t['disturbHoriz3_1_0.625_Basler camera_I_SO6.S20.0.05_S_3.00_230215_101105_6.png', 'disturbHoriz3_1_0.625_Basler camera_I_SO6.S20.0.05_S_3.00_230215_101109_8.png', 'disturbHoriz3_1_0.625_Basler camera_I_SO6.S20.0.05_S_3.00_230215_101113_7.png', 'disturbHoriz3_1_0.625_Basler camera_I_SO6.S20.0.05_S_3.00_230215_101117_9.png', 'disturbHoriz3_1_0.625_Basler camera_I_SO6.S20.0.05_S_3.00_230215_101122_2.png', 'disturbHoriz3_1_0.625_Basler camera_I_SO6.S20.0.05_S_3.00_230215_101126_4.png', 'disturbHoriz3_1_0.625_Basler camera_I_SO6.S20.0.05_S_3.00_230215_101130_3.png', 'disturbHoriz3_1_0.625_Basler camera_I_SO6.S20.0.05_S_3.00_230215_101134_6.png', 'disturbHoriz3_1_0.625_Basler camera_I_SO6.S20.0.05_S_3.00_230215_101138_8.png', 'disturbHoriz3_1_0.625_Basler camera_I_SO6.S20.0.05_S_3.00_230215_101143_0.png', 'disturbHoriz3_1_0.625_Basler camera_I_SO6.S20.0.05_S_3.00_230215_101147_0.png', 'disturbHoriz3_1_0.625_Basler camera_I_SO6.S20.0.05_S_3.00_230215_101151_2.png', 'disturbHoriz3_1_0.625_Basler camera_I_SO6.S20.0.05_S_3.00_230215_101155_5.png', 'disturbHoriz3_1_0.625_Basler camera_I_SO6.S20.0.05_S_3.00_230215_101159_8.png', 'disturbHoriz3_1_0.625_Basler camera_I_SO6.S20.0.05_S_3.00_230215_101203_7.png', 'disturbHoriz3_1_0.625_Basler camera_I_SO6.S20.0.05_S_3.00_230215_101207_9.png']\n",
      "\n",
      "\n",
      "timeSeries:\t['disturbHoriz3_1_0.625_time_I_SO6.S20.0.05_S_3.00_230215_101055_3.csv']\n",
      "\n",
      "\n",
      "meta:\t['disturbHoriz3_1_0.625_meta_I_SO6.S20.0.05_S_3.00_230215_101055_2.csv']\n",
      "\n",
      "printType:\tsingleDisturb\n",
      "date:\t230215\n"
     ]
    }
   ],
   "source": [
    "fh.printFileDict(os.path.join(cfg.path.server, r'singleDoubleTriple\\SO_S20.0.05\\I_SO6.S20.0.05_S_3.00\\I_SO6.S20.0.05_S_3.00_v3_230215\\disturbHoriz3_1_0.625')).printAll()"
   ]
  },
  {
   "cell_type": "code",
   "execution_count": 46,
   "metadata": {},
   "outputs": [],
   "source": [
    "fh.putStillsAway(r'\\\\cfs2e.nist.gov\\642\\internal\\3D Printing Lab\\Shopbot\\videos\\singleDoubleTriple', debug=False)"
   ]
  },
  {
   "cell_type": "code",
   "execution_count": null,
   "metadata": {},
   "outputs": [],
   "source": []
  }
 ],
 "metadata": {
  "kernelspec": {
   "display_name": "Python 3",
   "language": "python",
   "name": "python3"
  },
  "language_info": {
   "codemirror_mode": {
    "name": "ipython",
    "version": 3
   },
   "file_extension": ".py",
   "mimetype": "text/x-python",
   "name": "python",
   "nbconvert_exporter": "python",
   "pygments_lexer": "ipython3",
   "version": "3.8.3"
  }
 },
 "nbformat": 4,
 "nbformat_minor": 4
}
