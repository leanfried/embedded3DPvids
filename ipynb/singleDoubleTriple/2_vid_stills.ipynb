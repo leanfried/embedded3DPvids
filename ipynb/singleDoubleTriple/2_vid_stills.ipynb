{
 "cells": [
  {
   "cell_type": "markdown",
   "id": "f3abcb5b",
   "metadata": {},
   "source": [
    "# Making stills of disturbed lines"
   ]
  },
  {
   "cell_type": "markdown",
   "id": "11f935f6",
   "metadata": {},
   "source": [
    "## Initialization"
   ]
  },
  {
   "cell_type": "code",
   "execution_count": 1,
   "id": "efacb63a",
   "metadata": {
    "tags": []
   },
   "outputs": [],
   "source": [
    "%load_ext autoreload\n",
    "%autoreload 2\n",
    "LOGGERDEFINED = False"
   ]
  },
  {
   "cell_type": "code",
   "execution_count": 5,
   "id": "662da04e",
   "metadata": {},
   "outputs": [],
   "source": [
    "import os\n",
    "import sys\n",
    "import numpy as np\n",
    "module_path = os.path.abspath(os.path.join('..'))\n",
    "sys.path.append(module_path)\n",
    "sys.path.append(os.path.dirname(module_path))\n",
    "from py.tools.config import cfg\n",
    "import py.tools.logs as logs\n",
    "import py.vid_tools as vt\n",
    "from py.tools.imshow import imshow\n",
    "import matplotlib.pyplot as plt\n",
    "import py.file_handling as fh\n",
    "LOGGERDEFINED = logs.openLog('vidAnalysis.ipynb', LOGGERDEFINED, level='DEBUG', exportLog=False)"
   ]
  },
  {
   "cell_type": "code",
   "execution_count": 106,
   "id": "1a568da0",
   "metadata": {},
   "outputs": [],
   "source": [
    "fh.openExplorer(errorList2[0])"
   ]
  },
  {
   "cell_type": "markdown",
   "id": "fb954c1c",
   "metadata": {},
   "source": [
    "### get programmed dimension"
   ]
  },
  {
   "cell_type": "code",
   "execution_count": 72,
   "id": "7f73d04c",
   "metadata": {},
   "outputs": [],
   "source": [
    "folder = os.path.join(cfg.path.server, r'singleDoubleTriple\\SO\\I_SO11_S_3.50\\I_SO11_S_3.50_230214\\disturbHoriz3_2_1.250')"
   ]
  },
  {
   "cell_type": "code",
   "execution_count": 147,
   "id": "1110cd1e",
   "metadata": {
    "tags": []
   },
   "outputs": [
    {
     "name": "stdout",
     "output_type": "stream",
     "text": [
      "INFO: Exported //cfs2e.nist.gov/642/internal/3D Printing Lab/Shopbot/videos/singleDoubleTriple\\SO_S20-0.5\\I_SO6-S20-0.5_S_3.50\\I_SO6-S20-0.5_S_3.50_230215\\disturbHoriz3_2_0.750\\disturbHoriz3_2_0.750_timeRewrite_I_SO6-S20-0.5_S_3.50_230215_151446_8.csv\n",
      "INFO: Exported //cfs2e.nist.gov/642/internal/3D Printing Lab/Shopbot/videos/singleDoubleTriple\\SO_S20-0.5\\I_SO6-S20-0.5_S_3.50\\I_SO6-S20-0.5_S_3.50_230215\\disturbHoriz3_2_0.750\\disturbHoriz3_2_0.750_flagFlip_I_SO6-S20-0.5_S_3.50_230215_151446_8.csv\n",
      "INFO: Exported //cfs2e.nist.gov/642/internal/3D Printing Lab/Shopbot/videos/singleDoubleTriple\\SO_S20-0.5\\I_SO6-S20-0.5_S_3.50\\I_SO6-S20-0.5_S_3.50_230215\\disturbHoriz3_2_0.750\\disturbHoriz3_2_0.750_progPos_I_SO6-S20-0.5_S_3.50_230215_151446_8.csv\n",
      "INFO: Exported //cfs2e.nist.gov/642/internal/3D Printing Lab/Shopbot/videos/singleDoubleTriple\\SO_S20-0.5\\I_SO6-S20-0.5_S_3.50\\I_SO6-S20-0.5_S_3.50_230215\\disturbHoriz3_2_0.750\\disturbHoriz3_2_0.750_progDims_I_SO6-S20-0.5_S_3.50_230215_151446_8.csv\n"
     ]
    }
   ],
   "source": [
    "pg = vt.getProgDims(os.path.join(cfg.path.server, r'singleDoubleTriple\\SO_S20-0.5\\I_SO6-S20-0.5_S_3.50\\I_SO6-S20-0.5_S_3.50_230215\\disturbHoriz3_2_0.750'))\n",
    "pg.exportAll(overwrite=True)"
   ]
  },
  {
   "cell_type": "code",
   "execution_count": 133,
   "id": "bf488751",
   "metadata": {
    "collapsed": true,
    "jupyter": {
     "outputs_hidden": true
    },
    "tags": []
   },
   "outputs": [
    {
     "name": "stdout",
     "output_type": "stream",
     "text": [
      "INFO: Exported //cfs2e.nist.gov/642/internal/3D Printing Lab/Shopbot/videos/singleDoubleTriple\\SO_S20-0.5\\I_SO6-S20-0.5_S_3.00\\I_SO6-S20-0.5_S_3.00_v3_230215\\disturbVert2_1_0.500\\disturbVert2_1_0.500_timeRewrite_I_SO6-S20-0.5_S_3.00_230215_102921_2.csv\n",
      "INFO: Exported //cfs2e.nist.gov/642/internal/3D Printing Lab/Shopbot/videos/singleDoubleTriple\\SO_S20-0.5\\I_SO6-S20-0.5_S_3.00\\I_SO6-S20-0.5_S_3.00_v3_230215\\disturbVert2_1_0.500\\disturbVert2_1_0.500_flagFlip_I_SO6-S20-0.5_S_3.00_230215_102921_2.csv\n",
      "INFO: Exported //cfs2e.nist.gov/642/internal/3D Printing Lab/Shopbot/videos/singleDoubleTriple\\SO_S20-0.5\\I_SO6-S20-0.5_S_3.00\\I_SO6-S20-0.5_S_3.00_v3_230215\\disturbVert2_1_0.500\\disturbVert2_1_0.500_progPos_I_SO6-S20-0.5_S_3.00_230215_102921_2.csv\n"
     ]
    },
    {
     "ename": "IndexError",
     "evalue": "single positional indexer is out-of-bounds",
     "output_type": "error",
     "traceback": [
      "\u001b[1;31m---------------------------------------------------------------------------\u001b[0m",
      "\u001b[1;31mIndexError\u001b[0m                                Traceback (most recent call last)",
      "\u001b[1;32m<ipython-input-133-37d7d85f57a1>\u001b[0m in \u001b[0;36m<module>\u001b[1;34m\u001b[0m\n\u001b[1;32m----> 1\u001b[1;33m \u001b[0mvt\u001b[0m\u001b[1;33m.\u001b[0m\u001b[0mexportProgDims\u001b[0m\u001b[1;33m(\u001b[0m\u001b[0merrorList3\u001b[0m\u001b[1;33m[\u001b[0m\u001b[1;36m1\u001b[0m\u001b[1;33m]\u001b[0m\u001b[1;33m,\u001b[0m \u001b[0moverwrite\u001b[0m\u001b[1;33m=\u001b[0m\u001b[1;32mTrue\u001b[0m\u001b[1;33m)\u001b[0m\u001b[1;33m\u001b[0m\u001b[1;33m\u001b[0m\u001b[0m\n\u001b[0m",
      "\u001b[1;32m~\\Documents\\GitHub\\embedded3DPvids\\py\\val_progDim.py\u001b[0m in \u001b[0;36mexportProgDims\u001b[1;34m(folder, overwrite)\u001b[0m\n\u001b[0;32m     62\u001b[0m     \u001b[1;32mtry\u001b[0m\u001b[1;33m:\u001b[0m\u001b[1;33m\u001b[0m\u001b[1;33m\u001b[0m\u001b[0m\n\u001b[0;32m     63\u001b[0m         \u001b[0mpdim\u001b[0m \u001b[1;33m=\u001b[0m \u001b[0mgetProgDims\u001b[0m\u001b[1;33m(\u001b[0m\u001b[0mfolder\u001b[0m\u001b[1;33m)\u001b[0m\u001b[1;33m\u001b[0m\u001b[1;33m\u001b[0m\u001b[0m\n\u001b[1;32m---> 64\u001b[1;33m         \u001b[0mpdim\u001b[0m\u001b[1;33m.\u001b[0m\u001b[0mexportAll\u001b[0m\u001b[1;33m(\u001b[0m\u001b[0moverwrite\u001b[0m\u001b[1;33m=\u001b[0m\u001b[0moverwrite\u001b[0m\u001b[1;33m)\u001b[0m\u001b[1;33m\u001b[0m\u001b[1;33m\u001b[0m\u001b[0m\n\u001b[0m\u001b[0;32m     65\u001b[0m     \u001b[1;32mexcept\u001b[0m \u001b[0mValueError\u001b[0m \u001b[1;32mas\u001b[0m \u001b[0me\u001b[0m\u001b[1;33m:\u001b[0m\u001b[1;33m\u001b[0m\u001b[1;33m\u001b[0m\u001b[0m\n\u001b[0;32m     66\u001b[0m         \u001b[0merrorList\u001b[0m\u001b[1;33m.\u001b[0m\u001b[0mappend\u001b[0m\u001b[1;33m(\u001b[0m\u001b[0mfolder\u001b[0m\u001b[1;33m)\u001b[0m\u001b[1;33m\u001b[0m\u001b[1;33m\u001b[0m\u001b[0m\n",
      "\u001b[1;32m~\\Documents\\GitHub\\embedded3DPvids\\py\\val_progDim_tools.py\u001b[0m in \u001b[0;36mexportAll\u001b[1;34m(self, overwrite, diag)\u001b[0m\n\u001b[0;32m    420\u001b[0m         \u001b[0mself\u001b[0m\u001b[1;33m.\u001b[0m\u001b[0mexportFlagFlip\u001b[0m\u001b[1;33m(\u001b[0m\u001b[0moverwrite\u001b[0m\u001b[1;33m=\u001b[0m\u001b[0moverwrite\u001b[0m\u001b[1;33m)\u001b[0m\u001b[1;33m\u001b[0m\u001b[1;33m\u001b[0m\u001b[0m\n\u001b[0;32m    421\u001b[0m         \u001b[0mself\u001b[0m\u001b[1;33m.\u001b[0m\u001b[0mexportProgPos\u001b[0m\u001b[1;33m(\u001b[0m\u001b[0moverwrite\u001b[0m\u001b[1;33m=\u001b[0m\u001b[0moverwrite\u001b[0m\u001b[1;33m)\u001b[0m\u001b[1;33m\u001b[0m\u001b[1;33m\u001b[0m\u001b[0m\n\u001b[1;32m--> 422\u001b[1;33m         \u001b[0mself\u001b[0m\u001b[1;33m.\u001b[0m\u001b[0mexportProgDims\u001b[0m\u001b[1;33m(\u001b[0m\u001b[0moverwrite\u001b[0m\u001b[1;33m=\u001b[0m\u001b[0moverwrite\u001b[0m\u001b[1;33m)\u001b[0m\u001b[1;33m\u001b[0m\u001b[1;33m\u001b[0m\u001b[0m\n\u001b[0m\u001b[0;32m    423\u001b[0m \u001b[1;33m\u001b[0m\u001b[0m\n\u001b[0;32m    424\u001b[0m \u001b[1;33m\u001b[0m\u001b[0m\n",
      "\u001b[1;32m~\\Documents\\GitHub\\embedded3DPvids\\py\\val_progDim_tools.py\u001b[0m in \u001b[0;36mexportProgDims\u001b[1;34m(self, overwrite)\u001b[0m\n\u001b[0;32m    410\u001b[0m         \u001b[1;32mif\u001b[0m \u001b[0mlen\u001b[0m\u001b[1;33m(\u001b[0m\u001b[0mself\u001b[0m\u001b[1;33m.\u001b[0m\u001b[0mprogDims\u001b[0m\u001b[1;33m)\u001b[0m\u001b[1;33m==\u001b[0m\u001b[1;36m0\u001b[0m \u001b[1;32mor\u001b[0m \u001b[0mpd\u001b[0m\u001b[1;33m.\u001b[0m\u001b[0misna\u001b[0m\u001b[1;33m(\u001b[0m\u001b[0mself\u001b[0m\u001b[1;33m.\u001b[0m\u001b[0mprogDims\u001b[0m\u001b[1;33m.\u001b[0m\u001b[0mloc\u001b[0m\u001b[1;33m[\u001b[0m\u001b[1;36m0\u001b[0m\u001b[1;33m,\u001b[0m\u001b[1;34m'l'\u001b[0m\u001b[1;33m]\u001b[0m\u001b[1;33m)\u001b[0m\u001b[1;33m:\u001b[0m\u001b[1;33m\u001b[0m\u001b[1;33m\u001b[0m\u001b[0m\n\u001b[0;32m    411\u001b[0m             \u001b[0moverwrite\u001b[0m \u001b[1;33m=\u001b[0m \u001b[1;32mTrue\u001b[0m\u001b[1;33m\u001b[0m\u001b[1;33m\u001b[0m\u001b[0m\n\u001b[1;32m--> 412\u001b[1;33m         \u001b[0mself\u001b[0m\u001b[1;33m.\u001b[0m\u001b[0mexportGeneric\u001b[0m\u001b[1;33m(\u001b[0m\u001b[1;34m'progDims'\u001b[0m\u001b[1;33m,\u001b[0m \u001b[0moverwrite\u001b[0m\u001b[1;33m=\u001b[0m\u001b[0moverwrite\u001b[0m\u001b[1;33m)\u001b[0m\u001b[1;33m\u001b[0m\u001b[1;33m\u001b[0m\u001b[0m\n\u001b[0m\u001b[0;32m    413\u001b[0m \u001b[1;33m\u001b[0m\u001b[0m\n\u001b[0;32m    414\u001b[0m     \u001b[1;31m#---------------\u001b[0m\u001b[1;33m\u001b[0m\u001b[1;33m\u001b[0m\u001b[1;33m\u001b[0m\u001b[0m\n",
      "\u001b[1;32m~\\Documents\\GitHub\\embedded3DPvids\\py\\val_progDim_tools.py\u001b[0m in \u001b[0;36mexportGeneric\u001b[1;34m(self, s, overwrite)\u001b[0m\n\u001b[0;32m    101\u001b[0m \u001b[1;33m\u001b[0m\u001b[0m\n\u001b[0;32m    102\u001b[0m         \u001b[1;32mif\u001b[0m \u001b[0moverwrite\u001b[0m \u001b[1;32mor\u001b[0m \u001b[1;32mnot\u001b[0m \u001b[0mhasattr\u001b[0m\u001b[1;33m(\u001b[0m\u001b[0mself\u001b[0m\u001b[1;33m,\u001b[0m \u001b[0ms\u001b[0m\u001b[1;33m)\u001b[0m\u001b[1;33m:\u001b[0m\u001b[1;33m\u001b[0m\u001b[1;33m\u001b[0m\u001b[0m\n\u001b[1;32m--> 103\u001b[1;33m             \u001b[0mgetattr\u001b[0m\u001b[1;33m(\u001b[0m\u001b[0mself\u001b[0m\u001b[1;33m,\u001b[0m \u001b[1;34mf'get{scap}'\u001b[0m\u001b[1;33m)\u001b[0m\u001b[1;33m(\u001b[0m\u001b[1;33m)\u001b[0m\u001b[1;33m\u001b[0m\u001b[1;33m\u001b[0m\u001b[0m\n\u001b[0m\u001b[0;32m    104\u001b[0m \u001b[1;33m\u001b[0m\u001b[0m\n\u001b[0;32m    105\u001b[0m         \u001b[1;32mif\u001b[0m \u001b[0mhasattr\u001b[0m\u001b[1;33m(\u001b[0m\u001b[0mself\u001b[0m\u001b[1;33m,\u001b[0m \u001b[0ms\u001b[0m\u001b[1;33m)\u001b[0m \u001b[1;32mand\u001b[0m \u001b[0mhasattr\u001b[0m\u001b[1;33m(\u001b[0m\u001b[0mself\u001b[0m\u001b[1;33m,\u001b[0m \u001b[1;34mf'{s}Units'\u001b[0m\u001b[1;33m)\u001b[0m \u001b[1;32mand\u001b[0m \u001b[0mlen\u001b[0m\u001b[1;33m(\u001b[0m\u001b[0mgetattr\u001b[0m\u001b[1;33m(\u001b[0m\u001b[0mself\u001b[0m\u001b[1;33m,\u001b[0m \u001b[0ms\u001b[0m\u001b[1;33m)\u001b[0m\u001b[1;33m)\u001b[0m\u001b[1;33m>\u001b[0m\u001b[1;36m0\u001b[0m\u001b[1;33m:\u001b[0m\u001b[1;33m\u001b[0m\u001b[1;33m\u001b[0m\u001b[0m\n",
      "\u001b[1;32m~\\Documents\\GitHub\\embedded3DPvids\\py\\val_progDim_SDT.py\u001b[0m in \u001b[0;36mgetProgDims\u001b[1;34m(self, diag)\u001b[0m\n\u001b[0;32m    215\u001b[0m             \u001b[0mwlines\u001b[0m\u001b[1;33m,\u001b[0m \u001b[0mdlines\u001b[0m \u001b[1;33m=\u001b[0m \u001b[0mself\u001b[0m\u001b[1;33m.\u001b[0m\u001b[0msplitProgPos\u001b[0m\u001b[1;33m(\u001b[0m\u001b[1;34m'+y'\u001b[0m\u001b[1;33m,\u001b[0m \u001b[0mdiag\u001b[0m\u001b[1;33m=\u001b[0m\u001b[0mdiag\u001b[0m\u001b[1;33m)\u001b[0m\u001b[1;33m\u001b[0m\u001b[1;33m\u001b[0m\u001b[0m\n\u001b[0;32m    216\u001b[0m         \u001b[1;32melif\u001b[0m \u001b[1;34m'Vert'\u001b[0m \u001b[1;32min\u001b[0m \u001b[0mself\u001b[0m\u001b[1;33m.\u001b[0m\u001b[0msbp\u001b[0m\u001b[1;33m:\u001b[0m\u001b[1;33m\u001b[0m\u001b[1;33m\u001b[0m\u001b[0m\n\u001b[1;32m--> 217\u001b[1;33m             \u001b[0mwlines\u001b[0m\u001b[1;33m,\u001b[0m \u001b[0mdlines\u001b[0m \u001b[1;33m=\u001b[0m \u001b[0mself\u001b[0m\u001b[1;33m.\u001b[0m\u001b[0msplitProgPos\u001b[0m\u001b[1;33m(\u001b[0m\u001b[1;34m'+z'\u001b[0m\u001b[1;33m,\u001b[0m \u001b[0mdiag\u001b[0m\u001b[1;33m=\u001b[0m\u001b[0mdiag\u001b[0m\u001b[1;33m)\u001b[0m\u001b[1;33m\u001b[0m\u001b[1;33m\u001b[0m\u001b[0m\n\u001b[0m\u001b[0;32m    218\u001b[0m         \u001b[1;32melif\u001b[0m \u001b[1;34m'XS'\u001b[0m \u001b[1;32min\u001b[0m \u001b[0mself\u001b[0m\u001b[1;33m.\u001b[0m\u001b[0msbp\u001b[0m\u001b[1;33m:\u001b[0m\u001b[1;33m\u001b[0m\u001b[1;33m\u001b[0m\u001b[0m\n\u001b[0;32m    219\u001b[0m             \u001b[0mwlines\u001b[0m\u001b[1;33m,\u001b[0m \u001b[0mdlines\u001b[0m \u001b[1;33m=\u001b[0m \u001b[0mself\u001b[0m\u001b[1;33m.\u001b[0m\u001b[0msplitProgPos\u001b[0m\u001b[1;33m(\u001b[0m\u001b[1;34m'-x'\u001b[0m\u001b[1;33m,\u001b[0m \u001b[0mdiag\u001b[0m\u001b[1;33m=\u001b[0m\u001b[0mdiag\u001b[0m\u001b[1;33m)\u001b[0m\u001b[1;33m\u001b[0m\u001b[1;33m\u001b[0m\u001b[0m\n",
      "\u001b[1;32m~\\Documents\\GitHub\\embedded3DPvids\\py\\val_progDim_SDT.py\u001b[0m in \u001b[0;36msplitProgPos\u001b[1;34m(self, moveDir, diag)\u001b[0m\n\u001b[0;32m    170\u001b[0m         \u001b[1;31m# get the moves\u001b[0m\u001b[1;33m\u001b[0m\u001b[1;33m\u001b[0m\u001b[1;33m\u001b[0m\u001b[0m\n\u001b[0;32m    171\u001b[0m         \u001b[0mself\u001b[0m\u001b[1;33m.\u001b[0m\u001b[0mvLongLines\u001b[0m\u001b[1;33m(\u001b[0m\u001b[0mmoveDir\u001b[0m\u001b[1;33m,\u001b[0m \u001b[0mdiag\u001b[0m\u001b[1;33m)\u001b[0m\u001b[1;33m\u001b[0m\u001b[1;33m\u001b[0m\u001b[0m\n\u001b[1;32m--> 172\u001b[1;33m         \u001b[0mself\u001b[0m\u001b[1;33m.\u001b[0m\u001b[0mcheckLongLines\u001b[0m\u001b[1;33m(\u001b[0m\u001b[0mmoveDir\u001b[0m\u001b[1;33m,\u001b[0m \u001b[0mdiag\u001b[0m\u001b[1;33m)\u001b[0m\u001b[1;33m\u001b[0m\u001b[1;33m\u001b[0m\u001b[0m\n\u001b[0m\u001b[0;32m    173\u001b[0m \u001b[1;33m\u001b[0m\u001b[0m\n\u001b[0;32m    174\u001b[0m         \u001b[1;31m# split the moves into writes and disturbs\u001b[0m\u001b[1;33m\u001b[0m\u001b[1;33m\u001b[0m\u001b[1;33m\u001b[0m\u001b[0m\n",
      "\u001b[1;32m~\\Documents\\GitHub\\embedded3DPvids\\py\\val_progDim_SDT.py\u001b[0m in \u001b[0;36mcheckLongLines\u001b[1;34m(self, moveDir, diag)\u001b[0m\n\u001b[0;32m    150\u001b[0m                 \u001b[0mmatchline\u001b[0m \u001b[1;33m=\u001b[0m \u001b[0mself\u001b[0m\u001b[1;33m.\u001b[0m\u001b[0mvll\u001b[0m\u001b[1;33m[\u001b[0m\u001b[1;33m(\u001b[0m\u001b[0mself\u001b[0m\u001b[1;33m.\u001b[0m\u001b[0mvll\u001b[0m\u001b[1;33m.\u001b[0m\u001b[0mxt\u001b[0m\u001b[1;33m==\u001b[0m\u001b[0mxt\u001b[0m\u001b[1;33m)\u001b[0m\u001b[1;33m&\u001b[0m\u001b[1;33m(\u001b[0m\u001b[0mself\u001b[0m\u001b[1;33m.\u001b[0m\u001b[0mvll\u001b[0m\u001b[1;33m.\u001b[0m\u001b[0mzt\u001b[0m\u001b[1;33m==\u001b[0m\u001b[0mzt\u001b[0m\u001b[1;33m)\u001b[0m\u001b[1;33m&\u001b[0m\u001b[1;33m(\u001b[0m\u001b[0mabs\u001b[0m\u001b[1;33m(\u001b[0m\u001b[0mself\u001b[0m\u001b[1;33m.\u001b[0m\u001b[0mvll\u001b[0m\u001b[1;33m.\u001b[0m\u001b[0myt\u001b[0m\u001b[1;33m-\u001b[0m\u001b[0myt\u001b[0m\u001b[1;33m)\u001b[0m\u001b[1;33m<\u001b[0m\u001b[1;36m2\u001b[0m\u001b[1;33m)\u001b[0m\u001b[1;33m]\u001b[0m   \u001b[1;31m# the corresponding write or disturb line\u001b[0m\u001b[1;33m\u001b[0m\u001b[1;33m\u001b[0m\u001b[0m\n\u001b[0;32m    151\u001b[0m                 \u001b[0motherlines\u001b[0m \u001b[1;33m=\u001b[0m \u001b[0mself\u001b[0m\u001b[1;33m.\u001b[0m\u001b[0mvll\u001b[0m\u001b[1;33m[\u001b[0m\u001b[1;33m(\u001b[0m\u001b[0mself\u001b[0m\u001b[1;33m.\u001b[0m\u001b[0mvll\u001b[0m\u001b[1;33m.\u001b[0m\u001b[0mxt\u001b[0m\u001b[1;33m==\u001b[0m\u001b[0mxt\u001b[0m\u001b[1;33m)\u001b[0m\u001b[1;33m&\u001b[0m\u001b[1;33m(\u001b[0m\u001b[0mself\u001b[0m\u001b[1;33m.\u001b[0m\u001b[0mvll\u001b[0m\u001b[1;33m.\u001b[0m\u001b[0mzt\u001b[0m\u001b[1;33m==\u001b[0m\u001b[0mzt\u001b[0m\u001b[1;33m)\u001b[0m\u001b[1;33m&\u001b[0m\u001b[1;33m(\u001b[0m\u001b[0mabs\u001b[0m\u001b[1;33m(\u001b[0m\u001b[0mself\u001b[0m\u001b[1;33m.\u001b[0m\u001b[0mvll\u001b[0m\u001b[1;33m.\u001b[0m\u001b[0myt\u001b[0m\u001b[1;33m-\u001b[0m\u001b[0myt\u001b[0m\u001b[1;33m)\u001b[0m\u001b[1;33m>\u001b[0m\u001b[1;36m2\u001b[0m\u001b[1;33m)\u001b[0m\u001b[1;33m]\u001b[0m  \u001b[1;31m# another set of write and disturb lines\u001b[0m\u001b[1;33m\u001b[0m\u001b[1;33m\u001b[0m\u001b[0m\n\u001b[1;32m--> 152\u001b[1;33m                 \u001b[0mdtdw\u001b[0m \u001b[1;33m=\u001b[0m \u001b[0motherlines\u001b[0m\u001b[1;33m.\u001b[0m\u001b[0miloc\u001b[0m\u001b[1;33m[\u001b[0m\u001b[1;36m1\u001b[0m\u001b[1;33m]\u001b[0m\u001b[1;33m[\u001b[0m\u001b[1;34m'tf'\u001b[0m\u001b[1;33m]\u001b[0m \u001b[1;33m-\u001b[0m \u001b[0motherlines\u001b[0m\u001b[1;33m.\u001b[0m\u001b[0miloc\u001b[0m\u001b[1;33m[\u001b[0m\u001b[1;36m0\u001b[0m\u001b[1;33m]\u001b[0m\u001b[1;33m[\u001b[0m\u001b[1;34m'tf'\u001b[0m\u001b[1;33m]\u001b[0m   \u001b[1;31m# difference in time between write and disturb\u001b[0m\u001b[1;33m\u001b[0m\u001b[1;33m\u001b[0m\u001b[0m\n\u001b[0m\u001b[0;32m    153\u001b[0m                 \u001b[0mdidw\u001b[0m \u001b[1;33m=\u001b[0m \u001b[0motherlines\u001b[0m\u001b[1;33m.\u001b[0m\u001b[0mindex\u001b[0m\u001b[1;33m.\u001b[0m\u001b[0mto_series\u001b[0m\u001b[1;33m(\u001b[0m\u001b[1;33m)\u001b[0m\u001b[1;33m.\u001b[0m\u001b[0mdiff\u001b[0m\u001b[1;33m(\u001b[0m\u001b[1;33m)\u001b[0m\u001b[1;33m.\u001b[0m\u001b[0mmax\u001b[0m\u001b[1;33m(\u001b[0m\u001b[1;33m)\u001b[0m\u001b[1;33m\u001b[0m\u001b[1;33m\u001b[0m\u001b[0m\n\u001b[0;32m    154\u001b[0m                 \u001b[1;32mif\u001b[0m \u001b[0mmatchline\u001b[0m\u001b[1;33m.\u001b[0m\u001b[0miloc\u001b[0m\u001b[1;33m[\u001b[0m\u001b[1;36m0\u001b[0m\u001b[1;33m]\u001b[0m\u001b[1;33m[\u001b[0m\u001b[1;34m'yt'\u001b[0m\u001b[1;33m]\u001b[0m\u001b[1;33m>\u001b[0m\u001b[0myt\u001b[0m\u001b[1;33m:\u001b[0m\u001b[1;33m\u001b[0m\u001b[1;33m\u001b[0m\u001b[0m\n",
      "\u001b[1;32m~\\Miniconda3\\lib\\site-packages\\pandas\\core\\indexing.py\u001b[0m in \u001b[0;36m__getitem__\u001b[1;34m(self, key)\u001b[0m\n\u001b[0;32m    893\u001b[0m \u001b[1;33m\u001b[0m\u001b[0m\n\u001b[0;32m    894\u001b[0m             \u001b[0mmaybe_callable\u001b[0m \u001b[1;33m=\u001b[0m \u001b[0mcom\u001b[0m\u001b[1;33m.\u001b[0m\u001b[0mapply_if_callable\u001b[0m\u001b[1;33m(\u001b[0m\u001b[0mkey\u001b[0m\u001b[1;33m,\u001b[0m \u001b[0mself\u001b[0m\u001b[1;33m.\u001b[0m\u001b[0mobj\u001b[0m\u001b[1;33m)\u001b[0m\u001b[1;33m\u001b[0m\u001b[1;33m\u001b[0m\u001b[0m\n\u001b[1;32m--> 895\u001b[1;33m             \u001b[1;32mreturn\u001b[0m \u001b[0mself\u001b[0m\u001b[1;33m.\u001b[0m\u001b[0m_getitem_axis\u001b[0m\u001b[1;33m(\u001b[0m\u001b[0mmaybe_callable\u001b[0m\u001b[1;33m,\u001b[0m \u001b[0maxis\u001b[0m\u001b[1;33m=\u001b[0m\u001b[0maxis\u001b[0m\u001b[1;33m)\u001b[0m\u001b[1;33m\u001b[0m\u001b[1;33m\u001b[0m\u001b[0m\n\u001b[0m\u001b[0;32m    896\u001b[0m \u001b[1;33m\u001b[0m\u001b[0m\n\u001b[0;32m    897\u001b[0m     \u001b[1;32mdef\u001b[0m \u001b[0m_is_scalar_access\u001b[0m\u001b[1;33m(\u001b[0m\u001b[0mself\u001b[0m\u001b[1;33m,\u001b[0m \u001b[0mkey\u001b[0m\u001b[1;33m:\u001b[0m \u001b[0mTuple\u001b[0m\u001b[1;33m)\u001b[0m\u001b[1;33m:\u001b[0m\u001b[1;33m\u001b[0m\u001b[1;33m\u001b[0m\u001b[0m\n",
      "\u001b[1;32m~\\Miniconda3\\lib\\site-packages\\pandas\\core\\indexing.py\u001b[0m in \u001b[0;36m_getitem_axis\u001b[1;34m(self, key, axis)\u001b[0m\n\u001b[0;32m   1499\u001b[0m \u001b[1;33m\u001b[0m\u001b[0m\n\u001b[0;32m   1500\u001b[0m             \u001b[1;31m# validate the location\u001b[0m\u001b[1;33m\u001b[0m\u001b[1;33m\u001b[0m\u001b[1;33m\u001b[0m\u001b[0m\n\u001b[1;32m-> 1501\u001b[1;33m             \u001b[0mself\u001b[0m\u001b[1;33m.\u001b[0m\u001b[0m_validate_integer\u001b[0m\u001b[1;33m(\u001b[0m\u001b[0mkey\u001b[0m\u001b[1;33m,\u001b[0m \u001b[0maxis\u001b[0m\u001b[1;33m)\u001b[0m\u001b[1;33m\u001b[0m\u001b[1;33m\u001b[0m\u001b[0m\n\u001b[0m\u001b[0;32m   1502\u001b[0m \u001b[1;33m\u001b[0m\u001b[0m\n\u001b[0;32m   1503\u001b[0m             \u001b[1;32mreturn\u001b[0m \u001b[0mself\u001b[0m\u001b[1;33m.\u001b[0m\u001b[0mobj\u001b[0m\u001b[1;33m.\u001b[0m\u001b[0m_ixs\u001b[0m\u001b[1;33m(\u001b[0m\u001b[0mkey\u001b[0m\u001b[1;33m,\u001b[0m \u001b[0maxis\u001b[0m\u001b[1;33m=\u001b[0m\u001b[0maxis\u001b[0m\u001b[1;33m)\u001b[0m\u001b[1;33m\u001b[0m\u001b[1;33m\u001b[0m\u001b[0m\n",
      "\u001b[1;32m~\\Miniconda3\\lib\\site-packages\\pandas\\core\\indexing.py\u001b[0m in \u001b[0;36m_validate_integer\u001b[1;34m(self, key, axis)\u001b[0m\n\u001b[0;32m   1442\u001b[0m         \u001b[0mlen_axis\u001b[0m \u001b[1;33m=\u001b[0m \u001b[0mlen\u001b[0m\u001b[1;33m(\u001b[0m\u001b[0mself\u001b[0m\u001b[1;33m.\u001b[0m\u001b[0mobj\u001b[0m\u001b[1;33m.\u001b[0m\u001b[0m_get_axis\u001b[0m\u001b[1;33m(\u001b[0m\u001b[0maxis\u001b[0m\u001b[1;33m)\u001b[0m\u001b[1;33m)\u001b[0m\u001b[1;33m\u001b[0m\u001b[1;33m\u001b[0m\u001b[0m\n\u001b[0;32m   1443\u001b[0m         \u001b[1;32mif\u001b[0m \u001b[0mkey\u001b[0m \u001b[1;33m>=\u001b[0m \u001b[0mlen_axis\u001b[0m \u001b[1;32mor\u001b[0m \u001b[0mkey\u001b[0m \u001b[1;33m<\u001b[0m \u001b[1;33m-\u001b[0m\u001b[0mlen_axis\u001b[0m\u001b[1;33m:\u001b[0m\u001b[1;33m\u001b[0m\u001b[1;33m\u001b[0m\u001b[0m\n\u001b[1;32m-> 1444\u001b[1;33m             \u001b[1;32mraise\u001b[0m \u001b[0mIndexError\u001b[0m\u001b[1;33m(\u001b[0m\u001b[1;34m\"single positional indexer is out-of-bounds\"\u001b[0m\u001b[1;33m)\u001b[0m\u001b[1;33m\u001b[0m\u001b[1;33m\u001b[0m\u001b[0m\n\u001b[0m\u001b[0;32m   1445\u001b[0m \u001b[1;33m\u001b[0m\u001b[0m\n\u001b[0;32m   1446\u001b[0m     \u001b[1;31m# -------------------------------------------------------------------\u001b[0m\u001b[1;33m\u001b[0m\u001b[1;33m\u001b[0m\u001b[1;33m\u001b[0m\u001b[0m\n",
      "\u001b[1;31mIndexError\u001b[0m: single positional indexer is out-of-bounds"
     ]
    }
   ],
   "source": [
    "vt.exportProgDims(errorList3[1], overwrite=True)"
   ]
  },
  {
   "cell_type": "markdown",
   "id": "ba3c8a49",
   "metadata": {},
   "source": [
    "## make stills"
   ]
  },
  {
   "cell_type": "code",
   "execution_count": null,
   "id": "aff95068",
   "metadata": {
    "tags": []
   },
   "outputs": [],
   "source": [
    "errorList = vt.exportStillsRecursive(os.path.join(cfg.path.server, r'singleDoubleTriple')\n",
    "                                     , overwriteDims=False, overwrite=False)"
   ]
  },
  {
   "cell_type": "code",
   "execution_count": 74,
   "id": "3a47d454",
   "metadata": {
    "collapsed": true,
    "jupyter": {
     "outputs_hidden": true
    },
    "tags": []
   },
   "outputs": [
    {
     "name": "stdout",
     "output_type": "stream",
     "text": [
      "INFO: Exported //cfs2e.nist.gov/642/internal/3D Printing Lab/Shopbot/videos/singleDoubleTriple\\SO\\I_SO11_S_3.50\\I_SO11_S_3.50_230214\\disturbVert2_2_1.000\\disturbVert2_2_1.000_timeRewrite_I_SO11_S_3.50_230214_145949_7.csv\n",
      "INFO: Exported //cfs2e.nist.gov/642/internal/3D Printing Lab/Shopbot/videos/singleDoubleTriple\\SO\\I_SO11_S_3.50\\I_SO11_S_3.50_230214\\disturbVert2_2_1.000\\disturbVert2_2_1.000_flagFlip_I_SO11_S_3.50_230214_145949_7.csv\n",
      "INFO: Exported //cfs2e.nist.gov/642/internal/3D Printing Lab/Shopbot/videos/singleDoubleTriple\\SO\\I_SO11_S_3.50\\I_SO11_S_3.50_230214\\disturbVert2_2_1.000\\disturbVert2_2_1.000_progPos_I_SO11_S_3.50_230214_145949_7.csv\n",
      "INFO: Exported //cfs2e.nist.gov/642/internal/3D Printing Lab/Shopbot/videos/singleDoubleTriple\\SO\\I_SO11_S_3.50\\I_SO11_S_3.50_230214\\disturbVert2_2_1.000\\disturbVert2_2_1.000_progDims_I_SO11_S_3.50_230214_145949_7.csv\n",
      "INFO: Exported //cfs2e.nist.gov/642/internal/3D Printing Lab/Shopbot/videos/singleDoubleTriple\\SO\\I_SO11_S_3.50\\I_SO11_S_3.50_230214\\disturbVert2_2_1.000\\disturbVert2_2_1.000_vidStats_I_SO11_S_3.50_230214_145949_7.csv\n",
      "INFO: Exported //cfs2e.nist.gov/642/internal/3D Printing Lab/Shopbot/videos/singleDoubleTriple\\SO\\I_SO11_S_3.50\\I_SO11_S_3.50_230214\\disturbVert2_2_1.000\\disturbVert2_2_1.000_vstill_V2_l0w1_I_SO11_S_3.50_230214_145949_7.png\n",
      "INFO: Exported //cfs2e.nist.gov/642/internal/3D Printing Lab/Shopbot/videos/singleDoubleTriple\\SO\\I_SO11_S_3.50\\I_SO11_S_3.50_230214\\disturbVert2_2_1.000\\disturbVert2_2_1.000_vstill_V2_l0w1o1_I_SO11_S_3.50_230214_145949_7.png\n",
      "INFO: Exported //cfs2e.nist.gov/642/internal/3D Printing Lab/Shopbot/videos/singleDoubleTriple\\SO\\I_SO11_S_3.50\\I_SO11_S_3.50_230214\\disturbVert2_2_1.000\\disturbVert2_2_1.000_vstill_V2_l0w1o2_I_SO11_S_3.50_230214_145949_7.png\n",
      "INFO: Exported //cfs2e.nist.gov/642/internal/3D Printing Lab/Shopbot/videos/singleDoubleTriple\\SO\\I_SO11_S_3.50\\I_SO11_S_3.50_230214\\disturbVert2_2_1.000\\disturbVert2_2_1.000_vstill_V2_l0w2_I_SO11_S_3.50_230214_145949_7.png\n",
      "INFO: Exported //cfs2e.nist.gov/642/internal/3D Printing Lab/Shopbot/videos/singleDoubleTriple\\SO\\I_SO11_S_3.50\\I_SO11_S_3.50_230214\\disturbVert2_2_1.000\\disturbVert2_2_1.000_vstill_V2_l0w2o1_I_SO11_S_3.50_230214_145949_7.png\n",
      "INFO: Exported //cfs2e.nist.gov/642/internal/3D Printing Lab/Shopbot/videos/singleDoubleTriple\\SO\\I_SO11_S_3.50\\I_SO11_S_3.50_230214\\disturbVert2_2_1.000\\disturbVert2_2_1.000_vstill_V2_l0w2o2_I_SO11_S_3.50_230214_145949_7.png\n",
      "INFO: Exported //cfs2e.nist.gov/642/internal/3D Printing Lab/Shopbot/videos/singleDoubleTriple\\SO\\I_SO11_S_3.50\\I_SO11_S_3.50_230214\\disturbVert2_2_1.000\\disturbVert2_2_1.000_vstill_V2_l0d_I_SO11_S_3.50_230214_145949_7.png\n",
      "INFO: Exported //cfs2e.nist.gov/642/internal/3D Printing Lab/Shopbot/videos/singleDoubleTriple\\SO\\I_SO11_S_3.50\\I_SO11_S_3.50_230214\\disturbVert2_2_1.000\\disturbVert2_2_1.000_vstill_V2_l0do1_I_SO11_S_3.50_230214_145949_7.png\n",
      "INFO: Exported //cfs2e.nist.gov/642/internal/3D Printing Lab/Shopbot/videos/singleDoubleTriple\\SO\\I_SO11_S_3.50\\I_SO11_S_3.50_230214\\disturbVert2_2_1.000\\disturbVert2_2_1.000_vstill_V2_l0do2_I_SO11_S_3.50_230214_145949_7.png\n",
      "INFO: Exported //cfs2e.nist.gov/642/internal/3D Printing Lab/Shopbot/videos/singleDoubleTriple\\SO\\I_SO11_S_3.50\\I_SO11_S_3.50_230214\\disturbVert2_2_1.000\\disturbVert2_2_1.000_vstill_V2_l1w1_I_SO11_S_3.50_230214_145949_7.png\n",
      "INFO: Exported //cfs2e.nist.gov/642/internal/3D Printing Lab/Shopbot/videos/singleDoubleTriple\\SO\\I_SO11_S_3.50\\I_SO11_S_3.50_230214\\disturbVert2_2_1.000\\disturbVert2_2_1.000_vstill_V2_l1w1o1_I_SO11_S_3.50_230214_145949_7.png\n",
      "INFO: Exported //cfs2e.nist.gov/642/internal/3D Printing Lab/Shopbot/videos/singleDoubleTriple\\SO\\I_SO11_S_3.50\\I_SO11_S_3.50_230214\\disturbVert2_2_1.000\\disturbVert2_2_1.000_vstill_V2_l1w1o2_I_SO11_S_3.50_230214_145949_7.png\n",
      "INFO: Exported //cfs2e.nist.gov/642/internal/3D Printing Lab/Shopbot/videos/singleDoubleTriple\\SO\\I_SO11_S_3.50\\I_SO11_S_3.50_230214\\disturbVert2_2_1.000\\disturbVert2_2_1.000_vstill_V2_l1w2_I_SO11_S_3.50_230214_145949_7.png\n",
      "INFO: Exported //cfs2e.nist.gov/642/internal/3D Printing Lab/Shopbot/videos/singleDoubleTriple\\SO\\I_SO11_S_3.50\\I_SO11_S_3.50_230214\\disturbVert2_2_1.000\\disturbVert2_2_1.000_vstill_V2_l1w2o1_I_SO11_S_3.50_230214_145949_7.png\n",
      "INFO: Exported //cfs2e.nist.gov/642/internal/3D Printing Lab/Shopbot/videos/singleDoubleTriple\\SO\\I_SO11_S_3.50\\I_SO11_S_3.50_230214\\disturbVert2_2_1.000\\disturbVert2_2_1.000_vstill_V2_l1w2o2_I_SO11_S_3.50_230214_145949_7.png\n",
      "INFO: Exported //cfs2e.nist.gov/642/internal/3D Printing Lab/Shopbot/videos/singleDoubleTriple\\SO\\I_SO11_S_3.50\\I_SO11_S_3.50_230214\\disturbVert2_2_1.000\\disturbVert2_2_1.000_vstill_V2_l1d_I_SO11_S_3.50_230214_145949_7.png\n",
      "INFO: Exported //cfs2e.nist.gov/642/internal/3D Printing Lab/Shopbot/videos/singleDoubleTriple\\SO\\I_SO11_S_3.50\\I_SO11_S_3.50_230214\\disturbVert2_2_1.000\\disturbVert2_2_1.000_vstill_V2_l1do1_I_SO11_S_3.50_230214_145949_7.png\n",
      "INFO: Exported //cfs2e.nist.gov/642/internal/3D Printing Lab/Shopbot/videos/singleDoubleTriple\\SO\\I_SO11_S_3.50\\I_SO11_S_3.50_230214\\disturbVert2_2_1.000\\disturbVert2_2_1.000_vstill_V2_l1do2_I_SO11_S_3.50_230214_145949_7.png\n",
      "INFO: Exported //cfs2e.nist.gov/642/internal/3D Printing Lab/Shopbot/videos/singleDoubleTriple\\SO\\I_SO11_S_3.50\\I_SO11_S_3.50_230214\\disturbVert2_2_1.000\\disturbVert2_2_1.000_vstill_V2_l2w1_I_SO11_S_3.50_230214_145949_7.png\n",
      "INFO: Exported //cfs2e.nist.gov/642/internal/3D Printing Lab/Shopbot/videos/singleDoubleTriple\\SO\\I_SO11_S_3.50\\I_SO11_S_3.50_230214\\disturbVert2_2_1.000\\disturbVert2_2_1.000_vstill_V2_l2w1o1_I_SO11_S_3.50_230214_145949_7.png\n",
      "INFO: Exported //cfs2e.nist.gov/642/internal/3D Printing Lab/Shopbot/videos/singleDoubleTriple\\SO\\I_SO11_S_3.50\\I_SO11_S_3.50_230214\\disturbVert2_2_1.000\\disturbVert2_2_1.000_vstill_V2_l2w1o2_I_SO11_S_3.50_230214_145949_7.png\n",
      "INFO: Exported //cfs2e.nist.gov/642/internal/3D Printing Lab/Shopbot/videos/singleDoubleTriple\\SO\\I_SO11_S_3.50\\I_SO11_S_3.50_230214\\disturbVert2_2_1.000\\disturbVert2_2_1.000_vstill_V2_l2w2_I_SO11_S_3.50_230214_145949_7.png\n",
      "INFO: Exported //cfs2e.nist.gov/642/internal/3D Printing Lab/Shopbot/videos/singleDoubleTriple\\SO\\I_SO11_S_3.50\\I_SO11_S_3.50_230214\\disturbVert2_2_1.000\\disturbVert2_2_1.000_vstill_V2_l2w2o1_I_SO11_S_3.50_230214_145949_7.png\n",
      "INFO: Exported //cfs2e.nist.gov/642/internal/3D Printing Lab/Shopbot/videos/singleDoubleTriple\\SO\\I_SO11_S_3.50\\I_SO11_S_3.50_230214\\disturbVert2_2_1.000\\disturbVert2_2_1.000_vstill_V2_l2w2o2_I_SO11_S_3.50_230214_145949_7.png\n",
      "INFO: Exported //cfs2e.nist.gov/642/internal/3D Printing Lab/Shopbot/videos/singleDoubleTriple\\SO\\I_SO11_S_3.50\\I_SO11_S_3.50_230214\\disturbVert2_2_1.000\\disturbVert2_2_1.000_vstill_V2_l2d_I_SO11_S_3.50_230214_145949_7.png\n",
      "INFO: Exported //cfs2e.nist.gov/642/internal/3D Printing Lab/Shopbot/videos/singleDoubleTriple\\SO\\I_SO11_S_3.50\\I_SO11_S_3.50_230214\\disturbVert2_2_1.000\\disturbVert2_2_1.000_vstill_V2_l2do1_I_SO11_S_3.50_230214_145949_7.png\n",
      "INFO: Exported //cfs2e.nist.gov/642/internal/3D Printing Lab/Shopbot/videos/singleDoubleTriple\\SO\\I_SO11_S_3.50\\I_SO11_S_3.50_230214\\disturbVert2_2_1.000\\disturbVert2_2_1.000_vstill_V2_l2do2_I_SO11_S_3.50_230214_145949_7.png\n",
      "INFO: Exported //cfs2e.nist.gov/642/internal/3D Printing Lab/Shopbot/videos/singleDoubleTriple\\SO\\I_SO11_S_3.50\\I_SO11_S_3.50_230214\\disturbVert2_2_1.000\\disturbVert2_2_1.000_vstill_V2_l3w1_I_SO11_S_3.50_230214_145949_7.png\n",
      "INFO: Exported //cfs2e.nist.gov/642/internal/3D Printing Lab/Shopbot/videos/singleDoubleTriple\\SO\\I_SO11_S_3.50\\I_SO11_S_3.50_230214\\disturbVert2_2_1.000\\disturbVert2_2_1.000_vstill_V2_l3w1o1_I_SO11_S_3.50_230214_145949_7.png\n",
      "INFO: Exported //cfs2e.nist.gov/642/internal/3D Printing Lab/Shopbot/videos/singleDoubleTriple\\SO\\I_SO11_S_3.50\\I_SO11_S_3.50_230214\\disturbVert2_2_1.000\\disturbVert2_2_1.000_vstill_V2_l3w1o2_I_SO11_S_3.50_230214_145949_7.png\n",
      "INFO: Exported //cfs2e.nist.gov/642/internal/3D Printing Lab/Shopbot/videos/singleDoubleTriple\\SO\\I_SO11_S_3.50\\I_SO11_S_3.50_230214\\disturbVert2_2_1.000\\disturbVert2_2_1.000_vstill_V2_l3w2_I_SO11_S_3.50_230214_145949_7.png\n",
      "INFO: Exported //cfs2e.nist.gov/642/internal/3D Printing Lab/Shopbot/videos/singleDoubleTriple\\SO\\I_SO11_S_3.50\\I_SO11_S_3.50_230214\\disturbVert2_2_1.000\\disturbVert2_2_1.000_vstill_V2_l3w2o1_I_SO11_S_3.50_230214_145949_7.png\n",
      "INFO: Exported //cfs2e.nist.gov/642/internal/3D Printing Lab/Shopbot/videos/singleDoubleTriple\\SO\\I_SO11_S_3.50\\I_SO11_S_3.50_230214\\disturbVert2_2_1.000\\disturbVert2_2_1.000_vstill_V2_l3w2o2_I_SO11_S_3.50_230214_145949_7.png\n",
      "INFO: Exported //cfs2e.nist.gov/642/internal/3D Printing Lab/Shopbot/videos/singleDoubleTriple\\SO\\I_SO11_S_3.50\\I_SO11_S_3.50_230214\\disturbVert2_2_1.000\\disturbVert2_2_1.000_vstill_V2_l3d_I_SO11_S_3.50_230214_145949_7.png\n",
      "INFO: Exported //cfs2e.nist.gov/642/internal/3D Printing Lab/Shopbot/videos/singleDoubleTriple\\SO\\I_SO11_S_3.50\\I_SO11_S_3.50_230214\\disturbVert2_2_1.000\\disturbVert2_2_1.000_vstill_V2_l3do1_I_SO11_S_3.50_230214_145949_7.png\n",
      "INFO: Exported //cfs2e.nist.gov/642/internal/3D Printing Lab/Shopbot/videos/singleDoubleTriple\\SO\\I_SO11_S_3.50\\I_SO11_S_3.50_230214\\disturbVert2_2_1.000\\disturbVert2_2_1.000_vstill_V2_l3do2_I_SO11_S_3.50_230214_145949_7.png\n"
     ]
    }
   ],
   "source": [
    "errorList3 = vt.exportStillsRecursive(os.path.join(cfg.path.server, r'singleDoubleTriple\\SO\\I_SO11_S_3.50\\I_SO11_S_3.50_230214\\disturbVert2_2_1.000'), overwrite=True, overwriteDims=True)"
   ]
  },
  {
   "cell_type": "code",
   "execution_count": 9,
   "id": "a727cb8f",
   "metadata": {},
   "outputs": [
    {
     "data": {
      "text/plain": [
       "[]"
      ]
     },
     "execution_count": 9,
     "metadata": {},
     "output_type": "execute_result"
    }
   ],
   "source": [
    "errorList3"
   ]
  },
  {
   "cell_type": "code",
   "execution_count": 78,
   "id": "42993461",
   "metadata": {},
   "outputs": [],
   "source": [
    "from tools.plainIm import *"
   ]
  },
  {
   "cell_type": "code",
   "execution_count": 82,
   "id": "e9c996dc",
   "metadata": {},
   "outputs": [
    {
     "name": "stdout",
     "output_type": "stream",
     "text": [
      "INFO: Exported //cfs2e.nist.gov/642/internal/3D Printing Lab/Shopbot/videos/singleDoubleTriple\\SO\\I_SO10_S_3.00\\I_SO10_S_3.00_230208\\disturbXS2_3_+y_1.000\\disturbXS2_3_+y_1.000_vidStats_I_SO10_S_3.00_230208_135859_5.csv\n",
      "INFO: Exported //cfs2e.nist.gov/642/internal/3D Printing Lab/Shopbot/videos/singleDoubleTriple\\SO\\I_SO10_S_3.00\\I_SO10_S_3.00_230208\\disturbXS2_3_+y_1.000\\disturbXS2_3_+y_1.000_vstill_HIx3_l0w1_I_SO10_S_3.00_230208_135859_5.png\n",
      "INFO: Exported //cfs2e.nist.gov/642/internal/3D Printing Lab/Shopbot/videos/singleDoubleTriple\\SO\\I_SO10_S_3.00\\I_SO10_S_3.00_230208\\disturbXS2_3_+y_1.000\\disturbXS2_3_+y_1.000_vstill_HIx3_l0w1o1_I_SO10_S_3.00_230208_135859_5.png\n",
      "INFO: Exported //cfs2e.nist.gov/642/internal/3D Printing Lab/Shopbot/videos/singleDoubleTriple\\SO\\I_SO10_S_3.00\\I_SO10_S_3.00_230208\\disturbXS2_3_+y_1.000\\disturbXS2_3_+y_1.000_vstill_HIx3_l0w1o2_I_SO10_S_3.00_230208_135859_5.png\n",
      "INFO: Exported //cfs2e.nist.gov/642/internal/3D Printing Lab/Shopbot/videos/singleDoubleTriple\\SO\\I_SO10_S_3.00\\I_SO10_S_3.00_230208\\disturbXS2_3_+y_1.000\\disturbXS2_3_+y_1.000_vstill_HIx3_l0w2_I_SO10_S_3.00_230208_135859_5.png\n",
      "INFO: Exported //cfs2e.nist.gov/642/internal/3D Printing Lab/Shopbot/videos/singleDoubleTriple\\SO\\I_SO10_S_3.00\\I_SO10_S_3.00_230208\\disturbXS2_3_+y_1.000\\disturbXS2_3_+y_1.000_vstill_HIx3_l0w2o1_I_SO10_S_3.00_230208_135859_5.png\n",
      "INFO: Exported //cfs2e.nist.gov/642/internal/3D Printing Lab/Shopbot/videos/singleDoubleTriple\\SO\\I_SO10_S_3.00\\I_SO10_S_3.00_230208\\disturbXS2_3_+y_1.000\\disturbXS2_3_+y_1.000_vstill_HIx3_l0w2o2_I_SO10_S_3.00_230208_135859_5.png\n",
      "INFO: Exported //cfs2e.nist.gov/642/internal/3D Printing Lab/Shopbot/videos/singleDoubleTriple\\SO\\I_SO10_S_3.00\\I_SO10_S_3.00_230208\\disturbXS2_3_+y_1.000\\disturbXS2_3_+y_1.000_vstill_HIx3_l0w3_I_SO10_S_3.00_230208_135859_5.png\n",
      "INFO: Exported //cfs2e.nist.gov/642/internal/3D Printing Lab/Shopbot/videos/singleDoubleTriple\\SO\\I_SO10_S_3.00\\I_SO10_S_3.00_230208\\disturbXS2_3_+y_1.000\\disturbXS2_3_+y_1.000_vstill_HIx3_l0w3o1_I_SO10_S_3.00_230208_135859_5.png\n",
      "INFO: Exported //cfs2e.nist.gov/642/internal/3D Printing Lab/Shopbot/videos/singleDoubleTriple\\SO\\I_SO10_S_3.00\\I_SO10_S_3.00_230208\\disturbXS2_3_+y_1.000\\disturbXS2_3_+y_1.000_vstill_HIx3_l0w3o2_I_SO10_S_3.00_230208_135859_5.png\n",
      "INFO: Exported //cfs2e.nist.gov/642/internal/3D Printing Lab/Shopbot/videos/singleDoubleTriple\\SO\\I_SO10_S_3.00\\I_SO10_S_3.00_230208\\disturbXS2_3_+y_1.000\\disturbXS2_3_+y_1.000_vstill_HIx3_l1w1_I_SO10_S_3.00_230208_135859_5.png\n",
      "INFO: Exported //cfs2e.nist.gov/642/internal/3D Printing Lab/Shopbot/videos/singleDoubleTriple\\SO\\I_SO10_S_3.00\\I_SO10_S_3.00_230208\\disturbXS2_3_+y_1.000\\disturbXS2_3_+y_1.000_vstill_HIx3_l1w1o1_I_SO10_S_3.00_230208_135859_5.png\n",
      "INFO: Exported //cfs2e.nist.gov/642/internal/3D Printing Lab/Shopbot/videos/singleDoubleTriple\\SO\\I_SO10_S_3.00\\I_SO10_S_3.00_230208\\disturbXS2_3_+y_1.000\\disturbXS2_3_+y_1.000_vstill_HIx3_l1w1o2_I_SO10_S_3.00_230208_135859_5.png\n",
      "INFO: Exported //cfs2e.nist.gov/642/internal/3D Printing Lab/Shopbot/videos/singleDoubleTriple\\SO\\I_SO10_S_3.00\\I_SO10_S_3.00_230208\\disturbXS2_3_+y_1.000\\disturbXS2_3_+y_1.000_vstill_HIx3_l1w2_I_SO10_S_3.00_230208_135859_5.png\n",
      "INFO: Exported //cfs2e.nist.gov/642/internal/3D Printing Lab/Shopbot/videos/singleDoubleTriple\\SO\\I_SO10_S_3.00\\I_SO10_S_3.00_230208\\disturbXS2_3_+y_1.000\\disturbXS2_3_+y_1.000_vstill_HIx3_l1w2o1_I_SO10_S_3.00_230208_135859_5.png\n",
      "INFO: Exported //cfs2e.nist.gov/642/internal/3D Printing Lab/Shopbot/videos/singleDoubleTriple\\SO\\I_SO10_S_3.00\\I_SO10_S_3.00_230208\\disturbXS2_3_+y_1.000\\disturbXS2_3_+y_1.000_vstill_HIx3_l1w2o2_I_SO10_S_3.00_230208_135859_5.png\n",
      "INFO: Exported //cfs2e.nist.gov/642/internal/3D Printing Lab/Shopbot/videos/singleDoubleTriple\\SO\\I_SO10_S_3.00\\I_SO10_S_3.00_230208\\disturbXS2_3_+y_1.000\\disturbXS2_3_+y_1.000_vstill_HIx3_l1w3_I_SO10_S_3.00_230208_135859_5.png\n",
      "INFO: Exported //cfs2e.nist.gov/642/internal/3D Printing Lab/Shopbot/videos/singleDoubleTriple\\SO\\I_SO10_S_3.00\\I_SO10_S_3.00_230208\\disturbXS2_3_+y_1.000\\disturbXS2_3_+y_1.000_vstill_HIx3_l1w3o1_I_SO10_S_3.00_230208_135859_5.png\n",
      "INFO: Exported //cfs2e.nist.gov/642/internal/3D Printing Lab/Shopbot/videos/singleDoubleTriple\\SO\\I_SO10_S_3.00\\I_SO10_S_3.00_230208\\disturbXS2_3_+y_1.000\\disturbXS2_3_+y_1.000_vstill_HIx3_l1w3o2_I_SO10_S_3.00_230208_135859_5.png\n",
      "INFO: Exported //cfs2e.nist.gov/642/internal/3D Printing Lab/Shopbot/videos/singleDoubleTriple\\SO\\I_SO10_S_3.00\\I_SO10_S_3.00_230208\\disturbXS2_3_+y_1.000\\disturbXS2_3_+y_1.000_vstill_HIx3_l2w1_I_SO10_S_3.00_230208_135859_5.png\n",
      "INFO: Exported //cfs2e.nist.gov/642/internal/3D Printing Lab/Shopbot/videos/singleDoubleTriple\\SO\\I_SO10_S_3.00\\I_SO10_S_3.00_230208\\disturbXS2_3_+y_1.000\\disturbXS2_3_+y_1.000_vstill_HIx3_l2w1o1_I_SO10_S_3.00_230208_135859_5.png\n",
      "INFO: Exported //cfs2e.nist.gov/642/internal/3D Printing Lab/Shopbot/videos/singleDoubleTriple\\SO\\I_SO10_S_3.00\\I_SO10_S_3.00_230208\\disturbXS2_3_+y_1.000\\disturbXS2_3_+y_1.000_vstill_HIx3_l2w1o2_I_SO10_S_3.00_230208_135859_5.png\n",
      "INFO: Exported //cfs2e.nist.gov/642/internal/3D Printing Lab/Shopbot/videos/singleDoubleTriple\\SO\\I_SO10_S_3.00\\I_SO10_S_3.00_230208\\disturbXS2_3_+y_1.000\\disturbXS2_3_+y_1.000_vstill_HIx3_l2w2_I_SO10_S_3.00_230208_135859_5.png\n",
      "INFO: Exported //cfs2e.nist.gov/642/internal/3D Printing Lab/Shopbot/videos/singleDoubleTriple\\SO\\I_SO10_S_3.00\\I_SO10_S_3.00_230208\\disturbXS2_3_+y_1.000\\disturbXS2_3_+y_1.000_vstill_HIx3_l2w2o1_I_SO10_S_3.00_230208_135859_5.png\n",
      "INFO: Exported //cfs2e.nist.gov/642/internal/3D Printing Lab/Shopbot/videos/singleDoubleTriple\\SO\\I_SO10_S_3.00\\I_SO10_S_3.00_230208\\disturbXS2_3_+y_1.000\\disturbXS2_3_+y_1.000_vstill_HIx3_l2w2o2_I_SO10_S_3.00_230208_135859_5.png\n",
      "INFO: Exported //cfs2e.nist.gov/642/internal/3D Printing Lab/Shopbot/videos/singleDoubleTriple\\SO\\I_SO10_S_3.00\\I_SO10_S_3.00_230208\\disturbXS2_3_+y_1.000\\disturbXS2_3_+y_1.000_vstill_HIx3_l2w3_I_SO10_S_3.00_230208_135859_5.png\n",
      "INFO: Exported //cfs2e.nist.gov/642/internal/3D Printing Lab/Shopbot/videos/singleDoubleTriple\\SO\\I_SO10_S_3.00\\I_SO10_S_3.00_230208\\disturbXS2_3_+y_1.000\\disturbXS2_3_+y_1.000_vstill_HIx3_l2w3o1_I_SO10_S_3.00_230208_135859_5.png\n",
      "INFO: Exported //cfs2e.nist.gov/642/internal/3D Printing Lab/Shopbot/videos/singleDoubleTriple\\SO\\I_SO10_S_3.00\\I_SO10_S_3.00_230208\\disturbXS2_3_+y_1.000\\disturbXS2_3_+y_1.000_vstill_HIx3_l2w3o2_I_SO10_S_3.00_230208_135859_5.png\n",
      "INFO: Exported //cfs2e.nist.gov/642/internal/3D Printing Lab/Shopbot/videos/singleDoubleTriple\\SO\\I_SO10_S_3.00\\I_SO10_S_3.00_230208\\disturbXS2_3_+y_1.000\\disturbXS2_3_+y_1.000_vstill_HIx3_l3w1_I_SO10_S_3.00_230208_135859_5.png\n",
      "INFO: Exported //cfs2e.nist.gov/642/internal/3D Printing Lab/Shopbot/videos/singleDoubleTriple\\SO\\I_SO10_S_3.00\\I_SO10_S_3.00_230208\\disturbXS2_3_+y_1.000\\disturbXS2_3_+y_1.000_vstill_HIx3_l3w1o1_I_SO10_S_3.00_230208_135859_5.png\n",
      "INFO: Exported //cfs2e.nist.gov/642/internal/3D Printing Lab/Shopbot/videos/singleDoubleTriple\\SO\\I_SO10_S_3.00\\I_SO10_S_3.00_230208\\disturbXS2_3_+y_1.000\\disturbXS2_3_+y_1.000_vstill_HIx3_l3w1o2_I_SO10_S_3.00_230208_135859_5.png\n",
      "INFO: Exported //cfs2e.nist.gov/642/internal/3D Printing Lab/Shopbot/videos/singleDoubleTriple\\SO\\I_SO10_S_3.00\\I_SO10_S_3.00_230208\\disturbXS2_3_+y_1.000\\disturbXS2_3_+y_1.000_vstill_HIx3_l3w2_I_SO10_S_3.00_230208_135859_5.png\n",
      "INFO: Exported //cfs2e.nist.gov/642/internal/3D Printing Lab/Shopbot/videos/singleDoubleTriple\\SO\\I_SO10_S_3.00\\I_SO10_S_3.00_230208\\disturbXS2_3_+y_1.000\\disturbXS2_3_+y_1.000_vstill_HIx3_l3w2o1_I_SO10_S_3.00_230208_135859_5.png\n",
      "INFO: Exported //cfs2e.nist.gov/642/internal/3D Printing Lab/Shopbot/videos/singleDoubleTriple\\SO\\I_SO10_S_3.00\\I_SO10_S_3.00_230208\\disturbXS2_3_+y_1.000\\disturbXS2_3_+y_1.000_vstill_HIx3_l3w2o2_I_SO10_S_3.00_230208_135859_5.png\n",
      "INFO: Exported //cfs2e.nist.gov/642/internal/3D Printing Lab/Shopbot/videos/singleDoubleTriple\\SO\\I_SO10_S_3.00\\I_SO10_S_3.00_230208\\disturbXS2_3_+y_1.000\\disturbXS2_3_+y_1.000_vstill_HIx3_l3w3_I_SO10_S_3.00_230208_135859_5.png\n",
      "INFO: Exported //cfs2e.nist.gov/642/internal/3D Printing Lab/Shopbot/videos/singleDoubleTriple\\SO\\I_SO10_S_3.00\\I_SO10_S_3.00_230208\\disturbXS2_3_+y_1.000\\disturbXS2_3_+y_1.000_vstill_HIx3_l3w3o1_I_SO10_S_3.00_230208_135859_5.png\n",
      "INFO: Exported //cfs2e.nist.gov/642/internal/3D Printing Lab/Shopbot/videos/singleDoubleTriple\\SO\\I_SO10_S_3.00\\I_SO10_S_3.00_230208\\disturbXS2_3_+y_1.000\\disturbXS2_3_+y_1.000_vstill_HIx3_l3w3o2_I_SO10_S_3.00_230208_135859_5.png\n",
      "INFO: Exported //cfs2e.nist.gov/642/internal/3D Printing Lab/Shopbot/videos/singleDoubleTriple\\SO\\I_SO10_S_3.50\\I_SO10_S_3.50_230208\\disturbXS2_2_+y_0.875\\disturbXS2_2_+y_0.875_vidStats_I_SO10_S_3.50_230208_155849_1.csv\n",
      "INFO: Exported //cfs2e.nist.gov/642/internal/3D Printing Lab/Shopbot/videos/singleDoubleTriple\\SO\\I_SO10_S_3.50\\I_SO10_S_3.50_230208\\disturbXS2_2_+y_0.875\\disturbXS2_2_+y_0.875_vstill_HIx2_l0w1_I_SO10_S_3.50_230208_155849_1.png\n",
      "INFO: Exported //cfs2e.nist.gov/642/internal/3D Printing Lab/Shopbot/videos/singleDoubleTriple\\SO\\I_SO10_S_3.50\\I_SO10_S_3.50_230208\\disturbXS2_2_+y_0.875\\disturbXS2_2_+y_0.875_vstill_HIx2_l0w1o1_I_SO10_S_3.50_230208_155849_1.png\n",
      "INFO: Exported //cfs2e.nist.gov/642/internal/3D Printing Lab/Shopbot/videos/singleDoubleTriple\\SO\\I_SO10_S_3.50\\I_SO10_S_3.50_230208\\disturbXS2_2_+y_0.875\\disturbXS2_2_+y_0.875_vstill_HIx2_l0w1o2_I_SO10_S_3.50_230208_155849_1.png\n",
      "INFO: Exported //cfs2e.nist.gov/642/internal/3D Printing Lab/Shopbot/videos/singleDoubleTriple\\SO\\I_SO10_S_3.50\\I_SO10_S_3.50_230208\\disturbXS2_2_+y_0.875\\disturbXS2_2_+y_0.875_vstill_HIx2_l0w2_I_SO10_S_3.50_230208_155849_1.png\n",
      "INFO: Exported //cfs2e.nist.gov/642/internal/3D Printing Lab/Shopbot/videos/singleDoubleTriple\\SO\\I_SO10_S_3.50\\I_SO10_S_3.50_230208\\disturbXS2_2_+y_0.875\\disturbXS2_2_+y_0.875_vstill_HIx2_l0w2o1_I_SO10_S_3.50_230208_155849_1.png\n",
      "INFO: Exported //cfs2e.nist.gov/642/internal/3D Printing Lab/Shopbot/videos/singleDoubleTriple\\SO\\I_SO10_S_3.50\\I_SO10_S_3.50_230208\\disturbXS2_2_+y_0.875\\disturbXS2_2_+y_0.875_vstill_HIx2_l0w2o2_I_SO10_S_3.50_230208_155849_1.png\n",
      "INFO: Exported //cfs2e.nist.gov/642/internal/3D Printing Lab/Shopbot/videos/singleDoubleTriple\\SO\\I_SO10_S_3.50\\I_SO10_S_3.50_230208\\disturbXS2_2_+y_0.875\\disturbXS2_2_+y_0.875_vstill_HIx2_l0d_I_SO10_S_3.50_230208_155849_1.png\n",
      "INFO: Exported //cfs2e.nist.gov/642/internal/3D Printing Lab/Shopbot/videos/singleDoubleTriple\\SO\\I_SO10_S_3.50\\I_SO10_S_3.50_230208\\disturbXS2_2_+y_0.875\\disturbXS2_2_+y_0.875_vstill_HIx2_l0do1_I_SO10_S_3.50_230208_155849_1.png\n",
      "INFO: Exported //cfs2e.nist.gov/642/internal/3D Printing Lab/Shopbot/videos/singleDoubleTriple\\SO\\I_SO10_S_3.50\\I_SO10_S_3.50_230208\\disturbXS2_2_+y_0.875\\disturbXS2_2_+y_0.875_vstill_HIx2_l0do2_I_SO10_S_3.50_230208_155849_1.png\n",
      "INFO: Exported //cfs2e.nist.gov/642/internal/3D Printing Lab/Shopbot/videos/singleDoubleTriple\\SO\\I_SO10_S_3.50\\I_SO10_S_3.50_230208\\disturbXS2_2_+y_0.875\\disturbXS2_2_+y_0.875_vstill_HIx2_l1w1_I_SO10_S_3.50_230208_155849_1.png\n",
      "INFO: Exported //cfs2e.nist.gov/642/internal/3D Printing Lab/Shopbot/videos/singleDoubleTriple\\SO\\I_SO10_S_3.50\\I_SO10_S_3.50_230208\\disturbXS2_2_+y_0.875\\disturbXS2_2_+y_0.875_vstill_HIx2_l1w1o1_I_SO10_S_3.50_230208_155849_1.png\n",
      "INFO: Exported //cfs2e.nist.gov/642/internal/3D Printing Lab/Shopbot/videos/singleDoubleTriple\\SO\\I_SO10_S_3.50\\I_SO10_S_3.50_230208\\disturbXS2_2_+y_0.875\\disturbXS2_2_+y_0.875_vstill_HIx2_l1w1o2_I_SO10_S_3.50_230208_155849_1.png\n",
      "INFO: Exported //cfs2e.nist.gov/642/internal/3D Printing Lab/Shopbot/videos/singleDoubleTriple\\SO\\I_SO10_S_3.50\\I_SO10_S_3.50_230208\\disturbXS2_2_+y_0.875\\disturbXS2_2_+y_0.875_vstill_HIx2_l1w2_I_SO10_S_3.50_230208_155849_1.png\n",
      "INFO: Exported //cfs2e.nist.gov/642/internal/3D Printing Lab/Shopbot/videos/singleDoubleTriple\\SO\\I_SO10_S_3.50\\I_SO10_S_3.50_230208\\disturbXS2_2_+y_0.875\\disturbXS2_2_+y_0.875_vstill_HIx2_l1w2o1_I_SO10_S_3.50_230208_155849_1.png\n",
      "INFO: Exported //cfs2e.nist.gov/642/internal/3D Printing Lab/Shopbot/videos/singleDoubleTriple\\SO\\I_SO10_S_3.50\\I_SO10_S_3.50_230208\\disturbXS2_2_+y_0.875\\disturbXS2_2_+y_0.875_vstill_HIx2_l1w2o2_I_SO10_S_3.50_230208_155849_1.png\n",
      "INFO: Exported //cfs2e.nist.gov/642/internal/3D Printing Lab/Shopbot/videos/singleDoubleTriple\\SO\\I_SO10_S_3.50\\I_SO10_S_3.50_230208\\disturbXS2_2_+y_0.875\\disturbXS2_2_+y_0.875_vstill_HIx2_l1d_I_SO10_S_3.50_230208_155849_1.png\n",
      "INFO: Exported //cfs2e.nist.gov/642/internal/3D Printing Lab/Shopbot/videos/singleDoubleTriple\\SO\\I_SO10_S_3.50\\I_SO10_S_3.50_230208\\disturbXS2_2_+y_0.875\\disturbXS2_2_+y_0.875_vstill_HIx2_l1do1_I_SO10_S_3.50_230208_155849_1.png\n",
      "INFO: Exported //cfs2e.nist.gov/642/internal/3D Printing Lab/Shopbot/videos/singleDoubleTriple\\SO\\I_SO10_S_3.50\\I_SO10_S_3.50_230208\\disturbXS2_2_+y_0.875\\disturbXS2_2_+y_0.875_vstill_HIx2_l1do2_I_SO10_S_3.50_230208_155849_1.png\n",
      "INFO: Exported //cfs2e.nist.gov/642/internal/3D Printing Lab/Shopbot/videos/singleDoubleTriple\\SO\\I_SO10_S_3.50\\I_SO10_S_3.50_230208\\disturbXS2_2_+y_0.875\\disturbXS2_2_+y_0.875_vstill_HIx2_l2w1_I_SO10_S_3.50_230208_155849_1.png\n",
      "INFO: Exported //cfs2e.nist.gov/642/internal/3D Printing Lab/Shopbot/videos/singleDoubleTriple\\SO\\I_SO10_S_3.50\\I_SO10_S_3.50_230208\\disturbXS2_2_+y_0.875\\disturbXS2_2_+y_0.875_vstill_HIx2_l2w1o1_I_SO10_S_3.50_230208_155849_1.png\n",
      "INFO: Exported //cfs2e.nist.gov/642/internal/3D Printing Lab/Shopbot/videos/singleDoubleTriple\\SO\\I_SO10_S_3.50\\I_SO10_S_3.50_230208\\disturbXS2_2_+y_0.875\\disturbXS2_2_+y_0.875_vstill_HIx2_l2w1o2_I_SO10_S_3.50_230208_155849_1.png\n",
      "INFO: Exported //cfs2e.nist.gov/642/internal/3D Printing Lab/Shopbot/videos/singleDoubleTriple\\SO\\I_SO10_S_3.50\\I_SO10_S_3.50_230208\\disturbXS2_2_+y_0.875\\disturbXS2_2_+y_0.875_vstill_HIx2_l2w2_I_SO10_S_3.50_230208_155849_1.png\n",
      "INFO: Exported //cfs2e.nist.gov/642/internal/3D Printing Lab/Shopbot/videos/singleDoubleTriple\\SO\\I_SO10_S_3.50\\I_SO10_S_3.50_230208\\disturbXS2_2_+y_0.875\\disturbXS2_2_+y_0.875_vstill_HIx2_l2w2o1_I_SO10_S_3.50_230208_155849_1.png\n",
      "INFO: Exported //cfs2e.nist.gov/642/internal/3D Printing Lab/Shopbot/videos/singleDoubleTriple\\SO\\I_SO10_S_3.50\\I_SO10_S_3.50_230208\\disturbXS2_2_+y_0.875\\disturbXS2_2_+y_0.875_vstill_HIx2_l2w2o2_I_SO10_S_3.50_230208_155849_1.png\n",
      "INFO: Exported //cfs2e.nist.gov/642/internal/3D Printing Lab/Shopbot/videos/singleDoubleTriple\\SO\\I_SO10_S_3.50\\I_SO10_S_3.50_230208\\disturbXS2_2_+y_0.875\\disturbXS2_2_+y_0.875_vstill_HIx2_l2d_I_SO10_S_3.50_230208_155849_1.png\n",
      "INFO: Exported //cfs2e.nist.gov/642/internal/3D Printing Lab/Shopbot/videos/singleDoubleTriple\\SO\\I_SO10_S_3.50\\I_SO10_S_3.50_230208\\disturbXS2_2_+y_0.875\\disturbXS2_2_+y_0.875_vstill_HIx2_l2do1_I_SO10_S_3.50_230208_155849_1.png\n",
      "INFO: Exported //cfs2e.nist.gov/642/internal/3D Printing Lab/Shopbot/videos/singleDoubleTriple\\SO\\I_SO10_S_3.50\\I_SO10_S_3.50_230208\\disturbXS2_2_+y_0.875\\disturbXS2_2_+y_0.875_vstill_HIx2_l2do2_I_SO10_S_3.50_230208_155849_1.png\n",
      "INFO: Exported //cfs2e.nist.gov/642/internal/3D Printing Lab/Shopbot/videos/singleDoubleTriple\\SO\\I_SO10_S_3.50\\I_SO10_S_3.50_230208\\disturbXS2_2_+y_0.875\\disturbXS2_2_+y_0.875_vstill_HIx2_l3w1_I_SO10_S_3.50_230208_155849_1.png\n",
      "INFO: Exported //cfs2e.nist.gov/642/internal/3D Printing Lab/Shopbot/videos/singleDoubleTriple\\SO\\I_SO10_S_3.50\\I_SO10_S_3.50_230208\\disturbXS2_2_+y_0.875\\disturbXS2_2_+y_0.875_vstill_HIx2_l3w1o1_I_SO10_S_3.50_230208_155849_1.png\n",
      "INFO: Exported //cfs2e.nist.gov/642/internal/3D Printing Lab/Shopbot/videos/singleDoubleTriple\\SO\\I_SO10_S_3.50\\I_SO10_S_3.50_230208\\disturbXS2_2_+y_0.875\\disturbXS2_2_+y_0.875_vstill_HIx2_l3w1o2_I_SO10_S_3.50_230208_155849_1.png\n",
      "INFO: Exported //cfs2e.nist.gov/642/internal/3D Printing Lab/Shopbot/videos/singleDoubleTriple\\SO\\I_SO10_S_3.50\\I_SO10_S_3.50_230208\\disturbXS2_2_+y_0.875\\disturbXS2_2_+y_0.875_vstill_HIx2_l3w2_I_SO10_S_3.50_230208_155849_1.png\n",
      "INFO: Exported //cfs2e.nist.gov/642/internal/3D Printing Lab/Shopbot/videos/singleDoubleTriple\\SO\\I_SO10_S_3.50\\I_SO10_S_3.50_230208\\disturbXS2_2_+y_0.875\\disturbXS2_2_+y_0.875_vstill_HIx2_l3w2o1_I_SO10_S_3.50_230208_155849_1.png\n",
      "INFO: Exported //cfs2e.nist.gov/642/internal/3D Printing Lab/Shopbot/videos/singleDoubleTriple\\SO\\I_SO10_S_3.50\\I_SO10_S_3.50_230208\\disturbXS2_2_+y_0.875\\disturbXS2_2_+y_0.875_vstill_HIx2_l3w2o2_I_SO10_S_3.50_230208_155849_1.png\n",
      "INFO: Exported //cfs2e.nist.gov/642/internal/3D Printing Lab/Shopbot/videos/singleDoubleTriple\\SO\\I_SO10_S_3.50\\I_SO10_S_3.50_230208\\disturbXS2_2_+y_0.875\\disturbXS2_2_+y_0.875_vstill_HIx2_l3d_I_SO10_S_3.50_230208_155849_1.png\n",
      "INFO: Exported //cfs2e.nist.gov/642/internal/3D Printing Lab/Shopbot/videos/singleDoubleTriple\\SO\\I_SO10_S_3.50\\I_SO10_S_3.50_230208\\disturbXS2_2_+y_0.875\\disturbXS2_2_+y_0.875_vstill_HIx2_l3do1_I_SO10_S_3.50_230208_155849_1.png\n",
      "INFO: Exported //cfs2e.nist.gov/642/internal/3D Printing Lab/Shopbot/videos/singleDoubleTriple\\SO\\I_SO10_S_3.50\\I_SO10_S_3.50_230208\\disturbXS2_2_+y_0.875\\disturbXS2_2_+y_0.875_vstill_HIx2_l3do2_I_SO10_S_3.50_230208_155849_1.png\n",
      "INFO: Exported //cfs2e.nist.gov/642/internal/3D Printing Lab/Shopbot/videos/singleDoubleTriple\\SO\\I_SO10_S_3.50\\I_SO10_S_3.50_230208\\disturbXS2_3_+z_0.625\\disturbXS2_3_+z_0.625_vidStats_I_SO10_S_3.50_230208_165833_5.csv\n",
      "INFO: Exported //cfs2e.nist.gov/642/internal/3D Printing Lab/Shopbot/videos/singleDoubleTriple\\SO\\I_SO10_S_3.50\\I_SO10_S_3.50_230208\\disturbXS2_3_+z_0.625\\disturbXS2_3_+z_0.625_vstill_HOx3_l0w1_I_SO10_S_3.50_230208_165833_5.png\n",
      "INFO: Exported //cfs2e.nist.gov/642/internal/3D Printing Lab/Shopbot/videos/singleDoubleTriple\\SO\\I_SO10_S_3.50\\I_SO10_S_3.50_230208\\disturbXS2_3_+z_0.625\\disturbXS2_3_+z_0.625_vstill_HOx3_l0w1o1_I_SO10_S_3.50_230208_165833_5.png\n",
      "INFO: Exported //cfs2e.nist.gov/642/internal/3D Printing Lab/Shopbot/videos/singleDoubleTriple\\SO\\I_SO10_S_3.50\\I_SO10_S_3.50_230208\\disturbXS2_3_+z_0.625\\disturbXS2_3_+z_0.625_vstill_HOx3_l0w1o2_I_SO10_S_3.50_230208_165833_5.png\n",
      "INFO: Exported //cfs2e.nist.gov/642/internal/3D Printing Lab/Shopbot/videos/singleDoubleTriple\\SO\\I_SO10_S_3.50\\I_SO10_S_3.50_230208\\disturbXS2_3_+z_0.625\\disturbXS2_3_+z_0.625_vstill_HOx3_l0w2_I_SO10_S_3.50_230208_165833_5.png\n",
      "INFO: Exported //cfs2e.nist.gov/642/internal/3D Printing Lab/Shopbot/videos/singleDoubleTriple\\SO\\I_SO10_S_3.50\\I_SO10_S_3.50_230208\\disturbXS2_3_+z_0.625\\disturbXS2_3_+z_0.625_vstill_HOx3_l0w2o1_I_SO10_S_3.50_230208_165833_5.png\n",
      "INFO: Exported //cfs2e.nist.gov/642/internal/3D Printing Lab/Shopbot/videos/singleDoubleTriple\\SO\\I_SO10_S_3.50\\I_SO10_S_3.50_230208\\disturbXS2_3_+z_0.625\\disturbXS2_3_+z_0.625_vstill_HOx3_l0w2o2_I_SO10_S_3.50_230208_165833_5.png\n",
      "INFO: Exported //cfs2e.nist.gov/642/internal/3D Printing Lab/Shopbot/videos/singleDoubleTriple\\SO\\I_SO10_S_3.50\\I_SO10_S_3.50_230208\\disturbXS2_3_+z_0.625\\disturbXS2_3_+z_0.625_vstill_HOx3_l0w3_I_SO10_S_3.50_230208_165833_5.png\n",
      "INFO: Exported //cfs2e.nist.gov/642/internal/3D Printing Lab/Shopbot/videos/singleDoubleTriple\\SO\\I_SO10_S_3.50\\I_SO10_S_3.50_230208\\disturbXS2_3_+z_0.625\\disturbXS2_3_+z_0.625_vstill_HOx3_l0w3o1_I_SO10_S_3.50_230208_165833_5.png\n",
      "INFO: Exported //cfs2e.nist.gov/642/internal/3D Printing Lab/Shopbot/videos/singleDoubleTriple\\SO\\I_SO10_S_3.50\\I_SO10_S_3.50_230208\\disturbXS2_3_+z_0.625\\disturbXS2_3_+z_0.625_vstill_HOx3_l0w3o2_I_SO10_S_3.50_230208_165833_5.png\n",
      "INFO: Exported //cfs2e.nist.gov/642/internal/3D Printing Lab/Shopbot/videos/singleDoubleTriple\\SO\\I_SO10_S_3.50\\I_SO10_S_3.50_230208\\disturbXS2_3_+z_0.625\\disturbXS2_3_+z_0.625_vstill_HOx3_l1w1_I_SO10_S_3.50_230208_165833_5.png\n",
      "INFO: Exported //cfs2e.nist.gov/642/internal/3D Printing Lab/Shopbot/videos/singleDoubleTriple\\SO\\I_SO10_S_3.50\\I_SO10_S_3.50_230208\\disturbXS2_3_+z_0.625\\disturbXS2_3_+z_0.625_vstill_HOx3_l1w1o1_I_SO10_S_3.50_230208_165833_5.png\n",
      "INFO: Exported //cfs2e.nist.gov/642/internal/3D Printing Lab/Shopbot/videos/singleDoubleTriple\\SO\\I_SO10_S_3.50\\I_SO10_S_3.50_230208\\disturbXS2_3_+z_0.625\\disturbXS2_3_+z_0.625_vstill_HOx3_l1w1o2_I_SO10_S_3.50_230208_165833_5.png\n",
      "INFO: Exported //cfs2e.nist.gov/642/internal/3D Printing Lab/Shopbot/videos/singleDoubleTriple\\SO\\I_SO10_S_3.50\\I_SO10_S_3.50_230208\\disturbXS2_3_+z_0.625\\disturbXS2_3_+z_0.625_vstill_HOx3_l1w2_I_SO10_S_3.50_230208_165833_5.png\n",
      "INFO: Exported //cfs2e.nist.gov/642/internal/3D Printing Lab/Shopbot/videos/singleDoubleTriple\\SO\\I_SO10_S_3.50\\I_SO10_S_3.50_230208\\disturbXS2_3_+z_0.625\\disturbXS2_3_+z_0.625_vstill_HOx3_l1w2o1_I_SO10_S_3.50_230208_165833_5.png\n",
      "INFO: Exported //cfs2e.nist.gov/642/internal/3D Printing Lab/Shopbot/videos/singleDoubleTriple\\SO\\I_SO10_S_3.50\\I_SO10_S_3.50_230208\\disturbXS2_3_+z_0.625\\disturbXS2_3_+z_0.625_vstill_HOx3_l1w2o2_I_SO10_S_3.50_230208_165833_5.png\n",
      "INFO: Exported //cfs2e.nist.gov/642/internal/3D Printing Lab/Shopbot/videos/singleDoubleTriple\\SO\\I_SO10_S_3.50\\I_SO10_S_3.50_230208\\disturbXS2_3_+z_0.625\\disturbXS2_3_+z_0.625_vstill_HOx3_l1w3_I_SO10_S_3.50_230208_165833_5.png\n",
      "INFO: Exported //cfs2e.nist.gov/642/internal/3D Printing Lab/Shopbot/videos/singleDoubleTriple\\SO\\I_SO10_S_3.50\\I_SO10_S_3.50_230208\\disturbXS2_3_+z_0.625\\disturbXS2_3_+z_0.625_vstill_HOx3_l1w3o1_I_SO10_S_3.50_230208_165833_5.png\n",
      "INFO: Exported //cfs2e.nist.gov/642/internal/3D Printing Lab/Shopbot/videos/singleDoubleTriple\\SO\\I_SO10_S_3.50\\I_SO10_S_3.50_230208\\disturbXS2_3_+z_0.625\\disturbXS2_3_+z_0.625_vstill_HOx3_l1w3o2_I_SO10_S_3.50_230208_165833_5.png\n",
      "INFO: Exported //cfs2e.nist.gov/642/internal/3D Printing Lab/Shopbot/videos/singleDoubleTriple\\SO\\I_SO10_S_3.50\\I_SO10_S_3.50_230208\\disturbXS2_3_+z_0.625\\disturbXS2_3_+z_0.625_vstill_HOx3_l2w1_I_SO10_S_3.50_230208_165833_5.png\n",
      "INFO: Exported //cfs2e.nist.gov/642/internal/3D Printing Lab/Shopbot/videos/singleDoubleTriple\\SO\\I_SO10_S_3.50\\I_SO10_S_3.50_230208\\disturbXS2_3_+z_0.625\\disturbXS2_3_+z_0.625_vstill_HOx3_l2w1o1_I_SO10_S_3.50_230208_165833_5.png\n",
      "INFO: Exported //cfs2e.nist.gov/642/internal/3D Printing Lab/Shopbot/videos/singleDoubleTriple\\SO\\I_SO10_S_3.50\\I_SO10_S_3.50_230208\\disturbXS2_3_+z_0.625\\disturbXS2_3_+z_0.625_vstill_HOx3_l2w1o2_I_SO10_S_3.50_230208_165833_5.png\n",
      "INFO: Exported //cfs2e.nist.gov/642/internal/3D Printing Lab/Shopbot/videos/singleDoubleTriple\\SO\\I_SO10_S_3.50\\I_SO10_S_3.50_230208\\disturbXS2_3_+z_0.625\\disturbXS2_3_+z_0.625_vstill_HOx3_l2w2_I_SO10_S_3.50_230208_165833_5.png\n",
      "INFO: Exported //cfs2e.nist.gov/642/internal/3D Printing Lab/Shopbot/videos/singleDoubleTriple\\SO\\I_SO10_S_3.50\\I_SO10_S_3.50_230208\\disturbXS2_3_+z_0.625\\disturbXS2_3_+z_0.625_vstill_HOx3_l2w2o1_I_SO10_S_3.50_230208_165833_5.png\n",
      "INFO: Exported //cfs2e.nist.gov/642/internal/3D Printing Lab/Shopbot/videos/singleDoubleTriple\\SO\\I_SO10_S_3.50\\I_SO10_S_3.50_230208\\disturbXS2_3_+z_0.625\\disturbXS2_3_+z_0.625_vstill_HOx3_l2w2o2_I_SO10_S_3.50_230208_165833_5.png\n",
      "INFO: Exported //cfs2e.nist.gov/642/internal/3D Printing Lab/Shopbot/videos/singleDoubleTriple\\SO\\I_SO10_S_3.50\\I_SO10_S_3.50_230208\\disturbXS2_3_+z_0.625\\disturbXS2_3_+z_0.625_vstill_HOx3_l2w3_I_SO10_S_3.50_230208_165833_5.png\n",
      "INFO: Exported //cfs2e.nist.gov/642/internal/3D Printing Lab/Shopbot/videos/singleDoubleTriple\\SO\\I_SO10_S_3.50\\I_SO10_S_3.50_230208\\disturbXS2_3_+z_0.625\\disturbXS2_3_+z_0.625_vstill_HOx3_l2w3o1_I_SO10_S_3.50_230208_165833_5.png\n",
      "INFO: Exported //cfs2e.nist.gov/642/internal/3D Printing Lab/Shopbot/videos/singleDoubleTriple\\SO\\I_SO10_S_3.50\\I_SO10_S_3.50_230208\\disturbXS2_3_+z_0.625\\disturbXS2_3_+z_0.625_vstill_HOx3_l2w3o2_I_SO10_S_3.50_230208_165833_5.png\n",
      "INFO: Exported //cfs2e.nist.gov/642/internal/3D Printing Lab/Shopbot/videos/singleDoubleTriple\\SO\\I_SO10_S_3.50\\I_SO10_S_3.50_230208\\disturbXS2_3_+z_0.625\\disturbXS2_3_+z_0.625_vstill_HOx3_l3w1_I_SO10_S_3.50_230208_165833_5.png\n",
      "INFO: Exported //cfs2e.nist.gov/642/internal/3D Printing Lab/Shopbot/videos/singleDoubleTriple\\SO\\I_SO10_S_3.50\\I_SO10_S_3.50_230208\\disturbXS2_3_+z_0.625\\disturbXS2_3_+z_0.625_vstill_HOx3_l3w1o1_I_SO10_S_3.50_230208_165833_5.png\n",
      "INFO: Exported //cfs2e.nist.gov/642/internal/3D Printing Lab/Shopbot/videos/singleDoubleTriple\\SO\\I_SO10_S_3.50\\I_SO10_S_3.50_230208\\disturbXS2_3_+z_0.625\\disturbXS2_3_+z_0.625_vstill_HOx3_l3w1o2_I_SO10_S_3.50_230208_165833_5.png\n",
      "INFO: Exported //cfs2e.nist.gov/642/internal/3D Printing Lab/Shopbot/videos/singleDoubleTriple\\SO\\I_SO10_S_3.50\\I_SO10_S_3.50_230208\\disturbXS2_3_+z_0.625\\disturbXS2_3_+z_0.625_vstill_HOx3_l3w2_I_SO10_S_3.50_230208_165833_5.png\n",
      "INFO: Exported //cfs2e.nist.gov/642/internal/3D Printing Lab/Shopbot/videos/singleDoubleTriple\\SO\\I_SO10_S_3.50\\I_SO10_S_3.50_230208\\disturbXS2_3_+z_0.625\\disturbXS2_3_+z_0.625_vstill_HOx3_l3w2o1_I_SO10_S_3.50_230208_165833_5.png\n",
      "INFO: Exported //cfs2e.nist.gov/642/internal/3D Printing Lab/Shopbot/videos/singleDoubleTriple\\SO\\I_SO10_S_3.50\\I_SO10_S_3.50_230208\\disturbXS2_3_+z_0.625\\disturbXS2_3_+z_0.625_vstill_HOx3_l3w2o2_I_SO10_S_3.50_230208_165833_5.png\n",
      "INFO: Exported //cfs2e.nist.gov/642/internal/3D Printing Lab/Shopbot/videos/singleDoubleTriple\\SO\\I_SO10_S_3.50\\I_SO10_S_3.50_230208\\disturbXS2_3_+z_0.625\\disturbXS2_3_+z_0.625_vstill_HOx3_l3w3_I_SO10_S_3.50_230208_165833_5.png\n",
      "INFO: Exported //cfs2e.nist.gov/642/internal/3D Printing Lab/Shopbot/videos/singleDoubleTriple\\SO\\I_SO10_S_3.50\\I_SO10_S_3.50_230208\\disturbXS2_3_+z_0.625\\disturbXS2_3_+z_0.625_vstill_HOx3_l3w3o1_I_SO10_S_3.50_230208_165833_5.png\n",
      "INFO: Exported //cfs2e.nist.gov/642/internal/3D Printing Lab/Shopbot/videos/singleDoubleTriple\\SO\\I_SO10_S_3.50\\I_SO10_S_3.50_230208\\disturbXS2_3_+z_0.625\\disturbXS2_3_+z_0.625_vstill_HOx3_l3w3o2_I_SO10_S_3.50_230208_165833_5.png\n",
      "INFO: Exported //cfs2e.nist.gov/642/internal/3D Printing Lab/Shopbot/videos/singleDoubleTriple\\SO\\I_SO10_S_4.00\\I_SO10_S_4.00_230208\\disturbVert2_2_0.625\\disturbVert2_2_0.625_vidStats_I_SO10_S_4.00_230208_175927_8.csv\n",
      "INFO: Exported //cfs2e.nist.gov/642/internal/3D Printing Lab/Shopbot/videos/singleDoubleTriple\\SO\\I_SO10_S_4.00\\I_SO10_S_4.00_230208\\disturbVert2_2_0.625\\disturbVert2_2_0.625_vstill_V2_l0w1_I_SO10_S_4.00_230208_175927_8.png\n",
      "INFO: Exported //cfs2e.nist.gov/642/internal/3D Printing Lab/Shopbot/videos/singleDoubleTriple\\SO\\I_SO10_S_4.00\\I_SO10_S_4.00_230208\\disturbVert2_2_0.625\\disturbVert2_2_0.625_vstill_V2_l0w1o1_I_SO10_S_4.00_230208_175927_8.png\n",
      "INFO: Exported //cfs2e.nist.gov/642/internal/3D Printing Lab/Shopbot/videos/singleDoubleTriple\\SO\\I_SO10_S_4.00\\I_SO10_S_4.00_230208\\disturbVert2_2_0.625\\disturbVert2_2_0.625_vstill_V2_l0w1o2_I_SO10_S_4.00_230208_175927_8.png\n",
      "INFO: Exported //cfs2e.nist.gov/642/internal/3D Printing Lab/Shopbot/videos/singleDoubleTriple\\SO\\I_SO10_S_4.00\\I_SO10_S_4.00_230208\\disturbVert2_2_0.625\\disturbVert2_2_0.625_vstill_V2_l0w2_I_SO10_S_4.00_230208_175927_8.png\n",
      "INFO: Exported //cfs2e.nist.gov/642/internal/3D Printing Lab/Shopbot/videos/singleDoubleTriple\\SO\\I_SO10_S_4.00\\I_SO10_S_4.00_230208\\disturbVert2_2_0.625\\disturbVert2_2_0.625_vstill_V2_l0w2o1_I_SO10_S_4.00_230208_175927_8.png\n",
      "INFO: Exported //cfs2e.nist.gov/642/internal/3D Printing Lab/Shopbot/videos/singleDoubleTriple\\SO\\I_SO10_S_4.00\\I_SO10_S_4.00_230208\\disturbVert2_2_0.625\\disturbVert2_2_0.625_vstill_V2_l0w2o2_I_SO10_S_4.00_230208_175927_8.png\n",
      "INFO: Exported //cfs2e.nist.gov/642/internal/3D Printing Lab/Shopbot/videos/singleDoubleTriple\\SO\\I_SO10_S_4.00\\I_SO10_S_4.00_230208\\disturbVert2_2_0.625\\disturbVert2_2_0.625_vstill_V2_l0d_I_SO10_S_4.00_230208_175927_8.png\n",
      "INFO: Exported //cfs2e.nist.gov/642/internal/3D Printing Lab/Shopbot/videos/singleDoubleTriple\\SO\\I_SO10_S_4.00\\I_SO10_S_4.00_230208\\disturbVert2_2_0.625\\disturbVert2_2_0.625_vstill_V2_l0do1_I_SO10_S_4.00_230208_175927_8.png\n",
      "INFO: Exported //cfs2e.nist.gov/642/internal/3D Printing Lab/Shopbot/videos/singleDoubleTriple\\SO\\I_SO10_S_4.00\\I_SO10_S_4.00_230208\\disturbVert2_2_0.625\\disturbVert2_2_0.625_vstill_V2_l0do2_I_SO10_S_4.00_230208_175927_8.png\n",
      "INFO: Exported //cfs2e.nist.gov/642/internal/3D Printing Lab/Shopbot/videos/singleDoubleTriple\\SO\\I_SO10_S_4.00\\I_SO10_S_4.00_230208\\disturbVert2_2_0.625\\disturbVert2_2_0.625_vstill_V2_l1w1_I_SO10_S_4.00_230208_175927_8.png\n",
      "INFO: Exported //cfs2e.nist.gov/642/internal/3D Printing Lab/Shopbot/videos/singleDoubleTriple\\SO\\I_SO10_S_4.00\\I_SO10_S_4.00_230208\\disturbVert2_2_0.625\\disturbVert2_2_0.625_vstill_V2_l1w1o1_I_SO10_S_4.00_230208_175927_8.png\n",
      "INFO: Exported //cfs2e.nist.gov/642/internal/3D Printing Lab/Shopbot/videos/singleDoubleTriple\\SO\\I_SO10_S_4.00\\I_SO10_S_4.00_230208\\disturbVert2_2_0.625\\disturbVert2_2_0.625_vstill_V2_l1w1o2_I_SO10_S_4.00_230208_175927_8.png\n",
      "INFO: Exported //cfs2e.nist.gov/642/internal/3D Printing Lab/Shopbot/videos/singleDoubleTriple\\SO\\I_SO10_S_4.00\\I_SO10_S_4.00_230208\\disturbVert2_2_0.625\\disturbVert2_2_0.625_vstill_V2_l1w2_I_SO10_S_4.00_230208_175927_8.png\n",
      "INFO: Exported //cfs2e.nist.gov/642/internal/3D Printing Lab/Shopbot/videos/singleDoubleTriple\\SO\\I_SO10_S_4.00\\I_SO10_S_4.00_230208\\disturbVert2_2_0.625\\disturbVert2_2_0.625_vstill_V2_l1w2o1_I_SO10_S_4.00_230208_175927_8.png\n",
      "INFO: Exported //cfs2e.nist.gov/642/internal/3D Printing Lab/Shopbot/videos/singleDoubleTriple\\SO\\I_SO10_S_4.00\\I_SO10_S_4.00_230208\\disturbVert2_2_0.625\\disturbVert2_2_0.625_vstill_V2_l1w2o2_I_SO10_S_4.00_230208_175927_8.png\n",
      "INFO: Exported //cfs2e.nist.gov/642/internal/3D Printing Lab/Shopbot/videos/singleDoubleTriple\\SO\\I_SO10_S_4.00\\I_SO10_S_4.00_230208\\disturbVert2_2_0.625\\disturbVert2_2_0.625_vstill_V2_l1d_I_SO10_S_4.00_230208_175927_8.png\n",
      "INFO: Exported //cfs2e.nist.gov/642/internal/3D Printing Lab/Shopbot/videos/singleDoubleTriple\\SO\\I_SO10_S_4.00\\I_SO10_S_4.00_230208\\disturbVert2_2_0.625\\disturbVert2_2_0.625_vstill_V2_l1do1_I_SO10_S_4.00_230208_175927_8.png\n",
      "INFO: Exported //cfs2e.nist.gov/642/internal/3D Printing Lab/Shopbot/videos/singleDoubleTriple\\SO\\I_SO10_S_4.00\\I_SO10_S_4.00_230208\\disturbVert2_2_0.625\\disturbVert2_2_0.625_vstill_V2_l1do2_I_SO10_S_4.00_230208_175927_8.png\n",
      "INFO: Exported //cfs2e.nist.gov/642/internal/3D Printing Lab/Shopbot/videos/singleDoubleTriple\\SO\\I_SO10_S_4.00\\I_SO10_S_4.00_230208\\disturbVert2_2_0.625\\disturbVert2_2_0.625_vstill_V2_l2w1_I_SO10_S_4.00_230208_175927_8.png\n",
      "INFO: Exported //cfs2e.nist.gov/642/internal/3D Printing Lab/Shopbot/videos/singleDoubleTriple\\SO\\I_SO10_S_4.00\\I_SO10_S_4.00_230208\\disturbVert2_2_0.625\\disturbVert2_2_0.625_vstill_V2_l2w1o1_I_SO10_S_4.00_230208_175927_8.png\n",
      "INFO: Exported //cfs2e.nist.gov/642/internal/3D Printing Lab/Shopbot/videos/singleDoubleTriple\\SO\\I_SO10_S_4.00\\I_SO10_S_4.00_230208\\disturbVert2_2_0.625\\disturbVert2_2_0.625_vstill_V2_l2w1o2_I_SO10_S_4.00_230208_175927_8.png\n",
      "INFO: Exported //cfs2e.nist.gov/642/internal/3D Printing Lab/Shopbot/videos/singleDoubleTriple\\SO\\I_SO10_S_4.00\\I_SO10_S_4.00_230208\\disturbVert2_2_0.625\\disturbVert2_2_0.625_vstill_V2_l2w2_I_SO10_S_4.00_230208_175927_8.png\n",
      "INFO: Exported //cfs2e.nist.gov/642/internal/3D Printing Lab/Shopbot/videos/singleDoubleTriple\\SO\\I_SO10_S_4.00\\I_SO10_S_4.00_230208\\disturbVert2_2_0.625\\disturbVert2_2_0.625_vstill_V2_l2w2o1_I_SO10_S_4.00_230208_175927_8.png\n",
      "INFO: Exported //cfs2e.nist.gov/642/internal/3D Printing Lab/Shopbot/videos/singleDoubleTriple\\SO\\I_SO10_S_4.00\\I_SO10_S_4.00_230208\\disturbVert2_2_0.625\\disturbVert2_2_0.625_vstill_V2_l2w2o2_I_SO10_S_4.00_230208_175927_8.png\n",
      "INFO: Exported //cfs2e.nist.gov/642/internal/3D Printing Lab/Shopbot/videos/singleDoubleTriple\\SO\\I_SO10_S_4.00\\I_SO10_S_4.00_230208\\disturbVert2_2_0.625\\disturbVert2_2_0.625_vstill_V2_l2d_I_SO10_S_4.00_230208_175927_8.png\n",
      "INFO: Exported //cfs2e.nist.gov/642/internal/3D Printing Lab/Shopbot/videos/singleDoubleTriple\\SO\\I_SO10_S_4.00\\I_SO10_S_4.00_230208\\disturbVert2_2_0.625\\disturbVert2_2_0.625_vstill_V2_l2do1_I_SO10_S_4.00_230208_175927_8.png\n",
      "INFO: Exported //cfs2e.nist.gov/642/internal/3D Printing Lab/Shopbot/videos/singleDoubleTriple\\SO\\I_SO10_S_4.00\\I_SO10_S_4.00_230208\\disturbVert2_2_0.625\\disturbVert2_2_0.625_vstill_V2_l2do2_I_SO10_S_4.00_230208_175927_8.png\n",
      "INFO: Exported //cfs2e.nist.gov/642/internal/3D Printing Lab/Shopbot/videos/singleDoubleTriple\\SO\\I_SO10_S_4.00\\I_SO10_S_4.00_230208\\disturbVert2_2_0.625\\disturbVert2_2_0.625_vstill_V2_l3w1_I_SO10_S_4.00_230208_175927_8.png\n",
      "INFO: Exported //cfs2e.nist.gov/642/internal/3D Printing Lab/Shopbot/videos/singleDoubleTriple\\SO\\I_SO10_S_4.00\\I_SO10_S_4.00_230208\\disturbVert2_2_0.625\\disturbVert2_2_0.625_vstill_V2_l3w1o1_I_SO10_S_4.00_230208_175927_8.png\n",
      "INFO: Exported //cfs2e.nist.gov/642/internal/3D Printing Lab/Shopbot/videos/singleDoubleTriple\\SO\\I_SO10_S_4.00\\I_SO10_S_4.00_230208\\disturbVert2_2_0.625\\disturbVert2_2_0.625_vstill_V2_l3w1o2_I_SO10_S_4.00_230208_175927_8.png\n",
      "INFO: Exported //cfs2e.nist.gov/642/internal/3D Printing Lab/Shopbot/videos/singleDoubleTriple\\SO\\I_SO10_S_4.00\\I_SO10_S_4.00_230208\\disturbVert2_2_0.625\\disturbVert2_2_0.625_vstill_V2_l3w2_I_SO10_S_4.00_230208_175927_8.png\n",
      "INFO: Exported //cfs2e.nist.gov/642/internal/3D Printing Lab/Shopbot/videos/singleDoubleTriple\\SO\\I_SO10_S_4.00\\I_SO10_S_4.00_230208\\disturbVert2_2_0.625\\disturbVert2_2_0.625_vstill_V2_l3w2o1_I_SO10_S_4.00_230208_175927_8.png\n",
      "INFO: Exported //cfs2e.nist.gov/642/internal/3D Printing Lab/Shopbot/videos/singleDoubleTriple\\SO\\I_SO10_S_4.00\\I_SO10_S_4.00_230208\\disturbVert2_2_0.625\\disturbVert2_2_0.625_vstill_V2_l3w2o2_I_SO10_S_4.00_230208_175927_8.png\n",
      "INFO: Exported //cfs2e.nist.gov/642/internal/3D Printing Lab/Shopbot/videos/singleDoubleTriple\\SO\\I_SO10_S_4.00\\I_SO10_S_4.00_230208\\disturbVert2_2_0.625\\disturbVert2_2_0.625_vstill_V2_l3d_I_SO10_S_4.00_230208_175927_8.png\n",
      "INFO: Exported //cfs2e.nist.gov/642/internal/3D Printing Lab/Shopbot/videos/singleDoubleTriple\\SO\\I_SO10_S_4.00\\I_SO10_S_4.00_230208\\disturbVert2_2_0.625\\disturbVert2_2_0.625_vstill_V2_l3do1_I_SO10_S_4.00_230208_175927_8.png\n",
      "INFO: Exported //cfs2e.nist.gov/642/internal/3D Printing Lab/Shopbot/videos/singleDoubleTriple\\SO\\I_SO10_S_4.00\\I_SO10_S_4.00_230208\\disturbVert2_2_0.625\\disturbVert2_2_0.625_vstill_V2_l3do2_I_SO10_S_4.00_230208_175927_8.png\n",
      "INFO: Exported //cfs2e.nist.gov/642/internal/3D Printing Lab/Shopbot/videos/singleDoubleTriple\\SO\\I_SO11_S_3.00\\I_SO11_S_3.00_230214\\disturbHoriz3_3_0.750\\disturbHoriz3_3_0.750_vidStats_I_SO11_S_3.00_230214_125913_7.csv\n",
      "INFO: Exported //cfs2e.nist.gov/642/internal/3D Printing Lab/Shopbot/videos/singleDoubleTriple\\SO\\I_SO11_S_3.00\\I_SO11_S_3.00_230214\\disturbHoriz3_3_0.750\\disturbHoriz3_3_0.750_vstill_HOh3_l0w1_I_SO11_S_3.00_230214_125913_7.png\n",
      "INFO: Exported //cfs2e.nist.gov/642/internal/3D Printing Lab/Shopbot/videos/singleDoubleTriple\\SO\\I_SO11_S_3.00\\I_SO11_S_3.00_230214\\disturbHoriz3_3_0.750\\disturbHoriz3_3_0.750_vstill_HOh3_l0w1o1_I_SO11_S_3.00_230214_125913_7.png\n",
      "INFO: Exported //cfs2e.nist.gov/642/internal/3D Printing Lab/Shopbot/videos/singleDoubleTriple\\SO\\I_SO11_S_3.00\\I_SO11_S_3.00_230214\\disturbHoriz3_3_0.750\\disturbHoriz3_3_0.750_vstill_HOh3_l0w1o2_I_SO11_S_3.00_230214_125913_7.png\n",
      "INFO: Exported //cfs2e.nist.gov/642/internal/3D Printing Lab/Shopbot/videos/singleDoubleTriple\\SO\\I_SO11_S_3.00\\I_SO11_S_3.00_230214\\disturbHoriz3_3_0.750\\disturbHoriz3_3_0.750_vstill_HOh3_l0w2_I_SO11_S_3.00_230214_125913_7.png\n",
      "INFO: Exported //cfs2e.nist.gov/642/internal/3D Printing Lab/Shopbot/videos/singleDoubleTriple\\SO\\I_SO11_S_3.00\\I_SO11_S_3.00_230214\\disturbHoriz3_3_0.750\\disturbHoriz3_3_0.750_vstill_HOh3_l0w2o1_I_SO11_S_3.00_230214_125913_7.png\n",
      "INFO: Exported //cfs2e.nist.gov/642/internal/3D Printing Lab/Shopbot/videos/singleDoubleTriple\\SO\\I_SO11_S_3.00\\I_SO11_S_3.00_230214\\disturbHoriz3_3_0.750\\disturbHoriz3_3_0.750_vstill_HOh3_l0w2o2_I_SO11_S_3.00_230214_125913_7.png\n",
      "INFO: Exported //cfs2e.nist.gov/642/internal/3D Printing Lab/Shopbot/videos/singleDoubleTriple\\SO\\I_SO11_S_3.00\\I_SO11_S_3.00_230214\\disturbHoriz3_3_0.750\\disturbHoriz3_3_0.750_vstill_HOh3_l0w3_I_SO11_S_3.00_230214_125913_7.png\n",
      "INFO: Exported //cfs2e.nist.gov/642/internal/3D Printing Lab/Shopbot/videos/singleDoubleTriple\\SO\\I_SO11_S_3.00\\I_SO11_S_3.00_230214\\disturbHoriz3_3_0.750\\disturbHoriz3_3_0.750_vstill_HOh3_l0w3o1_I_SO11_S_3.00_230214_125913_7.png\n",
      "INFO: Exported //cfs2e.nist.gov/642/internal/3D Printing Lab/Shopbot/videos/singleDoubleTriple\\SO\\I_SO11_S_3.00\\I_SO11_S_3.00_230214\\disturbHoriz3_3_0.750\\disturbHoriz3_3_0.750_vstill_HOh3_l0w3o2_I_SO11_S_3.00_230214_125913_7.png\n",
      "INFO: Exported //cfs2e.nist.gov/642/internal/3D Printing Lab/Shopbot/videos/singleDoubleTriple\\SO\\I_SO11_S_3.00\\I_SO11_S_3.00_230214\\disturbHoriz3_3_0.750\\disturbHoriz3_3_0.750_vstill_HOh3_l1w1_I_SO11_S_3.00_230214_125913_7.png\n",
      "INFO: Exported //cfs2e.nist.gov/642/internal/3D Printing Lab/Shopbot/videos/singleDoubleTriple\\SO\\I_SO11_S_3.00\\I_SO11_S_3.00_230214\\disturbHoriz3_3_0.750\\disturbHoriz3_3_0.750_vstill_HOh3_l1w1o1_I_SO11_S_3.00_230214_125913_7.png\n",
      "INFO: Exported //cfs2e.nist.gov/642/internal/3D Printing Lab/Shopbot/videos/singleDoubleTriple\\SO\\I_SO11_S_3.00\\I_SO11_S_3.00_230214\\disturbHoriz3_3_0.750\\disturbHoriz3_3_0.750_vstill_HOh3_l1w1o2_I_SO11_S_3.00_230214_125913_7.png\n",
      "INFO: Exported //cfs2e.nist.gov/642/internal/3D Printing Lab/Shopbot/videos/singleDoubleTriple\\SO\\I_SO11_S_3.00\\I_SO11_S_3.00_230214\\disturbHoriz3_3_0.750\\disturbHoriz3_3_0.750_vstill_HOh3_l1w2_I_SO11_S_3.00_230214_125913_7.png\n",
      "INFO: Exported //cfs2e.nist.gov/642/internal/3D Printing Lab/Shopbot/videos/singleDoubleTriple\\SO\\I_SO11_S_3.00\\I_SO11_S_3.00_230214\\disturbHoriz3_3_0.750\\disturbHoriz3_3_0.750_vstill_HOh3_l1w2o1_I_SO11_S_3.00_230214_125913_7.png\n",
      "INFO: Exported //cfs2e.nist.gov/642/internal/3D Printing Lab/Shopbot/videos/singleDoubleTriple\\SO\\I_SO11_S_3.00\\I_SO11_S_3.00_230214\\disturbHoriz3_3_0.750\\disturbHoriz3_3_0.750_vstill_HOh3_l1w2o2_I_SO11_S_3.00_230214_125913_7.png\n",
      "INFO: Exported //cfs2e.nist.gov/642/internal/3D Printing Lab/Shopbot/videos/singleDoubleTriple\\SO\\I_SO11_S_3.00\\I_SO11_S_3.00_230214\\disturbHoriz3_3_0.750\\disturbHoriz3_3_0.750_vstill_HOh3_l1w3_I_SO11_S_3.00_230214_125913_7.png\n",
      "INFO: Exported //cfs2e.nist.gov/642/internal/3D Printing Lab/Shopbot/videos/singleDoubleTriple\\SO\\I_SO11_S_3.00\\I_SO11_S_3.00_230214\\disturbHoriz3_3_0.750\\disturbHoriz3_3_0.750_vstill_HOh3_l1w3o1_I_SO11_S_3.00_230214_125913_7.png\n",
      "INFO: Exported //cfs2e.nist.gov/642/internal/3D Printing Lab/Shopbot/videos/singleDoubleTriple\\SO\\I_SO11_S_3.00\\I_SO11_S_3.00_230214\\disturbHoriz3_3_0.750\\disturbHoriz3_3_0.750_vstill_HOh3_l1w3o2_I_SO11_S_3.00_230214_125913_7.png\n",
      "INFO: Exported //cfs2e.nist.gov/642/internal/3D Printing Lab/Shopbot/videos/singleDoubleTriple\\SO\\I_SO11_S_3.00\\I_SO11_S_3.00_230214\\disturbHoriz3_3_0.750\\disturbHoriz3_3_0.750_vstill_HOh3_l2w1_I_SO11_S_3.00_230214_125913_7.png\n",
      "INFO: Exported //cfs2e.nist.gov/642/internal/3D Printing Lab/Shopbot/videos/singleDoubleTriple\\SO\\I_SO11_S_3.00\\I_SO11_S_3.00_230214\\disturbHoriz3_3_0.750\\disturbHoriz3_3_0.750_vstill_HOh3_l2w1o1_I_SO11_S_3.00_230214_125913_7.png\n",
      "INFO: Exported //cfs2e.nist.gov/642/internal/3D Printing Lab/Shopbot/videos/singleDoubleTriple\\SO\\I_SO11_S_3.00\\I_SO11_S_3.00_230214\\disturbHoriz3_3_0.750\\disturbHoriz3_3_0.750_vstill_HOh3_l2w1o2_I_SO11_S_3.00_230214_125913_7.png\n",
      "INFO: Exported //cfs2e.nist.gov/642/internal/3D Printing Lab/Shopbot/videos/singleDoubleTriple\\SO\\I_SO11_S_3.00\\I_SO11_S_3.00_230214\\disturbHoriz3_3_0.750\\disturbHoriz3_3_0.750_vstill_HOh3_l2w2_I_SO11_S_3.00_230214_125913_7.png\n",
      "INFO: Exported //cfs2e.nist.gov/642/internal/3D Printing Lab/Shopbot/videos/singleDoubleTriple\\SO\\I_SO11_S_3.00\\I_SO11_S_3.00_230214\\disturbHoriz3_3_0.750\\disturbHoriz3_3_0.750_vstill_HOh3_l2w2o1_I_SO11_S_3.00_230214_125913_7.png\n",
      "INFO: Exported //cfs2e.nist.gov/642/internal/3D Printing Lab/Shopbot/videos/singleDoubleTriple\\SO\\I_SO11_S_3.00\\I_SO11_S_3.00_230214\\disturbHoriz3_3_0.750\\disturbHoriz3_3_0.750_vstill_HOh3_l2w2o2_I_SO11_S_3.00_230214_125913_7.png\n",
      "INFO: Exported //cfs2e.nist.gov/642/internal/3D Printing Lab/Shopbot/videos/singleDoubleTriple\\SO\\I_SO11_S_3.00\\I_SO11_S_3.00_230214\\disturbHoriz3_3_0.750\\disturbHoriz3_3_0.750_vstill_HOh3_l2w3_I_SO11_S_3.00_230214_125913_7.png\n",
      "INFO: Exported //cfs2e.nist.gov/642/internal/3D Printing Lab/Shopbot/videos/singleDoubleTriple\\SO\\I_SO11_S_3.00\\I_SO11_S_3.00_230214\\disturbHoriz3_3_0.750\\disturbHoriz3_3_0.750_vstill_HOh3_l2w3o1_I_SO11_S_3.00_230214_125913_7.png\n",
      "INFO: Exported //cfs2e.nist.gov/642/internal/3D Printing Lab/Shopbot/videos/singleDoubleTriple\\SO\\I_SO11_S_3.00\\I_SO11_S_3.00_230214\\disturbHoriz3_3_0.750\\disturbHoriz3_3_0.750_vstill_HOh3_l2w3o2_I_SO11_S_3.00_230214_125913_7.png\n",
      "INFO: Exported //cfs2e.nist.gov/642/internal/3D Printing Lab/Shopbot/videos/singleDoubleTriple\\SO\\I_SO11_S_3.00\\I_SO11_S_3.00_230214\\disturbHoriz3_3_0.750\\disturbHoriz3_3_0.750_vstill_HOh3_l3w1_I_SO11_S_3.00_230214_125913_7.png\n",
      "INFO: Exported //cfs2e.nist.gov/642/internal/3D Printing Lab/Shopbot/videos/singleDoubleTriple\\SO\\I_SO11_S_3.00\\I_SO11_S_3.00_230214\\disturbHoriz3_3_0.750\\disturbHoriz3_3_0.750_vstill_HOh3_l3w1o1_I_SO11_S_3.00_230214_125913_7.png\n",
      "INFO: Exported //cfs2e.nist.gov/642/internal/3D Printing Lab/Shopbot/videos/singleDoubleTriple\\SO\\I_SO11_S_3.00\\I_SO11_S_3.00_230214\\disturbHoriz3_3_0.750\\disturbHoriz3_3_0.750_vstill_HOh3_l3w1o2_I_SO11_S_3.00_230214_125913_7.png\n",
      "INFO: Exported //cfs2e.nist.gov/642/internal/3D Printing Lab/Shopbot/videos/singleDoubleTriple\\SO\\I_SO11_S_3.00\\I_SO11_S_3.00_230214\\disturbHoriz3_3_0.750\\disturbHoriz3_3_0.750_vstill_HOh3_l3w2_I_SO11_S_3.00_230214_125913_7.png\n",
      "INFO: Exported //cfs2e.nist.gov/642/internal/3D Printing Lab/Shopbot/videos/singleDoubleTriple\\SO\\I_SO11_S_3.00\\I_SO11_S_3.00_230214\\disturbHoriz3_3_0.750\\disturbHoriz3_3_0.750_vstill_HOh3_l3w2o1_I_SO11_S_3.00_230214_125913_7.png\n",
      "INFO: Exported //cfs2e.nist.gov/642/internal/3D Printing Lab/Shopbot/videos/singleDoubleTriple\\SO\\I_SO11_S_3.00\\I_SO11_S_3.00_230214\\disturbHoriz3_3_0.750\\disturbHoriz3_3_0.750_vstill_HOh3_l3w2o2_I_SO11_S_3.00_230214_125913_7.png\n",
      "INFO: Exported //cfs2e.nist.gov/642/internal/3D Printing Lab/Shopbot/videos/singleDoubleTriple\\SO\\I_SO11_S_3.00\\I_SO11_S_3.00_230214\\disturbHoriz3_3_0.750\\disturbHoriz3_3_0.750_vstill_HOh3_l3w3_I_SO11_S_3.00_230214_125913_7.png\n",
      "INFO: Exported //cfs2e.nist.gov/642/internal/3D Printing Lab/Shopbot/videos/singleDoubleTriple\\SO\\I_SO11_S_3.00\\I_SO11_S_3.00_230214\\disturbHoriz3_3_0.750\\disturbHoriz3_3_0.750_vstill_HOh3_l3w3o1_I_SO11_S_3.00_230214_125913_7.png\n",
      "INFO: Exported //cfs2e.nist.gov/642/internal/3D Printing Lab/Shopbot/videos/singleDoubleTriple\\SO\\I_SO11_S_3.00\\I_SO11_S_3.00_230214\\disturbHoriz3_3_0.750\\disturbHoriz3_3_0.750_vstill_HOh3_l3w3o2_I_SO11_S_3.00_230214_125913_7.png\n",
      "INFO: Exported //cfs2e.nist.gov/642/internal/3D Printing Lab/Shopbot/videos/singleDoubleTriple\\SO\\I_SO11_S_3.00\\I_SO11_S_3.00_230214\\disturbHoriz3_3_0.875\\disturbHoriz3_3_0.875_vidStats_I_SO11_S_3.00_230214_130103_9.csv\n",
      "INFO: Exported //cfs2e.nist.gov/642/internal/3D Printing Lab/Shopbot/videos/singleDoubleTriple\\SO\\I_SO11_S_3.00\\I_SO11_S_3.00_230214\\disturbHoriz3_3_0.875\\disturbHoriz3_3_0.875_vstill_HOh3_l0w1_I_SO11_S_3.00_230214_130103_9.png\n",
      "INFO: Exported //cfs2e.nist.gov/642/internal/3D Printing Lab/Shopbot/videos/singleDoubleTriple\\SO\\I_SO11_S_3.00\\I_SO11_S_3.00_230214\\disturbHoriz3_3_0.875\\disturbHoriz3_3_0.875_vstill_HOh3_l0w1o1_I_SO11_S_3.00_230214_130103_9.png\n",
      "INFO: Exported //cfs2e.nist.gov/642/internal/3D Printing Lab/Shopbot/videos/singleDoubleTriple\\SO\\I_SO11_S_3.00\\I_SO11_S_3.00_230214\\disturbHoriz3_3_0.875\\disturbHoriz3_3_0.875_vstill_HOh3_l0w1o2_I_SO11_S_3.00_230214_130103_9.png\n",
      "INFO: Exported //cfs2e.nist.gov/642/internal/3D Printing Lab/Shopbot/videos/singleDoubleTriple\\SO\\I_SO11_S_3.00\\I_SO11_S_3.00_230214\\disturbHoriz3_3_0.875\\disturbHoriz3_3_0.875_vstill_HOh3_l0w2_I_SO11_S_3.00_230214_130103_9.png\n",
      "INFO: Exported //cfs2e.nist.gov/642/internal/3D Printing Lab/Shopbot/videos/singleDoubleTriple\\SO\\I_SO11_S_3.00\\I_SO11_S_3.00_230214\\disturbHoriz3_3_0.875\\disturbHoriz3_3_0.875_vstill_HOh3_l0w2o1_I_SO11_S_3.00_230214_130103_9.png\n",
      "INFO: Exported //cfs2e.nist.gov/642/internal/3D Printing Lab/Shopbot/videos/singleDoubleTriple\\SO\\I_SO11_S_3.00\\I_SO11_S_3.00_230214\\disturbHoriz3_3_0.875\\disturbHoriz3_3_0.875_vstill_HOh3_l0w2o2_I_SO11_S_3.00_230214_130103_9.png\n",
      "INFO: Exported //cfs2e.nist.gov/642/internal/3D Printing Lab/Shopbot/videos/singleDoubleTriple\\SO\\I_SO11_S_3.00\\I_SO11_S_3.00_230214\\disturbHoriz3_3_0.875\\disturbHoriz3_3_0.875_vstill_HOh3_l0w3_I_SO11_S_3.00_230214_130103_9.png\n",
      "INFO: Exported //cfs2e.nist.gov/642/internal/3D Printing Lab/Shopbot/videos/singleDoubleTriple\\SO\\I_SO11_S_3.00\\I_SO11_S_3.00_230214\\disturbHoriz3_3_0.875\\disturbHoriz3_3_0.875_vstill_HOh3_l0w3o1_I_SO11_S_3.00_230214_130103_9.png\n",
      "INFO: Exported //cfs2e.nist.gov/642/internal/3D Printing Lab/Shopbot/videos/singleDoubleTriple\\SO\\I_SO11_S_3.00\\I_SO11_S_3.00_230214\\disturbHoriz3_3_0.875\\disturbHoriz3_3_0.875_vstill_HOh3_l0w3o2_I_SO11_S_3.00_230214_130103_9.png\n",
      "INFO: Exported //cfs2e.nist.gov/642/internal/3D Printing Lab/Shopbot/videos/singleDoubleTriple\\SO\\I_SO11_S_3.00\\I_SO11_S_3.00_230214\\disturbHoriz3_3_0.875\\disturbHoriz3_3_0.875_vstill_HOh3_l1w1_I_SO11_S_3.00_230214_130103_9.png\n",
      "INFO: Exported //cfs2e.nist.gov/642/internal/3D Printing Lab/Shopbot/videos/singleDoubleTriple\\SO\\I_SO11_S_3.00\\I_SO11_S_3.00_230214\\disturbHoriz3_3_0.875\\disturbHoriz3_3_0.875_vstill_HOh3_l1w1o1_I_SO11_S_3.00_230214_130103_9.png\n",
      "INFO: Exported //cfs2e.nist.gov/642/internal/3D Printing Lab/Shopbot/videos/singleDoubleTriple\\SO\\I_SO11_S_3.00\\I_SO11_S_3.00_230214\\disturbHoriz3_3_0.875\\disturbHoriz3_3_0.875_vstill_HOh3_l1w1o2_I_SO11_S_3.00_230214_130103_9.png\n",
      "INFO: Exported //cfs2e.nist.gov/642/internal/3D Printing Lab/Shopbot/videos/singleDoubleTriple\\SO\\I_SO11_S_3.00\\I_SO11_S_3.00_230214\\disturbHoriz3_3_0.875\\disturbHoriz3_3_0.875_vstill_HOh3_l1w2_I_SO11_S_3.00_230214_130103_9.png\n",
      "INFO: Exported //cfs2e.nist.gov/642/internal/3D Printing Lab/Shopbot/videos/singleDoubleTriple\\SO\\I_SO11_S_3.00\\I_SO11_S_3.00_230214\\disturbHoriz3_3_0.875\\disturbHoriz3_3_0.875_vstill_HOh3_l1w2o1_I_SO11_S_3.00_230214_130103_9.png\n",
      "INFO: Exported //cfs2e.nist.gov/642/internal/3D Printing Lab/Shopbot/videos/singleDoubleTriple\\SO\\I_SO11_S_3.00\\I_SO11_S_3.00_230214\\disturbHoriz3_3_0.875\\disturbHoriz3_3_0.875_vstill_HOh3_l1w2o2_I_SO11_S_3.00_230214_130103_9.png\n",
      "INFO: Exported //cfs2e.nist.gov/642/internal/3D Printing Lab/Shopbot/videos/singleDoubleTriple\\SO\\I_SO11_S_3.00\\I_SO11_S_3.00_230214\\disturbHoriz3_3_0.875\\disturbHoriz3_3_0.875_vstill_HOh3_l1w3_I_SO11_S_3.00_230214_130103_9.png\n",
      "INFO: Exported //cfs2e.nist.gov/642/internal/3D Printing Lab/Shopbot/videos/singleDoubleTriple\\SO\\I_SO11_S_3.00\\I_SO11_S_3.00_230214\\disturbHoriz3_3_0.875\\disturbHoriz3_3_0.875_vstill_HOh3_l1w3o1_I_SO11_S_3.00_230214_130103_9.png\n",
      "INFO: Exported //cfs2e.nist.gov/642/internal/3D Printing Lab/Shopbot/videos/singleDoubleTriple\\SO\\I_SO11_S_3.00\\I_SO11_S_3.00_230214\\disturbHoriz3_3_0.875\\disturbHoriz3_3_0.875_vstill_HOh3_l1w3o2_I_SO11_S_3.00_230214_130103_9.png\n",
      "INFO: Exported //cfs2e.nist.gov/642/internal/3D Printing Lab/Shopbot/videos/singleDoubleTriple\\SO\\I_SO11_S_3.00\\I_SO11_S_3.00_230214\\disturbHoriz3_3_0.875\\disturbHoriz3_3_0.875_vstill_HOh3_l2w1_I_SO11_S_3.00_230214_130103_9.png\n",
      "INFO: Exported //cfs2e.nist.gov/642/internal/3D Printing Lab/Shopbot/videos/singleDoubleTriple\\SO\\I_SO11_S_3.00\\I_SO11_S_3.00_230214\\disturbHoriz3_3_0.875\\disturbHoriz3_3_0.875_vstill_HOh3_l2w1o1_I_SO11_S_3.00_230214_130103_9.png\n",
      "INFO: Exported //cfs2e.nist.gov/642/internal/3D Printing Lab/Shopbot/videos/singleDoubleTriple\\SO\\I_SO11_S_3.00\\I_SO11_S_3.00_230214\\disturbHoriz3_3_0.875\\disturbHoriz3_3_0.875_vstill_HOh3_l2w1o2_I_SO11_S_3.00_230214_130103_9.png\n",
      "INFO: Exported //cfs2e.nist.gov/642/internal/3D Printing Lab/Shopbot/videos/singleDoubleTriple\\SO\\I_SO11_S_3.00\\I_SO11_S_3.00_230214\\disturbHoriz3_3_0.875\\disturbHoriz3_3_0.875_vstill_HOh3_l2w2_I_SO11_S_3.00_230214_130103_9.png\n",
      "INFO: Exported //cfs2e.nist.gov/642/internal/3D Printing Lab/Shopbot/videos/singleDoubleTriple\\SO\\I_SO11_S_3.00\\I_SO11_S_3.00_230214\\disturbHoriz3_3_0.875\\disturbHoriz3_3_0.875_vstill_HOh3_l2w2o1_I_SO11_S_3.00_230214_130103_9.png\n",
      "INFO: Exported //cfs2e.nist.gov/642/internal/3D Printing Lab/Shopbot/videos/singleDoubleTriple\\SO\\I_SO11_S_3.00\\I_SO11_S_3.00_230214\\disturbHoriz3_3_0.875\\disturbHoriz3_3_0.875_vstill_HOh3_l2w2o2_I_SO11_S_3.00_230214_130103_9.png\n",
      "INFO: Exported //cfs2e.nist.gov/642/internal/3D Printing Lab/Shopbot/videos/singleDoubleTriple\\SO\\I_SO11_S_3.00\\I_SO11_S_3.00_230214\\disturbHoriz3_3_0.875\\disturbHoriz3_3_0.875_vstill_HOh3_l2w3_I_SO11_S_3.00_230214_130103_9.png\n",
      "INFO: Exported //cfs2e.nist.gov/642/internal/3D Printing Lab/Shopbot/videos/singleDoubleTriple\\SO\\I_SO11_S_3.00\\I_SO11_S_3.00_230214\\disturbHoriz3_3_0.875\\disturbHoriz3_3_0.875_vstill_HOh3_l2w3o1_I_SO11_S_3.00_230214_130103_9.png\n",
      "INFO: Exported //cfs2e.nist.gov/642/internal/3D Printing Lab/Shopbot/videos/singleDoubleTriple\\SO\\I_SO11_S_3.00\\I_SO11_S_3.00_230214\\disturbHoriz3_3_0.875\\disturbHoriz3_3_0.875_vstill_HOh3_l2w3o2_I_SO11_S_3.00_230214_130103_9.png\n",
      "INFO: Exported //cfs2e.nist.gov/642/internal/3D Printing Lab/Shopbot/videos/singleDoubleTriple\\SO\\I_SO11_S_3.00\\I_SO11_S_3.00_230214\\disturbHoriz3_3_0.875\\disturbHoriz3_3_0.875_vstill_HOh3_l3w1_I_SO11_S_3.00_230214_130103_9.png\n",
      "INFO: Exported //cfs2e.nist.gov/642/internal/3D Printing Lab/Shopbot/videos/singleDoubleTriple\\SO\\I_SO11_S_3.00\\I_SO11_S_3.00_230214\\disturbHoriz3_3_0.875\\disturbHoriz3_3_0.875_vstill_HOh3_l3w1o1_I_SO11_S_3.00_230214_130103_9.png\n",
      "INFO: Exported //cfs2e.nist.gov/642/internal/3D Printing Lab/Shopbot/videos/singleDoubleTriple\\SO\\I_SO11_S_3.00\\I_SO11_S_3.00_230214\\disturbHoriz3_3_0.875\\disturbHoriz3_3_0.875_vstill_HOh3_l3w1o2_I_SO11_S_3.00_230214_130103_9.png\n",
      "INFO: Exported //cfs2e.nist.gov/642/internal/3D Printing Lab/Shopbot/videos/singleDoubleTriple\\SO\\I_SO11_S_3.00\\I_SO11_S_3.00_230214\\disturbHoriz3_3_0.875\\disturbHoriz3_3_0.875_vstill_HOh3_l3w2_I_SO11_S_3.00_230214_130103_9.png\n",
      "INFO: Exported //cfs2e.nist.gov/642/internal/3D Printing Lab/Shopbot/videos/singleDoubleTriple\\SO\\I_SO11_S_3.00\\I_SO11_S_3.00_230214\\disturbHoriz3_3_0.875\\disturbHoriz3_3_0.875_vstill_HOh3_l3w2o1_I_SO11_S_3.00_230214_130103_9.png\n",
      "INFO: Exported //cfs2e.nist.gov/642/internal/3D Printing Lab/Shopbot/videos/singleDoubleTriple\\SO\\I_SO11_S_3.00\\I_SO11_S_3.00_230214\\disturbHoriz3_3_0.875\\disturbHoriz3_3_0.875_vstill_HOh3_l3w2o2_I_SO11_S_3.00_230214_130103_9.png\n",
      "INFO: Exported //cfs2e.nist.gov/642/internal/3D Printing Lab/Shopbot/videos/singleDoubleTriple\\SO\\I_SO11_S_3.00\\I_SO11_S_3.00_230214\\disturbHoriz3_3_0.875\\disturbHoriz3_3_0.875_vstill_HOh3_l3w3_I_SO11_S_3.00_230214_130103_9.png\n",
      "INFO: Exported //cfs2e.nist.gov/642/internal/3D Printing Lab/Shopbot/videos/singleDoubleTriple\\SO\\I_SO11_S_3.00\\I_SO11_S_3.00_230214\\disturbHoriz3_3_0.875\\disturbHoriz3_3_0.875_vstill_HOh3_l3w3o1_I_SO11_S_3.00_230214_130103_9.png\n",
      "INFO: Exported //cfs2e.nist.gov/642/internal/3D Printing Lab/Shopbot/videos/singleDoubleTriple\\SO\\I_SO11_S_3.00\\I_SO11_S_3.00_230214\\disturbHoriz3_3_0.875\\disturbHoriz3_3_0.875_vstill_HOh3_l3w3o2_I_SO11_S_3.00_230214_130103_9.png\n",
      "INFO: Exported //cfs2e.nist.gov/642/internal/3D Printing Lab/Shopbot/videos/singleDoubleTriple\\SO\\I_SO11_S_3.50\\I_SO11_S_3.50_230214\\disturbHoriz3_1_0.625\\disturbHoriz3_1_0.625_vidStats_I_SO11_S_3.50_230214_135856_1.csv\n",
      "INFO: Exported //cfs2e.nist.gov/642/internal/3D Printing Lab/Shopbot/videos/singleDoubleTriple\\SO\\I_SO11_S_3.50\\I_SO11_S_3.50_230214\\disturbHoriz3_1_0.625\\disturbHoriz3_1_0.625_vstill_HOh1_l0w_I_SO11_S_3.50_230214_135856_1.png\n",
      "INFO: Exported //cfs2e.nist.gov/642/internal/3D Printing Lab/Shopbot/videos/singleDoubleTriple\\SO\\I_SO11_S_3.50\\I_SO11_S_3.50_230214\\disturbHoriz3_1_0.625\\disturbHoriz3_1_0.625_vstill_HOh1_l0wo1_I_SO11_S_3.50_230214_135856_1.png\n",
      "INFO: Exported //cfs2e.nist.gov/642/internal/3D Printing Lab/Shopbot/videos/singleDoubleTriple\\SO\\I_SO11_S_3.50\\I_SO11_S_3.50_230214\\disturbHoriz3_1_0.625\\disturbHoriz3_1_0.625_vstill_HOh1_l0wo2_I_SO11_S_3.50_230214_135856_1.png\n",
      "INFO: Exported //cfs2e.nist.gov/642/internal/3D Printing Lab/Shopbot/videos/singleDoubleTriple\\SO\\I_SO11_S_3.50\\I_SO11_S_3.50_230214\\disturbHoriz3_1_0.625\\disturbHoriz3_1_0.625_vstill_HOh1_l0d_I_SO11_S_3.50_230214_135856_1.png\n",
      "INFO: Exported //cfs2e.nist.gov/642/internal/3D Printing Lab/Shopbot/videos/singleDoubleTriple\\SO\\I_SO11_S_3.50\\I_SO11_S_3.50_230214\\disturbHoriz3_1_0.625\\disturbHoriz3_1_0.625_vstill_HOh1_l0do1_I_SO11_S_3.50_230214_135856_1.png\n",
      "INFO: Exported //cfs2e.nist.gov/642/internal/3D Printing Lab/Shopbot/videos/singleDoubleTriple\\SO\\I_SO11_S_3.50\\I_SO11_S_3.50_230214\\disturbHoriz3_1_0.625\\disturbHoriz3_1_0.625_vstill_HOh1_l0do2_I_SO11_S_3.50_230214_135856_1.png\n",
      "INFO: Exported //cfs2e.nist.gov/642/internal/3D Printing Lab/Shopbot/videos/singleDoubleTriple\\SO\\I_SO11_S_3.50\\I_SO11_S_3.50_230214\\disturbHoriz3_1_0.625\\disturbHoriz3_1_0.625_vstill_HOh1_l1w_I_SO11_S_3.50_230214_135856_1.png\n",
      "INFO: Exported //cfs2e.nist.gov/642/internal/3D Printing Lab/Shopbot/videos/singleDoubleTriple\\SO\\I_SO11_S_3.50\\I_SO11_S_3.50_230214\\disturbHoriz3_1_0.625\\disturbHoriz3_1_0.625_vstill_HOh1_l1wo1_I_SO11_S_3.50_230214_135856_1.png\n",
      "INFO: Exported //cfs2e.nist.gov/642/internal/3D Printing Lab/Shopbot/videos/singleDoubleTriple\\SO\\I_SO11_S_3.50\\I_SO11_S_3.50_230214\\disturbHoriz3_1_0.625\\disturbHoriz3_1_0.625_vstill_HOh1_l1wo2_I_SO11_S_3.50_230214_135856_1.png\n",
      "INFO: Exported //cfs2e.nist.gov/642/internal/3D Printing Lab/Shopbot/videos/singleDoubleTriple\\SO\\I_SO11_S_3.50\\I_SO11_S_3.50_230214\\disturbHoriz3_1_0.625\\disturbHoriz3_1_0.625_vstill_HOh1_l1d_I_SO11_S_3.50_230214_135856_1.png\n",
      "INFO: Exported //cfs2e.nist.gov/642/internal/3D Printing Lab/Shopbot/videos/singleDoubleTriple\\SO\\I_SO11_S_3.50\\I_SO11_S_3.50_230214\\disturbHoriz3_1_0.625\\disturbHoriz3_1_0.625_vstill_HOh1_l1do1_I_SO11_S_3.50_230214_135856_1.png\n",
      "INFO: Exported //cfs2e.nist.gov/642/internal/3D Printing Lab/Shopbot/videos/singleDoubleTriple\\SO\\I_SO11_S_3.50\\I_SO11_S_3.50_230214\\disturbHoriz3_1_0.625\\disturbHoriz3_1_0.625_vstill_HOh1_l1do2_I_SO11_S_3.50_230214_135856_1.png\n",
      "INFO: Exported //cfs2e.nist.gov/642/internal/3D Printing Lab/Shopbot/videos/singleDoubleTriple\\SO\\I_SO11_S_3.50\\I_SO11_S_3.50_230214\\disturbHoriz3_1_0.625\\disturbHoriz3_1_0.625_vstill_HOh1_l2w_I_SO11_S_3.50_230214_135856_1.png\n",
      "INFO: Exported //cfs2e.nist.gov/642/internal/3D Printing Lab/Shopbot/videos/singleDoubleTriple\\SO\\I_SO11_S_3.50\\I_SO11_S_3.50_230214\\disturbHoriz3_1_0.625\\disturbHoriz3_1_0.625_vstill_HOh1_l2wo1_I_SO11_S_3.50_230214_135856_1.png\n",
      "INFO: Exported //cfs2e.nist.gov/642/internal/3D Printing Lab/Shopbot/videos/singleDoubleTriple\\SO\\I_SO11_S_3.50\\I_SO11_S_3.50_230214\\disturbHoriz3_1_0.625\\disturbHoriz3_1_0.625_vstill_HOh1_l2wo2_I_SO11_S_3.50_230214_135856_1.png\n",
      "INFO: Exported //cfs2e.nist.gov/642/internal/3D Printing Lab/Shopbot/videos/singleDoubleTriple\\SO\\I_SO11_S_3.50\\I_SO11_S_3.50_230214\\disturbHoriz3_1_0.625\\disturbHoriz3_1_0.625_vstill_HOh1_l2d_I_SO11_S_3.50_230214_135856_1.png\n",
      "INFO: Exported //cfs2e.nist.gov/642/internal/3D Printing Lab/Shopbot/videos/singleDoubleTriple\\SO\\I_SO11_S_3.50\\I_SO11_S_3.50_230214\\disturbHoriz3_1_0.625\\disturbHoriz3_1_0.625_vstill_HOh1_l2do1_I_SO11_S_3.50_230214_135856_1.png\n",
      "INFO: Exported //cfs2e.nist.gov/642/internal/3D Printing Lab/Shopbot/videos/singleDoubleTriple\\SO\\I_SO11_S_3.50\\I_SO11_S_3.50_230214\\disturbHoriz3_1_0.625\\disturbHoriz3_1_0.625_vstill_HOh1_l2do2_I_SO11_S_3.50_230214_135856_1.png\n",
      "INFO: Exported //cfs2e.nist.gov/642/internal/3D Printing Lab/Shopbot/videos/singleDoubleTriple\\SO\\I_SO11_S_3.50\\I_SO11_S_3.50_230214\\disturbHoriz3_1_0.625\\disturbHoriz3_1_0.625_vstill_HOh1_l3w_I_SO11_S_3.50_230214_135856_1.png\n",
      "INFO: Exported //cfs2e.nist.gov/642/internal/3D Printing Lab/Shopbot/videos/singleDoubleTriple\\SO\\I_SO11_S_3.50\\I_SO11_S_3.50_230214\\disturbHoriz3_1_0.625\\disturbHoriz3_1_0.625_vstill_HOh1_l3wo1_I_SO11_S_3.50_230214_135856_1.png\n",
      "INFO: Exported //cfs2e.nist.gov/642/internal/3D Printing Lab/Shopbot/videos/singleDoubleTriple\\SO\\I_SO11_S_3.50\\I_SO11_S_3.50_230214\\disturbHoriz3_1_0.625\\disturbHoriz3_1_0.625_vstill_HOh1_l3wo2_I_SO11_S_3.50_230214_135856_1.png\n",
      "INFO: Exported //cfs2e.nist.gov/642/internal/3D Printing Lab/Shopbot/videos/singleDoubleTriple\\SO\\I_SO11_S_3.50\\I_SO11_S_3.50_230214\\disturbHoriz3_1_0.625\\disturbHoriz3_1_0.625_vstill_HOh1_l3d_I_SO11_S_3.50_230214_135856_1.png\n",
      "INFO: Exported //cfs2e.nist.gov/642/internal/3D Printing Lab/Shopbot/videos/singleDoubleTriple\\SO\\I_SO11_S_3.50\\I_SO11_S_3.50_230214\\disturbHoriz3_1_0.625\\disturbHoriz3_1_0.625_vstill_HOh1_l3do1_I_SO11_S_3.50_230214_135856_1.png\n",
      "INFO: Exported //cfs2e.nist.gov/642/internal/3D Printing Lab/Shopbot/videos/singleDoubleTriple\\SO\\I_SO11_S_3.50\\I_SO11_S_3.50_230214\\disturbHoriz3_1_0.625\\disturbHoriz3_1_0.625_vstill_HOh1_l3do2_I_SO11_S_3.50_230214_135856_1.png\n",
      "INFO: Exported //cfs2e.nist.gov/642/internal/3D Printing Lab/Shopbot/videos/singleDoubleTriple\\SO\\I_SO11_S_3.50\\I_SO11_S_3.50_230214\\disturbXS2_3_+y_0.625\\disturbXS2_3_+y_0.625_vidStats_I_SO11_S_3.50_230214_155919_8.csv\n",
      "INFO: Exported //cfs2e.nist.gov/642/internal/3D Printing Lab/Shopbot/videos/singleDoubleTriple\\SO\\I_SO11_S_3.50\\I_SO11_S_3.50_230214\\disturbXS2_3_+y_0.625\\disturbXS2_3_+y_0.625_vstill_HIx3_l0w1_I_SO11_S_3.50_230214_155919_8.png\n",
      "INFO: Exported //cfs2e.nist.gov/642/internal/3D Printing Lab/Shopbot/videos/singleDoubleTriple\\SO\\I_SO11_S_3.50\\I_SO11_S_3.50_230214\\disturbXS2_3_+y_0.625\\disturbXS2_3_+y_0.625_vstill_HIx3_l0w1o1_I_SO11_S_3.50_230214_155919_8.png\n",
      "INFO: Exported //cfs2e.nist.gov/642/internal/3D Printing Lab/Shopbot/videos/singleDoubleTriple\\SO\\I_SO11_S_3.50\\I_SO11_S_3.50_230214\\disturbXS2_3_+y_0.625\\disturbXS2_3_+y_0.625_vstill_HIx3_l0w1o2_I_SO11_S_3.50_230214_155919_8.png\n",
      "INFO: Exported //cfs2e.nist.gov/642/internal/3D Printing Lab/Shopbot/videos/singleDoubleTriple\\SO\\I_SO11_S_3.50\\I_SO11_S_3.50_230214\\disturbXS2_3_+y_0.625\\disturbXS2_3_+y_0.625_vstill_HIx3_l0w2_I_SO11_S_3.50_230214_155919_8.png\n",
      "INFO: Exported //cfs2e.nist.gov/642/internal/3D Printing Lab/Shopbot/videos/singleDoubleTriple\\SO\\I_SO11_S_3.50\\I_SO11_S_3.50_230214\\disturbXS2_3_+y_0.625\\disturbXS2_3_+y_0.625_vstill_HIx3_l0w2o1_I_SO11_S_3.50_230214_155919_8.png\n",
      "INFO: Exported //cfs2e.nist.gov/642/internal/3D Printing Lab/Shopbot/videos/singleDoubleTriple\\SO\\I_SO11_S_3.50\\I_SO11_S_3.50_230214\\disturbXS2_3_+y_0.625\\disturbXS2_3_+y_0.625_vstill_HIx3_l0w2o2_I_SO11_S_3.50_230214_155919_8.png\n",
      "INFO: Exported //cfs2e.nist.gov/642/internal/3D Printing Lab/Shopbot/videos/singleDoubleTriple\\SO\\I_SO11_S_3.50\\I_SO11_S_3.50_230214\\disturbXS2_3_+y_0.625\\disturbXS2_3_+y_0.625_vstill_HIx3_l0w3_I_SO11_S_3.50_230214_155919_8.png\n",
      "INFO: Exported //cfs2e.nist.gov/642/internal/3D Printing Lab/Shopbot/videos/singleDoubleTriple\\SO\\I_SO11_S_3.50\\I_SO11_S_3.50_230214\\disturbXS2_3_+y_0.625\\disturbXS2_3_+y_0.625_vstill_HIx3_l0w3o1_I_SO11_S_3.50_230214_155919_8.png\n",
      "INFO: Exported //cfs2e.nist.gov/642/internal/3D Printing Lab/Shopbot/videos/singleDoubleTriple\\SO\\I_SO11_S_3.50\\I_SO11_S_3.50_230214\\disturbXS2_3_+y_0.625\\disturbXS2_3_+y_0.625_vstill_HIx3_l0w3o2_I_SO11_S_3.50_230214_155919_8.png\n",
      "INFO: Exported //cfs2e.nist.gov/642/internal/3D Printing Lab/Shopbot/videos/singleDoubleTriple\\SO\\I_SO11_S_3.50\\I_SO11_S_3.50_230214\\disturbXS2_3_+y_0.625\\disturbXS2_3_+y_0.625_vstill_HIx3_l1w1_I_SO11_S_3.50_230214_155919_8.png\n",
      "INFO: Exported //cfs2e.nist.gov/642/internal/3D Printing Lab/Shopbot/videos/singleDoubleTriple\\SO\\I_SO11_S_3.50\\I_SO11_S_3.50_230214\\disturbXS2_3_+y_0.625\\disturbXS2_3_+y_0.625_vstill_HIx3_l1w1o1_I_SO11_S_3.50_230214_155919_8.png\n",
      "INFO: Exported //cfs2e.nist.gov/642/internal/3D Printing Lab/Shopbot/videos/singleDoubleTriple\\SO\\I_SO11_S_3.50\\I_SO11_S_3.50_230214\\disturbXS2_3_+y_0.625\\disturbXS2_3_+y_0.625_vstill_HIx3_l1w1o2_I_SO11_S_3.50_230214_155919_8.png\n",
      "INFO: Exported //cfs2e.nist.gov/642/internal/3D Printing Lab/Shopbot/videos/singleDoubleTriple\\SO\\I_SO11_S_3.50\\I_SO11_S_3.50_230214\\disturbXS2_3_+y_0.625\\disturbXS2_3_+y_0.625_vstill_HIx3_l1w2_I_SO11_S_3.50_230214_155919_8.png\n",
      "INFO: Exported //cfs2e.nist.gov/642/internal/3D Printing Lab/Shopbot/videos/singleDoubleTriple\\SO\\I_SO11_S_3.50\\I_SO11_S_3.50_230214\\disturbXS2_3_+y_0.625\\disturbXS2_3_+y_0.625_vstill_HIx3_l1w2o1_I_SO11_S_3.50_230214_155919_8.png\n",
      "INFO: Exported //cfs2e.nist.gov/642/internal/3D Printing Lab/Shopbot/videos/singleDoubleTriple\\SO\\I_SO11_S_3.50\\I_SO11_S_3.50_230214\\disturbXS2_3_+y_0.625\\disturbXS2_3_+y_0.625_vstill_HIx3_l1w2o2_I_SO11_S_3.50_230214_155919_8.png\n",
      "INFO: Exported //cfs2e.nist.gov/642/internal/3D Printing Lab/Shopbot/videos/singleDoubleTriple\\SO\\I_SO11_S_3.50\\I_SO11_S_3.50_230214\\disturbXS2_3_+y_0.625\\disturbXS2_3_+y_0.625_vstill_HIx3_l1w3_I_SO11_S_3.50_230214_155919_8.png\n",
      "INFO: Exported //cfs2e.nist.gov/642/internal/3D Printing Lab/Shopbot/videos/singleDoubleTriple\\SO\\I_SO11_S_3.50\\I_SO11_S_3.50_230214\\disturbXS2_3_+y_0.625\\disturbXS2_3_+y_0.625_vstill_HIx3_l1w3o1_I_SO11_S_3.50_230214_155919_8.png\n",
      "INFO: Exported //cfs2e.nist.gov/642/internal/3D Printing Lab/Shopbot/videos/singleDoubleTriple\\SO\\I_SO11_S_3.50\\I_SO11_S_3.50_230214\\disturbXS2_3_+y_0.625\\disturbXS2_3_+y_0.625_vstill_HIx3_l1w3o2_I_SO11_S_3.50_230214_155919_8.png\n",
      "INFO: Exported //cfs2e.nist.gov/642/internal/3D Printing Lab/Shopbot/videos/singleDoubleTriple\\SO\\I_SO11_S_3.50\\I_SO11_S_3.50_230214\\disturbXS2_3_+y_0.625\\disturbXS2_3_+y_0.625_vstill_HIx3_l2w1_I_SO11_S_3.50_230214_155919_8.png\n",
      "INFO: Exported //cfs2e.nist.gov/642/internal/3D Printing Lab/Shopbot/videos/singleDoubleTriple\\SO\\I_SO11_S_3.50\\I_SO11_S_3.50_230214\\disturbXS2_3_+y_0.625\\disturbXS2_3_+y_0.625_vstill_HIx3_l2w1o1_I_SO11_S_3.50_230214_155919_8.png\n",
      "INFO: Exported //cfs2e.nist.gov/642/internal/3D Printing Lab/Shopbot/videos/singleDoubleTriple\\SO\\I_SO11_S_3.50\\I_SO11_S_3.50_230214\\disturbXS2_3_+y_0.625\\disturbXS2_3_+y_0.625_vstill_HIx3_l2w1o2_I_SO11_S_3.50_230214_155919_8.png\n",
      "INFO: Exported //cfs2e.nist.gov/642/internal/3D Printing Lab/Shopbot/videos/singleDoubleTriple\\SO\\I_SO11_S_3.50\\I_SO11_S_3.50_230214\\disturbXS2_3_+y_0.625\\disturbXS2_3_+y_0.625_vstill_HIx3_l2w2_I_SO11_S_3.50_230214_155919_8.png\n",
      "INFO: Exported //cfs2e.nist.gov/642/internal/3D Printing Lab/Shopbot/videos/singleDoubleTriple\\SO\\I_SO11_S_3.50\\I_SO11_S_3.50_230214\\disturbXS2_3_+y_0.625\\disturbXS2_3_+y_0.625_vstill_HIx3_l2w2o1_I_SO11_S_3.50_230214_155919_8.png\n",
      "INFO: Exported //cfs2e.nist.gov/642/internal/3D Printing Lab/Shopbot/videos/singleDoubleTriple\\SO\\I_SO11_S_3.50\\I_SO11_S_3.50_230214\\disturbXS2_3_+y_0.625\\disturbXS2_3_+y_0.625_vstill_HIx3_l2w2o2_I_SO11_S_3.50_230214_155919_8.png\n",
      "INFO: Exported //cfs2e.nist.gov/642/internal/3D Printing Lab/Shopbot/videos/singleDoubleTriple\\SO\\I_SO11_S_3.50\\I_SO11_S_3.50_230214\\disturbXS2_3_+y_0.625\\disturbXS2_3_+y_0.625_vstill_HIx3_l2w3_I_SO11_S_3.50_230214_155919_8.png\n",
      "INFO: Exported //cfs2e.nist.gov/642/internal/3D Printing Lab/Shopbot/videos/singleDoubleTriple\\SO\\I_SO11_S_3.50\\I_SO11_S_3.50_230214\\disturbXS2_3_+y_0.625\\disturbXS2_3_+y_0.625_vstill_HIx3_l2w3o1_I_SO11_S_3.50_230214_155919_8.png\n",
      "INFO: Exported //cfs2e.nist.gov/642/internal/3D Printing Lab/Shopbot/videos/singleDoubleTriple\\SO\\I_SO11_S_3.50\\I_SO11_S_3.50_230214\\disturbXS2_3_+y_0.625\\disturbXS2_3_+y_0.625_vstill_HIx3_l2w3o2_I_SO11_S_3.50_230214_155919_8.png\n",
      "INFO: Exported //cfs2e.nist.gov/642/internal/3D Printing Lab/Shopbot/videos/singleDoubleTriple\\SO\\I_SO11_S_3.50\\I_SO11_S_3.50_230214\\disturbXS2_3_+y_0.625\\disturbXS2_3_+y_0.625_vstill_HIx3_l3w1_I_SO11_S_3.50_230214_155919_8.png\n",
      "INFO: Exported //cfs2e.nist.gov/642/internal/3D Printing Lab/Shopbot/videos/singleDoubleTriple\\SO\\I_SO11_S_3.50\\I_SO11_S_3.50_230214\\disturbXS2_3_+y_0.625\\disturbXS2_3_+y_0.625_vstill_HIx3_l3w1o1_I_SO11_S_3.50_230214_155919_8.png\n",
      "INFO: Exported //cfs2e.nist.gov/642/internal/3D Printing Lab/Shopbot/videos/singleDoubleTriple\\SO\\I_SO11_S_3.50\\I_SO11_S_3.50_230214\\disturbXS2_3_+y_0.625\\disturbXS2_3_+y_0.625_vstill_HIx3_l3w1o2_I_SO11_S_3.50_230214_155919_8.png\n",
      "INFO: Exported //cfs2e.nist.gov/642/internal/3D Printing Lab/Shopbot/videos/singleDoubleTriple\\SO\\I_SO11_S_3.50\\I_SO11_S_3.50_230214\\disturbXS2_3_+y_0.625\\disturbXS2_3_+y_0.625_vstill_HIx3_l3w2_I_SO11_S_3.50_230214_155919_8.png\n",
      "INFO: Exported //cfs2e.nist.gov/642/internal/3D Printing Lab/Shopbot/videos/singleDoubleTriple\\SO\\I_SO11_S_3.50\\I_SO11_S_3.50_230214\\disturbXS2_3_+y_0.625\\disturbXS2_3_+y_0.625_vstill_HIx3_l3w2o1_I_SO11_S_3.50_230214_155919_8.png\n",
      "INFO: Exported //cfs2e.nist.gov/642/internal/3D Printing Lab/Shopbot/videos/singleDoubleTriple\\SO\\I_SO11_S_3.50\\I_SO11_S_3.50_230214\\disturbXS2_3_+y_0.625\\disturbXS2_3_+y_0.625_vstill_HIx3_l3w2o2_I_SO11_S_3.50_230214_155919_8.png\n",
      "INFO: Exported //cfs2e.nist.gov/642/internal/3D Printing Lab/Shopbot/videos/singleDoubleTriple\\SO\\I_SO11_S_3.50\\I_SO11_S_3.50_230214\\disturbXS2_3_+y_0.625\\disturbXS2_3_+y_0.625_vstill_HIx3_l3w3_I_SO11_S_3.50_230214_155919_8.png\n",
      "INFO: Exported //cfs2e.nist.gov/642/internal/3D Printing Lab/Shopbot/videos/singleDoubleTriple\\SO\\I_SO11_S_3.50\\I_SO11_S_3.50_230214\\disturbXS2_3_+y_0.625\\disturbXS2_3_+y_0.625_vstill_HIx3_l3w3o1_I_SO11_S_3.50_230214_155919_8.png\n",
      "INFO: Exported //cfs2e.nist.gov/642/internal/3D Printing Lab/Shopbot/videos/singleDoubleTriple\\SO\\I_SO11_S_3.50\\I_SO11_S_3.50_230214\\disturbXS2_3_+y_0.625\\disturbXS2_3_+y_0.625_vstill_HIx3_l3w3o2_I_SO11_S_3.50_230214_155919_8.png\n"
     ]
    }
   ],
   "source": [
    "for folder in fh.printFolders(os.path.join(cfg.path.server, 'singleDoubleTriple')):\n",
    "    pfd = fh.printFileDict(folder)\n",
    "    if hasattr(pfd, 'vidStats'):\n",
    "        d,_ = plainImDict(pfd.vidStats)\n",
    "        if not 'dstart' in d or d['dstart']>2:\n",
    "            vt.exportStillsRecursive(folder, overwrite=True, overwriteDims=False)"
   ]
  },
  {
   "cell_type": "code",
   "execution_count": 80,
   "id": "d2e4e0c9",
   "metadata": {},
   "outputs": [
    {
     "data": {
      "text/plain": [
       "({'frames': 2190.0, 'fps': 30.0, 'duration': 73.0, 'dstart': 1.25}, {})"
      ]
     },
     "execution_count": 80,
     "metadata": {},
     "output_type": "execute_result"
    }
   ],
   "source": [
    "d"
   ]
  },
  {
   "cell_type": "code",
   "execution_count": null,
   "id": "fe52d025",
   "metadata": {},
   "outputs": [],
   "source": []
  }
 ],
 "metadata": {
  "kernelspec": {
   "display_name": "Python 3",
   "language": "python",
   "name": "python3"
  },
  "language_info": {
   "codemirror_mode": {
    "name": "ipython",
    "version": 3
   },
   "file_extension": ".py",
   "mimetype": "text/x-python",
   "name": "python",
   "nbconvert_exporter": "python",
   "pygments_lexer": "ipython3",
   "version": "3.8.3"
  }
 },
 "nbformat": 4,
 "nbformat_minor": 5
}
