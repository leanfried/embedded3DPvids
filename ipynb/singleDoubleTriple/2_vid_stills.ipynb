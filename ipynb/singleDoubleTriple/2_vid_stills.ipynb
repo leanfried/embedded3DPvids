{
 "cells": [
  {
   "cell_type": "markdown",
   "id": "f3abcb5b",
   "metadata": {},
   "source": [
    "# Making stills of singleDoubleTriple lines"
   ]
  },
  {
   "cell_type": "markdown",
   "id": "11f935f6",
   "metadata": {},
   "source": [
    "## Initialization"
   ]
  },
  {
   "cell_type": "code",
   "execution_count": 4,
   "id": "efacb63a",
   "metadata": {
    "tags": []
   },
   "outputs": [
    {
     "name": "stdout",
     "output_type": "stream",
     "text": [
      "The autoreload extension is already loaded. To reload it, use:\n",
      "  %reload_ext autoreload\n"
     ]
    }
   ],
   "source": [
    "%load_ext autoreload\n",
    "%autoreload 2\n",
    "LOGGERDEFINED = False"
   ]
  },
  {
   "cell_type": "code",
   "execution_count": 5,
   "id": "662da04e",
   "metadata": {},
   "outputs": [],
   "source": [
    "import os\n",
    "import sys\n",
    "import numpy as np\n",
    "import matplotlib.pyplot as plt\n",
    "module_path = os.path.abspath(os.path.join('..'))\n",
    "sys.path.append(module_path)\n",
    "sys.path.append(os.path.dirname(module_path))\n",
    "from py.tools.config import cfg\n",
    "import py.tools.logs as logs\n",
    "import py.vid.v_tools as vt\n",
    "import py.progDim.prog_dim as pg\n",
    "from py.im.imshow import imshow\n",
    "import py.file.file_handling as fh\n",
    "LOGGERDEFINED = logs.openLog('vidAnalysis.ipynb', LOGGERDEFINED, level='DEBUG', exportLog=False)"
   ]
  },
  {
   "cell_type": "code",
   "execution_count": null,
   "id": "1a568da0",
   "metadata": {},
   "outputs": [],
   "source": [
    "fh.openExplorer(folder)"
   ]
  },
  {
   "cell_type": "markdown",
   "id": "fb954c1c",
   "metadata": {
    "tags": []
   },
   "source": [
    "### get programmed dimension"
   ]
  },
  {
   "cell_type": "code",
   "execution_count": null,
   "id": "bf488751",
   "metadata": {
    "tags": []
   },
   "outputs": [],
   "source": [
    "epg = pg.exportAllDimsRecursive(os.path.join(cfg.path.server, r'SDT'), overwrite=False)"
   ]
  },
  {
   "cell_type": "code",
   "execution_count": null,
   "id": "7c570708-2669-4da7-b172-a73bf63c5cbd",
   "metadata": {
    "tags": []
   },
   "outputs": [],
   "source": [
    "epg.folderErrorList[0]"
   ]
  },
  {
   "cell_type": "markdown",
   "id": "ba3c8a49",
   "metadata": {
    "tags": []
   },
   "source": [
    "## make stills"
   ]
  },
  {
   "cell_type": "code",
   "execution_count": null,
   "id": "600d937a-5258-4451-a16e-420baaa6e597",
   "metadata": {
    "tags": []
   },
   "outputs": [],
   "source": [
    "from plainIm import *"
   ]
  },
  {
   "cell_type": "code",
   "execution_count": null,
   "id": "22a7a07b-64de-4d1c-bedf-48fa2188214c",
   "metadata": {
    "tags": []
   },
   "outputs": [],
   "source": [
    "out = []\n",
    "for folder in fh.printFolders(os.path.join(cfg.path.server, r'SDT')):\n",
    "    pfd = fh.printFileDict(folder)\n",
    "    m = pfd.meta\n",
    "    if len(m)>0:\n",
    "        d,_ = plainImDict(m[0], unitCol=1, valCol=2)\n",
    "        if 'Basler_camera_collection_frame_rate' in d:\n",
    "            cfr = d['Basler_camera_collection_frame_rate']\n",
    "            try:\n",
    "                vs = pfd.vidStats\n",
    "                if os.path.exists(vs):\n",
    "                    d, _ = plainImDict(vs, unitCol=-1, valCol=1)\n",
    "                    dstart = d['dstart']\n",
    "                    fps = d['fps']\n",
    "                    out.append({'folder':folder, 'cfr':cfr, 'dstart':dstart, 'fps':fps})\n",
    "            except:\n",
    "                pass\n",
    "df = pd.DataFrame(out)\n",
    "plainExp(os.path.join(cfg.path.fig, 'SDT', 'summaries', 'dstart.csv'), df, {'folder':'', 'cfr':'fps', 'dstart':'s', 'fps':'fps'}, index=False)"
   ]
  },
  {
   "cell_type": "code",
   "execution_count": null,
   "id": "ae2e199c-f731-4866-b9df-c21e14037257",
   "metadata": {
    "tags": []
   },
   "outputs": [],
   "source": [
    "df.plot.scatter('cfr', 'dstart')"
   ]
  },
  {
   "cell_type": "code",
   "execution_count": null,
   "id": "3d3d0a8e-183b-4374-b7b6-26e4d63b3724",
   "metadata": {
    "tags": []
   },
   "outputs": [],
   "source": [
    "fh.openExplorer(df[df.dstart<0.2].iloc[0]['folder'])"
   ]
  },
  {
   "cell_type": "code",
   "execution_count": null,
   "id": "6c81d76f-b01f-4ec3-a2a2-f5d2c7579dfd",
   "metadata": {
    "tags": []
   },
   "outputs": [],
   "source": [
    "pg1.progPos"
   ]
  },
  {
   "cell_type": "code",
   "execution_count": null,
   "id": "15c19e10-d630-4881-8a93-e5549ffdca4b",
   "metadata": {
    "tags": []
   },
   "outputs": [],
   "source": [
    "pg1 = pg.getProgDims(folder)\n",
    "pg1.exportAll(overwrite=True)"
   ]
  },
  {
   "cell_type": "code",
   "execution_count": null,
   "id": "a871a7de-ff69-4c09-9162-9ea3c9a854a8",
   "metadata": {
    "tags": []
   },
   "outputs": [],
   "source": [
    "pg1.ftable.targetLine.unique()"
   ]
  },
  {
   "cell_type": "code",
   "execution_count": null,
   "id": "884dbf45-b726-4027-80bf-17979888d9fe",
   "metadata": {
    "tags": []
   },
   "outputs": [],
   "source": [
    "pg1.ftable[((pg1.ftable.targetLine)>(pg1.ftable.targetLine.shift(-1)))]"
   ]
  },
  {
   "cell_type": "code",
   "execution_count": null,
   "id": "0b3dbcf3-8d8b-4c49-bc16-072bc6fafd64",
   "metadata": {
    "tags": []
   },
   "outputs": [],
   "source": [
    "folder"
   ]
  },
  {
   "cell_type": "code",
   "execution_count": null,
   "id": "cd14dcaf-d52b-44a1-81ea-63ea46bef937",
   "metadata": {
    "tags": []
   },
   "outputs": [],
   "source": [
    "pg1.findAnotherFolder()"
   ]
  },
  {
   "cell_type": "code",
   "execution_count": null,
   "id": "adc761cc-88d5-4b72-9d8e-4519a7531114",
   "metadata": {
    "tags": []
   },
   "outputs": [],
   "source": [
    "pg1.ftable"
   ]
  },
  {
   "cell_type": "code",
   "execution_count": null,
   "id": "77ad7791-0481-428d-bcd2-49d8569b08fe",
   "metadata": {
    "tags": []
   },
   "outputs": [],
   "source": [
    "pg1.importTimeFile()\n",
    "pg1.stealTargets()"
   ]
  },
  {
   "cell_type": "code",
   "execution_count": 74,
   "id": "ccffb630-497e-49c2-b998-a818333b50ab",
   "metadata": {
    "tags": []
   },
   "outputs": [],
   "source": [
    "fh.openExplorer(folder)"
   ]
  },
  {
   "cell_type": "code",
   "execution_count": 76,
   "id": "8a0635d9-7cec-4822-916e-7ccf2c5efc6d",
   "metadata": {
    "tags": []
   },
   "outputs": [
    {
     "name": "stdout",
     "output_type": "stream",
     "text": [
      "INFO: Exported //cfs2e.nist.gov/642/internal/3D Printing Lab/Shopbot/videos\\SDT\\SO_S20-0.5\\I_SO6-S20-0.5_S_4.00\\I_SO6-S20-0.5_S_4.00_230215\\disturbXS2_2_+z_0.500\\disturbXS2_2_+z_0.500_timeRewrite_I_SO6-S20-0.5_S_4.00_230215_182820_8.csv\n",
      "INFO: Exported //cfs2e.nist.gov/642/internal/3D Printing Lab/Shopbot/videos\\SDT\\SO_S20-0.5\\I_SO6-S20-0.5_S_4.00\\I_SO6-S20-0.5_S_4.00_230215\\disturbXS2_2_+z_0.500\\disturbXS2_2_+z_0.500_flagFlip_I_SO6-S20-0.5_S_4.00_230215_182820_8.csv\n",
      "INFO: Exported //cfs2e.nist.gov/642/internal/3D Printing Lab/Shopbot/videos\\SDT\\SO_S20-0.5\\I_SO6-S20-0.5_S_4.00\\I_SO6-S20-0.5_S_4.00_230215\\disturbXS2_2_+z_0.500\\disturbXS2_2_+z_0.500_progPos_I_SO6-S20-0.5_S_4.00_230215_182820_8.csv\n",
      "INFO: Exported //cfs2e.nist.gov/642/internal/3D Printing Lab/Shopbot/videos\\SDT\\SO_S20-0.5\\I_SO6-S20-0.5_S_4.00\\I_SO6-S20-0.5_S_4.00_230215\\disturbXS2_2_+z_0.500\\disturbXS2_2_+z_0.500_progDims_I_SO6-S20-0.5_S_4.00_230215_182820_8.csv\n"
     ]
    },
    {
     "data": {
      "text/plain": [
       "[]"
      ]
     },
     "execution_count": 76,
     "metadata": {},
     "output_type": "execute_result"
    }
   ],
   "source": [
    "folder = os.path.join(cfg.path.server, r'SDT\\SO_S20-0.5\\I_SO6-S20-0.5_S_4.00\\I_SO6-S20-0.5_S_4.00_230215\\disturbXS2_2_+z_0.500')\n",
    "se = vt.stillsExporter(folder, overwritePics=False, overwriteDims=True, exportDiag=1, printTraceback=True)\n",
    "se.run()\n",
    "# fh.openExplorer(folder)"
   ]
  },
  {
   "cell_type": "code",
   "execution_count": null,
   "id": "3a47d454",
   "metadata": {
    "tags": []
   },
   "outputs": [],
   "source": [
    "folders = [os.path.join(cfg.path.server, r'SO_S20-0.5', f'I_SO6-S20-0.5_S_{j}') for j in ['3.00', '3.50', '4.00']]\n",
    "for topfolder in folderes:\n",
    "    pf = fh.printFolders(topfolder)\n",
    "\n",
    "# se = vt.stillsExporter(folders, overwritePics=True, overwriteDims=False, exportDiag=0)\n",
    "# errorList = se.run()\n",
    "# errorList"
   ]
  },
  {
   "cell_type": "markdown",
   "id": "20168678-0eaf-4cac-a7e8-de033d703dc5",
   "metadata": {},
   "source": [
    "# manually set still time offset"
   ]
  },
  {
   "cell_type": "code",
   "execution_count": 71,
   "id": "aff95068",
   "metadata": {
    "collapsed": true,
    "jupyter": {
     "outputs_hidden": true
    },
    "tags": []
   },
   "outputs": [
    {
     "name": "stdout",
     "output_type": "stream",
     "text": [
      "INFO: Exported //cfs2e.nist.gov/642/internal/3D Printing Lab/Shopbot/videos\\SDT\\SO_S85-0.05\\I_SO8-S85-0.05_S_3.50\\I_SO8-S85-0.05_S_3.50_230511\\disturbXS2_2_+y_1.250\\disturbXS2_2_+y_1.250_vidStats_I_SO8-S85-0.05_S_3.50_230511_131115_2.csv\n",
      "INFO: Exported //cfs2e.nist.gov/642/internal/3D Printing Lab/Shopbot/videos\\SDT\\SO_S85-0.05\\I_SO8-S85-0.05_S_3.50\\I_SO8-S85-0.05_S_3.50_230511\\disturbXS2_2_+y_1.250\\disturbXS2_2_+y_1.250_vstill_HIx2_l0w1_I_SO8-S85-0.05_S_3.50_230511_131115_2.png\n",
      "INFO: Exported //cfs2e.nist.gov/642/internal/3D Printing Lab/Shopbot/videos\\SDT\\SO_S85-0.05\\I_SO8-S85-0.05_S_3.50\\I_SO8-S85-0.05_S_3.50_230511\\disturbXS2_2_+y_1.250\\disturbXS2_2_+y_1.250_vstill_HIx2_l0w1o1_I_SO8-S85-0.05_S_3.50_230511_131115_2.png\n",
      "INFO: Exported //cfs2e.nist.gov/642/internal/3D Printing Lab/Shopbot/videos\\SDT\\SO_S85-0.05\\I_SO8-S85-0.05_S_3.50\\I_SO8-S85-0.05_S_3.50_230511\\disturbXS2_2_+y_1.250\\disturbXS2_2_+y_1.250_vstill_HIx2_l0w1o2_I_SO8-S85-0.05_S_3.50_230511_131115_2.png\n",
      "INFO: Exported //cfs2e.nist.gov/642/internal/3D Printing Lab/Shopbot/videos\\SDT\\SO_S85-0.05\\I_SO8-S85-0.05_S_3.50\\I_SO8-S85-0.05_S_3.50_230511\\disturbXS2_2_+y_1.250\\disturbXS2_2_+y_1.250_vstill_HIx2_l0w2_I_SO8-S85-0.05_S_3.50_230511_131115_2.png\n",
      "INFO: Exported //cfs2e.nist.gov/642/internal/3D Printing Lab/Shopbot/videos\\SDT\\SO_S85-0.05\\I_SO8-S85-0.05_S_3.50\\I_SO8-S85-0.05_S_3.50_230511\\disturbXS2_2_+y_1.250\\disturbXS2_2_+y_1.250_vstill_HIx2_l0w2o1_I_SO8-S85-0.05_S_3.50_230511_131115_2.png\n",
      "INFO: Exported //cfs2e.nist.gov/642/internal/3D Printing Lab/Shopbot/videos\\SDT\\SO_S85-0.05\\I_SO8-S85-0.05_S_3.50\\I_SO8-S85-0.05_S_3.50_230511\\disturbXS2_2_+y_1.250\\disturbXS2_2_+y_1.250_vstill_HIx2_l0w2o2_I_SO8-S85-0.05_S_3.50_230511_131115_2.png\n",
      "INFO: Exported //cfs2e.nist.gov/642/internal/3D Printing Lab/Shopbot/videos\\SDT\\SO_S85-0.05\\I_SO8-S85-0.05_S_3.50\\I_SO8-S85-0.05_S_3.50_230511\\disturbXS2_2_+y_1.250\\disturbXS2_2_+y_1.250_vstill_HIx2_l0d2_I_SO8-S85-0.05_S_3.50_230511_131115_2.png\n",
      "INFO: Exported //cfs2e.nist.gov/642/internal/3D Printing Lab/Shopbot/videos\\SDT\\SO_S85-0.05\\I_SO8-S85-0.05_S_3.50\\I_SO8-S85-0.05_S_3.50_230511\\disturbXS2_2_+y_1.250\\disturbXS2_2_+y_1.250_vstill_HIx2_l0d2o1_I_SO8-S85-0.05_S_3.50_230511_131115_2.png\n",
      "INFO: Exported //cfs2e.nist.gov/642/internal/3D Printing Lab/Shopbot/videos\\SDT\\SO_S85-0.05\\I_SO8-S85-0.05_S_3.50\\I_SO8-S85-0.05_S_3.50_230511\\disturbXS2_2_+y_1.250\\disturbXS2_2_+y_1.250_vstill_HIx2_l0d2o2_I_SO8-S85-0.05_S_3.50_230511_131115_2.png\n",
      "INFO: Exported //cfs2e.nist.gov/642/internal/3D Printing Lab/Shopbot/videos\\SDT\\SO_S85-0.05\\I_SO8-S85-0.05_S_3.50\\I_SO8-S85-0.05_S_3.50_230511\\disturbXS2_2_+y_1.250\\disturbXS2_2_+y_1.250_vstill_HIx2_l1w1_I_SO8-S85-0.05_S_3.50_230511_131115_2.png\n",
      "INFO: Exported //cfs2e.nist.gov/642/internal/3D Printing Lab/Shopbot/videos\\SDT\\SO_S85-0.05\\I_SO8-S85-0.05_S_3.50\\I_SO8-S85-0.05_S_3.50_230511\\disturbXS2_2_+y_1.250\\disturbXS2_2_+y_1.250_vstill_HIx2_l1w1o1_I_SO8-S85-0.05_S_3.50_230511_131115_2.png\n",
      "INFO: Exported //cfs2e.nist.gov/642/internal/3D Printing Lab/Shopbot/videos\\SDT\\SO_S85-0.05\\I_SO8-S85-0.05_S_3.50\\I_SO8-S85-0.05_S_3.50_230511\\disturbXS2_2_+y_1.250\\disturbXS2_2_+y_1.250_vstill_HIx2_l1w1o2_I_SO8-S85-0.05_S_3.50_230511_131115_2.png\n",
      "INFO: Exported //cfs2e.nist.gov/642/internal/3D Printing Lab/Shopbot/videos\\SDT\\SO_S85-0.05\\I_SO8-S85-0.05_S_3.50\\I_SO8-S85-0.05_S_3.50_230511\\disturbXS2_2_+y_1.250\\disturbXS2_2_+y_1.250_vstill_HIx2_l1w2_I_SO8-S85-0.05_S_3.50_230511_131115_2.png\n",
      "INFO: Exported //cfs2e.nist.gov/642/internal/3D Printing Lab/Shopbot/videos\\SDT\\SO_S85-0.05\\I_SO8-S85-0.05_S_3.50\\I_SO8-S85-0.05_S_3.50_230511\\disturbXS2_2_+y_1.250\\disturbXS2_2_+y_1.250_vstill_HIx2_l1w2o1_I_SO8-S85-0.05_S_3.50_230511_131115_2.png\n",
      "INFO: Exported //cfs2e.nist.gov/642/internal/3D Printing Lab/Shopbot/videos\\SDT\\SO_S85-0.05\\I_SO8-S85-0.05_S_3.50\\I_SO8-S85-0.05_S_3.50_230511\\disturbXS2_2_+y_1.250\\disturbXS2_2_+y_1.250_vstill_HIx2_l1w2o2_I_SO8-S85-0.05_S_3.50_230511_131115_2.png\n",
      "INFO: Exported //cfs2e.nist.gov/642/internal/3D Printing Lab/Shopbot/videos\\SDT\\SO_S85-0.05\\I_SO8-S85-0.05_S_3.50\\I_SO8-S85-0.05_S_3.50_230511\\disturbXS2_2_+y_1.250\\disturbXS2_2_+y_1.250_vstill_HIx2_l1d2_I_SO8-S85-0.05_S_3.50_230511_131115_2.png\n",
      "INFO: Exported //cfs2e.nist.gov/642/internal/3D Printing Lab/Shopbot/videos\\SDT\\SO_S85-0.05\\I_SO8-S85-0.05_S_3.50\\I_SO8-S85-0.05_S_3.50_230511\\disturbXS2_2_+y_1.250\\disturbXS2_2_+y_1.250_vstill_HIx2_l1d2o1_I_SO8-S85-0.05_S_3.50_230511_131115_2.png\n",
      "INFO: Exported //cfs2e.nist.gov/642/internal/3D Printing Lab/Shopbot/videos\\SDT\\SO_S85-0.05\\I_SO8-S85-0.05_S_3.50\\I_SO8-S85-0.05_S_3.50_230511\\disturbXS2_2_+y_1.250\\disturbXS2_2_+y_1.250_vstill_HIx2_l1d2o2_I_SO8-S85-0.05_S_3.50_230511_131115_2.png\n",
      "INFO: Exported //cfs2e.nist.gov/642/internal/3D Printing Lab/Shopbot/videos\\SDT\\SO_S85-0.05\\I_SO8-S85-0.05_S_3.50\\I_SO8-S85-0.05_S_3.50_230511\\disturbXS2_2_+y_1.250\\disturbXS2_2_+y_1.250_vstill_HIx2_l2w1_I_SO8-S85-0.05_S_3.50_230511_131115_2.png\n",
      "INFO: Exported //cfs2e.nist.gov/642/internal/3D Printing Lab/Shopbot/videos\\SDT\\SO_S85-0.05\\I_SO8-S85-0.05_S_3.50\\I_SO8-S85-0.05_S_3.50_230511\\disturbXS2_2_+y_1.250\\disturbXS2_2_+y_1.250_vstill_HIx2_l2w1o1_I_SO8-S85-0.05_S_3.50_230511_131115_2.png\n",
      "INFO: Exported //cfs2e.nist.gov/642/internal/3D Printing Lab/Shopbot/videos\\SDT\\SO_S85-0.05\\I_SO8-S85-0.05_S_3.50\\I_SO8-S85-0.05_S_3.50_230511\\disturbXS2_2_+y_1.250\\disturbXS2_2_+y_1.250_vstill_HIx2_l2w1o2_I_SO8-S85-0.05_S_3.50_230511_131115_2.png\n",
      "INFO: Exported //cfs2e.nist.gov/642/internal/3D Printing Lab/Shopbot/videos\\SDT\\SO_S85-0.05\\I_SO8-S85-0.05_S_3.50\\I_SO8-S85-0.05_S_3.50_230511\\disturbXS2_2_+y_1.250\\disturbXS2_2_+y_1.250_vstill_HIx2_l2w2_I_SO8-S85-0.05_S_3.50_230511_131115_2.png\n",
      "INFO: Exported //cfs2e.nist.gov/642/internal/3D Printing Lab/Shopbot/videos\\SDT\\SO_S85-0.05\\I_SO8-S85-0.05_S_3.50\\I_SO8-S85-0.05_S_3.50_230511\\disturbXS2_2_+y_1.250\\disturbXS2_2_+y_1.250_vstill_HIx2_l2w2o1_I_SO8-S85-0.05_S_3.50_230511_131115_2.png\n",
      "INFO: Exported //cfs2e.nist.gov/642/internal/3D Printing Lab/Shopbot/videos\\SDT\\SO_S85-0.05\\I_SO8-S85-0.05_S_3.50\\I_SO8-S85-0.05_S_3.50_230511\\disturbXS2_2_+y_1.250\\disturbXS2_2_+y_1.250_vstill_HIx2_l2w2o2_I_SO8-S85-0.05_S_3.50_230511_131115_2.png\n",
      "INFO: Exported //cfs2e.nist.gov/642/internal/3D Printing Lab/Shopbot/videos\\SDT\\SO_S85-0.05\\I_SO8-S85-0.05_S_3.50\\I_SO8-S85-0.05_S_3.50_230511\\disturbXS2_2_+y_1.250\\disturbXS2_2_+y_1.250_vstill_HIx2_l2d2_I_SO8-S85-0.05_S_3.50_230511_131115_2.png\n",
      "INFO: Exported //cfs2e.nist.gov/642/internal/3D Printing Lab/Shopbot/videos\\SDT\\SO_S85-0.05\\I_SO8-S85-0.05_S_3.50\\I_SO8-S85-0.05_S_3.50_230511\\disturbXS2_2_+y_1.250\\disturbXS2_2_+y_1.250_vstill_HIx2_l2d2o1_I_SO8-S85-0.05_S_3.50_230511_131115_2.png\n",
      "INFO: Exported //cfs2e.nist.gov/642/internal/3D Printing Lab/Shopbot/videos\\SDT\\SO_S85-0.05\\I_SO8-S85-0.05_S_3.50\\I_SO8-S85-0.05_S_3.50_230511\\disturbXS2_2_+y_1.250\\disturbXS2_2_+y_1.250_vstill_HIx2_l2d2o2_I_SO8-S85-0.05_S_3.50_230511_131115_2.png\n",
      "INFO: Exported //cfs2e.nist.gov/642/internal/3D Printing Lab/Shopbot/videos\\SDT\\SO_S85-0.05\\I_SO8-S85-0.05_S_3.50\\I_SO8-S85-0.05_S_3.50_230511\\disturbXS2_2_+y_1.250\\disturbXS2_2_+y_1.250_vstill_HIx2_l3w1_I_SO8-S85-0.05_S_3.50_230511_131115_2.png\n",
      "INFO: Exported //cfs2e.nist.gov/642/internal/3D Printing Lab/Shopbot/videos\\SDT\\SO_S85-0.05\\I_SO8-S85-0.05_S_3.50\\I_SO8-S85-0.05_S_3.50_230511\\disturbXS2_2_+y_1.250\\disturbXS2_2_+y_1.250_vstill_HIx2_l3w1o1_I_SO8-S85-0.05_S_3.50_230511_131115_2.png\n",
      "INFO: Exported //cfs2e.nist.gov/642/internal/3D Printing Lab/Shopbot/videos\\SDT\\SO_S85-0.05\\I_SO8-S85-0.05_S_3.50\\I_SO8-S85-0.05_S_3.50_230511\\disturbXS2_2_+y_1.250\\disturbXS2_2_+y_1.250_vstill_HIx2_l3w1o2_I_SO8-S85-0.05_S_3.50_230511_131115_2.png\n",
      "INFO: Exported //cfs2e.nist.gov/642/internal/3D Printing Lab/Shopbot/videos\\SDT\\SO_S85-0.05\\I_SO8-S85-0.05_S_3.50\\I_SO8-S85-0.05_S_3.50_230511\\disturbXS2_2_+y_1.250\\disturbXS2_2_+y_1.250_vstill_HIx2_l3w2_I_SO8-S85-0.05_S_3.50_230511_131115_2.png\n",
      "INFO: Exported //cfs2e.nist.gov/642/internal/3D Printing Lab/Shopbot/videos\\SDT\\SO_S85-0.05\\I_SO8-S85-0.05_S_3.50\\I_SO8-S85-0.05_S_3.50_230511\\disturbXS2_2_+y_1.250\\disturbXS2_2_+y_1.250_vstill_HIx2_l3w2o1_I_SO8-S85-0.05_S_3.50_230511_131115_2.png\n",
      "INFO: Exported //cfs2e.nist.gov/642/internal/3D Printing Lab/Shopbot/videos\\SDT\\SO_S85-0.05\\I_SO8-S85-0.05_S_3.50\\I_SO8-S85-0.05_S_3.50_230511\\disturbXS2_2_+y_1.250\\disturbXS2_2_+y_1.250_vstill_HIx2_l3w2o2_I_SO8-S85-0.05_S_3.50_230511_131115_2.png\n",
      "INFO: Exported //cfs2e.nist.gov/642/internal/3D Printing Lab/Shopbot/videos\\SDT\\SO_S85-0.05\\I_SO8-S85-0.05_S_3.50\\I_SO8-S85-0.05_S_3.50_230511\\disturbXS2_2_+y_1.250\\disturbXS2_2_+y_1.250_vstill_HIx2_l3d2_I_SO8-S85-0.05_S_3.50_230511_131115_2.png\n",
      "INFO: Exported //cfs2e.nist.gov/642/internal/3D Printing Lab/Shopbot/videos\\SDT\\SO_S85-0.05\\I_SO8-S85-0.05_S_3.50\\I_SO8-S85-0.05_S_3.50_230511\\disturbXS2_2_+y_1.250\\disturbXS2_2_+y_1.250_vstill_HIx2_l3d2o1_I_SO8-S85-0.05_S_3.50_230511_131115_2.png\n",
      "INFO: Exported //cfs2e.nist.gov/642/internal/3D Printing Lab/Shopbot/videos\\SDT\\SO_S85-0.05\\I_SO8-S85-0.05_S_3.50\\I_SO8-S85-0.05_S_3.50_230511\\disturbXS2_2_+y_1.250\\disturbXS2_2_+y_1.250_vstill_HIx2_l3d2o2_I_SO8-S85-0.05_S_3.50_230511_131115_2.png\n",
      "INFO: Exported //cfs2e.nist.gov/642/internal/3D Printing Lab/Shopbot/videos\\SDT\\SO_S85-0.05\\I_SO8-S85-0.05_S_3.50\\I_SO8-S85-0.05_S_3.50_230511\\disturbXS2_2_+y_1.250\\disturbXS2_2_+y_1.250_vidStats_I_SO8-S85-0.05_S_3.50_230511_131115_2.csv\n"
     ]
    },
    {
     "data": {
      "text/plain": [
       "[]"
      ]
     },
     "execution_count": 71,
     "metadata": {},
     "output_type": "execute_result"
    }
   ],
   "source": [
    "folder = os.path.join(cfg.path.server, r'SDT\\SO_S85-0.05\\I_SO8-S85-0.05_S_3.50\\I_SO8-S85-0.05_S_3.50_230511\\disturbXS2_2_+y_1.250')\n",
    "st = vt.setManualStillTime(folder, dstart=0.65)\n",
    "errorList = st.run()\n",
    "errorList"
   ]
  },
  {
   "cell_type": "code",
   "execution_count": null,
   "id": "2a3e16d3-d63e-45b2-8096-cfdfb08e429e",
   "metadata": {},
   "outputs": [],
   "source": []
  }
 ],
 "metadata": {
  "kernelspec": {
   "display_name": "Python 3 (ipykernel)",
   "language": "python",
   "name": "python3"
  },
  "language_info": {
   "codemirror_mode": {
    "name": "ipython",
    "version": 3
   },
   "file_extension": ".py",
   "mimetype": "text/x-python",
   "name": "python",
   "nbconvert_exporter": "python",
   "pygments_lexer": "ipython3",
   "version": "3.8.3"
  }
 },
 "nbformat": 4,
 "nbformat_minor": 5
}
