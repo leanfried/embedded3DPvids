{
 "cells": [
  {
   "cell_type": "markdown",
   "id": "f3abcb5b",
   "metadata": {},
   "source": [
    "# Making stills of singleDoubleTriple lines"
   ]
  },
  {
   "cell_type": "markdown",
   "id": "11f935f6",
   "metadata": {},
   "source": [
    "## Initialization"
   ]
  },
  {
   "cell_type": "code",
   "execution_count": 2,
   "id": "efacb63a",
   "metadata": {
    "tags": []
   },
   "outputs": [],
   "source": [
    "%load_ext autoreload\n",
    "%autoreload 2\n",
    "LOGGERDEFINED = False"
   ]
  },
  {
   "cell_type": "code",
   "execution_count": 5,
   "id": "662da04e",
   "metadata": {},
   "outputs": [],
   "source": [
    "import os\n",
    "import sys\n",
    "import numpy as np\n",
    "import matplotlib.pyplot as plt\n",
    "module_path = os.path.abspath(os.path.join('..'))\n",
    "sys.path.append(module_path)\n",
    "sys.path.append(os.path.dirname(module_path))\n",
    "from py.tools.config import cfg\n",
    "import py.tools.logs as logs\n",
    "import py.vid.v_tools as vt\n",
    "import py.progDim.prog_dim as pg\n",
    "from py.im.imshow import imshow\n",
    "import py.file.file_handling as fh\n",
    "from py.val.v_pressure import pressureVals\n",
    "LOGGERDEFINED = logs.openLog('vidAnalysis.ipynb', LOGGERDEFINED, level='DEBUG', exportLog=False)"
   ]
  },
  {
   "cell_type": "markdown",
   "id": "80665a35-c6bf-4a3c-a6b1-d2f3e550e0b3",
   "metadata": {},
   "source": [
    "# export all progDims and stills"
   ]
  },
  {
   "cell_type": "code",
   "execution_count": 74,
   "id": "8a0635d9-7cec-4822-916e-7ccf2c5efc6d",
   "metadata": {
    "tags": []
   },
   "outputs": [
    {
     "name": "stdout",
     "output_type": "stream",
     "text": [
      "INFO: Exported //cfs2e.nist.gov/642/internal/3D Printing Lab/Shopbot/videos\\SDT\\SO_S20-0.5\\I_SO6-S20-0.5_S_4.00\\I_SO6-S20-0.5_S_4.00_230215\\disturbHoriz3_3_0.875\\disturbHoriz3_3_0.875_vstill_HOh3_l0w3p1_I_SO6-S20-0.5_S_4.00_230215_184631_5.png\n",
      "INFO: Exported //cfs2e.nist.gov/642/internal/3D Printing Lab/Shopbot/videos\\SDT\\SO_S20-0.5\\I_SO6-S20-0.5_S_4.00\\I_SO6-S20-0.5_S_4.00_230215\\disturbHoriz3_3_0.875\\disturbHoriz3_3_0.875_vstill_HOh3_l0w3p2_I_SO6-S20-0.5_S_4.00_230215_184631_5.png\n"
     ]
    },
    {
     "data": {
      "text/plain": [
       "[]"
      ]
     },
     "execution_count": 74,
     "metadata": {},
     "output_type": "execute_result"
    }
   ],
   "source": [
    "folder = os.path.join(cfg.path.server, r'SDT\\SO_S20-0.5\\I_SO6-S20-0.5_S_4.00\\I_SO6-S20-0.5_S_4.00_230215\\disturbHoriz3_3_0.875')\n",
    "se = vt.stillsExporter(folder, overwritePics=False, overwriteDims=False, exportDiag=1, printTraceback=True)\n",
    "se.run()"
   ]
  },
  {
   "cell_type": "markdown",
   "id": "20168678-0eaf-4cac-a7e8-de033d703dc5",
   "metadata": {},
   "source": [
    "# manually set still time offset"
   ]
  },
  {
   "cell_type": "code",
   "execution_count": 76,
   "id": "aff95068",
   "metadata": {
    "collapsed": true,
    "jupyter": {
     "outputs_hidden": true
    },
    "tags": []
   },
   "outputs": [
    {
     "name": "stdout",
     "output_type": "stream",
     "text": [
      "INFO: Exported //cfs2e.nist.gov/642/internal/3D Printing Lab/Shopbot/videos\\SDT\\SO_S20-0.5\\I_SO7-S20-0.5_S_3.00\\I_SO7-S20-0.5_S_3.00_v2_230509\\disturbHoriz3_1_0.875\\disturbHoriz3_1_0.875_vidStats_I_SO7-S20-0.5_S_3.00_230509_114517_0.csv\n",
      "INFO: Exported //cfs2e.nist.gov/642/internal/3D Printing Lab/Shopbot/videos\\SDT\\SO_S20-0.5\\I_SO7-S20-0.5_S_3.00\\I_SO7-S20-0.5_S_3.00_v2_230509\\disturbHoriz3_1_0.875\\disturbHoriz3_1_0.875_vstill_HOh1_l0w1p1_I_SO7-S20-0.5_S_3.00_230509_114517_0.png\n",
      "INFO: Exported //cfs2e.nist.gov/642/internal/3D Printing Lab/Shopbot/videos\\SDT\\SO_S20-0.5\\I_SO7-S20-0.5_S_3.00\\I_SO7-S20-0.5_S_3.00_v2_230509\\disturbHoriz3_1_0.875\\disturbHoriz3_1_0.875_vstill_HOh1_l0w1p2_I_SO7-S20-0.5_S_3.00_230509_114517_0.png\n",
      "INFO: Exported //cfs2e.nist.gov/642/internal/3D Printing Lab/Shopbot/videos\\SDT\\SO_S20-0.5\\I_SO7-S20-0.5_S_3.00\\I_SO7-S20-0.5_S_3.00_v2_230509\\disturbHoriz3_1_0.875\\disturbHoriz3_1_0.875_vstill_HOh1_l0w1p3_I_SO7-S20-0.5_S_3.00_230509_114517_0.png\n",
      "INFO: Exported //cfs2e.nist.gov/642/internal/3D Printing Lab/Shopbot/videos\\SDT\\SO_S20-0.5\\I_SO7-S20-0.5_S_3.00\\I_SO7-S20-0.5_S_3.00_v2_230509\\disturbHoriz3_1_0.875\\disturbHoriz3_1_0.875_vstill_HOh1_l0w1p4_I_SO7-S20-0.5_S_3.00_230509_114517_0.png\n",
      "INFO: Exported //cfs2e.nist.gov/642/internal/3D Printing Lab/Shopbot/videos\\SDT\\SO_S20-0.5\\I_SO7-S20-0.5_S_3.00\\I_SO7-S20-0.5_S_3.00_v2_230509\\disturbHoriz3_1_0.875\\disturbHoriz3_1_0.875_vstill_HOh1_l0w1p5_I_SO7-S20-0.5_S_3.00_230509_114517_0.png\n",
      "INFO: Exported //cfs2e.nist.gov/642/internal/3D Printing Lab/Shopbot/videos\\SDT\\SO_S20-0.5\\I_SO7-S20-0.5_S_3.00\\I_SO7-S20-0.5_S_3.00_v2_230509\\disturbHoriz3_1_0.875\\disturbHoriz3_1_0.875_vstill_HOh1_l0w1o1_I_SO7-S20-0.5_S_3.00_230509_114517_0.png\n",
      "INFO: Exported //cfs2e.nist.gov/642/internal/3D Printing Lab/Shopbot/videos\\SDT\\SO_S20-0.5\\I_SO7-S20-0.5_S_3.00\\I_SO7-S20-0.5_S_3.00_v2_230509\\disturbHoriz3_1_0.875\\disturbHoriz3_1_0.875_vstill_HOh1_l0w1o2_I_SO7-S20-0.5_S_3.00_230509_114517_0.png\n",
      "INFO: Exported //cfs2e.nist.gov/642/internal/3D Printing Lab/Shopbot/videos\\SDT\\SO_S20-0.5\\I_SO7-S20-0.5_S_3.00\\I_SO7-S20-0.5_S_3.00_v2_230509\\disturbHoriz3_1_0.875\\disturbHoriz3_1_0.875_vstill_HOh1_l0w1o3_I_SO7-S20-0.5_S_3.00_230509_114517_0.png\n",
      "INFO: Exported //cfs2e.nist.gov/642/internal/3D Printing Lab/Shopbot/videos\\SDT\\SO_S20-0.5\\I_SO7-S20-0.5_S_3.00\\I_SO7-S20-0.5_S_3.00_v2_230509\\disturbHoriz3_1_0.875\\disturbHoriz3_1_0.875_vstill_HOh1_l0w1o4_I_SO7-S20-0.5_S_3.00_230509_114517_0.png\n",
      "INFO: Exported //cfs2e.nist.gov/642/internal/3D Printing Lab/Shopbot/videos\\SDT\\SO_S20-0.5\\I_SO7-S20-0.5_S_3.00\\I_SO7-S20-0.5_S_3.00_v2_230509\\disturbHoriz3_1_0.875\\disturbHoriz3_1_0.875_vstill_HOh1_l0w1o5_I_SO7-S20-0.5_S_3.00_230509_114517_0.png\n",
      "INFO: Exported //cfs2e.nist.gov/642/internal/3D Printing Lab/Shopbot/videos\\SDT\\SO_S20-0.5\\I_SO7-S20-0.5_S_3.00\\I_SO7-S20-0.5_S_3.00_v2_230509\\disturbHoriz3_1_0.875\\disturbHoriz3_1_0.875_vstill_HOh1_l0w1o6_I_SO7-S20-0.5_S_3.00_230509_114517_0.png\n",
      "INFO: Exported //cfs2e.nist.gov/642/internal/3D Printing Lab/Shopbot/videos\\SDT\\SO_S20-0.5\\I_SO7-S20-0.5_S_3.00\\I_SO7-S20-0.5_S_3.00_v2_230509\\disturbHoriz3_1_0.875\\disturbHoriz3_1_0.875_vstill_HOh1_l0w1o7_I_SO7-S20-0.5_S_3.00_230509_114517_0.png\n",
      "INFO: Exported //cfs2e.nist.gov/642/internal/3D Printing Lab/Shopbot/videos\\SDT\\SO_S20-0.5\\I_SO7-S20-0.5_S_3.00\\I_SO7-S20-0.5_S_3.00_v2_230509\\disturbHoriz3_1_0.875\\disturbHoriz3_1_0.875_vstill_HOh1_l0w1o8_I_SO7-S20-0.5_S_3.00_230509_114517_0.png\n",
      "INFO: Exported //cfs2e.nist.gov/642/internal/3D Printing Lab/Shopbot/videos\\SDT\\SO_S20-0.5\\I_SO7-S20-0.5_S_3.00\\I_SO7-S20-0.5_S_3.00_v2_230509\\disturbHoriz3_1_0.875\\disturbHoriz3_1_0.875_vstill_HOh1_l0d1p1_I_SO7-S20-0.5_S_3.00_230509_114517_0.png\n",
      "INFO: Exported //cfs2e.nist.gov/642/internal/3D Printing Lab/Shopbot/videos\\SDT\\SO_S20-0.5\\I_SO7-S20-0.5_S_3.00\\I_SO7-S20-0.5_S_3.00_v2_230509\\disturbHoriz3_1_0.875\\disturbHoriz3_1_0.875_vstill_HOh1_l0d1p2_I_SO7-S20-0.5_S_3.00_230509_114517_0.png\n",
      "INFO: Exported //cfs2e.nist.gov/642/internal/3D Printing Lab/Shopbot/videos\\SDT\\SO_S20-0.5\\I_SO7-S20-0.5_S_3.00\\I_SO7-S20-0.5_S_3.00_v2_230509\\disturbHoriz3_1_0.875\\disturbHoriz3_1_0.875_vstill_HOh1_l0d1p3_I_SO7-S20-0.5_S_3.00_230509_114517_0.png\n",
      "INFO: Exported //cfs2e.nist.gov/642/internal/3D Printing Lab/Shopbot/videos\\SDT\\SO_S20-0.5\\I_SO7-S20-0.5_S_3.00\\I_SO7-S20-0.5_S_3.00_v2_230509\\disturbHoriz3_1_0.875\\disturbHoriz3_1_0.875_vstill_HOh1_l0d1p4_I_SO7-S20-0.5_S_3.00_230509_114517_0.png\n",
      "INFO: Exported //cfs2e.nist.gov/642/internal/3D Printing Lab/Shopbot/videos\\SDT\\SO_S20-0.5\\I_SO7-S20-0.5_S_3.00\\I_SO7-S20-0.5_S_3.00_v2_230509\\disturbHoriz3_1_0.875\\disturbHoriz3_1_0.875_vstill_HOh1_l0d1p5_I_SO7-S20-0.5_S_3.00_230509_114517_0.png\n",
      "INFO: Exported //cfs2e.nist.gov/642/internal/3D Printing Lab/Shopbot/videos\\SDT\\SO_S20-0.5\\I_SO7-S20-0.5_S_3.00\\I_SO7-S20-0.5_S_3.00_v2_230509\\disturbHoriz3_1_0.875\\disturbHoriz3_1_0.875_vstill_HOh1_l0d1o1_I_SO7-S20-0.5_S_3.00_230509_114517_0.png\n",
      "INFO: Exported //cfs2e.nist.gov/642/internal/3D Printing Lab/Shopbot/videos\\SDT\\SO_S20-0.5\\I_SO7-S20-0.5_S_3.00\\I_SO7-S20-0.5_S_3.00_v2_230509\\disturbHoriz3_1_0.875\\disturbHoriz3_1_0.875_vstill_HOh1_l0d1o2_I_SO7-S20-0.5_S_3.00_230509_114517_0.png\n",
      "INFO: Exported //cfs2e.nist.gov/642/internal/3D Printing Lab/Shopbot/videos\\SDT\\SO_S20-0.5\\I_SO7-S20-0.5_S_3.00\\I_SO7-S20-0.5_S_3.00_v2_230509\\disturbHoriz3_1_0.875\\disturbHoriz3_1_0.875_vstill_HOh1_l0d1o3_I_SO7-S20-0.5_S_3.00_230509_114517_0.png\n",
      "INFO: Exported //cfs2e.nist.gov/642/internal/3D Printing Lab/Shopbot/videos\\SDT\\SO_S20-0.5\\I_SO7-S20-0.5_S_3.00\\I_SO7-S20-0.5_S_3.00_v2_230509\\disturbHoriz3_1_0.875\\disturbHoriz3_1_0.875_vstill_HOh1_l0d1o4_I_SO7-S20-0.5_S_3.00_230509_114517_0.png\n",
      "INFO: Exported //cfs2e.nist.gov/642/internal/3D Printing Lab/Shopbot/videos\\SDT\\SO_S20-0.5\\I_SO7-S20-0.5_S_3.00\\I_SO7-S20-0.5_S_3.00_v2_230509\\disturbHoriz3_1_0.875\\disturbHoriz3_1_0.875_vstill_HOh1_l0d1o5_I_SO7-S20-0.5_S_3.00_230509_114517_0.png\n",
      "INFO: Exported //cfs2e.nist.gov/642/internal/3D Printing Lab/Shopbot/videos\\SDT\\SO_S20-0.5\\I_SO7-S20-0.5_S_3.00\\I_SO7-S20-0.5_S_3.00_v2_230509\\disturbHoriz3_1_0.875\\disturbHoriz3_1_0.875_vstill_HOh1_l0d1o6_I_SO7-S20-0.5_S_3.00_230509_114517_0.png\n",
      "INFO: Exported //cfs2e.nist.gov/642/internal/3D Printing Lab/Shopbot/videos\\SDT\\SO_S20-0.5\\I_SO7-S20-0.5_S_3.00\\I_SO7-S20-0.5_S_3.00_v2_230509\\disturbHoriz3_1_0.875\\disturbHoriz3_1_0.875_vstill_HOh1_l0d1o7_I_SO7-S20-0.5_S_3.00_230509_114517_0.png\n",
      "INFO: Exported //cfs2e.nist.gov/642/internal/3D Printing Lab/Shopbot/videos\\SDT\\SO_S20-0.5\\I_SO7-S20-0.5_S_3.00\\I_SO7-S20-0.5_S_3.00_v2_230509\\disturbHoriz3_1_0.875\\disturbHoriz3_1_0.875_vstill_HOh1_l0d1o8_I_SO7-S20-0.5_S_3.00_230509_114517_0.png\n",
      "INFO: Exported //cfs2e.nist.gov/642/internal/3D Printing Lab/Shopbot/videos\\SDT\\SO_S20-0.5\\I_SO7-S20-0.5_S_3.00\\I_SO7-S20-0.5_S_3.00_v2_230509\\disturbHoriz3_1_0.875\\disturbHoriz3_1_0.875_vstill_HOh1_l1w1p1_I_SO7-S20-0.5_S_3.00_230509_114517_0.png\n",
      "INFO: Exported //cfs2e.nist.gov/642/internal/3D Printing Lab/Shopbot/videos\\SDT\\SO_S20-0.5\\I_SO7-S20-0.5_S_3.00\\I_SO7-S20-0.5_S_3.00_v2_230509\\disturbHoriz3_1_0.875\\disturbHoriz3_1_0.875_vstill_HOh1_l1w1p2_I_SO7-S20-0.5_S_3.00_230509_114517_0.png\n",
      "INFO: Exported //cfs2e.nist.gov/642/internal/3D Printing Lab/Shopbot/videos\\SDT\\SO_S20-0.5\\I_SO7-S20-0.5_S_3.00\\I_SO7-S20-0.5_S_3.00_v2_230509\\disturbHoriz3_1_0.875\\disturbHoriz3_1_0.875_vstill_HOh1_l1w1p3_I_SO7-S20-0.5_S_3.00_230509_114517_0.png\n",
      "INFO: Exported //cfs2e.nist.gov/642/internal/3D Printing Lab/Shopbot/videos\\SDT\\SO_S20-0.5\\I_SO7-S20-0.5_S_3.00\\I_SO7-S20-0.5_S_3.00_v2_230509\\disturbHoriz3_1_0.875\\disturbHoriz3_1_0.875_vstill_HOh1_l1w1p4_I_SO7-S20-0.5_S_3.00_230509_114517_0.png\n",
      "INFO: Exported //cfs2e.nist.gov/642/internal/3D Printing Lab/Shopbot/videos\\SDT\\SO_S20-0.5\\I_SO7-S20-0.5_S_3.00\\I_SO7-S20-0.5_S_3.00_v2_230509\\disturbHoriz3_1_0.875\\disturbHoriz3_1_0.875_vstill_HOh1_l1w1p5_I_SO7-S20-0.5_S_3.00_230509_114517_0.png\n",
      "INFO: Exported //cfs2e.nist.gov/642/internal/3D Printing Lab/Shopbot/videos\\SDT\\SO_S20-0.5\\I_SO7-S20-0.5_S_3.00\\I_SO7-S20-0.5_S_3.00_v2_230509\\disturbHoriz3_1_0.875\\disturbHoriz3_1_0.875_vstill_HOh1_l1w1o1_I_SO7-S20-0.5_S_3.00_230509_114517_0.png\n",
      "INFO: Exported //cfs2e.nist.gov/642/internal/3D Printing Lab/Shopbot/videos\\SDT\\SO_S20-0.5\\I_SO7-S20-0.5_S_3.00\\I_SO7-S20-0.5_S_3.00_v2_230509\\disturbHoriz3_1_0.875\\disturbHoriz3_1_0.875_vstill_HOh1_l1w1o2_I_SO7-S20-0.5_S_3.00_230509_114517_0.png\n",
      "INFO: Exported //cfs2e.nist.gov/642/internal/3D Printing Lab/Shopbot/videos\\SDT\\SO_S20-0.5\\I_SO7-S20-0.5_S_3.00\\I_SO7-S20-0.5_S_3.00_v2_230509\\disturbHoriz3_1_0.875\\disturbHoriz3_1_0.875_vstill_HOh1_l1w1o3_I_SO7-S20-0.5_S_3.00_230509_114517_0.png\n",
      "INFO: Exported //cfs2e.nist.gov/642/internal/3D Printing Lab/Shopbot/videos\\SDT\\SO_S20-0.5\\I_SO7-S20-0.5_S_3.00\\I_SO7-S20-0.5_S_3.00_v2_230509\\disturbHoriz3_1_0.875\\disturbHoriz3_1_0.875_vstill_HOh1_l1w1o4_I_SO7-S20-0.5_S_3.00_230509_114517_0.png\n",
      "INFO: Exported //cfs2e.nist.gov/642/internal/3D Printing Lab/Shopbot/videos\\SDT\\SO_S20-0.5\\I_SO7-S20-0.5_S_3.00\\I_SO7-S20-0.5_S_3.00_v2_230509\\disturbHoriz3_1_0.875\\disturbHoriz3_1_0.875_vstill_HOh1_l1w1o5_I_SO7-S20-0.5_S_3.00_230509_114517_0.png\n",
      "INFO: Exported //cfs2e.nist.gov/642/internal/3D Printing Lab/Shopbot/videos\\SDT\\SO_S20-0.5\\I_SO7-S20-0.5_S_3.00\\I_SO7-S20-0.5_S_3.00_v2_230509\\disturbHoriz3_1_0.875\\disturbHoriz3_1_0.875_vstill_HOh1_l1w1o6_I_SO7-S20-0.5_S_3.00_230509_114517_0.png\n",
      "INFO: Exported //cfs2e.nist.gov/642/internal/3D Printing Lab/Shopbot/videos\\SDT\\SO_S20-0.5\\I_SO7-S20-0.5_S_3.00\\I_SO7-S20-0.5_S_3.00_v2_230509\\disturbHoriz3_1_0.875\\disturbHoriz3_1_0.875_vstill_HOh1_l1w1o7_I_SO7-S20-0.5_S_3.00_230509_114517_0.png\n",
      "INFO: Exported //cfs2e.nist.gov/642/internal/3D Printing Lab/Shopbot/videos\\SDT\\SO_S20-0.5\\I_SO7-S20-0.5_S_3.00\\I_SO7-S20-0.5_S_3.00_v2_230509\\disturbHoriz3_1_0.875\\disturbHoriz3_1_0.875_vstill_HOh1_l1w1o8_I_SO7-S20-0.5_S_3.00_230509_114517_0.png\n",
      "INFO: Exported //cfs2e.nist.gov/642/internal/3D Printing Lab/Shopbot/videos\\SDT\\SO_S20-0.5\\I_SO7-S20-0.5_S_3.00\\I_SO7-S20-0.5_S_3.00_v2_230509\\disturbHoriz3_1_0.875\\disturbHoriz3_1_0.875_vstill_HOh1_l1d1p1_I_SO7-S20-0.5_S_3.00_230509_114517_0.png\n",
      "INFO: Exported //cfs2e.nist.gov/642/internal/3D Printing Lab/Shopbot/videos\\SDT\\SO_S20-0.5\\I_SO7-S20-0.5_S_3.00\\I_SO7-S20-0.5_S_3.00_v2_230509\\disturbHoriz3_1_0.875\\disturbHoriz3_1_0.875_vstill_HOh1_l1d1p2_I_SO7-S20-0.5_S_3.00_230509_114517_0.png\n",
      "INFO: Exported //cfs2e.nist.gov/642/internal/3D Printing Lab/Shopbot/videos\\SDT\\SO_S20-0.5\\I_SO7-S20-0.5_S_3.00\\I_SO7-S20-0.5_S_3.00_v2_230509\\disturbHoriz3_1_0.875\\disturbHoriz3_1_0.875_vstill_HOh1_l1d1p3_I_SO7-S20-0.5_S_3.00_230509_114517_0.png\n",
      "INFO: Exported //cfs2e.nist.gov/642/internal/3D Printing Lab/Shopbot/videos\\SDT\\SO_S20-0.5\\I_SO7-S20-0.5_S_3.00\\I_SO7-S20-0.5_S_3.00_v2_230509\\disturbHoriz3_1_0.875\\disturbHoriz3_1_0.875_vstill_HOh1_l1d1p4_I_SO7-S20-0.5_S_3.00_230509_114517_0.png\n",
      "INFO: Exported //cfs2e.nist.gov/642/internal/3D Printing Lab/Shopbot/videos\\SDT\\SO_S20-0.5\\I_SO7-S20-0.5_S_3.00\\I_SO7-S20-0.5_S_3.00_v2_230509\\disturbHoriz3_1_0.875\\disturbHoriz3_1_0.875_vstill_HOh1_l1d1p5_I_SO7-S20-0.5_S_3.00_230509_114517_0.png\n",
      "INFO: Exported //cfs2e.nist.gov/642/internal/3D Printing Lab/Shopbot/videos\\SDT\\SO_S20-0.5\\I_SO7-S20-0.5_S_3.00\\I_SO7-S20-0.5_S_3.00_v2_230509\\disturbHoriz3_1_0.875\\disturbHoriz3_1_0.875_vstill_HOh1_l1d1o1_I_SO7-S20-0.5_S_3.00_230509_114517_0.png\n",
      "INFO: Exported //cfs2e.nist.gov/642/internal/3D Printing Lab/Shopbot/videos\\SDT\\SO_S20-0.5\\I_SO7-S20-0.5_S_3.00\\I_SO7-S20-0.5_S_3.00_v2_230509\\disturbHoriz3_1_0.875\\disturbHoriz3_1_0.875_vstill_HOh1_l1d1o2_I_SO7-S20-0.5_S_3.00_230509_114517_0.png\n",
      "INFO: Exported //cfs2e.nist.gov/642/internal/3D Printing Lab/Shopbot/videos\\SDT\\SO_S20-0.5\\I_SO7-S20-0.5_S_3.00\\I_SO7-S20-0.5_S_3.00_v2_230509\\disturbHoriz3_1_0.875\\disturbHoriz3_1_0.875_vstill_HOh1_l1d1o3_I_SO7-S20-0.5_S_3.00_230509_114517_0.png\n",
      "INFO: Exported //cfs2e.nist.gov/642/internal/3D Printing Lab/Shopbot/videos\\SDT\\SO_S20-0.5\\I_SO7-S20-0.5_S_3.00\\I_SO7-S20-0.5_S_3.00_v2_230509\\disturbHoriz3_1_0.875\\disturbHoriz3_1_0.875_vstill_HOh1_l1d1o4_I_SO7-S20-0.5_S_3.00_230509_114517_0.png\n",
      "INFO: Exported //cfs2e.nist.gov/642/internal/3D Printing Lab/Shopbot/videos\\SDT\\SO_S20-0.5\\I_SO7-S20-0.5_S_3.00\\I_SO7-S20-0.5_S_3.00_v2_230509\\disturbHoriz3_1_0.875\\disturbHoriz3_1_0.875_vstill_HOh1_l1d1o5_I_SO7-S20-0.5_S_3.00_230509_114517_0.png\n",
      "INFO: Exported //cfs2e.nist.gov/642/internal/3D Printing Lab/Shopbot/videos\\SDT\\SO_S20-0.5\\I_SO7-S20-0.5_S_3.00\\I_SO7-S20-0.5_S_3.00_v2_230509\\disturbHoriz3_1_0.875\\disturbHoriz3_1_0.875_vstill_HOh1_l1d1o6_I_SO7-S20-0.5_S_3.00_230509_114517_0.png\n",
      "INFO: Exported //cfs2e.nist.gov/642/internal/3D Printing Lab/Shopbot/videos\\SDT\\SO_S20-0.5\\I_SO7-S20-0.5_S_3.00\\I_SO7-S20-0.5_S_3.00_v2_230509\\disturbHoriz3_1_0.875\\disturbHoriz3_1_0.875_vstill_HOh1_l1d1o7_I_SO7-S20-0.5_S_3.00_230509_114517_0.png\n",
      "INFO: Exported //cfs2e.nist.gov/642/internal/3D Printing Lab/Shopbot/videos\\SDT\\SO_S20-0.5\\I_SO7-S20-0.5_S_3.00\\I_SO7-S20-0.5_S_3.00_v2_230509\\disturbHoriz3_1_0.875\\disturbHoriz3_1_0.875_vstill_HOh1_l1d1o8_I_SO7-S20-0.5_S_3.00_230509_114517_0.png\n",
      "INFO: Exported //cfs2e.nist.gov/642/internal/3D Printing Lab/Shopbot/videos\\SDT\\SO_S20-0.5\\I_SO7-S20-0.5_S_3.00\\I_SO7-S20-0.5_S_3.00_v2_230509\\disturbHoriz3_1_0.875\\disturbHoriz3_1_0.875_vstill_HOh1_l2w1p1_I_SO7-S20-0.5_S_3.00_230509_114517_0.png\n",
      "INFO: Exported //cfs2e.nist.gov/642/internal/3D Printing Lab/Shopbot/videos\\SDT\\SO_S20-0.5\\I_SO7-S20-0.5_S_3.00\\I_SO7-S20-0.5_S_3.00_v2_230509\\disturbHoriz3_1_0.875\\disturbHoriz3_1_0.875_vstill_HOh1_l2w1p2_I_SO7-S20-0.5_S_3.00_230509_114517_0.png\n",
      "INFO: Exported //cfs2e.nist.gov/642/internal/3D Printing Lab/Shopbot/videos\\SDT\\SO_S20-0.5\\I_SO7-S20-0.5_S_3.00\\I_SO7-S20-0.5_S_3.00_v2_230509\\disturbHoriz3_1_0.875\\disturbHoriz3_1_0.875_vstill_HOh1_l2w1p3_I_SO7-S20-0.5_S_3.00_230509_114517_0.png\n",
      "INFO: Exported //cfs2e.nist.gov/642/internal/3D Printing Lab/Shopbot/videos\\SDT\\SO_S20-0.5\\I_SO7-S20-0.5_S_3.00\\I_SO7-S20-0.5_S_3.00_v2_230509\\disturbHoriz3_1_0.875\\disturbHoriz3_1_0.875_vstill_HOh1_l2w1p4_I_SO7-S20-0.5_S_3.00_230509_114517_0.png\n",
      "INFO: Exported //cfs2e.nist.gov/642/internal/3D Printing Lab/Shopbot/videos\\SDT\\SO_S20-0.5\\I_SO7-S20-0.5_S_3.00\\I_SO7-S20-0.5_S_3.00_v2_230509\\disturbHoriz3_1_0.875\\disturbHoriz3_1_0.875_vstill_HOh1_l2w1p5_I_SO7-S20-0.5_S_3.00_230509_114517_0.png\n",
      "INFO: Exported //cfs2e.nist.gov/642/internal/3D Printing Lab/Shopbot/videos\\SDT\\SO_S20-0.5\\I_SO7-S20-0.5_S_3.00\\I_SO7-S20-0.5_S_3.00_v2_230509\\disturbHoriz3_1_0.875\\disturbHoriz3_1_0.875_vstill_HOh1_l2w1o1_I_SO7-S20-0.5_S_3.00_230509_114517_0.png\n",
      "INFO: Exported //cfs2e.nist.gov/642/internal/3D Printing Lab/Shopbot/videos\\SDT\\SO_S20-0.5\\I_SO7-S20-0.5_S_3.00\\I_SO7-S20-0.5_S_3.00_v2_230509\\disturbHoriz3_1_0.875\\disturbHoriz3_1_0.875_vstill_HOh1_l2w1o2_I_SO7-S20-0.5_S_3.00_230509_114517_0.png\n",
      "INFO: Exported //cfs2e.nist.gov/642/internal/3D Printing Lab/Shopbot/videos\\SDT\\SO_S20-0.5\\I_SO7-S20-0.5_S_3.00\\I_SO7-S20-0.5_S_3.00_v2_230509\\disturbHoriz3_1_0.875\\disturbHoriz3_1_0.875_vstill_HOh1_l2w1o3_I_SO7-S20-0.5_S_3.00_230509_114517_0.png\n",
      "INFO: Exported //cfs2e.nist.gov/642/internal/3D Printing Lab/Shopbot/videos\\SDT\\SO_S20-0.5\\I_SO7-S20-0.5_S_3.00\\I_SO7-S20-0.5_S_3.00_v2_230509\\disturbHoriz3_1_0.875\\disturbHoriz3_1_0.875_vstill_HOh1_l2w1o4_I_SO7-S20-0.5_S_3.00_230509_114517_0.png\n",
      "INFO: Exported //cfs2e.nist.gov/642/internal/3D Printing Lab/Shopbot/videos\\SDT\\SO_S20-0.5\\I_SO7-S20-0.5_S_3.00\\I_SO7-S20-0.5_S_3.00_v2_230509\\disturbHoriz3_1_0.875\\disturbHoriz3_1_0.875_vstill_HOh1_l2w1o5_I_SO7-S20-0.5_S_3.00_230509_114517_0.png\n",
      "INFO: Exported //cfs2e.nist.gov/642/internal/3D Printing Lab/Shopbot/videos\\SDT\\SO_S20-0.5\\I_SO7-S20-0.5_S_3.00\\I_SO7-S20-0.5_S_3.00_v2_230509\\disturbHoriz3_1_0.875\\disturbHoriz3_1_0.875_vstill_HOh1_l2w1o6_I_SO7-S20-0.5_S_3.00_230509_114517_0.png\n",
      "INFO: Exported //cfs2e.nist.gov/642/internal/3D Printing Lab/Shopbot/videos\\SDT\\SO_S20-0.5\\I_SO7-S20-0.5_S_3.00\\I_SO7-S20-0.5_S_3.00_v2_230509\\disturbHoriz3_1_0.875\\disturbHoriz3_1_0.875_vstill_HOh1_l2w1o7_I_SO7-S20-0.5_S_3.00_230509_114517_0.png\n",
      "INFO: Exported //cfs2e.nist.gov/642/internal/3D Printing Lab/Shopbot/videos\\SDT\\SO_S20-0.5\\I_SO7-S20-0.5_S_3.00\\I_SO7-S20-0.5_S_3.00_v2_230509\\disturbHoriz3_1_0.875\\disturbHoriz3_1_0.875_vstill_HOh1_l2w1o8_I_SO7-S20-0.5_S_3.00_230509_114517_0.png\n",
      "INFO: Exported //cfs2e.nist.gov/642/internal/3D Printing Lab/Shopbot/videos\\SDT\\SO_S20-0.5\\I_SO7-S20-0.5_S_3.00\\I_SO7-S20-0.5_S_3.00_v2_230509\\disturbHoriz3_1_0.875\\disturbHoriz3_1_0.875_vstill_HOh1_l2d1p1_I_SO7-S20-0.5_S_3.00_230509_114517_0.png\n",
      "INFO: Exported //cfs2e.nist.gov/642/internal/3D Printing Lab/Shopbot/videos\\SDT\\SO_S20-0.5\\I_SO7-S20-0.5_S_3.00\\I_SO7-S20-0.5_S_3.00_v2_230509\\disturbHoriz3_1_0.875\\disturbHoriz3_1_0.875_vstill_HOh1_l2d1p2_I_SO7-S20-0.5_S_3.00_230509_114517_0.png\n",
      "INFO: Exported //cfs2e.nist.gov/642/internal/3D Printing Lab/Shopbot/videos\\SDT\\SO_S20-0.5\\I_SO7-S20-0.5_S_3.00\\I_SO7-S20-0.5_S_3.00_v2_230509\\disturbHoriz3_1_0.875\\disturbHoriz3_1_0.875_vstill_HOh1_l2d1p3_I_SO7-S20-0.5_S_3.00_230509_114517_0.png\n",
      "INFO: Exported //cfs2e.nist.gov/642/internal/3D Printing Lab/Shopbot/videos\\SDT\\SO_S20-0.5\\I_SO7-S20-0.5_S_3.00\\I_SO7-S20-0.5_S_3.00_v2_230509\\disturbHoriz3_1_0.875\\disturbHoriz3_1_0.875_vstill_HOh1_l2d1p4_I_SO7-S20-0.5_S_3.00_230509_114517_0.png\n",
      "INFO: Exported //cfs2e.nist.gov/642/internal/3D Printing Lab/Shopbot/videos\\SDT\\SO_S20-0.5\\I_SO7-S20-0.5_S_3.00\\I_SO7-S20-0.5_S_3.00_v2_230509\\disturbHoriz3_1_0.875\\disturbHoriz3_1_0.875_vstill_HOh1_l2d1p5_I_SO7-S20-0.5_S_3.00_230509_114517_0.png\n",
      "INFO: Exported //cfs2e.nist.gov/642/internal/3D Printing Lab/Shopbot/videos\\SDT\\SO_S20-0.5\\I_SO7-S20-0.5_S_3.00\\I_SO7-S20-0.5_S_3.00_v2_230509\\disturbHoriz3_1_0.875\\disturbHoriz3_1_0.875_vstill_HOh1_l2d1o1_I_SO7-S20-0.5_S_3.00_230509_114517_0.png\n",
      "INFO: Exported //cfs2e.nist.gov/642/internal/3D Printing Lab/Shopbot/videos\\SDT\\SO_S20-0.5\\I_SO7-S20-0.5_S_3.00\\I_SO7-S20-0.5_S_3.00_v2_230509\\disturbHoriz3_1_0.875\\disturbHoriz3_1_0.875_vstill_HOh1_l2d1o2_I_SO7-S20-0.5_S_3.00_230509_114517_0.png\n",
      "INFO: Exported //cfs2e.nist.gov/642/internal/3D Printing Lab/Shopbot/videos\\SDT\\SO_S20-0.5\\I_SO7-S20-0.5_S_3.00\\I_SO7-S20-0.5_S_3.00_v2_230509\\disturbHoriz3_1_0.875\\disturbHoriz3_1_0.875_vstill_HOh1_l2d1o3_I_SO7-S20-0.5_S_3.00_230509_114517_0.png\n",
      "INFO: Exported //cfs2e.nist.gov/642/internal/3D Printing Lab/Shopbot/videos\\SDT\\SO_S20-0.5\\I_SO7-S20-0.5_S_3.00\\I_SO7-S20-0.5_S_3.00_v2_230509\\disturbHoriz3_1_0.875\\disturbHoriz3_1_0.875_vstill_HOh1_l2d1o4_I_SO7-S20-0.5_S_3.00_230509_114517_0.png\n",
      "INFO: Exported //cfs2e.nist.gov/642/internal/3D Printing Lab/Shopbot/videos\\SDT\\SO_S20-0.5\\I_SO7-S20-0.5_S_3.00\\I_SO7-S20-0.5_S_3.00_v2_230509\\disturbHoriz3_1_0.875\\disturbHoriz3_1_0.875_vstill_HOh1_l2d1o5_I_SO7-S20-0.5_S_3.00_230509_114517_0.png\n",
      "INFO: Exported //cfs2e.nist.gov/642/internal/3D Printing Lab/Shopbot/videos\\SDT\\SO_S20-0.5\\I_SO7-S20-0.5_S_3.00\\I_SO7-S20-0.5_S_3.00_v2_230509\\disturbHoriz3_1_0.875\\disturbHoriz3_1_0.875_vstill_HOh1_l2d1o6_I_SO7-S20-0.5_S_3.00_230509_114517_0.png\n",
      "INFO: Exported //cfs2e.nist.gov/642/internal/3D Printing Lab/Shopbot/videos\\SDT\\SO_S20-0.5\\I_SO7-S20-0.5_S_3.00\\I_SO7-S20-0.5_S_3.00_v2_230509\\disturbHoriz3_1_0.875\\disturbHoriz3_1_0.875_vstill_HOh1_l2d1o7_I_SO7-S20-0.5_S_3.00_230509_114517_0.png\n",
      "INFO: Exported //cfs2e.nist.gov/642/internal/3D Printing Lab/Shopbot/videos\\SDT\\SO_S20-0.5\\I_SO7-S20-0.5_S_3.00\\I_SO7-S20-0.5_S_3.00_v2_230509\\disturbHoriz3_1_0.875\\disturbHoriz3_1_0.875_vstill_HOh1_l2d1o8_I_SO7-S20-0.5_S_3.00_230509_114517_0.png\n",
      "INFO: Exported //cfs2e.nist.gov/642/internal/3D Printing Lab/Shopbot/videos\\SDT\\SO_S20-0.5\\I_SO7-S20-0.5_S_3.00\\I_SO7-S20-0.5_S_3.00_v2_230509\\disturbHoriz3_1_0.875\\disturbHoriz3_1_0.875_vstill_HOh1_l3w1p1_I_SO7-S20-0.5_S_3.00_230509_114517_0.png\n",
      "INFO: Exported //cfs2e.nist.gov/642/internal/3D Printing Lab/Shopbot/videos\\SDT\\SO_S20-0.5\\I_SO7-S20-0.5_S_3.00\\I_SO7-S20-0.5_S_3.00_v2_230509\\disturbHoriz3_1_0.875\\disturbHoriz3_1_0.875_vstill_HOh1_l3w1p2_I_SO7-S20-0.5_S_3.00_230509_114517_0.png\n",
      "INFO: Exported //cfs2e.nist.gov/642/internal/3D Printing Lab/Shopbot/videos\\SDT\\SO_S20-0.5\\I_SO7-S20-0.5_S_3.00\\I_SO7-S20-0.5_S_3.00_v2_230509\\disturbHoriz3_1_0.875\\disturbHoriz3_1_0.875_vstill_HOh1_l3w1p3_I_SO7-S20-0.5_S_3.00_230509_114517_0.png\n",
      "INFO: Exported //cfs2e.nist.gov/642/internal/3D Printing Lab/Shopbot/videos\\SDT\\SO_S20-0.5\\I_SO7-S20-0.5_S_3.00\\I_SO7-S20-0.5_S_3.00_v2_230509\\disturbHoriz3_1_0.875\\disturbHoriz3_1_0.875_vstill_HOh1_l3w1p4_I_SO7-S20-0.5_S_3.00_230509_114517_0.png\n",
      "INFO: Exported //cfs2e.nist.gov/642/internal/3D Printing Lab/Shopbot/videos\\SDT\\SO_S20-0.5\\I_SO7-S20-0.5_S_3.00\\I_SO7-S20-0.5_S_3.00_v2_230509\\disturbHoriz3_1_0.875\\disturbHoriz3_1_0.875_vstill_HOh1_l3w1p5_I_SO7-S20-0.5_S_3.00_230509_114517_0.png\n",
      "INFO: Exported //cfs2e.nist.gov/642/internal/3D Printing Lab/Shopbot/videos\\SDT\\SO_S20-0.5\\I_SO7-S20-0.5_S_3.00\\I_SO7-S20-0.5_S_3.00_v2_230509\\disturbHoriz3_1_0.875\\disturbHoriz3_1_0.875_vstill_HOh1_l3w1o1_I_SO7-S20-0.5_S_3.00_230509_114517_0.png\n",
      "INFO: Exported //cfs2e.nist.gov/642/internal/3D Printing Lab/Shopbot/videos\\SDT\\SO_S20-0.5\\I_SO7-S20-0.5_S_3.00\\I_SO7-S20-0.5_S_3.00_v2_230509\\disturbHoriz3_1_0.875\\disturbHoriz3_1_0.875_vstill_HOh1_l3w1o2_I_SO7-S20-0.5_S_3.00_230509_114517_0.png\n",
      "INFO: Exported //cfs2e.nist.gov/642/internal/3D Printing Lab/Shopbot/videos\\SDT\\SO_S20-0.5\\I_SO7-S20-0.5_S_3.00\\I_SO7-S20-0.5_S_3.00_v2_230509\\disturbHoriz3_1_0.875\\disturbHoriz3_1_0.875_vstill_HOh1_l3w1o3_I_SO7-S20-0.5_S_3.00_230509_114517_0.png\n",
      "INFO: Exported //cfs2e.nist.gov/642/internal/3D Printing Lab/Shopbot/videos\\SDT\\SO_S20-0.5\\I_SO7-S20-0.5_S_3.00\\I_SO7-S20-0.5_S_3.00_v2_230509\\disturbHoriz3_1_0.875\\disturbHoriz3_1_0.875_vstill_HOh1_l3w1o4_I_SO7-S20-0.5_S_3.00_230509_114517_0.png\n",
      "INFO: Exported //cfs2e.nist.gov/642/internal/3D Printing Lab/Shopbot/videos\\SDT\\SO_S20-0.5\\I_SO7-S20-0.5_S_3.00\\I_SO7-S20-0.5_S_3.00_v2_230509\\disturbHoriz3_1_0.875\\disturbHoriz3_1_0.875_vstill_HOh1_l3w1o5_I_SO7-S20-0.5_S_3.00_230509_114517_0.png\n",
      "INFO: Exported //cfs2e.nist.gov/642/internal/3D Printing Lab/Shopbot/videos\\SDT\\SO_S20-0.5\\I_SO7-S20-0.5_S_3.00\\I_SO7-S20-0.5_S_3.00_v2_230509\\disturbHoriz3_1_0.875\\disturbHoriz3_1_0.875_vstill_HOh1_l3w1o6_I_SO7-S20-0.5_S_3.00_230509_114517_0.png\n",
      "INFO: Exported //cfs2e.nist.gov/642/internal/3D Printing Lab/Shopbot/videos\\SDT\\SO_S20-0.5\\I_SO7-S20-0.5_S_3.00\\I_SO7-S20-0.5_S_3.00_v2_230509\\disturbHoriz3_1_0.875\\disturbHoriz3_1_0.875_vstill_HOh1_l3w1o7_I_SO7-S20-0.5_S_3.00_230509_114517_0.png\n",
      "INFO: Exported //cfs2e.nist.gov/642/internal/3D Printing Lab/Shopbot/videos\\SDT\\SO_S20-0.5\\I_SO7-S20-0.5_S_3.00\\I_SO7-S20-0.5_S_3.00_v2_230509\\disturbHoriz3_1_0.875\\disturbHoriz3_1_0.875_vstill_HOh1_l3w1o8_I_SO7-S20-0.5_S_3.00_230509_114517_0.png\n",
      "INFO: Exported //cfs2e.nist.gov/642/internal/3D Printing Lab/Shopbot/videos\\SDT\\SO_S20-0.5\\I_SO7-S20-0.5_S_3.00\\I_SO7-S20-0.5_S_3.00_v2_230509\\disturbHoriz3_1_0.875\\disturbHoriz3_1_0.875_vstill_HOh1_l3d1p1_I_SO7-S20-0.5_S_3.00_230509_114517_0.png\n",
      "INFO: Exported //cfs2e.nist.gov/642/internal/3D Printing Lab/Shopbot/videos\\SDT\\SO_S20-0.5\\I_SO7-S20-0.5_S_3.00\\I_SO7-S20-0.5_S_3.00_v2_230509\\disturbHoriz3_1_0.875\\disturbHoriz3_1_0.875_vstill_HOh1_l3d1p2_I_SO7-S20-0.5_S_3.00_230509_114517_0.png\n",
      "INFO: Exported //cfs2e.nist.gov/642/internal/3D Printing Lab/Shopbot/videos\\SDT\\SO_S20-0.5\\I_SO7-S20-0.5_S_3.00\\I_SO7-S20-0.5_S_3.00_v2_230509\\disturbHoriz3_1_0.875\\disturbHoriz3_1_0.875_vstill_HOh1_l3d1p3_I_SO7-S20-0.5_S_3.00_230509_114517_0.png\n",
      "INFO: Exported //cfs2e.nist.gov/642/internal/3D Printing Lab/Shopbot/videos\\SDT\\SO_S20-0.5\\I_SO7-S20-0.5_S_3.00\\I_SO7-S20-0.5_S_3.00_v2_230509\\disturbHoriz3_1_0.875\\disturbHoriz3_1_0.875_vstill_HOh1_l3d1p4_I_SO7-S20-0.5_S_3.00_230509_114517_0.png\n",
      "INFO: Exported //cfs2e.nist.gov/642/internal/3D Printing Lab/Shopbot/videos\\SDT\\SO_S20-0.5\\I_SO7-S20-0.5_S_3.00\\I_SO7-S20-0.5_S_3.00_v2_230509\\disturbHoriz3_1_0.875\\disturbHoriz3_1_0.875_vstill_HOh1_l3d1p5_I_SO7-S20-0.5_S_3.00_230509_114517_0.png\n",
      "INFO: Exported //cfs2e.nist.gov/642/internal/3D Printing Lab/Shopbot/videos\\SDT\\SO_S20-0.5\\I_SO7-S20-0.5_S_3.00\\I_SO7-S20-0.5_S_3.00_v2_230509\\disturbHoriz3_1_0.875\\disturbHoriz3_1_0.875_vstill_HOh1_l3d1o1_I_SO7-S20-0.5_S_3.00_230509_114517_0.png\n",
      "INFO: Exported //cfs2e.nist.gov/642/internal/3D Printing Lab/Shopbot/videos\\SDT\\SO_S20-0.5\\I_SO7-S20-0.5_S_3.00\\I_SO7-S20-0.5_S_3.00_v2_230509\\disturbHoriz3_1_0.875\\disturbHoriz3_1_0.875_vstill_HOh1_l3d1o2_I_SO7-S20-0.5_S_3.00_230509_114517_0.png\n",
      "INFO: Exported //cfs2e.nist.gov/642/internal/3D Printing Lab/Shopbot/videos\\SDT\\SO_S20-0.5\\I_SO7-S20-0.5_S_3.00\\I_SO7-S20-0.5_S_3.00_v2_230509\\disturbHoriz3_1_0.875\\disturbHoriz3_1_0.875_vstill_HOh1_l3d1o3_I_SO7-S20-0.5_S_3.00_230509_114517_0.png\n",
      "INFO: Exported //cfs2e.nist.gov/642/internal/3D Printing Lab/Shopbot/videos\\SDT\\SO_S20-0.5\\I_SO7-S20-0.5_S_3.00\\I_SO7-S20-0.5_S_3.00_v2_230509\\disturbHoriz3_1_0.875\\disturbHoriz3_1_0.875_vstill_HOh1_l3d1o4_I_SO7-S20-0.5_S_3.00_230509_114517_0.png\n",
      "INFO: Exported //cfs2e.nist.gov/642/internal/3D Printing Lab/Shopbot/videos\\SDT\\SO_S20-0.5\\I_SO7-S20-0.5_S_3.00\\I_SO7-S20-0.5_S_3.00_v2_230509\\disturbHoriz3_1_0.875\\disturbHoriz3_1_0.875_vstill_HOh1_l3d1o5_I_SO7-S20-0.5_S_3.00_230509_114517_0.png\n",
      "INFO: Exported //cfs2e.nist.gov/642/internal/3D Printing Lab/Shopbot/videos\\SDT\\SO_S20-0.5\\I_SO7-S20-0.5_S_3.00\\I_SO7-S20-0.5_S_3.00_v2_230509\\disturbHoriz3_1_0.875\\disturbHoriz3_1_0.875_vstill_HOh1_l3d1o6_I_SO7-S20-0.5_S_3.00_230509_114517_0.png\n",
      "INFO: Exported //cfs2e.nist.gov/642/internal/3D Printing Lab/Shopbot/videos\\SDT\\SO_S20-0.5\\I_SO7-S20-0.5_S_3.00\\I_SO7-S20-0.5_S_3.00_v2_230509\\disturbHoriz3_1_0.875\\disturbHoriz3_1_0.875_vstill_HOh1_l3d1o7_I_SO7-S20-0.5_S_3.00_230509_114517_0.png\n",
      "INFO: Exported //cfs2e.nist.gov/642/internal/3D Printing Lab/Shopbot/videos\\SDT\\SO_S20-0.5\\I_SO7-S20-0.5_S_3.00\\I_SO7-S20-0.5_S_3.00_v2_230509\\disturbHoriz3_1_0.875\\disturbHoriz3_1_0.875_vstill_HOh1_l3d1o8_I_SO7-S20-0.5_S_3.00_230509_114517_0.png\n",
      "INFO: Exported //cfs2e.nist.gov/642/internal/3D Printing Lab/Shopbot/videos\\SDT\\SO_S20-0.5\\I_SO7-S20-0.5_S_3.00\\I_SO7-S20-0.5_S_3.00_v2_230509\\disturbHoriz3_1_0.875\\disturbHoriz3_1_0.875_vidStats_I_SO7-S20-0.5_S_3.00_230509_114517_0.csv\n"
     ]
    },
    {
     "data": {
      "text/plain": [
       "[]"
      ]
     },
     "execution_count": 76,
     "metadata": {},
     "output_type": "execute_result"
    }
   ],
   "source": [
    "folder = os.path.join(cfg.path.server, r'SDT\\SO_S20-0.5\\I_SO7-S20-0.5_S_3.00\\I_SO7-S20-0.5_S_3.00_v2_230509\\disturbHoriz3_1_0.875')\n",
    "st = vt.setManualStillTime(folder, dstart=0.3)\n",
    "errorList = st.run()\n",
    "errorList"
   ]
  },
  {
   "cell_type": "markdown",
   "id": "fb954c1c",
   "metadata": {
    "tags": []
   },
   "source": [
    "### get programmed dimension"
   ]
  },
  {
   "cell_type": "code",
   "execution_count": null,
   "id": "bf488751",
   "metadata": {
    "tags": []
   },
   "outputs": [],
   "source": [
    "epg = pg.exportAllDimsRecursive(os.path.join(cfg.path.server, r'SDT'), overwrite=False)"
   ]
  }
 ],
 "metadata": {
  "kernelspec": {
   "display_name": "Python 3 (ipykernel)",
   "language": "python",
   "name": "python3"
  },
  "language_info": {
   "codemirror_mode": {
    "name": "ipython",
    "version": 3
   },
   "file_extension": ".py",
   "mimetype": "text/x-python",
   "name": "python",
   "nbconvert_exporter": "python",
   "pygments_lexer": "ipython3",
   "version": "3.8.3"
  }
 },
 "nbformat": 4,
 "nbformat_minor": 5
}
