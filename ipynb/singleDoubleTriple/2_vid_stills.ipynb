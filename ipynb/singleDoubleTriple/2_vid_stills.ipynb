{
 "cells": [
  {
   "cell_type": "markdown",
   "id": "f3abcb5b",
   "metadata": {},
   "source": [
    "# Making stills of singleDoubleTriple lines"
   ]
  },
  {
   "cell_type": "markdown",
   "id": "11f935f6",
   "metadata": {},
   "source": [
    "## Initialization"
   ]
  },
  {
   "cell_type": "code",
   "execution_count": 2,
   "id": "efacb63a",
   "metadata": {
    "tags": []
   },
   "outputs": [],
   "source": [
    "%load_ext autoreload\n",
    "%autoreload 2\n",
    "LOGGERDEFINED = False"
   ]
  },
  {
   "cell_type": "code",
   "execution_count": 3,
   "id": "662da04e",
   "metadata": {},
   "outputs": [],
   "source": [
    "import os\n",
    "import sys\n",
    "import numpy as np\n",
    "import matplotlib.pyplot as plt\n",
    "module_path = os.path.abspath(os.path.join('..'))\n",
    "sys.path.append(module_path)\n",
    "sys.path.append(os.path.dirname(module_path))\n",
    "from py.tools.config import cfg\n",
    "import py.tools.logs as logs\n",
    "import py.vid.v_tools as vt\n",
    "import py.progDim.prog_dim as pg\n",
    "from py.im.imshow import imshow\n",
    "import py.file.file_handling as fh\n",
    "from py.val.v_pressure import pressureVals\n",
    "LOGGERDEFINED = logs.openLog('vidAnalysis.ipynb', LOGGERDEFINED, level='DEBUG', exportLog=False)"
   ]
  },
  {
   "cell_type": "markdown",
   "id": "80665a35-c6bf-4a3c-a6b1-d2f3e550e0b3",
   "metadata": {},
   "source": [
    "# export all progDims and stills"
   ]
  },
  {
   "cell_type": "code",
   "execution_count": 4,
   "id": "8a0635d9-7cec-4822-916e-7ccf2c5efc6d",
   "metadata": {
    "tags": []
   },
   "outputs": [
    {
     "name": "stdout",
     "output_type": "stream",
     "text": [
      "INFO: Exported //cfs2e.nist.gov/642/internal/3D Printing Lab/Shopbot/videos\\SDT\\SO_S20-0.5\\I_SO6-S20-0.5_S_4.00\\I_SO6-S20-0.5_S_4.00_230215\\disturbHoriz3_3_0.875\\disturbHoriz3_3_0.875_vstill_HOh3_l0w3p2_I_SO6-S20-0.5_S_4.00_230215_184631_5.png\n"
     ]
    },
    {
     "data": {
      "text/plain": [
       "[]"
      ]
     },
     "execution_count": 4,
     "metadata": {},
     "output_type": "execute_result"
    }
   ],
   "source": [
    "folder = os.path.join(cfg.path.server, r'SDT\\SO_S20-0.5\\I_SO6-S20-0.5_S_4.00\\I_SO6-S20-0.5_S_4.00_230215\\disturbHoriz3_3_0.875')\n",
    "se = vt.stillsExporter(folder, overwritePics=False, overwriteDims=False, exportDiag=1, printTraceback=True)\n",
    "se.run()"
   ]
  },
  {
   "cell_type": "markdown",
   "id": "20168678-0eaf-4cac-a7e8-de033d703dc5",
   "metadata": {},
   "source": [
    "# manually set still time offset"
   ]
  },
  {
   "cell_type": "code",
   "execution_count": 76,
   "id": "aff95068",
   "metadata": {
    "collapsed": true,
    "jupyter": {
     "outputs_hidden": true
    },
    "tags": []
   },
   "outputs": [
    {
     "name": "stdout",
     "output_type": "stream",
     "text": [
      "INFO: Exported //cfs2e.nist.gov/642/internal/3D Printing Lab/Shopbot/videos\\SDT\\SO_S20-0.5\\I_SO7-S20-0.5_S_3.00\\I_SO7-S20-0.5_S_3.00_v2_230509\\disturbHoriz3_1_0.875\\disturbHoriz3_1_0.875_vidStats_I_SO7-S20-0.5_S_3.00_230509_114517_0.csv\n",
      "INFO: Exported //cfs2e.nist.gov/642/internal/3D Printing Lab/Shopbot/videos\\SDT\\SO_S20-0.5\\I_SO7-S20-0.5_S_3.00\\I_SO7-S20-0.5_S_3.00_v2_230509\\disturbHoriz3_1_0.875\\disturbHoriz3_1_0.875_vstill_HOh1_l0w1p1_I_SO7-S20-0.5_S_3.00_230509_114517_0.png\n",
      "INFO: Exported //cfs2e.nist.gov/642/internal/3D Printing Lab/Shopbot/videos\\SDT\\SO_S20-0.5\\I_SO7-S20-0.5_S_3.00\\I_SO7-S20-0.5_S_3.00_v2_230509\\disturbHoriz3_1_0.875\\disturbHoriz3_1_0.875_vstill_HOh1_l0w1p2_I_SO7-S20-0.5_S_3.00_230509_114517_0.png\n",
      "INFO: Exported //cfs2e.nist.gov/642/internal/3D Printing Lab/Shopbot/videos\\SDT\\SO_S20-0.5\\I_SO7-S20-0.5_S_3.00\\I_SO7-S20-0.5_S_3.00_v2_230509\\disturbHoriz3_1_0.875\\disturbHoriz3_1_0.875_vstill_HOh1_l0w1p3_I_SO7-S20-0.5_S_3.00_230509_114517_0.png\n",
      "INFO: Exported //cfs2e.nist.gov/642/internal/3D Printing Lab/Shopbot/videos\\SDT\\SO_S20-0.5\\I_SO7-S20-0.5_S_3.00\\I_SO7-S20-0.5_S_3.00_v2_230509\\disturbHoriz3_1_0.875\\disturbHoriz3_1_0.875_vstill_HOh1_l0w1p4_I_SO7-S20-0.5_S_3.00_230509_114517_0.png\n",
      "INFO: Exported //cfs2e.nist.gov/642/internal/3D Printing Lab/Shopbot/videos\\SDT\\SO_S20-0.5\\I_SO7-S20-0.5_S_3.00\\I_SO7-S20-0.5_S_3.00_v2_230509\\disturbHoriz3_1_0.875\\disturbHoriz3_1_0.875_vstill_HOh1_l0w1p5_I_SO7-S20-0.5_S_3.00_230509_114517_0.png\n",
      "INFO: Exported //cfs2e.nist.gov/642/internal/3D Printing Lab/Shopbot/videos\\SDT\\SO_S20-0.5\\I_SO7-S20-0.5_S_3.00\\I_SO7-S20-0.5_S_3.00_v2_230509\\disturbHoriz3_1_0.875\\disturbHoriz3_1_0.875_vstill_HOh1_l0w1o1_I_SO7-S20-0.5_S_3.00_230509_114517_0.png\n",
      "INFO: Exported //cfs2e.nist.gov/642/internal/3D Printing Lab/Shopbot/videos\\SDT\\SO_S20-0.5\\I_SO7-S20-0.5_S_3.00\\I_SO7-S20-0.5_S_3.00_v2_230509\\disturbHoriz3_1_0.875\\disturbHoriz3_1_0.875_vstill_HOh1_l0w1o2_I_SO7-S20-0.5_S_3.00_230509_114517_0.png\n",
      "INFO: Exported //cfs2e.nist.gov/642/internal/3D Printing Lab/Shopbot/videos\\SDT\\SO_S20-0.5\\I_SO7-S20-0.5_S_3.00\\I_SO7-S20-0.5_S_3.00_v2_230509\\disturbHoriz3_1_0.875\\disturbHoriz3_1_0.875_vstill_HOh1_l0w1o3_I_SO7-S20-0.5_S_3.00_230509_114517_0.png\n",
      "INFO: Exported //cfs2e.nist.gov/642/internal/3D Printing Lab/Shopbot/videos\\SDT\\SO_S20-0.5\\I_SO7-S20-0.5_S_3.00\\I_SO7-S20-0.5_S_3.00_v2_230509\\disturbHoriz3_1_0.875\\disturbHoriz3_1_0.875_vstill_HOh1_l0w1o4_I_SO7-S20-0.5_S_3.00_230509_114517_0.png\n",
      "INFO: Exported //cfs2e.nist.gov/642/internal/3D Printing Lab/Shopbot/videos\\SDT\\SO_S20-0.5\\I_SO7-S20-0.5_S_3.00\\I_SO7-S20-0.5_S_3.00_v2_230509\\disturbHoriz3_1_0.875\\disturbHoriz3_1_0.875_vstill_HOh1_l0w1o5_I_SO7-S20-0.5_S_3.00_230509_114517_0.png\n",
      "INFO: Exported //cfs2e.nist.gov/642/internal/3D Printing Lab/Shopbot/videos\\SDT\\SO_S20-0.5\\I_SO7-S20-0.5_S_3.00\\I_SO7-S20-0.5_S_3.00_v2_230509\\disturbHoriz3_1_0.875\\disturbHoriz3_1_0.875_vstill_HOh1_l0w1o6_I_SO7-S20-0.5_S_3.00_230509_114517_0.png\n",
      "INFO: Exported //cfs2e.nist.gov/642/internal/3D Printing Lab/Shopbot/videos\\SDT\\SO_S20-0.5\\I_SO7-S20-0.5_S_3.00\\I_SO7-S20-0.5_S_3.00_v2_230509\\disturbHoriz3_1_0.875\\disturbHoriz3_1_0.875_vstill_HOh1_l0w1o7_I_SO7-S20-0.5_S_3.00_230509_114517_0.png\n",
      "INFO: Exported //cfs2e.nist.gov/642/internal/3D Printing Lab/Shopbot/videos\\SDT\\SO_S20-0.5\\I_SO7-S20-0.5_S_3.00\\I_SO7-S20-0.5_S_3.00_v2_230509\\disturbHoriz3_1_0.875\\disturbHoriz3_1_0.875_vstill_HOh1_l0w1o8_I_SO7-S20-0.5_S_3.00_230509_114517_0.png\n",
      "INFO: Exported //cfs2e.nist.gov/642/internal/3D Printing Lab/Shopbot/videos\\SDT\\SO_S20-0.5\\I_SO7-S20-0.5_S_3.00\\I_SO7-S20-0.5_S_3.00_v2_230509\\disturbHoriz3_1_0.875\\disturbHoriz3_1_0.875_vstill_HOh1_l0d1p1_I_SO7-S20-0.5_S_3.00_230509_114517_0.png\n",
      "INFO: Exported //cfs2e.nist.gov/642/internal/3D Printing Lab/Shopbot/videos\\SDT\\SO_S20-0.5\\I_SO7-S20-0.5_S_3.00\\I_SO7-S20-0.5_S_3.00_v2_230509\\disturbHoriz3_1_0.875\\disturbHoriz3_1_0.875_vstill_HOh1_l0d1p2_I_SO7-S20-0.5_S_3.00_230509_114517_0.png\n",
      "INFO: Exported //cfs2e.nist.gov/642/internal/3D Printing Lab/Shopbot/videos\\SDT\\SO_S20-0.5\\I_SO7-S20-0.5_S_3.00\\I_SO7-S20-0.5_S_3.00_v2_230509\\disturbHoriz3_1_0.875\\disturbHoriz3_1_0.875_vstill_HOh1_l0d1p3_I_SO7-S20-0.5_S_3.00_230509_114517_0.png\n",
      "INFO: Exported //cfs2e.nist.gov/642/internal/3D Printing Lab/Shopbot/videos\\SDT\\SO_S20-0.5\\I_SO7-S20-0.5_S_3.00\\I_SO7-S20-0.5_S_3.00_v2_230509\\disturbHoriz3_1_0.875\\disturbHoriz3_1_0.875_vstill_HOh1_l0d1p4_I_SO7-S20-0.5_S_3.00_230509_114517_0.png\n",
      "INFO: Exported //cfs2e.nist.gov/642/internal/3D Printing Lab/Shopbot/videos\\SDT\\SO_S20-0.5\\I_SO7-S20-0.5_S_3.00\\I_SO7-S20-0.5_S_3.00_v2_230509\\disturbHoriz3_1_0.875\\disturbHoriz3_1_0.875_vstill_HOh1_l0d1p5_I_SO7-S20-0.5_S_3.00_230509_114517_0.png\n",
      "INFO: Exported //cfs2e.nist.gov/642/internal/3D Printing Lab/Shopbot/videos\\SDT\\SO_S20-0.5\\I_SO7-S20-0.5_S_3.00\\I_SO7-S20-0.5_S_3.00_v2_230509\\disturbHoriz3_1_0.875\\disturbHoriz3_1_0.875_vstill_HOh1_l0d1o1_I_SO7-S20-0.5_S_3.00_230509_114517_0.png\n",
      "INFO: Exported //cfs2e.nist.gov/642/internal/3D Printing Lab/Shopbot/videos\\SDT\\SO_S20-0.5\\I_SO7-S20-0.5_S_3.00\\I_SO7-S20-0.5_S_3.00_v2_230509\\disturbHoriz3_1_0.875\\disturbHoriz3_1_0.875_vstill_HOh1_l0d1o2_I_SO7-S20-0.5_S_3.00_230509_114517_0.png\n",
      "INFO: Exported //cfs2e.nist.gov/642/internal/3D Printing Lab/Shopbot/videos\\SDT\\SO_S20-0.5\\I_SO7-S20-0.5_S_3.00\\I_SO7-S20-0.5_S_3.00_v2_230509\\disturbHoriz3_1_0.875\\disturbHoriz3_1_0.875_vstill_HOh1_l0d1o3_I_SO7-S20-0.5_S_3.00_230509_114517_0.png\n",
      "INFO: Exported //cfs2e.nist.gov/642/internal/3D Printing Lab/Shopbot/videos\\SDT\\SO_S20-0.5\\I_SO7-S20-0.5_S_3.00\\I_SO7-S20-0.5_S_3.00_v2_230509\\disturbHoriz3_1_0.875\\disturbHoriz3_1_0.875_vstill_HOh1_l0d1o4_I_SO7-S20-0.5_S_3.00_230509_114517_0.png\n",
      "INFO: Exported //cfs2e.nist.gov/642/internal/3D Printing Lab/Shopbot/videos\\SDT\\SO_S20-0.5\\I_SO7-S20-0.5_S_3.00\\I_SO7-S20-0.5_S_3.00_v2_230509\\disturbHoriz3_1_0.875\\disturbHoriz3_1_0.875_vstill_HOh1_l0d1o5_I_SO7-S20-0.5_S_3.00_230509_114517_0.png\n",
      "INFO: Exported //cfs2e.nist.gov/642/internal/3D Printing Lab/Shopbot/videos\\SDT\\SO_S20-0.5\\I_SO7-S20-0.5_S_3.00\\I_SO7-S20-0.5_S_3.00_v2_230509\\disturbHoriz3_1_0.875\\disturbHoriz3_1_0.875_vstill_HOh1_l0d1o6_I_SO7-S20-0.5_S_3.00_230509_114517_0.png\n",
      "INFO: Exported //cfs2e.nist.gov/642/internal/3D Printing Lab/Shopbot/videos\\SDT\\SO_S20-0.5\\I_SO7-S20-0.5_S_3.00\\I_SO7-S20-0.5_S_3.00_v2_230509\\disturbHoriz3_1_0.875\\disturbHoriz3_1_0.875_vstill_HOh1_l0d1o7_I_SO7-S20-0.5_S_3.00_230509_114517_0.png\n",
      "INFO: Exported //cfs2e.nist.gov/642/internal/3D Printing Lab/Shopbot/videos\\SDT\\SO_S20-0.5\\I_SO7-S20-0.5_S_3.00\\I_SO7-S20-0.5_S_3.00_v2_230509\\disturbHoriz3_1_0.875\\disturbHoriz3_1_0.875_vstill_HOh1_l0d1o8_I_SO7-S20-0.5_S_3.00_230509_114517_0.png\n",
      "INFO: Exported //cfs2e.nist.gov/642/internal/3D Printing Lab/Shopbot/videos\\SDT\\SO_S20-0.5\\I_SO7-S20-0.5_S_3.00\\I_SO7-S20-0.5_S_3.00_v2_230509\\disturbHoriz3_1_0.875\\disturbHoriz3_1_0.875_vstill_HOh1_l1w1p1_I_SO7-S20-0.5_S_3.00_230509_114517_0.png\n",
      "INFO: Exported //cfs2e.nist.gov/642/internal/3D Printing Lab/Shopbot/videos\\SDT\\SO_S20-0.5\\I_SO7-S20-0.5_S_3.00\\I_SO7-S20-0.5_S_3.00_v2_230509\\disturbHoriz3_1_0.875\\disturbHoriz3_1_0.875_vstill_HOh1_l1w1p2_I_SO7-S20-0.5_S_3.00_230509_114517_0.png\n",
      "INFO: Exported //cfs2e.nist.gov/642/internal/3D Printing Lab/Shopbot/videos\\SDT\\SO_S20-0.5\\I_SO7-S20-0.5_S_3.00\\I_SO7-S20-0.5_S_3.00_v2_230509\\disturbHoriz3_1_0.875\\disturbHoriz3_1_0.875_vstill_HOh1_l1w1p3_I_SO7-S20-0.5_S_3.00_230509_114517_0.png\n",
      "INFO: Exported //cfs2e.nist.gov/642/internal/3D Printing Lab/Shopbot/videos\\SDT\\SO_S20-0.5\\I_SO7-S20-0.5_S_3.00\\I_SO7-S20-0.5_S_3.00_v2_230509\\disturbHoriz3_1_0.875\\disturbHoriz3_1_0.875_vstill_HOh1_l1w1p4_I_SO7-S20-0.5_S_3.00_230509_114517_0.png\n",
      "INFO: Exported //cfs2e.nist.gov/642/internal/3D Printing Lab/Shopbot/videos\\SDT\\SO_S20-0.5\\I_SO7-S20-0.5_S_3.00\\I_SO7-S20-0.5_S_3.00_v2_230509\\disturbHoriz3_1_0.875\\disturbHoriz3_1_0.875_vstill_HOh1_l1w1p5_I_SO7-S20-0.5_S_3.00_230509_114517_0.png\n",
      "INFO: Exported //cfs2e.nist.gov/642/internal/3D Printing Lab/Shopbot/videos\\SDT\\SO_S20-0.5\\I_SO7-S20-0.5_S_3.00\\I_SO7-S20-0.5_S_3.00_v2_230509\\disturbHoriz3_1_0.875\\disturbHoriz3_1_0.875_vstill_HOh1_l1w1o1_I_SO7-S20-0.5_S_3.00_230509_114517_0.png\n",
      "INFO: Exported //cfs2e.nist.gov/642/internal/3D Printing Lab/Shopbot/videos\\SDT\\SO_S20-0.5\\I_SO7-S20-0.5_S_3.00\\I_SO7-S20-0.5_S_3.00_v2_230509\\disturbHoriz3_1_0.875\\disturbHoriz3_1_0.875_vstill_HOh1_l1w1o2_I_SO7-S20-0.5_S_3.00_230509_114517_0.png\n",
      "INFO: Exported //cfs2e.nist.gov/642/internal/3D Printing Lab/Shopbot/videos\\SDT\\SO_S20-0.5\\I_SO7-S20-0.5_S_3.00\\I_SO7-S20-0.5_S_3.00_v2_230509\\disturbHoriz3_1_0.875\\disturbHoriz3_1_0.875_vstill_HOh1_l1w1o3_I_SO7-S20-0.5_S_3.00_230509_114517_0.png\n",
      "INFO: Exported //cfs2e.nist.gov/642/internal/3D Printing Lab/Shopbot/videos\\SDT\\SO_S20-0.5\\I_SO7-S20-0.5_S_3.00\\I_SO7-S20-0.5_S_3.00_v2_230509\\disturbHoriz3_1_0.875\\disturbHoriz3_1_0.875_vstill_HOh1_l1w1o4_I_SO7-S20-0.5_S_3.00_230509_114517_0.png\n",
      "INFO: Exported //cfs2e.nist.gov/642/internal/3D Printing Lab/Shopbot/videos\\SDT\\SO_S20-0.5\\I_SO7-S20-0.5_S_3.00\\I_SO7-S20-0.5_S_3.00_v2_230509\\disturbHoriz3_1_0.875\\disturbHoriz3_1_0.875_vstill_HOh1_l1w1o5_I_SO7-S20-0.5_S_3.00_230509_114517_0.png\n",
      "INFO: Exported //cfs2e.nist.gov/642/internal/3D Printing Lab/Shopbot/videos\\SDT\\SO_S20-0.5\\I_SO7-S20-0.5_S_3.00\\I_SO7-S20-0.5_S_3.00_v2_230509\\disturbHoriz3_1_0.875\\disturbHoriz3_1_0.875_vstill_HOh1_l1w1o6_I_SO7-S20-0.5_S_3.00_230509_114517_0.png\n",
      "INFO: Exported //cfs2e.nist.gov/642/internal/3D Printing Lab/Shopbot/videos\\SDT\\SO_S20-0.5\\I_SO7-S20-0.5_S_3.00\\I_SO7-S20-0.5_S_3.00_v2_230509\\disturbHoriz3_1_0.875\\disturbHoriz3_1_0.875_vstill_HOh1_l1w1o7_I_SO7-S20-0.5_S_3.00_230509_114517_0.png\n",
      "INFO: Exported //cfs2e.nist.gov/642/internal/3D Printing Lab/Shopbot/videos\\SDT\\SO_S20-0.5\\I_SO7-S20-0.5_S_3.00\\I_SO7-S20-0.5_S_3.00_v2_230509\\disturbHoriz3_1_0.875\\disturbHoriz3_1_0.875_vstill_HOh1_l1w1o8_I_SO7-S20-0.5_S_3.00_230509_114517_0.png\n",
      "INFO: Exported //cfs2e.nist.gov/642/internal/3D Printing Lab/Shopbot/videos\\SDT\\SO_S20-0.5\\I_SO7-S20-0.5_S_3.00\\I_SO7-S20-0.5_S_3.00_v2_230509\\disturbHoriz3_1_0.875\\disturbHoriz3_1_0.875_vstill_HOh1_l1d1p1_I_SO7-S20-0.5_S_3.00_230509_114517_0.png\n",
      "INFO: Exported //cfs2e.nist.gov/642/internal/3D Printing Lab/Shopbot/videos\\SDT\\SO_S20-0.5\\I_SO7-S20-0.5_S_3.00\\I_SO7-S20-0.5_S_3.00_v2_230509\\disturbHoriz3_1_0.875\\disturbHoriz3_1_0.875_vstill_HOh1_l1d1p2_I_SO7-S20-0.5_S_3.00_230509_114517_0.png\n",
      "INFO: Exported //cfs2e.nist.gov/642/internal/3D Printing Lab/Shopbot/videos\\SDT\\SO_S20-0.5\\I_SO7-S20-0.5_S_3.00\\I_SO7-S20-0.5_S_3.00_v2_230509\\disturbHoriz3_1_0.875\\disturbHoriz3_1_0.875_vstill_HOh1_l1d1p3_I_SO7-S20-0.5_S_3.00_230509_114517_0.png\n",
      "INFO: Exported //cfs2e.nist.gov/642/internal/3D Printing Lab/Shopbot/videos\\SDT\\SO_S20-0.5\\I_SO7-S20-0.5_S_3.00\\I_SO7-S20-0.5_S_3.00_v2_230509\\disturbHoriz3_1_0.875\\disturbHoriz3_1_0.875_vstill_HOh1_l1d1p4_I_SO7-S20-0.5_S_3.00_230509_114517_0.png\n",
      "INFO: Exported //cfs2e.nist.gov/642/internal/3D Printing Lab/Shopbot/videos\\SDT\\SO_S20-0.5\\I_SO7-S20-0.5_S_3.00\\I_SO7-S20-0.5_S_3.00_v2_230509\\disturbHoriz3_1_0.875\\disturbHoriz3_1_0.875_vstill_HOh1_l1d1p5_I_SO7-S20-0.5_S_3.00_230509_114517_0.png\n",
      "INFO: Exported //cfs2e.nist.gov/642/internal/3D Printing Lab/Shopbot/videos\\SDT\\SO_S20-0.5\\I_SO7-S20-0.5_S_3.00\\I_SO7-S20-0.5_S_3.00_v2_230509\\disturbHoriz3_1_0.875\\disturbHoriz3_1_0.875_vstill_HOh1_l1d1o1_I_SO7-S20-0.5_S_3.00_230509_114517_0.png\n",
      "INFO: Exported //cfs2e.nist.gov/642/internal/3D Printing Lab/Shopbot/videos\\SDT\\SO_S20-0.5\\I_SO7-S20-0.5_S_3.00\\I_SO7-S20-0.5_S_3.00_v2_230509\\disturbHoriz3_1_0.875\\disturbHoriz3_1_0.875_vstill_HOh1_l1d1o2_I_SO7-S20-0.5_S_3.00_230509_114517_0.png\n",
      "INFO: Exported //cfs2e.nist.gov/642/internal/3D Printing Lab/Shopbot/videos\\SDT\\SO_S20-0.5\\I_SO7-S20-0.5_S_3.00\\I_SO7-S20-0.5_S_3.00_v2_230509\\disturbHoriz3_1_0.875\\disturbHoriz3_1_0.875_vstill_HOh1_l1d1o3_I_SO7-S20-0.5_S_3.00_230509_114517_0.png\n",
      "INFO: Exported //cfs2e.nist.gov/642/internal/3D Printing Lab/Shopbot/videos\\SDT\\SO_S20-0.5\\I_SO7-S20-0.5_S_3.00\\I_SO7-S20-0.5_S_3.00_v2_230509\\disturbHoriz3_1_0.875\\disturbHoriz3_1_0.875_vstill_HOh1_l1d1o4_I_SO7-S20-0.5_S_3.00_230509_114517_0.png\n",
      "INFO: Exported //cfs2e.nist.gov/642/internal/3D Printing Lab/Shopbot/videos\\SDT\\SO_S20-0.5\\I_SO7-S20-0.5_S_3.00\\I_SO7-S20-0.5_S_3.00_v2_230509\\disturbHoriz3_1_0.875\\disturbHoriz3_1_0.875_vstill_HOh1_l1d1o5_I_SO7-S20-0.5_S_3.00_230509_114517_0.png\n",
      "INFO: Exported //cfs2e.nist.gov/642/internal/3D Printing Lab/Shopbot/videos\\SDT\\SO_S20-0.5\\I_SO7-S20-0.5_S_3.00\\I_SO7-S20-0.5_S_3.00_v2_230509\\disturbHoriz3_1_0.875\\disturbHoriz3_1_0.875_vstill_HOh1_l1d1o6_I_SO7-S20-0.5_S_3.00_230509_114517_0.png\n",
      "INFO: Exported //cfs2e.nist.gov/642/internal/3D Printing Lab/Shopbot/videos\\SDT\\SO_S20-0.5\\I_SO7-S20-0.5_S_3.00\\I_SO7-S20-0.5_S_3.00_v2_230509\\disturbHoriz3_1_0.875\\disturbHoriz3_1_0.875_vstill_HOh1_l1d1o7_I_SO7-S20-0.5_S_3.00_230509_114517_0.png\n",
      "INFO: Exported //cfs2e.nist.gov/642/internal/3D Printing Lab/Shopbot/videos\\SDT\\SO_S20-0.5\\I_SO7-S20-0.5_S_3.00\\I_SO7-S20-0.5_S_3.00_v2_230509\\disturbHoriz3_1_0.875\\disturbHoriz3_1_0.875_vstill_HOh1_l1d1o8_I_SO7-S20-0.5_S_3.00_230509_114517_0.png\n",
      "INFO: Exported //cfs2e.nist.gov/642/internal/3D Printing Lab/Shopbot/videos\\SDT\\SO_S20-0.5\\I_SO7-S20-0.5_S_3.00\\I_SO7-S20-0.5_S_3.00_v2_230509\\disturbHoriz3_1_0.875\\disturbHoriz3_1_0.875_vstill_HOh1_l2w1p1_I_SO7-S20-0.5_S_3.00_230509_114517_0.png\n",
      "INFO: Exported //cfs2e.nist.gov/642/internal/3D Printing Lab/Shopbot/videos\\SDT\\SO_S20-0.5\\I_SO7-S20-0.5_S_3.00\\I_SO7-S20-0.5_S_3.00_v2_230509\\disturbHoriz3_1_0.875\\disturbHoriz3_1_0.875_vstill_HOh1_l2w1p2_I_SO7-S20-0.5_S_3.00_230509_114517_0.png\n",
      "INFO: Exported //cfs2e.nist.gov/642/internal/3D Printing Lab/Shopbot/videos\\SDT\\SO_S20-0.5\\I_SO7-S20-0.5_S_3.00\\I_SO7-S20-0.5_S_3.00_v2_230509\\disturbHoriz3_1_0.875\\disturbHoriz3_1_0.875_vstill_HOh1_l2w1p3_I_SO7-S20-0.5_S_3.00_230509_114517_0.png\n",
      "INFO: Exported //cfs2e.nist.gov/642/internal/3D Printing Lab/Shopbot/videos\\SDT\\SO_S20-0.5\\I_SO7-S20-0.5_S_3.00\\I_SO7-S20-0.5_S_3.00_v2_230509\\disturbHoriz3_1_0.875\\disturbHoriz3_1_0.875_vstill_HOh1_l2w1p4_I_SO7-S20-0.5_S_3.00_230509_114517_0.png\n",
      "INFO: Exported //cfs2e.nist.gov/642/internal/3D Printing Lab/Shopbot/videos\\SDT\\SO_S20-0.5\\I_SO7-S20-0.5_S_3.00\\I_SO7-S20-0.5_S_3.00_v2_230509\\disturbHoriz3_1_0.875\\disturbHoriz3_1_0.875_vstill_HOh1_l2w1p5_I_SO7-S20-0.5_S_3.00_230509_114517_0.png\n",
      "INFO: Exported //cfs2e.nist.gov/642/internal/3D Printing Lab/Shopbot/videos\\SDT\\SO_S20-0.5\\I_SO7-S20-0.5_S_3.00\\I_SO7-S20-0.5_S_3.00_v2_230509\\disturbHoriz3_1_0.875\\disturbHoriz3_1_0.875_vstill_HOh1_l2w1o1_I_SO7-S20-0.5_S_3.00_230509_114517_0.png\n",
      "INFO: Exported //cfs2e.nist.gov/642/internal/3D Printing Lab/Shopbot/videos\\SDT\\SO_S20-0.5\\I_SO7-S20-0.5_S_3.00\\I_SO7-S20-0.5_S_3.00_v2_230509\\disturbHoriz3_1_0.875\\disturbHoriz3_1_0.875_vstill_HOh1_l2w1o2_I_SO7-S20-0.5_S_3.00_230509_114517_0.png\n",
      "INFO: Exported //cfs2e.nist.gov/642/internal/3D Printing Lab/Shopbot/videos\\SDT\\SO_S20-0.5\\I_SO7-S20-0.5_S_3.00\\I_SO7-S20-0.5_S_3.00_v2_230509\\disturbHoriz3_1_0.875\\disturbHoriz3_1_0.875_vstill_HOh1_l2w1o3_I_SO7-S20-0.5_S_3.00_230509_114517_0.png\n",
      "INFO: Exported //cfs2e.nist.gov/642/internal/3D Printing Lab/Shopbot/videos\\SDT\\SO_S20-0.5\\I_SO7-S20-0.5_S_3.00\\I_SO7-S20-0.5_S_3.00_v2_230509\\disturbHoriz3_1_0.875\\disturbHoriz3_1_0.875_vstill_HOh1_l2w1o4_I_SO7-S20-0.5_S_3.00_230509_114517_0.png\n",
      "INFO: Exported //cfs2e.nist.gov/642/internal/3D Printing Lab/Shopbot/videos\\SDT\\SO_S20-0.5\\I_SO7-S20-0.5_S_3.00\\I_SO7-S20-0.5_S_3.00_v2_230509\\disturbHoriz3_1_0.875\\disturbHoriz3_1_0.875_vstill_HOh1_l2w1o5_I_SO7-S20-0.5_S_3.00_230509_114517_0.png\n",
      "INFO: Exported //cfs2e.nist.gov/642/internal/3D Printing Lab/Shopbot/videos\\SDT\\SO_S20-0.5\\I_SO7-S20-0.5_S_3.00\\I_SO7-S20-0.5_S_3.00_v2_230509\\disturbHoriz3_1_0.875\\disturbHoriz3_1_0.875_vstill_HOh1_l2w1o6_I_SO7-S20-0.5_S_3.00_230509_114517_0.png\n",
      "INFO: Exported //cfs2e.nist.gov/642/internal/3D Printing Lab/Shopbot/videos\\SDT\\SO_S20-0.5\\I_SO7-S20-0.5_S_3.00\\I_SO7-S20-0.5_S_3.00_v2_230509\\disturbHoriz3_1_0.875\\disturbHoriz3_1_0.875_vstill_HOh1_l2w1o7_I_SO7-S20-0.5_S_3.00_230509_114517_0.png\n",
      "INFO: Exported //cfs2e.nist.gov/642/internal/3D Printing Lab/Shopbot/videos\\SDT\\SO_S20-0.5\\I_SO7-S20-0.5_S_3.00\\I_SO7-S20-0.5_S_3.00_v2_230509\\disturbHoriz3_1_0.875\\disturbHoriz3_1_0.875_vstill_HOh1_l2w1o8_I_SO7-S20-0.5_S_3.00_230509_114517_0.png\n",
      "INFO: Exported //cfs2e.nist.gov/642/internal/3D Printing Lab/Shopbot/videos\\SDT\\SO_S20-0.5\\I_SO7-S20-0.5_S_3.00\\I_SO7-S20-0.5_S_3.00_v2_230509\\disturbHoriz3_1_0.875\\disturbHoriz3_1_0.875_vstill_HOh1_l2d1p1_I_SO7-S20-0.5_S_3.00_230509_114517_0.png\n",
      "INFO: Exported //cfs2e.nist.gov/642/internal/3D Printing Lab/Shopbot/videos\\SDT\\SO_S20-0.5\\I_SO7-S20-0.5_S_3.00\\I_SO7-S20-0.5_S_3.00_v2_230509\\disturbHoriz3_1_0.875\\disturbHoriz3_1_0.875_vstill_HOh1_l2d1p2_I_SO7-S20-0.5_S_3.00_230509_114517_0.png\n",
      "INFO: Exported //cfs2e.nist.gov/642/internal/3D Printing Lab/Shopbot/videos\\SDT\\SO_S20-0.5\\I_SO7-S20-0.5_S_3.00\\I_SO7-S20-0.5_S_3.00_v2_230509\\disturbHoriz3_1_0.875\\disturbHoriz3_1_0.875_vstill_HOh1_l2d1p3_I_SO7-S20-0.5_S_3.00_230509_114517_0.png\n",
      "INFO: Exported //cfs2e.nist.gov/642/internal/3D Printing Lab/Shopbot/videos\\SDT\\SO_S20-0.5\\I_SO7-S20-0.5_S_3.00\\I_SO7-S20-0.5_S_3.00_v2_230509\\disturbHoriz3_1_0.875\\disturbHoriz3_1_0.875_vstill_HOh1_l2d1p4_I_SO7-S20-0.5_S_3.00_230509_114517_0.png\n",
      "INFO: Exported //cfs2e.nist.gov/642/internal/3D Printing Lab/Shopbot/videos\\SDT\\SO_S20-0.5\\I_SO7-S20-0.5_S_3.00\\I_SO7-S20-0.5_S_3.00_v2_230509\\disturbHoriz3_1_0.875\\disturbHoriz3_1_0.875_vstill_HOh1_l2d1p5_I_SO7-S20-0.5_S_3.00_230509_114517_0.png\n",
      "INFO: Exported //cfs2e.nist.gov/642/internal/3D Printing Lab/Shopbot/videos\\SDT\\SO_S20-0.5\\I_SO7-S20-0.5_S_3.00\\I_SO7-S20-0.5_S_3.00_v2_230509\\disturbHoriz3_1_0.875\\disturbHoriz3_1_0.875_vstill_HOh1_l2d1o1_I_SO7-S20-0.5_S_3.00_230509_114517_0.png\n",
      "INFO: Exported //cfs2e.nist.gov/642/internal/3D Printing Lab/Shopbot/videos\\SDT\\SO_S20-0.5\\I_SO7-S20-0.5_S_3.00\\I_SO7-S20-0.5_S_3.00_v2_230509\\disturbHoriz3_1_0.875\\disturbHoriz3_1_0.875_vstill_HOh1_l2d1o2_I_SO7-S20-0.5_S_3.00_230509_114517_0.png\n",
      "INFO: Exported //cfs2e.nist.gov/642/internal/3D Printing Lab/Shopbot/videos\\SDT\\SO_S20-0.5\\I_SO7-S20-0.5_S_3.00\\I_SO7-S20-0.5_S_3.00_v2_230509\\disturbHoriz3_1_0.875\\disturbHoriz3_1_0.875_vstill_HOh1_l2d1o3_I_SO7-S20-0.5_S_3.00_230509_114517_0.png\n",
      "INFO: Exported //cfs2e.nist.gov/642/internal/3D Printing Lab/Shopbot/videos\\SDT\\SO_S20-0.5\\I_SO7-S20-0.5_S_3.00\\I_SO7-S20-0.5_S_3.00_v2_230509\\disturbHoriz3_1_0.875\\disturbHoriz3_1_0.875_vstill_HOh1_l2d1o4_I_SO7-S20-0.5_S_3.00_230509_114517_0.png\n",
      "INFO: Exported //cfs2e.nist.gov/642/internal/3D Printing Lab/Shopbot/videos\\SDT\\SO_S20-0.5\\I_SO7-S20-0.5_S_3.00\\I_SO7-S20-0.5_S_3.00_v2_230509\\disturbHoriz3_1_0.875\\disturbHoriz3_1_0.875_vstill_HOh1_l2d1o5_I_SO7-S20-0.5_S_3.00_230509_114517_0.png\n",
      "INFO: Exported //cfs2e.nist.gov/642/internal/3D Printing Lab/Shopbot/videos\\SDT\\SO_S20-0.5\\I_SO7-S20-0.5_S_3.00\\I_SO7-S20-0.5_S_3.00_v2_230509\\disturbHoriz3_1_0.875\\disturbHoriz3_1_0.875_vstill_HOh1_l2d1o6_I_SO7-S20-0.5_S_3.00_230509_114517_0.png\n",
      "INFO: Exported //cfs2e.nist.gov/642/internal/3D Printing Lab/Shopbot/videos\\SDT\\SO_S20-0.5\\I_SO7-S20-0.5_S_3.00\\I_SO7-S20-0.5_S_3.00_v2_230509\\disturbHoriz3_1_0.875\\disturbHoriz3_1_0.875_vstill_HOh1_l2d1o7_I_SO7-S20-0.5_S_3.00_230509_114517_0.png\n",
      "INFO: Exported //cfs2e.nist.gov/642/internal/3D Printing Lab/Shopbot/videos\\SDT\\SO_S20-0.5\\I_SO7-S20-0.5_S_3.00\\I_SO7-S20-0.5_S_3.00_v2_230509\\disturbHoriz3_1_0.875\\disturbHoriz3_1_0.875_vstill_HOh1_l2d1o8_I_SO7-S20-0.5_S_3.00_230509_114517_0.png\n",
      "INFO: Exported //cfs2e.nist.gov/642/internal/3D Printing Lab/Shopbot/videos\\SDT\\SO_S20-0.5\\I_SO7-S20-0.5_S_3.00\\I_SO7-S20-0.5_S_3.00_v2_230509\\disturbHoriz3_1_0.875\\disturbHoriz3_1_0.875_vstill_HOh1_l3w1p1_I_SO7-S20-0.5_S_3.00_230509_114517_0.png\n",
      "INFO: Exported //cfs2e.nist.gov/642/internal/3D Printing Lab/Shopbot/videos\\SDT\\SO_S20-0.5\\I_SO7-S20-0.5_S_3.00\\I_SO7-S20-0.5_S_3.00_v2_230509\\disturbHoriz3_1_0.875\\disturbHoriz3_1_0.875_vstill_HOh1_l3w1p2_I_SO7-S20-0.5_S_3.00_230509_114517_0.png\n",
      "INFO: Exported //cfs2e.nist.gov/642/internal/3D Printing Lab/Shopbot/videos\\SDT\\SO_S20-0.5\\I_SO7-S20-0.5_S_3.00\\I_SO7-S20-0.5_S_3.00_v2_230509\\disturbHoriz3_1_0.875\\disturbHoriz3_1_0.875_vstill_HOh1_l3w1p3_I_SO7-S20-0.5_S_3.00_230509_114517_0.png\n",
      "INFO: Exported //cfs2e.nist.gov/642/internal/3D Printing Lab/Shopbot/videos\\SDT\\SO_S20-0.5\\I_SO7-S20-0.5_S_3.00\\I_SO7-S20-0.5_S_3.00_v2_230509\\disturbHoriz3_1_0.875\\disturbHoriz3_1_0.875_vstill_HOh1_l3w1p4_I_SO7-S20-0.5_S_3.00_230509_114517_0.png\n",
      "INFO: Exported //cfs2e.nist.gov/642/internal/3D Printing Lab/Shopbot/videos\\SDT\\SO_S20-0.5\\I_SO7-S20-0.5_S_3.00\\I_SO7-S20-0.5_S_3.00_v2_230509\\disturbHoriz3_1_0.875\\disturbHoriz3_1_0.875_vstill_HOh1_l3w1p5_I_SO7-S20-0.5_S_3.00_230509_114517_0.png\n",
      "INFO: Exported //cfs2e.nist.gov/642/internal/3D Printing Lab/Shopbot/videos\\SDT\\SO_S20-0.5\\I_SO7-S20-0.5_S_3.00\\I_SO7-S20-0.5_S_3.00_v2_230509\\disturbHoriz3_1_0.875\\disturbHoriz3_1_0.875_vstill_HOh1_l3w1o1_I_SO7-S20-0.5_S_3.00_230509_114517_0.png\n",
      "INFO: Exported //cfs2e.nist.gov/642/internal/3D Printing Lab/Shopbot/videos\\SDT\\SO_S20-0.5\\I_SO7-S20-0.5_S_3.00\\I_SO7-S20-0.5_S_3.00_v2_230509\\disturbHoriz3_1_0.875\\disturbHoriz3_1_0.875_vstill_HOh1_l3w1o2_I_SO7-S20-0.5_S_3.00_230509_114517_0.png\n",
      "INFO: Exported //cfs2e.nist.gov/642/internal/3D Printing Lab/Shopbot/videos\\SDT\\SO_S20-0.5\\I_SO7-S20-0.5_S_3.00\\I_SO7-S20-0.5_S_3.00_v2_230509\\disturbHoriz3_1_0.875\\disturbHoriz3_1_0.875_vstill_HOh1_l3w1o3_I_SO7-S20-0.5_S_3.00_230509_114517_0.png\n",
      "INFO: Exported //cfs2e.nist.gov/642/internal/3D Printing Lab/Shopbot/videos\\SDT\\SO_S20-0.5\\I_SO7-S20-0.5_S_3.00\\I_SO7-S20-0.5_S_3.00_v2_230509\\disturbHoriz3_1_0.875\\disturbHoriz3_1_0.875_vstill_HOh1_l3w1o4_I_SO7-S20-0.5_S_3.00_230509_114517_0.png\n",
      "INFO: Exported //cfs2e.nist.gov/642/internal/3D Printing Lab/Shopbot/videos\\SDT\\SO_S20-0.5\\I_SO7-S20-0.5_S_3.00\\I_SO7-S20-0.5_S_3.00_v2_230509\\disturbHoriz3_1_0.875\\disturbHoriz3_1_0.875_vstill_HOh1_l3w1o5_I_SO7-S20-0.5_S_3.00_230509_114517_0.png\n",
      "INFO: Exported //cfs2e.nist.gov/642/internal/3D Printing Lab/Shopbot/videos\\SDT\\SO_S20-0.5\\I_SO7-S20-0.5_S_3.00\\I_SO7-S20-0.5_S_3.00_v2_230509\\disturbHoriz3_1_0.875\\disturbHoriz3_1_0.875_vstill_HOh1_l3w1o6_I_SO7-S20-0.5_S_3.00_230509_114517_0.png\n",
      "INFO: Exported //cfs2e.nist.gov/642/internal/3D Printing Lab/Shopbot/videos\\SDT\\SO_S20-0.5\\I_SO7-S20-0.5_S_3.00\\I_SO7-S20-0.5_S_3.00_v2_230509\\disturbHoriz3_1_0.875\\disturbHoriz3_1_0.875_vstill_HOh1_l3w1o7_I_SO7-S20-0.5_S_3.00_230509_114517_0.png\n",
      "INFO: Exported //cfs2e.nist.gov/642/internal/3D Printing Lab/Shopbot/videos\\SDT\\SO_S20-0.5\\I_SO7-S20-0.5_S_3.00\\I_SO7-S20-0.5_S_3.00_v2_230509\\disturbHoriz3_1_0.875\\disturbHoriz3_1_0.875_vstill_HOh1_l3w1o8_I_SO7-S20-0.5_S_3.00_230509_114517_0.png\n",
      "INFO: Exported //cfs2e.nist.gov/642/internal/3D Printing Lab/Shopbot/videos\\SDT\\SO_S20-0.5\\I_SO7-S20-0.5_S_3.00\\I_SO7-S20-0.5_S_3.00_v2_230509\\disturbHoriz3_1_0.875\\disturbHoriz3_1_0.875_vstill_HOh1_l3d1p1_I_SO7-S20-0.5_S_3.00_230509_114517_0.png\n",
      "INFO: Exported //cfs2e.nist.gov/642/internal/3D Printing Lab/Shopbot/videos\\SDT\\SO_S20-0.5\\I_SO7-S20-0.5_S_3.00\\I_SO7-S20-0.5_S_3.00_v2_230509\\disturbHoriz3_1_0.875\\disturbHoriz3_1_0.875_vstill_HOh1_l3d1p2_I_SO7-S20-0.5_S_3.00_230509_114517_0.png\n",
      "INFO: Exported //cfs2e.nist.gov/642/internal/3D Printing Lab/Shopbot/videos\\SDT\\SO_S20-0.5\\I_SO7-S20-0.5_S_3.00\\I_SO7-S20-0.5_S_3.00_v2_230509\\disturbHoriz3_1_0.875\\disturbHoriz3_1_0.875_vstill_HOh1_l3d1p3_I_SO7-S20-0.5_S_3.00_230509_114517_0.png\n",
      "INFO: Exported //cfs2e.nist.gov/642/internal/3D Printing Lab/Shopbot/videos\\SDT\\SO_S20-0.5\\I_SO7-S20-0.5_S_3.00\\I_SO7-S20-0.5_S_3.00_v2_230509\\disturbHoriz3_1_0.875\\disturbHoriz3_1_0.875_vstill_HOh1_l3d1p4_I_SO7-S20-0.5_S_3.00_230509_114517_0.png\n",
      "INFO: Exported //cfs2e.nist.gov/642/internal/3D Printing Lab/Shopbot/videos\\SDT\\SO_S20-0.5\\I_SO7-S20-0.5_S_3.00\\I_SO7-S20-0.5_S_3.00_v2_230509\\disturbHoriz3_1_0.875\\disturbHoriz3_1_0.875_vstill_HOh1_l3d1p5_I_SO7-S20-0.5_S_3.00_230509_114517_0.png\n",
      "INFO: Exported //cfs2e.nist.gov/642/internal/3D Printing Lab/Shopbot/videos\\SDT\\SO_S20-0.5\\I_SO7-S20-0.5_S_3.00\\I_SO7-S20-0.5_S_3.00_v2_230509\\disturbHoriz3_1_0.875\\disturbHoriz3_1_0.875_vstill_HOh1_l3d1o1_I_SO7-S20-0.5_S_3.00_230509_114517_0.png\n",
      "INFO: Exported //cfs2e.nist.gov/642/internal/3D Printing Lab/Shopbot/videos\\SDT\\SO_S20-0.5\\I_SO7-S20-0.5_S_3.00\\I_SO7-S20-0.5_S_3.00_v2_230509\\disturbHoriz3_1_0.875\\disturbHoriz3_1_0.875_vstill_HOh1_l3d1o2_I_SO7-S20-0.5_S_3.00_230509_114517_0.png\n",
      "INFO: Exported //cfs2e.nist.gov/642/internal/3D Printing Lab/Shopbot/videos\\SDT\\SO_S20-0.5\\I_SO7-S20-0.5_S_3.00\\I_SO7-S20-0.5_S_3.00_v2_230509\\disturbHoriz3_1_0.875\\disturbHoriz3_1_0.875_vstill_HOh1_l3d1o3_I_SO7-S20-0.5_S_3.00_230509_114517_0.png\n",
      "INFO: Exported //cfs2e.nist.gov/642/internal/3D Printing Lab/Shopbot/videos\\SDT\\SO_S20-0.5\\I_SO7-S20-0.5_S_3.00\\I_SO7-S20-0.5_S_3.00_v2_230509\\disturbHoriz3_1_0.875\\disturbHoriz3_1_0.875_vstill_HOh1_l3d1o4_I_SO7-S20-0.5_S_3.00_230509_114517_0.png\n",
      "INFO: Exported //cfs2e.nist.gov/642/internal/3D Printing Lab/Shopbot/videos\\SDT\\SO_S20-0.5\\I_SO7-S20-0.5_S_3.00\\I_SO7-S20-0.5_S_3.00_v2_230509\\disturbHoriz3_1_0.875\\disturbHoriz3_1_0.875_vstill_HOh1_l3d1o5_I_SO7-S20-0.5_S_3.00_230509_114517_0.png\n",
      "INFO: Exported //cfs2e.nist.gov/642/internal/3D Printing Lab/Shopbot/videos\\SDT\\SO_S20-0.5\\I_SO7-S20-0.5_S_3.00\\I_SO7-S20-0.5_S_3.00_v2_230509\\disturbHoriz3_1_0.875\\disturbHoriz3_1_0.875_vstill_HOh1_l3d1o6_I_SO7-S20-0.5_S_3.00_230509_114517_0.png\n",
      "INFO: Exported //cfs2e.nist.gov/642/internal/3D Printing Lab/Shopbot/videos\\SDT\\SO_S20-0.5\\I_SO7-S20-0.5_S_3.00\\I_SO7-S20-0.5_S_3.00_v2_230509\\disturbHoriz3_1_0.875\\disturbHoriz3_1_0.875_vstill_HOh1_l3d1o7_I_SO7-S20-0.5_S_3.00_230509_114517_0.png\n",
      "INFO: Exported //cfs2e.nist.gov/642/internal/3D Printing Lab/Shopbot/videos\\SDT\\SO_S20-0.5\\I_SO7-S20-0.5_S_3.00\\I_SO7-S20-0.5_S_3.00_v2_230509\\disturbHoriz3_1_0.875\\disturbHoriz3_1_0.875_vstill_HOh1_l3d1o8_I_SO7-S20-0.5_S_3.00_230509_114517_0.png\n",
      "INFO: Exported //cfs2e.nist.gov/642/internal/3D Printing Lab/Shopbot/videos\\SDT\\SO_S20-0.5\\I_SO7-S20-0.5_S_3.00\\I_SO7-S20-0.5_S_3.00_v2_230509\\disturbHoriz3_1_0.875\\disturbHoriz3_1_0.875_vidStats_I_SO7-S20-0.5_S_3.00_230509_114517_0.csv\n"
     ]
    },
    {
     "data": {
      "text/plain": [
       "[]"
      ]
     },
     "execution_count": 76,
     "metadata": {},
     "output_type": "execute_result"
    }
   ],
   "source": [
    "folder = os.path.join(cfg.path.server, r'SDT\\SO_S20-0.5\\I_SO7-S20-0.5_S_3.00\\I_SO7-S20-0.5_S_3.00_v2_230509\\disturbHoriz3_1_0.875')\n",
    "st = vt.setManualStillTime(folder, dstart=0.3)\n",
    "errorList = st.run()\n",
    "errorList"
   ]
  },
  {
   "cell_type": "markdown",
   "id": "fb954c1c",
   "metadata": {
    "tags": []
   },
   "source": [
    "### get programmed dimension"
   ]
  },
  {
   "cell_type": "code",
   "execution_count": null,
   "id": "bf488751",
   "metadata": {
    "tags": []
   },
   "outputs": [],
   "source": [
    "epg = pg.exportAllDimsRecursive(os.path.join(cfg.path.server, r'SDT'), overwrite=False)"
   ]
  },
  {
   "cell_type": "markdown",
   "id": "26714bc6-a3d8-4df1-8622-afb6cf323fde",
   "metadata": {},
   "source": [
    "# make gifs"
   ]
  },
  {
   "cell_type": "code",
   "execution_count": 3,
   "id": "8ae8f211-72b7-44d2-a0d8-fbd473133f2e",
   "metadata": {
    "tags": []
   },
   "outputs": [],
   "source": [
    "vd1 = vt.vidData(os.path.join(cfg.path.server, r'SDT\\SO_S20-0.5\\I_SO8-S20-0.5_S_4.00\\I_SO8-S20-0.5_S_4.00_230510\\disturbHoriz3_1_1.000'))"
   ]
  },
  {
   "cell_type": "code",
   "execution_count": 6,
   "id": "370bb1bf-59ce-4afa-bf36-4a878c27b4bf",
   "metadata": {
    "tags": []
   },
   "outputs": [
    {
     "name": "stdout",
     "output_type": "stream",
     "text": [
      "INFO: Exported //cfs2e.nist.gov/642/internal/3D Printing Lab/Shopbot/videos\\SDT\\SO_S20-0.5\\I_SO8-S20-0.5_S_4.00\\I_SO8-S20-0.5_S_4.00_230510\\disturbHoriz3_1_1.000\\disturbHoriz3_1_1.000_clip_l0w1_I_SO8-S20-0.5_S_4.00_230510_120610_9.gif: 5.4846906661987305 MB\n"
     ]
    }
   ],
   "source": [
    "vd1.exportGIF('l0w1', compression=2, crop={'x0':0, 'xf':-1, 'y0':200, 'yf':-1}, color=False, sizeCompression=2)"
   ]
  },
  {
   "cell_type": "code",
   "execution_count": 7,
   "id": "383d35c8-0181-4a33-9727-7eb32211fc66",
   "metadata": {
    "tags": []
   },
   "outputs": [
    {
     "name": "stdout",
     "output_type": "stream",
     "text": [
      "INFO: Exported //cfs2e.nist.gov/642/internal/3D Printing Lab/Shopbot/videos\\SDT\\SO\\I_SO10_S_3.00\\I_SO10_S_3.00_230208\\disturbHoriz3_1_0.500\\disturbHoriz3_1_0.500_clip_l0w1_I_SO10_S_3.00_230208_095529_8.gif: 4.687470436096191 MB\n"
     ]
    }
   ],
   "source": [
    "vd2 = vt.vidData(os.path.join(cfg.path.server, r'SDT\\SO\\I_SO10_S_3.00\\I_SO10_S_3.00_230208\\disturbHoriz3_1_0.500'))\n",
    "vd2.exportGIF('l0w1', compression=2, crop={'x0':0, 'xf':-1, 'y0':200, 'yf':-1}, color=False, sizeCompression=2)"
   ]
  },
  {
   "cell_type": "code",
   "execution_count": 6,
   "id": "748be9b8-8813-43f2-b0c9-4de08b33279d",
   "metadata": {
    "tags": []
   },
   "outputs": [
    {
     "name": "stdout",
     "output_type": "stream",
     "text": [
      "INFO: Exported //cfs2e.nist.gov/642/internal/3D Printing Lab/Shopbot/videos\\SDT\\SO_S85-0.05\\I_SO10-S85-0.05_S_3.50\\I_SO10-S85-0.05_S_3.50_230516\\disturbHoriz3_1_0.500\\disturbHoriz3_1_0.500_clip_l0d1_I_SO10-S85-0.05_S_3.50_230516_151220_4.gif: 5.182306289672852 MB\n"
     ]
    }
   ],
   "source": [
    "vd2 = vt.vidData(os.path.join(cfg.path.server, r'SDT\\SO_S85-0.05\\I_SO10-S85-0.05_S_3.50\\I_SO10-S85-0.05_S_3.50_230516\\disturbHoriz3_1_0.500'))\n",
    "vd2.exportGIF('l0d1', compression=2, crop={'x0':0, 'xf':-1, 'y0':200, 'yf':-1}, color=False, sizeCompression=2)"
   ]
  },
  {
   "cell_type": "code",
   "execution_count": 7,
   "id": "10822112-0604-4729-8640-0a3fc3f7083c",
   "metadata": {
    "tags": []
   },
   "outputs": [
    {
     "name": "stdout",
     "output_type": "stream",
     "text": [
      "INFO: Exported //cfs2e.nist.gov/642/internal/3D Printing Lab/Shopbot/videos\\SDT\\SO\\I_SO10_S_3.00\\I_SO10_S_3.00_230208\\disturbHoriz3_1_0.750\\disturbHoriz3_1_0.750_clip_l0d1_I_SO10_S_3.00_230208_095648_0.gif: 4.115428924560547 MB\n"
     ]
    }
   ],
   "source": [
    "vd2 = vt.vidData(os.path.join(cfg.path.server, r'SDT\\SO\\I_SO10_S_3.00\\I_SO10_S_3.00_230208\\disturbHoriz3_1_0.750'))\n",
    "vd2.exportGIF('l0d1', compression=2, crop={'x0':0, 'xf':-1, 'y0':200, 'yf':-1}, color=False, sizeCompression=2)"
   ]
  },
  {
   "cell_type": "code",
   "execution_count": 11,
   "id": "12b5abe5-730d-4037-bcc7-d21937b96b60",
   "metadata": {
    "tags": []
   },
   "outputs": [
    {
     "name": "stdout",
     "output_type": "stream",
     "text": [
      "INFO: Exported //cfs2e.nist.gov/642/internal/3D Printing Lab/Shopbot/videos\\SDT\\SO\\I_SO10_S_3.00\\I_SO10_S_3.00_230208\\disturbVert2_1_0.500\\disturbVert2_1_0.500_clip_l2d1_I_SO10_S_3.00_230208_100619_3.gif: 3.0173654556274414 MB\n"
     ]
    }
   ],
   "source": [
    "vd2 = vt.vidData(os.path.join(cfg.path.server, r'SDT\\SO\\I_SO10_S_3.00\\I_SO10_S_3.00_230208\\disturbVert2_1_0.500'))\n",
    "vd2.exportGIF('l2d1', compression=2, crop={'x0':100, 'xf':450, 'y0':0, 'yf':-1}, color=False, sizeCompression=2, prestart=-1)"
   ]
  },
  {
   "cell_type": "code",
   "execution_count": 5,
   "id": "560d1b24-c063-4c33-9e20-7d34cbc770fe",
   "metadata": {
    "tags": []
   },
   "outputs": [
    {
     "name": "stdout",
     "output_type": "stream",
     "text": [
      "INFO: Exported //cfs2e.nist.gov/642/internal/3D Printing Lab/Shopbot/videos\\SDT\\SO\\I_SO10_S_3.00\\I_SO10_S_3.00_230208\\disturbHoriz3_1_0.500\\disturbHoriz3_1_0.500_clip_l1d1_I_SO10_S_3.00_230208_095529_8.gif: 4.210165977478027 MB\n"
     ]
    }
   ],
   "source": [
    "vd2 = vt.vidData(os.path.join(cfg.path.server, r'SDT\\SO\\I_SO10_S_3.00\\I_SO10_S_3.00_230208\\disturbHoriz3_1_0.500'))\n",
    "vd2.exportGIF('l1d1', compression=2, crop={'x0':0, 'xf':-1, 'y0':200, 'yf':-1}, color=False, sizeCompression=2, prestart=0)"
   ]
  },
  {
   "cell_type": "code",
   "execution_count": 6,
   "id": "f65ec30b-3844-4cca-acf4-01469d468121",
   "metadata": {
    "tags": []
   },
   "outputs": [
    {
     "name": "stdout",
     "output_type": "stream",
     "text": [
      "INFO: Exported //cfs2e.nist.gov/642/internal/3D Printing Lab/Shopbot/videos\\SDT\\SO\\I_SO10_S_3.00\\I_SO10_S_3.00_230208\\disturbHoriz3_2_0.500\\disturbHoriz3_2_0.500_clip_l0w2_I_SO10_S_3.00_230208_105240_0.gif: 5.017515182495117 MB\n"
     ]
    }
   ],
   "source": [
    "vd2 = vt.vidData(os.path.join(cfg.path.server, r'SDT\\SO\\I_SO10_S_3.00\\I_SO10_S_3.00_230208\\disturbHoriz3_2_0.500'))\n",
    "vd2.exportGIF('l0w2', compression=2, crop={'x0':0, 'xf':-1, 'y0':200, 'yf':-1}, color=False, sizeCompression=2, prestart=0)"
   ]
  },
  {
   "cell_type": "code",
   "execution_count": 7,
   "id": "fb3abace-d11f-4fb4-a58b-566cab3147fb",
   "metadata": {
    "tags": []
   },
   "outputs": [
    {
     "name": "stdout",
     "output_type": "stream",
     "text": [
      "INFO: Exported //cfs2e.nist.gov/642/internal/3D Printing Lab/Shopbot/videos\\SDT\\SO\\I_SO10_S_3.00\\I_SO10_S_3.00_230208\\disturbHoriz3_2_1.000\\disturbHoriz3_2_1.000_clip_l0w2_I_SO10_S_3.00_230208_104442_3.gif: 4.078469276428223 MB\n"
     ]
    }
   ],
   "source": [
    "vd2 = vt.vidData(os.path.join(cfg.path.server, r'SDT\\SO\\I_SO10_S_3.00\\I_SO10_S_3.00_230208\\disturbHoriz3_2_1.000'))\n",
    "vd2.exportGIF('l0w2', compression=2, crop={'x0':0, 'xf':-1, 'y0':200, 'yf':-1}, color=False, sizeCompression=2, prestart=0)"
   ]
  },
  {
   "cell_type": "code",
   "execution_count": 8,
   "id": "cf27119f-75cf-4939-996f-96f7054e70d5",
   "metadata": {
    "tags": []
   },
   "outputs": [
    {
     "name": "stdout",
     "output_type": "stream",
     "text": [
      "INFO: Exported //cfs2e.nist.gov/642/internal/3D Printing Lab/Shopbot/videos\\SDT\\SO\\I_SO11_S_3.00\\I_SO11_S_3.00_230214\\disturbHoriz3_2_0.875\\disturbHoriz3_2_0.875_clip_l0w2_I_SO11_S_3.00_230214_104515_7.gif: 4.7279510498046875 MB\n"
     ]
    }
   ],
   "source": [
    "vd2 = vt.vidData(os.path.join(cfg.path.server, r'SDT\\SO\\I_SO11_S_3.00\\I_SO11_S_3.00_230214\\disturbHoriz3_2_0.875'))\n",
    "vd2.exportGIF('l0w2', compression=2, crop={'x0':0, 'xf':-1, 'y0':200, 'yf':-1}, color=False, sizeCompression=2, prestart=0)"
   ]
  },
  {
   "cell_type": "code",
   "execution_count": 11,
   "id": "152d7f00-0de2-456f-813c-abd62c1a83de",
   "metadata": {
    "tags": []
   },
   "outputs": [
    {
     "name": "stdout",
     "output_type": "stream",
     "text": [
      "INFO: Exported //cfs2e.nist.gov/642/internal/3D Printing Lab/Shopbot/videos\\SDT\\SO_S20-0.5\\I_SO6-S20-0.5_S_3.00\\I_SO6-S20-0.5_S_3.00_230215\\disturbHoriz3_2_0.625\\disturbHoriz3_2_0.625_clip_l2w2_I_SO6-S20-0.5_S_3.00_230215_113203_5.gif: 4.358519554138184 MB\n"
     ]
    }
   ],
   "source": [
    "vd2 = vt.vidData(os.path.join(cfg.path.server, r'SDT\\SO_S20-0.5\\I_SO6-S20-0.5_S_3.00\\I_SO6-S20-0.5_S_3.00_230215\\disturbHoriz3_2_0.625'))\n",
    "vd2.exportGIF('l2w2', compression=2, crop={'x0':0, 'xf':-1, 'y0':200, 'yf':-1}, color=False, sizeCompression=2, prestart=0)"
   ]
  },
  {
   "cell_type": "code",
   "execution_count": 12,
   "id": "d635dfd5-2961-4e50-877c-63aec78a96bc",
   "metadata": {
    "tags": []
   },
   "outputs": [
    {
     "name": "stdout",
     "output_type": "stream",
     "text": [
      "INFO: Exported //cfs2e.nist.gov/642/internal/3D Printing Lab/Shopbot/videos\\SDT\\SO_S20-0.5\\I_SO7-S20-0.5_S_3.00\\I_SO7-S20-0.5_S_3.00_230509\\disturbHoriz3_2_0.875\\disturbHoriz3_2_0.875_clip_l1w2_I_SO7-S20-0.5_S_3.00_230509_123502_6.gif: 5.090124130249023 MB\n"
     ]
    }
   ],
   "source": [
    "vd2 = vt.vidData(os.path.join(cfg.path.server, r'SDT\\SO_S20-0.5\\I_SO7-S20-0.5_S_3.00\\I_SO7-S20-0.5_S_3.00_230509\\disturbHoriz3_2_0.875'))\n",
    "vd2.exportGIF('l1w2', compression=2, crop={'x0':0, 'xf':-1, 'y0':200, 'yf':-1}, color=False, sizeCompression=2, prestart=0)"
   ]
  },
  {
   "cell_type": "code",
   "execution_count": 13,
   "id": "e80891f6-03cb-49b4-8028-79c9ca1d6bdb",
   "metadata": {
    "tags": []
   },
   "outputs": [
    {
     "name": "stdout",
     "output_type": "stream",
     "text": [
      "INFO: Exported //cfs2e.nist.gov/642/internal/3D Printing Lab/Shopbot/videos\\SDT\\SO_S20-0.5\\I_SO8-S20-0.5_S_3.50\\I_SO8-S20-0.5_S_3.50_230510\\disturbHoriz3_2_1.250\\disturbHoriz3_2_1.250_clip_l1w2_I_SO8-S20-0.5_S_3.50_230510_103054_6.gif: 5.63863468170166 MB\n"
     ]
    }
   ],
   "source": [
    "vd2 = vt.vidData(os.path.join(cfg.path.server, r'SDT\\SO_S20-0.5\\I_SO8-S20-0.5_S_3.50\\I_SO8-S20-0.5_S_3.50_230510\\disturbHoriz3_2_1.250'))\n",
    "vd2.exportGIF('l1w2', compression=2, crop={'x0':0, 'xf':-1, 'y0':200, 'yf':-1}, color=False, sizeCompression=2, prestart=0)"
   ]
  },
  {
   "cell_type": "code",
   "execution_count": 14,
   "id": "2a33e9d5-0892-4444-b26f-61d6fdf4eb2e",
   "metadata": {
    "tags": []
   },
   "outputs": [
    {
     "name": "stdout",
     "output_type": "stream",
     "text": [
      "INFO: Exported //cfs2e.nist.gov/642/internal/3D Printing Lab/Shopbot/videos\\SDT\\SO\\I_SO11_S_3.00\\I_SO11_S_3.00_230214\\disturbHoriz3_2_0.625\\disturbHoriz3_2_0.625_clip_l1w2_I_SO11_S_3.00_230214_104022_1.gif: 4.080268859863281 MB\n"
     ]
    }
   ],
   "source": [
    "vd2 = vt.vidData(os.path.join(cfg.path.server, r'SDT\\SO\\I_SO11_S_3.00\\I_SO11_S_3.00_230214\\disturbHoriz3_2_0.625'))\n",
    "vd2.exportGIF('l1w2', compression=2, crop={'x0':0, 'xf':-1, 'y0':200, 'yf':-1}, color=False, sizeCompression=2, prestart=0)"
   ]
  },
  {
   "cell_type": "code",
   "execution_count": 15,
   "id": "52a562cb-5b8c-4d4e-8465-4e467a80097a",
   "metadata": {
    "tags": []
   },
   "outputs": [
    {
     "name": "stdout",
     "output_type": "stream",
     "text": [
      "INFO: Exported //cfs2e.nist.gov/642/internal/3D Printing Lab/Shopbot/videos\\SDT\\SO_S20-0.5\\I_SO8-S20-0.5_S_3.00\\I_SO8-S20-0.5_S_3.00_230510\\disturbHoriz3_2_0.500\\disturbHoriz3_2_0.500_clip_l0w2_I_SO8-S20-0.5_S_3.00_230510_154932_4.gif: 4.928485870361328 MB\n"
     ]
    }
   ],
   "source": [
    "vd2 = vt.vidData(os.path.join(cfg.path.server, r'SDT\\SO_S20-0.5\\I_SO8-S20-0.5_S_3.00\\I_SO8-S20-0.5_S_3.00_230510\\disturbHoriz3_2_0.500'))\n",
    "vd2.exportGIF('l0w2', compression=2, crop={'x0':0, 'xf':-1, 'y0':200, 'yf':-1}, color=False, sizeCompression=2, prestart=0)"
   ]
  },
  {
   "cell_type": "code",
   "execution_count": 16,
   "id": "cbbb91bf-76a7-47e6-8c6b-cf5dabe1fc93",
   "metadata": {
    "tags": []
   },
   "outputs": [
    {
     "name": "stdout",
     "output_type": "stream",
     "text": [
      "INFO: Exported //cfs2e.nist.gov/642/internal/3D Printing Lab/Shopbot/videos\\SDT\\SO_S20-0.5\\I_SO8-S20-0.5_S_3.00\\I_SO8-S20-0.5_S_3.00_230510\\disturbHoriz3_2_0.500\\disturbHoriz3_2_0.500_clip_l0w2_I_SO8-S20-0.5_S_3.00_230510_154932_4.gif: 16.075329780578613 MB\n"
     ]
    }
   ],
   "source": [
    "vd2 = vt.vidData(os.path.join(cfg.path.server, r'SDT\\SO_S20-0.5\\I_SO8-S20-0.5_S_3.00\\I_SO8-S20-0.5_S_3.00_230510\\disturbHoriz3_2_0.500'))\n",
    "vd2.exportGIF('l0w2', compression=2, crop={'x0':0, 'xf':-1, 'y0':200, 'yf':-1}, color=False, sizeCompression=1, prestart=0)"
   ]
  },
  {
   "cell_type": "code",
   "execution_count": null,
   "id": "c3d02099-50ab-4bfe-90d4-5edaa803ca1d",
   "metadata": {},
   "outputs": [],
   "source": []
  }
 ],
 "metadata": {
  "kernelspec": {
   "display_name": "Python 3 (ipykernel)",
   "language": "python",
   "name": "python3"
  },
  "language_info": {
   "codemirror_mode": {
    "name": "ipython",
    "version": 3
   },
   "file_extension": ".py",
   "mimetype": "text/x-python",
   "name": "python",
   "nbconvert_exporter": "python",
   "pygments_lexer": "ipython3",
   "version": "3.8.3"
  }
 },
 "nbformat": 4,
 "nbformat_minor": 5
}
