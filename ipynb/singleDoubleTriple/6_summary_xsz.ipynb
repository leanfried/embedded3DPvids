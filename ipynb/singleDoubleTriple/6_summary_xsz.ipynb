{
 "cells": [
  {
   "cell_type": "markdown",
   "id": "fb5ee0f9",
   "metadata": {},
   "source": [
    "# Summarizing metrics from disturbed XS +z"
   ]
  },
  {
   "cell_type": "markdown",
   "id": "1558cf54",
   "metadata": {},
   "source": [
    "Leanne Friedrich 4/26/23"
   ]
  },
  {
   "cell_type": "markdown",
   "id": "d7780c1f",
   "metadata": {
    "tags": []
   },
   "source": [
    "## initialization"
   ]
  },
  {
   "cell_type": "code",
   "execution_count": 1,
   "id": "32a82ddc",
   "metadata": {
    "collapsed": true,
    "jupyter": {
     "outputs_hidden": true
    },
    "tags": []
   },
   "outputs": [],
   "source": [
    "%load_ext autoreload\n",
    "%autoreload 2\n",
    "LOGGERDEFINED = False"
   ]
  },
  {
   "cell_type": "code",
   "execution_count": 2,
   "id": "15a97d45",
   "metadata": {
    "collapsed": true,
    "jupyter": {
     "outputs_hidden": true
    },
    "tags": []
   },
   "outputs": [],
   "source": [
    "import os\n",
    "import sys\n",
    "sys.path.append(\"../\")\n",
    "sys.path.append(\"../../\")\n",
    "from py.tools.config import cfg\n",
    "import py.tools.logs as logs\n",
    "from plainIm import plainIm\n",
    "import matplotlib.pyplot as plt\n",
    "import py.metrics.m_plot.m_plots as mp\n",
    "import py.metrics.m_SDT as me\n",
    "import regression as rg\n",
    "import matplotlib.cm as cm\n",
    "import py.file.file_handling as fh\n",
    "LOGGERDEFINED = logs.openLog('summary_xsz_SDT.ipynb', LOGGERDEFINED, level='DEBUG', exportLog=False)"
   ]
  },
  {
   "cell_type": "markdown",
   "id": "f76025d6",
   "metadata": {},
   "source": [
    "## analyzing data"
   ]
  },
  {
   "cell_type": "code",
   "execution_count": 3,
   "id": "5a9dab35",
   "metadata": {
    "tags": []
   },
   "outputs": [
    {
     "name": "stdout",
     "output_type": "stream",
     "text": [
      "\u001b[1mIndependents:\u001b[0m \n",
      "\t\u001b[31m meta        : \u001b[0m bn, calibFile, fluFile, printFolderR\n",
      "\t                date\n",
      "\t\u001b[31m meta sup    : \u001b[0m sup_base, sup_days, sup_dye, sup_rheModifier, sup_shortname, sup_surfactant, sup_surfactantWt, sup_type, sup_var\n",
      "\t\u001b[31m meta ink    : \u001b[0m ink_base, ink_days, ink_dye, ink_rheModifier, ink_shortname, ink_surfactant, ink_surfactantWt, ink_type, ink_var\n",
      "\t\u001b[31m const       : \u001b[0m GaRatio, GdRatio, gname, GtaRatio, int_Ca, int_CaInv, int_Re, ReRatio, tau0aRatio, tau0dRatio, tGdRatio, viscRatio, vRatio\n",
      "\t                dEst, hDragP, pressureCh0, rGrava, rGravd, sigma, spacing, spacing_adj, vDragP, zdepth\n",
      "\t\u001b[31m const sup   : \u001b[0m sup_Bma, sup_Bmd, sup_Ca, sup_CaInv, sup_diluent, sup_diluentWt, sup_dnorma, sup_dnorma_adj, sup_dnormd, sup_dnormd_adj, sup_dnormInva, sup_dnormInvd, sup_Oh, sup_OhInv, sup_Re, sup_We, sup_WeInv\n",
      "\t                sup_density, sup_dPRa, sup_dPRd, sup_eta0a, sup_eta0d, sup_Gstora, sup_Gstord, sup_rate, sup_tau0a, sup_tau0d, sup_v, sup_val, sup_visc0\n",
      "\t\u001b[31m const ink   : \u001b[0m ink_Bma, ink_Bmd, ink_Ca, ink_CaInv, ink_diluent, ink_diluentWt, ink_dnorma, ink_dnorma_adj, ink_dnormd, ink_dnormd_adj, ink_dnormInva, ink_dnormInvd, ink_Oh, ink_OhInv, ink_Re, ink_We, ink_WeInv\n",
      "\t                ink_density, ink_dPRa, ink_dPRd, ink_eta0a, ink_eta0d, ink_Gstora, ink_Gstord, ink_rate, ink_tau0a, ink_tau0d, ink_v, ink_val, ink_visc0\n",
      "\n",
      "\u001b[1mDependents:\u001b[0m \n",
      "\t\u001b[31m Position    : \u001b[0m\t xLeft, xRight, xc, yBot, yTop, yc\n",
      "\t\u001b[31m Dimensions  : \u001b[0m\t area, aspect, aspectI, h, w, xshift, yshift\n",
      "\t\u001b[31m Fusion      : \u001b[0m\t emptiness, roughness, segments\n"
     ]
    },
    {
     "data": {
      "text/html": [
       "<div>\n",
       "<style scoped>\n",
       "    .dataframe tbody tr th:only-of-type {\n",
       "        vertical-align: middle;\n",
       "    }\n",
       "\n",
       "    .dataframe tbody tr th {\n",
       "        vertical-align: top;\n",
       "    }\n",
       "\n",
       "    .dataframe thead th {\n",
       "        text-align: right;\n",
       "    }\n",
       "</style>\n",
       "<table border=\"1\" class=\"dataframe\">\n",
       "  <thead>\n",
       "    <tr style=\"text-align: right;\">\n",
       "      <th></th>\n",
       "      <th>1</th>\n",
       "      <th>2</th>\n",
       "      <th>3</th>\n",
       "    </tr>\n",
       "  </thead>\n",
       "  <tbody>\n",
       "    <tr>\n",
       "      <th>wp</th>\n",
       "      <td>X_w1p</td>\n",
       "      <td>X_w2p</td>\n",
       "      <td>X_w3p</td>\n",
       "    </tr>\n",
       "    <tr>\n",
       "      <th>wo</th>\n",
       "      <td>X_w1o</td>\n",
       "      <td>X_w2o</td>\n",
       "      <td>X_w3o</td>\n",
       "    </tr>\n",
       "    <tr>\n",
       "      <th>wrelax</th>\n",
       "      <td>delta_X_w1relax</td>\n",
       "      <td>delta_X_w2relax</td>\n",
       "      <td>delta_X_w3relax</td>\n",
       "    </tr>\n",
       "    <tr>\n",
       "      <th>write</th>\n",
       "      <td>delta_X_write1</td>\n",
       "      <td>delta_X_write2</td>\n",
       "      <td></td>\n",
       "    </tr>\n",
       "    <tr>\n",
       "      <th>dp</th>\n",
       "      <td>X_d1p</td>\n",
       "      <td>X_d2p</td>\n",
       "      <td></td>\n",
       "    </tr>\n",
       "    <tr>\n",
       "      <th>do</th>\n",
       "      <td>X_d1o</td>\n",
       "      <td>X_d2o</td>\n",
       "      <td></td>\n",
       "    </tr>\n",
       "    <tr>\n",
       "      <th>drelax</th>\n",
       "      <td>delta_X_d1relax</td>\n",
       "      <td>delta_X_d2relax</td>\n",
       "      <td></td>\n",
       "    </tr>\n",
       "    <tr>\n",
       "      <th>disturb</th>\n",
       "      <td>delta_X_disturb1</td>\n",
       "      <td>delta_X_disturb2</td>\n",
       "      <td></td>\n",
       "    </tr>\n",
       "  </tbody>\n",
       "</table>\n",
       "</div>"
      ],
      "text/plain": [
       "                        1                 2                3\n",
       "wp                  X_w1p             X_w2p            X_w3p\n",
       "wo                  X_w1o             X_w2o            X_w3o\n",
       "wrelax    delta_X_w1relax   delta_X_w2relax  delta_X_w3relax\n",
       "write      delta_X_write1    delta_X_write2                 \n",
       "dp                  X_d1p             X_d2p                 \n",
       "do                  X_d1o             X_d2o                 \n",
       "drelax    delta_X_d1relax   delta_X_d2relax                 \n",
       "disturb  delta_X_disturb1  delta_X_disturb2                 "
      ]
     },
     "metadata": {},
     "output_type": "display_data"
    }
   ],
   "source": [
    "# get an object that holds summary data for all files\n",
    "ms = me.summarySDT(os.path.join(cfg.path.fig, 'SDT', 'summaries', 'XS+zSDTSummaries.csv')\n",
    "                             , diag=True)"
   ]
  },
  {
   "cell_type": "code",
   "execution_count": null,
   "id": "4a660881-9cef-4715-a238-b60b9f5ee47e",
   "metadata": {
    "tags": []
   },
   "outputs": [],
   "source": [
    "# plot a variable across many steps in the printing process\n",
    "yvl = mp.yvarlines(ms, ms.ss, xvar='int_Ca', yvar='yshift', cvar='spacing', llist=[1, 2, 3]\n",
    "             , plist=['wo', 'do', 'disturb', 'write'], plotType='notebook', yideal=me.XSSDTIdeals('+z')\n",
    "                   , logx=True, mode='scatter', dx=0.15)\n",
    "yvl.fig"
   ]
  },
  {
   "cell_type": "code",
   "execution_count": 7,
   "id": "d517a2aa-98ae-4b46-92eb-fcfa4ec1e51a",
   "metadata": {
    "collapsed": true,
    "jupyter": {
     "outputs_hidden": true
    },
    "scrolled": true,
    "tags": []
   },
   "outputs": [
    {
     "data": {
      "text/html": [
       "<div>\n",
       "<style scoped>\n",
       "    .dataframe tbody tr th:only-of-type {\n",
       "        vertical-align: middle;\n",
       "    }\n",
       "\n",
       "    .dataframe tbody tr th {\n",
       "        vertical-align: top;\n",
       "    }\n",
       "\n",
       "    .dataframe thead th {\n",
       "        text-align: right;\n",
       "    }\n",
       "</style>\n",
       "<table border=\"1\" class=\"dataframe\">\n",
       "  <thead>\n",
       "    <tr style=\"text-align: right;\">\n",
       "      <th></th>\n",
       "      <th>ink_shortname</th>\n",
       "      <th>sup_shortname</th>\n",
       "      <th>int_Ca</th>\n",
       "      <th>spacing</th>\n",
       "      <th>delta_yTop_write3</th>\n",
       "    </tr>\n",
       "  </thead>\n",
       "  <tbody>\n",
       "    <tr>\n",
       "      <th>196</th>\n",
       "      <td>PDMSS6-S85-0.05</td>\n",
       "      <td>4.0</td>\n",
       "      <td>14.00</td>\n",
       "      <td>1.00</td>\n",
       "      <td>0.50</td>\n",
       "    </tr>\n",
       "    <tr>\n",
       "      <th>856</th>\n",
       "      <td>SO9-S85-0.05</td>\n",
       "      <td>4.0</td>\n",
       "      <td>7.17</td>\n",
       "      <td>0.50</td>\n",
       "      <td>0.50</td>\n",
       "    </tr>\n",
       "    <tr>\n",
       "      <th>446</th>\n",
       "      <td>SO9</td>\n",
       "      <td>3.0</td>\n",
       "      <td>0.62</td>\n",
       "      <td>0.75</td>\n",
       "      <td>0.58</td>\n",
       "    </tr>\n",
       "    <tr>\n",
       "      <th>66</th>\n",
       "      <td>PDMSS12.5</td>\n",
       "      <td>3.0</td>\n",
       "      <td>0.70</td>\n",
       "      <td>0.50</td>\n",
       "      <td>0.64</td>\n",
       "    </tr>\n",
       "    <tr>\n",
       "      <th>374</th>\n",
       "      <td>SO11</td>\n",
       "      <td>3.0</td>\n",
       "      <td>0.62</td>\n",
       "      <td>0.75</td>\n",
       "      <td>0.68</td>\n",
       "    </tr>\n",
       "    <tr>\n",
       "      <th>645</th>\n",
       "      <td>SO7-S20-0.5</td>\n",
       "      <td>4.0</td>\n",
       "      <td>62.72</td>\n",
       "      <td>0.88</td>\n",
       "      <td>0.91</td>\n",
       "    </tr>\n",
       "    <tr>\n",
       "      <th>573</th>\n",
       "      <td>SO6-S20-0.5</td>\n",
       "      <td>3.5</td>\n",
       "      <td>30.35</td>\n",
       "      <td>0.88</td>\n",
       "      <td>1.26</td>\n",
       "    </tr>\n",
       "    <tr>\n",
       "      <th>53</th>\n",
       "      <td>PDMSS10</td>\n",
       "      <td>4.0</td>\n",
       "      <td>3.29</td>\n",
       "      <td>1.25</td>\n",
       "      <td>2.09</td>\n",
       "    </tr>\n",
       "    <tr>\n",
       "      <th>339</th>\n",
       "      <td>SO10</td>\n",
       "      <td>4.0</td>\n",
       "      <td>2.93</td>\n",
       "      <td>0.88</td>\n",
       "      <td>2.73</td>\n",
       "    </tr>\n",
       "    <tr>\n",
       "      <th>193</th>\n",
       "      <td>PDMSS6-S85-0.05</td>\n",
       "      <td>4.0</td>\n",
       "      <td>14.00</td>\n",
       "      <td>0.62</td>\n",
       "      <td>4.28</td>\n",
       "    </tr>\n",
       "  </tbody>\n",
       "</table>\n",
       "</div>"
      ],
      "text/plain": [
       "       ink_shortname  sup_shortname  int_Ca  spacing  delta_yTop_write3\n",
       "196  PDMSS6-S85-0.05            4.0   14.00     1.00               0.50\n",
       "856     SO9-S85-0.05            4.0    7.17     0.50               0.50\n",
       "446              SO9            3.0    0.62     0.75               0.58\n",
       "66         PDMSS12.5            3.0    0.70     0.50               0.64\n",
       "374             SO11            3.0    0.62     0.75               0.68\n",
       "645      SO7-S20-0.5            4.0   62.72     0.88               0.91\n",
       "573      SO6-S20-0.5            3.5   30.35     0.88               1.26\n",
       "53           PDMSS10            4.0    3.29     1.25               2.09\n",
       "339             SO10            4.0    2.93     0.88               2.73\n",
       "193  PDMSS6-S85-0.05            4.0   14.00     0.62               4.28"
      ]
     },
     "metadata": {},
     "output_type": "display_data"
    }
   ],
   "source": [
    "# get a list of files that have measurements within a certain range\n",
    "ms.reduceRows('delta_yTop_write3', yvarmin=0.5)"
   ]
  },
  {
   "cell_type": "code",
   "execution_count": 14,
   "id": "5745ab0a-4107-4928-92cf-22fe49e2e3b4",
   "metadata": {
    "tags": []
   },
   "outputs": [],
   "source": [
    "# open the folder number based on row in the ms.ss dataframe, in windows explorer\n",
    "ms.openFolder(66)"
   ]
  },
  {
   "cell_type": "markdown",
   "id": "a41377ae-09d7-4695-9a79-aaba0374b86e",
   "metadata": {},
   "source": [
    "# plots"
   ]
  },
  {
   "cell_type": "code",
   "execution_count": null,
   "id": "c8209381-4a69-4572-b47b-2659892af97b",
   "metadata": {},
   "outputs": [],
   "source": [
    "# plot vertical shift for triple lines\n",
    "yvl = mp.shiftPlot3XS(ms, 'HOP', xvar='ReProd', export=True)\n",
    "yvl.fig"
   ]
  },
  {
   "cell_type": "markdown",
   "id": "043a8ee5-fc12-4def-94ef-0317c02650d0",
   "metadata": {},
   "source": [
    "# regressions"
   ]
  },
  {
   "cell_type": "code",
   "execution_count": 5,
   "id": "b0252afc-2570-4ef8-b63f-d56ee4853505",
   "metadata": {},
   "outputs": [],
   "source": [
    "# export regression tables and relevant plots\n",
    "def exportRegression(var, **kwargs) -> None:\n",
    "    mp.regressionTableSDT(ms, ms.ss, var, logy=False, printOut=False,  package='tabularShort', trimVariables=False\n",
    "                            , plot=True, yideal=me.ideals(), plotType='paper', export=True, tag='HOPx', exportFolder=os.path.join(cfg.path.fig, 'SDT'), **kwargs)"
   ]
  },
  {
   "cell_type": "code",
   "execution_count": null,
   "id": "8d2b11b2-c493-41de-8de2-1e8035043cf7",
   "metadata": {},
   "outputs": [],
   "source": [
    "exportRegression('delta_yBot_disturb2')\n",
    "exportRegression('delta_yBot_disturb2', spacing=1.25)\n",
    "exportRegression('delta_yBot_write3')\n",
    "\n",
    "exportRegression('delta_yTop_disturb2')\n",
    "exportRegression('delta_yTop_write3')"
   ]
  },
  {
   "cell_type": "code",
   "execution_count": null,
   "id": "975ea5d1-7911-4824-9a2d-3a8fe10c61ac",
   "metadata": {},
   "outputs": [],
   "source": [
    "exportRegression('delta_yTop_disturb2', spacing=0.5)\n",
    "exportRegression('delta_yTop_write3', spacing=0.5)"
   ]
  },
  {
   "cell_type": "markdown",
   "id": "23a55103-22e8-4ddd-b81a-7300692b6a67",
   "metadata": {
    "jp-MarkdownHeadingCollapsed": true
   },
   "source": [
    "## ytop"
   ]
  },
  {
   "cell_type": "code",
   "execution_count": 11,
   "id": "801b0ffe-cd85-45b9-b8e2-7e56c72da69b",
   "metadata": {
    "collapsed": true,
    "jupyter": {
     "outputs_hidden": true
    },
    "tags": []
   },
   "outputs": [
    {
     "data": {
      "text/html": [
       "<div>\n",
       "<style scoped>\n",
       "    .dataframe tbody tr th:only-of-type {\n",
       "        vertical-align: middle;\n",
       "    }\n",
       "\n",
       "    .dataframe tbody tr th {\n",
       "        vertical-align: top;\n",
       "    }\n",
       "\n",
       "    .dataframe thead th {\n",
       "        text-align: right;\n",
       "    }\n",
       "</style>\n",
       "<table border=\"1\" class=\"dataframe\">\n",
       "  <thead>\n",
       "    <tr style=\"text-align: right;\">\n",
       "      <th></th>\n",
       "      <th>variable</th>\n",
       "      <th>Spearman coeff</th>\n",
       "      <th>Spearman p</th>\n",
       "    </tr>\n",
       "  </thead>\n",
       "  <tbody>\n",
       "    <tr>\n",
       "      <th>19</th>\n",
       "      <td>$DR_{sda}$</td>\n",
       "      <td>-0.49</td>\n",
       "      <td>4.15e-04</td>\n",
       "    </tr>\n",
       "  </tbody>\n",
       "</table>\n",
       "</div>"
      ],
      "text/plain": [
       "      variable  Spearman coeff  Spearman p\n",
       "19  $DR_{sda}$           -0.49    4.15e-04"
      ]
     },
     "metadata": {},
     "output_type": "display_data"
    }
   ],
   "source": [
    "rgt = mp.regressionTableSDT(ms, ms.ss, 'delta_yTop_disturb2', spacing=1.25, logy=False, printOut=False,  package='pgfplot'\n",
    "                            , plot=True, yideal=me.ideals(), plotType='paper', export=False, exportFolder=os.path.join(cfg.path.fig, 'SDT'))\n",
    "display(rgt.df)"
   ]
  },
  {
   "cell_type": "code",
   "execution_count": 13,
   "id": "7de7a66a-65a1-44a1-8c57-dac91f0fa513",
   "metadata": {
    "collapsed": true,
    "jupyter": {
     "outputs_hidden": true
    },
    "tags": []
   },
   "outputs": [
    {
     "data": {
      "text/html": [
       "<div>\n",
       "<style scoped>\n",
       "    .dataframe tbody tr th:only-of-type {\n",
       "        vertical-align: middle;\n",
       "    }\n",
       "\n",
       "    .dataframe tbody tr th {\n",
       "        vertical-align: top;\n",
       "    }\n",
       "\n",
       "    .dataframe thead th {\n",
       "        text-align: right;\n",
       "    }\n",
       "</style>\n",
       "<table border=\"1\" class=\"dataframe\">\n",
       "  <thead>\n",
       "    <tr style=\"text-align: right;\">\n",
       "      <th></th>\n",
       "      <th>variable</th>\n",
       "      <th>Spearman coeff</th>\n",
       "      <th>Spearman p</th>\n",
       "    </tr>\n",
       "  </thead>\n",
       "  <tbody>\n",
       "    <tr>\n",
       "      <th>21</th>\n",
       "      <td>$DR_{ida}/DR_{sda}$</td>\n",
       "      <td>0.2</td>\n",
       "      <td>0.18</td>\n",
       "    </tr>\n",
       "  </tbody>\n",
       "</table>\n",
       "</div>"
      ],
      "text/plain": [
       "               variable  Spearman coeff  Spearman p\n",
       "21  $DR_{ida}/DR_{sda}$             0.2        0.18"
      ]
     },
     "metadata": {},
     "output_type": "display_data"
    }
   ],
   "source": [
    "rgt = mp.regressionTableSDT(ms, ms.ss, 'delta_yTop_write3', spacing=0.5, logy=False, printOut=False,  package='pgfplot'\n",
    "                            , plot=True, yideal=me.ideals(), plotType='paper', export=False, exportFolder=os.path.join(cfg.path.fig, 'SDT'))\n",
    "display(rgt.df)"
   ]
  },
  {
   "cell_type": "markdown",
   "id": "424ab199-4989-4bf7-95c8-d4fa29dcdd41",
   "metadata": {
    "jp-MarkdownHeadingCollapsed": true
   },
   "source": [
    "## w"
   ]
  },
  {
   "cell_type": "code",
   "execution_count": 65,
   "id": "af3400e4-f15a-405c-a025-f5b312126534",
   "metadata": {
    "collapsed": true,
    "jupyter": {
     "outputs_hidden": true
    },
    "tags": []
   },
   "outputs": [
    {
     "data": {
      "text/html": [
       "<div>\n",
       "<style scoped>\n",
       "    .dataframe tbody tr th:only-of-type {\n",
       "        vertical-align: middle;\n",
       "    }\n",
       "\n",
       "    .dataframe tbody tr th {\n",
       "        vertical-align: top;\n",
       "    }\n",
       "\n",
       "    .dataframe thead th {\n",
       "        text-align: right;\n",
       "    }\n",
       "</style>\n",
       "<table border=\"1\" class=\"dataframe\">\n",
       "  <thead>\n",
       "    <tr style=\"text-align: right;\">\n",
       "      <th></th>\n",
       "      <th>variable</th>\n",
       "      <th>Spearman coeff</th>\n",
       "      <th>Spearman p</th>\n",
       "    </tr>\n",
       "  </thead>\n",
       "  <tbody>\n",
       "    <tr>\n",
       "      <th>1</th>\n",
       "      <td>$Oh_{sup}$</td>\n",
       "      <td>-0.43</td>\n",
       "      <td>1.0e-40</td>\n",
       "    </tr>\n",
       "  </tbody>\n",
       "</table>\n",
       "</div>"
      ],
      "text/plain": [
       "     variable Spearman coeff Spearman p\n",
       "1  $Oh_{sup}$          -0.43    1.0e-40"
      ]
     },
     "metadata": {},
     "output_type": "display_data"
    },
    {
     "data": {
      "image/png": "[encoded data removed]",
      "text/plain": [
       "<Figure size 325x357.5 with 1 Axes>"
      ]
     },
     "metadata": {},
     "output_type": "display_data"
    }
   ],
   "source": [
    "rgt = mp.regressionTableSDT(ms, ms.ss, 'w_w1o', logy=False, printOut=False,  package='pgfplot'\n",
    "                            , plot=True, yideal=me.ideals(), plotType='paper', export=False, exportFolder=os.path.join(cfg.path.fig, 'SDT'))\n",
    "display(rgt.df)"
   ]
  },
  {
   "cell_type": "code",
   "execution_count": 63,
   "id": "aa0bc079-9def-410c-b47c-f81a74434240",
   "metadata": {
    "collapsed": true,
    "jupyter": {
     "outputs_hidden": true
    },
    "tags": []
   },
   "outputs": [
    {
     "data": {
      "text/html": [
       "<div>\n",
       "<style scoped>\n",
       "    .dataframe tbody tr th:only-of-type {\n",
       "        vertical-align: middle;\n",
       "    }\n",
       "\n",
       "    .dataframe tbody tr th {\n",
       "        vertical-align: top;\n",
       "    }\n",
       "\n",
       "    .dataframe thead th {\n",
       "        text-align: right;\n",
       "    }\n",
       "</style>\n",
       "<table border=\"1\" class=\"dataframe\">\n",
       "  <thead>\n",
       "    <tr style=\"text-align: right;\">\n",
       "      <th></th>\n",
       "      <th>variable</th>\n",
       "      <th>Spearman coeff</th>\n",
       "      <th>Spearman p</th>\n",
       "    </tr>\n",
       "  </thead>\n",
       "  <tbody>\n",
       "    <tr>\n",
       "      <th>0</th>\n",
       "      <td>spacing</td>\n",
       "      <td>-0.56</td>\n",
       "      <td>3.6e-04</td>\n",
       "    </tr>\n",
       "    <tr>\n",
       "      <th>1</th>\n",
       "      <td>spacing_adj</td>\n",
       "      <td>-0.61</td>\n",
       "      <td>8.5e-05</td>\n",
       "    </tr>\n",
       "    <tr>\n",
       "      <th>2</th>\n",
       "      <td>$\\overline{d_{PR.ink.desc}}$</td>\n",
       "      <td>-0.52</td>\n",
       "      <td>1.1e-03</td>\n",
       "    </tr>\n",
       "  </tbody>\n",
       "</table>\n",
       "</div>"
      ],
      "text/plain": [
       "                       variable Spearman coeff Spearman p\n",
       "0                       spacing          -0.56    3.6e-04\n",
       "1                   spacing_adj          -0.61    8.5e-05\n",
       "2  $\\overline{d_{PR.ink.desc}}$          -0.52    1.1e-03"
      ]
     },
     "metadata": {},
     "output_type": "display_data"
    },
    {
     "data": {
      "image/png": "[encoded data removed]",
      "text/plain": [
       "<Figure size 650x357.5 with 2 Axes>"
      ]
     },
     "metadata": {},
     "output_type": "display_data"
    }
   ],
   "source": [
    "rgt = mp.regressionTableSDT(ms, ms.ss[ms.ss.int_Ca>15], 'delta_w_disturb1', logy=False, printOut=False,  package='pgfplot'\n",
    "                            , plot=True, yideal=me.ideals(), plotType='paper', export=False, exportFolder=os.path.join(cfg.path.fig, 'SDT'))\n",
    "display(rgt.df)"
   ]
  },
  {
   "cell_type": "code",
   "execution_count": 66,
   "id": "ed728eab-48b8-444f-87d0-75f80ce32a17",
   "metadata": {
    "collapsed": true,
    "jupyter": {
     "outputs_hidden": true
    },
    "tags": []
   },
   "outputs": [
    {
     "data": {
      "text/html": [
       "<div>\n",
       "<style scoped>\n",
       "    .dataframe tbody tr th:only-of-type {\n",
       "        vertical-align: middle;\n",
       "    }\n",
       "\n",
       "    .dataframe tbody tr th {\n",
       "        vertical-align: top;\n",
       "    }\n",
       "\n",
       "    .dataframe thead th {\n",
       "        text-align: right;\n",
       "    }\n",
       "</style>\n",
       "<table border=\"1\" class=\"dataframe\">\n",
       "  <thead>\n",
       "    <tr style=\"text-align: right;\">\n",
       "      <th></th>\n",
       "      <th>variable</th>\n",
       "      <th>Spearman coeff</th>\n",
       "      <th>Spearman p</th>\n",
       "    </tr>\n",
       "  </thead>\n",
       "  <tbody>\n",
       "    <tr>\n",
       "      <th>0</th>\n",
       "      <td>$\\tau_{y.ink.asc}/\\tau_{y.sup.asc}$</td>\n",
       "      <td>0.51</td>\n",
       "      <td>1.5e-38</td>\n",
       "    </tr>\n",
       "    <tr>\n",
       "      <th>1</th>\n",
       "      <td>$\\overline{d_{PR.ink.asc}}/\\overline{d_{PR.sup...</td>\n",
       "      <td>0.51</td>\n",
       "      <td>1.5e-38</td>\n",
       "    </tr>\n",
       "  </tbody>\n",
       "</table>\n",
       "</div>"
      ],
      "text/plain": [
       "                                            variable Spearman coeff Spearman p\n",
       "0                $\\tau_{y.ink.asc}/\\tau_{y.sup.asc}$           0.51    1.5e-38\n",
       "1  $\\overline{d_{PR.ink.asc}}/\\overline{d_{PR.sup...           0.51    1.5e-38"
      ]
     },
     "metadata": {},
     "output_type": "display_data"
    },
    {
     "data": {
      "image/png": "[encoded data removed]",
      "text/plain": [
       "<Figure size 650x357.5 with 2 Axes>"
      ]
     },
     "metadata": {},
     "output_type": "display_data"
    }
   ],
   "source": [
    "rgt = mp.regressionTableSDT(ms, ms.ss, 'w_w2o', logy=False, printOut=False,  package='pgfplot'\n",
    "                            , plot=True, yideal=me.ideals(), plotType='paper', export=False, exportFolder=os.path.join(cfg.path.fig, 'SDT'))\n",
    "display(rgt.df)"
   ]
  },
  {
   "cell_type": "code",
   "execution_count": 12,
   "id": "442babe2-233e-4254-ae2f-009a6def6b0f",
   "metadata": {
    "collapsed": true,
    "jupyter": {
     "outputs_hidden": true
    },
    "tags": []
   },
   "outputs": [
    {
     "data": {
      "text/html": [
       "<div>\n",
       "<style scoped>\n",
       "    .dataframe tbody tr th:only-of-type {\n",
       "        vertical-align: middle;\n",
       "    }\n",
       "\n",
       "    .dataframe tbody tr th {\n",
       "        vertical-align: top;\n",
       "    }\n",
       "\n",
       "    .dataframe thead th {\n",
       "        text-align: right;\n",
       "    }\n",
       "</style>\n",
       "<table border=\"1\" class=\"dataframe\">\n",
       "  <thead>\n",
       "    <tr style=\"text-align: right;\">\n",
       "      <th></th>\n",
       "      <th>variable</th>\n",
       "      <th>Spearman coeff</th>\n",
       "      <th>Spearman p</th>\n",
       "    </tr>\n",
       "  </thead>\n",
       "  <tbody>\n",
       "    <tr>\n",
       "      <th>1</th>\n",
       "      <td>adjusted spacing</td>\n",
       "      <td>-0.41</td>\n",
       "      <td>4.4e-04</td>\n",
       "    </tr>\n",
       "  </tbody>\n",
       "</table>\n",
       "</div>"
      ],
      "text/plain": [
       "           variable Spearman coeff Spearman p\n",
       "1  adjusted spacing          -0.41    4.4e-04"
      ]
     },
     "metadata": {},
     "output_type": "display_data"
    }
   ],
   "source": [
    "rgt = mp.regressionTableSDT(ms, ms.ss, 'delta_w_write2', Camin=15, logy=False, printOut=False,  package='pgfplot'\n",
    "                            , plot=True, yideal=me.ideals(), plotType='paper', export=False, exportFolder=os.path.join(cfg.path.fig, 'SDT'))\n",
    "display(rgt.df)"
   ]
  },
  {
   "cell_type": "code",
   "execution_count": 14,
   "id": "eb276b84-d6fa-4fa0-b4ee-142fdd419865",
   "metadata": {
    "collapsed": true,
    "jupyter": {
     "outputs_hidden": true
    }
   },
   "outputs": [
    {
     "data": {
      "text/plain": [
       "array([10.])"
      ]
     },
     "execution_count": 14,
     "metadata": {},
     "output_type": "execute_result"
    }
   ],
   "source": [
    "ms.ss.ink_v.unique()"
   ]
  },
  {
   "cell_type": "code",
   "execution_count": 68,
   "id": "3ee85ece-a0e7-44a6-81cd-bec85c19101a",
   "metadata": {
    "collapsed": true,
    "jupyter": {
     "outputs_hidden": true
    },
    "tags": []
   },
   "outputs": [
    {
     "data": {
      "text/html": [
       "<div>\n",
       "<style scoped>\n",
       "    .dataframe tbody tr th:only-of-type {\n",
       "        vertical-align: middle;\n",
       "    }\n",
       "\n",
       "    .dataframe tbody tr th {\n",
       "        vertical-align: top;\n",
       "    }\n",
       "\n",
       "    .dataframe thead th {\n",
       "        text-align: right;\n",
       "    }\n",
       "</style>\n",
       "<table border=\"1\" class=\"dataframe\">\n",
       "  <thead>\n",
       "    <tr style=\"text-align: right;\">\n",
       "      <th></th>\n",
       "      <th>variable</th>\n",
       "      <th>Spearman coeff</th>\n",
       "      <th>Spearman p</th>\n",
       "    </tr>\n",
       "  </thead>\n",
       "  <tbody>\n",
       "    <tr>\n",
       "      <th>0</th>\n",
       "      <td>spacing_adj</td>\n",
       "      <td>-0.62</td>\n",
       "      <td>1.1e-08</td>\n",
       "    </tr>\n",
       "  </tbody>\n",
       "</table>\n",
       "</div>"
      ],
      "text/plain": [
       "      variable Spearman coeff Spearman p\n",
       "0  spacing_adj          -0.62    1.1e-08"
      ]
     },
     "metadata": {},
     "output_type": "display_data"
    },
    {
     "data": {
      "image/png": "[encoded data removed]",
      "text/plain": [
       "<Figure size 325x357.5 with 1 Axes>"
      ]
     },
     "metadata": {},
     "output_type": "display_data"
    }
   ],
   "source": [
    "rgt = mp.regressionTableSDT(ms, ms.ss[ms.ss.int_Ca>15], 'w_w2o', logy=False, printOut=False,  package='pgfplot'\n",
    "                            , plot=True, yideal=me.ideals(), plotType='paper', export=False, exportFolder=os.path.join(cfg.path.fig, 'SDT'))\n",
    "display(rgt.df)"
   ]
  },
  {
   "cell_type": "code",
   "execution_count": 70,
   "id": "343601dd-4167-4bff-af6e-e4a11a96d3f5",
   "metadata": {
    "collapsed": true,
    "jupyter": {
     "outputs_hidden": true
    },
    "tags": []
   },
   "outputs": [
    {
     "data": {
      "text/html": [
       "<div>\n",
       "<style scoped>\n",
       "    .dataframe tbody tr th:only-of-type {\n",
       "        vertical-align: middle;\n",
       "    }\n",
       "\n",
       "    .dataframe tbody tr th {\n",
       "        vertical-align: top;\n",
       "    }\n",
       "\n",
       "    .dataframe thead th {\n",
       "        text-align: right;\n",
       "    }\n",
       "</style>\n",
       "<table border=\"1\" class=\"dataframe\">\n",
       "  <thead>\n",
       "    <tr style=\"text-align: right;\">\n",
       "      <th></th>\n",
       "      <th>variable</th>\n",
       "      <th>Spearman coeff</th>\n",
       "      <th>Spearman p</th>\n",
       "    </tr>\n",
       "  </thead>\n",
       "  <tbody>\n",
       "    <tr>\n",
       "      <th>1</th>\n",
       "      <td>spacing_adj</td>\n",
       "      <td>-0.12</td>\n",
       "      <td>5.0e-02</td>\n",
       "    </tr>\n",
       "  </tbody>\n",
       "</table>\n",
       "</div>"
      ],
      "text/plain": [
       "      variable Spearman coeff Spearman p\n",
       "1  spacing_adj          -0.12    5.0e-02"
      ]
     },
     "metadata": {},
     "output_type": "display_data"
    },
    {
     "data": {
      "image/png": "[encoded data removed]",
      "text/plain": [
       "<Figure size 325x357.5 with 1 Axes>"
      ]
     },
     "metadata": {},
     "output_type": "display_data"
    }
   ],
   "source": [
    "rgt = mp.regressionTableSDT(ms, ms.ss, 'delta_w_write3', logy=False, printOut=False,  package='pgfplot'\n",
    "                            , plot=True, yideal=me.ideals(), plotType='paper', export=False, exportFolder=os.path.join(cfg.path.fig, 'SDT'))\n",
    "display(rgt.df)"
   ]
  },
  {
   "cell_type": "markdown",
   "id": "a2e1cfbf-659b-4491-98f4-301a48d1b037",
   "metadata": {
    "jp-MarkdownHeadingCollapsed": true
   },
   "source": [
    "## h"
   ]
  },
  {
   "cell_type": "code",
   "execution_count": 17,
   "id": "63725397-a8df-4cb6-8907-c9366137e069",
   "metadata": {
    "collapsed": true,
    "jupyter": {
     "outputs_hidden": true
    },
    "tags": []
   },
   "outputs": [
    {
     "data": {
      "text/html": [
       "<div>\n",
       "<style scoped>\n",
       "    .dataframe tbody tr th:only-of-type {\n",
       "        vertical-align: middle;\n",
       "    }\n",
       "\n",
       "    .dataframe tbody tr th {\n",
       "        vertical-align: top;\n",
       "    }\n",
       "\n",
       "    .dataframe thead th {\n",
       "        text-align: right;\n",
       "    }\n",
       "</style>\n",
       "<table border=\"1\" class=\"dataframe\">\n",
       "  <thead>\n",
       "    <tr style=\"text-align: right;\">\n",
       "      <th></th>\n",
       "      <th>variable</th>\n",
       "      <th>Spearman coeff</th>\n",
       "      <th>Spearman p</th>\n",
       "    </tr>\n",
       "  </thead>\n",
       "  <tbody>\n",
       "    <tr>\n",
       "      <th>17</th>\n",
       "      <td>$\\overline{d_{PR.ink.asc,adj}}\\times \\overline...</td>\n",
       "      <td>-0.31</td>\n",
       "      <td>1.01e-07</td>\n",
       "    </tr>\n",
       "  </tbody>\n",
       "</table>\n",
       "</div>"
      ],
      "text/plain": [
       "                                             variable  Spearman coeff  \\\n",
       "17  $\\overline{d_{PR.ink.asc,adj}}\\times \\overline...           -0.31   \n",
       "\n",
       "    Spearman p  \n",
       "17    1.01e-07  "
      ]
     },
     "metadata": {},
     "output_type": "display_data"
    }
   ],
   "source": [
    "rgt = mp.regressionTableSDT(ms, ms.ss, 'delta_h_disturb1', logy=False, printOut=False,  package='pgfplot'\n",
    "                            , plot=True, yideal=me.ideals(), plotType='paper', export=False, exportFolder=os.path.join(cfg.path.fig, 'SDT'))\n",
    "display(rgt.df)"
   ]
  },
  {
   "cell_type": "code",
   "execution_count": 80,
   "id": "ab680378-ca4c-4539-9189-a9c0ffde97cb",
   "metadata": {
    "collapsed": true,
    "jupyter": {
     "outputs_hidden": true
    },
    "scrolled": true,
    "tags": []
   },
   "outputs": [
    {
     "data": {
      "text/html": [
       "<div>\n",
       "<style scoped>\n",
       "    .dataframe tbody tr th:only-of-type {\n",
       "        vertical-align: middle;\n",
       "    }\n",
       "\n",
       "    .dataframe tbody tr th {\n",
       "        vertical-align: top;\n",
       "    }\n",
       "\n",
       "    .dataframe thead th {\n",
       "        text-align: right;\n",
       "    }\n",
       "</style>\n",
       "<table border=\"1\" class=\"dataframe\">\n",
       "  <thead>\n",
       "    <tr style=\"text-align: right;\">\n",
       "      <th></th>\n",
       "      <th>variable</th>\n",
       "      <th>Spearman coeff</th>\n",
       "      <th>Spearman p</th>\n",
       "    </tr>\n",
       "  </thead>\n",
       "  <tbody>\n",
       "    <tr>\n",
       "      <th>0</th>\n",
       "      <td>spacing_adj</td>\n",
       "      <td>-0.69</td>\n",
       "      <td>1.7e-82</td>\n",
       "    </tr>\n",
       "  </tbody>\n",
       "</table>\n",
       "</div>"
      ],
      "text/plain": [
       "      variable Spearman coeff Spearman p\n",
       "0  spacing_adj          -0.69    1.7e-82"
      ]
     },
     "metadata": {},
     "output_type": "display_data"
    },
    {
     "data": {
      "image/png": "[encoded data removed]",
      "text/plain": [
       "<Figure size 325x357.5 with 1 Axes>"
      ]
     },
     "metadata": {},
     "output_type": "display_data"
    }
   ],
   "source": [
    "rgt = mp.regressionTableSDT(ms, ms.ss, 'h_w2o', logy=False, printOut=False,  package='pgfplot'\n",
    "                            , plot=True, yideal=me.ideals(), plotType='paper', export=False, exportFolder=os.path.join(cfg.path.fig, 'SDT'))\n",
    "display(rgt.df)"
   ]
  },
  {
   "cell_type": "code",
   "execution_count": 91,
   "id": "56d48436-5707-459c-bf10-e98b7a2a3022",
   "metadata": {
    "collapsed": true,
    "jupyter": {
     "outputs_hidden": true
    },
    "scrolled": true,
    "tags": []
   },
   "outputs": [
    {
     "data": {
      "text/html": [
       "<div>\n",
       "<style scoped>\n",
       "    .dataframe tbody tr th:only-of-type {\n",
       "        vertical-align: middle;\n",
       "    }\n",
       "\n",
       "    .dataframe tbody tr th {\n",
       "        vertical-align: top;\n",
       "    }\n",
       "\n",
       "    .dataframe thead th {\n",
       "        text-align: right;\n",
       "    }\n",
       "</style>\n",
       "<table border=\"1\" class=\"dataframe\">\n",
       "  <thead>\n",
       "    <tr style=\"text-align: right;\">\n",
       "      <th></th>\n",
       "      <th>variable</th>\n",
       "      <th>Spearman coeff</th>\n",
       "      <th>Spearman p</th>\n",
       "    </tr>\n",
       "  </thead>\n",
       "  <tbody>\n",
       "    <tr>\n",
       "      <th>0</th>\n",
       "      <td>$Ca$</td>\n",
       "      <td>-0.55</td>\n",
       "      <td>5.0e-05</td>\n",
       "    </tr>\n",
       "    <tr>\n",
       "      <th>1</th>\n",
       "      <td>$Ca_{sup}$</td>\n",
       "      <td>-0.55</td>\n",
       "      <td>5.0e-05</td>\n",
       "    </tr>\n",
       "    <tr>\n",
       "      <th>2</th>\n",
       "      <td>$\\overline{d_{PR.sup.asc}}$</td>\n",
       "      <td>-0.50</td>\n",
       "      <td>2.8e-04</td>\n",
       "    </tr>\n",
       "    <tr>\n",
       "      <th>3</th>\n",
       "      <td>$\\overline{d_{PR.ink.desc}}$</td>\n",
       "      <td>-0.50</td>\n",
       "      <td>2.7e-04</td>\n",
       "    </tr>\n",
       "    <tr>\n",
       "      <th>4</th>\n",
       "      <td>$\\overline{d_{PR.sup.desc}}$</td>\n",
       "      <td>-0.54</td>\n",
       "      <td>6.2e-05</td>\n",
       "    </tr>\n",
       "    <tr>\n",
       "      <th>5</th>\n",
       "      <td>$\\overline{d_{PR.ink.desc}}\\times \\overline{d_...</td>\n",
       "      <td>-0.56</td>\n",
       "      <td>4.2e-05</td>\n",
       "    </tr>\n",
       "    <tr>\n",
       "      <th>6</th>\n",
       "      <td>$Oh_{sup}$</td>\n",
       "      <td>-0.60</td>\n",
       "      <td>7.0e-06</td>\n",
       "    </tr>\n",
       "  </tbody>\n",
       "</table>\n",
       "</div>"
      ],
      "text/plain": [
       "                                            variable Spearman coeff Spearman p\n",
       "0                                               $Ca$          -0.55    5.0e-05\n",
       "1                                         $Ca_{sup}$          -0.55    5.0e-05\n",
       "2                        $\\overline{d_{PR.sup.asc}}$          -0.50    2.8e-04\n",
       "3                       $\\overline{d_{PR.ink.desc}}$          -0.50    2.7e-04\n",
       "4                       $\\overline{d_{PR.sup.desc}}$          -0.54    6.2e-05\n",
       "5  $\\overline{d_{PR.ink.desc}}\\times \\overline{d_...          -0.56    4.2e-05\n",
       "6                                         $Oh_{sup}$          -0.60    7.0e-06"
      ]
     },
     "metadata": {},
     "output_type": "display_data"
    },
    {
     "data": {
      "image/png": "[encoded data removed]",
      "text/plain": [
       "<Figure size 650x357.5 with 5 Axes>"
      ]
     },
     "metadata": {},
     "output_type": "display_data"
    }
   ],
   "source": [
    "rgt = mp.regressionTableSDT(ms, ms.ss[ms.ss.spacing==1], 'delta_h_disturb2',logy=False, printOut=False,  package='pgfplot'\n",
    "                            , plot=True, yideal=me.ideals(), plotType='paper', export=False, exportFolder=os.path.join(cfg.path.fig, 'SDT'))\n",
    "display(rgt.df)"
   ]
  },
  {
   "cell_type": "code",
   "execution_count": 95,
   "id": "3954caf5-cd8e-45aa-8473-2dafa0d9f864",
   "metadata": {
    "collapsed": true,
    "jupyter": {
     "outputs_hidden": true
    },
    "tags": []
   },
   "outputs": [
    {
     "data": {
      "text/html": [
       "<div>\n",
       "<style scoped>\n",
       "    .dataframe tbody tr th:only-of-type {\n",
       "        vertical-align: middle;\n",
       "    }\n",
       "\n",
       "    .dataframe tbody tr th {\n",
       "        vertical-align: top;\n",
       "    }\n",
       "\n",
       "    .dataframe thead th {\n",
       "        text-align: right;\n",
       "    }\n",
       "</style>\n",
       "<table border=\"1\" class=\"dataframe\">\n",
       "  <thead>\n",
       "    <tr style=\"text-align: right;\">\n",
       "      <th></th>\n",
       "      <th>variable</th>\n",
       "      <th>Spearman coeff</th>\n",
       "      <th>Spearman p</th>\n",
       "    </tr>\n",
       "  </thead>\n",
       "  <tbody>\n",
       "    <tr>\n",
       "      <th>0</th>\n",
       "      <td>spacing</td>\n",
       "      <td>-0.27</td>\n",
       "      <td>3.2e-06</td>\n",
       "    </tr>\n",
       "  </tbody>\n",
       "</table>\n",
       "</div>"
      ],
      "text/plain": [
       "  variable Spearman coeff Spearman p\n",
       "0  spacing          -0.27    3.2e-06"
      ]
     },
     "metadata": {},
     "output_type": "display_data"
    },
    {
     "data": {
      "image/png": "[encoded data removed]",
      "text/plain": [
       "<Figure size 325x357.5 with 1 Axes>"
      ]
     },
     "metadata": {},
     "output_type": "display_data"
    }
   ],
   "source": [
    "rgt = mp.regressionTableSDT(ms, ms.ss, 'delta_h_write3',logy=False, printOut=False,  package='pgfplot'\n",
    "                            , plot=True, yideal=me.ideals(), plotType='paper', export=False, exportFolder=os.path.join(cfg.path.fig, 'SDT'))\n",
    "display(rgt.df)"
   ]
  },
  {
   "cell_type": "markdown",
   "id": "19e9b048-255f-4a33-bd2b-e1ed19c33e5d",
   "metadata": {
    "jp-MarkdownHeadingCollapsed": true
   },
   "source": [
    "## aspectI"
   ]
  },
  {
   "cell_type": "code",
   "execution_count": 97,
   "id": "ebad9489-91c2-49b7-bccd-877bf5b01617",
   "metadata": {
    "collapsed": true,
    "jupyter": {
     "outputs_hidden": true
    },
    "tags": []
   },
   "outputs": [
    {
     "data": {
      "text/html": [
       "<div>\n",
       "<style scoped>\n",
       "    .dataframe tbody tr th:only-of-type {\n",
       "        vertical-align: middle;\n",
       "    }\n",
       "\n",
       "    .dataframe tbody tr th {\n",
       "        vertical-align: top;\n",
       "    }\n",
       "\n",
       "    .dataframe thead th {\n",
       "        text-align: right;\n",
       "    }\n",
       "</style>\n",
       "<table border=\"1\" class=\"dataframe\">\n",
       "  <thead>\n",
       "    <tr style=\"text-align: right;\">\n",
       "      <th></th>\n",
       "      <th>variable</th>\n",
       "      <th>Spearman coeff</th>\n",
       "      <th>Spearman p</th>\n",
       "    </tr>\n",
       "  </thead>\n",
       "  <tbody>\n",
       "    <tr>\n",
       "      <th>0</th>\n",
       "      <td>$Oh_{sup}$</td>\n",
       "      <td>0.53</td>\n",
       "      <td>4.4e-63</td>\n",
       "    </tr>\n",
       "  </tbody>\n",
       "</table>\n",
       "</div>"
      ],
      "text/plain": [
       "     variable Spearman coeff Spearman p\n",
       "0  $Oh_{sup}$           0.53    4.4e-63"
      ]
     },
     "metadata": {},
     "output_type": "display_data"
    },
    {
     "data": {
      "image/png": "[encoded data removed]",
      "text/plain": [
       "<Figure size 325x357.5 with 1 Axes>"
      ]
     },
     "metadata": {},
     "output_type": "display_data"
    }
   ],
   "source": [
    "rgt = mp.regressionTableSDT(ms, ms.ss, 'aspectI_w1o',logy=False, printOut=False,  package='pgfplot'\n",
    "                            , plot=True, yideal=me.ideals(), plotType='paper', export=False, exportFolder=os.path.join(cfg.path.fig, 'SDT'))\n",
    "display(rgt.df)"
   ]
  },
  {
   "cell_type": "code",
   "execution_count": 98,
   "id": "c3dbfac5-bf74-4b50-bc2a-2c80901511e6",
   "metadata": {
    "collapsed": true,
    "jupyter": {
     "outputs_hidden": true
    },
    "tags": []
   },
   "outputs": [
    {
     "data": {
      "text/html": [
       "<div>\n",
       "<style scoped>\n",
       "    .dataframe tbody tr th:only-of-type {\n",
       "        vertical-align: middle;\n",
       "    }\n",
       "\n",
       "    .dataframe tbody tr th {\n",
       "        vertical-align: top;\n",
       "    }\n",
       "\n",
       "    .dataframe thead th {\n",
       "        text-align: right;\n",
       "    }\n",
       "</style>\n",
       "<table border=\"1\" class=\"dataframe\">\n",
       "  <thead>\n",
       "    <tr style=\"text-align: right;\">\n",
       "      <th></th>\n",
       "      <th>variable</th>\n",
       "      <th>Spearman coeff</th>\n",
       "      <th>Spearman p</th>\n",
       "    </tr>\n",
       "  </thead>\n",
       "  <tbody>\n",
       "    <tr>\n",
       "      <th>1</th>\n",
       "      <td>$\\overline{d_{PR.sup.desc}}$</td>\n",
       "      <td>-0.35</td>\n",
       "      <td>6.4e-10</td>\n",
       "    </tr>\n",
       "  </tbody>\n",
       "</table>\n",
       "</div>"
      ],
      "text/plain": [
       "                       variable Spearman coeff Spearman p\n",
       "1  $\\overline{d_{PR.sup.desc}}$          -0.35    6.4e-10"
      ]
     },
     "metadata": {},
     "output_type": "display_data"
    },
    {
     "data": {
      "image/png": "[encoded data removed]",
      "text/plain": [
       "<Figure size 325x357.5 with 1 Axes>"
      ]
     },
     "metadata": {},
     "output_type": "display_data"
    }
   ],
   "source": [
    "rgt = mp.regressionTableSDT(ms, ms.ss, 'delta_aspectI_disturb1',logy=False, printOut=False,  package='pgfplot'\n",
    "                            , plot=True, yideal=me.ideals(), plotType='paper', export=False, exportFolder=os.path.join(cfg.path.fig, 'SDT'))\n",
    "display(rgt.df)"
   ]
  },
  {
   "cell_type": "code",
   "execution_count": 99,
   "id": "43e650a1-838b-4131-a299-57c8461bd09b",
   "metadata": {
    "collapsed": true,
    "jupyter": {
     "outputs_hidden": true
    },
    "tags": []
   },
   "outputs": [
    {
     "data": {
      "text/html": [
       "<div>\n",
       "<style scoped>\n",
       "    .dataframe tbody tr th:only-of-type {\n",
       "        vertical-align: middle;\n",
       "    }\n",
       "\n",
       "    .dataframe tbody tr th {\n",
       "        vertical-align: top;\n",
       "    }\n",
       "\n",
       "    .dataframe thead th {\n",
       "        text-align: right;\n",
       "    }\n",
       "</style>\n",
       "<table border=\"1\" class=\"dataframe\">\n",
       "  <thead>\n",
       "    <tr style=\"text-align: right;\">\n",
       "      <th></th>\n",
       "      <th>variable</th>\n",
       "      <th>Spearman coeff</th>\n",
       "      <th>Spearman p</th>\n",
       "    </tr>\n",
       "  </thead>\n",
       "  <tbody>\n",
       "    <tr>\n",
       "      <th>0</th>\n",
       "      <td>spacing</td>\n",
       "      <td>-0.34</td>\n",
       "      <td>1.9e-17</td>\n",
       "    </tr>\n",
       "  </tbody>\n",
       "</table>\n",
       "</div>"
      ],
      "text/plain": [
       "  variable Spearman coeff Spearman p\n",
       "0  spacing          -0.34    1.9e-17"
      ]
     },
     "metadata": {},
     "output_type": "display_data"
    },
    {
     "data": {
      "image/png": "[encoded data removed]",
      "text/plain": [
       "<Figure size 325x357.5 with 1 Axes>"
      ]
     },
     "metadata": {},
     "output_type": "display_data"
    }
   ],
   "source": [
    "rgt = mp.regressionTableSDT(ms, ms.ss, 'delta_aspectI_write2',logy=False, printOut=False,  package='pgfplot'\n",
    "                            , plot=True, yideal=me.ideals(), plotType='paper', export=False, exportFolder=os.path.join(cfg.path.fig, 'SDT'))\n",
    "display(rgt.df)"
   ]
  },
  {
   "cell_type": "code",
   "execution_count": 19,
   "id": "928b9c16-d665-4e3e-ad60-320de0ed933e",
   "metadata": {
    "collapsed": true,
    "jupyter": {
     "outputs_hidden": true
    },
    "tags": []
   },
   "outputs": [
    {
     "data": {
      "text/html": [
       "<div>\n",
       "<style scoped>\n",
       "    .dataframe tbody tr th:only-of-type {\n",
       "        vertical-align: middle;\n",
       "    }\n",
       "\n",
       "    .dataframe tbody tr th {\n",
       "        vertical-align: top;\n",
       "    }\n",
       "\n",
       "    .dataframe thead th {\n",
       "        text-align: right;\n",
       "    }\n",
       "</style>\n",
       "<table border=\"1\" class=\"dataframe\">\n",
       "  <thead>\n",
       "    <tr style=\"text-align: right;\">\n",
       "      <th></th>\n",
       "      <th>variable</th>\n",
       "      <th>Spearman coeff</th>\n",
       "      <th>Spearman p</th>\n",
       "    </tr>\n",
       "  </thead>\n",
       "  <tbody>\n",
       "    <tr>\n",
       "      <th>45</th>\n",
       "      <td>$\\eta_{ink}\\times \\eta_{sup}$</td>\n",
       "      <td>-0.5</td>\n",
       "      <td>2.65e-37</td>\n",
       "    </tr>\n",
       "  </tbody>\n",
       "</table>\n",
       "</div>"
      ],
      "text/plain": [
       "                         variable  Spearman coeff  Spearman p\n",
       "45  $\\eta_{ink}\\times \\eta_{sup}$            -0.5    2.65e-37"
      ]
     },
     "metadata": {},
     "output_type": "display_data"
    }
   ],
   "source": [
    "rgt = mp.regressionTableSDT(ms, ms.ss, 'xshift_w2o',logy=False, printOut=False,  package='pgfplot'\n",
    "                            , plot=True, yideal=me.ideals(), plotType='paper', export=False, exportFolder=os.path.join(cfg.path.fig, 'SDT'))\n",
    "display(rgt.df)"
   ]
  },
  {
   "cell_type": "code",
   "execution_count": 20,
   "id": "59e54a80-5ecb-43a2-bc23-a5ce2be1c90c",
   "metadata": {
    "collapsed": true,
    "jupyter": {
     "outputs_hidden": true
    },
    "tags": []
   },
   "outputs": [
    {
     "data": {
      "text/html": [
       "<div>\n",
       "<style scoped>\n",
       "    .dataframe tbody tr th:only-of-type {\n",
       "        vertical-align: middle;\n",
       "    }\n",
       "\n",
       "    .dataframe tbody tr th {\n",
       "        vertical-align: top;\n",
       "    }\n",
       "\n",
       "    .dataframe thead th {\n",
       "        text-align: right;\n",
       "    }\n",
       "</style>\n",
       "<table border=\"1\" class=\"dataframe\">\n",
       "  <thead>\n",
       "    <tr style=\"text-align: right;\">\n",
       "      <th></th>\n",
       "      <th>variable</th>\n",
       "      <th>Spearman coeff</th>\n",
       "      <th>Spearman p</th>\n",
       "    </tr>\n",
       "  </thead>\n",
       "  <tbody>\n",
       "  </tbody>\n",
       "</table>\n",
       "</div>"
      ],
      "text/plain": [
       "Empty DataFrame\n",
       "Columns: [variable, Spearman coeff, Spearman p]\n",
       "Index: []"
      ]
     },
     "metadata": {},
     "output_type": "display_data"
    }
   ],
   "source": [
    "rgt = mp.regressionTableSDT(ms, ms.ss, 'yshift_w2o',logy=False, printOut=False,  package='pgfplot'\n",
    "                            , plot=True, yideal=me.ideals(), plotType='paper', export=False, exportFolder=os.path.join(cfg.path.fig, 'SDT'))\n",
    "display(rgt.df)"
   ]
  },
  {
   "cell_type": "markdown",
   "id": "c0f6e467-1f25-413f-9d7b-512af1fd168f",
   "metadata": {
    "jp-MarkdownHeadingCollapsed": true
   },
   "source": [
    "## emptiness"
   ]
  },
  {
   "cell_type": "code",
   "execution_count": 109,
   "id": "45bf7c47-b881-4b45-acd1-74e8ec05c330",
   "metadata": {
    "collapsed": true,
    "jupyter": {
     "outputs_hidden": true
    },
    "tags": []
   },
   "outputs": [
    {
     "data": {
      "text/html": [
       "<div>\n",
       "<style scoped>\n",
       "    .dataframe tbody tr th:only-of-type {\n",
       "        vertical-align: middle;\n",
       "    }\n",
       "\n",
       "    .dataframe tbody tr th {\n",
       "        vertical-align: top;\n",
       "    }\n",
       "\n",
       "    .dataframe thead th {\n",
       "        text-align: right;\n",
       "    }\n",
       "</style>\n",
       "<table border=\"1\" class=\"dataframe\">\n",
       "  <thead>\n",
       "    <tr style=\"text-align: right;\">\n",
       "      <th></th>\n",
       "      <th>variable</th>\n",
       "      <th>Spearman coeff</th>\n",
       "      <th>Spearman p</th>\n",
       "    </tr>\n",
       "  </thead>\n",
       "  <tbody>\n",
       "    <tr>\n",
       "      <th>0</th>\n",
       "      <td>spacing</td>\n",
       "      <td>0.55</td>\n",
       "      <td>8.1e-46</td>\n",
       "    </tr>\n",
       "    <tr>\n",
       "      <th>1</th>\n",
       "      <td>$Ca$</td>\n",
       "      <td>0.51</td>\n",
       "      <td>4.4e-39</td>\n",
       "    </tr>\n",
       "    <tr>\n",
       "      <th>2</th>\n",
       "      <td>$Ca_{sup}$</td>\n",
       "      <td>0.51</td>\n",
       "      <td>4.4e-39</td>\n",
       "    </tr>\n",
       "    <tr>\n",
       "      <th>3</th>\n",
       "      <td>$\\overline{d_{PR.sup.asc}}$</td>\n",
       "      <td>0.50</td>\n",
       "      <td>1.0e-37</td>\n",
       "    </tr>\n",
       "    <tr>\n",
       "      <th>4</th>\n",
       "      <td>$\\overline{d_{PR.sup.desc}}$</td>\n",
       "      <td>0.54</td>\n",
       "      <td>2.6e-44</td>\n",
       "    </tr>\n",
       "    <tr>\n",
       "      <th>5</th>\n",
       "      <td>$\\overline{d_{PR.ink.desc}}\\times \\overline{d_...</td>\n",
       "      <td>0.50</td>\n",
       "      <td>5.4e-38</td>\n",
       "    </tr>\n",
       "    <tr>\n",
       "      <th>6</th>\n",
       "      <td>$Oh_{sup}$</td>\n",
       "      <td>0.56</td>\n",
       "      <td>5.0e-48</td>\n",
       "    </tr>\n",
       "  </tbody>\n",
       "</table>\n",
       "</div>"
      ],
      "text/plain": [
       "                                            variable Spearman coeff Spearman p\n",
       "0                                            spacing           0.55    8.1e-46\n",
       "1                                               $Ca$           0.51    4.4e-39\n",
       "2                                         $Ca_{sup}$           0.51    4.4e-39\n",
       "3                        $\\overline{d_{PR.sup.asc}}$           0.50    1.0e-37\n",
       "4                       $\\overline{d_{PR.sup.desc}}$           0.54    2.6e-44\n",
       "5  $\\overline{d_{PR.ink.desc}}\\times \\overline{d_...           0.50    5.4e-38\n",
       "6                                         $Oh_{sup}$           0.56    5.0e-48"
      ]
     },
     "metadata": {},
     "output_type": "display_data"
    },
    {
     "data": {
      "image/png": "[encoded data removed]",
      "text/plain": [
       "<Figure size 650x357.5 with 6 Axes>"
      ]
     },
     "metadata": {},
     "output_type": "display_data"
    }
   ],
   "source": [
    "rgt = mp.regressionTableSDT(ms, ms.ss, 'emptiness_w2o',logy=False, printOut=False,  package='pgfplot'\n",
    "                            , plot=True, yideal=me.ideals(), plotType='paper', export=False, exportFolder=os.path.join(cfg.path.fig, 'SDT'))\n",
    "display(rgt.df)"
   ]
  },
  {
   "cell_type": "markdown",
   "id": "88105f83-7ca9-4c13-a4f2-6fb47cbc5489",
   "metadata": {
    "jp-MarkdownHeadingCollapsed": true
   },
   "source": [
    "## segments"
   ]
  },
  {
   "cell_type": "code",
   "execution_count": 113,
   "id": "9a385062-2f4a-4839-a6fe-d57de096a9c3",
   "metadata": {
    "collapsed": true,
    "jupyter": {
     "outputs_hidden": true
    },
    "tags": []
   },
   "outputs": [
    {
     "data": {
      "text/html": [
       "<div>\n",
       "<style scoped>\n",
       "    .dataframe tbody tr th:only-of-type {\n",
       "        vertical-align: middle;\n",
       "    }\n",
       "\n",
       "    .dataframe tbody tr th {\n",
       "        vertical-align: top;\n",
       "    }\n",
       "\n",
       "    .dataframe thead th {\n",
       "        text-align: right;\n",
       "    }\n",
       "</style>\n",
       "<table border=\"1\" class=\"dataframe\">\n",
       "  <thead>\n",
       "    <tr style=\"text-align: right;\">\n",
       "      <th></th>\n",
       "      <th>variable</th>\n",
       "      <th>Spearman coeff</th>\n",
       "      <th>Spearman p</th>\n",
       "    </tr>\n",
       "  </thead>\n",
       "  <tbody>\n",
       "    <tr>\n",
       "      <th>0</th>\n",
       "      <td>$\\tau_{y.ink.asc}/\\tau_{y.sup.asc}$</td>\n",
       "      <td>-0.54</td>\n",
       "      <td>1.4e-08</td>\n",
       "    </tr>\n",
       "    <tr>\n",
       "      <th>1</th>\n",
       "      <td>$\\overline{d_{PR.ink.asc}}/\\overline{d_{PR.sup...</td>\n",
       "      <td>-0.54</td>\n",
       "      <td>1.4e-08</td>\n",
       "    </tr>\n",
       "    <tr>\n",
       "      <th>2</th>\n",
       "      <td>$\\overline{d_{PR.sup.desc}}$</td>\n",
       "      <td>0.51</td>\n",
       "      <td>1.2e-07</td>\n",
       "    </tr>\n",
       "    <tr>\n",
       "      <th>3</th>\n",
       "      <td>$Oh_{sup}$</td>\n",
       "      <td>0.53</td>\n",
       "      <td>3.3e-08</td>\n",
       "    </tr>\n",
       "  </tbody>\n",
       "</table>\n",
       "</div>"
      ],
      "text/plain": [
       "                                            variable Spearman coeff Spearman p\n",
       "0                $\\tau_{y.ink.asc}/\\tau_{y.sup.asc}$          -0.54    1.4e-08\n",
       "1  $\\overline{d_{PR.ink.asc}}/\\overline{d_{PR.sup...          -0.54    1.4e-08\n",
       "2                       $\\overline{d_{PR.sup.desc}}$           0.51    1.2e-07\n",
       "3                                         $Oh_{sup}$           0.53    3.3e-08"
      ]
     },
     "metadata": {},
     "output_type": "display_data"
    },
    {
     "data": {
      "image/png": "[encoded data removed]",
      "text/plain": [
       "<Figure size 650x178.75 with 4 Axes>"
      ]
     },
     "metadata": {},
     "output_type": "display_data"
    }
   ],
   "source": [
    "rgt = mp.regressionTableSDT(ms, ms.ss[ms.ss.spacing==1.25], 'segments_w2o',logy=False, printOut=False,  package='pgfplot'\n",
    "                            , plot=True, yideal=me.ideals(), plotType='paper', export=False, exportFolder=os.path.join(cfg.path.fig, 'SDT'))\n",
    "display(rgt.df)"
   ]
  },
  {
   "cell_type": "code",
   "execution_count": 117,
   "id": "d3c84079-ce71-4d40-a2b4-1250bcc8b521",
   "metadata": {
    "collapsed": true,
    "jupyter": {
     "outputs_hidden": true
    },
    "tags": []
   },
   "outputs": [
    {
     "data": {
      "text/html": [
       "<div>\n",
       "<style scoped>\n",
       "    .dataframe tbody tr th:only-of-type {\n",
       "        vertical-align: middle;\n",
       "    }\n",
       "\n",
       "    .dataframe tbody tr th {\n",
       "        vertical-align: top;\n",
       "    }\n",
       "\n",
       "    .dataframe thead th {\n",
       "        text-align: right;\n",
       "    }\n",
       "</style>\n",
       "<table border=\"1\" class=\"dataframe\">\n",
       "  <thead>\n",
       "    <tr style=\"text-align: right;\">\n",
       "      <th></th>\n",
       "      <th>variable</th>\n",
       "      <th>Spearman coeff</th>\n",
       "      <th>Spearman p</th>\n",
       "    </tr>\n",
       "  </thead>\n",
       "  <tbody>\n",
       "    <tr>\n",
       "      <th>0</th>\n",
       "      <td>spacing</td>\n",
       "      <td>0.84</td>\n",
       "      <td>2.2e-19</td>\n",
       "    </tr>\n",
       "    <tr>\n",
       "      <th>1</th>\n",
       "      <td>spacing_adj</td>\n",
       "      <td>0.83</td>\n",
       "      <td>1.5e-18</td>\n",
       "    </tr>\n",
       "  </tbody>\n",
       "</table>\n",
       "</div>"
      ],
      "text/plain": [
       "      variable Spearman coeff Spearman p\n",
       "0      spacing           0.84    2.2e-19\n",
       "1  spacing_adj           0.83    1.5e-18"
      ]
     },
     "metadata": {},
     "output_type": "display_data"
    },
    {
     "data": {
      "image/png": "[encoded data removed]",
      "text/plain": [
       "<Figure size 325x357.5 with 1 Axes>"
      ]
     },
     "metadata": {},
     "output_type": "display_data"
    }
   ],
   "source": [
    "rgt = mp.regressionTableSDT(ms, ms.ss[ms.ss.int_Ca>15], 'segments_w2o',logy=False, printOut=False,  package='pgfplot'\n",
    "                            , plot=True, yideal=me.ideals(), plotType='paper', export=False, exportFolder=os.path.join(cfg.path.fig, 'SDT'))\n",
    "display(rgt.df)"
   ]
  }
 ],
 "metadata": {
  "kernelspec": {
   "display_name": "Python 3 (ipykernel)",
   "language": "python",
   "name": "python3"
  },
  "language_info": {
   "codemirror_mode": {
    "name": "ipython",
    "version": 3
   },
   "file_extension": ".py",
   "mimetype": "text/x-python",
   "name": "python",
   "nbconvert_exporter": "python",
   "pygments_lexer": "ipython3",
   "version": "3.8.18"
  }
 },
 "nbformat": 4,
 "nbformat_minor": 5
}
