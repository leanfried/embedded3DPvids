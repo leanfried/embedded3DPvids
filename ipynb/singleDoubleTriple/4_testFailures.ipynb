{
 "cells": [
  {
   "cell_type": "markdown",
   "id": "9a2a57b1",
   "metadata": {},
   "source": [
    "# Check that segmentation was correct"
   ]
  },
  {
   "cell_type": "markdown",
   "id": "c85d01df-c8cd-4ef8-aaaf-1bfc6bb01a5a",
   "metadata": {},
   "source": [
    "Leanne Friedrich 4/27/23"
   ]
  },
  {
   "cell_type": "markdown",
   "id": "8114ca78",
   "metadata": {},
   "source": [
    "## Initialization"
   ]
  },
  {
   "cell_type": "code",
   "execution_count": null,
   "id": "690ebafb",
   "metadata": {},
   "outputs": [],
   "source": [
    "%load_ext autoreload\n",
    "%autoreload 2\n",
    "LOGGERDEFINED = False"
   ]
  },
  {
   "cell_type": "code",
   "execution_count": null,
   "id": "87567013",
   "metadata": {},
   "outputs": [],
   "source": [
    "import os\n",
    "import sys\n",
    "import numpy as np\n",
    "import matplotlib.pyplot as plt\n",
    "module_path = os.path.abspath(os.path.join('..'))\n",
    "sys.path.append(module_path)\n",
    "sys.path.append(os.path.dirname(module_path))\n",
    "from py.tools.config import cfg\n",
    "import py.tools.logs as logs\n",
    "import py.vid.v_tools as vt\n",
    "import py.metrics.m_SDT as me\n",
    "from py.im.imshow import imshow\n",
    "import py.file.file_handling as fh\n",
    "import py.vid.noz_detect as nt\n",
    "import pandas as pd\n",
    "from py.full_sequence import SDTWorkflow, fullSequencer\n",
    "LOGGERDEFINED = logs.openLog('testFailures.ipynb', LOGGERDEFINED, level='DEBUG', exportLog=False)"
   ]
  },
  {
   "cell_type": "code",
   "execution_count": null,
   "id": "f57cc325-bf4b-43c1-ad6a-76032937d06e",
   "metadata": {
    "tags": []
   },
   "outputs": [],
   "source": [
    "from plainIm import *"
   ]
  },
  {
   "cell_type": "markdown",
   "id": "b8d7bd10-1bd4-452c-ae01-245b29916e48",
   "metadata": {},
   "source": [
    "# evaluate errors"
   ]
  },
  {
   "cell_type": "markdown",
   "id": "11c6dcc1-40f4-44cb-bfaf-d34cb1944c49",
   "metadata": {},
   "source": [
    "## initialize the test object"
   ]
  },
  {
   "cell_type": "code",
   "execution_count": null,
   "id": "1e0f44a0-8b28-4714-8460-36a808d5d436",
   "metadata": {},
   "outputs": [],
   "source": [
    "ft = me.failureTest(os.path.join(cfg.path.fig, 'SDT', 'summaries', 'HorizSDTFailures.csv'), me.fileHorizSDT)"
   ]
  },
  {
   "cell_type": "markdown",
   "id": "082bb6c5-d96e-4798-9e53-e5effe65a55c",
   "metadata": {},
   "source": [
    "## iterate through folders to check measurements and approve if correct or redoing"
   ]
  },
  {
   "cell_type": "markdown",
   "id": "6a42ba86-1a2b-4b58-9aba-5ad6b99db541",
   "metadata": {},
   "source": [
    "1. if correct, approve folder\n",
    "2. if needs to be redone, run adjustments, close the folder, analyze, approve"
   ]
  },
  {
   "cell_type": "code",
   "execution_count": null,
   "id": "a9d65ae6-525a-453b-8e0e-35eb8f857d19",
   "metadata": {
    "tags": []
   },
   "outputs": [],
   "source": [
    "ft.approveFolder(fostr, whiteOut=False)  # comment this out on the first run\n",
    "ft.export()                              # comment this out on the first run\n",
    "fostr = ft.firstUnapprovedFolder()       # pull up the first folder that is hasn't been checked\n",
    "ft.testFolder(fostr, diag=0, overrideSegment=False, useML=False)   # run all steps that haven't been run\n",
    "ft.sw.showFailures()                     # show which images failed"
   ]
  },
  {
   "cell_type": "code",
   "execution_count": null,
   "id": "d117a71f-0778-4a90-953a-166c00054d93",
   "metadata": {
    "tags": []
   },
   "outputs": [],
   "source": [
    "ft.approveFolder(fostr, whiteOut=False)  # approve of this folder"
   ]
  },
  {
   "cell_type": "code",
   "execution_count": null,
   "id": "4b16e5a8-e4aa-4d85-9a87-b06e4dd2bd26",
   "metadata": {},
   "outputs": [],
   "source": [
    "ft.export()                              # export the list of failed files for all folders"
   ]
  },
  {
   "cell_type": "markdown",
   "id": "59ae707d-a4fb-406b-be35-a6773370311d",
   "metadata": {
    "tags": []
   },
   "source": [
    "## redo measurements for a specific folder"
   ]
  },
  {
   "cell_type": "code",
   "execution_count": null,
   "id": "6737553c-2424-4b99-a7d4-6b12f02811a5",
   "metadata": {
    "tags": []
   },
   "outputs": [],
   "source": [
    "# open the current folder in windows explorer\n",
    "ft.sw.openExplorer()"
   ]
  },
  {
   "cell_type": "code",
   "execution_count": null,
   "id": "c9223288-00ce-4687-835c-7c8dd47d46e7",
   "metadata": {
    "tags": []
   },
   "outputs": [],
   "source": [
    "# overwrite the progDims file\n",
    "ft.sw.pdim.exportProgDims(diag=0, getBlips=True, overwrite=True)"
   ]
  },
  {
   "cell_type": "code",
   "execution_count": null,
   "id": "39cc1664-93b2-4433-97f0-00f60c84b9f0",
   "metadata": {
    "tags": []
   },
   "outputs": [],
   "source": [
    "# export stills from video\n",
    "ft.sw.exportStills(overwrite=False)"
   ]
  },
  {
   "cell_type": "code",
   "execution_count": null,
   "id": "8a751034-fe68-496d-99e3-39765a232408",
   "metadata": {
    "tags": []
   },
   "outputs": [],
   "source": [
    "# automatically detect the nozzle position\n",
    "ft.sw.detectNozzle(overwrite=True, diag=0, bgmode=0, modes=[0], frameGetMode=1)"
   ]
  },
  {
   "cell_type": "code",
   "execution_count": null,
   "id": "f3695f34-b783-4656-8949-24283b3d93d3",
   "metadata": {
    "tags": []
   },
   "outputs": [],
   "source": [
    "# manually adjust the nozzle position\n",
    "ft.sw.adjustNozzle()"
   ]
  },
  {
   "cell_type": "code",
   "execution_count": null,
   "id": "4fbe675d-ca94-40bf-92d7-e7f5253b736b",
   "metadata": {
    "tags": []
   },
   "outputs": [],
   "source": [
    "# expand the nozzle left by N pixels\n",
    "ft.sw.shiftNozzleLeft(3)"
   ]
  },
  {
   "cell_type": "code",
   "execution_count": null,
   "id": "7c52f8bb-7917-4550-a557-394063bac67d",
   "metadata": {
    "tags": []
   },
   "outputs": [],
   "source": [
    "# get a background image\n",
    "ft.sw.exportBackground(overwrite=True, diag=0, ymin=10, curveFit=True, numpics=4, mode=2, frameGetMode=0)"
   ]
  },
  {
   "cell_type": "code",
   "execution_count": null,
   "id": "5408738f-6ae1-4f76-a13b-e6d30a0f9831",
   "metadata": {
    "tags": []
   },
   "outputs": [],
   "source": [
    "# go through all filed files and try to re-segment them\n",
    "newcl = True\n",
    "ft.sw.testAllFailures(diag=0,  overrideSegment=True, useML=False, overwriteCropLocs=newcl, exportCropLocs=newcl)"
   ]
  },
  {
   "cell_type": "code",
   "execution_count": null,
   "id": "5ed99790-ec7f-4499-93b7-e0fadbc70cb8",
   "metadata": {
    "tags": []
   },
   "outputs": [],
   "source": [
    "# re-segment a specific image by its name\n",
    "def testImage(tag:str, newcl:bool=True):\n",
    "    if len(tag)==6:\n",
    "        diag = 2\n",
    "    else:\n",
    "        diag = 0\n",
    "        # , segmentMode='horizContrast', topthresh=225\n",
    "    ft.sw.testImage(tag, diag=diag,  overrideSegment=True, useML=False\n",
    "                    , overwriteCropLocs=newcl, exportCropLocs=newcl, acrit=5000, topthresh=220)"
   ]
  },
  {
   "cell_type": "code",
   "execution_count": null,
   "id": "6a16c14c-443b-4623-829d-bcdcedd4d47f",
   "metadata": {
    "tags": []
   },
   "outputs": [],
   "source": [
    "testImage('l1w1o1')"
   ]
  },
  {
   "cell_type": "code",
   "execution_count": null,
   "id": "a68c3b93-a53f-488e-b994-a98125e43d3d",
   "metadata": {
    "tags": []
   },
   "outputs": [],
   "source": [
    "# open the last image in MS paint\n",
    "ft.sw.openLastImage(scrollDown=True, dropper=True, scrollRight=True)"
   ]
  },
  {
   "cell_type": "code",
   "execution_count": null,
   "id": "6d5814e5-fb81-415e-902b-0c26b6a06727",
   "metadata": {
    "tags": []
   },
   "outputs": [],
   "source": [
    "# open the last segmented image in MS paint\n",
    "ft.sw.openLastUsegment(scrollDown=True, scrollRight=False)"
   ]
  },
  {
   "cell_type": "code",
   "execution_count": null,
   "id": "4826d6ec-c6e5-464b-8fdb-44241b7b48a1",
   "metadata": {
    "tags": []
   },
   "outputs": [],
   "source": [
    "# open all images in the same series as the last image in MS paint\n",
    "ft.sw.openLastSeries(nmin=0, nmax=8, scrollDown=True, scrollRight=True, dropper=True, pause=2.5)"
   ]
  },
  {
   "cell_type": "code",
   "execution_count": null,
   "id": "33b8e9a2-f50a-4f63-b707-af153ed479df",
   "metadata": {
    "tags": []
   },
   "outputs": [],
   "source": [
    "# open all the segmented files in the same series as the last image in MS paint\n",
    "ft.sw.openLastUsegmentSeries(nmax=8, scrollDown=True, scrollRight=True, pause=2)"
   ]
  },
  {
   "cell_type": "code",
   "execution_count": null,
   "id": "051c4935-c031-48a8-8308-0f0fe514959b",
   "metadata": {
    "tags": []
   },
   "outputs": [],
   "source": [
    "# white out the last analyzed image\n",
    "ft.sw.whiteOutLast()"
   ]
  },
  {
   "cell_type": "code",
   "execution_count": null,
   "id": "77c3b0ef-30a9-4664-8cc4-6d95b4469d1a",
   "metadata": {
    "tags": []
   },
   "outputs": [],
   "source": [
    "# re-segment all images that fit these names\n",
    "for tag in ['w2o', 'w3o']:\n",
    "    testImage(tag)"
   ]
  },
  {
   "cell_type": "code",
   "execution_count": null,
   "id": "7886011c-6839-4a8b-80d6-89ebb0eefa13",
   "metadata": {
    "tags": []
   },
   "outputs": [],
   "source": [
    "# re-segment all images that fit these names\n",
    "for tag in ['w2o', 'd2o']:\n",
    "    testImage(tag)"
   ]
  },
  {
   "cell_type": "code",
   "execution_count": null,
   "id": "8fe67410-8f12-4e28-91ba-86c0e37482b5",
   "metadata": {
    "tags": []
   },
   "outputs": [],
   "source": [
    "# overwrite measurements, failures, and summary\n",
    "ft.sw.analyze(overwriteMeasure=True, overwriteSummary=True, useML=False)"
   ]
  },
  {
   "cell_type": "code",
   "execution_count": null,
   "id": "15adc3c0-7ce3-4141-a757-cb468caee3fd",
   "metadata": {
    "tags": []
   },
   "outputs": [],
   "source": [
    "# show a list of all images that failed segmentation\n",
    "ft.sw.showFailures()"
   ]
  },
  {
   "cell_type": "code",
   "execution_count": null,
   "id": "2045a59e-6a5f-4ea4-8801-52a612b91ca8",
   "metadata": {
    "tags": []
   },
   "outputs": [],
   "source": [
    "# open the current folder in windows explorer\n",
    "ft.sw.openExplorer()"
   ]
  },
  {
   "cell_type": "code",
   "execution_count": null,
   "id": "eda24f8b-86bc-47a3-a416-8b9fc01425d4",
   "metadata": {
    "tags": []
   },
   "outputs": [],
   "source": [
    "# overwrite all segmentation, measurements, failures, and summary\n",
    "ft.sw.analyze(overwriteMeasure=True, overwriteSummary=True, useML=False, overrideSegment=True, overwriteCropLocs=True, acrit=500)"
   ]
  }
 ],
 "metadata": {
  "kernelspec": {
   "display_name": "Python 3 (ipykernel)",
   "language": "python",
   "name": "python3"
  },
  "language_info": {
   "codemirror_mode": {
    "name": "ipython",
    "version": 3
   },
   "file_extension": ".py",
   "mimetype": "text/x-python",
   "name": "python",
   "nbconvert_exporter": "python",
   "pygments_lexer": "ipython3",
   "version": "3.8.18"
  }
 },
 "nbformat": 4,
 "nbformat_minor": 5
}
