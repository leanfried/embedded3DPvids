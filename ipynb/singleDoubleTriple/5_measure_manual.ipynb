{
 "cells": [
  {
   "cell_type": "markdown",
   "id": "0c68729d-28cb-49e1-9261-ce719264092c",
   "metadata": {},
   "source": [
    "# manually characterize"
   ]
  },
  {
   "cell_type": "markdown",
   "id": "636d2754-5d09-40b0-bc07-3dcec1801217",
   "metadata": {},
   "source": [
    "Leanne Friedrich 12/21/23"
   ]
  },
  {
   "cell_type": "markdown",
   "id": "dfcfb30f-5873-49b5-8a88-9490620348b9",
   "metadata": {
    "tags": []
   },
   "source": [
    "## initialization"
   ]
  },
  {
   "cell_type": "code",
   "execution_count": 2,
   "id": "37ea9956-6ced-4b3b-8265-f969fe4da4f4",
   "metadata": {
    "tags": []
   },
   "outputs": [],
   "source": [
    "%load_ext autoreload\n",
    "%autoreload 2\n",
    "LOGGERDEFINED = False"
   ]
  },
  {
   "cell_type": "code",
   "execution_count": 3,
   "id": "50bb9189-b7fa-4407-a11f-154accb53b95",
   "metadata": {
    "tags": []
   },
   "outputs": [],
   "source": [
    "import os\n",
    "import sys\n",
    "sys.path.append(\"../\")\n",
    "sys.path.append(\"../../\")\n",
    "from py.tools.config import cfg\n",
    "import py.tools.logs as logs\n",
    "from plainIm import plainIm\n",
    "import py.metrics.m_folder.folder_manual as me\n",
    "import py.file.file_handling as fh\n",
    "import pandas as pd\n",
    "LOGGERDEFINED = logs.openLog('summary_under_SDT.ipynb', LOGGERDEFINED, level='DEBUG', exportLog=False)"
   ]
  },
  {
   "cell_type": "markdown",
   "id": "61ed1bd1-3343-41f9-8ff2-3e3e72395b2f",
   "metadata": {},
   "source": [
    "# characterize lines"
   ]
  },
  {
   "cell_type": "code",
   "execution_count": 13,
   "id": "b612d5e4-f8c8-4705-944f-280ee162a3ef",
   "metadata": {
    "tags": []
   },
   "outputs": [],
   "source": [
    "# creates an object that goes through files and lets us manually label morphologies\n",
    "looper = me.folderManualLoop(os.path.join(cfg.path.server, 'SDT'), canMatch =['Under', 'Horiz', 'Vert'], fn=os.path.join(cfg.path.fig, 'SDT', 'summaries', 'manual.csv'))"
   ]
  },
  {
   "cell_type": "code",
   "execution_count": null,
   "id": "a10dc8a7-4e9a-4e33-98e0-cbe41e8225f3",
   "metadata": {
    "tags": []
   },
   "outputs": [],
   "source": [
    "# exports all manually labeled data for all folders into one spreadsheet\n",
    "looper.export(os.path.join(cfg.path.fig, 'SDT', 'summaries', 'manual.csv'))"
   ]
  },
  {
   "cell_type": "code",
   "execution_count": 1761,
   "id": "fc3130ce-7691-4352-9095-0f4df46d0e76",
   "metadata": {
    "tags": []
   },
   "outputs": [
    {
     "data": {
      "text/plain": [
       "(2115, 2045)"
      ]
     },
     "execution_count": 1761,
     "metadata": {},
     "output_type": "execute_result"
    }
   ],
   "source": [
    "# number of labeled and unlabeled folders\n",
    "len(looper.complete), len(looper.incomplete)"
   ]
  },
  {
   "cell_type": "code",
   "execution_count": null,
   "id": "31a63aaf-29a3-4231-a699-35ead9c0fabf",
   "metadata": {
    "tags": []
   },
   "outputs": [],
   "source": [
    "# save the current status and pull up a new folder\n",
    "fmi.export()                # export the folder we previously pulled up. comment this out on the first run\n",
    "fmi = looper.findFolder()   # get a random folder\n",
    "i=1                 # 0-indexed set number we are describing\n",
    "fmi.displayLine(i)  # show images to compare"
   ]
  },
  {
   "cell_type": "code",
   "execution_count": null,
   "id": "5cd8c241-4823-408f-aaeb-f9500cfea52e",
   "metadata": {},
   "outputs": [],
   "source": [
    "# label each writing step with the appropriate change of morphology"
   ]
  },
  {
   "cell_type": "code",
   "execution_count": 1572,
   "id": "3d68d61d-7314-4884-b082-dcf14583bb12",
   "metadata": {
    "tags": []
   },
   "outputs": [],
   "source": [
    "fmi.setVal(i, 'w1', 'rupture')"
   ]
  },
  {
   "cell_type": "code",
   "execution_count": 1009,
   "id": "39a0f0e0-424c-45cb-b0ac-802e84e38cfa",
   "metadata": {
    "tags": []
   },
   "outputs": [],
   "source": [
    "fmi.setVal(i, 'w1relax', 'rupture')"
   ]
  },
  {
   "cell_type": "code",
   "execution_count": 1680,
   "id": "d36f1f3c-72bc-4412-ace2-e221132f3101",
   "metadata": {
    "tags": []
   },
   "outputs": [],
   "source": [
    "fmi.setVal(i, 'd1', 'rupture')"
   ]
  },
  {
   "cell_type": "code",
   "execution_count": 1466,
   "id": "60df6299-125e-475d-924e-0d32582de849",
   "metadata": {
    "tags": []
   },
   "outputs": [],
   "source": [
    "fmi.setVal(i, 'd1relax', 'rupture')"
   ]
  },
  {
   "cell_type": "code",
   "execution_count": 1742,
   "id": "c9e0774c-a36b-4f0e-bb8e-976a5132f2cd",
   "metadata": {
    "tags": []
   },
   "outputs": [],
   "source": [
    "fmi.setVal(i, 'w2', 'fuse')"
   ]
  },
  {
   "cell_type": "code",
   "execution_count": 1621,
   "id": "23ceadfb-7407-4c55-a988-364357790e7e",
   "metadata": {
    "tags": []
   },
   "outputs": [],
   "source": [
    "fmi.setVal(i, 'w2', 'fuse rupture')"
   ]
  },
  {
   "cell_type": "code",
   "execution_count": 1751,
   "id": "1429863b-104f-4071-a55e-7425164d5725",
   "metadata": {
    "tags": []
   },
   "outputs": [],
   "source": [
    "fmi.setVal(i, 'w2', 'fuse')\n",
    "fmi.setVal(i, 'w3', 'fuse 2 3')"
   ]
  },
  {
   "cell_type": "code",
   "execution_count": 1606,
   "id": "5d0b0a2f-2344-402f-af66-008ab658f07d",
   "metadata": {
    "tags": []
   },
   "outputs": [],
   "source": [
    "fmi.setVal(i, 'w2', 'partial fuse')"
   ]
  },
  {
   "cell_type": "code",
   "execution_count": 1749,
   "id": "4318cd3e-d2d5-4a11-852d-0af4a9174c2b",
   "metadata": {
    "tags": []
   },
   "outputs": [],
   "source": [
    "fmi.setVal(i, 'w2', 'rupture 1')"
   ]
  },
  {
   "cell_type": "code",
   "execution_count": 1649,
   "id": "ade0f6fd-f521-4ad8-86d9-d7eb9fa65071",
   "metadata": {
    "tags": []
   },
   "outputs": [],
   "source": [
    "fmi.setVal(i, 'w2', 'rupture 1 fuse droplets')"
   ]
  },
  {
   "cell_type": "code",
   "execution_count": 1675,
   "id": "9e58673f-c47d-4a96-aa3c-cb94fc9a5f24",
   "metadata": {
    "tags": []
   },
   "outputs": [],
   "source": [
    "fmi.setVal(i, 'w2', 'rupture 2')"
   ]
  },
  {
   "cell_type": "code",
   "execution_count": 1495,
   "id": "83b86f7c-3ba4-4f42-9737-68e3da4d0a68",
   "metadata": {
    "tags": []
   },
   "outputs": [],
   "source": [
    "fmi.setVal(i, 'w2', 'rupture combined')"
   ]
  },
  {
   "cell_type": "code",
   "execution_count": 1593,
   "id": "d27ca844-4ade-4b3c-8cda-1271bb02f767",
   "metadata": {
    "tags": []
   },
   "outputs": [],
   "source": [
    "fmi.setVal(i, 'w2', 'rupture both')"
   ]
  },
  {
   "cell_type": "code",
   "execution_count": 1534,
   "id": "4b729821-3bd6-4dc4-9e17-37fd63584942",
   "metadata": {
    "tags": []
   },
   "outputs": [],
   "source": [
    "fmi.setVal(i, 'w2relax', 'rupture 1')"
   ]
  },
  {
   "cell_type": "code",
   "execution_count": 1662,
   "id": "dab1fe37-4e5a-48c4-a608-a2ce5c833812",
   "metadata": {
    "tags": []
   },
   "outputs": [],
   "source": [
    "fmi.setVal(i, 'w2relax', 'rupture 2')"
   ]
  },
  {
   "cell_type": "code",
   "execution_count": 1324,
   "id": "e59c502f-13fe-4e10-bf8c-15ba29bf97e1",
   "metadata": {
    "tags": []
   },
   "outputs": [],
   "source": [
    "fmi.setVal(i, 'w2relax', 'rupture both')"
   ]
  },
  {
   "cell_type": "code",
   "execution_count": 45,
   "id": "aef74479-1b45-4152-b82e-f887f9184811",
   "metadata": {
    "tags": []
   },
   "outputs": [],
   "source": [
    "fmi.setVal(i, 'w2relax', 'rupture 2 fuse droplets')"
   ]
  },
  {
   "cell_type": "code",
   "execution_count": 1016,
   "id": "8ad0de96-5ca5-4a67-a1cc-ab391155a322",
   "metadata": {
    "tags": []
   },
   "outputs": [],
   "source": [
    "fmi.setVal(i, 'w2relax', 'fuse rupture')"
   ]
  },
  {
   "cell_type": "code",
   "execution_count": 1712,
   "id": "83ed2683-eea6-4484-9ceb-28c54b27fc16",
   "metadata": {
    "tags": []
   },
   "outputs": [],
   "source": [
    "fmi.setVal(i, 'w2relax', 'fuse')"
   ]
  },
  {
   "cell_type": "code",
   "execution_count": 1722,
   "id": "3ef1d58a-3997-4d15-a94a-c570d2d03da1",
   "metadata": {
    "tags": []
   },
   "outputs": [],
   "source": [
    "fmi.setVal(i, 'w2relax', 'fuse droplets')"
   ]
  },
  {
   "cell_type": "code",
   "execution_count": 1688,
   "id": "84ff706f-9b29-42b7-b1c4-f038d3a9185e",
   "metadata": {
    "tags": []
   },
   "outputs": [],
   "source": [
    "fmi.setVal(i, 'w2relax', 'partial fuse')"
   ]
  },
  {
   "cell_type": "code",
   "execution_count": 1144,
   "id": "396e06bc-beea-43ee-9514-c3bbffd5046a",
   "metadata": {
    "tags": []
   },
   "outputs": [],
   "source": [
    "fmi.setVal(i, 'd2', 'rupture 1')"
   ]
  },
  {
   "cell_type": "code",
   "execution_count": 1731,
   "id": "ff2589f7-3ad7-482f-8c63-ef7723703d31",
   "metadata": {
    "tags": []
   },
   "outputs": [],
   "source": [
    "fmi.setVal(i, 'd2', 'rupture 1 fuse droplets')"
   ]
  },
  {
   "cell_type": "code",
   "execution_count": 1723,
   "id": "e6bedd10-49e5-41b9-b3b1-aa1c88bced1d",
   "metadata": {
    "tags": []
   },
   "outputs": [],
   "source": [
    "fmi.setVal(i, 'd2', 'rupture 2')"
   ]
  },
  {
   "cell_type": "code",
   "execution_count": 1085,
   "id": "9b827781-5b23-4e9d-961f-ac96d66c2268",
   "metadata": {
    "tags": []
   },
   "outputs": [],
   "source": [
    "fmi.setVal(i, 'd2', 'rupture both')"
   ]
  },
  {
   "cell_type": "code",
   "execution_count": 1328,
   "id": "2fd197de-8588-41c3-bfb6-6fa75f6539d0",
   "metadata": {
    "tags": []
   },
   "outputs": [],
   "source": [
    "fmi.setVal(i, 'd2', 'rupture both fuse droplets')"
   ]
  },
  {
   "cell_type": "code",
   "execution_count": 189,
   "id": "ef02bc47-27da-4bea-971f-86eced092abd",
   "metadata": {
    "tags": []
   },
   "outputs": [],
   "source": [
    "fmi.setVal(i, 'd2', 'rupture both')\n",
    "fmi.setVal(i, 'd2relax', 'fuse droplets')"
   ]
  },
  {
   "cell_type": "code",
   "execution_count": 441,
   "id": "99a32323-2e85-4753-9bb7-60924034fa12",
   "metadata": {
    "tags": []
   },
   "outputs": [],
   "source": [
    "fmi.setVal(i, 'd2', 'rupture combined')"
   ]
  },
  {
   "cell_type": "code",
   "execution_count": 250,
   "id": "3c250d5f-8804-495c-831b-358b0b190f96",
   "metadata": {
    "tags": []
   },
   "outputs": [],
   "source": [
    "fmi.setVal(i, 'd2', 'fuse rupture')"
   ]
  },
  {
   "cell_type": "code",
   "execution_count": 1325,
   "id": "8c01312e-3031-4541-9a5a-42a5b064f28e",
   "metadata": {
    "tags": []
   },
   "outputs": [],
   "source": [
    "fmi.setVal(i, 'd2', 'fuse droplets')"
   ]
  },
  {
   "cell_type": "code",
   "execution_count": 1753,
   "id": "d6803f86-d9a0-461d-8f47-b3467dd6efea",
   "metadata": {
    "tags": []
   },
   "outputs": [],
   "source": [
    "fmi.setVal(i, 'd2', 'fuse')"
   ]
  },
  {
   "cell_type": "code",
   "execution_count": 555,
   "id": "ed5b8fb9-b510-4db1-a419-1c415ccb9fd7",
   "metadata": {
    "tags": []
   },
   "outputs": [],
   "source": [
    "fmi.setVal(i, 'd2', 'fuse bubbles')"
   ]
  },
  {
   "cell_type": "code",
   "execution_count": 1455,
   "id": "135c55e1-6e10-4bfe-bb3c-d1c59967a74e",
   "metadata": {
    "tags": []
   },
   "outputs": [],
   "source": [
    "fmi.setVal(i, 'd2', 'partial fuse')"
   ]
  },
  {
   "cell_type": "code",
   "execution_count": 889,
   "id": "c9a2518b-e359-49c1-9d4c-ef7723e45e5a",
   "metadata": {},
   "outputs": [],
   "source": [
    "fmi.setVal(i, 'd2relax', 'fuse')"
   ]
  },
  {
   "cell_type": "code",
   "execution_count": 1118,
   "id": "9724fb4a-bcab-4b31-9e68-4b9abfeae24d",
   "metadata": {
    "tags": []
   },
   "outputs": [],
   "source": [
    "fmi.setVal(i, 'd2relax', 'fuse droplets')"
   ]
  },
  {
   "cell_type": "code",
   "execution_count": 1077,
   "id": "42c8a53d-54be-4356-97eb-7dfe64518540",
   "metadata": {
    "tags": []
   },
   "outputs": [],
   "source": [
    "fmi.setVal(i, 'd2relax', 'rupture 1')"
   ]
  },
  {
   "cell_type": "code",
   "execution_count": 1733,
   "id": "a86e5a4b-30d9-4d0c-a7c3-ff42a3202451",
   "metadata": {
    "tags": []
   },
   "outputs": [],
   "source": [
    "fmi.setVal(i, 'd2relax', 'rupture 2')"
   ]
  },
  {
   "cell_type": "code",
   "execution_count": 576,
   "id": "c79cd38c-0b9e-4f87-9acc-10434d8ba38a",
   "metadata": {
    "tags": []
   },
   "outputs": [],
   "source": [
    "fmi.setVal(i, 'd2relax', 'rupture both')"
   ]
  },
  {
   "cell_type": "code",
   "execution_count": 1519,
   "id": "b83d63d3-2f2d-4753-a09e-88df4fdd1b8f",
   "metadata": {
    "tags": []
   },
   "outputs": [],
   "source": [
    "fmi.setVal(i, 'w3', 'fuse 1 2')"
   ]
  },
  {
   "cell_type": "code",
   "execution_count": 889,
   "id": "a0a410f2-6c43-48db-aff1-e63777311c1d",
   "metadata": {
    "tags": []
   },
   "outputs": [],
   "source": [
    "fmi.setVal(i, 'w3', 'fuse 1 2 bubbles')"
   ]
  },
  {
   "cell_type": "code",
   "execution_count": 1738,
   "id": "2136b2c6-3e92-4c28-8951-ccdf1ed54979",
   "metadata": {
    "tags": []
   },
   "outputs": [],
   "source": [
    "fmi.setVal(i, 'w3', 'fuse 2 3')"
   ]
  },
  {
   "cell_type": "code",
   "execution_count": 1505,
   "id": "a29bfcc7-f87c-42eb-a456-85fe652d3326",
   "metadata": {
    "tags": []
   },
   "outputs": [],
   "source": [
    "fmi.setVal(i, 'w3', 'fuse 1 2 and rupture 12')"
   ]
  },
  {
   "cell_type": "code",
   "execution_count": 1374,
   "id": "af891f54-71e0-4845-a331-112603c5b410",
   "metadata": {
    "tags": []
   },
   "outputs": [],
   "source": [
    "fmi.setVal(i, 'w3', 'fuse 1 2 3')"
   ]
  },
  {
   "cell_type": "code",
   "execution_count": 1678,
   "id": "b5b23849-50aa-435a-ab91-b78abc23c709",
   "metadata": {
    "tags": []
   },
   "outputs": [],
   "source": [
    "fmi.setVal(i, 'w3', 'fuse droplets')"
   ]
  },
  {
   "cell_type": "code",
   "execution_count": 1665,
   "id": "ca09ffd5-4cd9-4631-bb99-8e4f2fe00740",
   "metadata": {
    "tags": []
   },
   "outputs": [],
   "source": [
    "fmi.setVal(i, 'w3', 'partial fuse 1 2')"
   ]
  },
  {
   "cell_type": "code",
   "execution_count": 1526,
   "id": "1deeb635-7668-4880-b68b-43046f53ddae",
   "metadata": {
    "tags": []
   },
   "outputs": [],
   "source": [
    "fmi.setVal(i, 'w3', 'partial fuse 1 2 3')"
   ]
  },
  {
   "cell_type": "code",
   "execution_count": 1758,
   "id": "8105d20f-6e33-4319-8eaf-3dacecbb4440",
   "metadata": {
    "tags": []
   },
   "outputs": [],
   "source": [
    "fmi.setVal(i, 'w3', 'partial fuse 2 3')"
   ]
  },
  {
   "cell_type": "code",
   "execution_count": 1564,
   "id": "5075ab5f-b488-4d36-a779-79d823c874cd",
   "metadata": {
    "tags": []
   },
   "outputs": [],
   "source": [
    "fmi.setVal(i, 'w3', 'fuse 1 2 partial fuse 2 3')"
   ]
  },
  {
   "cell_type": "code",
   "execution_count": 177,
   "id": "bb9ff7d0-0dd3-4bdc-b8b0-6bd00c654c1b",
   "metadata": {
    "tags": []
   },
   "outputs": [],
   "source": [
    "fmi.setVal(i, 'w3', 'rupture 1')"
   ]
  },
  {
   "cell_type": "code",
   "execution_count": 937,
   "id": "0e93daa3-7338-45b4-a4d9-fabc1d1d49bd",
   "metadata": {
    "tags": []
   },
   "outputs": [],
   "source": [
    "fmi.setVal(i, 'w3', 'rupture 1 2')"
   ]
  },
  {
   "cell_type": "code",
   "execution_count": 1719,
   "id": "6dbe7511-20ab-44df-8c4d-d2df1b99e760",
   "metadata": {
    "tags": []
   },
   "outputs": [],
   "source": [
    "fmi.setVal(i, 'w3', 'rupture 2')"
   ]
  },
  {
   "cell_type": "code",
   "execution_count": 674,
   "id": "4bc86609-fc6b-4418-b47d-c0118d6a6481",
   "metadata": {
    "tags": []
   },
   "outputs": [],
   "source": [
    "fmi.setVal(i, 'w3', 'rupture 2 fuse droplets')"
   ]
  },
  {
   "cell_type": "code",
   "execution_count": 580,
   "id": "1c22c4a6-7cde-48bb-b91a-1e58454a20ba",
   "metadata": {
    "tags": []
   },
   "outputs": [],
   "source": [
    "fmi.setVal(i, 'w3', 'rupture 1 fuse 2 3')"
   ]
  },
  {
   "cell_type": "code",
   "execution_count": 1633,
   "id": "e985da0d-7a36-40fe-aacb-69b22d6d0632",
   "metadata": {
    "tags": []
   },
   "outputs": [],
   "source": [
    "fmi.setVal(i, 'w3', 'rupture 3')"
   ]
  },
  {
   "cell_type": "code",
   "execution_count": 1527,
   "id": "f692d422-bec3-4472-8e76-d236edf26e80",
   "metadata": {
    "tags": []
   },
   "outputs": [],
   "source": [
    "fmi.setVal(i, 'w3relax', 'fuse 1 2 3')"
   ]
  },
  {
   "cell_type": "code",
   "execution_count": 1598,
   "id": "f0185f45-87e7-40b2-98f5-6970b6a52811",
   "metadata": {
    "tags": []
   },
   "outputs": [],
   "source": [
    "fmi.setVal(i, 'w3relax', 'fuse 2 3')"
   ]
  },
  {
   "cell_type": "code",
   "execution_count": 1409,
   "id": "859b4718-e212-4a05-bba8-2adcbdebd7e0",
   "metadata": {
    "tags": []
   },
   "outputs": [],
   "source": [
    "fmi.setVal(i, 'w3relax', 'fuse 1 3')"
   ]
  },
  {
   "cell_type": "code",
   "execution_count": 792,
   "id": "48efdd54-a4d2-448c-96b2-7200ffe000c9",
   "metadata": {
    "tags": []
   },
   "outputs": [],
   "source": [
    "fmi.setVal(i, 'w3relax', 'partial fuse 1 2')"
   ]
  },
  {
   "cell_type": "code",
   "execution_count": 1468,
   "id": "0645cb49-d697-484a-b242-ae3d947713b9",
   "metadata": {
    "tags": []
   },
   "outputs": [],
   "source": [
    "fmi.setVal(i, 'w3relax', 'partial fuse 2 3')"
   ]
  },
  {
   "cell_type": "code",
   "execution_count": 1623,
   "id": "db9f81f4-b7dc-41c0-8d3d-f4c1fe675fc1",
   "metadata": {
    "tags": []
   },
   "outputs": [],
   "source": [
    "fmi.setVal(i, 'w3relax', 'partial fuse 1 3')"
   ]
  },
  {
   "cell_type": "code",
   "execution_count": 424,
   "id": "1bdf3c9c-2c4f-40e8-85c1-197b99c0da1d",
   "metadata": {
    "tags": []
   },
   "outputs": [],
   "source": [
    "fmi.setVal(i, 'w3relax', 'rupture 1')"
   ]
  },
  {
   "cell_type": "code",
   "execution_count": 624,
   "id": "412adb2e-1c6c-40b0-b273-75cad4001880",
   "metadata": {
    "tags": []
   },
   "outputs": [],
   "source": [
    "fmi.setVal(i, 'w3relax', 'rupture 1 2')"
   ]
  },
  {
   "cell_type": "code",
   "execution_count": 1536,
   "id": "a83ac1a4-7138-4605-b9fc-584ec67e2d9a",
   "metadata": {
    "tags": []
   },
   "outputs": [],
   "source": [
    "fmi.setVal(i, 'w3relax', 'rupture 2')"
   ]
  },
  {
   "cell_type": "code",
   "execution_count": 517,
   "id": "22654e9c-3ab5-409c-b7b7-0fdb148c63bc",
   "metadata": {
    "tags": []
   },
   "outputs": [],
   "source": [
    "fmi.setVal(i, 'w3relax', 'rupture 2 fuse droplets')"
   ]
  },
  {
   "cell_type": "code",
   "execution_count": 1560,
   "id": "565593dd-11ff-4820-a035-025e18d3e365",
   "metadata": {
    "tags": []
   },
   "outputs": [],
   "source": [
    "fmi.setVal(i, 'w3relax', 'rupture 3')"
   ]
  },
  {
   "cell_type": "code",
   "execution_count": 1372,
   "id": "1e62294a-d232-4df9-9ecd-f15d54bf483e",
   "metadata": {
    "tags": []
   },
   "outputs": [],
   "source": [
    "fmi.setVal(i, 'w3relax', 'fuse droplets')"
   ]
  },
  {
   "cell_type": "code",
   "execution_count": 1164,
   "id": "7437c328-7623-4f57-bd5c-8a2ac5e7c85e",
   "metadata": {
    "tags": []
   },
   "outputs": [
    {
     "data": {
      "text/html": [
       "<div>\n",
       "<style scoped>\n",
       "    .dataframe tbody tr th:only-of-type {\n",
       "        vertical-align: middle;\n",
       "    }\n",
       "\n",
       "    .dataframe tbody tr th {\n",
       "        vertical-align: top;\n",
       "    }\n",
       "\n",
       "    .dataframe thead th {\n",
       "        text-align: right;\n",
       "    }\n",
       "</style>\n",
       "<table border=\"1\" class=\"dataframe\">\n",
       "  <thead>\n",
       "    <tr style=\"text-align: right;\">\n",
       "      <th></th>\n",
       "      <th>1</th>\n",
       "    </tr>\n",
       "  </thead>\n",
       "  <tbody>\n",
       "    <tr>\n",
       "      <th>w1</th>\n",
       "      <td>no change</td>\n",
       "    </tr>\n",
       "    <tr>\n",
       "      <th>w1relax</th>\n",
       "      <td>no change</td>\n",
       "    </tr>\n",
       "    <tr>\n",
       "      <th>w2</th>\n",
       "      <td>no fusion</td>\n",
       "    </tr>\n",
       "    <tr>\n",
       "      <th>w2relax</th>\n",
       "      <td>no change</td>\n",
       "    </tr>\n",
       "    <tr>\n",
       "      <th>w3</th>\n",
       "      <td>partial fuse 1 2</td>\n",
       "    </tr>\n",
       "    <tr>\n",
       "      <th>w3relax</th>\n",
       "      <td>partial fuse 2 3</td>\n",
       "    </tr>\n",
       "  </tbody>\n",
       "</table>\n",
       "</div>"
      ],
      "text/plain": [
       "                        1\n",
       "w1              no change\n",
       "w1relax         no change\n",
       "w2              no fusion\n",
       "w2relax         no change\n",
       "w3       partial fuse 1 2\n",
       "w3relax  partial fuse 2 3"
      ]
     },
     "execution_count": 1164,
     "metadata": {},
     "output_type": "execute_result"
    }
   ],
   "source": [
    "# table of all labeled steps for this folder\n",
    "pd.DataFrame(fmi.vals)"
   ]
  },
  {
   "cell_type": "code",
   "execution_count": null,
   "id": "07d101f6-ce2f-46f8-b499-c86f4f877095",
   "metadata": {
    "tags": []
   },
   "outputs": [],
   "source": [
    "fmi.export()"
   ]
  }
 ],
 "metadata": {
  "kernelspec": {
   "display_name": "Python 3 (ipykernel)",
   "language": "python",
   "name": "python3"
  },
  "language_info": {
   "codemirror_mode": {
    "name": "ipython",
    "version": 3
   },
   "file_extension": ".py",
   "mimetype": "text/x-python",
   "name": "python",
   "nbconvert_exporter": "python",
   "pygments_lexer": "ipython3",
   "version": "3.8.18"
  }
 },
 "nbformat": 4,
 "nbformat_minor": 5
}
