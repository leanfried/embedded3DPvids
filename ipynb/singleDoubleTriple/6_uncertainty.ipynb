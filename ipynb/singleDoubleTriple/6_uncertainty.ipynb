{
 "cells": [
  {
   "cell_type": "markdown",
   "id": "9c66fe4f-6520-45d2-a28a-e61633ae2b03",
   "metadata": {},
   "source": [
    "# Summarizing uncertainty in scaling variables"
   ]
  },
  {
   "cell_type": "markdown",
   "id": "e0b5624e-7273-47f4-b5fe-154d938baf61",
   "metadata": {},
   "source": [
    "Leanne Friedrich 3/27/24"
   ]
  },
  {
   "cell_type": "markdown",
   "id": "84c00e6d-96d1-411e-985c-11800d463f36",
   "metadata": {
    "tags": []
   },
   "source": [
    "## initialization"
   ]
  },
  {
   "cell_type": "code",
   "execution_count": 1,
   "id": "f015d477-fc68-47d7-93f4-a7cdb2193f26",
   "metadata": {
    "tags": []
   },
   "outputs": [],
   "source": [
    "%load_ext autoreload\n",
    "%autoreload 2\n",
    "LOGGERDEFINED = False"
   ]
  },
  {
   "cell_type": "code",
   "execution_count": 2,
   "id": "e74ae304-9623-47d5-aec6-9f2d8f62a62b",
   "metadata": {
    "tags": []
   },
   "outputs": [],
   "source": [
    "import os\n",
    "import sys\n",
    "import numpy as np\n",
    "import pandas as pd\n",
    "sys.path.append(\"../\")\n",
    "sys.path.append(\"../../\")\n",
    "from py.tools.config import cfg\n",
    "import py.tools.logs as logs\n",
    "from plainIm import plainIm\n",
    "import matplotlib.pyplot as plt\n",
    "import py.metrics.m_plot.m_plots as mp\n",
    "import py.metrics.m_SDT as me\n",
    "import regression as rg\n",
    "import matplotlib.cm as cm\n",
    "import py.file.file_handling as fh\n",
    "LOGGERDEFINED = logs.openLog('uncertainty.ipynb', LOGGERDEFINED, level='DEBUG', exportLog=False)"
   ]
  },
  {
   "cell_type": "markdown",
   "id": "7bd9514c-8cc8-4920-811d-751ccc168279",
   "metadata": {},
   "source": [
    "## analyzing data"
   ]
  },
  {
   "cell_type": "code",
   "execution_count": 3,
   "id": "2c1c84ff-345f-4758-ac3f-75fed177fad4",
   "metadata": {
    "tags": []
   },
   "outputs": [
    {
     "name": "stdout",
     "output_type": "stream",
     "text": [
      "\u001b[1mIndependents:\u001b[0m \n",
      "\t\u001b[31m meta        : \u001b[0m bn, calibFile, fluFile, printFolderR\n",
      "\t                date\n",
      "\t\u001b[31m meta sup    : \u001b[0m sup_base, sup_days, sup_dye, sup_rheModifier, sup_shortname, sup_surfactant, sup_surfactantWt, sup_type, sup_var\n",
      "\t\u001b[31m meta ink    : \u001b[0m ink_base, ink_days, ink_dye, ink_rheModifier, ink_shortname, ink_surfactant, ink_surfactantWt, ink_type, ink_var\n",
      "\t\u001b[31m const       : \u001b[0m GaRatio, GdRatio, gname, GtaRatio, int_Ca, int_CaInv, int_Re, ReRatio, tau0aRatio, tau0dRatio, tGdRatio, viscRatio, vRatio\n",
      "\t                dEst, hDragP, pressureCh0, rGrava, rGravd, sigma, spacing, spacing_adj, vDragP, zdepth\n",
      "\t\u001b[31m const sup   : \u001b[0m sup_Bma, sup_Bmd, sup_Ca, sup_CaInv, sup_diluent, sup_diluentWt, sup_dnorma, sup_dnorma_adj, sup_dnormd, sup_dnormd_adj, sup_dnormInva, sup_dnormInvd, sup_Oh, sup_OhInv, sup_Re, sup_We, sup_WeInv\n",
      "\t                sup_density, sup_dPRa, sup_dPRd, sup_eta0a, sup_eta0d, sup_Gstora, sup_Gstord, sup_rate, sup_tau0a, sup_tau0d, sup_v, sup_val, sup_visc0\n",
      "\t\u001b[31m const ink   : \u001b[0m ink_Bma, ink_Bmd, ink_Ca, ink_CaInv, ink_diluent, ink_diluentWt, ink_dnorma, ink_dnorma_adj, ink_dnormd, ink_dnormd_adj, ink_dnormInva, ink_dnormInvd, ink_Oh, ink_OhInv, ink_Re, ink_We, ink_WeInv\n",
      "\t                ink_density, ink_dPRa, ink_dPRd, ink_eta0a, ink_eta0d, ink_Gstora, ink_Gstord, ink_rate, ink_tau0a, ink_tau0d, ink_v, ink_val, ink_visc0\n",
      "\n",
      "\u001b[1mDependents:\u001b[0m \n",
      "\t\u001b[31m Position    : \u001b[0m\t xLeft, xRight, xc, yBot, yTop, yc\n",
      "\t\u001b[31m Dimensions  : \u001b[0m\t area, aspect, aspectI, h, w, xshift, yshift\n",
      "\t\u001b[31m Fusion      : \u001b[0m\t emptiness, roughness, segments\n"
     ]
    },
    {
     "data": {
      "text/html": [
       "<div>\n",
       "<style scoped>\n",
       "    .dataframe tbody tr th:only-of-type {\n",
       "        vertical-align: middle;\n",
       "    }\n",
       "\n",
       "    .dataframe tbody tr th {\n",
       "        vertical-align: top;\n",
       "    }\n",
       "\n",
       "    .dataframe thead th {\n",
       "        text-align: right;\n",
       "    }\n",
       "</style>\n",
       "<table border=\"1\" class=\"dataframe\">\n",
       "  <thead>\n",
       "    <tr style=\"text-align: right;\">\n",
       "      <th></th>\n",
       "      <th>1</th>\n",
       "      <th>2</th>\n",
       "      <th>3</th>\n",
       "    </tr>\n",
       "  </thead>\n",
       "  <tbody>\n",
       "    <tr>\n",
       "      <th>wp</th>\n",
       "      <td>X_w1p</td>\n",
       "      <td>X_w2p</td>\n",
       "      <td>X_w3p</td>\n",
       "    </tr>\n",
       "    <tr>\n",
       "      <th>wo</th>\n",
       "      <td>X_w1o</td>\n",
       "      <td>X_w2o</td>\n",
       "      <td>X_w3o</td>\n",
       "    </tr>\n",
       "    <tr>\n",
       "      <th>wrelax</th>\n",
       "      <td>delta_X_w1relax</td>\n",
       "      <td>delta_X_w2relax</td>\n",
       "      <td>delta_X_w3relax</td>\n",
       "    </tr>\n",
       "    <tr>\n",
       "      <th>write</th>\n",
       "      <td>delta_X_write1</td>\n",
       "      <td>delta_X_write2</td>\n",
       "      <td></td>\n",
       "    </tr>\n",
       "    <tr>\n",
       "      <th>dp</th>\n",
       "      <td>X_d1p</td>\n",
       "      <td>X_d2p</td>\n",
       "      <td></td>\n",
       "    </tr>\n",
       "    <tr>\n",
       "      <th>do</th>\n",
       "      <td>X_d1o</td>\n",
       "      <td>X_d2o</td>\n",
       "      <td></td>\n",
       "    </tr>\n",
       "    <tr>\n",
       "      <th>drelax</th>\n",
       "      <td>delta_X_d1relax</td>\n",
       "      <td>delta_X_d2relax</td>\n",
       "      <td></td>\n",
       "    </tr>\n",
       "    <tr>\n",
       "      <th>disturb</th>\n",
       "      <td>delta_X_disturb1</td>\n",
       "      <td>delta_X_disturb2</td>\n",
       "      <td></td>\n",
       "    </tr>\n",
       "  </tbody>\n",
       "</table>\n",
       "</div>"
      ],
      "text/plain": [
       "                        1                 2                3\n",
       "wp                  X_w1p             X_w2p            X_w3p\n",
       "wo                  X_w1o             X_w2o            X_w3o\n",
       "wrelax    delta_X_w1relax   delta_X_w2relax  delta_X_w3relax\n",
       "write      delta_X_write1    delta_X_write2                 \n",
       "dp                  X_d1p             X_d2p                 \n",
       "do                  X_d1o             X_d2o                 \n",
       "drelax    delta_X_d1relax   delta_X_d2relax                 \n",
       "disturb  delta_X_disturb1  delta_X_disturb2                 "
      ]
     },
     "metadata": {},
     "output_type": "display_data"
    }
   ],
   "source": [
    "# get an object that holds summary data for all files\n",
    "ms = me.summarySDT(os.path.join(cfg.path.fig, 'SDT', 'summaries', 'XS+zSDTSummaries.csv')\n",
    "                             , diag=True)"
   ]
  },
  {
   "cell_type": "code",
   "execution_count": 15,
   "id": "37e6ed13-b663-4e75-a1b2-4110062fc9fd",
   "metadata": {},
   "outputs": [],
   "source": [
    "out = []\n",
    "for i,row in ms.ss.iterrows():\n",
    "    d = {}\n",
    "    d['derr'] = 0.001  # mm\n",
    "    d['dierrfrac'] = d['derr']/0.6\n",
    "    d['dserrfrac'] = d['derr']/0.9\n",
    "    d['desterr'] = 0.01 # mm\n",
    "    d['desterrfrac'] = d['desterr']/row['dEst']\n",
    "    d['dacterr'] = 0.014  # mm\n",
    "    d['dacterrfrac'] = d['dacterr']/row['dEst']\n",
    "    d['Derr'] = 0.0064 # mm\n",
    "    d['verr'] = 0.01 # mm/s\n",
    "    d['sigma'] = row['sigma']  # mN/m\n",
    "    d['sigmaerr'] = {33.6558:0.228794, 7.905:0.107424, 37.8013:0.03415, 1.7649:0.003311, 15.43863469:2.970641}[d['sigma']]  # mN/m\n",
    "    d['sigmaerrfrac'] = d['sigmaerr']/d['sigma']\n",
    "    d['spacingerr'] = np.sqrt(d['derr']**2+d['desterr']**2) \n",
    "    d['spacingadjerr'] = np.sqrt(d['derr']**2+d['dacterr']**2)\n",
    "    d['rhoerr'] = 0.1 # g/mL\n",
    "    d['rhoerrfrac'] = d['rhoerr']/row['ink_density']\n",
    "    for fluid in ['i', 's']:\n",
    "        \n",
    "        ful = {'i':'ink', 's':'sup'}[fluid]\n",
    "        d[f'v{fluid}errfrac'] = d['verr']/row[f'{ful}_v']\n",
    "        d[f'eta{fluid}'] = row[f'{ful}_eta0d']\n",
    "        d[f'eta{fluid}errfrac'] = d[f'eta{fluid}']*0.03\n",
    "        d[f'Ca{fluid}errfrac'] = np.sqrt(0.03**2 + d[f'v{fluid}errfrac']**2+d['sigmaerrfrac']**2)\n",
    "        d[f'Oh{fluid}errfrac'] = np.sqrt(0.03**2 + 1/2*d['rhoerrfrac']**2 + 1/2*d[f'd{fluid}errfrac']**2) \n",
    "        d[f'Re{fluid}errfrac'] = np.sqrt(d['rhoerrfrac']**2 + d[f'v{fluid}errfrac']**2+ d[f'd{fluid}errfrac']**2+0.03**2)\n",
    "        d[f'We{fluid}errfrac'] = np.sqrt(d['rhoerrfrac']**2 + d[f'v{fluid}errfrac']**2+ d['sigmaerrfrac']**2+0.03**2)\n",
    "        for dire in ['a', 'd']:\n",
    "            d[f'tauy{fluid}{dire}'] = row[f'{ful}_tau0{dire}']\n",
    "            d[f'tauy{fluid}{dire}errfrac'] = d[f'tauy{fluid}{dire}']*0.08\n",
    "            d[f'Bm{fluid}{dire}errfrac'] = np.sqrt(0.08**2+d[f'd{fluid}errfrac']**2+0.03**2+d[f'v{fluid}errfrac']**2)\n",
    "            for dd in ['e', 'a']:\n",
    "                der = {'e':'desterrfrac', 'a':'dacterrfrac'}[dd]\n",
    "                d[f'DR{fluid}{dire}{dd}errfrac'] = np.sqrt(d[der]**2 + 0.08**2 +  d['sigmaerrfrac']**2)\n",
    "    out.append(d)\n",
    "df1 = pd.DataFrame(out)"
   ]
  },
  {
   "cell_type": "code",
   "execution_count": 23,
   "id": "6cb13ca3-b20f-4b17-95b1-c363bda33a52",
   "metadata": {},
   "outputs": [],
   "source": [
    "df1.to_csv(os.path.join(cfg.path.fig, 'SDT', 'summaries', 'errors.csv'))"
   ]
  },
  {
   "cell_type": "code",
   "execution_count": 21,
   "id": "494b1ab4-4c88-4a4d-ad9f-90f9dd4c1561",
   "metadata": {},
   "outputs": [
    {
     "data": {
      "text/html": [
       "<div>\n",
       "<style scoped>\n",
       "    .dataframe tbody tr th:only-of-type {\n",
       "        vertical-align: middle;\n",
       "    }\n",
       "\n",
       "    .dataframe tbody tr th {\n",
       "        vertical-align: top;\n",
       "    }\n",
       "\n",
       "    .dataframe thead th {\n",
       "        text-align: right;\n",
       "    }\n",
       "</style>\n",
       "<table border=\"1\" class=\"dataframe\">\n",
       "  <thead>\n",
       "    <tr style=\"text-align: right;\">\n",
       "      <th></th>\n",
       "      <th>min</th>\n",
       "      <th>max</th>\n",
       "    </tr>\n",
       "  </thead>\n",
       "  <tbody>\n",
       "    <tr>\n",
       "      <th>Bmiaerrfrac</th>\n",
       "      <td>8.55</td>\n",
       "      <td>8.55</td>\n",
       "    </tr>\n",
       "    <tr>\n",
       "      <th>Bmiderrfrac</th>\n",
       "      <td>8.55</td>\n",
       "      <td>8.55</td>\n",
       "    </tr>\n",
       "    <tr>\n",
       "      <th>Bmsaerrfrac</th>\n",
       "      <td>8.55</td>\n",
       "      <td>8.55</td>\n",
       "    </tr>\n",
       "    <tr>\n",
       "      <th>Bmsderrfrac</th>\n",
       "      <td>8.55</td>\n",
       "      <td>8.55</td>\n",
       "    </tr>\n",
       "    <tr>\n",
       "      <th>Caierrfrac</th>\n",
       "      <td>3.00</td>\n",
       "      <td>19.47</td>\n",
       "    </tr>\n",
       "    <tr>\n",
       "      <th>Caserrfrac</th>\n",
       "      <td>3.00</td>\n",
       "      <td>19.47</td>\n",
       "    </tr>\n",
       "    <tr>\n",
       "      <th>DRiaaerrfrac</th>\n",
       "      <td>8.33</td>\n",
       "      <td>20.97</td>\n",
       "    </tr>\n",
       "    <tr>\n",
       "      <th>DRiaeerrfrac</th>\n",
       "      <td>8.17</td>\n",
       "      <td>20.90</td>\n",
       "    </tr>\n",
       "    <tr>\n",
       "      <th>DRidaerrfrac</th>\n",
       "      <td>8.33</td>\n",
       "      <td>20.97</td>\n",
       "    </tr>\n",
       "    <tr>\n",
       "      <th>DRideerrfrac</th>\n",
       "      <td>8.17</td>\n",
       "      <td>20.90</td>\n",
       "    </tr>\n",
       "    <tr>\n",
       "      <th>DRsaaerrfrac</th>\n",
       "      <td>8.33</td>\n",
       "      <td>20.97</td>\n",
       "    </tr>\n",
       "    <tr>\n",
       "      <th>DRsaeerrfrac</th>\n",
       "      <td>8.17</td>\n",
       "      <td>20.90</td>\n",
       "    </tr>\n",
       "    <tr>\n",
       "      <th>DRsdaerrfrac</th>\n",
       "      <td>8.33</td>\n",
       "      <td>20.97</td>\n",
       "    </tr>\n",
       "    <tr>\n",
       "      <th>DRsdeerrfrac</th>\n",
       "      <td>8.17</td>\n",
       "      <td>20.90</td>\n",
       "    </tr>\n",
       "    <tr>\n",
       "      <th>Derr</th>\n",
       "      <td>0.64</td>\n",
       "      <td>0.64</td>\n",
       "    </tr>\n",
       "    <tr>\n",
       "      <th>Ohierrfrac</th>\n",
       "      <td>7.43</td>\n",
       "      <td>7.82</td>\n",
       "    </tr>\n",
       "    <tr>\n",
       "      <th>Ohserrfrac</th>\n",
       "      <td>7.43</td>\n",
       "      <td>7.81</td>\n",
       "    </tr>\n",
       "    <tr>\n",
       "      <th>Reierrfrac</th>\n",
       "      <td>10.07</td>\n",
       "      <td>10.64</td>\n",
       "    </tr>\n",
       "    <tr>\n",
       "      <th>Reserrfrac</th>\n",
       "      <td>10.07</td>\n",
       "      <td>10.64</td>\n",
       "    </tr>\n",
       "    <tr>\n",
       "      <th>Weierrfrac</th>\n",
       "      <td>10.16</td>\n",
       "      <td>21.89</td>\n",
       "    </tr>\n",
       "    <tr>\n",
       "      <th>Weserrfrac</th>\n",
       "      <td>10.16</td>\n",
       "      <td>21.89</td>\n",
       "    </tr>\n",
       "    <tr>\n",
       "      <th>dacterr</th>\n",
       "      <td>1.40</td>\n",
       "      <td>1.40</td>\n",
       "    </tr>\n",
       "    <tr>\n",
       "      <th>dacterrfrac</th>\n",
       "      <td>2.32</td>\n",
       "      <td>2.32</td>\n",
       "    </tr>\n",
       "    <tr>\n",
       "      <th>derr</th>\n",
       "      <td>0.10</td>\n",
       "      <td>0.10</td>\n",
       "    </tr>\n",
       "    <tr>\n",
       "      <th>desterr</th>\n",
       "      <td>1.00</td>\n",
       "      <td>1.00</td>\n",
       "    </tr>\n",
       "    <tr>\n",
       "      <th>desterrfrac</th>\n",
       "      <td>1.66</td>\n",
       "      <td>1.66</td>\n",
       "    </tr>\n",
       "    <tr>\n",
       "      <th>dierrfrac</th>\n",
       "      <td>0.17</td>\n",
       "      <td>0.17</td>\n",
       "    </tr>\n",
       "    <tr>\n",
       "      <th>dserrfrac</th>\n",
       "      <td>0.11</td>\n",
       "      <td>0.11</td>\n",
       "    </tr>\n",
       "    <tr>\n",
       "      <th>etai</th>\n",
       "      <td>580.57</td>\n",
       "      <td>18671.62</td>\n",
       "    </tr>\n",
       "    <tr>\n",
       "      <th>etaierrfrac</th>\n",
       "      <td>17.42</td>\n",
       "      <td>560.15</td>\n",
       "    </tr>\n",
       "    <tr>\n",
       "      <th>etas</th>\n",
       "      <td>2546.90</td>\n",
       "      <td>11265.84</td>\n",
       "    </tr>\n",
       "    <tr>\n",
       "      <th>etaserrfrac</th>\n",
       "      <td>76.41</td>\n",
       "      <td>337.98</td>\n",
       "    </tr>\n",
       "    <tr>\n",
       "      <th>rhoerr</th>\n",
       "      <td>10.00</td>\n",
       "      <td>10.00</td>\n",
       "    </tr>\n",
       "    <tr>\n",
       "      <th>rhoerrfrac</th>\n",
       "      <td>9.62</td>\n",
       "      <td>10.20</td>\n",
       "    </tr>\n",
       "    <tr>\n",
       "      <th>sigma</th>\n",
       "      <td>176.49</td>\n",
       "      <td>3780.13</td>\n",
       "    </tr>\n",
       "    <tr>\n",
       "      <th>sigmaerr</th>\n",
       "      <td>0.33</td>\n",
       "      <td>297.06</td>\n",
       "    </tr>\n",
       "    <tr>\n",
       "      <th>sigmaerrfrac</th>\n",
       "      <td>0.09</td>\n",
       "      <td>19.24</td>\n",
       "    </tr>\n",
       "    <tr>\n",
       "      <th>spacingadjerr</th>\n",
       "      <td>1.40</td>\n",
       "      <td>1.40</td>\n",
       "    </tr>\n",
       "    <tr>\n",
       "      <th>spacingerr</th>\n",
       "      <td>1.00</td>\n",
       "      <td>1.00</td>\n",
       "    </tr>\n",
       "    <tr>\n",
       "      <th>tauyia</th>\n",
       "      <td>77.32</td>\n",
       "      <td>948.69</td>\n",
       "    </tr>\n",
       "    <tr>\n",
       "      <th>tauyiaerrfrac</th>\n",
       "      <td>6.19</td>\n",
       "      <td>75.89</td>\n",
       "    </tr>\n",
       "    <tr>\n",
       "      <th>tauyid</th>\n",
       "      <td>5.19</td>\n",
       "      <td>71.80</td>\n",
       "    </tr>\n",
       "    <tr>\n",
       "      <th>tauyiderrfrac</th>\n",
       "      <td>0.42</td>\n",
       "      <td>5.74</td>\n",
       "    </tr>\n",
       "    <tr>\n",
       "      <th>tauysa</th>\n",
       "      <td>2305.72</td>\n",
       "      <td>6201.36</td>\n",
       "    </tr>\n",
       "    <tr>\n",
       "      <th>tauysaerrfrac</th>\n",
       "      <td>184.46</td>\n",
       "      <td>496.11</td>\n",
       "    </tr>\n",
       "    <tr>\n",
       "      <th>tauysd</th>\n",
       "      <td>48.24</td>\n",
       "      <td>261.13</td>\n",
       "    </tr>\n",
       "    <tr>\n",
       "      <th>tauysderrfrac</th>\n",
       "      <td>3.86</td>\n",
       "      <td>20.89</td>\n",
       "    </tr>\n",
       "    <tr>\n",
       "      <th>verr</th>\n",
       "      <td>1.00</td>\n",
       "      <td>1.00</td>\n",
       "    </tr>\n",
       "    <tr>\n",
       "      <th>vierrfrac</th>\n",
       "      <td>0.10</td>\n",
       "      <td>0.10</td>\n",
       "    </tr>\n",
       "    <tr>\n",
       "      <th>vserrfrac</th>\n",
       "      <td>0.10</td>\n",
       "      <td>0.10</td>\n",
       "    </tr>\n",
       "  </tbody>\n",
       "</table>\n",
       "</div>"
      ],
      "text/plain": [
       "                   min       max\n",
       "Bmiaerrfrac       8.55      8.55\n",
       "Bmiderrfrac       8.55      8.55\n",
       "Bmsaerrfrac       8.55      8.55\n",
       "Bmsderrfrac       8.55      8.55\n",
       "Caierrfrac        3.00     19.47\n",
       "Caserrfrac        3.00     19.47\n",
       "DRiaaerrfrac      8.33     20.97\n",
       "DRiaeerrfrac      8.17     20.90\n",
       "DRidaerrfrac      8.33     20.97\n",
       "DRideerrfrac      8.17     20.90\n",
       "DRsaaerrfrac      8.33     20.97\n",
       "DRsaeerrfrac      8.17     20.90\n",
       "DRsdaerrfrac      8.33     20.97\n",
       "DRsdeerrfrac      8.17     20.90\n",
       "Derr              0.64      0.64\n",
       "Ohierrfrac        7.43      7.82\n",
       "Ohserrfrac        7.43      7.81\n",
       "Reierrfrac       10.07     10.64\n",
       "Reserrfrac       10.07     10.64\n",
       "Weierrfrac       10.16     21.89\n",
       "Weserrfrac       10.16     21.89\n",
       "dacterr           1.40      1.40\n",
       "dacterrfrac       2.32      2.32\n",
       "derr              0.10      0.10\n",
       "desterr           1.00      1.00\n",
       "desterrfrac       1.66      1.66\n",
       "dierrfrac         0.17      0.17\n",
       "dserrfrac         0.11      0.11\n",
       "etai            580.57  18671.62\n",
       "etaierrfrac      17.42    560.15\n",
       "etas           2546.90  11265.84\n",
       "etaserrfrac      76.41    337.98\n",
       "rhoerr           10.00     10.00\n",
       "rhoerrfrac        9.62     10.20\n",
       "sigma           176.49   3780.13\n",
       "sigmaerr          0.33    297.06\n",
       "sigmaerrfrac      0.09     19.24\n",
       "spacingadjerr     1.40      1.40\n",
       "spacingerr        1.00      1.00\n",
       "tauyia           77.32    948.69\n",
       "tauyiaerrfrac     6.19     75.89\n",
       "tauyid            5.19     71.80\n",
       "tauyiderrfrac     0.42      5.74\n",
       "tauysa         2305.72   6201.36\n",
       "tauysaerrfrac   184.46    496.11\n",
       "tauysd           48.24    261.13\n",
       "tauysderrfrac     3.86     20.89\n",
       "verr              1.00      1.00\n",
       "vierrfrac         0.10      0.10\n",
       "vserrfrac         0.10      0.10"
      ]
     },
     "execution_count": 21,
     "metadata": {},
     "output_type": "execute_result"
    }
   ],
   "source": [
    "def minMax(x):\n",
    "    return pd.Series(index=['min','max'],data=[x.min()*100,x.max()*100])\n",
    "\n",
    "\n",
    "df2 = df1.apply(minMax).transpose()\n",
    "df2.sort_index()"
   ]
  },
  {
   "cell_type": "code",
   "execution_count": 157,
   "id": "361ade6f-6624-415d-ae8f-44709ab101c0",
   "metadata": {},
   "outputs": [
    {
     "data": {
      "text/plain": [
       "(0.0030177344246356, 0.8865363838257969)"
      ]
     },
     "execution_count": 157,
     "metadata": {},
     "output_type": "execute_result"
    }
   ],
   "source": [
    "min(ms.ss.ink_Bma.min(), ms.ss.sup_Bma.min(), ms.ss.ink_Bmd.min(), ms.ss.sup_Bmd.min()), max(ms.ss.ink_Bma.max(), ms.ss.sup_Bma.max(), ms.ss.ink_Bmd.max(), ms.ss.sup_Bmd.max())"
   ]
  },
  {
   "cell_type": "code",
   "execution_count": 158,
   "id": "e27270a5-5b23-42a6-bfaf-76ffd3af746f",
   "metadata": {},
   "outputs": [
    {
     "data": {
      "text/plain": [
       "(0.0003365556726152, 0.032943054363007)"
      ]
     },
     "execution_count": 158,
     "metadata": {},
     "output_type": "execute_result"
    }
   ],
   "source": [
    "min(ms.ss.ink_Re.min(), ms.ss.sup_Re.min()), max(ms.ss.ink_Re.max(), ms.ss.sup_Re.max())"
   ]
  },
  {
   "cell_type": "code",
   "execution_count": 159,
   "id": "b978b360-a80b-41fd-838a-8aab54747e03",
   "metadata": {},
   "outputs": [
    {
     "data": {
      "text/plain": [
       "(0.23979286219008333, 52.383936645657904)"
      ]
     },
     "execution_count": 159,
     "metadata": {},
     "output_type": "execute_result"
    }
   ],
   "source": [
    "min(ms.ss.ink_Ca.min(), ms.ss.sup_Ca.min(), ms.ss.int_Ca.min()), max(ms.ss.ink_Ca.max(), ms.ss.sup_Ca.max(), ms.ss.int_Ca.max())"
   ]
  },
  {
   "cell_type": "code",
   "execution_count": 160,
   "id": "3a0d346c-4a09-469f-8cb2-2bf5e0833c0d",
   "metadata": {},
   "outputs": [
    {
     "data": {
      "text/plain": [
       "(0.0007236311750129249, 17.695533219761497)"
      ]
     },
     "execution_count": 160,
     "metadata": {},
     "output_type": "execute_result"
    }
   ],
   "source": [
    "min(ms.ss.ink_dnorma.min(), ms.ss.sup_dnorma.min(), ms.ss.ink_dnormd.min(), ms.ss.sup_dnormd.min()), max(ms.ss.ink_dnorma.max(), ms.ss.sup_dnorma.max(), ms.ss.ink_dnormd.max(), ms.ss.sup_dnormd.max())"
   ]
  },
  {
   "cell_type": "code",
   "execution_count": 161,
   "id": "20d62f7f-929e-496e-8497-622b103589df",
   "metadata": {},
   "outputs": [
    {
     "data": {
      "text/plain": [
       "(0.00043439586141566457, 14.26243620229895)"
      ]
     },
     "execution_count": 161,
     "metadata": {},
     "output_type": "execute_result"
    }
   ],
   "source": [
    "min(ms.ss.ink_dnorma_adj.min(), ms.ss.sup_dnorma_adj.min(), ms.ss.ink_dnormd_adj.min(), ms.ss.sup_dnormd_adj.min()), max(ms.ss.ink_dnorma_adj.max(), ms.ss.sup_dnorma_adj.max(), ms.ss.ink_dnormd_adj.max(), ms.ss.sup_dnormd_adj.max())"
   ]
  },
  {
   "cell_type": "code",
   "execution_count": 162,
   "id": "958528eb-c55d-45a2-97c9-697656d76fc5",
   "metadata": {},
   "outputs": [
    {
     "data": {
      "text/plain": [
       "(5.665099662560709, 250.35986233867428)"
      ]
     },
     "execution_count": 162,
     "metadata": {},
     "output_type": "execute_result"
    }
   ],
   "source": [
    "min(ms.ss.ink_Oh.min(), ms.ss.sup_Oh.min()), max(ms.ss.ink_Oh.max(), ms.ss.sup_Oh.max())"
   ]
  },
  {
   "cell_type": "code",
   "execution_count": 163,
   "id": "741148f1-87fc-4228-ab41-b0e2e395632e",
   "metadata": {},
   "outputs": [
    {
     "data": {
      "text/plain": [
       "(0.0017916674094806836, 0.22659666479443388)"
      ]
     },
     "execution_count": 163,
     "metadata": {},
     "output_type": "execute_result"
    }
   ],
   "source": [
    "min(ms.ss.ink_We.min(), ms.ss.sup_We.min()), max(ms.ss.ink_We.max(), ms.ss.sup_We.max())"
   ]
  }
 ],
 "metadata": {
  "kernelspec": {
   "display_name": "Python 3 (ipykernel)",
   "language": "python",
   "name": "python3"
  },
  "language_info": {
   "codemirror_mode": {
    "name": "ipython",
    "version": 3
   },
   "file_extension": ".py",
   "mimetype": "text/x-python",
   "name": "python",
   "nbconvert_exporter": "python",
   "pygments_lexer": "ipython3",
   "version": "3.8.18"
  }
 },
 "nbformat": 4,
 "nbformat_minor": 5
}
