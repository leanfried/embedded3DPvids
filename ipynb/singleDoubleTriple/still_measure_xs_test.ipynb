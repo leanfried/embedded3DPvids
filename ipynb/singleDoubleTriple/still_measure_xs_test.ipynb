{
 "cells": [
  {
   "cell_type": "markdown",
   "id": "9a2a57b1",
   "metadata": {},
   "source": [
    "# Test methods for analyzing images of singledoubletriple xs lines"
   ]
  },
  {
   "cell_type": "markdown",
   "id": "8114ca78",
   "metadata": {},
   "source": [
    "## Initialization"
   ]
  },
  {
   "cell_type": "code",
   "execution_count": null,
   "id": "690ebafb",
   "metadata": {},
   "outputs": [],
   "source": [
    "%load_ext autoreload\n",
    "%autoreload 2\n",
    "LOGGERDEFINED = False"
   ]
  },
  {
   "cell_type": "code",
   "execution_count": null,
   "id": "87567013",
   "metadata": {},
   "outputs": [],
   "source": [
    "import os\n",
    "import sys\n",
    "import numpy as np\n",
    "import matplotlib.pyplot as plt\n",
    "module_path = os.path.abspath(os.path.join('..'))\n",
    "sys.path.append(module_path)\n",
    "sys.path.append(os.path.dirname(module_path))\n",
    "from py.tools.config import cfg\n",
    "import py.tools.logs as logs\n",
    "import py.vid.v_tools as vt\n",
    "import py.metrics.m_SDT as me\n",
    "from py.im.imshow import imshow\n",
    "import py.file.file_handling as fh\n",
    "import py.vid.noz_detect as nt\n",
    "import pandas as pd\n",
    "LOGGERDEFINED = logs.openLog('still_measure.ipynb', LOGGERDEFINED, level='DEBUG', exportLog=False)"
   ]
  },
  {
   "cell_type": "markdown",
   "id": "7fdad107-6ada-4e33-8d8c-b5394623ae6b",
   "metadata": {},
   "source": [
    "# create cases for unit test"
   ]
  },
  {
   "cell_type": "code",
   "execution_count": null,
   "id": "1351398b-7ab2-4110-9bfd-3d98459b5ef9",
   "metadata": {
    "tags": []
   },
   "outputs": [],
   "source": [
    "# get an object that will generate test data set for unit tests\n",
    "tg = me.trainingGenerator(os.path.join(cfg.path.server, 'SDT')\n",
    "                          , excludeFolders=[]\n",
    "                          , mustMatch='disturbXS')"
   ]
  },
  {
   "cell_type": "code",
   "execution_count": null,
   "id": "930d3ff6-6a77-4c1e-9aa6-e4ea55b0fbba",
   "metadata": {
    "tags": []
   },
   "outputs": [],
   "source": [
    "# get a random image to test\n",
    "file = tg.randomFile()"
   ]
  },
  {
   "cell_type": "code",
   "execution_count": null,
   "id": "d1a49280-8f29-43c3-b7b3-439b3096d1d2",
   "metadata": {
    "tags": []
   },
   "outputs": [],
   "source": [
    "# segment the image\n",
    "vs = me.fileXSSDT(file, diag=1)"
   ]
  },
  {
   "cell_type": "code",
   "execution_count": null,
   "id": "a0a11ae0-7699-420c-9173-bc0ae82beb8b",
   "metadata": {
    "tags": []
   },
   "outputs": [],
   "source": [
    "# approve segmentation and add key measurements from this file to the test data\n",
    "vs.addToTestFile()"
   ]
  },
  {
   "cell_type": "markdown",
   "id": "e90b578d",
   "metadata": {},
   "source": [
    "# unit test"
   ]
  },
  {
   "cell_type": "code",
   "execution_count": null,
   "id": "1d5048ef-90be-4a25-8119-4b794686aa3b",
   "metadata": {
    "tags": []
   },
   "outputs": [],
   "source": [
    "# run the unit test on all of the test files\n",
    "ut = me.unitTester('SDTXS', me.fileXSSDT)\n",
    "ut.run()\n",
    "ut.compareAll()"
   ]
  },
  {
   "cell_type": "code",
   "execution_count": null,
   "id": "f5dd0f2d-0b9a-4233-a422-fa7bad6033f6",
   "metadata": {
    "tags": []
   },
   "outputs": [],
   "source": [
    "# show what failed for a specific file\n",
    "i = ut.failedFiles[8]\n",
    "ut.compareTest(i)"
   ]
  },
  {
   "cell_type": "code",
   "execution_count": null,
   "id": "758babc5-485a-4e8c-9502-cc14aedc92f7",
   "metadata": {
    "tags": []
   },
   "outputs": [],
   "source": [
    "# approve of the failed file and let it overwrite the saved measurements\n",
    "ut.keepTest(i)"
   ]
  },
  {
   "cell_type": "code",
   "execution_count": null,
   "id": "0ff7fc83-c1b2-458e-9fe9-e82a7df9423d",
   "metadata": {
    "tags": []
   },
   "outputs": [],
   "source": [
    "# approve of all the failed files and overwrite all saved measurements\n",
    "ut.keepAllTests()"
   ]
  },
  {
   "cell_type": "code",
   "execution_count": null,
   "id": "5e00a5e0-eb14-4f32-8513-bfcb12e9b8d0",
   "metadata": {},
   "outputs": [],
   "source": [
    "# open the csv of the unit test ideal data\n",
    "ut.openCSV()"
   ]
  }
 ],
 "metadata": {
  "kernelspec": {
   "display_name": "Python 3 (ipykernel)",
   "language": "python",
   "name": "python3"
  },
  "language_info": {
   "codemirror_mode": {
    "name": "ipython",
    "version": 3
   },
   "file_extension": ".py",
   "mimetype": "text/x-python",
   "name": "python",
   "nbconvert_exporter": "python",
   "pygments_lexer": "ipython3",
   "version": "3.8.18"
  }
 },
 "nbformat": 4,
 "nbformat_minor": 5
}
