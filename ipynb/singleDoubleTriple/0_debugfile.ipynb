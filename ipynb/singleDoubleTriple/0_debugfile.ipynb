{
 "cells": [
  {
   "cell_type": "markdown",
   "id": "31776f98-baec-4b9d-8ca7-4e3d3696515c",
   "metadata": {
    "tags": []
   },
   "source": [
    "# debugging notebook: specific folders"
   ]
  },
  {
   "cell_type": "markdown",
   "id": "cac171f1-337f-4d7d-b1fa-a857e975d641",
   "metadata": {},
   "source": [
    "Leanne Friedrich 7/31/23: For debugging individual print folders"
   ]
  },
  {
   "cell_type": "markdown",
   "id": "d3ad3c36-3141-48d1-a2bb-3dd8a1fa1baf",
   "metadata": {},
   "source": [
    "## Initialization"
   ]
  },
  {
   "cell_type": "code",
   "execution_count": null,
   "id": "8580494f-ce77-4318-97e5-94d3bf6342a9",
   "metadata": {},
   "outputs": [],
   "source": [
    "%load_ext autoreload\n",
    "%autoreload 2\n",
    "LOGGERDEFINED = False"
   ]
  },
  {
   "cell_type": "code",
   "execution_count": null,
   "id": "50578e5d-ae0c-49a6-91b3-ee3996c0875d",
   "metadata": {},
   "outputs": [],
   "source": [
    "import os\n",
    "import sys\n",
    "import numpy as np\n",
    "module_path = os.path.abspath(os.path.join('..'))\n",
    "sys.path.append(module_path)\n",
    "sys.path.append(os.path.dirname(module_path))\n",
    "from py.tools.config import cfg\n",
    "import py.tools.logs as logs\n",
    "from py.full_sequence import SDTWorkflow, fullSequencer\n",
    "LOGGERDEFINED = logs.openLog('debug.ipynb', LOGGERDEFINED, level='DEBUG', exportLog=False)"
   ]
  },
  {
   "cell_type": "markdown",
   "id": "b7c1799e-8147-4ae7-8770-66dff7f96be8",
   "metadata": {},
   "source": [
    "# single folder"
   ]
  },
  {
   "cell_type": "code",
   "execution_count": null,
   "id": "9456a11b-de03-4876-aa30-43d3cc4672be",
   "metadata": {
    "scrolled": true,
    "tags": []
   },
   "outputs": [],
   "source": [
    "# initialize an object that does the full analysis for a single folder\n",
    "folder2 = os.path.join(cfg.path.server, r'SDT\\SO_S85-0.05\\I_SO8-S85-0.05_S_3.00\\I_SO8-S85-0.05_S_3.00_230511\\disturbHoriz3_3_1.000')\n",
    "sw = SDTWorkflow(folder2)\n",
    "sw.run(progDimsK={'overwrite':False, 'getBlips':True})"
   ]
  },
  {
   "cell_type": "code",
   "execution_count": null,
   "id": "b02c3323-fc39-49b5-86d5-bc32c20e4b5b",
   "metadata": {
    "tags": []
   },
   "outputs": [],
   "source": [
    "# put the initial stills collected during the print in the raw folder\n",
    "sw.putStillsAway()"
   ]
  },
  {
   "cell_type": "code",
   "execution_count": null,
   "id": "b8c966a1-9901-4181-becc-4f9694ea899b",
   "metadata": {
    "tags": []
   },
   "outputs": [],
   "source": [
    "# overwrite the progDims, progPos, flagFlip, and timeRewrite files\n",
    "sw.pdim.exportAll(diag=2, getBlips=True, overwrite=True)"
   ]
  },
  {
   "cell_type": "code",
   "execution_count": null,
   "id": "850e3070-1b50-42cc-bfbe-9cb6de55a0b6",
   "metadata": {
    "tags": []
   },
   "outputs": [],
   "source": [
    "# export stills from the video\n",
    "sw.exportStills(overwrite=False)"
   ]
  },
  {
   "cell_type": "code",
   "execution_count": null,
   "id": "b1f6f007-e793-4847-a630-c06961725146",
   "metadata": {
    "tags": []
   },
   "outputs": [],
   "source": [
    "# detect the nozzle\n",
    "sw.detectNozzle(overwrite=True, diag=3, bgmode=0, modes=[0], frameGetMode=1)"
   ]
  },
  {
   "cell_type": "code",
   "execution_count": null,
   "id": "22144a05-6d54-4640-84e5-3eef181dfb1d",
   "metadata": {
    "tags": []
   },
   "outputs": [],
   "source": [
    "# open a dialog to manually change the nozzle position\n",
    "sw.adjustNozzle()"
   ]
  },
  {
   "cell_type": "code",
   "execution_count": null,
   "id": "538e64ac-6d35-4b5c-8e41-6b84c706a68f",
   "metadata": {
    "tags": []
   },
   "outputs": [],
   "source": [
    "# export the background image\n",
    "sw.exportBackground(overwrite=True, diag=2, ymin=10, curveFit=False, numpics=3, mode=2, frameGetMode=1)"
   ]
  },
  {
   "cell_type": "code",
   "execution_count": null,
   "id": "062eeffc-d341-44eb-83b9-e0930279cfaa",
   "metadata": {
    "tags": []
   },
   "outputs": [],
   "source": [
    "# list the files that failed during measurement\n",
    "sw.showFailures()"
   ]
  },
  {
   "cell_type": "code",
   "execution_count": null,
   "id": "047fdf73-f1d5-433d-896f-30578938f624",
   "metadata": {
    "tags": []
   },
   "outputs": [],
   "source": [
    "# rerun a specific still, given by its index in the failure list\n",
    "newcl = False\n",
    "sw.testFailure(4, diag=1,  overrideSegment=True, useML=False, overwriteCropLocs=newcl, exportCropLocs=newcl)"
   ]
  },
  {
   "cell_type": "code",
   "execution_count": null,
   "id": "79e9c119-2fbe-4c6f-9c9a-b669bc721e7c",
   "metadata": {
    "tags": []
   },
   "outputs": [],
   "source": [
    "# rerun a specific still, given by its name\n",
    "newcl = False\n",
    "tag = 'l1w3o2'\n",
    "if len(tag)==6:\n",
    "    diag = 2\n",
    "else:\n",
    "    diag = 0\n",
    "sw.testImage(tag, diag=diag,  overrideSegment=False, useML=False\n",
    "             , overwriteCropLocs=newcl, exportCropLocs=newcl, topthresh=230, acrit=5000)"
   ]
  },
  {
   "cell_type": "code",
   "execution_count": null,
   "id": "d9dbe9cc-da0b-4788-b642-f1829b2e78ad",
   "metadata": {},
   "outputs": [],
   "source": [
    "# export an example image that annotates perimeters for roughness calculation\n",
    "sw.vs[tag].roughnessIm(export=True, scalebar=True, display=True, hull2=False);"
   ]
  },
  {
   "cell_type": "code",
   "execution_count": null,
   "id": "c2545b3b-2a02-4138-ada2-8e483db5cd1d",
   "metadata": {},
   "outputs": [],
   "source": [
    "# export an example image that annotates the image to show the ldiff calculation\n",
    "sw.vs[tag].ldiffIm(export=True, display=True, scalebar=True);"
   ]
  },
  {
   "cell_type": "code",
   "execution_count": null,
   "id": "28e526d6-bb09-47ec-85a4-bce81337683d",
   "metadata": {
    "tags": []
   },
   "outputs": [],
   "source": [
    "# open the last analyzed image in MS paint\n",
    "sw.openLastImage()"
   ]
  },
  {
   "cell_type": "code",
   "execution_count": null,
   "id": "eeb21ffe-5a18-48d2-860e-b08c8aab7bcc",
   "metadata": {
    "tags": []
   },
   "outputs": [],
   "source": [
    "# open all images in the last analyzed series in MS paint\n",
    "sw.openLastSeries(nmax=8, scrollRight=False, dropper=False, scrollDown=False)"
   ]
  },
  {
   "cell_type": "code",
   "execution_count": null,
   "id": "7efc41ca-acfc-4d46-a053-587d5b5384c1",
   "metadata": {
    "tags": []
   },
   "outputs": [],
   "source": [
    "# white out the segmented and original images for the last analyzed series\n",
    "sw.whiteOutLast()"
   ]
  },
  {
   "cell_type": "code",
   "execution_count": null,
   "id": "4d9654c5-ddfa-4474-aa64-b9e286694c97",
   "metadata": {
    "tags": []
   },
   "outputs": [],
   "source": [
    "# white out all images that match the string\n",
    "sw.whiteOutFiles(canMatch=['_l1d2o'])"
   ]
  },
  {
   "cell_type": "code",
   "execution_count": null,
   "id": "c23d6eb0-6c11-46ef-b9ca-5e0d94328037",
   "metadata": {
    "tags": []
   },
   "outputs": [],
   "source": [
    "# overwrite the measurement, failures, and summary files\n",
    "sw.analyze(overwriteMeasure=True, overwriteSummary=True, useML=False, acrit=5000)"
   ]
  },
  {
   "cell_type": "code",
   "execution_count": null,
   "id": "393560e5-83f7-499e-b003-e314f2501174",
   "metadata": {
    "scrolled": true,
    "tags": []
   },
   "outputs": [],
   "source": [
    "# overwrite all segmentation, and the measurement, failures, and summary files\n",
    "sw.analyze(overwriteMeasure=True, overwriteSummary=True, overrideSegment=True, overwriteCropLocs=True, useML=False, acrit=500)"
   ]
  },
  {
   "cell_type": "code",
   "execution_count": null,
   "id": "b378647f-db0a-4051-be6e-458038df4138",
   "metadata": {
    "tags": []
   },
   "outputs": [],
   "source": [
    "# approve of all failed files\n",
    "sw.approve()"
   ]
  },
  {
   "cell_type": "code",
   "execution_count": null,
   "id": "c219b6e8-1b91-42a6-b9a1-e258d4173a0d",
   "metadata": {
    "tags": []
   },
   "outputs": [],
   "source": [
    "# open the print folder in windows explorer\n",
    "sw.openExplorer()"
   ]
  }
 ],
 "metadata": {
  "kernelspec": {
   "display_name": "Python 3 (ipykernel)",
   "language": "python",
   "name": "python3"
  },
  "language_info": {
   "codemirror_mode": {
    "name": "ipython",
    "version": 3
   },
   "file_extension": ".py",
   "mimetype": "text/x-python",
   "name": "python",
   "nbconvert_exporter": "python",
   "pygments_lexer": "ipython3",
   "version": "3.8.18"
  }
 },
 "nbformat": 4,
 "nbformat_minor": 5
}
