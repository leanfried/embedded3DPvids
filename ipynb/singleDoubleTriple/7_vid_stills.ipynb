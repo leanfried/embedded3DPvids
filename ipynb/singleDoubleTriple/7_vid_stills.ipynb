{
 "cells": [
  {
   "cell_type": "markdown",
   "id": "f3abcb5b",
   "metadata": {},
   "source": [
    "# Make stills of singleDoubleTriple lines"
   ]
  },
  {
   "cell_type": "markdown",
   "id": "11f935f6",
   "metadata": {},
   "source": [
    "## Initialization"
   ]
  },
  {
   "cell_type": "code",
   "execution_count": null,
   "id": "efacb63a",
   "metadata": {
    "tags": []
   },
   "outputs": [],
   "source": [
    "%load_ext autoreload\n",
    "%autoreload 2\n",
    "LOGGERDEFINED = False"
   ]
  },
  {
   "cell_type": "code",
   "execution_count": null,
   "id": "662da04e",
   "metadata": {},
   "outputs": [],
   "source": [
    "import os\n",
    "import sys\n",
    "import numpy as np\n",
    "import matplotlib.pyplot as plt\n",
    "module_path = os.path.abspath(os.path.join('..'))\n",
    "sys.path.append(module_path)\n",
    "sys.path.append(os.path.dirname(module_path))\n",
    "from py.tools.config import cfg\n",
    "import py.tools.logs as logs\n",
    "import py.vid.v_tools as vt\n",
    "import py.progDim.prog_dim as pg\n",
    "from py.im.imshow import imshow\n",
    "import py.file.file_handling as fh\n",
    "from py.val.v_pressure import pressureVals\n",
    "LOGGERDEFINED = logs.openLog('vidAnalysis.ipynb', LOGGERDEFINED, level='DEBUG', exportLog=False)"
   ]
  },
  {
   "cell_type": "markdown",
   "id": "20168678-0eaf-4cac-a7e8-de033d703dc5",
   "metadata": {},
   "source": [
    "# manually set still time offset"
   ]
  },
  {
   "cell_type": "code",
   "execution_count": null,
   "id": "aff95068",
   "metadata": {
    "tags": []
   },
   "outputs": [],
   "source": [
    "# manually set the offset between when the time file started collection and when the video file started collection, and export all stills\n",
    "folder = os.path.join(cfg.path.server, r'SDT\\SO_S20-0.5\\I_SO7-S20-0.5_S_3.00\\I_SO7-S20-0.5_S_3.00_v2_230509\\disturbHoriz3_1_0.875')\n",
    "st = vt.setManualStillTime(folder, dstart=0.3)\n",
    "errorList = st.run()\n",
    "errorList"
   ]
  },
  {
   "cell_type": "markdown",
   "id": "26714bc6-a3d8-4df1-8622-afb6cf323fde",
   "metadata": {},
   "source": [
    "# make gifs of individual printed lines"
   ]
  },
  {
   "cell_type": "code",
   "execution_count": null,
   "id": "8ae8f211-72b7-44d2-a0d8-fbd473133f2e",
   "metadata": {
    "tags": []
   },
   "outputs": [],
   "source": [
    "vd1 = vt.vidData(os.path.join(cfg.path.server, r'SDT\\SO_S20-0.5\\I_SO8-S20-0.5_S_4.00\\I_SO8-S20-0.5_S_4.00_230510\\disturbHoriz3_1_1.000'))"
   ]
  },
  {
   "cell_type": "code",
   "execution_count": null,
   "id": "370bb1bf-59ce-4afa-bf36-4a878c27b4bf",
   "metadata": {
    "tags": []
   },
   "outputs": [],
   "source": [
    "vd1.exportGIF('l0w1', compression=2, crop={'x0':0, 'xf':-1, 'y0':200, 'yf':-1}, color=False, sizeCompression=2)"
   ]
  },
  {
   "cell_type": "code",
   "execution_count": null,
   "id": "383d35c8-0181-4a33-9727-7eb32211fc66",
   "metadata": {
    "tags": []
   },
   "outputs": [],
   "source": [
    "vd2 = vt.vidData(os.path.join(cfg.path.server, r'SDT\\SO\\I_SO10_S_3.00\\I_SO10_S_3.00_230208\\disturbHoriz3_1_0.500'))\n",
    "vd2.exportGIF('l0w1', compression=2, crop={'x0':0, 'xf':-1, 'y0':200, 'yf':-1}, color=False, sizeCompression=2)"
   ]
  },
  {
   "cell_type": "code",
   "execution_count": null,
   "id": "748be9b8-8813-43f2-b0c9-4de08b33279d",
   "metadata": {
    "tags": []
   },
   "outputs": [],
   "source": [
    "vd2 = vt.vidData(os.path.join(cfg.path.server, r'SDT\\SO_S85-0.05\\I_SO10-S85-0.05_S_3.50\\I_SO10-S85-0.05_S_3.50_230516\\disturbHoriz3_1_0.500'))\n",
    "vd2.exportGIF('l0d1', compression=2, crop={'x0':0, 'xf':-1, 'y0':200, 'yf':-1}, color=False, sizeCompression=2)"
   ]
  },
  {
   "cell_type": "code",
   "execution_count": null,
   "id": "10822112-0604-4729-8640-0a3fc3f7083c",
   "metadata": {
    "tags": []
   },
   "outputs": [],
   "source": [
    "vd2 = vt.vidData(os.path.join(cfg.path.server, r'SDT\\SO\\I_SO10_S_3.00\\I_SO10_S_3.00_230208\\disturbHoriz3_1_0.750'))\n",
    "vd2.exportGIF('l0d1', compression=2, crop={'x0':0, 'xf':-1, 'y0':200, 'yf':-1}, color=False, sizeCompression=2)"
   ]
  },
  {
   "cell_type": "code",
   "execution_count": null,
   "id": "12b5abe5-730d-4037-bcc7-d21937b96b60",
   "metadata": {
    "tags": []
   },
   "outputs": [],
   "source": [
    "vd2 = vt.vidData(os.path.join(cfg.path.server, r'SDT\\SO\\I_SO10_S_3.00\\I_SO10_S_3.00_230208\\disturbVert2_1_0.500'))\n",
    "vd2.exportGIF('l2d1', compression=2, crop={'x0':100, 'xf':450, 'y0':0, 'yf':-1}, color=False, sizeCompression=2, prestart=-1)"
   ]
  },
  {
   "cell_type": "code",
   "execution_count": null,
   "id": "560d1b24-c063-4c33-9e20-7d34cbc770fe",
   "metadata": {
    "tags": []
   },
   "outputs": [],
   "source": [
    "vd2 = vt.vidData(os.path.join(cfg.path.server, r'SDT\\SO\\I_SO10_S_3.00\\I_SO10_S_3.00_230208\\disturbHoriz3_1_0.500'))\n",
    "vd2.exportGIF('l1d1', compression=2, crop={'x0':0, 'xf':-1, 'y0':200, 'yf':-1}, color=False, sizeCompression=2, prestart=0)"
   ]
  },
  {
   "cell_type": "code",
   "execution_count": null,
   "id": "f65ec30b-3844-4cca-acf4-01469d468121",
   "metadata": {
    "tags": []
   },
   "outputs": [],
   "source": [
    "vd2 = vt.vidData(os.path.join(cfg.path.server, r'SDT\\SO\\I_SO10_S_3.00\\I_SO10_S_3.00_230208\\disturbHoriz3_2_0.500'))\n",
    "vd2.exportGIF('l0w2', compression=2, crop={'x0':0, 'xf':-1, 'y0':200, 'yf':-1}, color=False, sizeCompression=2, prestart=0)"
   ]
  },
  {
   "cell_type": "code",
   "execution_count": null,
   "id": "fb3abace-d11f-4fb4-a58b-566cab3147fb",
   "metadata": {
    "tags": []
   },
   "outputs": [],
   "source": [
    "vd2 = vt.vidData(os.path.join(cfg.path.server, r'SDT\\SO\\I_SO10_S_3.00\\I_SO10_S_3.00_230208\\disturbHoriz3_2_1.000'))\n",
    "vd2.exportGIF('l0w2', compression=2, crop={'x0':0, 'xf':-1, 'y0':200, 'yf':-1}, color=False, sizeCompression=2, prestart=0)"
   ]
  },
  {
   "cell_type": "code",
   "execution_count": null,
   "id": "cf27119f-75cf-4939-996f-96f7054e70d5",
   "metadata": {
    "tags": []
   },
   "outputs": [],
   "source": [
    "vd2 = vt.vidData(os.path.join(cfg.path.server, r'SDT\\SO\\I_SO11_S_3.00\\I_SO11_S_3.00_230214\\disturbHoriz3_2_0.875'))\n",
    "vd2.exportGIF('l0w2', compression=2, crop={'x0':0, 'xf':-1, 'y0':200, 'yf':-1}, color=False, sizeCompression=2, prestart=0)"
   ]
  },
  {
   "cell_type": "code",
   "execution_count": null,
   "id": "152d7f00-0de2-456f-813c-abd62c1a83de",
   "metadata": {
    "tags": []
   },
   "outputs": [],
   "source": [
    "vd2 = vt.vidData(os.path.join(cfg.path.server, r'SDT\\SO_S20-0.5\\I_SO6-S20-0.5_S_3.00\\I_SO6-S20-0.5_S_3.00_230215\\disturbHoriz3_2_0.625'))\n",
    "vd2.exportGIF('l2w2', compression=2, crop={'x0':0, 'xf':-1, 'y0':200, 'yf':-1}, color=False, sizeCompression=2, prestart=0)"
   ]
  },
  {
   "cell_type": "code",
   "execution_count": null,
   "id": "d635dfd5-2961-4e50-877c-63aec78a96bc",
   "metadata": {
    "tags": []
   },
   "outputs": [],
   "source": [
    "vd2 = vt.vidData(os.path.join(cfg.path.server, r'SDT\\SO_S20-0.5\\I_SO7-S20-0.5_S_3.00\\I_SO7-S20-0.5_S_3.00_230509\\disturbHoriz3_2_0.875'))\n",
    "vd2.exportGIF('l1w2', compression=2, crop={'x0':0, 'xf':-1, 'y0':200, 'yf':-1}, color=False, sizeCompression=2, prestart=0)"
   ]
  },
  {
   "cell_type": "code",
   "execution_count": null,
   "id": "e80891f6-03cb-49b4-8028-79c9ca1d6bdb",
   "metadata": {
    "tags": []
   },
   "outputs": [],
   "source": [
    "vd2 = vt.vidData(os.path.join(cfg.path.server, r'SDT\\SO_S20-0.5\\I_SO8-S20-0.5_S_3.50\\I_SO8-S20-0.5_S_3.50_230510\\disturbHoriz3_2_1.250'))\n",
    "vd2.exportGIF('l1w2', compression=2, crop={'x0':0, 'xf':-1, 'y0':200, 'yf':-1}, color=False, sizeCompression=2, prestart=0)"
   ]
  },
  {
   "cell_type": "code",
   "execution_count": null,
   "id": "2a33e9d5-0892-4444-b26f-61d6fdf4eb2e",
   "metadata": {
    "tags": []
   },
   "outputs": [],
   "source": [
    "vd2 = vt.vidData(os.path.join(cfg.path.server, r'SDT\\SO\\I_SO11_S_3.00\\I_SO11_S_3.00_230214\\disturbHoriz3_2_0.625'))\n",
    "vd2.exportGIF('l1w2', compression=2, crop={'x0':0, 'xf':-1, 'y0':200, 'yf':-1}, color=False, sizeCompression=2, prestart=0)"
   ]
  },
  {
   "cell_type": "code",
   "execution_count": null,
   "id": "52a562cb-5b8c-4d4e-8465-4e467a80097a",
   "metadata": {
    "tags": []
   },
   "outputs": [],
   "source": [
    "vd2 = vt.vidData(os.path.join(cfg.path.server, r'SDT\\SO_S20-0.5\\I_SO8-S20-0.5_S_3.00\\I_SO8-S20-0.5_S_3.00_230510\\disturbHoriz3_2_0.500'))\n",
    "vd2.exportGIF('l0w2', compression=2, crop={'x0':0, 'xf':-1, 'y0':200, 'yf':-1}, color=False, sizeCompression=2, prestart=0)"
   ]
  },
  {
   "cell_type": "code",
   "execution_count": null,
   "id": "cbbb91bf-76a7-47e6-8c6b-cf5dabe1fc93",
   "metadata": {
    "tags": []
   },
   "outputs": [],
   "source": [
    "vd2 = vt.vidData(os.path.join(cfg.path.server, r'SDT\\SO_S20-0.5\\I_SO8-S20-0.5_S_3.00\\I_SO8-S20-0.5_S_3.00_230510\\disturbHoriz3_2_0.500'))\n",
    "vd2.exportGIF('l0w2', compression=2, crop={'x0':0, 'xf':-1, 'y0':200, 'yf':-1}, color=False, sizeCompression=1, prestart=0)"
   ]
  },
  {
   "cell_type": "code",
   "execution_count": null,
   "id": "f3aa52af-8109-4cbe-b71b-245878acd44b",
   "metadata": {
    "tags": []
   },
   "outputs": [],
   "source": [
    "vd2 = vt.vidData(os.path.join(cfg.path.server, r'SDT\\PDMSS\\I_PDMSS7.5_S_3.00\\I_PDMSS7.5_S_3.00_230920\\disturbUnder_3_1.250'))\n",
    "vd2.exportGIF('l1w2', compression=2, crop={'x0':0, 'xf':-1, 'y0':150, 'yf':-100}, color=True, sizeCompression=2, prestart=-0.5, postend=-3)"
   ]
  }
 ],
 "metadata": {
  "kernelspec": {
   "display_name": "Python 3 (ipykernel)",
   "language": "python",
   "name": "python3"
  },
  "language_info": {
   "codemirror_mode": {
    "name": "ipython",
    "version": 3
   },
   "file_extension": ".py",
   "mimetype": "text/x-python",
   "name": "python",
   "nbconvert_exporter": "python",
   "pygments_lexer": "ipython3",
   "version": "3.8.18"
  }
 },
 "nbformat": 4,
 "nbformat_minor": 5
}
