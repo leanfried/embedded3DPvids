{
 "cells": [
  {
   "cell_type": "markdown",
   "id": "cd11a9e6-28ca-4770-aa8b-0728766cbaad",
   "metadata": {
    "tags": []
   },
   "source": [
    "# debugging notebook: bulk debugging"
   ]
  },
  {
   "cell_type": "markdown",
   "id": "6c42d5b0-3ffa-47a9-a50a-3927f5590572",
   "metadata": {},
   "source": [
    "Leanne Friedrich 7/31/23: For debugging all files that have errors"
   ]
  },
  {
   "cell_type": "markdown",
   "id": "9d75eae1-3a84-46d0-a03a-8c3fe21b702f",
   "metadata": {},
   "source": [
    "## Initialization"
   ]
  },
  {
   "cell_type": "code",
   "execution_count": null,
   "id": "1f7fd939-1c5f-4a23-8109-eee7db1d0fd1",
   "metadata": {},
   "outputs": [],
   "source": [
    "%load_ext autoreload\n",
    "%autoreload 2\n",
    "LOGGERDEFINED = False"
   ]
  },
  {
   "cell_type": "code",
   "execution_count": null,
   "id": "4e9586ba-61c5-4a0e-9022-5fcdb7ebeb2f",
   "metadata": {},
   "outputs": [],
   "source": [
    "import os\n",
    "import sys\n",
    "import numpy as np\n",
    "import pandas as pd\n",
    "import py.file.file_handling as fh\n",
    "module_path = os.path.abspath(os.path.join('..'))\n",
    "sys.path.append(module_path)\n",
    "sys.path.append(os.path.dirname(module_path))\n",
    "from py.tools.config import cfg\n",
    "import py.tools.logs as logs\n",
    "from py.full_sequence import SDTWorkflow, fullSequencer\n",
    "LOGGERDEFINED = logs.openLog('debug.ipynb', LOGGERDEFINED, level='DEBUG', exportLog=False)"
   ]
  },
  {
   "cell_type": "markdown",
   "id": "8dd4de53-3bbe-4389-8596-8661d0225466",
   "metadata": {},
   "source": [
    "# hierarchical folders"
   ]
  },
  {
   "cell_type": "code",
   "execution_count": null,
   "id": "e17db204-729e-443f-b7bc-fa0d5aac70a7",
   "metadata": {
    "tags": []
   },
   "outputs": [],
   "source": [
    "# object that analyzes all subfolders in one folder\n",
    "fs = fullSequencer(os.path.join(cfg.path.server, r'SDT\\P_vs'), mustMatch=['Under'])"
   ]
  },
  {
   "cell_type": "code",
   "execution_count": null,
   "id": "380a79cc-b634-49cb-a445-fd91dea0acc3",
   "metadata": {
    "tags": []
   },
   "outputs": [],
   "source": [
    "# analyze all folders\n",
    "fs.run()"
   ]
  },
  {
   "cell_type": "code",
   "execution_count": null,
   "id": "483fa4c2-79c0-43c8-aa99-5b46ee264212",
   "metadata": {
    "tags": []
   },
   "outputs": [],
   "source": [
    "# export all errors at the folder level into a table\n",
    "fs.exportErrors(os.path.join(cfg.path.fig,'SDT', 'errors', 'PDMSSUnder231023_errors_3.csv'))"
   ]
  },
  {
   "cell_type": "code",
   "execution_count": null,
   "id": "ebb2dfbc-b29e-4744-b7ba-2bc81bbb3e0c",
   "metadata": {
    "tags": []
   },
   "outputs": [],
   "source": [
    "# list of folders and their errors\n",
    "fs.folderErrorList"
   ]
  },
  {
   "cell_type": "code",
   "execution_count": null,
   "id": "ec83e278-1ad2-49f8-bf45-7205463d129b",
   "metadata": {
    "tags": []
   },
   "outputs": [],
   "source": [
    "# try running a folder again, given its index in the error list\n",
    "fs.testFolderError(4, openFolder=True)"
   ]
  },
  {
   "cell_type": "code",
   "execution_count": null,
   "id": "e9db4f67-b770-4e7a-894b-4b6ebe67c058",
   "metadata": {
    "tags": []
   },
   "outputs": [],
   "source": [
    "# approve the last folder that was just rerun\n",
    "fs.sw.approve()"
   ]
  },
  {
   "cell_type": "code",
   "execution_count": null,
   "id": "25405a33-e2d1-4901-897d-1d3d21012466",
   "metadata": {
    "tags": []
   },
   "outputs": [],
   "source": [
    "# redo progPos in the last folder\n",
    "fs.sw.pdim.getProgPos()"
   ]
  },
  {
   "cell_type": "code",
   "execution_count": null,
   "id": "e9196fed-03a8-4124-b4b7-e497de0d58bb",
   "metadata": {
    "tags": []
   },
   "outputs": [],
   "source": [
    "# redo progDims in the last folder\n",
    "fs.sw.getProgDims(overwrite=True)"
   ]
  },
  {
   "cell_type": "code",
   "execution_count": null,
   "id": "c1c155b3-35fd-43ad-9a20-8ca3b4af3618",
   "metadata": {
    "tags": []
   },
   "outputs": [],
   "source": [
    "# test a specific image in the last folder that was run\n",
    "fs.sw.testImage('l0d1p2', diag=1, overrideSegment=True)"
   ]
  },
  {
   "cell_type": "code",
   "execution_count": null,
   "id": "b51c1840-3598-4f10-b628-32f8f2ef56ba",
   "metadata": {
    "tags": []
   },
   "outputs": [],
   "source": [
    "# measure all images in the last folder\n",
    "fs.sw.analyze(overwriteMeasure=True, overwriteSummary=True)"
   ]
  },
  {
   "cell_type": "markdown",
   "id": "a3d4d584-1ece-433d-bba5-9b4c933b0ba0",
   "metadata": {},
   "source": [
    "# find all the confocal files"
   ]
  },
  {
   "cell_type": "code",
   "execution_count": null,
   "id": "c0f81c1a-752c-498d-bef4-bb5690101560",
   "metadata": {},
   "outputs": [],
   "source": [
    "def addFiles(folder, **kwargs):\n",
    "    for f in os.listdir(folder):\n",
    "        if '.lif' in f:\n",
    "            newrow = {'folder':os.path.relpath(folder, cfg.path.server), 'file':f}\n",
    "            out.append(newrow)\n",
    "            print(newrow)\n",
    "out = []\n",
    "fl = fh.folderLoop(os.path.join(cfg.path.server, 'SDT'), addFiles, folderFile=cfg.path.folderList)\n",
    "fl.run()"
   ]
  },
  {
   "cell_type": "code",
   "execution_count": null,
   "id": "7cb85e42-05c3-4588-aae9-ee5ada34ceb6",
   "metadata": {},
   "outputs": [],
   "source": [
    "pd.DataFrame(out).to_csv(os.path.join(cfg.path.fig, 'SDT', 'summaries', 'confocal.csv'))"
   ]
  }
 ],
 "metadata": {
  "kernelspec": {
   "display_name": "Python 3 (ipykernel)",
   "language": "python",
   "name": "python3"
  },
  "language_info": {
   "codemirror_mode": {
    "name": "ipython",
    "version": 3
   },
   "file_extension": ".py",
   "mimetype": "text/x-python",
   "name": "python",
   "nbconvert_exporter": "python",
   "pygments_lexer": "ipython3",
   "version": "3.8.18"
  }
 },
 "nbformat": 4,
 "nbformat_minor": 5
}
