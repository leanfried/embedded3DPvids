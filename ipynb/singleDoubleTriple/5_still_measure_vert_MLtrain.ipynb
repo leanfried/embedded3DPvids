{
 "cells": [
  {
   "cell_type": "markdown",
   "id": "1f59019a-ad42-427d-8c8d-7a635e779d5f",
   "metadata": {},
   "source": [
    "# Analyzing images of singledoubletriple vertical lines"
   ]
  },
  {
   "cell_type": "markdown",
   "id": "aef92656-7bf0-4a83-8c62-ee95203fae18",
   "metadata": {},
   "source": [
    "## Initialization"
   ]
  },
  {
   "cell_type": "code",
   "execution_count": null,
   "id": "902a67aa-9b60-4cac-8795-06903b351e75",
   "metadata": {
    "tags": []
   },
   "outputs": [],
   "source": [
    "%load_ext autoreload\n",
    "%autoreload 2\n",
    "LOGGERDEFINED = False"
   ]
  },
  {
   "cell_type": "code",
   "execution_count": null,
   "id": "fa38faf3-533b-4f94-a171-81f3002060f7",
   "metadata": {
    "tags": []
   },
   "outputs": [],
   "source": [
    "import os\n",
    "import sys\n",
    "import numpy as np\n",
    "import matplotlib.pyplot as plt\n",
    "module_path = os.path.abspath(os.path.join('..'))\n",
    "sys.path.append(module_path)\n",
    "sys.path.append(os.path.dirname(module_path))\n",
    "from py.tools.config import cfg\n",
    "import py.tools.logs as logs\n",
    "import py.vid.v_tools as vt\n",
    "import py.metrics.m_SDT as me\n",
    "from py.im.imshow import imshow\n",
    "import py.file.file_handling as fh\n",
    "import pandas as pd\n",
    "LOGGERDEFINED = logs.openLog('still_measure.ipynb', LOGGERDEFINED, level='DEBUG', exportLog=False)"
   ]
  },
  {
   "cell_type": "markdown",
   "id": "5f6455be-db89-44f0-a739-996aa61e2c2f",
   "metadata": {},
   "source": [
    "# generate training and evaluation data"
   ]
  },
  {
   "cell_type": "code",
   "execution_count": null,
   "id": "c88604c4-80aa-435c-8f7b-cac03c343626",
   "metadata": {
    "tags": []
   },
   "outputs": [],
   "source": [
    "tg = me.trainingGenerator(os.path.join(cfg.path.server, 'SDT')\n",
    "                          , excludeFolders=[os.path.join(cfg.path.fig, 'SDT\\trainingVert\\segmented'),\n",
    "                                          os.path.join(cfg.path.fig, 'SDT\\trainingVert\\evaluate\\segmented')]\n",
    "                          , mustMatch='disturbVert')"
   ]
  },
  {
   "cell_type": "code",
   "execution_count": null,
   "id": "7f6f6e9c-8efa-485a-aed6-2a608440a76f",
   "metadata": {
    "tags": []
   },
   "outputs": [],
   "source": [
    "file = tg.randomFile()"
   ]
  },
  {
   "cell_type": "code",
   "execution_count": null,
   "id": "1bbe9222-d08e-4975-b842-6800748072ea",
   "metadata": {
    "tags": []
   },
   "outputs": [],
   "source": [
    "vs = me.fileVertSDT(file, diag=1, overrideSegment=False)"
   ]
  },
  {
   "cell_type": "code",
   "execution_count": null,
   "id": "7f4cabf0-915e-41c5-9b30-8271d8e16e59",
   "metadata": {
    "tags": []
   },
   "outputs": [],
   "source": [
    "# add to training as is\n",
    "vs.addToTraining(trainFolder=r'SDT\\trainingVert\\evaluate')"
   ]
  },
  {
   "cell_type": "code",
   "execution_count": null,
   "id": "e09418f0-d785-4075-ba7a-36f27d9dddba",
   "metadata": {
    "tags": []
   },
   "outputs": [],
   "source": [
    "# add to training, but open paint\n",
    "vs.addToTraining(trainFolder=r'SDT\\trainingVert\\evaluate', openPaint=True)"
   ]
  },
  {
   "cell_type": "code",
   "execution_count": null,
   "id": "1012156d-7857-4f5b-9cf8-86e93ab978fb",
   "metadata": {
    "tags": []
   },
   "outputs": [],
   "source": [
    "# add thresh to training and open paint\n",
    "vs.addToTraining(s='thresh', trainFolder=r'SDT\\trainingVert\\evaluate')"
   ]
  },
  {
   "cell_type": "code",
   "execution_count": null,
   "id": "12089880-0d82-4c23-8c16-3ba4a7500069",
   "metadata": {
    "tags": []
   },
   "outputs": [],
   "source": [
    "me.convertFilesToBW(r'C:\\Users\\lmf1\\OneDrive - NIST\\NIST\\data\\shopbot\\results\\SDT\\trainingVert\\segmented', diag=True)"
   ]
  },
  {
   "cell_type": "markdown",
   "id": "a09d3512-eb3a-4f73-a999-3715fe3c3987",
   "metadata": {},
   "source": [
    "# compare to manual segmentation"
   ]
  },
  {
   "cell_type": "markdown",
   "id": "8c6808c6-6ff9-4204-98bd-9f4af7552000",
   "metadata": {},
   "source": [
    "#### combined model"
   ]
  },
  {
   "cell_type": "code",
   "execution_count": null,
   "id": "d1f21384-80c6-46dc-8908-8ba62410e58e",
   "metadata": {
    "tags": []
   },
   "outputs": [],
   "source": [
    "scc = me.segmentCompare(os.path.join(cfg.path.server, r'singleDoubleTripleML\\evaluateVert\\segmented')\n",
    "                       , os.path.join(cfg.path.server, 'SDT')\n",
    "                       , os.path.join(cfg.path.server, r'singleDoubleTripleML\\evaluateVert\\orig')\n",
    "                        , me.fileVertSDT)\n",
    "scc.compare()"
   ]
  },
  {
   "cell_type": "code",
   "execution_count": null,
   "id": "46825ae7-9037-43a6-91a4-2e7d9035c6a7",
   "metadata": {
    "tags": []
   },
   "outputs": [],
   "source": [
    "scc.showWorstSegmentation()"
   ]
  },
  {
   "cell_type": "code",
   "execution_count": null,
   "id": "aa96551e-9cf9-4aab-b4c8-8bdd2c6ac733",
   "metadata": {
    "tags": []
   },
   "outputs": [],
   "source": [
    "scc.compareFile(109, diag=4)"
   ]
  },
  {
   "cell_type": "markdown",
   "id": "3fade346-cbf1-44c3-86eb-936e0076ca55",
   "metadata": {},
   "source": [
    "#### ML model"
   ]
  },
  {
   "cell_type": "code",
   "execution_count": null,
   "id": "86d47adb-a165-41bc-9e70-b241a72b4cac",
   "metadata": {
    "tags": []
   },
   "outputs": [],
   "source": [
    "scm = me.segmentCompare(os.path.join(cfg.path.server, r'singleDoubleTripleML\\evaluateVert\\segmented')\n",
    "                       , os.path.join(cfg.path.server, r'singleDoubleTripleML\\evaluateVert\\png')\n",
    "                       , os.path.join(cfg.path.server, r'singleDoubleTripleML\\evaluateVert\\orig')\n",
    "                        , 'ML')\n",
    "\n",
    "scm.compare()"
   ]
  },
  {
   "cell_type": "code",
   "execution_count": null,
   "id": "9b076e8a-813b-4214-bb5f-7b0aafd8c53f",
   "metadata": {
    "tags": []
   },
   "outputs": [],
   "source": [
    "scm.showWorstSegmentation()"
   ]
  },
  {
   "cell_type": "code",
   "execution_count": null,
   "id": "ed556116-7d53-454e-a634-741373d4353e",
   "metadata": {
    "tags": []
   },
   "outputs": [],
   "source": [
    "scm.compareFile(86, diag=2)"
   ]
  },
  {
   "cell_type": "markdown",
   "id": "ce6c69f3-cf3b-4c9c-b656-633e8749de99",
   "metadata": {},
   "source": [
    "#### unsupervised model"
   ]
  },
  {
   "cell_type": "code",
   "execution_count": null,
   "id": "f45213cc-7542-410d-992f-f5e8c7bc5391",
   "metadata": {
    "tags": []
   },
   "outputs": [],
   "source": [
    "scu = me.segmentCompare(os.path.join(cfg.path.server, r'singleDoubleTripleML\\evaluateVert\\segmented')\n",
    "                       , os.path.join(cfg.path.server, 'SDT')\n",
    "                       , os.path.join(cfg.path.server, r'singleDoubleTripleML\\evaluateVert\\orig')\n",
    "                        , 'U')\n",
    "\n",
    "scu.compare()"
   ]
  },
  {
   "cell_type": "code",
   "execution_count": null,
   "id": "eb4e033f-a9c0-4b1f-9f10-9cf1d1b12c32",
   "metadata": {
    "tags": []
   },
   "outputs": [],
   "source": [
    "scu.showWorstSegmentation()"
   ]
  },
  {
   "cell_type": "code",
   "execution_count": null,
   "id": "e72fd41a-32e1-4be1-8910-6c2ab342b3a5",
   "metadata": {
    "tags": []
   },
   "outputs": [],
   "source": [
    "scu.compareFile(86, diag=2)"
   ]
  }
 ],
 "metadata": {
  "kernelspec": {
   "display_name": "Python 3 (ipykernel)",
   "language": "python",
   "name": "python3"
  },
  "language_info": {
   "codemirror_mode": {
    "name": "ipython",
    "version": 3
   },
   "file_extension": ".py",
   "mimetype": "text/x-python",
   "name": "python",
   "nbconvert_exporter": "python",
   "pygments_lexer": "ipython3",
   "version": "3.8.3"
  }
 },
 "nbformat": 4,
 "nbformat_minor": 5
}
