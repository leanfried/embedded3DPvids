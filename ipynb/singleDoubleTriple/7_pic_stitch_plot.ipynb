{
 "cells": [
  {
   "cell_type": "markdown",
   "id": "9d8d9314",
   "metadata": {},
   "source": [
    "# Plotting data from videos\n",
    "Leanne Friedrich 5/22/21"
   ]
  },
  {
   "cell_type": "markdown",
   "id": "c5045418",
   "metadata": {},
   "source": [
    "## initialization"
   ]
  },
  {
   "cell_type": "code",
   "execution_count": null,
   "id": "29c411ab",
   "metadata": {
    "tags": []
   },
   "outputs": [],
   "source": [
    "%load_ext autoreload\n",
    "%autoreload 2\n",
    "LOGGERDEFINED = False"
   ]
  },
  {
   "cell_type": "code",
   "execution_count": null,
   "id": "0349c10a",
   "metadata": {
    "tags": []
   },
   "outputs": [],
   "source": [
    "import os\n",
    "import sys\n",
    "import pandas as pd\n",
    "\n",
    "sys.path.append(\"../\")\n",
    "sys.path.append(\"../../\")\n",
    "import py.file.file_handling as fh\n",
    "from py.tools.config import cfg\n",
    "import py.tools.logs as logs\n",
    "from py.pic_plots.p_SDT import *\n",
    "from file.f_tools import openExplorer\n",
    "\n",
    "LOGGERDEFINED = logs.openLog('pic_stitch_plot.ipynb', LOGGERDEFINED, level='DEBUG', exportLog=False)\n",
    "IMFOLDER = os.path.join(cfg.path.fig, 'SDT', 'images')"
   ]
  },
  {
   "cell_type": "markdown",
   "id": "df4359fb",
   "metadata": {},
   "source": [
    "# plot images from multiple folders together"
   ]
  },
  {
   "cell_type": "code",
   "execution_count": null,
   "id": "e7613ffe-3753-4aaa-a40c-93cdb87550b2",
   "metadata": {},
   "outputs": [],
   "source": [
    "# initialize objects that can generate plots\n",
    "mp1 = multiPlotsSDT(os.path.join(cfg.path.server,'SDT', 'SO'), IMFOLDER)\n",
    "mp2 = multiPlotsSDT(os.path.join(cfg.path.server,'SDT', 'SO_S20-0.5'), IMFOLDER)\n",
    "mp3 = multiPlotsSDT(os.path.join(cfg.path.server,'SDT', 'SO_S85-0.05'), IMFOLDER)\n",
    "mp4 = multiPlotsSDT(os.path.join(cfg.path.server,'SDT', 'PDMSS'), IMFOLDER)\n",
    "mp5 = multiPlotsSDT(os.path.join(cfg.path.server,'SDT', 'PDMSS_S20_0.5'), IMFOLDER)\n",
    "mp6 = multiPlotsSDT(os.path.join(cfg.path.server,'SDT', 'PDMSS_S85-0.05'), IMFOLDER)\n",
    "mp7 = multiPlotsSDT(os.path.join(cfg.path.server,'SDT', 'P_vs', '8_3.50'), IMFOLDER)"
   ]
  },
  {
   "cell_type": "markdown",
   "id": "b24ffd04-b28d-4778-bd31-9718d709b323",
   "metadata": {},
   "source": [
    "make plots"
   ]
  },
  {
   "cell_type": "code",
   "execution_count": null,
   "id": "d25a0d29-ed6c-4c35-b04b-dd991aea1f66",
   "metadata": {
    "tags": []
   },
   "outputs": [],
   "source": [
    "mp7.plot('HIh2', tag=['l2w2p2'], getP=False, spacing=0.875, export=False, showFig=True, imsize=15)"
   ]
  },
  {
   "cell_type": "code",
   "execution_count": null,
   "id": "953be85f-c9c8-4c17-8417-007ccf484fa1",
   "metadata": {
    "tags": []
   },
   "outputs": [],
   "source": [
    "mp7.plot('HIh1', tag=['l2d1p2'], getP=False, spacing=0.875, export=True, overwrite=True, plotStyle='paper', showFig=True, imsize=6.5, crops={'relative':True, 'w':700, 'h':280, 'wc':450, 'hc':180})"
   ]
  },
  {
   "cell_type": "code",
   "execution_count": null,
   "id": "4293b0fa-4035-4bec-a72d-f94550404f71",
   "metadata": {
    "tags": []
   },
   "outputs": [],
   "source": [
    "mp6.plot('HIh3', tag=['l2w3p2'], getP=False, ink=mp6.inkList[1], export=False, showFig=True, imsize=15)"
   ]
  },
  {
   "cell_type": "code",
   "execution_count": null,
   "id": "21e4db31-832a-442b-9dc8-1b4791eb95fa",
   "metadata": {
    "tags": []
   },
   "outputs": [],
   "source": [
    "mp4.plot('HIh2', tag=['l2w2o6'], getP=False, spacing=0.875, export=False, showFig=True, imsize=15)"
   ]
  },
  {
   "cell_type": "code",
   "execution_count": null,
   "id": "99f4c096-cc45-4d1d-ad09-a1af07cb9333",
   "metadata": {
    "tags": []
   },
   "outputs": [],
   "source": [
    "mp6.plot('HIh1', tag=['l2w1o6'], getP=False, spacing=0.875, export=False, showFig=True, imsize=15)"
   ]
  },
  {
   "cell_type": "code",
   "execution_count": null,
   "id": "2e040ec3-54ac-4a26-8d32-ae6b1bb13243",
   "metadata": {
    "tags": []
   },
   "outputs": [],
   "source": [
    "mp6.plot('HIx1', tag=['l2w1o2'], getP=False, spacing=0.875, export=False, showFig=True, imsize=15)"
   ]
  },
  {
   "cell_type": "code",
   "execution_count": null,
   "id": "0c529d69-ffc2-4301-911b-140d36f07bac",
   "metadata": {
    "tags": []
   },
   "outputs": [],
   "source": [
    "mp2.plot('HIx2', tag=['l2w2o2'], getP=False, spacing=0.875, export=False, showFig=True, imsize=15)"
   ]
  },
  {
   "cell_type": "code",
   "execution_count": null,
   "id": "f47b3b10-718f-49db-9e44-41ec457bb75d",
   "metadata": {
    "tags": []
   },
   "outputs": [],
   "source": [
    "mp6.plot('HIx2', tag=['l2w1o2', 'l2w2o2'], getP=False, ink=mp6.inkList[1],  export=True, showFig=True, imsize=4, fontsize=8, transpose=True, concat='h')"
   ]
  },
  {
   "cell_type": "code",
   "execution_count": null,
   "id": "839edb76-e3a7-4d44-9186-c064af6a3db4",
   "metadata": {
    "tags": []
   },
   "outputs": [],
   "source": [
    "mp6.plot('HIx2', tag=['l2w1o2', 'l2w2o2'], getP=False, ink=mp6.inkList[1], sup=mp6.supList[1]\n",
    "         , overwrite=True,  export=True, showFig=True, imsize=4, fontsize=8, transpose=False, concat='v')"
   ]
  },
  {
   "cell_type": "code",
   "execution_count": null,
   "id": "aa8fcae4-66ab-467d-a7f2-4eda8ee5fd1a",
   "metadata": {
    "tags": []
   },
   "outputs": [],
   "source": [
    "mp6.plot('HIx1', tag=['l2w1o2', 'l2d1o2'], getP=False, ink=mp6.inkList[1],  export=True, showFig=True, imsize=4, fontsize=8, transpose=True, concat='h')"
   ]
  },
  {
   "cell_type": "code",
   "execution_count": null,
   "id": "a017033d-6c62-46ab-ab10-d48f2053b79d",
   "metadata": {
    "tags": []
   },
   "outputs": [],
   "source": [
    "mp6.plot('HOx2', tag=['l2w1o2', 'l2w2o2'], getP=False, ink=mp6.inkList[1],  export=True, showFig=True, overwrite=True\n",
    "         , imsize=4, fontsize=8, transpose=False, concat='h', crops={'relative':True, 'w':100, 'h':200, 'wc':50, 'hc':150})"
   ]
  },
  {
   "cell_type": "code",
   "execution_count": null,
   "id": "c4037c69-c0bc-41ac-b0d1-2f79876dee18",
   "metadata": {
    "tags": []
   },
   "outputs": [],
   "source": [
    "mp6.plot('HIx1', tag=['l2d1'], getP=False, ink=mp6.inkList[1], sup=mp6.supList[1],  export=True, showFig=True, imsize=5, fontsize=8)"
   ]
  },
  {
   "cell_type": "code",
   "execution_count": null,
   "id": "c5cbcbba-c347-4406-ae73-610d61410375",
   "metadata": {
    "tags": []
   },
   "outputs": [],
   "source": [
    "mp6.plot('HIx2', tag=['l2w2'], getP=False, ink=mp6.inkList[1], sup=mp6.supList[1],  export=True, showFig=True, imsize=5, fontsize=8)"
   ]
  },
  {
   "cell_type": "code",
   "execution_count": null,
   "id": "2b940662-fe99-4966-a6d2-a369d4bb8037",
   "metadata": {
    "tags": []
   },
   "outputs": [],
   "source": [
    "mp6.plot('HIx2', tag=['l2w2o2','l2d2o2'], getP=False, ink=mp6.inkList[1],  export=True, overwrite=True\n",
    "         , showFig=True, imsize=3.25, plotType='paper', crops={'relative':True, 'w':200, 'h':160, 'wc':50, 'hc':120})"
   ]
  },
  {
   "cell_type": "code",
   "execution_count": null,
   "id": "3065cbc8-d3d7-401b-adb2-4d4b4f2411d0",
   "metadata": {
    "tags": []
   },
   "outputs": [],
   "source": [
    "mp6.plot('HOx2', tag=['l2w2o2','l2d2o2'], getP=False, ink=mp6.inkList[1],  export=True, showFig=True, overwrite=True\n",
    "         , imsize=3.25, plotType='paper', crops={'relative':True, 'w':100, 'h':275, 'wc':50, 'hc':225})"
   ]
  },
  {
   "cell_type": "code",
   "execution_count": null,
   "id": "93bd304a-1942-45e3-bb72-9e11964df2a8",
   "metadata": {
    "tags": []
   },
   "outputs": [],
   "source": [
    "mp6.plot('HIx3', tag=['l1w2o2', 'l2w3o2'], getP=False, ink=mp6.inkList[1],  export=True, showFig=True, imsize=3.25, plotType='paper'\n",
    "         , crops={'relative':True, 'w':200, 'h':160, 'wc':50, 'hc':120}, overwrite=True)"
   ]
  },
  {
   "cell_type": "code",
   "execution_count": null,
   "id": "57c1049c-696d-4e82-b62e-4a9364dbf0a6",
   "metadata": {
    "tags": []
   },
   "outputs": [],
   "source": [
    "mp6.plot('HOx3', tag=['l1w2o2', 'l2w3o2'], getP=False, ink=mp6.inkList[1],  export=True, showFig=True, imsize=3.25\n",
    "         , plotType='paper', crops={'relative':True, 'w':100, 'h':275, 'wc':50, 'hc':225}, overwrite=True)"
   ]
  },
  {
   "cell_type": "code",
   "execution_count": null,
   "id": "c583a655-8ac8-4a7c-be0a-86c263292cc9",
   "metadata": {
    "scrolled": true,
    "tags": []
   },
   "outputs": [],
   "source": [
    "mp1.plot('V2', tag=['l2w2o2'], getP=False, ink=mp1.inkList[0],  export=False, showFig=True, imsize=6.5, fontsize=8)"
   ]
  },
  {
   "cell_type": "code",
   "execution_count": null,
   "id": "389afab7-12c0-4281-ba7e-0cec2fd26326",
   "metadata": {
    "tags": []
   },
   "outputs": [],
   "source": [
    "mp1.plot('V2', tag=['l2w2o2'], getP=False, ink=mp1.inkList[2],  export=False, showFig=True, imsize=6.5, fontsize=8)"
   ]
  },
  {
   "cell_type": "code",
   "execution_count": null,
   "id": "03e3d5e6-8855-4345-a2c5-827453c09a9e",
   "metadata": {
    "tags": []
   },
   "outputs": [],
   "source": [
    "mp3.plot('V2', tag=['l2w2o2'], getP=False, ink=mp3.inkList[2],  export=True, showFig=True, imsize=6.5, overwrite=True\n",
    "         , fontsize=8, crops={'relative':True, 'w':200, 'h':535, 'wc':60, 'hc':340})"
   ]
  },
  {
   "cell_type": "code",
   "execution_count": null,
   "id": "47d26f7e-5cb0-4232-95e0-89c94aa5c90e",
   "metadata": {
    "tags": []
   },
   "outputs": [],
   "source": [
    "mp4.plot('V2', tag=['l2w2o6'], getP=False, ink=mp4.inkList[1],  export=True, showFig=True, imsize=6.5\n",
    "        , fontsize=8, crops={'relative':True, 'w':200, 'h':600, 'wc':60, 'hc':425})"
   ]
  },
  {
   "cell_type": "code",
   "execution_count": null,
   "id": "beef71db-28e6-42f4-811a-6237c18b23d2",
   "metadata": {
    "scrolled": true,
    "tags": []
   },
   "outputs": [],
   "source": [
    "mp6.plot('V2', tag=['l2w2o2'], getP=False, ink=mp6.inkList[2],  export=False, showFig=True, imsize=6.5, fontsize=8)"
   ]
  },
  {
   "cell_type": "code",
   "execution_count": null,
   "id": "dc7cb87a-5467-4923-b952-66fc34ec7427",
   "metadata": {
    "tags": []
   },
   "outputs": [],
   "source": [
    "mp6.plot('V3', tag=['l2w3o2'], getP=False, ink=mp6.inkList[1],  export=False, showFig=True, imsize=8)"
   ]
  },
  {
   "cell_type": "code",
   "execution_count": null,
   "id": "014df7b3-9c4c-4a3a-af6e-49af5bb3f4a8",
   "metadata": {
    "tags": []
   },
   "outputs": [],
   "source": [
    "mp2.plot('V1', tag=['l1w1o2', 'l1d1o2'], getP=False, ink=mp2.inkList[0],  export=False, showFig=True, imsize=8)"
   ]
  },
  {
   "cell_type": "code",
   "execution_count": null,
   "id": "b411976c-4b61-475f-87de-f4eebcd90282",
   "metadata": {
    "tags": []
   },
   "outputs": [],
   "source": [
    "mp2.plot('V2', tag=['l1w2o2', 'l1d2o2'], getP=False, ink=mp2.inkList[0],  export=False, showFig=True, imsize=8)"
   ]
  },
  {
   "cell_type": "code",
   "execution_count": null,
   "id": "dbdc83fa-ef04-4646-857a-283db30eee4f",
   "metadata": {
    "tags": []
   },
   "outputs": [],
   "source": [
    "mp2.plot('HOh2', tag=['l1w2o2', 'l1d2o2'], getP=False, spacing=0.875,  export=False, showFig=True, imsize=8)"
   ]
  },
  {
   "cell_type": "code",
   "execution_count": null,
   "id": "b697af97-1871-45b5-a204-cc92d74ca06f",
   "metadata": {
    "tags": []
   },
   "outputs": [],
   "source": [
    "mp2.plot('HOh3', tag=['l1w2o2', 'l1w3o2'], getP=False, spacing=0.875, ink=mp3.inkList[0],  export=False, showFig=True, imsize=2)"
   ]
  },
  {
   "cell_type": "code",
   "execution_count": null,
   "id": "9d40e9b8-56a6-40d3-a348-3b5768a899ff",
   "metadata": {
    "tags": []
   },
   "outputs": [],
   "source": [
    "mp3.plot('HOh3', tag=['l1w2o2', 'l1w3o2'], getP=False, spacing=1, ink=mp3.inkList[0],  export=True, showFig=True, imsize=2, overwrite=True)"
   ]
  },
  {
   "cell_type": "code",
   "execution_count": null,
   "id": "06e104f1-21b0-40ac-ae9d-5510ca5b1c40",
   "metadata": {
    "tags": []
   },
   "outputs": [],
   "source": [
    "mp3.plot('HOh2', tag=['l1w2o2', 'l1d2o2'], getP=False, spacing=1, ink=mp3.inkList[0],  export=True, showFig=True, imsize=2)"
   ]
  },
  {
   "cell_type": "code",
   "execution_count": null,
   "id": "98400674-fc78-4efa-a14e-46f59d51f34b",
   "metadata": {
    "tags": []
   },
   "outputs": [],
   "source": [
    "mp2.plot('V3', tag=['l1w2o2', 'l1w3o2'], getP=False, spacing=1,  export=False, showFig=True, imsize=8)"
   ]
  },
  {
   "cell_type": "code",
   "execution_count": null,
   "id": "6f5c923f-cf14-4ff3-a4cd-73e953835d01",
   "metadata": {
    "tags": []
   },
   "outputs": [],
   "source": [
    "mp5.plot('HIh3', tag=['l1w2o2', 'l1w3o2'], getP=False, spacing=0.875,  export=False, showFig=True, imsize=8)"
   ]
  },
  {
   "cell_type": "code",
   "execution_count": null,
   "id": "87c5b766-9341-4512-a0ae-0c51fc85ff1b",
   "metadata": {
    "tags": []
   },
   "outputs": [],
   "source": [
    "mp6.plot('HIx3', tag=['l2w2o2','l2w3o2'], getP=False, ink=mp6.inkList[1],  export=False, showFig=True, imsize=15)"
   ]
  },
  {
   "cell_type": "code",
   "execution_count": null,
   "id": "1f5516b1-3ea9-4443-8fab-930b2a7b4ef4",
   "metadata": {
    "tags": []
   },
   "outputs": [],
   "source": [
    "mp6.plot('HIx1', tag=['l2d1o2', 'l2d1o2'], getP=False, ink=mp6.inkList[1],  export=False, showFig=True, imsize=15)"
   ]
  },
  {
   "cell_type": "code",
   "execution_count": null,
   "id": "49f7f1f0-e82a-4b64-a8b2-4d1a8512c770",
   "metadata": {
    "scrolled": true,
    "tags": []
   },
   "outputs": [],
   "source": [
    "mp4.plot('HIh2', tag=['l2w2o6'], getP=False, ink=mp4.inkList[1], export=True, overwrite=True, showFig=True, imsize=6.5, fontsize=8\n",
    "        , crops={'relative':True, 'w':730, 'h':175, 'wc':350, 'hc':100})"
   ]
  },
  {
   "cell_type": "code",
   "execution_count": null,
   "id": "ebe356fb-5187-43b2-b0b5-67f0cd5722c0",
   "metadata": {
    "scrolled": true,
    "tags": []
   },
   "outputs": [],
   "source": [
    "mp4.plot('HOh2', tag=['l2w2o6'], getP=False, ink=mp4.inkList[1], export=True, overwrite=True, showFig=True, imsize=6.5, fontsize=8\n",
    "       , crops={'relative':True, 'w':700, 'h':200, 'wc':300, 'hc':150} )"
   ]
  },
  {
   "cell_type": "code",
   "execution_count": null,
   "id": "244d6c42-3f2f-41f3-a04b-7c480d84d208",
   "metadata": {
    "tags": []
   },
   "outputs": [],
   "source": [
    "mp6.plot('HIx1', getP=True, ink=mp6.inkList[1], export=False, showFig=True, imsize=6.5)"
   ]
  },
  {
   "cell_type": "code",
   "execution_count": null,
   "id": "a25c4a50-b379-4583-a562-e72cdace681b",
   "metadata": {
    "tags": []
   },
   "outputs": [],
   "source": [
    "mp4.plot('HIx1', getP=True, ink=mp4.inkList[1], export=True, showFig=True, imsize=6.5)"
   ]
  },
  {
   "cell_type": "code",
   "execution_count": null,
   "id": "02763373-7e47-4f59-951d-79c950981592",
   "metadata": {
    "tags": []
   },
   "outputs": [],
   "source": [
    "mp6.plot('HIx3', tag=['l2w3o1'], getP=False, ink=mp6.inkList[1], export=False, showFig=True, imsize=6.5)"
   ]
  },
  {
   "cell_type": "code",
   "execution_count": null,
   "id": "c17f7a77-c192-4aba-b59f-0cd1f8ebd758",
   "metadata": {
    "tags": []
   },
   "outputs": [],
   "source": [
    "for mp in [mp1, mp2, mp3]:\n",
    "    for spacing in [0.500, 0.875, 1.250]:\n",
    "        mp.plot('HOh2', tag=['l2w2o8'], spacing=spacing, export=True, showFig=False, removeBackground=False)"
   ]
  },
  {
   "cell_type": "code",
   "execution_count": null,
   "id": "fc641370-565b-4155-b468-7b56dee9cc9b",
   "metadata": {},
   "outputs": [],
   "source": [
    "for mp in [mp1, mp2, mp3]:\n",
    "    mp2.plot(f'HOx{i+1}', spacing=0.875, export=True, showFig=True, overwrite=True, removeBackground=False)"
   ]
  },
  {
   "cell_type": "code",
   "execution_count": null,
   "id": "040354d2",
   "metadata": {
    "tags": []
   },
   "outputs": [],
   "source": [
    "mp2.keyPlots(overwrite=False)"
   ]
  },
  {
   "cell_type": "code",
   "execution_count": null,
   "id": "898b4520-1543-4d0f-aea5-f52e8c02cf37",
   "metadata": {
    "tags": []
   },
   "outputs": [],
   "source": [
    "mp3 = multiPlotsSDT(os.path.join(cfg.path.server,'SDT', 'SO_S85-0.05'), IMFOLDER)\n",
    "mp3.keyPlots(overwrite=False)"
   ]
  },
  {
   "cell_type": "code",
   "execution_count": null,
   "id": "738ded6c",
   "metadata": {
    "tags": []
   },
   "outputs": [],
   "source": [
    "[mp2.plot(f'HOx{i+1}', spacing=0.875, export=True, showFig=True, overwrite=True, removeBackground=False) for i in range(1)]"
   ]
  },
  {
   "cell_type": "code",
   "execution_count": null,
   "id": "a96aa1ed",
   "metadata": {
    "tags": []
   },
   "outputs": [],
   "source": [
    "[mp2.plot('V1', ink=mp2.inkList[i], overwrite=True, export=True, showFig=True) for i in range(3)]"
   ]
  },
  {
   "cell_type": "code",
   "execution_count": null,
   "id": "fecbc401-9730-4f9d-a224-7f9976241514",
   "metadata": {
    "tags": []
   },
   "outputs": [],
   "source": [
    "[mp2.plot('V1', ink=mp2.inkList[i], overwrite=True, export=True, showFig=True) for i in range(1)]"
   ]
  },
  {
   "cell_type": "markdown",
   "id": "e5423460-c363-4a2b-a785-338d5569808e",
   "metadata": {},
   "source": [
    "# export images with scale circles for single files"
   ]
  },
  {
   "cell_type": "code",
   "execution_count": null,
   "id": "efff5ab2-f922-4580-891a-428accd01b6d",
   "metadata": {
    "tags": []
   },
   "outputs": [],
   "source": [
    "# import table of pictures to export\n",
    "clips = pd.read_excel(os.path.join(cfg.path.fig,'SDT', 'summaries', 'timepics.xlsx'))"
   ]
  },
  {
   "cell_type": "code",
   "execution_count": null,
   "id": "b89c5dc7-56b0-4a5f-997c-bb3bf271d97f",
   "metadata": {
    "tags": []
   },
   "outputs": [],
   "source": [
    "# export individual images\n",
    "for i in [69, 81]:\n",
    "    sfp = singleFilePicsSDT(clips.loc[i])\n",
    "    sfp.plot(export=True, showFig=False, overwrite=True, crops={'relative':True, 'w':200, 'h':800, 'wc':60, 'hc':400})"
   ]
  },
  {
   "cell_type": "code",
   "execution_count": null,
   "id": "b36e9097-6e5e-4834-a46f-4679b75f2d4f",
   "metadata": {
    "tags": []
   },
   "outputs": [],
   "source": [
    "# show the list of files that match patterns\n",
    "clips[(clips.line=='d2')&(clips.direction=='V')&(clips.phase=='disturbance')]"
   ]
  },
  {
   "cell_type": "code",
   "execution_count": null,
   "id": "1e92d080-c840-4240-ad1c-a9e797859a60",
   "metadata": {
    "tags": []
   },
   "outputs": [],
   "source": [
    "# open the given folder in windows explorer\n",
    "openExplorer(os.path.join(cfg.path.server, clips.loc[77, 'folder']))"
   ]
  }
 ],
 "metadata": {
  "kernelspec": {
   "display_name": "Python 3 (ipykernel)",
   "language": "python",
   "name": "python3"
  },
  "language_info": {
   "codemirror_mode": {
    "name": "ipython",
    "version": 3
   },
   "file_extension": ".py",
   "mimetype": "text/x-python",
   "name": "python",
   "nbconvert_exporter": "python",
   "pygments_lexer": "ipython3",
   "version": "3.8.18"
  }
 },
 "nbformat": 4,
 "nbformat_minor": 5
}
