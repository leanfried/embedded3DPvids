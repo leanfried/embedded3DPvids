{
 "cells": [
  {
   "cell_type": "code",
   "execution_count": 2,
   "id": "4ea5b3a7-f742-4162-9780-b2e038e1fed9",
   "metadata": {
    "tags": []
   },
   "outputs": [],
   "source": [
    "import os, shutil"
   ]
  },
  {
   "cell_type": "code",
   "execution_count": 3,
   "id": "3a587132-cc6b-4960-a88e-99a23f749b58",
   "metadata": {
    "tags": []
   },
   "outputs": [],
   "source": [
    "s1 = r'\\\\cfs2e.nist.gov\\642\\NIST_Projects\\Additive Manufacturing and Rheology\\OpenFOAM'\n",
    "s2 = r'\\\\resdata-smb\\642-MSED\\642_06\\lmf\\OpenFOAM'"
   ]
  },
  {
   "cell_type": "code",
   "execution_count": 4,
   "id": "a66d61e9-f47b-46bc-bd00-4b599957343a",
   "metadata": {
    "tags": []
   },
   "outputs": [],
   "source": [
    "def checkFiles(f1:str, f2:str) -> None:\n",
    "    if not os.path.isdir(f1):\n",
    "        return\n",
    "    if 'Thumbs.db' in f1:\n",
    "        return\n",
    "    for file in os.listdir(f1):\n",
    "        f1full = os.path.join(f1, file)\n",
    "        f2full = os.path.join(f2, file)\n",
    "        if not os.path.exists(f2full) and not 'Thumbs.db' in f1full:\n",
    "            if os.path.isdir(f1full):\n",
    "                shutil.copytree(f1full, f2full)\n",
    "            else:\n",
    "                shutil.copyfile(f1full, f2full)\n",
    "            print(f2full)\n",
    "        checkFiles(f1full, f2full)"
   ]
  },
  {
   "cell_type": "code",
   "execution_count": 24,
   "id": "0dc1d004-069b-4e32-9bda-b045a1d6e5da",
   "metadata": {
    "tags": []
   },
   "outputs": [
    {
     "name": "stdout",
     "output_type": "stream",
     "text": [
      "videos\\SDT\n"
     ]
    }
   ],
   "source": [
    "s3 = r'videos\\SDT'\n",
    "print(s3)\n",
    "checkFiles(os.path.join(s1, s3),os.path.join(s2, s3))"
   ]
  },
  {
   "cell_type": "code",
   "execution_count": 25,
   "id": "d66fa1c9-6342-4a15-be83-bf595610327d",
   "metadata": {
    "tags": []
   },
   "outputs": [
    {
     "name": "stdout",
     "output_type": "stream",
     "text": [
      "videos\\SDT archive\n"
     ]
    }
   ],
   "source": [
    "s3 = r'videos\\SDT archive'\n",
    "print(s3)\n",
    "checkFiles(os.path.join(s1, s3),os.path.join(s2, s3))"
   ]
  },
  {
   "cell_type": "code",
   "execution_count": 26,
   "id": "0d86e79f-2fca-4403-aa7b-19717a573834",
   "metadata": {
    "tags": []
   },
   "outputs": [
    {
     "name": "stdout",
     "output_type": "stream",
     "text": [
      "videos\\singleDisturb\n"
     ]
    }
   ],
   "source": [
    "s3 = r'videos\\singleDisturb'\n",
    "print(s3)\n",
    "checkFiles(os.path.join(s1, s3),os.path.join(s2, s3))"
   ]
  },
  {
   "cell_type": "code",
   "execution_count": 27,
   "id": "af5ec4d2-a488-4d31-a8f5-4fa7dc5e2e9a",
   "metadata": {
    "tags": []
   },
   "outputs": [
    {
     "name": "stdout",
     "output_type": "stream",
     "text": [
      "videos\\singleDisturb archive\n"
     ]
    }
   ],
   "source": [
    "s3 = r'videos\\singleDisturb archive'\n",
    "print(s3)\n",
    "checkFiles(os.path.join(s1, s3),os.path.join(s2, s3))"
   ]
  },
  {
   "cell_type": "code",
   "execution_count": 28,
   "id": "c2c816f3-0966-458e-97cb-4750e47690b6",
   "metadata": {
    "tags": []
   },
   "outputs": [
    {
     "name": "stdout",
     "output_type": "stream",
     "text": [
      "videos\\singleDoubleTripleML\n"
     ]
    }
   ],
   "source": [
    "s3 = r'videos\\singleDoubleTripleML'\n",
    "print(s3)\n",
    "checkFiles(os.path.join(s1, s3),os.path.join(s2, s3))"
   ]
  },
  {
   "cell_type": "code",
   "execution_count": 29,
   "id": "19b8fdb4-917a-4fa0-9b56-848ed03994fa",
   "metadata": {
    "tags": []
   },
   "outputs": [
    {
     "name": "stdout",
     "output_type": "stream",
     "text": [
      "videos\\singleLines\n"
     ]
    }
   ],
   "source": [
    "s3 = r'videos\\singleLines'\n",
    "print(s3)\n",
    "checkFiles(os.path.join(s1, s3),os.path.join(s2, s3))"
   ]
  },
  {
   "cell_type": "code",
   "execution_count": 30,
   "id": "6b7004bd-7151-4cf3-9bf2-e3aef64ca557",
   "metadata": {
    "tags": []
   },
   "outputs": [
    {
     "name": "stdout",
     "output_type": "stream",
     "text": [
      "videos\\supplemental singleLines\n"
     ]
    }
   ],
   "source": [
    "s3 = r'videos\\supplemental singleLines'\n",
    "print(s3)\n",
    "checkFiles(os.path.join(s1, s3),os.path.join(s2, s3))"
   ]
  },
  {
   "cell_type": "code",
   "execution_count": 31,
   "id": "c9a3166b-4827-4a2d-be16-12f2dbd0c6b1",
   "metadata": {
    "tags": []
   },
   "outputs": [
    {
     "name": "stdout",
     "output_type": "stream",
     "text": [
      "videos\\tripleLines\n"
     ]
    }
   ],
   "source": [
    "s3 = r'videos\\tripleLines'\n",
    "print(s3)\n",
    "checkFiles(os.path.join(s1, s3),os.path.join(s2, s3))"
   ]
  },
  {
   "cell_type": "code",
   "execution_count": 5,
   "id": "91b3c6ed-da49-4707-9667-3e1066734a4d",
   "metadata": {
    "tags": []
   },
   "outputs": [
    {
     "name": "stdout",
     "output_type": "stream",
     "text": [
      "simulations\\viscositysweep\n"
     ]
    }
   ],
   "source": [
    "s3 = r'simulations\\viscositysweep'\n",
    "print(s3)\n",
    "checkFiles(os.path.join(s1, s3),os.path.join(s2, s3))"
   ]
  },
  {
   "cell_type": "code",
   "execution_count": null,
   "id": "f0a64ef2-1b09-461c-96b9-412968bef3bf",
   "metadata": {},
   "outputs": [],
   "source": []
  }
 ],
 "metadata": {
  "kernelspec": {
   "display_name": "Python 3 (ipykernel)",
   "language": "python",
   "name": "python3"
  },
  "language_info": {
   "codemirror_mode": {
    "name": "ipython",
    "version": 3
   },
   "file_extension": ".py",
   "mimetype": "text/x-python",
   "name": "python",
   "nbconvert_exporter": "python",
   "pygments_lexer": "ipython3",
   "version": "3.8.3"
  }
 },
 "nbformat": 4,
 "nbformat_minor": 5
}
