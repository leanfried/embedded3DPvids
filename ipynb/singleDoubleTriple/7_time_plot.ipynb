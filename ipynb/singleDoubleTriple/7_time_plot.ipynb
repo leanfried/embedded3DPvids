{
 "cells": [
  {
   "cell_type": "markdown",
   "id": "c281e9c6-c918-4249-8bc6-dc7cc4335d6e",
   "metadata": {},
   "source": [
    "# Plot changes over time"
   ]
  },
  {
   "cell_type": "markdown",
   "id": "ec61ade0-d841-42c5-9cf1-df529b40d8b7",
   "metadata": {},
   "source": [
    "Plot changes in length over time for all lines in a video"
   ]
  },
  {
   "cell_type": "markdown",
   "id": "11cbe8ad-0cf5-46f7-9973-cef460b84a9c",
   "metadata": {},
   "source": [
    "Leanne Friedrich 4/27/23"
   ]
  },
  {
   "cell_type": "markdown",
   "id": "aa433e10-a0dd-4da0-bf7b-e43af6fea7c4",
   "metadata": {},
   "source": [
    "## Initialization"
   ]
  },
  {
   "cell_type": "code",
   "execution_count": null,
   "id": "6c393866-0f9a-4996-bee8-20db5ba3eab8",
   "metadata": {},
   "outputs": [],
   "source": [
    "%load_ext autoreload\n",
    "%autoreload 2\n",
    "LOGGERDEFINED = False"
   ]
  },
  {
   "cell_type": "code",
   "execution_count": null,
   "id": "a02ddb75-26d3-40ff-a080-db5061707577",
   "metadata": {},
   "outputs": [],
   "source": [
    "import os\n",
    "import sys\n",
    "import numpy as np\n",
    "import matplotlib.pyplot as plt\n",
    "module_path = os.path.abspath(os.path.join('..'))\n",
    "sys.path.append(module_path)\n",
    "sys.path.append(os.path.dirname(module_path))\n",
    "from py.tools.config import cfg\n",
    "import py.tools.logs as logs\n",
    "import py.vid.v_tools as vt\n",
    "import py.metrics.m_SDT as me\n",
    "from py.im.imshow import imshow\n",
    "import py.file.file_handling as fh\n",
    "import py.vid.noz_detect as nt\n",
    "import pandas as pd\n",
    "from py.full_sequence import SDTWorkflow, fullSequencer\n",
    "LOGGERDEFINED = logs.openLog('time_plot.ipynb', LOGGERDEFINED, level='DEBUG', exportLog=False)"
   ]
  },
  {
   "cell_type": "markdown",
   "id": "ef6134da-b670-479d-925b-9d9bc47165e7",
   "metadata": {},
   "source": [
    "# under"
   ]
  },
  {
   "cell_type": "code",
   "execution_count": null,
   "id": "06f66b0d-e096-4930-8ba3-420e29a895b7",
   "metadata": {
    "tags": []
   },
   "outputs": [],
   "source": [
    "fstr = r'SDT\\PDMSS\\I_PDMSS7.5_S_3.00\\I_PDMSS7.5_S_3.00_230920\\disturbUnder_2_1.000'\n",
    "folder = os.path.join(cfg.path.server, fstr)\n",
    "fv = me.folderUnderSDT(folder, overwriteMeasure=False, overwriteSummary=False, diag=0, overrideSegment=False)\n",
    "fv.measureFolder();\n",
    "fv.summarize();"
   ]
  },
  {
   "cell_type": "code",
   "execution_count": null,
   "id": "df6e936b-79bc-4592-b086-f56fa8dd8b08",
   "metadata": {
    "tags": []
   },
   "outputs": [],
   "source": [
    "# plot width over time for all lines\n",
    "fv.plotValue('wn', fn=os.path.join(cfg.path.fig, r'SDT\\images\\plots', f'disturb_rupture_w3.png'))"
   ]
  },
  {
   "cell_type": "markdown",
   "id": "fb68586c-6480-4568-93fa-e00076ae280c",
   "metadata": {},
   "source": [
    "# vert"
   ]
  },
  {
   "cell_type": "code",
   "execution_count": null,
   "id": "e9def841-1275-4347-be6f-fcdb5f424fb4",
   "metadata": {
    "tags": []
   },
   "outputs": [],
   "source": [
    "fstr = r'SDT\\SO_S20-0.5\\I_SO8-S20-0.5_S_4.00\\I_SO8-S20-0.5_S_4.00_230510\\disturbVert2_1_0.750'\n",
    "folder = os.path.join(cfg.path.server, fstr)\n",
    "fv = me.folderVertSDT(folder, overwriteMeasure=True, overwriteSummary=True, overrideSegment=False, useML=False)\n",
    "fv.measureFolder();\n",
    "fv.summarize();"
   ]
  },
  {
   "cell_type": "code",
   "execution_count": 13,
   "id": "1ae980d5-5e91-4225-8b5e-9e0fc723d836",
   "metadata": {
    "tags": []
   },
   "outputs": [
    {
     "data": {
      "text/plain": [
       "Index(['line', 'usedML', 'gname', 'ltype', 'pr', 'pname', 'time', 'wtime',\n",
       "       'zdepth', 'x0', 'w', 'h', 'xf', 'xc', 'segments', 'vest', 'roughness',\n",
       "       'emptiness', 'meanT', 'stdevT', 'minmaxT', 'vintegral', 'hn', 'space_a',\n",
       "       'dx0', 'dxf', 'space_at', 'dxprint'],\n",
       "      dtype='object')"
      ]
     },
     "execution_count": 13,
     "metadata": {},
     "output_type": "execute_result"
    }
   ],
   "source": [
    "fv.df.columns"
   ]
  },
  {
   "cell_type": "code",
   "execution_count": null,
   "id": "230525b5-a916-40dd-a391-a32f8fd127a4",
   "metadata": {
    "tags": []
   },
   "outputs": [],
   "source": [
    "fv.plotValue('hn', fn=os.path.join(cfg.path.fig, r'SDT\\images\\plots', f'disturb_vert_shrinkage.png'))"
   ]
  }
 ],
 "metadata": {
  "kernelspec": {
   "display_name": "Python 3 (ipykernel)",
   "language": "python",
   "name": "python3"
  },
  "language_info": {
   "codemirror_mode": {
    "name": "ipython",
    "version": 3
   },
   "file_extension": ".py",
   "mimetype": "text/x-python",
   "name": "python",
   "nbconvert_exporter": "python",
   "pygments_lexer": "ipython3",
   "version": "3.8.18"
  }
 },
 "nbformat": 4,
 "nbformat_minor": 5
}
