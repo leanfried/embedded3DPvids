{
 "cells": [
  {
   "cell_type": "markdown",
   "id": "9a2a57b1",
   "metadata": {},
   "source": [
    "# Test methods for analyzing images of SDT vertical lines"
   ]
  },
  {
   "cell_type": "markdown",
   "id": "8ae23011-59a1-4bd6-9851-73e32b86fe05",
   "metadata": {},
   "source": [
    "Leanne Friedrich 4/27/23"
   ]
  },
  {
   "cell_type": "markdown",
   "id": "8114ca78",
   "metadata": {},
   "source": [
    "## Initialization"
   ]
  },
  {
   "cell_type": "code",
   "execution_count": 1,
   "id": "690ebafb",
   "metadata": {
    "tags": []
   },
   "outputs": [],
   "source": [
    "%load_ext autoreload\n",
    "%autoreload 2\n",
    "LOGGERDEFINED = False"
   ]
  },
  {
   "cell_type": "code",
   "execution_count": 2,
   "id": "87567013",
   "metadata": {
    "tags": []
   },
   "outputs": [],
   "source": [
    "import os\n",
    "import sys\n",
    "import numpy as np\n",
    "import matplotlib.pyplot as plt\n",
    "module_path = os.path.abspath(os.path.join('..'))\n",
    "sys.path.append(module_path)\n",
    "sys.path.append(os.path.dirname(module_path))\n",
    "from py.tools.config import cfg\n",
    "import py.tools.logs as logs\n",
    "import py.vid.v_tools as vt\n",
    "import py.metrics.m_SDT as me\n",
    "from py.im.imshow import imshow\n",
    "import py.file.file_handling as fh\n",
    "import pandas as pd\n",
    "LOGGERDEFINED = logs.openLog('still_measure_vert_test.ipynb', LOGGERDEFINED, level='DEBUG', exportLog=False)"
   ]
  },
  {
   "cell_type": "markdown",
   "id": "ff742021-d74d-40e3-aa26-d5e875da615b",
   "metadata": {
    "tags": []
   },
   "source": [
    "# create cases for unit test"
   ]
  },
  {
   "cell_type": "code",
   "execution_count": 3,
   "id": "1393a2ea-c939-449b-ba83-231defb98e57",
   "metadata": {
    "tags": []
   },
   "outputs": [],
   "source": [
    "# get an object that will generate test data set for unit tests\n",
    "tg = me.trainingGenerator(os.path.join(cfg.path.server, 'SDT')\n",
    "                          , excludeFolders=[]\n",
    "                          , mustMatch='disturbVert')"
   ]
  },
  {
   "cell_type": "code",
   "execution_count": 215,
   "id": "4aaf8ba6-5f0b-448b-9352-97d8998f6e30",
   "metadata": {
    "tags": []
   },
   "outputs": [],
   "source": [
    "# get a random image to test\n",
    "file = tg.randomFile()"
   ]
  },
  {
   "cell_type": "code",
   "execution_count": null,
   "id": "04123570-1d79-4bfd-84b3-2c62e5a9e5cc",
   "metadata": {
    "tags": []
   },
   "outputs": [],
   "source": [
    "# segment the image\n",
    "vs = me.fileVertSDT(file, diag=2, overrideSegment=False)"
   ]
  },
  {
   "cell_type": "code",
   "execution_count": null,
   "id": "569952d8-19be-4c58-a973-871fb70617c1",
   "metadata": {
    "tags": []
   },
   "outputs": [],
   "source": [
    "# approve segmentation and add key measurements from this file to the test data\n",
    "vs.addToTestFile()"
   ]
  },
  {
   "cell_type": "markdown",
   "id": "e90b578d",
   "metadata": {},
   "source": [
    "# unit test"
   ]
  },
  {
   "cell_type": "code",
   "execution_count": null,
   "id": "1d5048ef-90be-4a25-8119-4b794686aa3b",
   "metadata": {
    "tags": []
   },
   "outputs": [],
   "source": [
    "# run the unit test on all of the test files\n",
    "ut = me.unitTester('SDTVert', me.fileVertSDT)\n",
    "ut.run()\n",
    "ut.compareAll()"
   ]
  },
  {
   "cell_type": "code",
   "execution_count": null,
   "id": "8c4a766d-f9fa-4815-98cc-44f6ef58e8fd",
   "metadata": {
    "tags": []
   },
   "outputs": [],
   "source": [
    "# show what failed for a specific file\n",
    "i = ut.failedFiles[13]\n",
    "ut.compareTest(i, diag=3, overrideSegment=False)"
   ]
  },
  {
   "cell_type": "code",
   "execution_count": null,
   "id": "d1219ed4-0e64-4990-93d6-b8fcbb339c12",
   "metadata": {
    "tags": []
   },
   "outputs": [],
   "source": [
    "# approve of the failed file and let it overwrite the saved measurements\n",
    "ut.keepTest(i)"
   ]
  },
  {
   "cell_type": "code",
   "execution_count": null,
   "id": "0ff7fc83-c1b2-458e-9fe9-e82a7df9423d",
   "metadata": {
    "tags": []
   },
   "outputs": [],
   "source": [
    "# approve of all the failed files and overwrite all saved measurements\n",
    "ut.keepAllTests()"
   ]
  },
  {
   "cell_type": "code",
   "execution_count": 180,
   "id": "5e00a5e0-eb14-4f32-8513-bfcb12e9b8d0",
   "metadata": {
    "tags": []
   },
   "outputs": [],
   "source": [
    "# open the csv of the unit test ideal data\n",
    "ut.openCSV()"
   ]
  },
  {
   "cell_type": "code",
   "execution_count": 37,
   "id": "b8b63a8d-2e77-4d89-8782-2a351cb2c333",
   "metadata": {
    "tags": []
   },
   "outputs": [],
   "source": [
    "# open a failed folder in windows explorer\n",
    "ut.openExplorer(i)"
   ]
  }
 ],
 "metadata": {
  "kernelspec": {
   "display_name": "Python 3 (ipykernel)",
   "language": "python",
   "name": "python3"
  },
  "language_info": {
   "codemirror_mode": {
    "name": "ipython",
    "version": 3
   },
   "file_extension": ".py",
   "mimetype": "text/x-python",
   "name": "python",
   "nbconvert_exporter": "python",
   "pygments_lexer": "ipython3",
   "version": "3.8.18"
  }
 },
 "nbformat": 4,
 "nbformat_minor": 5
}
