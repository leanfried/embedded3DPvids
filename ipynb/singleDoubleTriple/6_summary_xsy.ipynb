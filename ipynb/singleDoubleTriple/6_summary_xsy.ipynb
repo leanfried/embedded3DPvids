{
 "cells": [
  {
   "cell_type": "markdown",
   "id": "fb5ee0f9",
   "metadata": {},
   "source": [
    "# Summarizing metrics from disturbed XS +y"
   ]
  },
  {
   "cell_type": "markdown",
   "id": "1558cf54",
   "metadata": {},
   "source": [
    "Leanne Friedrich 4/26/23"
   ]
  },
  {
   "cell_type": "markdown",
   "id": "d7780c1f",
   "metadata": {},
   "source": [
    "## initialization"
   ]
  },
  {
   "cell_type": "code",
   "execution_count": null,
   "id": "32a82ddc",
   "metadata": {
    "collapsed": true,
    "jupyter": {
     "outputs_hidden": true
    },
    "tags": []
   },
   "outputs": [],
   "source": [
    "%load_ext autoreload\n",
    "%autoreload 2\n",
    "LOGGERDEFINED = False"
   ]
  },
  {
   "cell_type": "code",
   "execution_count": 6,
   "id": "15a97d45",
   "metadata": {
    "collapsed": true,
    "jupyter": {
     "outputs_hidden": true
    },
    "tags": []
   },
   "outputs": [],
   "source": [
    "import os\n",
    "import sys\n",
    "sys.path.append(\"../\")\n",
    "sys.path.append(\"../../\")\n",
    "from py.tools.config import cfg\n",
    "import py.tools.logs as logs\n",
    "from plainIm import plainIm\n",
    "import matplotlib.pyplot as plt\n",
    "import py.metrics.m_plot.m_plots as mp\n",
    "import py.metrics.m_SDT as me\n",
    "import regression as rg\n",
    "import matplotlib.cm as cm\n",
    "import py.file.file_handling as fh\n",
    "LOGGERDEFINED = logs.openLog('summary_xsy_SDT.ipynb', LOGGERDEFINED, level='DEBUG', exportLog=False)"
   ]
  },
  {
   "cell_type": "markdown",
   "id": "f76025d6",
   "metadata": {},
   "source": [
    "## analyzing data"
   ]
  },
  {
   "cell_type": "code",
   "execution_count": 7,
   "id": "5a9dab35",
   "metadata": {
    "tags": []
   },
   "outputs": [
    {
     "name": "stdout",
     "output_type": "stream",
     "text": [
      "\u001b[1mIndependents:\u001b[0m \n",
      "\t\u001b[31m meta        : \u001b[0m bn, calibFile, fluFile, printFolderR\n",
      "\t                date\n",
      "\t\u001b[31m meta sup    : \u001b[0m sup_base, sup_days, sup_dye, sup_rheModifier, sup_shortname, sup_surfactant, sup_surfactantWt, sup_type, sup_var\n",
      "\t\u001b[31m meta ink    : \u001b[0m ink_base, ink_days, ink_dye, ink_rheModifier, ink_shortname, ink_surfactant, ink_surfactantWt, ink_type, ink_var\n",
      "\t\u001b[31m const       : \u001b[0m GaRatio, GdRatio, gname, GtaRatio, int_Ca, int_CaInv, int_Re, ReRatio, tau0aRatio, tau0dRatio, tGdRatio, viscRatio, vRatio\n",
      "\t                dEst, hDragP, pressureCh0, rGrava, rGravd, sigma, spacing, spacing_adj, vDragP, zdepth\n",
      "\t\u001b[31m const sup   : \u001b[0m sup_Bma, sup_Bmd, sup_Ca, sup_CaInv, sup_diluent, sup_diluentWt, sup_dnorma, sup_dnorma_adj, sup_dnormd, sup_dnormd_adj, sup_dnormInva, sup_dnormInvd, sup_Oh, sup_OhInv, sup_Re, sup_We, sup_WeInv\n",
      "\t                sup_density, sup_dPRa, sup_dPRd, sup_eta0a, sup_eta0d, sup_Gstora, sup_Gstord, sup_rate, sup_tau0a, sup_tau0d, sup_v, sup_val, sup_visc0\n",
      "\t\u001b[31m const ink   : \u001b[0m ink_Bma, ink_Bmd, ink_Ca, ink_CaInv, ink_diluent, ink_diluentWt, ink_dnorma, ink_dnorma_adj, ink_dnormd, ink_dnormd_adj, ink_dnormInva, ink_dnormInvd, ink_Oh, ink_OhInv, ink_Re, ink_We, ink_WeInv\n",
      "\t                ink_density, ink_dPRa, ink_dPRd, ink_eta0a, ink_eta0d, ink_Gstora, ink_Gstord, ink_rate, ink_tau0a, ink_tau0d, ink_v, ink_val, ink_visc0\n",
      "\n",
      "\u001b[1mDependents:\u001b[0m \n",
      "\t\u001b[31m Position    : \u001b[0m\t xLeft, xRight, xc, yBot, yTop, yc\n",
      "\t\u001b[31m Dimensions  : \u001b[0m\t area, aspect, aspectI, h, w, xshift, yshift\n",
      "\t\u001b[31m Fusion      : \u001b[0m\t emptiness, roughness, segments\n"
     ]
    },
    {
     "data": {
      "text/html": [
       "<div>\n",
       "<style scoped>\n",
       "    .dataframe tbody tr th:only-of-type {\n",
       "        vertical-align: middle;\n",
       "    }\n",
       "\n",
       "    .dataframe tbody tr th {\n",
       "        vertical-align: top;\n",
       "    }\n",
       "\n",
       "    .dataframe thead th {\n",
       "        text-align: right;\n",
       "    }\n",
       "</style>\n",
       "<table border=\"1\" class=\"dataframe\">\n",
       "  <thead>\n",
       "    <tr style=\"text-align: right;\">\n",
       "      <th></th>\n",
       "      <th>1</th>\n",
       "      <th>2</th>\n",
       "      <th>3</th>\n",
       "    </tr>\n",
       "  </thead>\n",
       "  <tbody>\n",
       "    <tr>\n",
       "      <th>wp</th>\n",
       "      <td>X_w1p</td>\n",
       "      <td>X_w2p</td>\n",
       "      <td>X_w3p</td>\n",
       "    </tr>\n",
       "    <tr>\n",
       "      <th>wo</th>\n",
       "      <td>X_w1o</td>\n",
       "      <td>X_w2o</td>\n",
       "      <td>X_w3o</td>\n",
       "    </tr>\n",
       "    <tr>\n",
       "      <th>wrelax</th>\n",
       "      <td>delta_X_w1relax</td>\n",
       "      <td>delta_X_w2relax</td>\n",
       "      <td>delta_X_w3relax</td>\n",
       "    </tr>\n",
       "    <tr>\n",
       "      <th>write</th>\n",
       "      <td>delta_X_write1</td>\n",
       "      <td>delta_X_write2</td>\n",
       "      <td></td>\n",
       "    </tr>\n",
       "    <tr>\n",
       "      <th>dp</th>\n",
       "      <td>X_d1p</td>\n",
       "      <td>X_d2p</td>\n",
       "      <td></td>\n",
       "    </tr>\n",
       "    <tr>\n",
       "      <th>do</th>\n",
       "      <td>X_d1o</td>\n",
       "      <td>X_d2o</td>\n",
       "      <td></td>\n",
       "    </tr>\n",
       "    <tr>\n",
       "      <th>drelax</th>\n",
       "      <td>delta_X_d1relax</td>\n",
       "      <td>delta_X_d2relax</td>\n",
       "      <td></td>\n",
       "    </tr>\n",
       "    <tr>\n",
       "      <th>disturb</th>\n",
       "      <td>delta_X_disturb1</td>\n",
       "      <td>delta_X_disturb2</td>\n",
       "      <td></td>\n",
       "    </tr>\n",
       "  </tbody>\n",
       "</table>\n",
       "</div>"
      ],
      "text/plain": [
       "                        1                 2                3\n",
       "wp                  X_w1p             X_w2p            X_w3p\n",
       "wo                  X_w1o             X_w2o            X_w3o\n",
       "wrelax    delta_X_w1relax   delta_X_w2relax  delta_X_w3relax\n",
       "write      delta_X_write1    delta_X_write2                 \n",
       "dp                  X_d1p             X_d2p                 \n",
       "do                  X_d1o             X_d2o                 \n",
       "drelax    delta_X_d1relax   delta_X_d2relax                 \n",
       "disturb  delta_X_disturb1  delta_X_disturb2                 "
      ]
     },
     "metadata": {},
     "output_type": "display_data"
    }
   ],
   "source": [
    "# create object that handles summary data\n",
    "ms = me.summarySDT(os.path.join(cfg.path.fig, 'SDT', 'summaries', 'XS+ySDTSummaries.csv')\n",
    "                             , diag=True)"
   ]
  },
  {
   "cell_type": "code",
   "execution_count": null,
   "id": "4a660881-9cef-4715-a238-b60b9f5ee47e",
   "metadata": {
    "tags": []
   },
   "outputs": [],
   "source": [
    "# plot a variable across many steps in the printing process\n",
    "ssi = ms.ss\n",
    "yvl = mp.yvarlines(ms, ssi, xvar='int_Ca', yvar='yTop', cvar='spacing', llist=[1, 2, 3]\n",
    "             , plist=['wo', 'do', 'disturb', 'write'], plotType='notebook', yideal=me.XSSDTIdeals('+y')\n",
    "                   , logx=True, mode='scatter', dx=0.15)\n",
    "yvl.fig"
   ]
  },
  {
   "cell_type": "code",
   "execution_count": 13,
   "id": "f2c2f942-8b66-4a33-bc2f-612d1c6b5f02",
   "metadata": {
    "tags": []
   },
   "outputs": [
    {
     "data": {
      "text/html": [
       "<div>\n",
       "<style scoped>\n",
       "    .dataframe tbody tr th:only-of-type {\n",
       "        vertical-align: middle;\n",
       "    }\n",
       "\n",
       "    .dataframe tbody tr th {\n",
       "        vertical-align: top;\n",
       "    }\n",
       "\n",
       "    .dataframe thead th {\n",
       "        text-align: right;\n",
       "    }\n",
       "</style>\n",
       "<table border=\"1\" class=\"dataframe\">\n",
       "  <thead>\n",
       "    <tr style=\"text-align: right;\">\n",
       "      <th></th>\n",
       "      <th>ink_shortname</th>\n",
       "      <th>sup_shortname</th>\n",
       "      <th>int_Ca</th>\n",
       "      <th>spacing</th>\n",
       "      <th>xc_w3o</th>\n",
       "    </tr>\n",
       "  </thead>\n",
       "  <tbody>\n",
       "    <tr>\n",
       "      <th>801</th>\n",
       "      <td>SO8-S85-0.05</td>\n",
       "      <td>3.5</td>\n",
       "      <td>3.47</td>\n",
       "      <td>0.5</td>\n",
       "      <td>0.52</td>\n",
       "    </tr>\n",
       "  </tbody>\n",
       "</table>\n",
       "</div>"
      ],
      "text/plain": [
       "    ink_shortname  sup_shortname  int_Ca  spacing  xc_w3o\n",
       "801  SO8-S85-0.05            3.5    3.47      0.5    0.52"
      ]
     },
     "metadata": {},
     "output_type": "display_data"
    }
   ],
   "source": [
    "# get a list of files that have measurements within a certain range\n",
    "ms.reduceRows('xc_w3o', yvarmin=0.5)"
   ]
  },
  {
   "cell_type": "code",
   "execution_count": 14,
   "id": "55f4999c-8d0d-45d1-9aea-bc2f9aa24511",
   "metadata": {
    "tags": []
   },
   "outputs": [],
   "source": [
    "# open the folder number based on row in the ms.ss dataframe, in windows explorer\n",
    "ms.openFolder(801)"
   ]
  },
  {
   "cell_type": "markdown",
   "id": "79fe6bee-3eff-42d6-95d2-8224ac5ea166",
   "metadata": {},
   "source": [
    "# export plots"
   ]
  },
  {
   "cell_type": "code",
   "execution_count": null,
   "id": "e941ab49-5056-42f3-a6ec-bed88d8e4ef8",
   "metadata": {},
   "outputs": [],
   "source": [
    "# plot vertical shift for single/double lines\n",
    "yvl = mp.shiftPlotXS(ms, 'HIP', xvar='ReProd', export=True)\n",
    "yvl.fig"
   ]
  },
  {
   "cell_type": "code",
   "execution_count": null,
   "id": "c31aee25-34da-49cc-963b-b1fbe54be270",
   "metadata": {},
   "outputs": [],
   "source": [
    "# plot vertical shift for triple lines\n",
    "yvl = mp.shiftPlot3XS(ms, 'HIP', xvar='ReProd', export=True)\n",
    "yvl.fig"
   ]
  },
  {
   "cell_type": "markdown",
   "id": "af7e12a9-51c1-4683-9cae-59e3e8ef87f3",
   "metadata": {},
   "source": [
    "# regressions"
   ]
  },
  {
   "cell_type": "code",
   "execution_count": 4,
   "id": "b4756d88-7f1b-41d2-a1f8-6e80919a6e68",
   "metadata": {},
   "outputs": [],
   "source": [
    "# export regression tables and relevant plots\n",
    "def exportRegression(var, **kwargs) -> None:\n",
    "    mp.regressionTableSDT(ms, ms.ss, var, logy=False, printOut=False,  package='tabularShort', trimVariables=False\n",
    "                            , plot=True, yideal=me.ideals(), plotType='paper', export=True, tag='HIPx', exportFolder=os.path.join(cfg.path.fig, 'SDT'), **kwargs)"
   ]
  },
  {
   "cell_type": "code",
   "execution_count": null,
   "id": "5a4bdc29-f262-48bf-89b7-65e37d0961aa",
   "metadata": {},
   "outputs": [],
   "source": [
    "exportRegression('delta_yBot_disturb1')\n",
    "exportRegression('delta_yBot_disturb1', Camin=15)\n",
    "exportRegression('delta_yBot_write2')\n",
    "\n",
    "exportRegression('delta_yTop_disturb1')\n",
    "exportRegression('delta_yTop_write2')"
   ]
  },
  {
   "cell_type": "code",
   "execution_count": null,
   "id": "4128e631-bd29-4ab6-9633-795e98c9132c",
   "metadata": {},
   "outputs": [],
   "source": [
    "exportRegression('delta_yBot_disturb2')\n",
    "exportRegression('delta_yBot_disturb2', Camax=1)\n",
    "exportRegression('delta_yBot_write3')\n",
    "\n",
    "exportRegression('delta_yTop_disturb2')\n",
    "exportRegression('delta_yTop_write3')"
   ]
  },
  {
   "cell_type": "code",
   "execution_count": null,
   "id": "bc13cb71-9583-49c9-b86f-a69ec676b9ad",
   "metadata": {},
   "outputs": [],
   "source": [
    "exportRegression('delta_yTop_disturb2', spacing=0.5)\n",
    "exportRegression('delta_yTop_write3', spacing=0.5)"
   ]
  },
  {
   "cell_type": "markdown",
   "id": "f818d3a7-b170-4c22-b7d4-e01752d5822a",
   "metadata": {
    "jp-MarkdownHeadingCollapsed": true
   },
   "source": [
    "## h"
   ]
  },
  {
   "cell_type": "code",
   "execution_count": 31,
   "id": "9a1880b8-7f48-47e0-82fc-949df0e80b85",
   "metadata": {
    "collapsed": true,
    "jupyter": {
     "outputs_hidden": true
    },
    "tags": []
   },
   "outputs": [
    {
     "data": {
      "text/html": [
       "<div>\n",
       "<style scoped>\n",
       "    .dataframe tbody tr th:only-of-type {\n",
       "        vertical-align: middle;\n",
       "    }\n",
       "\n",
       "    .dataframe tbody tr th {\n",
       "        vertical-align: top;\n",
       "    }\n",
       "\n",
       "    .dataframe thead th {\n",
       "        text-align: right;\n",
       "    }\n",
       "</style>\n",
       "<table border=\"1\" class=\"dataframe\">\n",
       "  <thead>\n",
       "    <tr style=\"text-align: right;\">\n",
       "      <th></th>\n",
       "      <th>variable</th>\n",
       "      <th>Spearman coeff</th>\n",
       "      <th>Spearman p</th>\n",
       "    </tr>\n",
       "  </thead>\n",
       "  <tbody>\n",
       "    <tr>\n",
       "      <th>0</th>\n",
       "      <td>$Re_{ink}\\times Re_{sup}$</td>\n",
       "      <td>0.51</td>\n",
       "      <td>2.2e-21</td>\n",
       "    </tr>\n",
       "    <tr>\n",
       "      <th>1</th>\n",
       "      <td>$\\eta_{ink}\\times \\eta_{sup}$</td>\n",
       "      <td>-0.51</td>\n",
       "      <td>2.5e-21</td>\n",
       "    </tr>\n",
       "  </tbody>\n",
       "</table>\n",
       "</div>"
      ],
      "text/plain": [
       "                        variable Spearman coeff Spearman p\n",
       "0      $Re_{ink}\\times Re_{sup}$           0.51    2.2e-21\n",
       "1  $\\eta_{ink}\\times \\eta_{sup}$          -0.51    2.5e-21"
      ]
     },
     "metadata": {},
     "output_type": "display_data"
    },
    {
     "data": {
      "image/png": "[encoded data removed]",
      "text/plain": [
       "<Figure size 650x357.5 with 2 Axes>"
      ]
     },
     "metadata": {},
     "output_type": "display_data"
    }
   ],
   "source": [
    "rgt = mp.regressionTableSDT(ms, ms.ss, 'delta_h_disturb1', logy=False, printOut=False,  package='pgfplot'\n",
    "                            , plot=True, yideal=me.ideals(), plotType='paper', export=False, exportFolder=os.path.join(cfg.path.fig, 'SDT'))\n",
    "display(rgt.df)"
   ]
  },
  {
   "cell_type": "code",
   "execution_count": 32,
   "id": "05892b8d-d787-4205-8d93-66a4eb8c1d3a",
   "metadata": {
    "collapsed": true,
    "jupyter": {
     "outputs_hidden": true
    },
    "tags": []
   },
   "outputs": [
    {
     "data": {
      "text/html": [
       "<div>\n",
       "<style scoped>\n",
       "    .dataframe tbody tr th:only-of-type {\n",
       "        vertical-align: middle;\n",
       "    }\n",
       "\n",
       "    .dataframe tbody tr th {\n",
       "        vertical-align: top;\n",
       "    }\n",
       "\n",
       "    .dataframe thead th {\n",
       "        text-align: right;\n",
       "    }\n",
       "</style>\n",
       "<table border=\"1\" class=\"dataframe\">\n",
       "  <thead>\n",
       "    <tr style=\"text-align: right;\">\n",
       "      <th></th>\n",
       "      <th>variable</th>\n",
       "      <th>Spearman coeff</th>\n",
       "      <th>Spearman p</th>\n",
       "    </tr>\n",
       "  </thead>\n",
       "  <tbody>\n",
       "    <tr>\n",
       "      <th>0</th>\n",
       "      <td>$Ca$</td>\n",
       "      <td>-0.51</td>\n",
       "      <td>2.0e-04</td>\n",
       "    </tr>\n",
       "    <tr>\n",
       "      <th>1</th>\n",
       "      <td>$Ca_{sup}$</td>\n",
       "      <td>-0.51</td>\n",
       "      <td>2.0e-04</td>\n",
       "    </tr>\n",
       "    <tr>\n",
       "      <th>2</th>\n",
       "      <td>$\\overline{d_{PR.sup.desc}}$</td>\n",
       "      <td>-0.53</td>\n",
       "      <td>8.3e-05</td>\n",
       "    </tr>\n",
       "    <tr>\n",
       "      <th>3</th>\n",
       "      <td>$Oh_{sup}$</td>\n",
       "      <td>-0.58</td>\n",
       "      <td>1.0e-05</td>\n",
       "    </tr>\n",
       "  </tbody>\n",
       "</table>\n",
       "</div>"
      ],
      "text/plain": [
       "                       variable Spearman coeff Spearman p\n",
       "0                          $Ca$          -0.51    2.0e-04\n",
       "1                    $Ca_{sup}$          -0.51    2.0e-04\n",
       "2  $\\overline{d_{PR.sup.desc}}$          -0.53    8.3e-05\n",
       "3                    $Oh_{sup}$          -0.58    1.0e-05"
      ]
     },
     "metadata": {},
     "output_type": "display_data"
    },
    {
     "data": {
      "image/png": "[encoded data removed]",
      "text/plain": [
       "<Figure size 650x178.75 with 4 Axes>"
      ]
     },
     "metadata": {},
     "output_type": "display_data"
    }
   ],
   "source": [
    "rgt = mp.regressionTableSDT(ms, ms.ss, 'delta_h_disturb1', spacing=1.25, logy=False, printOut=False,  package='pgfplot'\n",
    "                            , plot=True, yideal=me.ideals(), plotType='paper', export=False, exportFolder=os.path.join(cfg.path.fig, 'SDT'))\n",
    "display(rgt.df)"
   ]
  },
  {
   "cell_type": "code",
   "execution_count": 70,
   "id": "f12f7dcf-5014-4c6c-8298-ccfd59b865d7",
   "metadata": {
    "collapsed": true,
    "jupyter": {
     "outputs_hidden": true
    },
    "tags": []
   },
   "outputs": [
    {
     "data": {
      "text/html": [
       "<div>\n",
       "<style scoped>\n",
       "    .dataframe tbody tr th:only-of-type {\n",
       "        vertical-align: middle;\n",
       "    }\n",
       "\n",
       "    .dataframe tbody tr th {\n",
       "        vertical-align: top;\n",
       "    }\n",
       "\n",
       "    .dataframe thead th {\n",
       "        text-align: right;\n",
       "    }\n",
       "</style>\n",
       "<table border=\"1\" class=\"dataframe\">\n",
       "  <thead>\n",
       "    <tr style=\"text-align: right;\">\n",
       "      <th></th>\n",
       "      <th>variable</th>\n",
       "      <th>Spearman coeff</th>\n",
       "      <th>Spearman p</th>\n",
       "    </tr>\n",
       "  </thead>\n",
       "  <tbody>\n",
       "    <tr>\n",
       "      <th>1</th>\n",
       "      <td>$Oh_{sup}$</td>\n",
       "      <td>-0.42</td>\n",
       "      <td>2.5e-03</td>\n",
       "    </tr>\n",
       "  </tbody>\n",
       "</table>\n",
       "</div>"
      ],
      "text/plain": [
       "     variable Spearman coeff Spearman p\n",
       "1  $Oh_{sup}$          -0.42    2.5e-03"
      ]
     },
     "metadata": {},
     "output_type": "display_data"
    },
    {
     "data": {
      "image/png": "[encoded data removed]",
      "text/plain": [
       "<Figure size 325x357.5 with 1 Axes>"
      ]
     },
     "metadata": {},
     "output_type": "display_data"
    }
   ],
   "source": [
    "rgt = mp.regressionTableSDT(ms, ms.ss[ms.ss.spacing==1.25], 'delta_h_write3', logy=False, printOut=False,  package='pgfplot'\n",
    "                            , plot=True, yideal=me.ideals(), plotType='paper', export=False, exportFolder=os.path.join(cfg.path.fig, 'SDT'))\n",
    "display(rgt.df)"
   ]
  },
  {
   "cell_type": "code",
   "execution_count": 71,
   "id": "4b687530-a9c3-46c8-bf86-05736b899769",
   "metadata": {
    "collapsed": true,
    "jupyter": {
     "outputs_hidden": true
    },
    "tags": []
   },
   "outputs": [
    {
     "data": {
      "text/html": [
       "<div>\n",
       "<style scoped>\n",
       "    .dataframe tbody tr th:only-of-type {\n",
       "        vertical-align: middle;\n",
       "    }\n",
       "\n",
       "    .dataframe tbody tr th {\n",
       "        vertical-align: top;\n",
       "    }\n",
       "\n",
       "    .dataframe thead th {\n",
       "        text-align: right;\n",
       "    }\n",
       "</style>\n",
       "<table border=\"1\" class=\"dataframe\">\n",
       "  <thead>\n",
       "    <tr style=\"text-align: right;\">\n",
       "      <th></th>\n",
       "      <th>variable</th>\n",
       "      <th>Spearman coeff</th>\n",
       "      <th>Spearman p</th>\n",
       "    </tr>\n",
       "  </thead>\n",
       "  <tbody>\n",
       "    <tr>\n",
       "      <th>3</th>\n",
       "      <td>$We_{ink}/We_{sup}$</td>\n",
       "      <td>-0.31</td>\n",
       "      <td>3.1e-02</td>\n",
       "    </tr>\n",
       "  </tbody>\n",
       "</table>\n",
       "</div>"
      ],
      "text/plain": [
       "              variable Spearman coeff Spearman p\n",
       "3  $We_{ink}/We_{sup}$          -0.31    3.1e-02"
      ]
     },
     "metadata": {},
     "output_type": "display_data"
    },
    {
     "data": {
      "image/png": "[encoded data removed]",
      "text/plain": [
       "<Figure size 325x357.5 with 1 Axes>"
      ]
     },
     "metadata": {},
     "output_type": "display_data"
    }
   ],
   "source": [
    "rgt = mp.regressionTableSDT(ms, ms.ss[ms.ss.spacing==0.5], 'delta_h_write3', logy=False, printOut=False,  package='pgfplot'\n",
    "                            , plot=True, yideal=me.ideals(), plotType='paper', export=False, exportFolder=os.path.join(cfg.path.fig, 'SDT'))\n",
    "display(rgt.df)"
   ]
  },
  {
   "cell_type": "markdown",
   "id": "ee443e9a-98d3-402d-ac58-ab5c22733e58",
   "metadata": {
    "jp-MarkdownHeadingCollapsed": true
   },
   "source": [
    "## w"
   ]
  },
  {
   "cell_type": "code",
   "execution_count": 61,
   "id": "19a1370d-b954-484b-bac5-02468112d29c",
   "metadata": {
    "collapsed": true,
    "jupyter": {
     "outputs_hidden": true
    },
    "tags": []
   },
   "outputs": [
    {
     "data": {
      "text/html": [
       "<div>\n",
       "<style scoped>\n",
       "    .dataframe tbody tr th:only-of-type {\n",
       "        vertical-align: middle;\n",
       "    }\n",
       "\n",
       "    .dataframe tbody tr th {\n",
       "        vertical-align: top;\n",
       "    }\n",
       "\n",
       "    .dataframe thead th {\n",
       "        text-align: right;\n",
       "    }\n",
       "</style>\n",
       "<table border=\"1\" class=\"dataframe\">\n",
       "  <thead>\n",
       "    <tr style=\"text-align: right;\">\n",
       "      <th></th>\n",
       "      <th>variable</th>\n",
       "      <th>Spearman coeff</th>\n",
       "      <th>Spearman p</th>\n",
       "    </tr>\n",
       "  </thead>\n",
       "  <tbody>\n",
       "    <tr>\n",
       "      <th>0</th>\n",
       "      <td>spacing</td>\n",
       "      <td>-0.36</td>\n",
       "      <td>1.7e-10</td>\n",
       "    </tr>\n",
       "  </tbody>\n",
       "</table>\n",
       "</div>"
      ],
      "text/plain": [
       "  variable Spearman coeff Spearman p\n",
       "0  spacing          -0.36    1.7e-10"
      ]
     },
     "metadata": {},
     "output_type": "display_data"
    },
    {
     "data": {
      "image/png": "[encoded data removed]",
      "text/plain": [
       "<Figure size 325x357.5 with 1 Axes>"
      ]
     },
     "metadata": {},
     "output_type": "display_data"
    }
   ],
   "source": [
    "rgt = mp.regressionTableSDT(ms, ms.ss, 'delta_w_disturb2',  logy=False, printOut=False,  package='pgfplot'\n",
    "                            , plot=True, yideal=me.ideals(), plotType='paper', export=False, exportFolder=os.path.join(cfg.path.fig, 'SDT'))\n",
    "display(rgt.df)"
   ]
  },
  {
   "cell_type": "code",
   "execution_count": 69,
   "id": "3bd84b43-6a48-48f9-bd4c-7c02017afeee",
   "metadata": {
    "collapsed": true,
    "jupyter": {
     "outputs_hidden": true
    },
    "tags": []
   },
   "outputs": [
    {
     "data": {
      "text/html": [
       "<div>\n",
       "<style scoped>\n",
       "    .dataframe tbody tr th:only-of-type {\n",
       "        vertical-align: middle;\n",
       "    }\n",
       "\n",
       "    .dataframe tbody tr th {\n",
       "        vertical-align: top;\n",
       "    }\n",
       "\n",
       "    .dataframe thead th {\n",
       "        text-align: right;\n",
       "    }\n",
       "</style>\n",
       "<table border=\"1\" class=\"dataframe\">\n",
       "  <thead>\n",
       "    <tr style=\"text-align: right;\">\n",
       "      <th></th>\n",
       "      <th>variable</th>\n",
       "      <th>Spearman coeff</th>\n",
       "      <th>Spearman p</th>\n",
       "    </tr>\n",
       "  </thead>\n",
       "  <tbody>\n",
       "    <tr>\n",
       "      <th>0</th>\n",
       "      <td>spacing</td>\n",
       "      <td>-0.47</td>\n",
       "      <td>1.1e-17</td>\n",
       "    </tr>\n",
       "  </tbody>\n",
       "</table>\n",
       "</div>"
      ],
      "text/plain": [
       "  variable Spearman coeff Spearman p\n",
       "0  spacing          -0.47    1.1e-17"
      ]
     },
     "metadata": {},
     "output_type": "display_data"
    },
    {
     "data": {
      "image/png": "[encoded data removed]",
      "text/plain": [
       "<Figure size 325x357.5 with 1 Axes>"
      ]
     },
     "metadata": {},
     "output_type": "display_data"
    }
   ],
   "source": [
    "rgt = mp.regressionTableSDT(ms, ms.ss, 'delta_h_write3', logy=False, printOut=False,  package='pgfplot'\n",
    "                            , plot=True, yideal=me.ideals(), plotType='paper', export=False, exportFolder=os.path.join(cfg.path.fig, 'SDT'))\n",
    "display(rgt.df)"
   ]
  },
  {
   "cell_type": "markdown",
   "id": "92dc308c-f5a9-4862-85dc-7cc264a97d0a",
   "metadata": {
    "jp-MarkdownHeadingCollapsed": true
   },
   "source": [
    "## yc"
   ]
  },
  {
   "cell_type": "code",
   "execution_count": 38,
   "id": "cedc0249-3c93-4e07-9e16-f9e5945c939f",
   "metadata": {
    "collapsed": true,
    "jupyter": {
     "outputs_hidden": true
    },
    "tags": []
   },
   "outputs": [
    {
     "data": {
      "text/html": [
       "<div>\n",
       "<style scoped>\n",
       "    .dataframe tbody tr th:only-of-type {\n",
       "        vertical-align: middle;\n",
       "    }\n",
       "\n",
       "    .dataframe tbody tr th {\n",
       "        vertical-align: top;\n",
       "    }\n",
       "\n",
       "    .dataframe thead th {\n",
       "        text-align: right;\n",
       "    }\n",
       "</style>\n",
       "<table border=\"1\" class=\"dataframe\">\n",
       "  <thead>\n",
       "    <tr style=\"text-align: right;\">\n",
       "      <th></th>\n",
       "      <th>variable</th>\n",
       "      <th>Spearman coeff</th>\n",
       "      <th>Spearman p</th>\n",
       "    </tr>\n",
       "  </thead>\n",
       "  <tbody>\n",
       "    <tr>\n",
       "      <th>0</th>\n",
       "      <td>$Ga_{ink}/Ga_{sup}$</td>\n",
       "      <td>-0.73</td>\n",
       "      <td>1.5e-149</td>\n",
       "    </tr>\n",
       "    <tr>\n",
       "      <th>1</th>\n",
       "      <td>$Gd_{ink}/Gd_{sup}$</td>\n",
       "      <td>-0.75</td>\n",
       "      <td>3.8e-159</td>\n",
       "    </tr>\n",
       "    <tr>\n",
       "      <th>2</th>\n",
       "      <td>$\\tau_{y.ink.asc}/\\tau_{y.sup.asc}$</td>\n",
       "      <td>-0.69</td>\n",
       "      <td>2.5e-125</td>\n",
       "    </tr>\n",
       "    <tr>\n",
       "      <th>3</th>\n",
       "      <td>$Ca_{ink}/Ca_{sup}$</td>\n",
       "      <td>-0.71</td>\n",
       "      <td>4.5e-134</td>\n",
       "    </tr>\n",
       "    <tr>\n",
       "      <th>4</th>\n",
       "      <td>$\\overline{d_{PR.ink.asc}}/\\overline{d_{PR.sup...</td>\n",
       "      <td>-0.69</td>\n",
       "      <td>2.5e-125</td>\n",
       "    </tr>\n",
       "    <tr>\n",
       "      <th>5</th>\n",
       "      <td>$\\overline{d_{PR.ink.desc}}/\\overline{d_{PR.su...</td>\n",
       "      <td>-0.64</td>\n",
       "      <td>4.3e-102</td>\n",
       "    </tr>\n",
       "    <tr>\n",
       "      <th>6</th>\n",
       "      <td>$Oh_{ink}/Oh_{sup}$</td>\n",
       "      <td>-0.71</td>\n",
       "      <td>6.3e-134</td>\n",
       "    </tr>\n",
       "    <tr>\n",
       "      <th>7</th>\n",
       "      <td>$Re_{ink}/Re_{sup}$</td>\n",
       "      <td>0.71</td>\n",
       "      <td>7.2e-134</td>\n",
       "    </tr>\n",
       "    <tr>\n",
       "      <th>8</th>\n",
       "      <td>$\\eta_{ink}/\\eta_{sup}$</td>\n",
       "      <td>-0.71</td>\n",
       "      <td>4.5e-134</td>\n",
       "    </tr>\n",
       "  </tbody>\n",
       "</table>\n",
       "</div>"
      ],
      "text/plain": [
       "                                            variable Spearman coeff Spearman p\n",
       "0                                $Ga_{ink}/Ga_{sup}$          -0.73   1.5e-149\n",
       "1                                $Gd_{ink}/Gd_{sup}$          -0.75   3.8e-159\n",
       "2                $\\tau_{y.ink.asc}/\\tau_{y.sup.asc}$          -0.69   2.5e-125\n",
       "3                                $Ca_{ink}/Ca_{sup}$          -0.71   4.5e-134\n",
       "4  $\\overline{d_{PR.ink.asc}}/\\overline{d_{PR.sup...          -0.69   2.5e-125\n",
       "5  $\\overline{d_{PR.ink.desc}}/\\overline{d_{PR.su...          -0.64   4.3e-102\n",
       "6                                $Oh_{ink}/Oh_{sup}$          -0.71   6.3e-134\n",
       "7                                $Re_{ink}/Re_{sup}$           0.71   7.2e-134\n",
       "8                            $\\eta_{ink}/\\eta_{sup}$          -0.71   4.5e-134"
      ]
     },
     "metadata": {},
     "output_type": "display_data"
    },
    {
     "data": {
      "image/png": "[encoded data removed]",
      "text/plain": [
       "<Figure size 650x357.5 with 7 Axes>"
      ]
     },
     "metadata": {},
     "output_type": "display_data"
    }
   ],
   "source": [
    "rgt = mp.regressionTableSDT(ms, ms.ss, 'yc_w1o',  logy=False, printOut=False,  package='pgfplot'\n",
    "                            , plot=True, yideal=me.ideals(), plotType='paper', export=False, exportFolder=os.path.join(cfg.path.fig, 'SDT'))\n",
    "display(rgt.df)"
   ]
  },
  {
   "cell_type": "markdown",
   "id": "c5aa6d06-850b-4da9-9dcc-3dceee026c11",
   "metadata": {
    "jp-MarkdownHeadingCollapsed": true
   },
   "source": [
    "## yBot"
   ]
  },
  {
   "cell_type": "code",
   "execution_count": 43,
   "id": "53f5779d-db5c-4f10-be00-7c5d9011a0f3",
   "metadata": {
    "collapsed": true,
    "jupyter": {
     "outputs_hidden": true
    },
    "scrolled": true,
    "tags": []
   },
   "outputs": [
    {
     "data": {
      "text/html": [
       "<div>\n",
       "<style scoped>\n",
       "    .dataframe tbody tr th:only-of-type {\n",
       "        vertical-align: middle;\n",
       "    }\n",
       "\n",
       "    .dataframe tbody tr th {\n",
       "        vertical-align: top;\n",
       "    }\n",
       "\n",
       "    .dataframe thead th {\n",
       "        text-align: right;\n",
       "    }\n",
       "</style>\n",
       "<table border=\"1\" class=\"dataframe\">\n",
       "  <thead>\n",
       "    <tr style=\"text-align: right;\">\n",
       "      <th></th>\n",
       "      <th>variable</th>\n",
       "      <th>Spearman coeff</th>\n",
       "      <th>Spearman p</th>\n",
       "    </tr>\n",
       "  </thead>\n",
       "  <tbody>\n",
       "    <tr>\n",
       "      <th>31</th>\n",
       "      <td>$Re_{ink}$</td>\n",
       "      <td>-0.42</td>\n",
       "      <td>1.74e-14</td>\n",
       "    </tr>\n",
       "    <tr>\n",
       "      <th>43</th>\n",
       "      <td>$\\eta_{ink}$</td>\n",
       "      <td>0.42</td>\n",
       "      <td>1.74e-14</td>\n",
       "    </tr>\n",
       "  </tbody>\n",
       "</table>\n",
       "</div>"
      ],
      "text/plain": [
       "        variable  Spearman coeff  Spearman p\n",
       "31    $Re_{ink}$           -0.42    1.74e-14\n",
       "43  $\\eta_{ink}$            0.42    1.74e-14"
      ]
     },
     "metadata": {},
     "output_type": "display_data"
    }
   ],
   "source": [
    "rgt = mp.regressionTableSDT(ms, ms.ss, 'delta_yBot_disturb1',  logy=False, printOut=False,  package='pgfplot'\n",
    "                            , plot=True, yideal=me.ideals(), plotType='paper', export=False, exportFolder=os.path.join(cfg.path.fig, 'SDT'))\n",
    "display(rgt.df)"
   ]
  },
  {
   "cell_type": "code",
   "execution_count": 44,
   "id": "b965d33c-34ad-49f8-823c-d91028bb02ec",
   "metadata": {
    "collapsed": true,
    "jupyter": {
     "outputs_hidden": true
    },
    "tags": []
   },
   "outputs": [
    {
     "data": {
      "text/html": [
       "<div>\n",
       "<style scoped>\n",
       "    .dataframe tbody tr th:only-of-type {\n",
       "        vertical-align: middle;\n",
       "    }\n",
       "\n",
       "    .dataframe tbody tr th {\n",
       "        vertical-align: top;\n",
       "    }\n",
       "\n",
       "    .dataframe thead th {\n",
       "        text-align: right;\n",
       "    }\n",
       "</style>\n",
       "<table border=\"1\" class=\"dataframe\">\n",
       "  <thead>\n",
       "    <tr style=\"text-align: right;\">\n",
       "      <th></th>\n",
       "      <th>variable</th>\n",
       "      <th>Spearman coeff</th>\n",
       "      <th>Spearman p</th>\n",
       "    </tr>\n",
       "  </thead>\n",
       "  <tbody>\n",
       "    <tr>\n",
       "      <th>0</th>\n",
       "      <td>spacing</td>\n",
       "      <td>0.54</td>\n",
       "      <td>6.13e-04</td>\n",
       "    </tr>\n",
       "  </tbody>\n",
       "</table>\n",
       "</div>"
      ],
      "text/plain": [
       "  variable  Spearman coeff  Spearman p\n",
       "0  spacing            0.54    6.13e-04"
      ]
     },
     "metadata": {},
     "output_type": "display_data"
    }
   ],
   "source": [
    "rgt = mp.regressionTableSDT(ms, ms.ss, 'delta_yBot_disturb1', Camin=15,  logy=False, printOut=False,  package='pgfplot'\n",
    "                            , plot=True, yideal=me.ideals(), plotType='paper', export=False, exportFolder=os.path.join(cfg.path.fig, 'SDT'))\n",
    "display(rgt.df)"
   ]
  },
  {
   "cell_type": "code",
   "execution_count": 45,
   "id": "b6ac136f-1ee4-4d67-9fcf-196623e96024",
   "metadata": {
    "collapsed": true,
    "jupyter": {
     "outputs_hidden": true
    },
    "tags": []
   },
   "outputs": [
    {
     "data": {
      "text/html": [
       "<div>\n",
       "<style scoped>\n",
       "    .dataframe tbody tr th:only-of-type {\n",
       "        vertical-align: middle;\n",
       "    }\n",
       "\n",
       "    .dataframe tbody tr th {\n",
       "        vertical-align: top;\n",
       "    }\n",
       "\n",
       "    .dataframe thead th {\n",
       "        text-align: right;\n",
       "    }\n",
       "</style>\n",
       "<table border=\"1\" class=\"dataframe\">\n",
       "  <thead>\n",
       "    <tr style=\"text-align: right;\">\n",
       "      <th></th>\n",
       "      <th>variable</th>\n",
       "      <th>Spearman coeff</th>\n",
       "      <th>Spearman p</th>\n",
       "    </tr>\n",
       "  </thead>\n",
       "  <tbody>\n",
       "    <tr>\n",
       "      <th>0</th>\n",
       "      <td>spacing</td>\n",
       "      <td>0.19</td>\n",
       "      <td>2.57e-06</td>\n",
       "    </tr>\n",
       "  </tbody>\n",
       "</table>\n",
       "</div>"
      ],
      "text/plain": [
       "  variable  Spearman coeff  Spearman p\n",
       "0  spacing            0.19    2.57e-06"
      ]
     },
     "metadata": {},
     "output_type": "display_data"
    }
   ],
   "source": [
    "rgt = mp.regressionTableSDT(ms, ms.ss, 'delta_yBot_write2',  logy=False, printOut=False,  package='pgfplot'\n",
    "                            , plot=True, yideal=me.ideals(), plotType='paper', export=False, exportFolder=os.path.join(cfg.path.fig, 'SDT'))\n",
    "display(rgt.df)"
   ]
  },
  {
   "cell_type": "code",
   "execution_count": 46,
   "id": "4069044f-9769-49f6-ae3d-42fb8e174103",
   "metadata": {
    "collapsed": true,
    "jupyter": {
     "outputs_hidden": true
    },
    "tags": []
   },
   "outputs": [
    {
     "data": {
      "text/html": [
       "<div>\n",
       "<style scoped>\n",
       "    .dataframe tbody tr th:only-of-type {\n",
       "        vertical-align: middle;\n",
       "    }\n",
       "\n",
       "    .dataframe tbody tr th {\n",
       "        vertical-align: top;\n",
       "    }\n",
       "\n",
       "    .dataframe thead th {\n",
       "        text-align: right;\n",
       "    }\n",
       "</style>\n",
       "<table border=\"1\" class=\"dataframe\">\n",
       "  <thead>\n",
       "    <tr style=\"text-align: right;\">\n",
       "      <th></th>\n",
       "      <th>variable</th>\n",
       "      <th>Spearman coeff</th>\n",
       "      <th>Spearman p</th>\n",
       "    </tr>\n",
       "  </thead>\n",
       "  <tbody>\n",
       "    <tr>\n",
       "      <th>48</th>\n",
       "      <td>$\\tau_{y.ink.asc}\\times \\tau_{y.sup.asc}$</td>\n",
       "      <td>0.38</td>\n",
       "      <td>1.15e-04</td>\n",
       "    </tr>\n",
       "  </tbody>\n",
       "</table>\n",
       "</div>"
      ],
      "text/plain": [
       "                                     variable  Spearman coeff  Spearman p\n",
       "48  $\\tau_{y.ink.asc}\\times \\tau_{y.sup.asc}$            0.38    1.15e-04"
      ]
     },
     "metadata": {},
     "output_type": "display_data"
    }
   ],
   "source": [
    "rgt = mp.regressionTableSDT(ms, ms.ss, 'delta_yBot_write2', spacing=0.5,  logy=False, printOut=False,  package='pgfplot'\n",
    "                            , plot=True, yideal=me.ideals(), plotType='paper', export=False, exportFolder=os.path.join(cfg.path.fig, 'SDT'))\n",
    "display(rgt.df)"
   ]
  },
  {
   "cell_type": "code",
   "execution_count": 52,
   "id": "48b0027a-2a15-4f37-bb5e-d9ced70e4e4d",
   "metadata": {
    "collapsed": true,
    "jupyter": {
     "outputs_hidden": true
    },
    "tags": []
   },
   "outputs": [
    {
     "data": {
      "text/html": [
       "<div>\n",
       "<style scoped>\n",
       "    .dataframe tbody tr th:only-of-type {\n",
       "        vertical-align: middle;\n",
       "    }\n",
       "\n",
       "    .dataframe tbody tr th {\n",
       "        vertical-align: top;\n",
       "    }\n",
       "\n",
       "    .dataframe thead th {\n",
       "        text-align: right;\n",
       "    }\n",
       "</style>\n",
       "<table border=\"1\" class=\"dataframe\">\n",
       "  <thead>\n",
       "    <tr style=\"text-align: right;\">\n",
       "      <th></th>\n",
       "      <th>variable</th>\n",
       "      <th>Spearman coeff</th>\n",
       "      <th>Spearman p</th>\n",
       "    </tr>\n",
       "  </thead>\n",
       "  <tbody>\n",
       "    <tr>\n",
       "      <th>1</th>\n",
       "      <td>spacing_adj</td>\n",
       "      <td>-0.50</td>\n",
       "      <td>8.6e-04</td>\n",
       "    </tr>\n",
       "  </tbody>\n",
       "</table>\n",
       "</div>"
      ],
      "text/plain": [
       "      variable Spearman coeff Spearman p\n",
       "1  spacing_adj          -0.50    8.6e-04"
      ]
     },
     "metadata": {},
     "output_type": "display_data"
    },
    {
     "data": {
      "image/png": "[encoded data removed]",
      "text/plain": [
       "<Figure size 325x357.5 with 1 Axes>"
      ]
     },
     "metadata": {},
     "output_type": "display_data"
    }
   ],
   "source": [
    "rgt = mp.regressionTableSDT(ms, ms.ss[ms.ss.int_Ca<1], 'delta_yBot_disturb2',  logy=False, printOut=False,  package='pgfplot'\n",
    "                            , plot=True, yideal=me.ideals(), plotType='paper', export=False, exportFolder=os.path.join(cfg.path.fig, 'SDT'))\n",
    "display(rgt.df)"
   ]
  },
  {
   "cell_type": "code",
   "execution_count": 9,
   "id": "89ec90b7-d33e-4794-90cb-b3d0fbe24106",
   "metadata": {
    "collapsed": true,
    "jupyter": {
     "outputs_hidden": true
    },
    "tags": []
   },
   "outputs": [
    {
     "data": {
      "text/html": [
       "<div>\n",
       "<style scoped>\n",
       "    .dataframe tbody tr th:only-of-type {\n",
       "        vertical-align: middle;\n",
       "    }\n",
       "\n",
       "    .dataframe tbody tr th {\n",
       "        vertical-align: top;\n",
       "    }\n",
       "\n",
       "    .dataframe thead th {\n",
       "        text-align: right;\n",
       "    }\n",
       "</style>\n",
       "<table border=\"1\" class=\"dataframe\">\n",
       "  <thead>\n",
       "    <tr style=\"text-align: right;\">\n",
       "      <th></th>\n",
       "      <th>variable</th>\n",
       "      <th>Spearman coeff</th>\n",
       "      <th>Spearman p</th>\n",
       "    </tr>\n",
       "  </thead>\n",
       "  <tbody>\n",
       "    <tr>\n",
       "      <th>36</th>\n",
       "      <td>$Re_{i}\\times Re_{s}$</td>\n",
       "      <td>-0.37</td>\n",
       "      <td>0.01</td>\n",
       "    </tr>\n",
       "  </tbody>\n",
       "</table>\n",
       "</div>"
      ],
      "text/plain": [
       "                 variable  Spearman coeff  Spearman p\n",
       "36  $Re_{i}\\times Re_{s}$           -0.37        0.01"
      ]
     },
     "metadata": {},
     "output_type": "display_data"
    }
   ],
   "source": [
    "rgt = mp.regressionTableSDT(ms, ms.ss, 'delta_yBot_disturb2', spacing=1.25, logy=False, printOut=False,  package='pgfplot'\n",
    "                            , plot=True, yideal=me.ideals(), plotType='paper', export=False, exportFolder=os.path.join(cfg.path.fig, 'SDT'))\n",
    "display(rgt.df)"
   ]
  },
  {
   "cell_type": "code",
   "execution_count": 67,
   "id": "1a8bb392-7d74-47c5-b0e4-2d1d4066c779",
   "metadata": {
    "collapsed": true,
    "jupyter": {
     "outputs_hidden": true
    },
    "tags": []
   },
   "outputs": [
    {
     "data": {
      "text/html": [
       "<div>\n",
       "<style scoped>\n",
       "    .dataframe tbody tr th:only-of-type {\n",
       "        vertical-align: middle;\n",
       "    }\n",
       "\n",
       "    .dataframe tbody tr th {\n",
       "        vertical-align: top;\n",
       "    }\n",
       "\n",
       "    .dataframe thead th {\n",
       "        text-align: right;\n",
       "    }\n",
       "</style>\n",
       "<table border=\"1\" class=\"dataframe\">\n",
       "  <thead>\n",
       "    <tr style=\"text-align: right;\">\n",
       "      <th></th>\n",
       "      <th>variable</th>\n",
       "      <th>Spearman coeff</th>\n",
       "      <th>Spearman p</th>\n",
       "    </tr>\n",
       "  </thead>\n",
       "  <tbody>\n",
       "    <tr>\n",
       "      <th>7</th>\n",
       "      <td>$\\tau_{y.ink.desc}/\\tau_{y.sup.desc}$</td>\n",
       "      <td>0.12</td>\n",
       "      <td>4.6e-02</td>\n",
       "    </tr>\n",
       "    <tr>\n",
       "      <th>3</th>\n",
       "      <td>$\\overline{d_{PR.ink.desc}}/\\overline{d_{PR.su...</td>\n",
       "      <td>0.12</td>\n",
       "      <td>4.6e-02</td>\n",
       "    </tr>\n",
       "  </tbody>\n",
       "</table>\n",
       "</div>"
      ],
      "text/plain": [
       "                                            variable Spearman coeff Spearman p\n",
       "7              $\\tau_{y.ink.desc}/\\tau_{y.sup.desc}$           0.12    4.6e-02\n",
       "3  $\\overline{d_{PR.ink.desc}}/\\overline{d_{PR.su...           0.12    4.6e-02"
      ]
     },
     "metadata": {},
     "output_type": "display_data"
    },
    {
     "data": {
      "image/png": "[encoded data removed]",
      "text/plain": [
       "<Figure size 325x357.5 with 1 Axes>"
      ]
     },
     "metadata": {},
     "output_type": "display_data"
    }
   ],
   "source": [
    "rgt = mp.regressionTableSDT(ms, ms.ss, 'delta_yBot_write3', logy=False, printOut=False,  package='pgfplot'\n",
    "                            , plot=True, yideal=me.ideals(), plotType='paper', export=False, exportFolder=os.path.join(cfg.path.fig, 'SDT'))\n",
    "display(rgt.df)"
   ]
  },
  {
   "cell_type": "markdown",
   "id": "e5d112df-673b-4726-96f6-8576a14431f5",
   "metadata": {
    "jp-MarkdownHeadingCollapsed": true
   },
   "source": [
    "## yTop"
   ]
  },
  {
   "cell_type": "code",
   "execution_count": 6,
   "id": "a8e8ad3a-0382-4570-a214-e8b68d438b6b",
   "metadata": {
    "collapsed": true,
    "jupyter": {
     "outputs_hidden": true
    },
    "tags": []
   },
   "outputs": [
    {
     "data": {
      "text/html": [
       "<div>\n",
       "<style scoped>\n",
       "    .dataframe tbody tr th:only-of-type {\n",
       "        vertical-align: middle;\n",
       "    }\n",
       "\n",
       "    .dataframe tbody tr th {\n",
       "        vertical-align: top;\n",
       "    }\n",
       "\n",
       "    .dataframe thead th {\n",
       "        text-align: right;\n",
       "    }\n",
       "</style>\n",
       "<table border=\"1\" class=\"dataframe\">\n",
       "  <thead>\n",
       "    <tr style=\"text-align: right;\">\n",
       "      <th></th>\n",
       "      <th>variable</th>\n",
       "      <th>Spearman coeff</th>\n",
       "      <th>Spearman p</th>\n",
       "    </tr>\n",
       "  </thead>\n",
       "  <tbody>\n",
       "    <tr>\n",
       "      <th>1</th>\n",
       "      <td>$Re_{sup}$</td>\n",
       "      <td>0.49</td>\n",
       "      <td>1.4e-19</td>\n",
       "    </tr>\n",
       "    <tr>\n",
       "      <th>1</th>\n",
       "      <td>$\\eta_{sup}$</td>\n",
       "      <td>-0.49</td>\n",
       "      <td>1.4e-19</td>\n",
       "    </tr>\n",
       "  </tbody>\n",
       "</table>\n",
       "</div>"
      ],
      "text/plain": [
       "       variable Spearman coeff Spearman p\n",
       "1    $Re_{sup}$           0.49    1.4e-19\n",
       "1  $\\eta_{sup}$          -0.49    1.4e-19"
      ]
     },
     "metadata": {},
     "output_type": "display_data"
    }
   ],
   "source": [
    "rgt = mp.regressionTableSDT(ms, ms.ss, 'delta_yTop_disturb1',  logy=False, printOut=False,  package='pgfplot'\n",
    "                            , plot=True, yideal=me.ideals(), plotType='paper', export=False, exportFolder=os.path.join(cfg.path.fig, 'SDT'))\n",
    "display(rgt.df)"
   ]
  },
  {
   "cell_type": "code",
   "execution_count": 42,
   "id": "67ec50e5-6d9c-4853-8966-bce04f96de28",
   "metadata": {
    "collapsed": true,
    "jupyter": {
     "outputs_hidden": true
    },
    "tags": []
   },
   "outputs": [
    {
     "data": {
      "text/html": [
       "<div>\n",
       "<style scoped>\n",
       "    .dataframe tbody tr th:only-of-type {\n",
       "        vertical-align: middle;\n",
       "    }\n",
       "\n",
       "    .dataframe tbody tr th {\n",
       "        vertical-align: top;\n",
       "    }\n",
       "\n",
       "    .dataframe thead th {\n",
       "        text-align: right;\n",
       "    }\n",
       "</style>\n",
       "<table border=\"1\" class=\"dataframe\">\n",
       "  <thead>\n",
       "    <tr style=\"text-align: right;\">\n",
       "      <th></th>\n",
       "      <th>variable</th>\n",
       "      <th>Spearman coeff</th>\n",
       "      <th>Spearman p</th>\n",
       "    </tr>\n",
       "  </thead>\n",
       "  <tbody>\n",
       "    <tr>\n",
       "      <th>31</th>\n",
       "      <td>$Re_{sup}$</td>\n",
       "      <td>0.42</td>\n",
       "      <td>2.64e-03</td>\n",
       "    </tr>\n",
       "    <tr>\n",
       "      <th>43</th>\n",
       "      <td>$\\eta_{sup}$</td>\n",
       "      <td>-0.42</td>\n",
       "      <td>2.64e-03</td>\n",
       "    </tr>\n",
       "    <tr>\n",
       "      <th>47</th>\n",
       "      <td>$\\tau_{y.sup.asc}$</td>\n",
       "      <td>-0.42</td>\n",
       "      <td>2.64e-03</td>\n",
       "    </tr>\n",
       "    <tr>\n",
       "      <th>51</th>\n",
       "      <td>$\\tau_{y.sup.desc}$</td>\n",
       "      <td>-0.42</td>\n",
       "      <td>2.64e-03</td>\n",
       "    </tr>\n",
       "  </tbody>\n",
       "</table>\n",
       "</div>"
      ],
      "text/plain": [
       "               variable  Spearman coeff  Spearman p\n",
       "31           $Re_{sup}$            0.42    2.64e-03\n",
       "43         $\\eta_{sup}$           -0.42    2.64e-03\n",
       "47   $\\tau_{y.sup.asc}$           -0.42    2.64e-03\n",
       "51  $\\tau_{y.sup.desc}$           -0.42    2.64e-03"
      ]
     },
     "metadata": {},
     "output_type": "display_data"
    }
   ],
   "source": [
    "rgt = mp.regressionTableSDT(ms, ms.ss, 'delta_yTop_disturb1', spacing=0.5,  logy=False, printOut=False,  package='pgfplot'\n",
    "                            , plot=True, yideal=me.ideals(), plotType='paper', export=False, exportFolder=os.path.join(cfg.path.fig, 'SDT'))\n",
    "display(rgt.df)"
   ]
  },
  {
   "cell_type": "code",
   "execution_count": 53,
   "id": "3945c5b4-a31e-4d4f-b73e-075cce6d141a",
   "metadata": {
    "collapsed": true,
    "jupyter": {
     "outputs_hidden": true
    },
    "tags": []
   },
   "outputs": [
    {
     "data": {
      "text/html": [
       "<div>\n",
       "<style scoped>\n",
       "    .dataframe tbody tr th:only-of-type {\n",
       "        vertical-align: middle;\n",
       "    }\n",
       "\n",
       "    .dataframe tbody tr th {\n",
       "        vertical-align: top;\n",
       "    }\n",
       "\n",
       "    .dataframe thead th {\n",
       "        text-align: right;\n",
       "    }\n",
       "</style>\n",
       "<table border=\"1\" class=\"dataframe\">\n",
       "  <thead>\n",
       "    <tr style=\"text-align: right;\">\n",
       "      <th></th>\n",
       "      <th>variable</th>\n",
       "      <th>Spearman coeff</th>\n",
       "      <th>Spearman p</th>\n",
       "    </tr>\n",
       "  </thead>\n",
       "  <tbody>\n",
       "    <tr>\n",
       "      <th>0</th>\n",
       "      <td>spacing</td>\n",
       "      <td>-0.53</td>\n",
       "      <td>2.9e-04</td>\n",
       "    </tr>\n",
       "  </tbody>\n",
       "</table>\n",
       "</div>"
      ],
      "text/plain": [
       "  variable Spearman coeff Spearman p\n",
       "0  spacing          -0.53    2.9e-04"
      ]
     },
     "metadata": {},
     "output_type": "display_data"
    },
    {
     "data": {
      "image/png": "[encoded data removed]",
      "text/plain": [
       "<Figure size 325x357.5 with 1 Axes>"
      ]
     },
     "metadata": {},
     "output_type": "display_data"
    }
   ],
   "source": [
    "rgt = mp.regressionTableSDT(ms, ms.ss[ms.ss.int_Ca<1], 'delta_yTop_disturb2',  logy=False, printOut=False,  package='pgfplot'\n",
    "                            , plot=True, yideal=me.ideals(), plotType='paper', export=False, exportFolder=os.path.join(cfg.path.fig, 'SDT'))\n",
    "display(rgt.df)"
   ]
  },
  {
   "cell_type": "code",
   "execution_count": 11,
   "id": "f0ccc967-2bae-4530-a46a-305d46e39084",
   "metadata": {
    "collapsed": true,
    "jupyter": {
     "outputs_hidden": true
    },
    "tags": []
   },
   "outputs": [
    {
     "data": {
      "text/html": [
       "<div>\n",
       "<style scoped>\n",
       "    .dataframe tbody tr th:only-of-type {\n",
       "        vertical-align: middle;\n",
       "    }\n",
       "\n",
       "    .dataframe tbody tr th {\n",
       "        vertical-align: top;\n",
       "    }\n",
       "\n",
       "    .dataframe thead th {\n",
       "        text-align: right;\n",
       "    }\n",
       "</style>\n",
       "<table border=\"1\" class=\"dataframe\">\n",
       "  <thead>\n",
       "    <tr style=\"text-align: right;\">\n",
       "      <th></th>\n",
       "      <th>variable</th>\n",
       "      <th>Spearman coeff</th>\n",
       "      <th>Spearman p</th>\n",
       "    </tr>\n",
       "  </thead>\n",
       "  <tbody>\n",
       "  </tbody>\n",
       "</table>\n",
       "</div>"
      ],
      "text/plain": [
       "Empty DataFrame\n",
       "Columns: [variable, Spearman coeff, Spearman p]\n",
       "Index: []"
      ]
     },
     "metadata": {},
     "output_type": "display_data"
    }
   ],
   "source": [
    "rgt = mp.regressionTableSDT(ms, ms.ss, 'delta_yTop_disturb2', spacing=0.5, logy=False, printOut=False,  package='pgfplot'\n",
    "                            , plot=True, yideal=me.ideals(), plotType='paper', export=False, exportFolder=os.path.join(cfg.path.fig, 'SDT'))\n",
    "display(rgt.df)"
   ]
  },
  {
   "cell_type": "code",
   "execution_count": 5,
   "id": "ffc7e899-6fa8-43d5-8180-cddbdb1f27a5",
   "metadata": {
    "collapsed": true,
    "jupyter": {
     "outputs_hidden": true
    },
    "tags": []
   },
   "outputs": [
    {
     "data": {
      "text/html": [
       "<div>\n",
       "<style scoped>\n",
       "    .dataframe tbody tr th:only-of-type {\n",
       "        vertical-align: middle;\n",
       "    }\n",
       "\n",
       "    .dataframe tbody tr th {\n",
       "        vertical-align: top;\n",
       "    }\n",
       "\n",
       "    .dataframe thead th {\n",
       "        text-align: right;\n",
       "    }\n",
       "</style>\n",
       "<table border=\"1\" class=\"dataframe\">\n",
       "  <thead>\n",
       "    <tr style=\"text-align: right;\">\n",
       "      <th></th>\n",
       "      <th>variable</th>\n",
       "      <th>Spearman coeff</th>\n",
       "      <th>Spearman p</th>\n",
       "    </tr>\n",
       "  </thead>\n",
       "  <tbody>\n",
       "    <tr>\n",
       "      <th>0</th>\n",
       "      <td>spacing</td>\n",
       "      <td>-0.42</td>\n",
       "      <td>6.83e-14</td>\n",
       "    </tr>\n",
       "  </tbody>\n",
       "</table>\n",
       "</div>"
      ],
      "text/plain": [
       "  variable  Spearman coeff  Spearman p\n",
       "0  spacing           -0.42    6.83e-14"
      ]
     },
     "metadata": {},
     "output_type": "display_data"
    }
   ],
   "source": [
    "rgt = mp.regressionTableSDT(ms, ms.ss, 'delta_yTop_disturb2',  logy=False, printOut=False,  package='pgfplot'\n",
    "                            , plot=True, yideal=me.ideals(), plotType='paper', export=False, exportFolder=os.path.join(cfg.path.fig, 'SDT'))\n",
    "display(rgt.df)"
   ]
  },
  {
   "cell_type": "code",
   "execution_count": 62,
   "id": "913f0071-d6a5-428f-b985-d7971b704887",
   "metadata": {
    "collapsed": true,
    "jupyter": {
     "outputs_hidden": true
    },
    "tags": []
   },
   "outputs": [
    {
     "data": {
      "text/html": [
       "<div>\n",
       "<style scoped>\n",
       "    .dataframe tbody tr th:only-of-type {\n",
       "        vertical-align: middle;\n",
       "    }\n",
       "\n",
       "    .dataframe tbody tr th {\n",
       "        vertical-align: top;\n",
       "    }\n",
       "\n",
       "    .dataframe thead th {\n",
       "        text-align: right;\n",
       "    }\n",
       "</style>\n",
       "<table border=\"1\" class=\"dataframe\">\n",
       "  <thead>\n",
       "    <tr style=\"text-align: right;\">\n",
       "      <th></th>\n",
       "      <th>variable</th>\n",
       "      <th>Spearman coeff</th>\n",
       "      <th>Spearman p</th>\n",
       "    </tr>\n",
       "  </thead>\n",
       "  <tbody>\n",
       "    <tr>\n",
       "      <th>0</th>\n",
       "      <td>spacing</td>\n",
       "      <td>-0.59</td>\n",
       "      <td>2.1e-28</td>\n",
       "    </tr>\n",
       "  </tbody>\n",
       "</table>\n",
       "</div>"
      ],
      "text/plain": [
       "  variable Spearman coeff Spearman p\n",
       "0  spacing          -0.59    2.1e-28"
      ]
     },
     "metadata": {},
     "output_type": "display_data"
    },
    {
     "data": {
      "image/png": "[encoded data removed]",
      "text/plain": [
       "<Figure size 325x357.5 with 1 Axes>"
      ]
     },
     "metadata": {},
     "output_type": "display_data"
    }
   ],
   "source": [
    "rgt = mp.regressionTableSDT(ms, ms.ss, 'delta_yTop_write3',  logy=False, printOut=False,  package='pgfplot'\n",
    "                            , plot=True, yideal=me.ideals(), plotType='paper', export=False, exportFolder=os.path.join(cfg.path.fig, 'SDT'))\n",
    "display(rgt.df)"
   ]
  },
  {
   "cell_type": "code",
   "execution_count": 9,
   "id": "a18b0891-b279-4a02-aa1b-1f4af9e08e3a",
   "metadata": {
    "collapsed": true,
    "jupyter": {
     "outputs_hidden": true
    },
    "scrolled": true,
    "tags": []
   },
   "outputs": [
    {
     "data": {
      "text/html": [
       "<div>\n",
       "<style scoped>\n",
       "    .dataframe tbody tr th:only-of-type {\n",
       "        vertical-align: middle;\n",
       "    }\n",
       "\n",
       "    .dataframe tbody tr th {\n",
       "        vertical-align: top;\n",
       "    }\n",
       "\n",
       "    .dataframe thead th {\n",
       "        text-align: right;\n",
       "    }\n",
       "</style>\n",
       "<table border=\"1\" class=\"dataframe\">\n",
       "  <thead>\n",
       "    <tr style=\"text-align: right;\">\n",
       "      <th></th>\n",
       "      <th>variable</th>\n",
       "      <th>Spearman coeff</th>\n",
       "      <th>Spearman p</th>\n",
       "    </tr>\n",
       "  </thead>\n",
       "  <tbody>\n",
       "    <tr>\n",
       "      <th>25</th>\n",
       "      <td>$We_{i}/We_{s}$</td>\n",
       "      <td>-0.37</td>\n",
       "      <td>9.50e-03</td>\n",
       "    </tr>\n",
       "  </tbody>\n",
       "</table>\n",
       "</div>"
      ],
      "text/plain": [
       "           variable  Spearman coeff  Spearman p\n",
       "25  $We_{i}/We_{s}$           -0.37    9.50e-03"
      ]
     },
     "metadata": {},
     "output_type": "display_data"
    }
   ],
   "source": [
    "rgt = mp.regressionTableSDT(ms, ms.ss, 'delta_yTop_write3', spacing=0.5, logy=False, printOut=False,  package='pgfplot'\n",
    "                            , plot=True, yideal=me.ideals(), plotType='paper', export=False, exportFolder=os.path.join(cfg.path.fig, 'SDT'))\n",
    "display(rgt.df)"
   ]
  },
  {
   "cell_type": "code",
   "execution_count": 65,
   "id": "b94ed296-20b7-4ddc-84f8-d2b6748dedac",
   "metadata": {
    "collapsed": true,
    "jupyter": {
     "outputs_hidden": true
    },
    "tags": []
   },
   "outputs": [
    {
     "data": {
      "text/html": [
       "<div>\n",
       "<style scoped>\n",
       "    .dataframe tbody tr th:only-of-type {\n",
       "        vertical-align: middle;\n",
       "    }\n",
       "\n",
       "    .dataframe tbody tr th {\n",
       "        vertical-align: top;\n",
       "    }\n",
       "\n",
       "    .dataframe thead th {\n",
       "        text-align: right;\n",
       "    }\n",
       "</style>\n",
       "<table border=\"1\" class=\"dataframe\">\n",
       "  <thead>\n",
       "    <tr style=\"text-align: right;\">\n",
       "      <th></th>\n",
       "      <th>variable</th>\n",
       "      <th>Spearman coeff</th>\n",
       "      <th>Spearman p</th>\n",
       "    </tr>\n",
       "  </thead>\n",
       "  <tbody>\n",
       "    <tr>\n",
       "      <th>1</th>\n",
       "      <td>$Oh_{sup}$</td>\n",
       "      <td>-0.34</td>\n",
       "      <td>1.6e-02</td>\n",
       "    </tr>\n",
       "  </tbody>\n",
       "</table>\n",
       "</div>"
      ],
      "text/plain": [
       "     variable Spearman coeff Spearman p\n",
       "1  $Oh_{sup}$          -0.34    1.6e-02"
      ]
     },
     "metadata": {},
     "output_type": "display_data"
    },
    {
     "data": {
      "image/png": "[encoded data removed]",
      "text/plain": [
       "<Figure size 325x357.5 with 1 Axes>"
      ]
     },
     "metadata": {},
     "output_type": "display_data"
    }
   ],
   "source": [
    "rgt = mp.regressionTableSDT(ms, ms.ss, 'delta_yTop_write3', spacing=1.25, logy=False, printOut=False,  package='pgfplot'\n",
    "                            , plot=True, yideal=me.ideals(), plotType='paper', export=False, exportFolder=os.path.join(cfg.path.fig, 'SDT'))\n",
    "display(rgt.df)"
   ]
  }
 ],
 "metadata": {
  "kernelspec": {
   "display_name": "Python 3 (ipykernel)",
   "language": "python",
   "name": "python3"
  },
  "language_info": {
   "codemirror_mode": {
    "name": "ipython",
    "version": 3
   },
   "file_extension": ".py",
   "mimetype": "text/x-python",
   "name": "python",
   "nbconvert_exporter": "python",
   "pygments_lexer": "ipython3",
   "version": "3.8.18"
  }
 },
 "nbformat": 4,
 "nbformat_minor": 5
}
