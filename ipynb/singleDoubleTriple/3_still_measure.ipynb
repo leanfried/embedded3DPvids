{
 "cells": [
  {
   "cell_type": "markdown",
   "id": "9a2a57b1",
   "metadata": {},
   "source": [
    "# Analyzing images of SDT lines"
   ]
  },
  {
   "cell_type": "markdown",
   "id": "d40d5813-cef8-4fa6-9ffd-cc98ab2e178f",
   "metadata": {},
   "source": [
    "SEgment any images that are not segmented, and measure and summarize them into a single table"
   ]
  },
  {
   "cell_type": "markdown",
   "id": "c85d01df-c8cd-4ef8-aaaf-1bfc6bb01a5a",
   "metadata": {},
   "source": [
    "Leanne Friedrich 4/27/23"
   ]
  },
  {
   "cell_type": "markdown",
   "id": "8114ca78",
   "metadata": {},
   "source": [
    "## Initialization"
   ]
  },
  {
   "cell_type": "code",
   "execution_count": null,
   "id": "690ebafb",
   "metadata": {},
   "outputs": [],
   "source": [
    "%load_ext autoreload\n",
    "%autoreload 2\n",
    "LOGGERDEFINED = False"
   ]
  },
  {
   "cell_type": "code",
   "execution_count": null,
   "id": "87567013",
   "metadata": {},
   "outputs": [],
   "source": [
    "import os\n",
    "import sys\n",
    "import numpy as np\n",
    "import matplotlib.pyplot as plt\n",
    "module_path = os.path.abspath(os.path.join('..'))\n",
    "sys.path.append(module_path)\n",
    "sys.path.append(os.path.dirname(module_path))\n",
    "from py.tools.config import cfg\n",
    "import py.tools.logs as logs\n",
    "import py.vid.v_tools as vt\n",
    "import py.metrics.m_SDT as me\n",
    "from py.im.imshow import imshow\n",
    "import py.file.file_handling as fh\n",
    "import py.vid.noz_detect as nt\n",
    "import pandas as pd\n",
    "from py.full_sequence import SDTWorkflow, fullSequencer\n",
    "LOGGERDEFINED = logs.openLog('still_measure_horiz.ipynb', LOGGERDEFINED, level='DEBUG', exportLog=False)"
   ]
  },
  {
   "cell_type": "markdown",
   "id": "a8bcea1a-4b79-4e63-91db-f5b2613acaa6",
   "metadata": {},
   "source": [
    "# horizontal"
   ]
  },
  {
   "cell_type": "code",
   "execution_count": null,
   "id": "1acb6ae4-1c2b-49f9-8946-e1ac3211b975",
   "metadata": {},
   "outputs": [],
   "source": [
    "fstr = r'SDT'\n",
    "folder = os.path.join(cfg.path.server, fstr)\n",
    "sv = me.summarizerHorizSDT(folder, overwriteMeasure=False, overwriteSummary=False, folderFile=cfg.path.folderList)"
   ]
  },
  {
   "cell_type": "code",
   "execution_count": null,
   "id": "24de9b15-2ecf-4224-aa42-41acfc0168fe",
   "metadata": {
    "tags": []
   },
   "outputs": [],
   "source": [
    "sv.run()\n",
    "sv.export()"
   ]
  },
  {
   "cell_type": "code",
   "execution_count": null,
   "id": "24292e97-b337-4e0d-bbc0-31b3bc45c683",
   "metadata": {},
   "outputs": [],
   "source": [
    "sv.folderErrorList"
   ]
  },
  {
   "cell_type": "code",
   "execution_count": null,
   "id": "468cac59-d7d9-4500-9589-5ec30178bfae",
   "metadata": {
    "tags": []
   },
   "outputs": [],
   "source": [
    "sv.testFolderError(0, openFolder=True)"
   ]
  },
  {
   "cell_type": "markdown",
   "id": "68d34b32-0c05-4701-a5e7-908cdae6daea",
   "metadata": {},
   "source": [
    "# vert"
   ]
  },
  {
   "cell_type": "code",
   "execution_count": null,
   "id": "6b287271-c2c9-4272-929b-c8a18cc9d781",
   "metadata": {
    "tags": []
   },
   "outputs": [],
   "source": [
    "# fstr = r'SDT'\n",
    "# folder = os.path.join(cfg.path.server, fstr)\n",
    "folder = os.path.join(cfg.path.server, r'SDT')\n",
    "sv = me.summarizerVertSDT(folder, overwriteMeasure=False, overwriteSummary=False)"
   ]
  },
  {
   "cell_type": "code",
   "execution_count": null,
   "id": "2b86bd3b-3f56-4f64-a221-0664f0012412",
   "metadata": {
    "tags": []
   },
   "outputs": [],
   "source": [
    "sv.run()\n",
    "sv.export()"
   ]
  },
  {
   "cell_type": "code",
   "execution_count": null,
   "id": "48d660bb-c6a2-431b-b455-517b346db5f8",
   "metadata": {
    "tags": []
   },
   "outputs": [],
   "source": [
    "sv.folderErrorList"
   ]
  },
  {
   "cell_type": "code",
   "execution_count": null,
   "id": "e0db8149-2ee4-486d-a4ac-c58b8ca70ea9",
   "metadata": {
    "tags": []
   },
   "outputs": [],
   "source": [
    "sv.testFolderError(0, openFolder=True)"
   ]
  },
  {
   "cell_type": "markdown",
   "id": "24f52b82-8d88-4b88-b939-3b9c40f5dd2d",
   "metadata": {},
   "source": [
    "# under"
   ]
  },
  {
   "cell_type": "code",
   "execution_count": null,
   "id": "ba512400",
   "metadata": {
    "tags": []
   },
   "outputs": [],
   "source": [
    "fstr = r'SDT'\n",
    "folder = os.path.join(cfg.path.server, fstr)\n",
    "sv = me.summarizerUnderSDT(folder, overwriteMeasure=False, overwriteSummary=False, folderFile=cfg.path.folderList)"
   ]
  },
  {
   "cell_type": "code",
   "execution_count": null,
   "id": "2d1ecb58",
   "metadata": {
    "tags": []
   },
   "outputs": [],
   "source": [
    "sv.run()\n",
    "sv.export()"
   ]
  },
  {
   "cell_type": "code",
   "execution_count": null,
   "id": "0f403928-65b6-43a1-8982-ecf317417090",
   "metadata": {
    "tags": []
   },
   "outputs": [],
   "source": [
    "sv.folderErrorList"
   ]
  },
  {
   "cell_type": "markdown",
   "id": "bd74b6bc-6b60-4cbc-b06c-1fc8cf654732",
   "metadata": {
    "tags": []
   },
   "source": [
    "# XS +z"
   ]
  },
  {
   "cell_type": "code",
   "execution_count": null,
   "id": "7edc534f-53bd-4130-8127-518f5d3333e0",
   "metadata": {},
   "outputs": [],
   "source": [
    "fstr = r'SDT'\n",
    "folder = os.path.join(cfg.path.server, fstr)\n",
    "sv = me.summarizerXSSDT(folder, dire='+z', overwriteMeasure=False, overwriteSummary=False, folderFile=cfg.path.folderList)"
   ]
  },
  {
   "cell_type": "code",
   "execution_count": null,
   "id": "5bc2f109-af51-4f17-92a6-6b38028e62a6",
   "metadata": {
    "tags": []
   },
   "outputs": [],
   "source": [
    "sv.run()\n",
    "sv.export()"
   ]
  },
  {
   "cell_type": "code",
   "execution_count": null,
   "id": "227a82ae-5d57-46f0-9a33-849937245db0",
   "metadata": {
    "tags": []
   },
   "outputs": [],
   "source": [
    "sv.folderErrorList"
   ]
  },
  {
   "cell_type": "code",
   "execution_count": null,
   "id": "abb348a1-4837-44c0-8869-ba9f43a654d9",
   "metadata": {
    "tags": []
   },
   "outputs": [],
   "source": [
    "sv.testFolderError(1, openFolder=True)"
   ]
  },
  {
   "cell_type": "markdown",
   "id": "2ae1ea45-750d-4e9d-b503-3294455e4cc9",
   "metadata": {},
   "source": [
    "# XS +y"
   ]
  },
  {
   "cell_type": "code",
   "execution_count": null,
   "id": "6fbe96bc-e555-4865-b13d-434c4f1ce504",
   "metadata": {},
   "outputs": [],
   "source": [
    "fstr = r'SDT'\n",
    "folder = os.path.join(cfg.path.server, fstr)\n",
    "svy = me.summarizerXSSDT(folder, dire='+y', overwriteMeasure=False, overwriteSummary=True, folderFile=cfg.path.folderList)"
   ]
  },
  {
   "cell_type": "code",
   "execution_count": null,
   "id": "35f38a52-9fdb-4a96-aab1-981a74b06238",
   "metadata": {
    "scrolled": true,
    "tags": []
   },
   "outputs": [],
   "source": [
    "svy.run()\n",
    "svy.export()"
   ]
  },
  {
   "cell_type": "code",
   "execution_count": null,
   "id": "a4d5614a-3bd4-4eb1-ae00-6b9fe4f5ce64",
   "metadata": {
    "tags": []
   },
   "outputs": [],
   "source": [
    "svy.folderErrorList"
   ]
  },
  {
   "cell_type": "code",
   "execution_count": null,
   "id": "8afb6b7e-a47e-45e7-8c3e-8440fd4fc4fb",
   "metadata": {
    "tags": []
   },
   "outputs": [],
   "source": [
    "svy.testFolderError(1, openFolder=True)"
   ]
  }
 ],
 "metadata": {
  "kernelspec": {
   "display_name": "Python 3 (ipykernel)",
   "language": "python",
   "name": "python3"
  },
  "language_info": {
   "codemirror_mode": {
    "name": "ipython",
    "version": 3
   },
   "file_extension": ".py",
   "mimetype": "text/x-python",
   "name": "python",
   "nbconvert_exporter": "python",
   "pygments_lexer": "ipython3",
   "version": "3.8.18"
  }
 },
 "nbformat": 4,
 "nbformat_minor": 5
}
