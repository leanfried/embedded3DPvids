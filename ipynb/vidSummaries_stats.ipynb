{
 "cells": [
  {
   "cell_type": "markdown",
   "id": "6261c111",
   "metadata": {},
   "source": [
    "# statistical analysis of cross-section metrics"
   ]
  },
  {
   "cell_type": "markdown",
   "id": "c273ce98",
   "metadata": {},
   "source": [
    "Leanne Friedrich 10/08/21"
   ]
  },
  {
   "cell_type": "markdown",
   "id": "6589380b",
   "metadata": {},
   "source": [
    "## initialization"
   ]
  },
  {
   "cell_type": "code",
   "execution_count": 1,
   "id": "abaa2343",
   "metadata": {},
   "outputs": [],
   "source": [
    "%load_ext autoreload\n",
    "%autoreload 2\n",
    "LOGGERDEFINED = False"
   ]
  },
  {
   "cell_type": "code",
   "execution_count": 2,
   "id": "7ecfbada",
   "metadata": {},
   "outputs": [],
   "source": [
    "import os\n",
    "import sys\n",
    "sys.path.append(\"../\")\n",
    "from py.config import cfg\n",
    "import py.logs as logs\n",
    "import py.metrics as me\n",
    "from printVals import *\n",
    "from plainIm import plainIm\n",
    "import matplotlib.pyplot as plt\n",
    "import metricPlots as mp\n",
    "import regression as rg\n",
    "import matplotlib.cm as cm\n",
    "LOGGERDEFINED = logs.openLog('vidSummaries.ipynb', LOGGERDEFINED, level='DEBUG', exportLog=False)"
   ]
  },
  {
   "cell_type": "markdown",
   "id": "1055c2df",
   "metadata": {},
   "source": [
    "## analyzing data"
   ]
  },
  {
   "cell_type": "code",
   "execution_count": 39,
   "id": "08db6e54",
   "metadata": {},
   "outputs": [
    {
     "name": "stdout",
     "output_type": "stream",
     "text": [
      "Independents: ['bn', 'date', 'sigma', 'di', 'do', 'fluFile', 'calibFile', 'viscRatio', 'vRatio', 'ReRatio', 'rGrav', 'dEst', 'hDragP', 'vDragP', 'pressureCh0', 'ink_shortname', 'ink_days', 'ink_rheModifier', 'ink_surfactant', 'ink_dye', 'ink_var', 'ink_val', 'ink_base', 'ink_type', 'ink_tau0', 'ink_eta0', 'ink_density', 'ink_v', 'ink_visc0', 'ink_CaInv', 'ink_Re', 'ink_WeInv', 'ink_OhInv', 'ink_dPR', 'sup_shortname', 'sup_days', 'sup_rheModifier', 'sup_surfactant', 'sup_dye', 'sup_var', 'sup_val', 'sup_base', 'sup_type', 'sup_tau0', 'sup_eta0', 'sup_density', 'sup_v', 'sup_visc0', 'sup_CaInv', 'sup_Re', 'sup_WeInv', 'sup_OhInv', 'sup_dPR', 'sup_Ca', 'ink_Ca', 'ReProd', 'CaProd', 'sweepType']\n",
      "\n",
      "Dependents: ['xs_aspect', 'xs_xshift', 'xs_yshift', 'xs_area', 'xs_areaN', 'xs_wN', 'xs_hN', 'xs_roughness', 'vert_wN', 'vert_hN', 'vert_vN', 'vert_vintegral', 'vert_viN', 'vert_vleak', 'vert_vleakN', 'vert_roughness', 'vert_meanTN', 'vert_stdevTN', 'vert_minmaxTN', 'horiz_segments', 'horiz_maxlenN', 'horiz_totlenN', 'horiz_vN', 'horiz_roughness', 'horiz_meanTN', 'horiz_stdevTN', 'horiz_minmaxTN', 'vHorizEst']\n"
     ]
    }
   ],
   "source": [
    "ss,u = me.importStillsSummary(diag=True)"
   ]
  },
  {
   "cell_type": "code",
   "execution_count": 25,
   "id": "ca29b0e6",
   "metadata": {},
   "outputs": [],
   "source": [
    "sims,usim = plainIm(r'C:\\Users\\lmf1\\OneDrive - NIST\\NIST\\data\\openfoam\\summaries\\viscositysweep\\summaryTable_x_5_t_2.5.csv', ic=0)"
   ]
  },
  {
   "cell_type": "code",
   "execution_count": null,
   "id": "4535af8b",
   "metadata": {},
   "outputs": [],
   "source": [
    "vs,uv = plainIm(os.path.join(cfg.path.fig, 'videoSummary.csv'), ic=0)\n",
    "vs = vs[vs.date>210520]\n",
    "vs.date = vs.date.replace(210728, 210727)"
   ]
  }
 ],
 "metadata": {
  "kernelspec": {
   "display_name": "Python 3",
   "language": "python",
   "name": "python3"
  },
  "language_info": {
   "codemirror_mode": {
    "name": "ipython",
    "version": 3
   },
   "file_extension": ".py",
   "mimetype": "text/x-python",
   "name": "python",
   "nbconvert_exporter": "python",
   "pygments_lexer": "ipython3",
   "version": "3.7.7"
  }
 },
 "nbformat": 4,
 "nbformat_minor": 5
}
