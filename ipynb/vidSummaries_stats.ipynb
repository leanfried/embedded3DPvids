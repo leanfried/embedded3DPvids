{
 "cells": [
  {
   "cell_type": "markdown",
   "id": "955a0af1",
   "metadata": {},
   "source": [
    "# statistical analysis of metrics"
   ]
  },
  {
   "cell_type": "markdown",
   "id": "554cd350",
   "metadata": {},
   "source": [
    "Leanne Friedrich 10/08/21"
   ]
  },
  {
   "cell_type": "markdown",
   "id": "b4a172c7",
   "metadata": {},
   "source": [
    "## initialization"
   ]
  },
  {
   "cell_type": "code",
   "execution_count": 1,
   "id": "b2522573",
   "metadata": {},
   "outputs": [],
   "source": [
    "%load_ext autoreload\n",
    "%autoreload 2\n",
    "LOGGERDEFINED = False"
   ]
  },
  {
   "cell_type": "code",
   "execution_count": 2,
   "id": "f640396a",
   "metadata": {},
   "outputs": [],
   "source": [
    "import os\n",
    "import sys\n",
    "sys.path.append(\"../\")\n",
    "from py.config import cfg\n",
    "import py.logs as logs\n",
    "import py.metrics as me\n",
    "from printVals import *\n",
    "from plainIm import plainIm\n",
    "import matplotlib.pyplot as plt\n",
    "import metricPlots as mp\n",
    "import regression as rg\n",
    "import matplotlib.cm as cm\n",
    "LOGGERDEFINED = logs.openLog('vidSummaries.ipynb', LOGGERDEFINED, level='DEBUG', exportLog=False)"
   ]
  },
  {
   "cell_type": "markdown",
   "id": "0d650aa7",
   "metadata": {},
   "source": [
    "## analyzing data"
   ]
  },
  {
   "cell_type": "code",
   "execution_count": 3,
   "id": "cad0b57d",
   "metadata": {},
   "outputs": [
    {
     "name": "stdout",
     "output_type": "stream",
     "text": [
      "Independents: ['folder', 'bn', 'date', 'sigma', 'di', 'do', 'fluFile', 'calibFile', 'viscRatio', 'vRatio', 'ReRatio', 'rGrav', 'dEst', 'hDragP', 'vDragP', 'int_CaInv', 'int_Re', 'pressureCh0', 'ink_shortname', 'ink_days', 'ink_rheModifier', 'ink_surfactant', 'ink_dye', 'ink_var', 'ink_val', 'ink_base', 'ink_type', 'ink_tau0', 'ink_eta0', 'ink_density', 'ink_v', 'ink_rate', 'ink_visc0', 'ink_CaInv', 'ink_Re', 'ink_WeInv', 'ink_OhInv', 'ink_dPR', 'ink_dnormInv', 'ink_Bm', 'sup_shortname', 'sup_days', 'sup_rheModifier', 'sup_surfactant', 'sup_dye', 'sup_var', 'sup_val', 'sup_base', 'sup_type', 'sup_tau0', 'sup_eta0', 'sup_density', 'sup_v', 'sup_rate', 'sup_visc0', 'sup_CaInv', 'sup_Re', 'sup_WeInv', 'sup_OhInv', 'sup_dPR', 'sup_dnormInv', 'sup_Bm', 'sup_Ca', 'ink_Ca', 'sweepType', 'sup_dnorm', 'ink_dnorm', 'sup_We', 'ink_We', 'sup_Oh', 'ink_Oh', 'int_Ca']\n",
      "\n",
      "Dependents: ['xs_aspect', 'xs_xshift', 'xs_yshift', 'xs_area', 'xs_areaN', 'xs_wN', 'xs_hN', 'xs_roughness', 'vert_wN', 'vert_hN', 'vert_vN', 'vert_vintegral', 'vert_viN', 'vert_vleak', 'vert_vleakN', 'vert_roughness', 'vert_meanTN', 'vert_stdevTN', 'vert_minmaxTN', 'horiz_segments', 'horiz_maxlenN', 'horiz_totlenN', 'horiz_vN', 'horiz_roughness', 'horiz_meanTN', 'horiz_stdevTN', 'horiz_minmaxTN', 'vHorizEst']\n"
     ]
    }
   ],
   "source": [
    "ss,u = me.importStillsSummary(diag=True)\n",
    "seg, useg = me.importStillsSummary(file='segmentsSummary.csv', diag=False)\n",
    "ss = ss.merge(seg[['folder', 'horiz_segments']], on='folder', suffixes=['', '_manual'], how='left')"
   ]
  },
  {
   "cell_type": "code",
   "execution_count": 4,
   "id": "ac2d7cde",
   "metadata": {},
   "outputs": [
    {
     "name": "stdout",
     "output_type": "stream",
     "text": [
      "Independents: ['folder', 'bn', 'date', 'sigma', 'di', 'do', 'fluFile', 'calibFile', 'viscRatio', 'vRatio', 'ReRatio', 'rGrav', 'dEst', 'hDragP', 'vDragP', 'int_CaInv', 'int_Re', 'pressureCh0', 'ink_shortname', 'ink_days', 'ink_rheModifier', 'ink_surfactant', 'ink_dye', 'ink_var', 'ink_val', 'ink_base', 'ink_type', 'ink_tau0', 'ink_eta0', 'ink_density', 'ink_v', 'ink_rate', 'ink_visc0', 'ink_CaInv', 'ink_Re', 'ink_WeInv', 'ink_OhInv', 'ink_dPR', 'ink_dnormInv', 'ink_Bm', 'sup_shortname', 'sup_days', 'sup_rheModifier', 'sup_surfactant', 'sup_dye', 'sup_var', 'sup_val', 'sup_base', 'sup_type', 'sup_tau0', 'sup_eta0', 'sup_density', 'sup_v', 'sup_rate', 'sup_visc0', 'sup_CaInv', 'sup_Re', 'sup_WeInv', 'sup_OhInv', 'sup_dPR', 'sup_dnormInv', 'sup_Bm', 'sup_Ca', 'ink_Ca', 'sweepType', 'sup_dnorm', 'ink_dnorm', 'sup_We', 'ink_We', 'sup_Oh', 'ink_Oh', 'int_Ca']\n",
      "\n",
      "Dependents: ['projectionN', 'projShiftN', 'vertDispBotN', 'vertDispTopN', 'vertDispMidN']\n"
     ]
    }
   ],
   "source": [
    "vs,uv = me.importStillsSummary(file='videoSummary.csv', diag=True)\n",
    "seg, useg = me.importStillsSummary(file='segmentsSummary.csv', diag=False)\n",
    "vs = vs.merge(seg[['folder', 'wetting', 'horiz_segments']], on='folder', suffixes=['', ''], how='left')"
   ]
  },
  {
   "cell_type": "code",
   "execution_count": 5,
   "id": "8e4c2c74",
   "metadata": {},
   "outputs": [
    {
     "data": {
      "text/plain": [
       "(0.0001979461612272, 0.212537061977812, 0.000100528466527, 0.1041090553958053)"
      ]
     },
     "execution_count": 5,
     "metadata": {},
     "output_type": "execute_result"
    }
   ],
   "source": [
    "ss.sup_Re.min(), ss.sup_Re.max(), ss.ink_Re.min(), ss.ink_Re.max()"
   ]
  },
  {
   "cell_type": "markdown",
   "id": "1d7cff80",
   "metadata": {},
   "source": [
    "## regression tables"
   ]
  },
  {
   "cell_type": "code",
   "execution_count": null,
   "id": "3c5fd757",
   "metadata": {
    "tags": []
   },
   "outputs": [],
   "source": [
    "xsregs = mp.regressionTable(ss, 'xs_aspect', nickname = 'cross-section aspect ratio', logy=True, printOut=True, export=True)\n",
    "varlist = [('vert_meanTN', 'normalized vertical line thickness'), \n",
    "           ('vert_hN', 'normalized vertical line length')]\n",
    "vertregs = [mp.regressionTable(ss, i[0], nickname=i[1], logy=False, export=True, printOut=True) for i in varlist]\n",
    "varlist = [('horiz_totlenN', 'normalized horizontal line total length', False),\n",
    "           ('horiz_maxlenN', 'normalized horizontal line max segment length', False),\n",
    "          ('horiz_segments_manual', 'number of horizontal line segments', False),\n",
    "           ('horiz_roughness', 'horizontal line roughness', False)]\n",
    "horizregs = [mp.regressionTable(ss, i[0], nickname=i[1], export=True, printOut=True, logy=i[2]) for i in varlist]\n",
    "mp.regressionTable(vs, 'projectionN', nickname='projection into bath', export=True, printOut=True, logy=False)"
   ]
  },
  {
   "cell_type": "code",
   "execution_count": null,
   "id": "38bed429",
   "metadata": {},
   "outputs": [],
   "source": [
    "mp.regressionTable(vs[vs.wetting==1], 'vertDispBotN', tag='wetting', nickname='bottom position with wetting', export=True, printOut=False, logy=False);\n",
    "mp.regressionTable(vs[vs.wetting==0], 'vertDispBotN', tag='nonwetting', nickname='bottom position without wetting', export=True, printOut=False, logy=False);"
   ]
  }
 ],
 "metadata": {
  "kernelspec": {
   "display_name": "Python 3",
   "language": "python",
   "name": "python3"
  },
  "language_info": {
   "codemirror_mode": {
    "name": "ipython",
    "version": 3
   },
   "file_extension": ".py",
   "mimetype": "text/x-python",
   "name": "python",
   "nbconvert_exporter": "python",
   "pygments_lexer": "ipython3",
   "version": "3.8.3"
  }
 },
 "nbformat": 4,
 "nbformat_minor": 5
}
