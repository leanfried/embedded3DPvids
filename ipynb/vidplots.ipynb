{
 "cells": [
  {
   "cell_type": "markdown",
   "id": "23598778",
   "metadata": {},
   "source": [
    "# Plotting data from videos\n",
    "Leanne Friedrich 5/22/21"
   ]
  },
  {
   "cell_type": "markdown",
   "id": "26cacf1a",
   "metadata": {},
   "source": [
    "## initialization"
   ]
  },
  {
   "cell_type": "code",
   "execution_count": null,
   "id": "45d9734e",
   "metadata": {
    "tags": []
   },
   "outputs": [],
   "source": [
    "%load_ext autoreload\n",
    "%autoreload 2\n",
    "LOGGERDEFINED = False"
   ]
  },
  {
   "cell_type": "code",
   "execution_count": null,
   "id": "e7467a3a",
   "metadata": {
    "tags": []
   },
   "outputs": [],
   "source": [
    "import os\n",
    "import sys\n",
    "sys.path.append(\"../\")\n",
    "import py.fileHandling as fh\n",
    "from py.config import cfg\n",
    "import py.logs as logs\n",
    "import py.vidplots as vp\n",
    "import pandas as pd\n",
    "LOGGERDEFINED = logs.openLog('vidplots.ipynb', LOGGERDEFINED, level='DEBUG', exportLog=False)\n",
    "IMFOLDER = os.path.join(cfg.path.fig, 'images')"
   ]
  },
  {
   "cell_type": "code",
   "execution_count": null,
   "id": "9e3724a4",
   "metadata": {
    "tags": []
   },
   "outputs": [],
   "source": [
    "horizCloseCropDefault = {'x0':400, 'xf':600, 'y0':400, 'yf':600}\n",
    "vertCloseCropDefault = {'x0':60, 'xf':210, 'y0':350, 'yf':500}\n",
    "xsFigDefault = 'xs2_raw_0'\n",
    "xsVidCropDefault = {'x0':160, 'y0':240, 'w':300}\n",
    "dates = pd.DataFrame([{'folder':r'vels LapRD LapRD 1day\\I_2.75_S_2.75', 'dates':['210824', '210921']\n",
    "              , 'horizCloseCrop':{'x0':600, 'xf':800, 'y0':300, 'yf':500}\n",
    "              , 'horizCrop':{'x0':50, 'xf':1050, 'y0':50, 'yf':820}\n",
    "             , 'xsCrop': {'x0':400, 'y0':300, 'w':450}, 'xsFig': xsFigDefault\n",
    "             , 'xsVidCrop': xsVidCropDefault\n",
    "            , 'vertCloseCrop':vertCloseCropDefault\n",
    "                      },\n",
    "         {'folder':r'vels LapRD LapRD 1day\\I_3.50_S_2.50', 'dates':['210929']\n",
    "              , 'horizCloseCrop':{'x0':600, 'xf':800, 'y0':300, 'yf':500}\n",
    "             , 'horizCrop':{'x0':50, 'xf':1050, 'y0':50, 'yf':820}\n",
    "             , 'xsCrop':  {'x0':400, 'y0':300, 'w':400}, 'xsFig': xsFigDefault\n",
    "             , 'xsVidCrop': xsVidCropDefault\n",
    "            , 'vertCloseCrop':vertCloseCropDefault\n",
    "         }, \n",
    "        {'folder':r'vels LapRD LapRD 1day\\I_3.00_S_3.00', 'dates':['211109']\n",
    "              , 'horizCloseCrop':{'x0':520, 'xf':790, 'y0':320, 'yf':590}\n",
    "             , 'horizCrop':{'x0':50, 'xf':1050, 'y0':50, 'yf':820}\n",
    "             , 'xsCrop':  {'x0':400, 'y0':420, 'w':770}, 'xsFig': 'xs2'\n",
    "             , 'xsVidCrop': xsVidCropDefault\n",
    "            , 'vertCloseCrop':vertCloseCropDefault\n",
    "         }, \n",
    "         {'folder':'LapRD LapRD 1day', 'dates':['210728','210727']\n",
    "              , 'horizCloseCrop':{'x0':600, 'xf':800, 'y0':330, 'yf':530}\n",
    "             , 'horizCrop':{'x0':100, 'xf':1050, 'y0':80, 'yf':850}\n",
    "             , 'xsCrop':  {'x0':350, 'y0':400, 'w':450}, 'xsFig': xsFigDefault\n",
    "             , 'xsVidCrop': xsVidCropDefault\n",
    "            , 'vertCloseCrop':vertCloseCropDefault\n",
    "         },\n",
    "         {'folder':'PEGDA LapRD', 'dates':['210630']\n",
    "              , 'horizCloseCrop':{'x0':300, 'xf':500, 'y0':300, 'yf':500}\n",
    "             , 'horizCrop':{'x0':50, 'xf':950, 'y0':80, 'yf':790}\n",
    "             , 'xsCrop':  {'x0':400, 'y0':420, 'w':770}, 'xsFig': 'xs2'\n",
    "             , 'xsVidCrop': {'x0':150, 'y0':240, 'w':300}\n",
    "            , 'vertCloseCrop':vertCloseCropDefault\n",
    "         },\n",
    "         {'folder':'PEGDA LapRD', 'dates':['211006']\n",
    "              , 'horizCloseCrop':{'x0':300, 'xf':500, 'y0':300, 'yf':500}\n",
    "             , 'horizCrop':{'x0':50, 'xf':950, 'y0':80, 'yf':790}\n",
    "             , 'xsCrop':  {'x0':400, 'y0':420, 'w':770}, 'xsFig': 'xs2'\n",
    "             , 'xsVidCrop':{'x0':150, 'y0':240, 'w':300}\n",
    "            , 'vertCloseCrop':vertCloseCropDefault\n",
    "         },\n",
    "         {'folder':r'vels mineral LapRD\\I_M6_S_3.00', 'dates':['210824']\n",
    "              , 'horizCloseCrop':{'x0':400, 'xf':600, 'y0':300, 'yf':500}\n",
    "             , 'horizCrop':{'x0':50, 'xf':1050, 'y0':80, 'yf':790}\n",
    "             , 'xsCrop':  {'x0':350, 'y0':320, 'w':400}, 'xsFig': xsFigDefault\n",
    "             , 'xsVidCrop': xsVidCropDefault\n",
    "            , 'vertCloseCrop':vertCloseCropDefault\n",
    "         },\n",
    "         {'folder':r'vels mineral LapRD\\I_M5_S_3.00', 'dates':['211005']\n",
    "              , 'horizCloseCrop':{'x0':400, 'xf':600, 'y0':300, 'yf':500}\n",
    "             , 'horizCrop':{'x0':50, 'xf':1050, 'y0':80, 'yf':790}\n",
    "             , 'xsCrop':  {'x0':350, 'y0':320, 'w':400}, 'xsFig': xsFigDefault\n",
    "             , 'xsVidCrop': xsVidCropDefault\n",
    "            , 'vertCloseCrop':vertCloseCropDefault\n",
    "         },\n",
    "         {'folder':'mineral812 LapRD', 'dates':['210921']\n",
    "#             {'folder':'mineral812 LapRD', 'dates':['210519']\n",
    "              , 'horizCloseCrop':{'x0':500, 'xf':700, 'y0':300, 'yf':500}\n",
    "             , 'horizCrop':{'x0':50, 'xf':1050, 'y0':50, 'yf':840}\n",
    "             , 'xsCrop':  {'x0':400, 'y0':320, 'w':600}, 'xsFig': xsFigDefault\n",
    "             , 'xsVidCrop': xsVidCropDefault\n",
    "            , 'vertCloseCrop':vertCloseCropDefault\n",
    "         },\n",
    "         {'folder':'mineral812S LapRDT', 'dates':['211005']\n",
    "#         {'folder':'mineral812S LapRDT', 'dates':['210922']\n",
    "              , 'horizCloseCrop':{'x0':400, 'xf':600, 'y0':300, 'yf':500}\n",
    "             , 'horizCrop':{'x0':50, 'xf':1050, 'y0':50, 'yf':820}\n",
    "             , 'xsCrop':  {'x0':350, 'y0':320, 'w':450}, 'xsFig': xsFigDefault\n",
    "             , 'xsVidCrop': xsVidCropDefault\n",
    "            , 'vertCloseCrop':vertCloseCropDefault\n",
    "         },\n",
    "         {'folder':'PDMSM LapRD', 'dates':['210630']\n",
    "              , 'horizCloseCrop':{'x0':400, 'xf':600, 'y0':300, 'yf':500}\n",
    "             , 'horizCrop':{'x0':50, 'xf':950, 'y0':80, 'yf':790}\n",
    "             , 'xsCrop': {'x0':400, 'y0':500, 'w':600}, 'xsFig': xsFigDefault\n",
    "             , 'xsVidCrop': xsVidCropDefault\n",
    "            , 'vertCloseCrop':vertCloseCropDefault\n",
    "         },\n",
    "         {'folder':'PDMSS LapRD', 'dates':['210713']\n",
    "              , 'horizCloseCrop':{'x0':400, 'xf':600, 'y0':300, 'yf':500}\n",
    "             , 'horizCrop':{'x0':100, 'xf':950, 'y0':80, 'yf':770}\n",
    "             , 'xsCrop':   {'x0':400, 'y0':400, 'w':500}, 'xsFig': xsFigDefault\n",
    "             , 'xsVidCrop': xsVidCropDefault\n",
    "            , 'vertCloseCrop':vertCloseCropDefault\n",
    "         }\n",
    "        ])"
   ]
  },
  {
   "cell_type": "code",
   "execution_count": null,
   "id": "2d7c1691",
   "metadata": {
    "tags": []
   },
   "outputs": [],
   "source": [
    "def horizCloseUp(d:pd.Series, showFig:bool=False, export:bool=True, overlay:dict={'shape':'circle', 'dx':0.4, 'dy':-0.4}):\n",
    "    tag = 'horizfull'\n",
    "    f = os.path.join(cfg.path.server, 'singleLines', d['folder'])\n",
    "    kwargs = {'showFig':showFig, 'export':export, 'overlay':overlay}\n",
    "    kwargs['crops'] = d['horizCloseCrop']\n",
    "    if 'vels' in d['folder']:\n",
    "        kwargs['vname'] = 'v'\n",
    "    return vp.picPlots0(f, IMFOLDER, d['dates'], tag, overwrite=True, zoom='close', **kwargs)"
   ]
  },
  {
   "cell_type": "code",
   "execution_count": null,
   "id": "0631ceef",
   "metadata": {
    "tags": []
   },
   "outputs": [],
   "source": [
    "def vertCloseUp(d:pd.Series, showFig:bool=False, export:bool=True, overlay:dict={'shape':'circle', 'dx':0.4, 'dy':-0.4}):\n",
    "    tag = 'vert2'\n",
    "    f = os.path.join(cfg.path.server, 'singleLines', d['folder'])\n",
    "    kwargs = {'showFig':showFig, 'export':export, 'overlay':overlay}\n",
    "    kwargs['crops'] = d['vertCloseCrop']\n",
    "    if 'vels' in d['folder']:\n",
    "        kwargs['vname'] = 'v'\n",
    "    return vp.picPlots0(f, IMFOLDER, d['dates'], tag, overwrite=True, zoom='close', **kwargs)"
   ]
  },
  {
   "cell_type": "code",
   "execution_count": null,
   "id": "c4e5ca44",
   "metadata": {
    "tags": []
   },
   "outputs": [],
   "source": [
    "def horiz(d:pd.Series, showFig:bool=False, export:bool=True, dy:float=0.65):\n",
    "    tag = 'horizfull'\n",
    "    f = os.path.join(cfg.path.server, 'singleLines', d['folder'])\n",
    "    kwargs = {'showFig':showFig, 'export':export}\n",
    "    kwargs['crops'] = d['horizCrop']\n",
    "    if 'vels' in d['folder']:\n",
    "        kwargs['vname'] = 'v'\n",
    "    if float(d['dates'][0][:6])>=210929:\n",
    "        w = 21\n",
    "    else:\n",
    "        w = 17\n",
    "    return vp.picPlots0(f, IMFOLDER, d['dates'], tag,overwrite=True, overlay={'shape':'rectangle', 'dy':dy, 'w':w}, **kwargs)"
   ]
  },
  {
   "cell_type": "code",
   "execution_count": null,
   "id": "b95dd2bd",
   "metadata": {
    "tags": []
   },
   "outputs": [],
   "source": [
    "def horizVid(d:pd.Series, showFig:bool=False, export:bool=True\n",
    "             , crops:dict={'x0':200, 'xf':800, 'y0':0, 'yf':600}\n",
    "             , overlay:dict={'shape':'rectangle', 'dx':0.4, 'dy':-0.4, 'w':0.15}):\n",
    "    tag = 'vid_horiz1'\n",
    "    f = os.path.join(cfg.path.server, 'singleLines', d['folder'])\n",
    "    kwargs = {'showFig':showFig, 'export':export}\n",
    "    kwargs['crops'] = crops\n",
    "    kwargs['overlay'] = overlay\n",
    "    if 'vels' in d['folder']:\n",
    "        kwargs['vname'] = 'v'\n",
    "    return vp.picPlots0(f, IMFOLDER, d['dates'], tag,overwrite=True, **kwargs)"
   ]
  },
  {
   "cell_type": "code",
   "execution_count": null,
   "id": "517f2df6",
   "metadata": {
    "tags": []
   },
   "outputs": [],
   "source": [
    "def xs(d:pd.Series, showFig:bool=False, export:bool=True):\n",
    "    tag = d['xsFig']\n",
    "    f = os.path.join(cfg.path.server, 'singleLines', d['folder'])\n",
    "    kwargs = {'showFig':showFig, 'export':export}\n",
    "    x0 = d['xsCrop']['x0']\n",
    "    w = d['xsCrop']['w']\n",
    "    y0 = d['xsCrop']['y0']\n",
    "    kwargs['crops'] = {'x0':x0-w/2, 'xf':x0+w/2, 'y0':y0-w/2, 'yf':y0+w/2}\n",
    "    if 'vels' in d['folder']:\n",
    "        kwargs['vname'] = 'v'\n",
    "    return vp.picPlots0(f, IMFOLDER, d['dates'], tag,overwrite=True, overlay={'shape':'circle', 'dx':0.4, 'dy':-0.4},  **kwargs)"
   ]
  },
  {
   "cell_type": "code",
   "execution_count": null,
   "id": "43147537",
   "metadata": {
    "tags": []
   },
   "outputs": [],
   "source": [
    "def xsVid(d:pd.Series, showFig:bool=False, export:bool=True):\n",
    "    f = os.path.join(cfg.path.server, 'singleLines', d['folder'])\n",
    "    kwargs = {'showFig':showFig, 'export':export}\n",
    "    kwargs['crops'] = [{},{}]\n",
    "    x0 = d['xsVidCrop']['x0']\n",
    "    w = d['xsVidCrop']['w']\n",
    "    h = d['xsCrop']['w']\n",
    "    y0 = d['xsVidCrop']['y0']\n",
    "    kwargs['crops'][0] = {'x0':-330, 'xf':-70, 'y0':max(0,y0-h/2), 'yf':y0+h/2}\n",
    "    x0 = d['xsCrop']['x0']\n",
    "    w = d['xsCrop']['w']*0.6\n",
    "    h = d['xsCrop']['w']\n",
    "    y0 = d['xsCrop']['y0']\n",
    "    kwargs['crops'][1] = {'x0':max(0,x0-w/2), 'xf':x0+w/2, 'y0':max(0,y0-h/2), 'yf':y0+h/2}\n",
    "    if 'vels' in d['folder']:\n",
    "        kwargs['vname'] = 'v'\n",
    "    return vp.picPlots0(f, IMFOLDER, d['dates'], ['vid_xs2', 'xs2'],overwrite=True, overlay={'shape':'circle', 'dx':0.4, 'dy':0.4}, **kwargs)"
   ]
  },
  {
   "cell_type": "code",
   "execution_count": null,
   "id": "32d0d886",
   "metadata": {
    "tags": []
   },
   "outputs": [],
   "source": [
    "def vert(d:pd.Series, showFig:bool=False, export:bool=True):\n",
    "    tag = ['vert4','vert3','vert2', 'vert1']\n",
    "    f = os.path.join(cfg.path.server, 'singleLines', d['folder'])\n",
    "    kwargs = {'showFig':showFig, 'export':export}\n",
    "    kwargs['crops'] = {'x0':50, 'xf':260, 'y0':50, 'yf':1100}\n",
    "    if 'vels' in d['folder']:\n",
    "        kwargs['vname'] = 'v'\n",
    "    if float(d['dates'][0][:6])>=210929:\n",
    "        h = 14\n",
    "    else:\n",
    "        h = 10\n",
    "    return vp.picPlots0(f, IMFOLDER, d['dates'], tag, overwrite=True, overlay={'shape':'rectangle', 'dx':0.6, 'h':h}, **kwargs)"
   ]
  },
  {
   "cell_type": "code",
   "execution_count": null,
   "id": "73e67d67",
   "metadata": {
    "tags": []
   },
   "outputs": [],
   "source": [
    "def vertVid(d:pd.Series, showFig:bool=False, export:bool=True):\n",
    "    tag = ['vid_vert2_40','vert2_raw_3']\n",
    "    f = os.path.join(cfg.path.server, 'singleLines', d['folder'])\n",
    "    kwargs = {'showFig':showFig, 'export':export}\n",
    "    if 'vels' in d['folder']:\n",
    "        kwargs['vname'] = 'v'\n",
    "    w = 330\n",
    "    kwargs['crops'] = [{'x0':0, 'xf':w, 'y0':0, 'yf':590}, {'x0':400-w/2, 'xf':400+w/2, 'y0':5, 'yf':595}]\n",
    "    return vp.picPlots0(f, IMFOLDER, d['dates'], tag, overwrite=True, overlay={'shape':'rectangle', 'dy':-0.5, 'dx':0.4, 'h':0.2, 'color':'white'}, **kwargs)"
   ]
  },
  {
   "cell_type": "code",
   "execution_count": null,
   "id": "45be68fc",
   "metadata": {},
   "outputs": [],
   "source": [
    "def allGrids(d):\n",
    "    horizCloseUp(d)\n",
    "    horiz(d)\n",
    "    horizVid(d)\n",
    "    xs(d)\n",
    "    xsVid(d)\n",
    "    vert(d)\n",
    "    vertVid(d)"
   ]
  },
  {
   "cell_type": "code",
   "execution_count": null,
   "id": "f0fa4021",
   "metadata": {},
   "outputs": [],
   "source": [
    "dates.folder"
   ]
  },
  {
   "cell_type": "code",
   "execution_count": null,
   "id": "286333d7",
   "metadata": {
    "tags": []
   },
   "outputs": [],
   "source": [
    "horizCloseUp(dates.loc[2])"
   ]
  },
  {
   "cell_type": "code",
   "execution_count": null,
   "id": "e00937bb",
   "metadata": {},
   "outputs": [],
   "source": [
    "for i,d in dates.iterrows():\n",
    "    horizCloseUp(d)"
   ]
  },
  {
   "cell_type": "code",
   "execution_count": null,
   "id": "c9608e27",
   "metadata": {},
   "outputs": [],
   "source": [
    "for i,d in dates.iterrows():\n",
    "    horiz(d)"
   ]
  },
  {
   "cell_type": "code",
   "execution_count": null,
   "id": "d1ce6294",
   "metadata": {
    "tags": []
   },
   "outputs": [],
   "source": [
    "for i,d in dates.iterrows():\n",
    "    horizVid(d)"
   ]
  },
  {
   "cell_type": "code",
   "execution_count": null,
   "id": "8f651562",
   "metadata": {
    "tags": []
   },
   "outputs": [],
   "source": [
    "for i,d in dates.iterrows():\n",
    "    xs(d)"
   ]
  },
  {
   "cell_type": "code",
   "execution_count": null,
   "id": "545d828b",
   "metadata": {
    "tags": []
   },
   "outputs": [],
   "source": [
    "for i,d in dates.iterrows():\n",
    "    xsVid(d)"
   ]
  },
  {
   "cell_type": "code",
   "execution_count": null,
   "id": "e602be5e",
   "metadata": {
    "tags": []
   },
   "outputs": [],
   "source": [
    "for i,d in dates.iterrows():\n",
    "    vert(d)"
   ]
  },
  {
   "cell_type": "code",
   "execution_count": null,
   "id": "ba02a5af",
   "metadata": {
    "tags": []
   },
   "outputs": [],
   "source": [
    "for i,d in dates.iterrows():\n",
    "    vertCloseUp(d)"
   ]
  },
  {
   "cell_type": "code",
   "execution_count": null,
   "id": "6dacf791",
   "metadata": {
    "tags": []
   },
   "outputs": [],
   "source": [
    "for i,d in dates.iterrows():\n",
    "    vertVid(d)"
   ]
  },
  {
   "cell_type": "code",
   "execution_count": null,
   "id": "755df3f8",
   "metadata": {
    "tags": []
   },
   "outputs": [],
   "source": [
    "vert(dates.loc[3])"
   ]
  },
  {
   "cell_type": "code",
   "execution_count": null,
   "id": "ee8f8552",
   "metadata": {
    "tags": []
   },
   "outputs": [],
   "source": [
    "fig = horizVid({'folder':r'PEGDA LapRD\\I_PEG10_S_2.25\\I_PEG10_S_2.25_210630', 'dates':['210630']\n",
    "         }, export=False, crops={'x0':250, 'xf':800, 'y0':100, 'yf':400}, overlay={'shape':'rectangle', 'dx':-0.48, 'dy':-0.15, 'w':0.15}, showFig=True)\n",
    "vp.exportIm(os.path.join(cfg.path.fig, 'figures','I_PEG10_S_2.25_210630_horizvid' ), fig)\n",
    "fig = horizVid({'folder':r'PEGDA LapRD\\I_PEG5_S_3.00\\I_PEG5_S_3.00_210630', 'dates':['210630']\n",
    "         }, export=False, crops={'x0':250, 'xf':800, 'y0':100, 'yf':400}, overlay={'shape':'rectangle', 'dx':-0.48, 'dy':-0.15, 'w':0.15}, showFig=True)\n",
    "vp.exportIm(os.path.join(cfg.path.fig, 'figures','I_PEG5_S_3.00_210630_horizvid' ), fig)"
   ]
  },
  {
   "cell_type": "code",
   "execution_count": null,
   "id": "ce23c9a1",
   "metadata": {
    "tags": []
   },
   "outputs": [],
   "source": [
    "fig = horizCloseUp({'folder':r'LapRD LapRD 1day\\I_2.75_S_3.50', 'dates':['210727'], 'horizCloseCrop':{'x0':500, 'xf':800, 'y0':400, 'yf':500}\n",
    "         }, export=False, showFig=True, overlay={'shape':'circle', 'dx':0.4, 'dy':0.1})\n",
    "vp.exportIm(os.path.join(cfg.path.fig, 'figures','I_2.75_S_3.50_horizclose' ), fig)\n",
    "fig = horizCloseUp({'folder':r'LapRD LapRD 1day\\I_3.50_S_2.25', 'dates':['210727'], 'horizCloseCrop':{'x0':500, 'xf':800, 'y0':370, 'yf':470}\n",
    "         }, export=False, showFig=True, overlay={'shape':'circle', 'dx':0.4, 'dy':0.1})\n",
    "vp.exportIm(os.path.join(cfg.path.fig, 'figures','I_3.50_S_2.25_horizclose' ), fig)\n",
    "fig = horizCloseUp({'folder':r'mineral812 LapRD\\I_M5_S_4.00', 'dates':['210921'], 'horizCloseCrop':{'x0':500, 'xf':800, 'y0':370, 'yf':470}\n",
    "         }, export=False, showFig=True, overlay={'shape':'circle', 'dx':0.4, 'dy':0.1})\n",
    "vp.exportIm(os.path.join(cfg.path.fig, 'figures','I_M5_S_4.00_horizclose' ), fig)\n",
    "fig = horizCloseUp({'folder':r'mineral812 LapRD\\I_M9_S_2.75', 'dates':['210921'], 'horizCloseCrop':{'x0':500, 'xf':800, 'y0':370, 'yf':470}\n",
    "         }, export=False, showFig=True, overlay={'shape':'circle', 'dx':0.4, 'dy':0.1})\n",
    "vp.exportIm(os.path.join(cfg.path.fig, 'figures','I_M9_S_2.75_horizclose' ), fig)"
   ]
  },
  {
   "cell_type": "code",
   "execution_count": null,
   "id": "c4d81040",
   "metadata": {
    "tags": []
   },
   "outputs": [],
   "source": [
    "d = {'folder':r'vels mineral LapRD\\I_M5_S_3.00\\I_M5_S_3.00_VI_2.5_VS_5_211005'\n",
    "    , 'dates':['211005']\n",
    "     , 'horizCrop':{'x0':0, 'xf':-1, 'y0':380, 'yf':500}\n",
    "         }\n",
    "fig = horiz(d, export=False, showFig=True, dy=0.04)\n",
    "vp.exportIm(os.path.join(cfg.path.server, 'singleLines', d['folder'],'line2'), fig)"
   ]
  },
  {
   "cell_type": "code",
   "execution_count": null,
   "id": "0981b3dd",
   "metadata": {
    "tags": []
   },
   "outputs": [],
   "source": [
    "d = {'folder':r'vels mineral LapRD\\I_M6_S_3.00\\I_M6_S_3.00_VI_2.5_VS_5_210824'\n",
    "    , 'dates':['210824']\n",
    "     , 'horizCrop':{'x0':0, 'xf':-1, 'y0':380, 'yf':500}\n",
    "         }\n",
    "fig = horiz(d, export=False, showFig=True, dy=0.04)\n",
    "vp.exportIm(os.path.join(cfg.path.server, 'singleLines', d['folder'],'line2'), fig)"
   ]
  }
 ],
 "metadata": {
  "kernelspec": {
   "display_name": "Python 3",
   "language": "python",
   "name": "python3"
  },
  "language_info": {
   "codemirror_mode": {
    "name": "ipython",
    "version": 3
   },
   "file_extension": ".py",
   "mimetype": "text/x-python",
   "name": "python",
   "nbconvert_exporter": "python",
   "pygments_lexer": "ipython3",
   "version": "3.8.3"
  }
 },
 "nbformat": 4,
 "nbformat_minor": 5
}
