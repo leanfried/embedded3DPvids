{
 "cells": [
  {
   "cell_type": "markdown",
   "id": "4737504b",
   "metadata": {},
   "source": [
    "# Plotting data from videos\n",
    "Leanne Friedrich 5/22/21"
   ]
  },
  {
   "cell_type": "markdown",
   "id": "12090a7b",
   "metadata": {},
   "source": [
    "## initialization"
   ]
  },
  {
   "cell_type": "code",
   "execution_count": 3,
   "id": "6b110451",
   "metadata": {},
   "outputs": [],
   "source": [
    "%load_ext autoreload\n",
    "%autoreload 2\n",
    "LOGGERDEFINED = False"
   ]
  },
  {
   "cell_type": "code",
   "execution_count": 4,
   "id": "18f749dd",
   "metadata": {},
   "outputs": [],
   "source": [
    "import os\n",
    "import sys\n",
    "sys.path.append(\"../\")\n",
    "import py.fileHandling as fh\n",
    "from py.config import cfg\n",
    "import py.logs as logs\n",
    "import py.vidplots as vp\n",
    "import pandas as pd\n",
    "LOGGERDEFINED = logs.openLog('vidplots.ipynb', LOGGERDEFINED, level='DEBUG', exportLog=False)\n",
    "IMFOLDER = os.path.join(cfg.path.fig, 'images')"
   ]
  },
  {
   "cell_type": "code",
   "execution_count": 212,
   "id": "26ef7753",
   "metadata": {},
   "outputs": [],
   "source": [
    "horizCloseCropDefault = {'x0':400, 'xf':600, 'y0':400, 'yf':600}\n",
    "xsFigDefault = 'xs2_raw_0'\n",
    "xsVidCropDefault = {'x0':160, 'y0':240, 'w':300}\n",
    "dates = pd.DataFrame([{'folder':r'vels LapRD LapRD 1day\\I_2.75_S_2.75', 'dates':['210824', '210921']\n",
    "              , 'horizCloseCrop':{'x0':600, 'xf':800, 'y0':300, 'yf':500}\n",
    "              , 'horizCrop':{'x0':50, 'xf':1050, 'y0':50, 'yf':820}\n",
    "             , 'xsCrop': {'x0':400, 'y0':300, 'w':450}, 'xsFig': xsFigDefault\n",
    "             , 'xsVidCrop': xsVidCropDefault\n",
    "                      },\n",
    "         {'folder':r'vels LapRD LapRD 1day\\I_3.50_S_2.50', 'dates':['210929']\n",
    "              , 'horizCloseCrop':{'x0':600, 'xf':800, 'y0':300, 'yf':500}\n",
    "             , 'horizCrop':{'x0':50, 'xf':1050, 'y0':50, 'yf':820}\n",
    "             , 'xsCrop':  {'x0':400, 'y0':300, 'w':400}, 'xsFig': xsFigDefault\n",
    "             , 'xsVidCrop': xsVidCropDefault\n",
    "         }, \n",
    "         {'folder':'LapRD LapRD 1day', 'dates':['210728v1', '210728','210727']\n",
    "              , 'horizCloseCrop':{'x0':600, 'xf':800, 'y0':330, 'yf':530}\n",
    "             , 'horizCrop':{'x0':100, 'xf':1050, 'y0':80, 'yf':850}\n",
    "             , 'xsCrop':  {'x0':350, 'y0':400, 'w':450}, 'xsFig': xsFigDefault\n",
    "             , 'xsVidCrop': xsVidCropDefault\n",
    "         },\n",
    "         {'folder':'PEGDA LapRD', 'dates':['210630']\n",
    "              , 'horizCloseCrop':{'x0':300, 'xf':500, 'y0':300, 'yf':500}\n",
    "             , 'horizCrop':{'x0':50, 'xf':950, 'y0':80, 'yf':790}\n",
    "             , 'xsCrop':  {'x0':400, 'y0':420, 'w':770}, 'xsFig': 'xs2'\n",
    "             , 'xsVidCrop': {'x0':150, 'y0':240, 'w':300}\n",
    "         },\n",
    "         {'folder':'PEGDA LapRD', 'dates':['211006']\n",
    "              , 'horizCloseCrop':{'x0':300, 'xf':500, 'y0':300, 'yf':500}\n",
    "             , 'horizCrop':{'x0':50, 'xf':950, 'y0':80, 'yf':790}\n",
    "             , 'xsCrop':  {'x0':400, 'y0':420, 'w':770}, 'xsFig': 'xs2'\n",
    "             , 'xsVidCrop':{'x0':150, 'y0':240, 'w':300}\n",
    "         },\n",
    "         {'folder':r'vels mineral LapRD\\I_M6_S_3.00', 'dates':['210824']\n",
    "              , 'horizCloseCrop':{'x0':400, 'xf':600, 'y0':300, 'yf':500}\n",
    "             , 'horizCrop':{'x0':50, 'xf':1050, 'y0':80, 'yf':790}\n",
    "             , 'xsCrop':  {'x0':350, 'y0':320, 'w':400}, 'xsFig': xsFigDefault\n",
    "             , 'xsVidCrop': xsVidCropDefault\n",
    "         },\n",
    "         {'folder':r'vels mineral LapRD\\I_M5_S_3.00', 'dates':['211005']\n",
    "              , 'horizCloseCrop':{'x0':400, 'xf':600, 'y0':300, 'yf':500}\n",
    "             , 'horizCrop':{'x0':50, 'xf':1050, 'y0':80, 'yf':790}\n",
    "             , 'xsCrop':  {'x0':350, 'y0':320, 'w':400}, 'xsFig': xsFigDefault\n",
    "             , 'xsVidCrop': xsVidCropDefault\n",
    "         },\n",
    "         {'folder':'mineral812 LapRD', 'dates':['210921']\n",
    "              , 'horizCloseCrop':{'x0':500, 'xf':700, 'y0':300, 'yf':500}\n",
    "             , 'horizCrop':{'x0':50, 'xf':1050, 'y0':50, 'yf':840}\n",
    "             , 'xsCrop':  {'x0':400, 'y0':320, 'w':600}, 'xsFig': xsFigDefault\n",
    "             , 'xsVidCrop': xsVidCropDefault\n",
    "         },\n",
    "         {'folder':'mineral812S LapRDT', 'dates':['211005']\n",
    "              , 'horizCloseCrop':{'x0':400, 'xf':600, 'y0':300, 'yf':500}\n",
    "             , 'horizCrop':{'x0':50, 'xf':1050, 'y0':50, 'yf':820}\n",
    "             , 'xsCrop':  {'x0':350, 'y0':320, 'w':450}, 'xsFig': xsFigDefault\n",
    "             , 'xsVidCrop': xsVidCropDefault\n",
    "         },\n",
    "         {'folder':'PDMSM LapRD', 'dates':['210630']\n",
    "              , 'horizCloseCrop':{'x0':400, 'xf':600, 'y0':300, 'yf':500}\n",
    "             , 'horizCrop':{'x0':50, 'xf':950, 'y0':80, 'yf':790}\n",
    "             , 'xsCrop': {'x0':400, 'y0':500, 'w':600}, 'xsFig': xsFigDefault\n",
    "             , 'xsVidCrop': xsVidCropDefault\n",
    "         },\n",
    "         {'folder':'PDMSS LapRD', 'dates':['210713']\n",
    "              , 'horizCloseCrop':{'x0':400, 'xf':600, 'y0':300, 'yf':500}\n",
    "             , 'horizCrop':{'x0':100, 'xf':950, 'y0':80, 'yf':770}\n",
    "             , 'xsCrop':   {'x0':400, 'y0':400, 'w':500}, 'xsFig': xsFigDefault\n",
    "             , 'xsVidCrop': xsVidCropDefault\n",
    "         }\n",
    "        ])"
   ]
  },
  {
   "cell_type": "code",
   "execution_count": 27,
   "id": "14fb8cb2",
   "metadata": {},
   "outputs": [],
   "source": [
    "def horizCloseUp(d:pd.Series, showFig:bool=False):\n",
    "    tag = 'horizfull'\n",
    "    f = os.path.join(cfg.path.server, 'singleLines', d['folder'])\n",
    "    kwargs = {}\n",
    "    kwargs['crops'] = d['horizCloseCrop']\n",
    "    if 'vels' in d['folder']:\n",
    "        kwargs['vname'] = 'v'\n",
    "    vp.picPlots0(f, IMFOLDER, d['dates'], tag,overwrite=True, overlay={'shape':'circle', 'dx':0.4, 'dy':-0.4}, zoom='close', showFig=showFig, **kwargs)"
   ]
  },
  {
   "cell_type": "code",
   "execution_count": 7,
   "id": "5751fe24",
   "metadata": {},
   "outputs": [],
   "source": [
    "def horiz(d:pd.Series, showFig:bool=False):\n",
    "    tag = 'horizfull'\n",
    "    f = os.path.join(cfg.path.server, 'singleLines', d['folder'])\n",
    "    kwargs = {}\n",
    "    kwargs['crops'] = d['horizCrop']\n",
    "    if 'vels' in d['folder']:\n",
    "        kwargs['vname'] = 'v'\n",
    "    if float(d['dates'][0][:6])>=210929:\n",
    "        w = 21\n",
    "    else:\n",
    "        w = 17\n",
    "    vp.picPlots0(f, IMFOLDER, d['dates'], tag,overwrite=True, overlay={'shape':'rectangle', 'dy':0.65, 'w':w}, showFig=showFig, **kwargs)"
   ]
  },
  {
   "cell_type": "code",
   "execution_count": 78,
   "id": "d52f17ba",
   "metadata": {},
   "outputs": [],
   "source": [
    "def xs(d:pd.Series, showFig:bool=False):\n",
    "    tag = d['xsFig']\n",
    "    f = os.path.join(cfg.path.server, 'singleLines', d['folder'])\n",
    "    kwargs = {}\n",
    "    x0 = d['xsCrop']['x0']\n",
    "    w = d['xsCrop']['w']\n",
    "    y0 = d['xsCrop']['y0']\n",
    "    kwargs['crops'] = {'x0':x0-w/2, 'xf':x0+w/2, 'y0':y0-w/2, 'yf':y0+w/2}\n",
    "    if 'vels' in d['folder']:\n",
    "        kwargs['vname'] = 'v'\n",
    "    vp.picPlots0(f, IMFOLDER, d['dates'], tag,overwrite=True, overlay={'shape':'circle', 'dx':0.4, 'dy':-0.4}, showFig=showFig, **kwargs)"
   ]
  },
  {
   "cell_type": "code",
   "execution_count": 180,
   "id": "8938a777",
   "metadata": {},
   "outputs": [],
   "source": [
    "def vidxs(d:pd.Series, showFig:bool=False):\n",
    "    f = os.path.join(cfg.path.server, 'singleLines', d['folder'])\n",
    "    kwargs = {}\n",
    "    kwargs['crops'] = [{},{}]\n",
    "    x0 = d['xsCrop']['x0']\n",
    "    w = d['xsCrop']['w']/2\n",
    "    h = d['xsCrop']['w']\n",
    "    y0 = d['xsCrop']['y0']\n",
    "    kwargs['crops'][0] = {'x0':max(0,x0-w/2), 'xf':x0+w/2, 'y0':max(0,y0-h/2), 'yf':y0+h/2}\n",
    "    x0 = d['xsVidCrop']['x0']\n",
    "    w = d['xsVidCrop']['w']\n",
    "    h = d['xsCrop']['w']\n",
    "    y0 = d['xsVidCrop']['y0']\n",
    "    kwargs['crops'][1] = {'x0':max(0,x0-w/2), 'xf':x0+w/2, 'y0':max(0,y0-h/2), 'yf':y0+h/2}\n",
    "    if 'vels' in d['folder']:\n",
    "        kwargs['vname'] = 'v'\n",
    "    vp.picPlots0(f, IMFOLDER, d['dates'], ['xs2', 'vid_xs2'],overwrite=True, overlay={'shape':'circle', 'dx':0.4, 'dy':0.4}, showFig=showFig, **kwargs)"
   ]
  },
  {
   "cell_type": "code",
   "execution_count": 80,
   "id": "cf127b11",
   "metadata": {},
   "outputs": [],
   "source": [
    "def vert(d:pd.Series, showFig:bool=False):\n",
    "    tag = ['vert1','vert2','vert3', 'vert4']\n",
    "    f = os.path.join(cfg.path.server, 'singleLines', d['folder'])\n",
    "    kwargs = {}\n",
    "    kwargs['crops'] = {'x0':50, 'xf':260, 'y0':50, 'yf':1100}\n",
    "    if 'vels' in d['folder']:\n",
    "        kwargs['vname'] = 'v'\n",
    "    if float(d['dates'][0][:6])>=210929:\n",
    "        h = 14\n",
    "    else:\n",
    "        h = 10\n",
    "    vp.picPlots0(f, IMFOLDER, d['dates'], tag, overwrite=True, overlay={'shape':'rectangle', 'dx':0.6, 'h':h}, showFig=showFig, **kwargs)"
   ]
  },
  {
   "cell_type": "code",
   "execution_count": 10,
   "id": "eb732165",
   "metadata": {},
   "outputs": [
    {
     "data": {
      "text/plain": [
       "0     vels LapRD LapRD 1day\\I_2.75_S_2.75\n",
       "1     vels LapRD LapRD 1day\\I_3.50_S_2.50\n",
       "2                        LapRD LapRD 1day\n",
       "3                             PEGDA LapRD\n",
       "4                             PEGDA LapRD\n",
       "5          vels mineral LapRD\\I_M6_S_3.00\n",
       "6          vels mineral LapRD\\I_M5_S_3.00\n",
       "7                        mineral812 LapRD\n",
       "8                      mineral812S LapRDT\n",
       "9                             PDMSM LapRD\n",
       "10                            PDMSS LapRD\n",
       "Name: folder, dtype: object"
      ]
     },
     "execution_count": 10,
     "metadata": {},
     "output_type": "execute_result"
    }
   ],
   "source": [
    "dates.folder"
   ]
  },
  {
   "cell_type": "code",
   "execution_count": 32,
   "id": "e9743efd",
   "metadata": {},
   "outputs": [
    {
     "name": "stdout",
     "output_type": "stream",
     "text": [
      "Exported  C:/Users/lmf1/OneDriveNIST/NIST/data/shopbot/results\\images\\I_2.75_S_2.75\\horizfull_I_2.75_S_2.75_dates_210824_zoom_close_vname_v\n",
      "Exported  C:/Users/lmf1/OneDriveNIST/NIST/data/shopbot/results\\images\\I_3.50_S_2.50\\horizfull_I_3.50_S_2.50_dates_210929_zoom_close_vname_v\n",
      "Exported  C:/Users/lmf1/OneDriveNIST/NIST/data/shopbot/results\\images\\LapRD LapRD 1day\\horizfull_LapRD LapRD 1day_dates_210728v1_zoom_close\n",
      "Exported  C:/Users/lmf1/OneDriveNIST/NIST/data/shopbot/results\\images\\PEGDA LapRD\\horizfull_PEGDA LapRD_dates_210630_zoom_close\n",
      "Exported  C:/Users/lmf1/OneDriveNIST/NIST/data/shopbot/results\\images\\PEGDA LapRD\\horizfull_PEGDA LapRD_dates_211006_zoom_close\n",
      "Exported  C:/Users/lmf1/OneDriveNIST/NIST/data/shopbot/results\\images\\I_M6_S_3.00\\horizfull_I_M6_S_3.00_dates_210824_zoom_close_vname_v\n",
      "Exported  C:/Users/lmf1/OneDriveNIST/NIST/data/shopbot/results\\images\\I_M5_S_3.00\\horizfull_I_M5_S_3.00_dates_211005_zoom_close_vname_v\n",
      "Exported  C:/Users/lmf1/OneDriveNIST/NIST/data/shopbot/results\\images\\mineral812 LapRD\\horizfull_mineral812 LapRD_dates_210921_zoom_close\n",
      "Exported  C:/Users/lmf1/OneDriveNIST/NIST/data/shopbot/results\\images\\mineral812S LapRDT\\horizfull_mineral812S LapRDT_dates_211005_zoom_close\n",
      "Exported  C:/Users/lmf1/OneDriveNIST/NIST/data/shopbot/results\\images\\PDMSM LapRD\\horizfull_PDMSM LapRD_dates_210630_zoom_close\n",
      "Exported  C:/Users/lmf1/OneDriveNIST/NIST/data/shopbot/results\\images\\PDMSS LapRD\\horizfull_PDMSS LapRD_dates_210713_zoom_close\n"
     ]
    }
   ],
   "source": [
    "for i,d in dates.iterrows():\n",
    "    horizCloseUp(d)"
   ]
  },
  {
   "cell_type": "code",
   "execution_count": 52,
   "id": "6df9a46e",
   "metadata": {},
   "outputs": [
    {
     "name": "stdout",
     "output_type": "stream",
     "text": [
      "Exported  C:/Users/lmf1/OneDriveNIST/NIST/data/shopbot/results\\images\\I_2.75_S_2.75\\horizfull_I_2.75_S_2.75_dates_210824_vname_v\n",
      "Exported  C:/Users/lmf1/OneDriveNIST/NIST/data/shopbot/results\\images\\I_3.50_S_2.50\\horizfull_I_3.50_S_2.50_dates_210929_vname_v\n",
      "Exported  C:/Users/lmf1/OneDriveNIST/NIST/data/shopbot/results\\images\\LapRD LapRD 1day\\horizfull_LapRD LapRD 1day_dates_210728v1\n",
      "Exported  C:/Users/lmf1/OneDriveNIST/NIST/data/shopbot/results\\images\\PEGDA LapRD\\horizfull_PEGDA LapRD_dates_210630\n",
      "Exported  C:/Users/lmf1/OneDriveNIST/NIST/data/shopbot/results\\images\\PEGDA LapRD\\horizfull_PEGDA LapRD_dates_211006\n",
      "Exported  C:/Users/lmf1/OneDriveNIST/NIST/data/shopbot/results\\images\\I_M6_S_3.00\\horizfull_I_M6_S_3.00_dates_210824_vname_v\n",
      "Exported  C:/Users/lmf1/OneDriveNIST/NIST/data/shopbot/results\\images\\I_M5_S_3.00\\horizfull_I_M5_S_3.00_dates_211005_vname_v\n",
      "Exported  C:/Users/lmf1/OneDriveNIST/NIST/data/shopbot/results\\images\\mineral812 LapRD\\horizfull_mineral812 LapRD_dates_210921\n",
      "Exported  C:/Users/lmf1/OneDriveNIST/NIST/data/shopbot/results\\images\\mineral812S LapRDT\\horizfull_mineral812S LapRDT_dates_211005\n",
      "Exported  C:/Users/lmf1/OneDriveNIST/NIST/data/shopbot/results\\images\\PDMSM LapRD\\horizfull_PDMSM LapRD_dates_210630\n",
      "Exported  C:/Users/lmf1/OneDriveNIST/NIST/data/shopbot/results\\images\\PDMSS LapRD\\horizfull_PDMSS LapRD_dates_210713\n"
     ]
    }
   ],
   "source": [
    "for i,d in dates.iterrows():\n",
    "    horiz(d)"
   ]
  },
  {
   "cell_type": "code",
   "execution_count": 55,
   "id": "6c8f2910",
   "metadata": {},
   "outputs": [
    {
     "name": "stdout",
     "output_type": "stream",
     "text": [
      "Exported  C:/Users/lmf1/OneDriveNIST/NIST/data/shopbot/results\\images\\I_2.75_S_2.75\\xs2_raw_0_I_2.75_S_2.75_dates_210824_vname_v\n",
      "Exported  C:/Users/lmf1/OneDriveNIST/NIST/data/shopbot/results\\images\\I_3.50_S_2.50\\xs2_raw_0_I_3.50_S_2.50_dates_210929_vname_v\n",
      "Exported  C:/Users/lmf1/OneDriveNIST/NIST/data/shopbot/results\\images\\LapRD LapRD 1day\\xs2_raw_0_LapRD LapRD 1day_dates_210728v1\n",
      "Exported  C:/Users/lmf1/OneDriveNIST/NIST/data/shopbot/results\\images\\PEGDA LapRD\\xs2_PEGDA LapRD_dates_210630\n",
      "Exported  C:/Users/lmf1/OneDriveNIST/NIST/data/shopbot/results\\images\\PEGDA LapRD\\xs2_PEGDA LapRD_dates_211006\n",
      "Exported  C:/Users/lmf1/OneDriveNIST/NIST/data/shopbot/results\\images\\I_M6_S_3.00\\xs2_raw_0_I_M6_S_3.00_dates_210824_vname_v\n",
      "Exported  C:/Users/lmf1/OneDriveNIST/NIST/data/shopbot/results\\images\\I_M5_S_3.00\\xs2_raw_0_I_M5_S_3.00_dates_211005_vname_v\n",
      "Exported  C:/Users/lmf1/OneDriveNIST/NIST/data/shopbot/results\\images\\mineral812 LapRD\\xs2_raw_0_mineral812 LapRD_dates_210921\n",
      "Exported  C:/Users/lmf1/OneDriveNIST/NIST/data/shopbot/results\\images\\mineral812S LapRDT\\xs2_raw_0_mineral812S LapRDT_dates_211005\n",
      "Exported  C:/Users/lmf1/OneDriveNIST/NIST/data/shopbot/results\\images\\PDMSM LapRD\\xs2_raw_0_PDMSM LapRD_dates_210630\n",
      "Exported  C:/Users/lmf1/OneDriveNIST/NIST/data/shopbot/results\\images\\PDMSS LapRD\\xs2_raw_0_PDMSS LapRD_dates_210713\n"
     ]
    }
   ],
   "source": [
    "for i,d in dates.iterrows():\n",
    "    xs(d)"
   ]
  },
  {
   "cell_type": "code",
   "execution_count": 211,
   "id": "bdc2a9ce",
   "metadata": {},
   "outputs": [
    {
     "name": "stdout",
     "output_type": "stream",
     "text": [
      "Exported  C:/Users/lmf1/OneDriveNIST/NIST/data/shopbot/results\\images\\I_2.75_S_2.75\\xs2vid_xs2_I_2.75_S_2.75_dates_210824_vname_v\n",
      "Exported  C:/Users/lmf1/OneDriveNIST/NIST/data/shopbot/results\\images\\I_3.50_S_2.50\\xs2vid_xs2_I_3.50_S_2.50_dates_210929_vname_v\n",
      "Exported  C:/Users/lmf1/OneDriveNIST/NIST/data/shopbot/results\\images\\LapRD LapRD 1day\\xs2vid_xs2_LapRD LapRD 1day_dates_210728v1\n",
      "Exported  C:/Users/lmf1/OneDriveNIST/NIST/data/shopbot/results\\images\\PEGDA LapRD\\xs2vid_xs2_PEGDA LapRD_dates_210630\n",
      "Exported  C:/Users/lmf1/OneDriveNIST/NIST/data/shopbot/results\\images\\PEGDA LapRD\\xs2vid_xs2_PEGDA LapRD_dates_211006\n",
      "Exported  C:/Users/lmf1/OneDriveNIST/NIST/data/shopbot/results\\images\\I_M6_S_3.00\\xs2vid_xs2_I_M6_S_3.00_dates_210824_vname_v\n",
      "Exported  C:/Users/lmf1/OneDriveNIST/NIST/data/shopbot/results\\images\\I_M5_S_3.00\\xs2vid_xs2_I_M5_S_3.00_dates_211005_vname_v\n",
      "Exported  C:/Users/lmf1/OneDriveNIST/NIST/data/shopbot/results\\images\\mineral812 LapRD\\xs2vid_xs2_mineral812 LapRD_dates_210921\n",
      "Exported  C:/Users/lmf1/OneDriveNIST/NIST/data/shopbot/results\\images\\mineral812S LapRDT\\xs2vid_xs2_mineral812S LapRDT_dates_211005\n",
      "Exported  C:/Users/lmf1/OneDriveNIST/NIST/data/shopbot/results\\images\\PDMSM LapRD\\xs2vid_xs2_PDMSM LapRD_dates_210630\n",
      "Exported  C:/Users/lmf1/OneDriveNIST/NIST/data/shopbot/results\\images\\PDMSS LapRD\\xs2vid_xs2_PDMSS LapRD_dates_210713\n"
     ]
    }
   ],
   "source": [
    "for i,d in dates.iterrows():\n",
    "    vidxs(d)"
   ]
  },
  {
   "cell_type": "code",
   "execution_count": 59,
   "id": "82deb629",
   "metadata": {},
   "outputs": [
    {
     "name": "stdout",
     "output_type": "stream",
     "text": [
      "Exported  C:/Users/lmf1/OneDriveNIST/NIST/data/shopbot/results\\images\\I_2.75_S_2.75\\vert1vert2vert3vert4_I_2.75_S_2.75_dates_210824_vname_v\n",
      "Exported  C:/Users/lmf1/OneDriveNIST/NIST/data/shopbot/results\\images\\I_3.50_S_2.50\\vert1vert2vert3vert4_I_3.50_S_2.50_dates_210929_vname_v\n",
      "Exported  C:/Users/lmf1/OneDriveNIST/NIST/data/shopbot/results\\images\\LapRD LapRD 1day\\vert1vert2vert3vert4_LapRD LapRD 1day_dates_210728v1\n",
      "Exported  C:/Users/lmf1/OneDriveNIST/NIST/data/shopbot/results\\images\\PEGDA LapRD\\vert1vert2vert3vert4_PEGDA LapRD_dates_210630\n",
      "Exported  C:/Users/lmf1/OneDriveNIST/NIST/data/shopbot/results\\images\\PEGDA LapRD\\vert1vert2vert3vert4_PEGDA LapRD_dates_211006\n",
      "Exported  C:/Users/lmf1/OneDriveNIST/NIST/data/shopbot/results\\images\\I_M6_S_3.00\\vert1vert2vert3vert4_I_M6_S_3.00_dates_210824_vname_v\n",
      "Exported  C:/Users/lmf1/OneDriveNIST/NIST/data/shopbot/results\\images\\I_M5_S_3.00\\vert1vert2vert3vert4_I_M5_S_3.00_dates_211005_vname_v\n",
      "Exported  C:/Users/lmf1/OneDriveNIST/NIST/data/shopbot/results\\images\\mineral812 LapRD\\vert1vert2vert3vert4_mineral812 LapRD_dates_210921\n",
      "Exported  C:/Users/lmf1/OneDriveNIST/NIST/data/shopbot/results\\images\\mineral812S LapRDT\\vert1vert2vert3vert4_mineral812S LapRDT_dates_211005\n",
      "Exported  C:/Users/lmf1/OneDriveNIST/NIST/data/shopbot/results\\images\\PDMSM LapRD\\vert1vert2vert3vert4_PDMSM LapRD_dates_210630\n",
      "Exported  C:/Users/lmf1/OneDriveNIST/NIST/data/shopbot/results\\images\\PDMSS LapRD\\vert1vert2vert3vert4_PDMSS LapRD_dates_210713\n"
     ]
    }
   ],
   "source": [
    "for i,d in dates.iterrows():\n",
    "    vert(d)"
   ]
  },
  {
   "cell_type": "code",
   "execution_count": 213,
   "id": "809b3b97",
   "metadata": {},
   "outputs": [
    {
     "name": "stdout",
     "output_type": "stream",
     "text": [
      "Exported  C:/Users/lmf1/OneDriveNIST/NIST/data/shopbot/results\\images\\mineral812S LapRDT\\xs2vid_xs2_mineral812S LapRDT_dates_211005\n"
     ]
    }
   ],
   "source": [
    "vidxs(dates.loc[8])"
   ]
  },
  {
   "cell_type": "code",
   "execution_count": null,
   "id": "bce108d3",
   "metadata": {},
   "outputs": [],
   "source": []
  }
 ],
 "metadata": {
  "kernelspec": {
   "display_name": "Python 3",
   "language": "python",
   "name": "python3"
  },
  "language_info": {
   "codemirror_mode": {
    "name": "ipython",
    "version": 3
   },
   "file_extension": ".py",
   "mimetype": "text/x-python",
   "name": "python",
   "nbconvert_exporter": "python",
   "pygments_lexer": "ipython3",
   "version": "3.7.7"
  }
 },
 "nbformat": 4,
 "nbformat_minor": 5
}
