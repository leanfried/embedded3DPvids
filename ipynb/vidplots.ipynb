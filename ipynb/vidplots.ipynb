{
 "cells": [
  {
   "cell_type": "markdown",
   "id": "0dd30d65",
   "metadata": {},
   "source": [
    "# Plotting data from videos\n",
    "Leanne Friedrich 5/22/21"
   ]
  },
  {
   "cell_type": "markdown",
   "id": "72158141",
   "metadata": {},
   "source": [
    "## initialization"
   ]
  },
  {
   "cell_type": "code",
   "execution_count": 44,
   "id": "0e34c27f",
   "metadata": {},
   "outputs": [
    {
     "name": "stdout",
     "output_type": "stream",
     "text": [
      "The autoreload extension is already loaded. To reload it, use:\n",
      "  %reload_ext autoreload\n"
     ]
    }
   ],
   "source": [
    "%load_ext autoreload\n",
    "%autoreload 2\n",
    "LOGGERDEFINED = False"
   ]
  },
  {
   "cell_type": "code",
   "execution_count": 45,
   "id": "d686824b",
   "metadata": {},
   "outputs": [],
   "source": [
    "import os\n",
    "import sys\n",
    "sys.path.append(\"../\")\n",
    "import py.fileHandling as fh\n",
    "from py.config import cfg\n",
    "import py.logs as logs\n",
    "import py.vidplots as vp\n",
    "import pandas as pd\n",
    "LOGGERDEFINED = logs.openLog('vidplots.ipynb', LOGGERDEFINED, level='DEBUG', exportLog=False)\n",
    "IMFOLDER = os.path.join(cfg.path.fig, 'images')"
   ]
  },
  {
   "cell_type": "code",
   "execution_count": 104,
   "id": "b1601ed7",
   "metadata": {},
   "outputs": [],
   "source": [
    "horizCloseCropDefault = {'x0':400, 'xf':600, 'y0':400, 'yf':600}\n",
    "xsFigDefault = 'xs2_raw_0'\n",
    "xsVidCropDefault = {'x0':160, 'y0':240, 'w':300}\n",
    "dates = pd.DataFrame([{'folder':r'vels LapRD LapRD 1day\\I_2.75_S_2.75', 'dates':['210824', '210921']\n",
    "              , 'horizCloseCrop':{'x0':600, 'xf':800, 'y0':300, 'yf':500}\n",
    "              , 'horizCrop':{'x0':50, 'xf':1050, 'y0':50, 'yf':820}\n",
    "             , 'xsCrop': {'x0':400, 'y0':300, 'w':450}, 'xsFig': xsFigDefault\n",
    "             , 'xsVidCrop': xsVidCropDefault\n",
    "                      },\n",
    "         {'folder':r'vels LapRD LapRD 1day\\I_3.50_S_2.50', 'dates':['210929']\n",
    "              , 'horizCloseCrop':{'x0':600, 'xf':800, 'y0':300, 'yf':500}\n",
    "             , 'horizCrop':{'x0':50, 'xf':1050, 'y0':50, 'yf':820}\n",
    "             , 'xsCrop':  {'x0':400, 'y0':300, 'w':400}, 'xsFig': xsFigDefault\n",
    "             , 'xsVidCrop': xsVidCropDefault\n",
    "         }, \n",
    "        {'folder':r'vels LapRD LapRD 1day\\I_3.00_S_3.00', 'dates':['211109']\n",
    "              , 'horizCloseCrop':{'x0':600, 'xf':800, 'y0':300, 'yf':500}\n",
    "             , 'horizCrop':{'x0':50, 'xf':1050, 'y0':50, 'yf':820}\n",
    "             , 'xsCrop':  {'x0':400, 'y0':420, 'w':770}, 'xsFig': 'xs2'\n",
    "             , 'xsVidCrop': xsVidCropDefault\n",
    "         }, \n",
    "         {'folder':'LapRD LapRD 1day', 'dates':['210728','210727']\n",
    "              , 'horizCloseCrop':{'x0':600, 'xf':800, 'y0':330, 'yf':530}\n",
    "             , 'horizCrop':{'x0':100, 'xf':1050, 'y0':80, 'yf':850}\n",
    "             , 'xsCrop':  {'x0':350, 'y0':400, 'w':450}, 'xsFig': xsFigDefault\n",
    "             , 'xsVidCrop': xsVidCropDefault\n",
    "         },\n",
    "         {'folder':'PEGDA LapRD', 'dates':['210630']\n",
    "              , 'horizCloseCrop':{'x0':300, 'xf':500, 'y0':300, 'yf':500}\n",
    "             , 'horizCrop':{'x0':50, 'xf':950, 'y0':80, 'yf':790}\n",
    "             , 'xsCrop':  {'x0':400, 'y0':420, 'w':770}, 'xsFig': 'xs2'\n",
    "             , 'xsVidCrop': {'x0':150, 'y0':240, 'w':300}\n",
    "         },\n",
    "         {'folder':'PEGDA LapRD', 'dates':['211006']\n",
    "              , 'horizCloseCrop':{'x0':300, 'xf':500, 'y0':300, 'yf':500}\n",
    "             , 'horizCrop':{'x0':50, 'xf':950, 'y0':80, 'yf':790}\n",
    "             , 'xsCrop':  {'x0':400, 'y0':420, 'w':770}, 'xsFig': 'xs2'\n",
    "             , 'xsVidCrop':{'x0':150, 'y0':240, 'w':300}\n",
    "         },\n",
    "         {'folder':r'vels mineral LapRD\\I_M6_S_3.00', 'dates':['210824']\n",
    "              , 'horizCloseCrop':{'x0':400, 'xf':600, 'y0':300, 'yf':500}\n",
    "             , 'horizCrop':{'x0':50, 'xf':1050, 'y0':80, 'yf':790}\n",
    "             , 'xsCrop':  {'x0':350, 'y0':320, 'w':400}, 'xsFig': xsFigDefault\n",
    "             , 'xsVidCrop': xsVidCropDefault\n",
    "         },\n",
    "         {'folder':r'vels mineral LapRD\\I_M5_S_3.00', 'dates':['211005']\n",
    "              , 'horizCloseCrop':{'x0':400, 'xf':600, 'y0':300, 'yf':500}\n",
    "             , 'horizCrop':{'x0':50, 'xf':1050, 'y0':80, 'yf':790}\n",
    "             , 'xsCrop':  {'x0':350, 'y0':320, 'w':400}, 'xsFig': xsFigDefault\n",
    "             , 'xsVidCrop': xsVidCropDefault\n",
    "         },\n",
    "         {'folder':'mineral812 LapRD', 'dates':['210921']\n",
    "              , 'horizCloseCrop':{'x0':500, 'xf':700, 'y0':300, 'yf':500}\n",
    "             , 'horizCrop':{'x0':50, 'xf':1050, 'y0':50, 'yf':840}\n",
    "             , 'xsCrop':  {'x0':400, 'y0':320, 'w':600}, 'xsFig': xsFigDefault\n",
    "             , 'xsVidCrop': xsVidCropDefault\n",
    "         },\n",
    "         {'folder':'mineral812S LapRDT', 'dates':['211005']\n",
    "              , 'horizCloseCrop':{'x0':400, 'xf':600, 'y0':300, 'yf':500}\n",
    "             , 'horizCrop':{'x0':50, 'xf':1050, 'y0':50, 'yf':820}\n",
    "             , 'xsCrop':  {'x0':350, 'y0':320, 'w':450}, 'xsFig': xsFigDefault\n",
    "             , 'xsVidCrop': xsVidCropDefault\n",
    "         },\n",
    "         {'folder':'PDMSM LapRD', 'dates':['210630']\n",
    "              , 'horizCloseCrop':{'x0':400, 'xf':600, 'y0':300, 'yf':500}\n",
    "             , 'horizCrop':{'x0':50, 'xf':950, 'y0':80, 'yf':790}\n",
    "             , 'xsCrop': {'x0':400, 'y0':500, 'w':600}, 'xsFig': xsFigDefault\n",
    "             , 'xsVidCrop': xsVidCropDefault\n",
    "         },\n",
    "         {'folder':'PDMSS LapRD', 'dates':['210713']\n",
    "              , 'horizCloseCrop':{'x0':400, 'xf':600, 'y0':300, 'yf':500}\n",
    "             , 'horizCrop':{'x0':100, 'xf':950, 'y0':80, 'yf':770}\n",
    "             , 'xsCrop':   {'x0':400, 'y0':400, 'w':500}, 'xsFig': xsFigDefault\n",
    "             , 'xsVidCrop': xsVidCropDefault\n",
    "         }\n",
    "        ])"
   ]
  },
  {
   "cell_type": "code",
   "execution_count": 59,
   "id": "d9fb2c94",
   "metadata": {},
   "outputs": [],
   "source": [
    "def horizCloseUp(d:pd.Series, showFig:bool=False):\n",
    "    tag = 'horizfull'\n",
    "    f = os.path.join(cfg.path.server, 'singleLines', d['folder'])\n",
    "    kwargs = {}\n",
    "    kwargs['crops'] = d['horizCloseCrop']\n",
    "    if 'vels' in d['folder']:\n",
    "        kwargs['vname'] = 'v'\n",
    "    vp.picPlots0(f, IMFOLDER, d['dates'], tag,overwrite=True, overlay={'shape':'circle', 'dx':0.4, 'dy':-0.4}, zoom='close', showFig=showFig, **kwargs)"
   ]
  },
  {
   "cell_type": "code",
   "execution_count": 60,
   "id": "a636161e",
   "metadata": {},
   "outputs": [],
   "source": [
    "def horiz(d:pd.Series, showFig:bool=False):\n",
    "    tag = 'horizfull'\n",
    "    f = os.path.join(cfg.path.server, 'singleLines', d['folder'])\n",
    "    kwargs = {}\n",
    "    kwargs['crops'] = d['horizCrop']\n",
    "    if 'vels' in d['folder']:\n",
    "        kwargs['vname'] = 'v'\n",
    "    if float(d['dates'][0][:6])>=210929:\n",
    "        w = 21\n",
    "    else:\n",
    "        w = 17\n",
    "    vp.picPlots0(f, IMFOLDER, d['dates'], tag,overwrite=True, overlay={'shape':'rectangle', 'dy':0.65, 'w':w}, showFig=showFig, **kwargs)"
   ]
  },
  {
   "cell_type": "code",
   "execution_count": 61,
   "id": "f73bbd2c",
   "metadata": {},
   "outputs": [],
   "source": [
    "def horizVid(d:pd.Series, showFig:bool=False):\n",
    "    tag = 'vid_horiz1'\n",
    "    f = os.path.join(cfg.path.server, 'singleLines', d['folder'])\n",
    "    kwargs = {}\n",
    "    kwargs['crops'] = {'x0':200, 'xf':800, 'y0':0, 'yf':600}\n",
    "    if 'vels' in d['folder']:\n",
    "        kwargs['vname'] = 'v'\n",
    "    vp.picPlots0(f, IMFOLDER, d['dates'], tag,overwrite=True, overlay={'shape':'rectangle', 'dx':0.4, 'dy':-0.4, 'w':0.15}, showFig=showFig, **kwargs)"
   ]
  },
  {
   "cell_type": "code",
   "execution_count": 62,
   "id": "997eadee",
   "metadata": {},
   "outputs": [],
   "source": [
    "def xs(d:pd.Series, showFig:bool=False):\n",
    "    tag = d['xsFig']\n",
    "    f = os.path.join(cfg.path.server, 'singleLines', d['folder'])\n",
    "    kwargs = {}\n",
    "    x0 = d['xsCrop']['x0']\n",
    "    w = d['xsCrop']['w']\n",
    "    y0 = d['xsCrop']['y0']\n",
    "    kwargs['crops'] = {'x0':x0-w/2, 'xf':x0+w/2, 'y0':y0-w/2, 'yf':y0+w/2}\n",
    "    if 'vels' in d['folder']:\n",
    "        kwargs['vname'] = 'v'\n",
    "    vp.picPlots0(f, IMFOLDER, d['dates'], tag,overwrite=True, overlay={'shape':'circle', 'dx':0.4, 'dy':-0.4}, showFig=showFig, **kwargs)"
   ]
  },
  {
   "cell_type": "code",
   "execution_count": 63,
   "id": "c3b021d2",
   "metadata": {},
   "outputs": [],
   "source": [
    "def xsVid(d:pd.Series, showFig:bool=False):\n",
    "    f = os.path.join(cfg.path.server, 'singleLines', d['folder'])\n",
    "    kwargs = {}\n",
    "    kwargs['crops'] = [{},{}]\n",
    "    x0 = d['xsVidCrop']['x0']\n",
    "    w = d['xsVidCrop']['w']\n",
    "    h = d['xsCrop']['w']\n",
    "    y0 = d['xsVidCrop']['y0']\n",
    "    kwargs['crops'][0] = {'x0':-330, 'xf':-70, 'y0':max(0,y0-h/2), 'yf':y0+h/2}\n",
    "    x0 = d['xsCrop']['x0']\n",
    "    w = d['xsCrop']['w']*0.6\n",
    "    h = d['xsCrop']['w']\n",
    "    y0 = d['xsCrop']['y0']\n",
    "    kwargs['crops'][1] = {'x0':max(0,x0-w/2), 'xf':x0+w/2, 'y0':max(0,y0-h/2), 'yf':y0+h/2}\n",
    "    if 'vels' in d['folder']:\n",
    "        kwargs['vname'] = 'v'\n",
    "    vp.picPlots0(f, IMFOLDER, d['dates'], ['vid_xs2', 'xs2'],overwrite=True, overlay={'shape':'circle', 'dx':0.4, 'dy':0.4}, showFig=showFig, **kwargs)"
   ]
  },
  {
   "cell_type": "code",
   "execution_count": 64,
   "id": "19f673c8",
   "metadata": {},
   "outputs": [],
   "source": [
    "def vert(d:pd.Series, showFig:bool=False):\n",
    "    tag = ['vert1','vert2','vert3', 'vert4']\n",
    "    f = os.path.join(cfg.path.server, 'singleLines', d['folder'])\n",
    "    kwargs = {}\n",
    "    kwargs['crops'] = {'x0':50, 'xf':260, 'y0':50, 'yf':1100}\n",
    "    if 'vels' in d['folder']:\n",
    "        kwargs['vname'] = 'v'\n",
    "    if float(d['dates'][0][:6])>=210929:\n",
    "        h = 14\n",
    "    else:\n",
    "        h = 10\n",
    "    vp.picPlots0(f, IMFOLDER, d['dates'], tag, overwrite=True, overlay={'shape':'rectangle', 'dx':0.6, 'h':h}, showFig=showFig, **kwargs)"
   ]
  },
  {
   "cell_type": "code",
   "execution_count": 65,
   "id": "7f02837c",
   "metadata": {},
   "outputs": [],
   "source": [
    "def vertVid(d:pd.Series, showFig:bool=False):\n",
    "    tag = ['vid_vert2_40','vert2_raw_3']\n",
    "    f = os.path.join(cfg.path.server, 'singleLines', d['folder'])\n",
    "    kwargs = {}\n",
    "    if 'vels' in d['folder']:\n",
    "        kwargs['vname'] = 'v'\n",
    "    w = 330\n",
    "    kwargs['crops'] = [{'x0':0, 'xf':w, 'y0':0, 'yf':590}, {'x0':400-w/2, 'xf':400+w/2, 'y0':5, 'yf':595}]\n",
    "    vp.picPlots0(f, IMFOLDER, d['dates'], tag, overwrite=True, overlay={'shape':'rectangle', 'dy':-0.5, 'dx':0.4, 'h':0.2, 'color':'white'}, showFig=showFig, **kwargs)"
   ]
  },
  {
   "cell_type": "code",
   "execution_count": 106,
   "id": "1c0eec4d",
   "metadata": {},
   "outputs": [],
   "source": [
    "def allGrids(d):\n",
    "    horizCloseUp(d)\n",
    "    horiz(d)\n",
    "    horizVid(d)\n",
    "    xs(d)\n",
    "    xsVid(d)\n",
    "    vert(d)\n",
    "    vertVid(d)"
   ]
  },
  {
   "cell_type": "code",
   "execution_count": 108,
   "id": "20b2c8cd",
   "metadata": {},
   "outputs": [
    {
     "data": {
      "text/plain": [
       "0     vels LapRD LapRD 1day\\I_2.75_S_2.75\n",
       "1     vels LapRD LapRD 1day\\I_3.50_S_2.50\n",
       "2     vels LapRD LapRD 1day\\I_3.00_S_3.00\n",
       "3                        LapRD LapRD 1day\n",
       "4                             PEGDA LapRD\n",
       "5                             PEGDA LapRD\n",
       "6          vels mineral LapRD\\I_M6_S_3.00\n",
       "7          vels mineral LapRD\\I_M5_S_3.00\n",
       "8                        mineral812 LapRD\n",
       "9                      mineral812S LapRDT\n",
       "10                            PDMSM LapRD\n",
       "11                            PDMSS LapRD\n",
       "Name: folder, dtype: object"
      ]
     },
     "execution_count": 108,
     "metadata": {},
     "output_type": "execute_result"
    }
   ],
   "source": [
    "dates.folder"
   ]
  },
  {
   "cell_type": "code",
   "execution_count": 109,
   "id": "2e9c232e",
   "metadata": {},
   "outputs": [
    {
     "name": "stdout",
     "output_type": "stream",
     "text": [
      "Exported  C:/Users/lmf1/OneDriveNIST/NIST/data/shopbot/results\\images\\I_3.00_S_3.00\\horizfull_I_3.00_S_3.00_dates_211109_vname_v\n"
     ]
    }
   ],
   "source": [
    "horiz(dates.loc[2])"
   ]
  },
  {
   "cell_type": "code",
   "execution_count": 105,
   "id": "b8f36029",
   "metadata": {},
   "outputs": [
    {
     "name": "stdout",
     "output_type": "stream",
     "text": [
      "Exported  C:/Users/lmf1/OneDriveNIST/NIST/data/shopbot/results\\images\\LapRD LapRD 1day\\horizfull_LapRD LapRD 1day_dates_210728_zoom_close\n",
      "Exported  C:/Users/lmf1/OneDriveNIST/NIST/data/shopbot/results\\images\\LapRD LapRD 1day\\vid_horiz1_LapRD LapRD 1day_dates_210728\n",
      "Exported  C:/Users/lmf1/OneDriveNIST/NIST/data/shopbot/results\\images\\LapRD LapRD 1day\\xs2_raw_0_LapRD LapRD 1day_dates_210728\n",
      "Exported  C:/Users/lmf1/OneDriveNIST/NIST/data/shopbot/results\\images\\LapRD LapRD 1day\\vid_xs2xs2_LapRD LapRD 1day_dates_210728\n",
      "Exported  C:/Users/lmf1/OneDriveNIST/NIST/data/shopbot/results\\images\\LapRD LapRD 1day\\vert1vert2vert3vert4_LapRD LapRD 1day_dates_210728\n",
      "Exported  C:/Users/lmf1/OneDriveNIST/NIST/data/shopbot/results\\images\\LapRD LapRD 1day\\vid_vert2_40vert2_raw_3_LapRD LapRD 1day_dates_210728\n"
     ]
    }
   ],
   "source": [
    "allGrids(dates.loc[3])"
   ]
  },
  {
   "cell_type": "code",
   "execution_count": 22,
   "id": "491cbc9d",
   "metadata": {},
   "outputs": [
    {
     "name": "stdout",
     "output_type": "stream",
     "text": [
      "Exported  C:/Users/lmf1/OneDriveNIST/NIST/data/shopbot/results\\images\\I_2.75_S_2.75\\horizfull_I_2.75_S_2.75_dates_210824_zoom_close_vname_v\n",
      "Exported  C:/Users/lmf1/OneDriveNIST/NIST/data/shopbot/results\\images\\I_3.50_S_2.50\\horizfull_I_3.50_S_2.50_dates_210929_zoom_close_vname_v\n",
      "Exported  C:/Users/lmf1/OneDriveNIST/NIST/data/shopbot/results\\images\\LapRD LapRD 1day\\horizfull_LapRD LapRD 1day_dates_210728v1_zoom_close\n",
      "Exported  C:/Users/lmf1/OneDriveNIST/NIST/data/shopbot/results\\images\\PEGDA LapRD\\horizfull_PEGDA LapRD_dates_210630_zoom_close\n",
      "Exported  C:/Users/lmf1/OneDriveNIST/NIST/data/shopbot/results\\images\\PEGDA LapRD\\horizfull_PEGDA LapRD_dates_211006_zoom_close\n",
      "Exported  C:/Users/lmf1/OneDriveNIST/NIST/data/shopbot/results\\images\\I_M6_S_3.00\\horizfull_I_M6_S_3.00_dates_210824_zoom_close_vname_v\n",
      "Exported  C:/Users/lmf1/OneDriveNIST/NIST/data/shopbot/results\\images\\I_M5_S_3.00\\horizfull_I_M5_S_3.00_dates_211005_zoom_close_vname_v\n",
      "Exported  C:/Users/lmf1/OneDriveNIST/NIST/data/shopbot/results\\images\\mineral812 LapRD\\horizfull_mineral812 LapRD_dates_210921_zoom_close\n",
      "Exported  C:/Users/lmf1/OneDriveNIST/NIST/data/shopbot/results\\images\\mineral812S LapRDT\\horizfull_mineral812S LapRDT_dates_211005_zoom_close\n",
      "Exported  C:/Users/lmf1/OneDriveNIST/NIST/data/shopbot/results\\images\\PDMSM LapRD\\horizfull_PDMSM LapRD_dates_210630_zoom_close\n",
      "Exported  C:/Users/lmf1/OneDriveNIST/NIST/data/shopbot/results\\images\\PDMSS LapRD\\horizfull_PDMSS LapRD_dates_210713_zoom_close\n"
     ]
    }
   ],
   "source": [
    "for i,d in dates.iterrows():\n",
    "    horizCloseUp(d)"
   ]
  },
  {
   "cell_type": "code",
   "execution_count": 23,
   "id": "a0800c1e",
   "metadata": {},
   "outputs": [
    {
     "name": "stdout",
     "output_type": "stream",
     "text": [
      "Exported  C:/Users/lmf1/OneDriveNIST/NIST/data/shopbot/results\\images\\I_2.75_S_2.75\\horizfull_I_2.75_S_2.75_dates_210824_vname_v\n",
      "Exported  C:/Users/lmf1/OneDriveNIST/NIST/data/shopbot/results\\images\\I_3.50_S_2.50\\horizfull_I_3.50_S_2.50_dates_210929_vname_v\n",
      "Exported  C:/Users/lmf1/OneDriveNIST/NIST/data/shopbot/results\\images\\LapRD LapRD 1day\\horizfull_LapRD LapRD 1day_dates_210728v1\n",
      "Exported  C:/Users/lmf1/OneDriveNIST/NIST/data/shopbot/results\\images\\PEGDA LapRD\\horizfull_PEGDA LapRD_dates_210630\n",
      "Exported  C:/Users/lmf1/OneDriveNIST/NIST/data/shopbot/results\\images\\PEGDA LapRD\\horizfull_PEGDA LapRD_dates_211006\n",
      "Exported  C:/Users/lmf1/OneDriveNIST/NIST/data/shopbot/results\\images\\I_M6_S_3.00\\horizfull_I_M6_S_3.00_dates_210824_vname_v\n",
      "Exported  C:/Users/lmf1/OneDriveNIST/NIST/data/shopbot/results\\images\\I_M5_S_3.00\\horizfull_I_M5_S_3.00_dates_211005_vname_v\n",
      "Exported  C:/Users/lmf1/OneDriveNIST/NIST/data/shopbot/results\\images\\mineral812 LapRD\\horizfull_mineral812 LapRD_dates_210921\n",
      "Exported  C:/Users/lmf1/OneDriveNIST/NIST/data/shopbot/results\\images\\mineral812S LapRDT\\horizfull_mineral812S LapRDT_dates_211005\n",
      "Exported  C:/Users/lmf1/OneDriveNIST/NIST/data/shopbot/results\\images\\PDMSM LapRD\\horizfull_PDMSM LapRD_dates_210630\n",
      "Exported  C:/Users/lmf1/OneDriveNIST/NIST/data/shopbot/results\\images\\PDMSS LapRD\\horizfull_PDMSS LapRD_dates_210713\n"
     ]
    }
   ],
   "source": [
    "for i,d in dates.iterrows():\n",
    "    horiz(d)"
   ]
  },
  {
   "cell_type": "code",
   "execution_count": 24,
   "id": "ae4a8751",
   "metadata": {},
   "outputs": [
    {
     "name": "stdout",
     "output_type": "stream",
     "text": [
      "Exported  C:/Users/lmf1/OneDriveNIST/NIST/data/shopbot/results\\images\\I_2.75_S_2.75\\vid_horiz1_I_2.75_S_2.75_dates_210824_vname_v\n",
      "Exported  C:/Users/lmf1/OneDriveNIST/NIST/data/shopbot/results\\images\\I_3.50_S_2.50\\vid_horiz1_I_3.50_S_2.50_dates_210929_vname_v\n",
      "Exported  C:/Users/lmf1/OneDriveNIST/NIST/data/shopbot/results\\images\\LapRD LapRD 1day\\vid_horiz1_LapRD LapRD 1day_dates_210728v1\n",
      "Exported  C:/Users/lmf1/OneDriveNIST/NIST/data/shopbot/results\\images\\PEGDA LapRD\\vid_horiz1_PEGDA LapRD_dates_210630\n",
      "Exported  C:/Users/lmf1/OneDriveNIST/NIST/data/shopbot/results\\images\\PEGDA LapRD\\vid_horiz1_PEGDA LapRD_dates_211006\n",
      "Exported  C:/Users/lmf1/OneDriveNIST/NIST/data/shopbot/results\\images\\I_M6_S_3.00\\vid_horiz1_I_M6_S_3.00_dates_210824_vname_v\n",
      "Exported  C:/Users/lmf1/OneDriveNIST/NIST/data/shopbot/results\\images\\I_M5_S_3.00\\vid_horiz1_I_M5_S_3.00_dates_211005_vname_v\n",
      "Exported  C:/Users/lmf1/OneDriveNIST/NIST/data/shopbot/results\\images\\mineral812 LapRD\\vid_horiz1_mineral812 LapRD_dates_210921\n",
      "Exported  C:/Users/lmf1/OneDriveNIST/NIST/data/shopbot/results\\images\\mineral812S LapRDT\\vid_horiz1_mineral812S LapRDT_dates_211005\n",
      "Exported  C:/Users/lmf1/OneDriveNIST/NIST/data/shopbot/results\\images\\PDMSM LapRD\\vid_horiz1_PDMSM LapRD_dates_210630\n",
      "Exported  C:/Users/lmf1/OneDriveNIST/NIST/data/shopbot/results\\images\\PDMSS LapRD\\vid_horiz1_PDMSS LapRD_dates_210713\n"
     ]
    }
   ],
   "source": [
    "for i,d in dates.iterrows():\n",
    "    horizVid(d)"
   ]
  },
  {
   "cell_type": "code",
   "execution_count": 25,
   "id": "12df514f",
   "metadata": {},
   "outputs": [
    {
     "name": "stdout",
     "output_type": "stream",
     "text": [
      "Exported  C:/Users/lmf1/OneDriveNIST/NIST/data/shopbot/results\\images\\I_2.75_S_2.75\\xs2_raw_0_I_2.75_S_2.75_dates_210824_vname_v\n",
      "Exported  C:/Users/lmf1/OneDriveNIST/NIST/data/shopbot/results\\images\\I_3.50_S_2.50\\xs2_raw_0_I_3.50_S_2.50_dates_210929_vname_v\n",
      "Exported  C:/Users/lmf1/OneDriveNIST/NIST/data/shopbot/results\\images\\LapRD LapRD 1day\\xs2_raw_0_LapRD LapRD 1day_dates_210728v1\n",
      "Exported  C:/Users/lmf1/OneDriveNIST/NIST/data/shopbot/results\\images\\PEGDA LapRD\\xs2_PEGDA LapRD_dates_210630\n",
      "Exported  C:/Users/lmf1/OneDriveNIST/NIST/data/shopbot/results\\images\\PEGDA LapRD\\xs2_PEGDA LapRD_dates_211006\n",
      "Exported  C:/Users/lmf1/OneDriveNIST/NIST/data/shopbot/results\\images\\I_M6_S_3.00\\xs2_raw_0_I_M6_S_3.00_dates_210824_vname_v\n",
      "Exported  C:/Users/lmf1/OneDriveNIST/NIST/data/shopbot/results\\images\\I_M5_S_3.00\\xs2_raw_0_I_M5_S_3.00_dates_211005_vname_v\n",
      "Exported  C:/Users/lmf1/OneDriveNIST/NIST/data/shopbot/results\\images\\mineral812 LapRD\\xs2_raw_0_mineral812 LapRD_dates_210921\n",
      "Exported  C:/Users/lmf1/OneDriveNIST/NIST/data/shopbot/results\\images\\mineral812S LapRDT\\xs2_raw_0_mineral812S LapRDT_dates_211005\n",
      "Exported  C:/Users/lmf1/OneDriveNIST/NIST/data/shopbot/results\\images\\PDMSM LapRD\\xs2_raw_0_PDMSM LapRD_dates_210630\n",
      "Exported  C:/Users/lmf1/OneDriveNIST/NIST/data/shopbot/results\\images\\PDMSS LapRD\\xs2_raw_0_PDMSS LapRD_dates_210713\n"
     ]
    }
   ],
   "source": [
    "for i,d in dates.iterrows():\n",
    "    xs(d)"
   ]
  },
  {
   "cell_type": "code",
   "execution_count": 31,
   "id": "6bd3d80e",
   "metadata": {},
   "outputs": [
    {
     "name": "stdout",
     "output_type": "stream",
     "text": [
      "Exported  C:/Users/lmf1/OneDriveNIST/NIST/data/shopbot/results\\images\\I_2.75_S_2.75\\vid_xs2xs2_I_2.75_S_2.75_dates_210824_vname_v\n",
      "Exported  C:/Users/lmf1/OneDriveNIST/NIST/data/shopbot/results\\images\\I_3.50_S_2.50\\vid_xs2xs2_I_3.50_S_2.50_dates_210929_vname_v\n",
      "Exported  C:/Users/lmf1/OneDriveNIST/NIST/data/shopbot/results\\images\\LapRD LapRD 1day\\vid_xs2xs2_LapRD LapRD 1day_dates_210728v1\n",
      "Exported  C:/Users/lmf1/OneDriveNIST/NIST/data/shopbot/results\\images\\PEGDA LapRD\\vid_xs2xs2_PEGDA LapRD_dates_210630\n",
      "Exported  C:/Users/lmf1/OneDriveNIST/NIST/data/shopbot/results\\images\\PEGDA LapRD\\vid_xs2xs2_PEGDA LapRD_dates_211006\n",
      "Exported  C:/Users/lmf1/OneDriveNIST/NIST/data/shopbot/results\\images\\I_M6_S_3.00\\vid_xs2xs2_I_M6_S_3.00_dates_210824_vname_v\n",
      "Exported  C:/Users/lmf1/OneDriveNIST/NIST/data/shopbot/results\\images\\I_M5_S_3.00\\vid_xs2xs2_I_M5_S_3.00_dates_211005_vname_v\n",
      "Exported  C:/Users/lmf1/OneDriveNIST/NIST/data/shopbot/results\\images\\mineral812 LapRD\\vid_xs2xs2_mineral812 LapRD_dates_210921\n",
      "Exported  C:/Users/lmf1/OneDriveNIST/NIST/data/shopbot/results\\images\\mineral812S LapRDT\\vid_xs2xs2_mineral812S LapRDT_dates_211005\n",
      "Exported  C:/Users/lmf1/OneDriveNIST/NIST/data/shopbot/results\\images\\PDMSM LapRD\\vid_xs2xs2_PDMSM LapRD_dates_210630\n",
      "Exported  C:/Users/lmf1/OneDriveNIST/NIST/data/shopbot/results\\images\\PDMSS LapRD\\vid_xs2xs2_PDMSS LapRD_dates_210713\n"
     ]
    }
   ],
   "source": [
    "for i,d in dates.iterrows():\n",
    "    xsVid(d)"
   ]
  },
  {
   "cell_type": "code",
   "execution_count": 40,
   "id": "a94c933b",
   "metadata": {},
   "outputs": [
    {
     "name": "stdout",
     "output_type": "stream",
     "text": [
      "Exported  C:/Users/lmf1/OneDriveNIST/NIST/data/shopbot/results\\images\\I_2.75_S_2.75\\vert1vert2vert3vert4_I_2.75_S_2.75_dates_210824_vname_v\n",
      "Exported  C:/Users/lmf1/OneDriveNIST/NIST/data/shopbot/results\\images\\I_3.50_S_2.50\\vert1vert2vert3vert4_I_3.50_S_2.50_dates_210929_vname_v\n",
      "Exported  C:/Users/lmf1/OneDriveNIST/NIST/data/shopbot/results\\images\\LapRD LapRD 1day\\vert1vert2vert3vert4_LapRD LapRD 1day_dates_210728v1\n",
      "Exported  C:/Users/lmf1/OneDriveNIST/NIST/data/shopbot/results\\images\\PEGDA LapRD\\vert1vert2vert3vert4_PEGDA LapRD_dates_210630\n",
      "Exported  C:/Users/lmf1/OneDriveNIST/NIST/data/shopbot/results\\images\\PEGDA LapRD\\vert1vert2vert3vert4_PEGDA LapRD_dates_211006\n",
      "Exported  C:/Users/lmf1/OneDriveNIST/NIST/data/shopbot/results\\images\\I_M6_S_3.00\\vert1vert2vert3vert4_I_M6_S_3.00_dates_210824_vname_v\n",
      "Exported  C:/Users/lmf1/OneDriveNIST/NIST/data/shopbot/results\\images\\I_M5_S_3.00\\vert1vert2vert3vert4_I_M5_S_3.00_dates_211005_vname_v\n",
      "Exported  C:/Users/lmf1/OneDriveNIST/NIST/data/shopbot/results\\images\\mineral812 LapRD\\vert1vert2vert3vert4_mineral812 LapRD_dates_210921\n",
      "Exported  C:/Users/lmf1/OneDriveNIST/NIST/data/shopbot/results\\images\\mineral812S LapRDT\\vert1vert2vert3vert4_mineral812S LapRDT_dates_211005\n",
      "Exported  C:/Users/lmf1/OneDriveNIST/NIST/data/shopbot/results\\images\\PDMSM LapRD\\vert1vert2vert3vert4_PDMSM LapRD_dates_210630\n",
      "Exported  C:/Users/lmf1/OneDriveNIST/NIST/data/shopbot/results\\images\\PDMSS LapRD\\vert1vert2vert3vert4_PDMSS LapRD_dates_210713\n"
     ]
    }
   ],
   "source": [
    "for i,d in dates.iterrows():\n",
    "    vert(d)"
   ]
  },
  {
   "cell_type": "code",
   "execution_count": 43,
   "id": "9f6d20af",
   "metadata": {},
   "outputs": [
    {
     "name": "stdout",
     "output_type": "stream",
     "text": [
      "Exported  C:/Users/lmf1/OneDriveNIST/NIST/data/shopbot/results\\images\\I_2.75_S_2.75\\vid_vert2_40vert2_raw_3_I_2.75_S_2.75_dates_210824_vname_v\n",
      "Exported  C:/Users/lmf1/OneDriveNIST/NIST/data/shopbot/results\\images\\I_3.50_S_2.50\\vid_vert2_40vert2_raw_3_I_3.50_S_2.50_dates_210929_vname_v\n",
      "Exported  C:/Users/lmf1/OneDriveNIST/NIST/data/shopbot/results\\images\\LapRD LapRD 1day\\vid_vert2_40vert2_raw_3_LapRD LapRD 1day_dates_210728v1\n",
      "Exported  C:/Users/lmf1/OneDriveNIST/NIST/data/shopbot/results\\images\\PEGDA LapRD\\vid_vert2_40vert2_raw_3_PEGDA LapRD_dates_210630\n",
      "Exported  C:/Users/lmf1/OneDriveNIST/NIST/data/shopbot/results\\images\\PEGDA LapRD\\vid_vert2_40vert2_raw_3_PEGDA LapRD_dates_211006\n",
      "Exported  C:/Users/lmf1/OneDriveNIST/NIST/data/shopbot/results\\images\\I_M6_S_3.00\\vid_vert2_40vert2_raw_3_I_M6_S_3.00_dates_210824_vname_v\n",
      "Exported  C:/Users/lmf1/OneDriveNIST/NIST/data/shopbot/results\\images\\I_M5_S_3.00\\vid_vert2_40vert2_raw_3_I_M5_S_3.00_dates_211005_vname_v\n",
      "Exported  C:/Users/lmf1/OneDriveNIST/NIST/data/shopbot/results\\images\\mineral812 LapRD\\vid_vert2_40vert2_raw_3_mineral812 LapRD_dates_210921\n",
      "Exported  C:/Users/lmf1/OneDriveNIST/NIST/data/shopbot/results\\images\\mineral812S LapRDT\\vid_vert2_40vert2_raw_3_mineral812S LapRDT_dates_211005\n",
      "Exported  C:/Users/lmf1/OneDriveNIST/NIST/data/shopbot/results\\images\\PDMSM LapRD\\vid_vert2_40vert2_raw_3_PDMSM LapRD_dates_210630\n",
      "Exported  C:/Users/lmf1/OneDriveNIST/NIST/data/shopbot/results\\images\\PDMSS LapRD\\vid_vert2_40vert2_raw_3_PDMSS LapRD_dates_210713\n"
     ]
    }
   ],
   "source": [
    "for i,d in dates.iterrows():\n",
    "    vertVid(d)"
   ]
  },
  {
   "cell_type": "code",
   "execution_count": 34,
   "id": "4e7f9e1c",
   "metadata": {},
   "outputs": [
    {
     "name": "stdout",
     "output_type": "stream",
     "text": [
      "Exported  C:/Users/lmf1/OneDriveNIST/NIST/data/shopbot/results\\images\\PEGDA LapRD\\vert1vert2vert3vert4_PEGDA LapRD_dates_210630\n"
     ]
    }
   ],
   "source": [
    "vert(dates.loc[3])"
   ]
  },
  {
   "cell_type": "code",
   "execution_count": 39,
   "id": "98fc3d2a",
   "metadata": {},
   "outputs": [
    {
     "data": {
      "text/plain": [
       "'//cfs2e.nist.gov/642/internal/3D Printing Lab/Shopbot/videos/singleLines\\\\PEGDA LapRD\\\\I_PEG7.5_S_2.25\\\\I_PEG7.5_S_2.25_210630\\\\I_PEG7.5_S_2.25_210630_vert1_0.429_00.png'"
      ]
     },
     "execution_count": 39,
     "metadata": {},
     "output_type": "execute_result"
    }
   ],
   "source": [
    "vp.picFileFromFolder(os.path.join(cfg.path.server, r'singleLines\\PEGDA LapRD\\I_PEG7.5_S_2.25\\I_PEG7.5_S_2.25_210630'), 'vert1')"
   ]
  },
  {
   "cell_type": "code",
   "execution_count": null,
   "id": "8352896e",
   "metadata": {},
   "outputs": [],
   "source": []
  }
 ],
 "metadata": {
  "kernelspec": {
   "display_name": "Python 3",
   "language": "python",
   "name": "python3"
  },
  "language_info": {
   "codemirror_mode": {
    "name": "ipython",
    "version": 3
   },
   "file_extension": ".py",
   "mimetype": "text/x-python",
   "name": "python",
   "nbconvert_exporter": "python",
   "pygments_lexer": "ipython3",
   "version": "3.7.7"
  }
 },
 "nbformat": 4,
 "nbformat_minor": 5
}
