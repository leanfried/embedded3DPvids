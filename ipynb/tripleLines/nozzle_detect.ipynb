{
 "cells": [
  {
   "cell_type": "markdown",
   "id": "bf07f6de",
   "metadata": {},
   "source": [
    "# Detecting nozzle positions"
   ]
  },
  {
   "cell_type": "markdown",
   "id": "9e1d0f2d",
   "metadata": {},
   "source": [
    "## Initialization"
   ]
  },
  {
   "cell_type": "code",
   "execution_count": 2,
   "id": "c84bf91c",
   "metadata": {},
   "outputs": [],
   "source": [
    "%load_ext autoreload\n",
    "%autoreload 2\n",
    "LOGGERDEFINED = False"
   ]
  },
  {
   "cell_type": "code",
   "execution_count": 3,
   "id": "337ce3e3",
   "metadata": {},
   "outputs": [],
   "source": [
    "# global packages\n",
    "import os\n",
    "import sys\n",
    "import numpy as np\n",
    "import matplotlib.pyplot as plt\n",
    "\n",
    "# local packages\n",
    "module_path = os.path.abspath(os.path.join('..'))\n",
    "sys.path.append(module_path)\n",
    "sys.path.append(os.path.dirname(module_path))\n",
    "from py.config import cfg\n",
    "import py.logs as logs\n",
    "from py.imshow import imshow\n",
    "import py.nozTools as nt\n",
    "\n",
    "# logging\n",
    "LOGGERDEFINED = logs.openLog('nozzle_detect.ipynb', LOGGERDEFINED, level='DEBUG', exportLog=False)"
   ]
  },
  {
   "cell_type": "code",
   "execution_count": 16,
   "id": "a73f2243",
   "metadata": {},
   "outputs": [],
   "source": [
    "folder = r'\\\\cfs2e.nist.gov\\642\\internal\\3D Printing Lab\\Shopbot\\videos\\tripleLines\\LapRD_LapRD_visc\\I_3.00_S_2.75\\I_3.00_S_2.75_220428\\crossDoubleVert_0.5_0.625'"
   ]
  },
  {
   "cell_type": "code",
   "execution_count": 20,
   "id": "e5e1ecdd",
   "metadata": {},
   "outputs": [],
   "source": [
    "nv = nt.nozData(folder)"
   ]
  },
  {
   "cell_type": "code",
   "execution_count": 23,
   "id": "3c100ab4",
   "metadata": {},
   "outputs": [
    {
     "name": "stdout",
     "output_type": "stream",
     "text": [
      "INFO: detecting nozzle in \\\\cfs2e.nist.gov\\642\\internal\\3D Printing Lab\\Shopbot\\videos\\tripleLines\\LapRD_LapRD_visc\\I_3.00_S_2.75\\I_3.00_S_2.75_220428\\crossDoubleVert_0.5_0.625\n"
     ]
    },
    {
     "data": {
      "text/plain": [
       "1"
      ]
     },
     "execution_count": 23,
     "metadata": {},
     "output_type": "execute_result"
    }
   ],
   "source": [
    "nv.detectNozzle()"
   ]
  },
  {
   "cell_type": "code",
   "execution_count": 5,
   "id": "e6934033",
   "metadata": {},
   "outputs": [],
   "source": [
    "import py.printVals as pv"
   ]
  },
  {
   "cell_type": "code",
   "execution_count": 20,
   "id": "bcc91a85",
   "metadata": {},
   "outputs": [
    {
     "data": {
      "text/plain": [
       "{'printFolder': '\\\\\\\\cfs2e.nist.gov\\\\642\\\\internal\\\\3D Printing Lab\\\\Shopbot\\\\videos\\\\tripleLines\\\\LapRD_LapRD_visc\\\\I_3.50_S_2.25\\\\I_3.50_S_2.25_220428\\\\crossDoubleVert_0.5_0.875',\n",
       " 'channel': 0,\n",
       " 'bn': 'I_3.50_S_2.25_220428\\\\crossDoubleVert_0.5_0.875',\n",
       " 'caliba': 0.0004347912952003009,\n",
       " 'calibb': -0.5964766279332157,\n",
       " 'calibc': 212.11180954058185,\n",
       " 'vink': 10.0,\n",
       " 'vsup': 10.0,\n",
       " 'targetPressure': 761.1550988513278,\n",
       " 'pfd': <fileHandling.printFileDict at 0x219c368c400>}"
      ]
     },
     "execution_count": 20,
     "metadata": {},
     "output_type": "execute_result"
    }
   ],
   "source": [
    "p1 = pv.pressureVals(r'\\\\cfs2e.nist.gov\\642\\internal\\3D Printing Lab\\Shopbot\\videos\\tripleLines\\LapRD_LapRD_visc\\I_3.50_S_2.25\\I_3.50_S_2.25_220428\\crossDoubleVert_0.5_0.875')\n",
    "p1.__dict__"
   ]
  },
  {
   "cell_type": "code",
   "execution_count": 9,
   "id": "b7c95aba",
   "metadata": {},
   "outputs": [],
   "source": [
    "import py.fileHandling as fh"
   ]
  },
  {
   "cell_type": "code",
   "execution_count": 12,
   "id": "f41e9073",
   "metadata": {},
   "outputs": [
    {
     "data": {
      "text/plain": [
       "{'printFolder': '\\\\\\\\cfs2e.nist.gov\\\\642\\\\internal\\\\3D Printing Lab\\\\Shopbot\\\\videos\\\\tripleLines\\\\LapRD_LapRD_visc\\\\I_3.50_S_2.25\\\\I_3.50_S_2.25_220428\\\\crossDoubleVert_0.5_0.875',\n",
       " 'vid_unknown': [],\n",
       " 'csv_unknown': [],\n",
       " 'csv_delete': [],\n",
       " 'still': [],\n",
       " 'stitch': [],\n",
       " 'vstill': [],\n",
       " 'vid': ['\\\\\\\\cfs2e.nist.gov\\\\642\\\\internal\\\\3D Printing Lab\\\\Shopbot\\\\videos\\\\tripleLines\\\\LapRD_LapRD_visc\\\\I_3.50_S_2.25\\\\I_3.50_S_2.25_220428\\\\crossDoubleVert_0.5_0.875\\\\crossDoubleVert_0.5_0.875_Basler camera_I_3.50_S_2.25_220428_141203_3.avi'],\n",
       " 'still_unknown': [],\n",
       " 'unknown': [],\n",
       " 'phoneCam': [],\n",
       " 'timeSeries': ['\\\\\\\\cfs2e.nist.gov\\\\642\\\\internal\\\\3D Printing Lab\\\\Shopbot\\\\videos\\\\tripleLines\\\\LapRD_LapRD_visc\\\\I_3.50_S_2.25\\\\I_3.50_S_2.25_220428\\\\crossDoubleVert_0.5_0.875\\\\crossDoubleVert_0.5_0.875_Fluigent_I_3.50_S_2.25_220428_141203_3.csv'],\n",
       " 'meta': ['\\\\\\\\cfs2e.nist.gov\\\\642\\\\internal\\\\3D Printing Lab\\\\Shopbot\\\\videos\\\\tripleLines\\\\LapRD_LapRD_visc\\\\I_3.50_S_2.25\\\\I_3.50_S_2.25_220428\\\\crossDoubleVert_0.5_0.875\\\\crossDoubleVert_0.5_0.875_speeds_I_3.50_S_2.25_220428_141203_3.csv'],\n",
       " 'printType': 'tripleLine'}"
      ]
     },
     "execution_count": 12,
     "metadata": {},
     "output_type": "execute_result"
    }
   ],
   "source": [
    "pfd = fh.printFileDict(r'\\\\cfs2e.nist.gov\\642\\internal\\3D Printing Lab\\Shopbot\\videos\\tripleLines\\LapRD_LapRD_visc\\I_3.50_S_2.25\\I_3.50_S_2.25_220428\\crossDoubleVert_0.5_0.875')\n",
    "pfd.__dict__"
   ]
  },
  {
   "cell_type": "code",
   "execution_count": 24,
   "id": "9ff7fe2a",
   "metadata": {},
   "outputs": [],
   "source": [
    "import pandas as pd"
   ]
  },
  {
   "cell_type": "code",
   "execution_count": 25,
   "id": "997e5cae",
   "metadata": {},
   "outputs": [
    {
     "data": {
      "text/html": [
       "<div>\n",
       "<style scoped>\n",
       "    .dataframe tbody tr th:only-of-type {\n",
       "        vertical-align: middle;\n",
       "    }\n",
       "\n",
       "    .dataframe tbody tr th {\n",
       "        vertical-align: top;\n",
       "    }\n",
       "\n",
       "    .dataframe thead th {\n",
       "        text-align: right;\n",
       "    }\n",
       "</style>\n",
       "<table border=\"1\" class=\"dataframe\">\n",
       "  <thead>\n",
       "    <tr style=\"text-align: right;\">\n",
       "      <th></th>\n",
       "      <th>SBPfile</th>\n",
       "      <th>Unnamed: 1</th>\n",
       "      <th>timing_calibration_2.sbp</th>\n",
       "    </tr>\n",
       "  </thead>\n",
       "  <tbody>\n",
       "    <tr>\n",
       "      <th>0</th>\n",
       "      <td>&amp;slideW</td>\n",
       "      <td>mm</td>\n",
       "      <td>25.0</td>\n",
       "    </tr>\n",
       "    <tr>\n",
       "      <th>1</th>\n",
       "      <td>&amp;slideH</td>\n",
       "      <td>mm</td>\n",
       "      <td>75.0</td>\n",
       "    </tr>\n",
       "    <tr>\n",
       "      <th>2</th>\n",
       "      <td>&amp;margin</td>\n",
       "      <td>mm</td>\n",
       "      <td>5.0</td>\n",
       "    </tr>\n",
       "    <tr>\n",
       "      <th>3</th>\n",
       "      <td>&amp;spacing</td>\n",
       "      <td>mm</td>\n",
       "      <td>5.0</td>\n",
       "    </tr>\n",
       "    <tr>\n",
       "      <th>4</th>\n",
       "      <td>&amp;nid</td>\n",
       "      <td>mm</td>\n",
       "      <td>0.603</td>\n",
       "    </tr>\n",
       "    <tr>\n",
       "      <th>...</th>\n",
       "      <td>...</td>\n",
       "      <td>...</td>\n",
       "      <td>...</td>\n",
       "    </tr>\n",
       "    <tr>\n",
       "      <th>57</th>\n",
       "      <td>Nozzle_camera_exposure</td>\n",
       "      <td>ms</td>\n",
       "      <td>15.625</td>\n",
       "    </tr>\n",
       "    <tr>\n",
       "      <th>58</th>\n",
       "      <td>Nozzle_camera_flag1</td>\n",
       "      <td>NaN</td>\n",
       "      <td>5</td>\n",
       "    </tr>\n",
       "    <tr>\n",
       "      <th>59</th>\n",
       "      <td>Webcam_2_frame_rate</td>\n",
       "      <td>fps</td>\n",
       "      <td>15</td>\n",
       "    </tr>\n",
       "    <tr>\n",
       "      <th>60</th>\n",
       "      <td>Webcam_2_exposure</td>\n",
       "      <td>ms</td>\n",
       "      <td>15.625</td>\n",
       "    </tr>\n",
       "    <tr>\n",
       "      <th>61</th>\n",
       "      <td>Webcam_2_flag1</td>\n",
       "      <td>NaN</td>\n",
       "      <td>6</td>\n",
       "    </tr>\n",
       "  </tbody>\n",
       "</table>\n",
       "<p>62 rows × 3 columns</p>\n",
       "</div>"
      ],
      "text/plain": [
       "                   SBPfile Unnamed: 1 timing_calibration_2.sbp\n",
       "0                  &slideW         mm                     25.0\n",
       "1                  &slideH         mm                     75.0\n",
       "2                  &margin         mm                      5.0\n",
       "3                 &spacing         mm                      5.0\n",
       "4                     &nid         mm                    0.603\n",
       "..                     ...        ...                      ...\n",
       "57  Nozzle_camera_exposure         ms                   15.625\n",
       "58     Nozzle_camera_flag1        NaN                        5\n",
       "59     Webcam_2_frame_rate        fps                       15\n",
       "60       Webcam_2_exposure         ms                   15.625\n",
       "61          Webcam_2_flag1        NaN                        6\n",
       "\n",
       "[62 rows x 3 columns]"
      ]
     },
     "execution_count": 25,
     "metadata": {},
     "output_type": "execute_result"
    }
   ],
   "source": [
    "pd.read_csv(r'C:\\Users\\lmf1\\OneDrive - NIST\\NIST\\data\\shopbot\\results\\tripleLines\\timing_calibration_2_meta_test_220617_141331_1.csv')"
   ]
  },
  {
   "cell_type": "code",
   "execution_count": null,
   "id": "74a093f0",
   "metadata": {},
   "outputs": [],
   "source": []
  }
 ],
 "metadata": {
  "kernelspec": {
   "display_name": "Python 3",
   "language": "python",
   "name": "python3"
  },
  "language_info": {
   "codemirror_mode": {
    "name": "ipython",
    "version": 3
   },
   "file_extension": ".py",
   "mimetype": "text/x-python",
   "name": "python",
   "nbconvert_exporter": "python",
   "pygments_lexer": "ipython3",
   "version": "3.8.3"
  }
 },
 "nbformat": 4,
 "nbformat_minor": 5
}
