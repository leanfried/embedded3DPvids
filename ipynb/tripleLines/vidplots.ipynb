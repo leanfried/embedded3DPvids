{
 "cells": [
  {
   "cell_type": "markdown",
   "id": "3a0388f8",
   "metadata": {},
   "source": [
    "# Plotting data from videos\n",
    "Leanne Friedrich 5/22/21"
   ]
  },
  {
   "cell_type": "markdown",
   "id": "bc189027",
   "metadata": {},
   "source": [
    "## initialization"
   ]
  },
  {
   "cell_type": "code",
   "execution_count": 1,
   "id": "6fc94a5a",
   "metadata": {
    "tags": []
   },
   "outputs": [],
   "source": [
    "%load_ext autoreload\n",
    "%autoreload 2\n",
    "LOGGERDEFINED = False"
   ]
  },
  {
   "cell_type": "code",
   "execution_count": 2,
   "id": "44765c1b",
   "metadata": {
    "tags": []
   },
   "outputs": [],
   "source": [
    "import os\n",
    "import sys\n",
    "sys.path.append(\"../\")\n",
    "sys.path.append(\"../../\")\n",
    "import py.fileHandling as fh\n",
    "from py.config import cfg\n",
    "import py.logs as logs\n",
    "import py.vidplots as vp\n",
    "import pandas as pd\n",
    "LOGGERDEFINED = logs.openLog('vidplots.ipynb', LOGGERDEFINED, level='DEBUG', exportLog=False)\n",
    "IMFOLDER = os.path.join(cfg.path.fig, 'images')"
   ]
  },
  {
   "cell_type": "code",
   "execution_count": null,
   "id": "4cd3d86e",
   "metadata": {},
   "outputs": [],
   "source": [
    "import py.vidTools as vt"
   ]
  },
  {
   "cell_type": "code",
   "execution_count": 4,
   "id": "e9a4ce3e",
   "metadata": {},
   "outputs": [],
   "source": [
    "import py.tripleLines.stitchBas as sb"
   ]
  },
  {
   "cell_type": "code",
   "execution_count": 9,
   "id": "81084299",
   "metadata": {},
   "outputs": [
    {
     "data": {
      "text/plain": [
       "'1.0'"
      ]
     },
     "execution_count": 9,
     "metadata": {},
     "output_type": "execute_result"
    }
   ],
   "source": [
    "sb.fileScale(r'\\\\cfs2e.nist.gov\\642\\internal\\3D Printing Lab\\Shopbot\\videos\\singleLines\\PDMSS LapRD\\I_PDMSS5_S_2.50\\I_PDMSS5_S_2.50_210713\\I_PDMSS5_S_2.50_210713_xs4_1_00.png')"
   ]
  },
  {
   "cell_type": "code",
   "execution_count": null,
   "id": "34e18a57",
   "metadata": {},
   "outputs": [],
   "source": [
    "def addPxpmm(file:str) -> None:\n",
    "    '''add pxpmm to the file'''\n",
    "    if not 'nozDims' in file:\n",
    "        return\n",
    "    \n",
    "def addpxpmmToFolder(folder:str) -> None:\n",
    "    if not fh.isSubFolder(folder):\n",
    "        return\n",
    "    vd = vidData()"
   ]
  }
 ],
 "metadata": {
  "kernelspec": {
   "display_name": "Python 3",
   "language": "python",
   "name": "python3"
  },
  "language_info": {
   "codemirror_mode": {
    "name": "ipython",
    "version": 3
   },
   "file_extension": ".py",
   "mimetype": "text/x-python",
   "name": "python",
   "nbconvert_exporter": "python",
   "pygments_lexer": "ipython3",
   "version": "3.8.3"
  }
 },
 "nbformat": 4,
 "nbformat_minor": 5
}
