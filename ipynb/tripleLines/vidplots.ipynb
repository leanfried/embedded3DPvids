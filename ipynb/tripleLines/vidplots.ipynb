{
 "cells": [
  {
   "cell_type": "markdown",
   "id": "ee88f70a",
   "metadata": {},
   "source": [
    "# Plotting data from videos\n",
    "Leanne Friedrich 5/22/21"
   ]
  },
  {
   "cell_type": "markdown",
   "id": "ea96ab87",
   "metadata": {},
   "source": [
    "## initialization"
   ]
  },
  {
   "cell_type": "code",
   "execution_count": 2,
   "id": "d7882f58",
   "metadata": {
    "tags": []
   },
   "outputs": [],
   "source": [
    "%load_ext autoreload\n",
    "%autoreload 2\n",
    "LOGGERDEFINED = False"
   ]
  },
  {
   "cell_type": "code",
   "execution_count": 3,
   "id": "7f3e17d3",
   "metadata": {
    "tags": []
   },
   "outputs": [
    {
     "ename": "ModuleNotFoundError",
     "evalue": "No module named 'stitchBas'",
     "output_type": "error",
     "traceback": [
      "\u001b[1;31m---------------------------------------------------------------------------\u001b[0m",
      "\u001b[1;31mModuleNotFoundError\u001b[0m                       Traceback (most recent call last)",
      "\u001b[1;32m<ipython-input-3-adb315b3d0fa>\u001b[0m in \u001b[0;36m<module>\u001b[1;34m\u001b[0m\n\u001b[0;32m      6\u001b[0m \u001b[1;32mfrom\u001b[0m \u001b[0mpy\u001b[0m\u001b[1;33m.\u001b[0m\u001b[0mconfig\u001b[0m \u001b[1;32mimport\u001b[0m \u001b[0mcfg\u001b[0m\u001b[1;33m\u001b[0m\u001b[1;33m\u001b[0m\u001b[0m\n\u001b[0;32m      7\u001b[0m \u001b[1;32mimport\u001b[0m \u001b[0mpy\u001b[0m\u001b[1;33m.\u001b[0m\u001b[0mlogs\u001b[0m \u001b[1;32mas\u001b[0m \u001b[0mlogs\u001b[0m\u001b[1;33m\u001b[0m\u001b[1;33m\u001b[0m\u001b[0m\n\u001b[1;32m----> 8\u001b[1;33m \u001b[1;32mimport\u001b[0m \u001b[0mpy\u001b[0m\u001b[1;33m.\u001b[0m\u001b[0mvidplots\u001b[0m \u001b[1;32mas\u001b[0m \u001b[0mvp\u001b[0m\u001b[1;33m\u001b[0m\u001b[1;33m\u001b[0m\u001b[0m\n\u001b[0m\u001b[0;32m      9\u001b[0m \u001b[1;32mimport\u001b[0m \u001b[0mpandas\u001b[0m \u001b[1;32mas\u001b[0m \u001b[0mpd\u001b[0m\u001b[1;33m\u001b[0m\u001b[1;33m\u001b[0m\u001b[0m\n\u001b[0;32m     10\u001b[0m \u001b[0mLOGGERDEFINED\u001b[0m \u001b[1;33m=\u001b[0m \u001b[0mlogs\u001b[0m\u001b[1;33m.\u001b[0m\u001b[0mopenLog\u001b[0m\u001b[1;33m(\u001b[0m\u001b[1;34m'vidplots.ipynb'\u001b[0m\u001b[1;33m,\u001b[0m \u001b[0mLOGGERDEFINED\u001b[0m\u001b[1;33m,\u001b[0m \u001b[0mlevel\u001b[0m\u001b[1;33m=\u001b[0m\u001b[1;34m'DEBUG'\u001b[0m\u001b[1;33m,\u001b[0m \u001b[0mexportLog\u001b[0m\u001b[1;33m=\u001b[0m\u001b[1;32mFalse\u001b[0m\u001b[1;33m)\u001b[0m\u001b[1;33m\u001b[0m\u001b[1;33m\u001b[0m\u001b[0m\n",
      "\u001b[1;32m~\\Documents\\GitHub\\embedded3DPvids\\py\\vidplots.py\u001b[0m in \u001b[0;36m<module>\u001b[1;34m\u001b[0m\n\u001b[0;32m     19\u001b[0m \u001b[0msys\u001b[0m\u001b[1;33m.\u001b[0m\u001b[0mpath\u001b[0m\u001b[1;33m.\u001b[0m\u001b[0mappend\u001b[0m\u001b[1;33m(\u001b[0m\u001b[0mcurrentdir\u001b[0m\u001b[1;33m)\u001b[0m\u001b[1;33m\u001b[0m\u001b[1;33m\u001b[0m\u001b[0m\n\u001b[0;32m     20\u001b[0m \u001b[1;32mimport\u001b[0m \u001b[0mfileHandling\u001b[0m \u001b[1;32mas\u001b[0m \u001b[0mfh\u001b[0m\u001b[1;33m\u001b[0m\u001b[1;33m\u001b[0m\u001b[0m\n\u001b[1;32m---> 21\u001b[1;33m \u001b[1;32mimport\u001b[0m \u001b[0mstitchBas\u001b[0m \u001b[1;32mas\u001b[0m \u001b[0msb\u001b[0m\u001b[1;33m\u001b[0m\u001b[1;33m\u001b[0m\u001b[0m\n\u001b[0m\u001b[0;32m     22\u001b[0m \u001b[1;32mfrom\u001b[0m \u001b[0mprintVals\u001b[0m \u001b[1;32mimport\u001b[0m \u001b[1;33m*\u001b[0m\u001b[1;33m\u001b[0m\u001b[1;33m\u001b[0m\u001b[0m\n\u001b[0;32m     23\u001b[0m \u001b[1;32mimport\u001b[0m \u001b[0mvidMorph\u001b[0m \u001b[1;32mas\u001b[0m \u001b[0mvm\u001b[0m\u001b[1;33m\u001b[0m\u001b[1;33m\u001b[0m\u001b[0m\n",
      "\u001b[1;31mModuleNotFoundError\u001b[0m: No module named 'stitchBas'"
     ]
    }
   ],
   "source": [
    "import os\n",
    "import sys\n",
    "sys.path.append(\"../\")\n",
    "sys.path.append(\"../../\")\n",
    "import py.fileHandling as fh\n",
    "from py.config import cfg\n",
    "import py.logs as logs\n",
    "import py.vidplots as vp\n",
    "import pandas as pd\n",
    "LOGGERDEFINED = logs.openLog('vidplots.ipynb', LOGGERDEFINED, level='DEBUG', exportLog=False)\n",
    "IMFOLDER = os.path.join(cfg.path.fig, 'images')"
   ]
  },
  {
   "cell_type": "code",
   "execution_count": null,
   "id": "26575c5a",
   "metadata": {},
   "outputs": [],
   "source": [
    "import py.vidTools as vt"
   ]
  },
  {
   "cell_type": "code",
   "execution_count": 4,
   "id": "98e9be67",
   "metadata": {},
   "outputs": [],
   "source": [
    "import py.tripleLines.stitchBas as sb"
   ]
  },
  {
   "cell_type": "code",
   "execution_count": 9,
   "id": "8ef6c8aa",
   "metadata": {},
   "outputs": [
    {
     "data": {
      "text/plain": [
       "'1.0'"
      ]
     },
     "execution_count": 9,
     "metadata": {},
     "output_type": "execute_result"
    }
   ],
   "source": [
    "sb.fileScale(r'\\\\cfs2e.nist.gov\\642\\internal\\3D Printing Lab\\Shopbot\\videos\\singleLines\\PDMSS LapRD\\I_PDMSS5_S_2.50\\I_PDMSS5_S_2.50_210713\\I_PDMSS5_S_2.50_210713_xs4_1_00.png')"
   ]
  },
  {
   "cell_type": "code",
   "execution_count": null,
   "id": "9393aec0",
   "metadata": {},
   "outputs": [],
   "source": [
    "def addPxpmm(file:str) -> None:\n",
    "    '''add pxpmm to the file'''\n",
    "    if not 'nozDims' in file:\n",
    "        return\n",
    "    \n",
    "def addpxpmmToFolder(folder:str) -> None:\n",
    "    if not fh.isSubFolder(folder):\n",
    "        return\n",
    "    vd = vidData()"
   ]
  },
  {
   "cell_type": "code",
   "execution_count": null,
   "id": "605dddb2",
   "metadata": {
    "tags": []
   },
   "outputs": [],
   "source": [
    "horizCloseCropDefault = {'x0':400, 'xf':600, 'y0':400, 'yf':600}\n",
    "vertCloseCropDefault = {'x0':60, 'xf':210, 'y0':350, 'yf':500}\n",
    "xsFigDefault = 'xs2_raw_0'\n",
    "xsVidCropDefault = {'x0':160, 'y0':240, 'w':300}\n",
    "dates = pd.DataFrame([{'folder':r'vels LapRD LapRD 1day\\I_2.75_S_2.75', 'dates':['210824', '210921']\n",
    "              , 'horizCloseCrop':{'x0':600, 'xf':800, 'y0':300, 'yf':500}\n",
    "              , 'horizCrop':{'x0':50, 'xf':1050, 'y0':50, 'yf':820}\n",
    "             , 'xsCrop': {'x0':400, 'y0':300, 'w':450}, 'xsFig': xsFigDefault\n",
    "             , 'xsVidCrop': xsVidCropDefault\n",
    "            , 'vertCloseCrop':vertCloseCropDefault\n",
    "                      },\n",
    "         {'folder':r'vels LapRD LapRD 1day\\I_3.50_S_2.50', 'dates':['210929']\n",
    "              , 'horizCloseCrop':{'x0':600, 'xf':800, 'y0':300, 'yf':500}\n",
    "             , 'horizCrop':{'x0':50, 'xf':1050, 'y0':50, 'yf':820}\n",
    "             , 'xsCrop':  {'x0':400, 'y0':300, 'w':400}, 'xsFig': xsFigDefault\n",
    "             , 'xsVidCrop': xsVidCropDefault\n",
    "            , 'vertCloseCrop':vertCloseCropDefault\n",
    "         }, \n",
    "        {'folder':r'vels LapRD LapRD 1day\\I_3.00_S_3.00', 'dates':['211109']\n",
    "              , 'horizCloseCrop':{'x0':520, 'xf':790, 'y0':320, 'yf':590}\n",
    "             , 'horizCrop':{'x0':50, 'xf':1050, 'y0':50, 'yf':820}\n",
    "             , 'xsCrop':  {'x0':400, 'y0':420, 'w':770}, 'xsFig': 'xs2'\n",
    "             , 'xsVidCrop': xsVidCropDefault\n",
    "            , 'vertCloseCrop':vertCloseCropDefault\n",
    "         }, \n",
    "         {'folder':'LapRD LapRD 1day', 'dates':['210728','210727']\n",
    "              , 'horizCloseCrop':{'x0':600, 'xf':800, 'y0':330, 'yf':530}\n",
    "             , 'horizCrop':{'x0':100, 'xf':1050, 'y0':80, 'yf':850}\n",
    "             , 'xsCrop':  {'x0':350, 'y0':400, 'w':450}, 'xsFig': xsFigDefault\n",
    "             , 'xsVidCrop': xsVidCropDefault\n",
    "            , 'vertCloseCrop':vertCloseCropDefault\n",
    "         },\n",
    "         {'folder':'PEGDA LapRD', 'dates':['210630']\n",
    "              , 'horizCloseCrop':{'x0':300, 'xf':500, 'y0':300, 'yf':500}\n",
    "             , 'horizCrop':{'x0':50, 'xf':950, 'y0':80, 'yf':790}\n",
    "             , 'xsCrop':  {'x0':400, 'y0':420, 'w':770}, 'xsFig': 'xs2'\n",
    "             , 'xsVidCrop': {'x0':150, 'y0':240, 'w':300}\n",
    "            , 'vertCloseCrop':vertCloseCropDefault\n",
    "         },\n",
    "         {'folder':'PEGDA LapRD', 'dates':['211006']\n",
    "              , 'horizCloseCrop':{'x0':300, 'xf':500, 'y0':300, 'yf':500}\n",
    "             , 'horizCrop':{'x0':50, 'xf':950, 'y0':80, 'yf':790}\n",
    "             , 'xsCrop':  {'x0':400, 'y0':420, 'w':770}, 'xsFig': 'xs2'\n",
    "             , 'xsVidCrop':{'x0':150, 'y0':240, 'w':300}\n",
    "            , 'vertCloseCrop':vertCloseCropDefault\n",
    "         },\n",
    "         {'folder':r'vels mineral LapRD\\I_M6_S_3.00', 'dates':['210824']\n",
    "              , 'horizCloseCrop':{'x0':400, 'xf':600, 'y0':300, 'yf':500}\n",
    "             , 'horizCrop':{'x0':50, 'xf':1050, 'y0':80, 'yf':790}\n",
    "             , 'xsCrop':  {'x0':350, 'y0':320, 'w':400}, 'xsFig': xsFigDefault\n",
    "             , 'xsVidCrop': xsVidCropDefault\n",
    "            , 'vertCloseCrop':vertCloseCropDefault\n",
    "         },\n",
    "         {'folder':r'vels mineral LapRD\\I_M5_S_3.00', 'dates':['211005']\n",
    "              , 'horizCloseCrop':{'x0':400, 'xf':600, 'y0':300, 'yf':500}\n",
    "             , 'horizCrop':{'x0':50, 'xf':1050, 'y0':80, 'yf':790}\n",
    "             , 'xsCrop':  {'x0':350, 'y0':320, 'w':400}, 'xsFig': xsFigDefault\n",
    "             , 'xsVidCrop': xsVidCropDefault\n",
    "            , 'vertCloseCrop':vertCloseCropDefault\n",
    "         },\n",
    "         {'folder':'mineral812 LapRD', 'dates':['210921']\n",
    "#             {'folder':'mineral812 LapRD', 'dates':['210519']\n",
    "              , 'horizCloseCrop':{'x0':500, 'xf':700, 'y0':300, 'yf':500}\n",
    "             , 'horizCrop':{'x0':50, 'xf':1050, 'y0':50, 'yf':840}\n",
    "             , 'xsCrop':  {'x0':400, 'y0':320, 'w':600}, 'xsFig': xsFigDefault\n",
    "             , 'xsVidCrop': xsVidCropDefault\n",
    "            , 'vertCloseCrop':vertCloseCropDefault\n",
    "         },\n",
    "         {'folder':'mineral812S LapRDT', 'dates':['211005']\n",
    "#         {'folder':'mineral812S LapRDT', 'dates':['210922']\n",
    "              , 'horizCloseCrop':{'x0':400, 'xf':600, 'y0':300, 'yf':500}\n",
    "             , 'horizCrop':{'x0':50, 'xf':1050, 'y0':50, 'yf':820}\n",
    "             , 'xsCrop':  {'x0':350, 'y0':320, 'w':450}, 'xsFig': xsFigDefault\n",
    "             , 'xsVidCrop': xsVidCropDefault\n",
    "            , 'vertCloseCrop':vertCloseCropDefault\n",
    "         },\n",
    "         {'folder':'PDMSM LapRD', 'dates':['210630']\n",
    "              , 'horizCloseCrop':{'x0':400, 'xf':600, 'y0':300, 'yf':500}\n",
    "             , 'horizCrop':{'x0':50, 'xf':950, 'y0':80, 'yf':790}\n",
    "             , 'xsCrop': {'x0':400, 'y0':500, 'w':600}, 'xsFig': xsFigDefault\n",
    "             , 'xsVidCrop': xsVidCropDefault\n",
    "            , 'vertCloseCrop':vertCloseCropDefault\n",
    "         },\n",
    "         {'folder':'PDMSS LapRD', 'dates':['210713']\n",
    "              , 'horizCloseCrop':{'x0':400, 'xf':600, 'y0':300, 'yf':500}\n",
    "             , 'horizCrop':{'x0':100, 'xf':950, 'y0':80, 'yf':770}\n",
    "             , 'xsCrop':   {'x0':400, 'y0':400, 'w':500}, 'xsFig': xsFigDefault\n",
    "             , 'xsVidCrop': xsVidCropDefault\n",
    "            , 'vertCloseCrop':vertCloseCropDefault\n",
    "         }\n",
    "        ])"
   ]
  },
  {
   "cell_type": "code",
   "execution_count": null,
   "id": "1d4f301b",
   "metadata": {
    "tags": []
   },
   "outputs": [],
   "source": [
    "def horizCloseUp(d:pd.Series, showFig:bool=False, export:bool=True, overlay:dict={'shape':'circle', 'dx':0.4, 'dy':-0.4}):\n",
    "    tag = 'horizfull'\n",
    "    f = os.path.join(cfg.path.server, 'singleLines', d['folder'])\n",
    "    kwargs = {'showFig':showFig, 'export':export, 'overlay':overlay}\n",
    "    kwargs['crops'] = d['horizCloseCrop']\n",
    "    if 'vels' in d['folder']:\n",
    "        kwargs['vname'] = 'v'\n",
    "    return vp.picPlots0(f, IMFOLDER, d['dates'], tag, overwrite=True, zoom='close', **kwargs)"
   ]
  },
  {
   "cell_type": "code",
   "execution_count": null,
   "id": "ffe6cf2e",
   "metadata": {
    "tags": []
   },
   "outputs": [],
   "source": [
    "def vertCloseUp(d:pd.Series, showFig:bool=False, export:bool=True, overlay:dict={'shape':'circle', 'dx':0.4, 'dy':-0.4}):\n",
    "    tag = 'vert2'\n",
    "    f = os.path.join(cfg.path.server, 'singleLines', d['folder'])\n",
    "    kwargs = {'showFig':showFig, 'export':export, 'overlay':overlay}\n",
    "    kwargs['crops'] = d['vertCloseCrop']\n",
    "    if 'vels' in d['folder']:\n",
    "        kwargs['vname'] = 'v'\n",
    "    return vp.picPlots0(f, IMFOLDER, d['dates'], tag, overwrite=True, zoom='close', **kwargs)"
   ]
  },
  {
   "cell_type": "code",
   "execution_count": null,
   "id": "c4299016",
   "metadata": {
    "tags": []
   },
   "outputs": [],
   "source": [
    "def horiz(d:pd.Series, showFig:bool=False, export:bool=True, dy:float=0.65):\n",
    "    tag = 'horizfull'\n",
    "    f = os.path.join(cfg.path.server, 'singleLines', d['folder'])\n",
    "    kwargs = {'showFig':showFig, 'export':export}\n",
    "    kwargs['crops'] = d['horizCrop']\n",
    "    if 'vels' in d['folder']:\n",
    "        kwargs['vname'] = 'v'\n",
    "    if float(d['dates'][0][:6])>=210929:\n",
    "        w = 21\n",
    "    else:\n",
    "        w = 17\n",
    "    return vp.picPlots0(f, IMFOLDER, d['dates'], tag,overwrite=True, overlay={'shape':'rectangle', 'dy':dy, 'w':w}, **kwargs)"
   ]
  },
  {
   "cell_type": "code",
   "execution_count": null,
   "id": "26ca3f81",
   "metadata": {
    "tags": []
   },
   "outputs": [],
   "source": [
    "def horizVid(d:pd.Series, showFig:bool=False, export:bool=True\n",
    "             , crops:dict={'x0':200, 'xf':800, 'y0':0, 'yf':600}\n",
    "             , overlay:dict={'shape':'rectangle', 'dx':0.4, 'dy':-0.4, 'w':0.15}):\n",
    "    tag = 'vid_horiz1'\n",
    "    f = os.path.join(cfg.path.server, 'singleLines', d['folder'])\n",
    "    kwargs = {'showFig':showFig, 'export':export}\n",
    "    kwargs['crops'] = crops\n",
    "    kwargs['overlay'] = overlay\n",
    "    if 'vels' in d['folder']:\n",
    "        kwargs['vname'] = 'v'\n",
    "    return vp.picPlots0(f, IMFOLDER, d['dates'], tag,overwrite=True, **kwargs)"
   ]
  },
  {
   "cell_type": "code",
   "execution_count": null,
   "id": "279afb51",
   "metadata": {
    "tags": []
   },
   "outputs": [],
   "source": [
    "def xs(d:pd.Series, showFig:bool=False, export:bool=True):\n",
    "    tag = d['xsFig']\n",
    "    f = os.path.join(cfg.path.server, 'singleLines', d['folder'])\n",
    "    kwargs = {'showFig':showFig, 'export':export}\n",
    "    x0 = d['xsCrop']['x0']\n",
    "    w = d['xsCrop']['w']\n",
    "    y0 = d['xsCrop']['y0']\n",
    "    kwargs['crops'] = {'x0':x0-w/2, 'xf':x0+w/2, 'y0':y0-w/2, 'yf':y0+w/2}\n",
    "    if 'vels' in d['folder']:\n",
    "        kwargs['vname'] = 'v'\n",
    "    return vp.picPlots0(f, IMFOLDER, d['dates'], tag,overwrite=True, overlay={'shape':'circle', 'dx':0.4, 'dy':-0.4},  **kwargs)"
   ]
  },
  {
   "cell_type": "code",
   "execution_count": null,
   "id": "ba4bcda2",
   "metadata": {
    "tags": []
   },
   "outputs": [],
   "source": [
    "def xsVid(d:pd.Series, showFig:bool=False, export:bool=True):\n",
    "    f = os.path.join(cfg.path.server, 'singleLines', d['folder'])\n",
    "    kwargs = {'showFig':showFig, 'export':export}\n",
    "    kwargs['crops'] = [{},{}]\n",
    "    x0 = d['xsVidCrop']['x0']\n",
    "    w = d['xsVidCrop']['w']\n",
    "    h = d['xsCrop']['w']\n",
    "    y0 = d['xsVidCrop']['y0']\n",
    "    kwargs['crops'][0] = {'x0':-330, 'xf':-70, 'y0':max(0,y0-h/2), 'yf':y0+h/2}\n",
    "    x0 = d['xsCrop']['x0']\n",
    "    w = d['xsCrop']['w']*0.6\n",
    "    h = d['xsCrop']['w']\n",
    "    y0 = d['xsCrop']['y0']\n",
    "    kwargs['crops'][1] = {'x0':max(0,x0-w/2), 'xf':x0+w/2, 'y0':max(0,y0-h/2), 'yf':y0+h/2}\n",
    "    if 'vels' in d['folder']:\n",
    "        kwargs['vname'] = 'v'\n",
    "    return vp.picPlots0(f, IMFOLDER, d['dates'], ['vid_xs2', 'xs2'],overwrite=True, overlay={'shape':'circle', 'dx':0.4, 'dy':0.4}, **kwargs)"
   ]
  },
  {
   "cell_type": "code",
   "execution_count": null,
   "id": "db044627",
   "metadata": {
    "tags": []
   },
   "outputs": [],
   "source": [
    "def vert(d:pd.Series, showFig:bool=False, export:bool=True):\n",
    "    tag = ['vert4','vert3','vert2', 'vert1']\n",
    "    f = os.path.join(cfg.path.server, 'singleLines', d['folder'])\n",
    "    kwargs = {'showFig':showFig, 'export':export}\n",
    "    kwargs['crops'] = {'x0':50, 'xf':260, 'y0':50, 'yf':1100}\n",
    "    if 'vels' in d['folder']:\n",
    "        kwargs['vname'] = 'v'\n",
    "    if float(d['dates'][0][:6])>=210929:\n",
    "        h = 14\n",
    "    else:\n",
    "        h = 10\n",
    "    return vp.picPlots0(f, IMFOLDER, d['dates'], tag, overwrite=True, overlay={'shape':'rectangle', 'dx':0.6, 'h':h}, **kwargs)"
   ]
  },
  {
   "cell_type": "code",
   "execution_count": null,
   "id": "081623de",
   "metadata": {
    "tags": []
   },
   "outputs": [],
   "source": [
    "def vertVid(d:pd.Series, showFig:bool=False, export:bool=True):\n",
    "    tag = ['vid_vert2_40','vert2_raw_3']\n",
    "    f = os.path.join(cfg.path.server, 'singleLines', d['folder'])\n",
    "    kwargs = {'showFig':showFig, 'export':export}\n",
    "    if 'vels' in d['folder']:\n",
    "        kwargs['vname'] = 'v'\n",
    "    w = 330\n",
    "    kwargs['crops'] = [{'x0':0, 'xf':w, 'y0':0, 'yf':590}, {'x0':400-w/2, 'xf':400+w/2, 'y0':5, 'yf':595}]\n",
    "    return vp.picPlots0(f, IMFOLDER, d['dates'], tag, overwrite=True, overlay={'shape':'rectangle', 'dy':-0.5, 'dx':0.4, 'h':0.2, 'color':'white'}, **kwargs)"
   ]
  },
  {
   "cell_type": "code",
   "execution_count": null,
   "id": "dcaf1158",
   "metadata": {},
   "outputs": [],
   "source": [
    "def allGrids(d):\n",
    "    horizCloseUp(d)\n",
    "    horiz(d)\n",
    "    horizVid(d)\n",
    "    xs(d)\n",
    "    xsVid(d)\n",
    "    vert(d)\n",
    "    vertVid(d)"
   ]
  },
  {
   "cell_type": "code",
   "execution_count": null,
   "id": "d7486af7",
   "metadata": {},
   "outputs": [],
   "source": [
    "dates.folder"
   ]
  },
  {
   "cell_type": "code",
   "execution_count": null,
   "id": "64babbf8",
   "metadata": {
    "tags": []
   },
   "outputs": [],
   "source": [
    "horizCloseUp(dates.loc[2])"
   ]
  },
  {
   "cell_type": "code",
   "execution_count": null,
   "id": "3fa3bea6",
   "metadata": {},
   "outputs": [],
   "source": [
    "for i,d in dates.iterrows():\n",
    "    horizCloseUp(d)"
   ]
  },
  {
   "cell_type": "code",
   "execution_count": null,
   "id": "937ef8bc",
   "metadata": {},
   "outputs": [],
   "source": [
    "for i,d in dates.iterrows():\n",
    "    horiz(d)"
   ]
  },
  {
   "cell_type": "code",
   "execution_count": null,
   "id": "8c5c49db",
   "metadata": {
    "tags": []
   },
   "outputs": [],
   "source": [
    "for i,d in dates.iterrows():\n",
    "    horizVid(d)"
   ]
  },
  {
   "cell_type": "code",
   "execution_count": null,
   "id": "188fee09",
   "metadata": {
    "tags": []
   },
   "outputs": [],
   "source": [
    "for i,d in dates.iterrows():\n",
    "    xs(d)"
   ]
  },
  {
   "cell_type": "code",
   "execution_count": null,
   "id": "de42220d",
   "metadata": {
    "tags": []
   },
   "outputs": [],
   "source": [
    "for i,d in dates.iterrows():\n",
    "    xsVid(d)"
   ]
  },
  {
   "cell_type": "code",
   "execution_count": null,
   "id": "ffbd0f67",
   "metadata": {
    "tags": []
   },
   "outputs": [],
   "source": [
    "for i,d in dates.iterrows():\n",
    "    vert(d)"
   ]
  },
  {
   "cell_type": "code",
   "execution_count": null,
   "id": "ad7b1fd2",
   "metadata": {
    "tags": []
   },
   "outputs": [],
   "source": [
    "for i,d in dates.iterrows():\n",
    "    vertCloseUp(d)"
   ]
  },
  {
   "cell_type": "code",
   "execution_count": null,
   "id": "f8ccd38f",
   "metadata": {
    "tags": []
   },
   "outputs": [],
   "source": [
    "for i,d in dates.iterrows():\n",
    "    vertVid(d)"
   ]
  },
  {
   "cell_type": "code",
   "execution_count": null,
   "id": "410b60e4",
   "metadata": {
    "tags": []
   },
   "outputs": [],
   "source": [
    "vert(dates.loc[3])"
   ]
  },
  {
   "cell_type": "code",
   "execution_count": null,
   "id": "9e727f71",
   "metadata": {
    "tags": []
   },
   "outputs": [],
   "source": [
    "fig = horizVid({'folder':r'PEGDA LapRD\\I_PEG10_S_2.25\\I_PEG10_S_2.25_210630', 'dates':['210630']\n",
    "         }, export=False, crops={'x0':250, 'xf':800, 'y0':100, 'yf':400}, overlay={'shape':'rectangle', 'dx':-0.48, 'dy':-0.15, 'w':0.15}, showFig=True)\n",
    "vp.exportIm(os.path.join(cfg.path.fig, 'figures','I_PEG10_S_2.25_210630_horizvid' ), fig)\n",
    "fig = horizVid({'folder':r'PEGDA LapRD\\I_PEG5_S_3.00\\I_PEG5_S_3.00_210630', 'dates':['210630']\n",
    "         }, export=False, crops={'x0':250, 'xf':800, 'y0':100, 'yf':400}, overlay={'shape':'rectangle', 'dx':-0.48, 'dy':-0.15, 'w':0.15}, showFig=True)\n",
    "vp.exportIm(os.path.join(cfg.path.fig, 'figures','I_PEG5_S_3.00_210630_horizvid' ), fig)"
   ]
  },
  {
   "cell_type": "code",
   "execution_count": null,
   "id": "2917804a",
   "metadata": {
    "tags": []
   },
   "outputs": [],
   "source": [
    "fig = horizCloseUp({'folder':r'LapRD LapRD 1day\\I_2.75_S_3.50', 'dates':['210727'], 'horizCloseCrop':{'x0':500, 'xf':800, 'y0':400, 'yf':500}\n",
    "         }, export=False, showFig=True, overlay={'shape':'circle', 'dx':0.4, 'dy':0.1})\n",
    "vp.exportIm(os.path.join(cfg.path.fig, 'figures','I_2.75_S_3.50_horizclose' ), fig)\n",
    "fig = horizCloseUp({'folder':r'LapRD LapRD 1day\\I_3.50_S_2.25', 'dates':['210727'], 'horizCloseCrop':{'x0':500, 'xf':800, 'y0':370, 'yf':470}\n",
    "         }, export=False, showFig=True, overlay={'shape':'circle', 'dx':0.4, 'dy':0.1})\n",
    "vp.exportIm(os.path.join(cfg.path.fig, 'figures','I_3.50_S_2.25_horizclose' ), fig)\n",
    "fig = horizCloseUp({'folder':r'mineral812 LapRD\\I_M5_S_4.00', 'dates':['210921'], 'horizCloseCrop':{'x0':500, 'xf':800, 'y0':370, 'yf':470}\n",
    "         }, export=False, showFig=True, overlay={'shape':'circle', 'dx':0.4, 'dy':0.1})\n",
    "vp.exportIm(os.path.join(cfg.path.fig, 'figures','I_M5_S_4.00_horizclose' ), fig)\n",
    "fig = horizCloseUp({'folder':r'mineral812 LapRD\\I_M9_S_2.75', 'dates':['210921'], 'horizCloseCrop':{'x0':500, 'xf':800, 'y0':370, 'yf':470}\n",
    "         }, export=False, showFig=True, overlay={'shape':'circle', 'dx':0.4, 'dy':0.1})\n",
    "vp.exportIm(os.path.join(cfg.path.fig, 'figures','I_M9_S_2.75_horizclose' ), fig)"
   ]
  },
  {
   "cell_type": "code",
   "execution_count": null,
   "id": "5e1448fd",
   "metadata": {
    "tags": []
   },
   "outputs": [],
   "source": [
    "d = {'folder':r'vels mineral LapRD\\I_M5_S_3.00\\I_M5_S_3.00_VI_2.5_VS_5_211005'\n",
    "    , 'dates':['211005']\n",
    "     , 'horizCrop':{'x0':0, 'xf':-1, 'y0':380, 'yf':500}\n",
    "         }\n",
    "fig = horiz(d, export=False, showFig=True, dy=0.04)\n",
    "vp.exportIm(os.path.join(cfg.path.server, 'singleLines', d['folder'],'line2'), fig)"
   ]
  },
  {
   "cell_type": "code",
   "execution_count": null,
   "id": "b9bca234",
   "metadata": {
    "tags": []
   },
   "outputs": [],
   "source": [
    "d = {'folder':r'vels mineral LapRD\\I_M6_S_3.00\\I_M6_S_3.00_VI_2.5_VS_5_210824'\n",
    "    , 'dates':['210824']\n",
    "     , 'horizCrop':{'x0':0, 'xf':-1, 'y0':380, 'yf':500}\n",
    "         }\n",
    "fig = horiz(d, export=False, showFig=True, dy=0.04)\n",
    "vp.exportIm(os.path.join(cfg.path.server, 'singleLines', d['folder'],'line2'), fig)"
   ]
  }
 ],
 "metadata": {
  "kernelspec": {
   "display_name": "Python 3",
   "language": "python",
   "name": "python3"
  },
  "language_info": {
   "codemirror_mode": {
    "name": "ipython",
    "version": 3
   },
   "file_extension": ".py",
   "mimetype": "text/x-python",
   "name": "python",
   "nbconvert_exporter": "python",
   "pygments_lexer": "ipython3",
   "version": "3.8.3"
  }
 },
 "nbformat": 4,
 "nbformat_minor": 5
}
