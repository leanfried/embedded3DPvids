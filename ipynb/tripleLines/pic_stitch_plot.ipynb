{
 "cells": [
  {
   "cell_type": "markdown",
   "id": "d4ec2327",
   "metadata": {},
   "source": [
    "# Plotting data from videos\n",
    "Leanne Friedrich 5/22/21"
   ]
  },
  {
   "cell_type": "markdown",
   "id": "d62289e7",
   "metadata": {},
   "source": [
    "## initialization"
   ]
  },
  {
   "cell_type": "code",
   "execution_count": 1,
   "id": "f4e07265",
   "metadata": {
    "tags": []
   },
   "outputs": [],
   "source": [
    "%load_ext autoreload\n",
    "%autoreload 2\n",
    "LOGGERDEFINED = False"
   ]
  },
  {
   "cell_type": "code",
   "execution_count": 11,
   "id": "f33dd180",
   "metadata": {
    "tags": []
   },
   "outputs": [],
   "source": [
    "import os\n",
    "import sys\n",
    "sys.path.append(\"../\")\n",
    "sys.path.append(\"../../\")\n",
    "import py.file_handling as fh\n",
    "from py.tools.config import cfg\n",
    "import py.tools.logs as logs\n",
    "import py.pic_plots as pp\n",
    "from py.pic_plots_triple import *\n",
    "import pandas as pd\n",
    "LOGGERDEFINED = logs.openLog('pic_stitch_plot.ipynb', LOGGERDEFINED, level='DEBUG', exportLog=False)\n",
    "IMFOLDER = os.path.join(cfg.path.fig, 'tripleLines', 'images')"
   ]
  },
  {
   "cell_type": "markdown",
   "id": "7b23af38",
   "metadata": {},
   "source": [
    "## plot images"
   ]
  },
  {
   "cell_type": "code",
   "execution_count": 33,
   "id": "57f68e10",
   "metadata": {
    "tags": []
   },
   "outputs": [],
   "source": [
    "mp = multiPlots(os.path.join(cfg.path.server,'tripleLines', 'LapRD_LapRD_visc'), IMFOLDER,\n",
    "        ['220428'])"
   ]
  },
  {
   "cell_type": "code",
   "execution_count": 106,
   "id": "f79ff519",
   "metadata": {},
   "outputs": [
    {
     "name": "stdout",
     "output_type": "stream",
     "text": [
      "INFO: Exported C:/Users/lmf1/OneDriveNIST/NIST/data/shopbot/results\\tripleLines\\images\\HOPxs\\LapRD_LapRD_visc\\0.875_HOPxs_00.875_HOPxs_10.875_HOPxs_20.875_HOPxs_3_LapRD_LapRD_visc_dates_220428_xvar_ink.var_yvar_sup.var_concat_h_spacing_0.875\n"
     ]
    }
   ],
   "source": [
    "mp.plot('HOPxs', spacing=0.875, overwrite=True, index=[0,1,2,3])"
   ]
  },
  {
   "cell_type": "code",
   "execution_count": 112,
   "id": "296dfe8a",
   "metadata": {},
   "outputs": [
    {
     "name": "stdout",
     "output_type": "stream",
     "text": [
      "INFO: Exported C:/Users/lmf1/OneDriveNIST/NIST/data/shopbot/results\\tripleLines\\images\\HIPxs\\LapRD_LapRD_visc\\0.875_HIPxs_00.875_HIPxs_10.875_HIPxs_20.875_HIPxs_3_LapRD_LapRD_visc_dates_220428_xvar_ink.var_yvar_sup.var_concat_h_spacing_0.875\n",
      "INFO: Exported C:/Users/lmf1/OneDriveNIST/NIST/data/shopbot/results\\tripleLines\\images\\HIPxs\\LapRD_LapRD_visc\\HIPxs_1_LapRD_LapRD_visc_dates_220428_xvar_self.spacing_yvar_sup.var_concat_h_ink_4.00_I_4.00\n",
      "INFO: Exported C:/Users/lmf1/OneDriveNIST/NIST/data/shopbot/results\\tripleLines\\images\\HOPxs\\LapRD_LapRD_visc\\0.875_HOPxs_00.875_HOPxs_10.875_HOPxs_20.875_HOPxs_3_LapRD_LapRD_visc_dates_220428_xvar_ink.var_yvar_sup.var_concat_h_spacing_0.875\n",
      "INFO: Exported C:/Users/lmf1/OneDriveNIST/NIST/data/shopbot/results\\tripleLines\\images\\HOPxs\\LapRD_LapRD_visc\\HOPxs_1_LapRD_LapRD_visc_dates_220428_xvar_self.spacing_yvar_sup.var_concat_h_ink_4.00_I_4.00\n"
     ]
    }
   ],
   "source": [
    "mp.keyPlots(overwrite=True, export=True)"
   ]
  },
  {
   "cell_type": "code",
   "execution_count": null,
   "id": "d8089e18",
   "metadata": {},
   "outputs": [],
   "source": []
  }
 ],
 "metadata": {
  "kernelspec": {
   "display_name": "Python 3",
   "language": "python",
   "name": "python3"
  },
  "language_info": {
   "codemirror_mode": {
    "name": "ipython",
    "version": 3
   },
   "file_extension": ".py",
   "mimetype": "text/x-python",
   "name": "python",
   "nbconvert_exporter": "python",
   "pygments_lexer": "ipython3",
   "version": "3.8.3"
  }
 },
 "nbformat": 4,
 "nbformat_minor": 5
}
