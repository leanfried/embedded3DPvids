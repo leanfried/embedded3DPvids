{
 "cells": [
  {
   "cell_type": "markdown",
   "id": "3a471759",
   "metadata": {},
   "source": [
    "# Summarizing metrics from single lines"
   ]
  },
  {
   "cell_type": "markdown",
   "id": "cc0781c8",
   "metadata": {},
   "source": [
    "Leanne Friedrich 08/02/21"
   ]
  },
  {
   "cell_type": "markdown",
   "id": "f5f744f0",
   "metadata": {},
   "source": [
    "## initialization"
   ]
  },
  {
   "cell_type": "code",
   "execution_count": 1,
   "id": "77d4f064",
   "metadata": {},
   "outputs": [],
   "source": [
    "%load_ext autoreload\n",
    "%autoreload 2\n",
    "LOGGERDEFINED = False"
   ]
  },
  {
   "cell_type": "code",
   "execution_count": 2,
   "id": "9f2b7605",
   "metadata": {},
   "outputs": [],
   "source": [
    "import os\n",
    "import sys\n",
    "sys.path.append(\"../\")\n",
    "from py.config import cfg\n",
    "import py.logs as logs\n",
    "import py.metrics as me\n",
    "from printVals import *\n",
    "from plainIm import plainIm\n",
    "import matplotlib.pyplot as plt\n",
    "import metricPlots as mp\n",
    "import regression as rg\n",
    "LOGGERDEFINED = logs.openLog('vidSummaries.ipynb', LOGGERDEFINED, level='DEBUG', exportLog=False)"
   ]
  },
  {
   "cell_type": "markdown",
   "id": "d338a30d",
   "metadata": {},
   "source": [
    "## summarizing data"
   ]
  },
  {
   "cell_type": "markdown",
   "id": "e9de98a5",
   "metadata": {},
   "source": [
    "### summarize everything"
   ]
  },
  {
   "cell_type": "code",
   "execution_count": null,
   "id": "090e642a",
   "metadata": {
    "tags": []
   },
   "outputs": [],
   "source": [
    "# newfolders = [os.path.join(cfg.path.server, r'singleLines\\vels LapRD LapRD 1day\\I_3.00_S_3.00\\I_3.00_S_3.00_VI_2.5_VS_10_211109')]\n",
    "# newfolders = [os.path.join(cfg.path.server, r'singleLines\\mineral812S LapRDT')]\n",
    "newfolders = []\n",
    "tt, u = me.stillsSummary(os.path.join(cfg.path.server, r'singleLines'), cfg.path.fig, newfolders=newfolders)"
   ]
  },
  {
   "cell_type": "markdown",
   "id": "49b504b9",
   "metadata": {},
   "source": [
    "### get a table of programmed timings from Fluigent records"
   ]
  },
  {
   "cell_type": "code",
   "execution_count": null,
   "id": "9d2b6423",
   "metadata": {
    "tags": []
   },
   "outputs": [],
   "source": [
    "tt, u = me.progTable(os.path.join(cfg.path.server, 'singleLines'), cfg.path.fig, 'progTable.csv', overwrite=False)"
   ]
  },
  {
   "cell_type": "markdown",
   "id": "962f90f3",
   "metadata": {},
   "source": [
    "### get a table of originally intended timings"
   ]
  },
  {
   "cell_type": "code",
   "execution_count": null,
   "id": "3803a512",
   "metadata": {},
   "outputs": [],
   "source": [
    "ttdefault, u2 = me.progTable(os.path.join(cfg.path.server, 'singleLines', 'vels mineral LapRD'), cfg.path.fig, 'progTableDefault.csv', useDefault=True)"
   ]
  }
 ],
 "metadata": {
  "kernelspec": {
   "display_name": "Python 3",
   "language": "python",
   "name": "python3"
  },
  "language_info": {
   "codemirror_mode": {
    "name": "ipython",
    "version": 3
   },
   "file_extension": ".py",
   "mimetype": "text/x-python",
   "name": "python",
   "nbconvert_exporter": "python",
   "pygments_lexer": "ipython3",
   "version": "3.8.3"
  }
 },
 "nbformat": 4,
 "nbformat_minor": 5
}
