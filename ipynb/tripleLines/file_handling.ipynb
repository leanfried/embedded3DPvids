{
 "cells": [
  {
   "cell_type": "markdown",
   "metadata": {},
   "source": [
    "# Sort files in folder\n",
    "Leanne Friedrich 5/22/21"
   ]
  },
  {
   "cell_type": "markdown",
   "metadata": {},
   "source": [
    "# initialization"
   ]
  },
  {
   "cell_type": "code",
   "execution_count": 1,
   "metadata": {},
   "outputs": [],
   "source": [
    "%load_ext autoreload\n",
    "%autoreload 2\n",
    "LOGGERDEFINED = False"
   ]
  },
  {
   "cell_type": "code",
   "execution_count": 2,
   "metadata": {
    "tags": []
   },
   "outputs": [],
   "source": [
    "import os\n",
    "import sys\n",
    "sys.path.append(\"../\")\n",
    "sys.path.append(\"../../\")\n",
    "import py.file_handling as fh\n",
    "from py.tools.config import cfg\n",
    "import py.tools.logs as logs\n",
    "LOGGERDEFINED = logs.openLog('fileHandling.ipynb', LOGGERDEFINED, level='DEBUG', exportLog=False)"
   ]
  },
  {
   "cell_type": "markdown",
   "metadata": {},
   "source": [
    "# Sort and rename files and folders"
   ]
  },
  {
   "cell_type": "code",
   "execution_count": null,
   "metadata": {
    "tags": []
   },
   "outputs": [],
   "source": [
    "fh.sortRecursive(r'\\\\cfs2e.nist.gov\\642\\internal\\3D Printing Lab\\Shopbot\\videos\\tripleLines', debug=False)"
   ]
  },
  {
   "cell_type": "code",
   "execution_count": 83,
   "metadata": {
    "tags": []
   },
   "outputs": [
    {
     "name": "stdout",
     "output_type": "stream",
     "text": [
      "WARNING: Too many videos in I_M9_S_3.00_220426\\crossDoubleVert_0.5_0.500: 2\n",
      "WARNING: Too many videos in I_M9_S_3.00_220426\\crossDoubleVert_0.5_0.500: 2\n",
      "WARNING: Too many videos in I_M9_S_3.00_220426\\crossDoubleVert_0.5_0.625: 2\n",
      "WARNING: Too many videos in I_M9_S_3.00_220426\\crossDoubleVert_0.5_0.625: 2\n",
      "WARNING: Too many videos in I_M9_S_3.00_220426\\crossDoubleVert_0.5_0.750: 2\n",
      "WARNING: Too many videos in I_M9_S_3.00_220426\\crossDoubleVert_0.5_0.750: 2\n",
      "WARNING: Too many videos in I_M9_S_3.00_220426\\crossDoubleVert_0.5_0.875: 2\n",
      "WARNING: Too many videos in I_M9_S_3.00_220426\\crossDoubleVert_0.5_0.875: 2\n",
      "WARNING: Too many videos in I_M9_S_3.00_220426\\crossDoubleVert_0.5_1.000: 2\n",
      "WARNING: Too many videos in I_M9_S_3.00_220426\\crossDoubleVert_0.5_1.000: 2\n",
      "WARNING: Too many videos in I_M9_S_3.00_220426\\crossDoubleVert_0.5_1.250: 2\n",
      "WARNING: Too many videos in I_M9_S_3.00_220426\\crossDoubleVert_0.5_1.250: 2\n"
     ]
    }
   ],
   "source": [
    "mismatch, tooMany = fh.checkFolders(r'\\\\cfs2e.nist.gov\\642\\internal\\3D Printing Lab\\Shopbot\\videos\\tripleLines\\mineral_LapRD_visc')"
   ]
  },
  {
   "cell_type": "code",
   "execution_count": 82,
   "metadata": {},
   "outputs": [
    {
     "data": {
      "text/plain": [
       "[]"
      ]
     },
     "execution_count": 82,
     "metadata": {},
     "output_type": "execute_result"
    }
   ],
   "source": [
    "mismatch"
   ]
  },
  {
   "cell_type": "code",
   "execution_count": 68,
   "metadata": {},
   "outputs": [
    {
     "name": "stdout",
     "output_type": "stream",
     "text": [
      "WARNING: Mismatched sample in I_3.00_S_2.75_220428\\crossDoubleHoriz_0.5_0.875: crossDoubleHoriz_0.5_0.875_Basler camera_I_3.00_S_2.50_220428_123459_7.avi\n",
      "WARNING: Mismatched sample in I_3.00_S_2.75_220428\\crossDoubleHoriz_0.5_0.875: crossDoubleHoriz_0.5_0.875_Fluigent_I_3.00_S_2.50_220428_123459_8.csv\n",
      "WARNING: Mismatched sample in I_3.00_S_2.75_220428\\crossDoubleHoriz_0.5_0.875: crossDoubleHoriz_0.5_0.875_speeds_I_3.00_S_2.50_220428_123459_8.csv\n",
      "INFO: Renamed crossDoubleHoriz_0.5_0.875_Basler camera_I_3.00_S_2.50_220428_123459_7.avi to crossDoubleHoriz_0.5_0.875_Basler camera_I_3.00_S_2.75_220428_123459_7.avi\n",
      "INFO: Renamed crossDoubleHoriz_0.5_0.875_Fluigent_I_3.00_S_2.50_220428_123459_8.csv to crossDoubleHoriz_0.5_0.875_Fluigent_I_3.00_S_2.75_220428_123459_8.csv\n",
      "INFO: Renamed crossDoubleHoriz_0.5_0.875_speeds_I_3.00_S_2.50_220428_123459_8.csv to crossDoubleHoriz_0.5_0.875_speeds_I_3.00_S_2.75_220428_123459_8.csv\n"
     ]
    }
   ],
   "source": [
    "pfd = fh.printFileDict(mismatch[3])"
   ]
  },
  {
   "cell_type": "code",
   "execution_count": 63,
   "metadata": {},
   "outputs": [],
   "source": [
    "pfd.fixMismatch()"
   ]
  },
  {
   "cell_type": "code",
   "execution_count": 11,
   "metadata": {},
   "outputs": [
    {
     "name": "stdout",
     "output_type": "stream",
     "text": [
      "\n",
      "csv_delete:\t['singleLinesPics_Fluigent_I_M4S_S_2.50T_210420_105218.csv']\n",
      "\n",
      "\n",
      "still:\t['singleLinesPics_Basler camera_I_M4S_S_2.50T_210420_105220.png', 'singleLinesPics_Basler camera_I_M4S_S_2.50T_210420_105223.png', 'singleLinesPics_Basler camera_I_M4S_S_2.50T_210420_105225.png', 'singleLinesPics_Basler camera_I_M4S_S_2.50T_210420_105227.png', 'singleLinesPics_Basler camera_I_M4S_S_2.50T_210420_105229.png', 'singleLinesPics_Basler camera_I_M4S_S_2.50T_210420_105231.png', 'singleLinesPics_Basler camera_I_M4S_S_2.50T_210420_105233.png', 'singleLinesPics_Basler camera_I_M4S_S_2.50T_210420_105235.png', 'singleLinesPics_Basler camera_I_M4S_S_2.50T_210420_105238.png', 'singleLinesPics_Basler camera_I_M4S_S_2.50T_210420_105245.png', 'singleLinesPics_Basler camera_I_M4S_S_2.50T_210420_105247.png', 'singleLinesPics_Basler camera_I_M4S_S_2.50T_210420_105250.png', 'singleLinesPics_Basler camera_I_M4S_S_2.50T_210420_105252.png', 'singleLinesPics_Basler camera_I_M4S_S_2.50T_210420_105254.png', 'singleLinesPics_Basler camera_I_M4S_S_2.50T_210420_105258.png', 'singleLinesPics_Basler camera_I_M4S_S_2.50T_210420_105300.png', 'singleLinesPics_Basler camera_I_M4S_S_2.50T_210420_105302.png', 'singleLinesPics_Basler camera_I_M4S_S_2.50T_210420_105305.png', 'singleLinesPics_Basler camera_I_M4S_S_2.50T_210420_105307.png', 'singleLinesPics_Basler camera_I_M4S_S_2.50T_210420_105311.png', 'singleLinesPics_Basler camera_I_M4S_S_2.50T_210420_105313.png', 'singleLinesPics_Basler camera_I_M4S_S_2.50T_210420_105315.png', 'singleLinesPics_Basler camera_I_M4S_S_2.50T_210420_105317.png', 'singleLinesPics_Basler camera_I_M4S_S_2.50T_210420_105320.png', 'singleLinesPics_Basler camera_I_M4S_S_2.50T_210420_105324.png', 'singleLinesPics_Basler camera_I_M4S_S_2.50T_210420_105326.png', 'singleLinesPics_Basler camera_I_M4S_S_2.50T_210420_105328.png', 'singleLinesPics_Basler camera_I_M4S_S_2.50T_210420_105330.png', 'singleLinesPics_Basler camera_I_M4S_S_2.50T_210420_105333.png', 'singleLinesPics_Basler camera_I_M4S_S_2.50T_210420_105335.png', 'singleLinesPics_Basler camera_I_M4S_S_2.50T_210420_105337.png', 'singleLinesPics_Basler camera_I_M4S_S_2.50T_210420_105340.png', 'singleLinesPics_Basler camera_I_M4S_S_2.50T_210420_105342.png', 'singleLinesPics_Basler camera_I_M4S_S_2.50T_210420_105346.png', 'singleLinesPics_Basler camera_I_M4S_S_2.50T_210420_105348.png', 'singleLinesPics_Basler camera_I_M4S_S_2.50T_210420_105350.png', 'singleLinesPics_Basler camera_I_M4S_S_2.50T_210420_105352.png', 'singleLinesPics_Basler camera_I_M4S_S_2.50T_210420_105356.png', 'singleLinesPics_Basler camera_I_M4S_S_2.50T_210420_105358.png', 'singleLinesPics_Basler camera_I_M4S_S_2.50T_210420_105400.png', 'singleLinesPics_Basler camera_I_M4S_S_2.50T_210420_105402.png', 'singleLinesPics_Basler camera_I_M4S_S_2.50T_210420_105406.png', 'singleLinesPics_Basler camera_I_M4S_S_2.50T_210420_105409.png', 'singleLinesPics_Basler camera_I_M4S_S_2.50T_210420_105411.png', 'singleLinesPics_Basler camera_I_M4S_S_2.50T_210420_105413.png', 'singleLinesPics_Basler camera_I_M4S_S_2.50T_210420_105417.png', 'singleLinesPics_Basler camera_I_M4S_S_2.50T_210420_105419.png', 'singleLinesPics_Basler camera_I_M4S_S_2.50T_210420_105421.png', 'singleLinesPics_Basler camera_I_M4S_S_2.50T_210420_105423.png']\n",
      "\n",
      "\n",
      "stitch:\t['I_M4S_S_2.50T_210420_horiz1_00.png', 'I_M4S_S_2.50T_210420_vert1_00.png', 'I_M4S_S_2.50T_210420_vert2_00.png', 'I_M4S_S_2.50T_210420_vert3_00.png', 'I_M4S_S_2.50T_210420_vert4_00.png', 'I_M4S_S_2.50T_210420_xs1_00.png', 'I_M4S_S_2.50T_210420_xs2_00.png', 'I_M4S_S_2.50T_210420_xs3_00.png', 'I_M4S_S_2.50T_210420_xs4_00.png', 'I_M4S_S_2.50T_210420_xs5_00.png']\n",
      "\n",
      "\n",
      "vid:\t['singleLines_Basler camera_I_M4S_S_2.50T_210420_105042.avi']\n",
      "\n",
      "\n",
      "phoneCam:\t['phoneCam_I_M4S_S_2.50T_210420_105804.jpg', 'phoneCam_I_M4S_S_2.50T_210420_105811.jpg', 'phoneCam_I_M4S_S_2.50T_210420_105814.jpg']\n",
      "\n",
      "\n",
      "timeSeries:\t['singleLines_Fluigent_I_M4S_S_2.50T_210420_105042.csv']\n",
      "\n",
      "printType:\tsingleLine\n",
      "nozDims:\tI_M4S_S_2.50T_210420_nozDims.csv\n",
      "progDims:\tI_M4S_S_2.50T_210420_progDims.csv\n",
      "summary:\tI_M4S_S_2.50T_210420_summary.csv\n"
     ]
    }
   ],
   "source": [
    "pfd = fh.printFileDict(r'\\\\cfs2e.nist.gov\\642\\internal\\3D Printing Lab\\Shopbot\\videos\\singleLines\\mineral812S LapRDT\\I_M4S_S_2.50T\\I_M4S_S_2.50T_210420')\n",
    "pfd.printAll()"
   ]
  },
  {
   "cell_type": "markdown",
   "metadata": {},
   "source": [
    "## unit tests"
   ]
  },
  {
   "cell_type": "code",
   "execution_count": 110,
   "metadata": {},
   "outputs": [
    {
     "name": "stderr",
     "output_type": "stream",
     "text": [
      ".............\n",
      "----------------------------------------------------------------------\n",
      "Ran 13 tests in 0.106s\n",
      "\n",
      "OK\n"
     ]
    }
   ],
   "source": [
    "run ../../tests/test_fileDateAndTime"
   ]
  },
  {
   "cell_type": "code",
   "execution_count": 115,
   "metadata": {},
   "outputs": [
    {
     "name": "stderr",
     "output_type": "stream",
     "text": [
      ".....................\n",
      "----------------------------------------------------------------------\n",
      "Ran 21 tests in 0.479s\n",
      "\n",
      "OK\n"
     ]
    }
   ],
   "source": [
    "run ../../tests/test_fileLabel"
   ]
  },
  {
   "cell_type": "code",
   "execution_count": 10,
   "metadata": {},
   "outputs": [
    {
     "name": "stderr",
     "output_type": "stream",
     "text": [
      ".....\n",
      "----------------------------------------------------------------------\n",
      "Ran 5 tests in 0.291s\n",
      "\n",
      "OK\n"
     ]
    }
   ],
   "source": [
    "run ../../tests/test_fileDict"
   ]
  },
  {
   "cell_type": "code",
   "execution_count": null,
   "metadata": {},
   "outputs": [],
   "source": []
  }
 ],
 "metadata": {
  "kernelspec": {
   "display_name": "Python 3",
   "language": "python",
   "name": "python3"
  },
  "language_info": {
   "codemirror_mode": {
    "name": "ipython",
    "version": 3
   },
   "file_extension": ".py",
   "mimetype": "text/x-python",
   "name": "python",
   "nbconvert_exporter": "python",
   "pygments_lexer": "ipython3",
   "version": "3.8.3"
  }
 },
 "nbformat": 4,
 "nbformat_minor": 4
}
