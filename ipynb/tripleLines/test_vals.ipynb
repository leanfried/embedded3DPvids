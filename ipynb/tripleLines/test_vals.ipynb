{
 "cells": [
  {
   "cell_type": "markdown",
   "id": "158ae64d",
   "metadata": {},
   "source": [
    "# Test printVals functions"
   ]
  },
  {
   "cell_type": "markdown",
   "id": "a1262b36",
   "metadata": {},
   "source": [
    "#### Leanne Friedrich 6/22/22"
   ]
  },
  {
   "cell_type": "markdown",
   "id": "05a54b19",
   "metadata": {},
   "source": [
    "## initialization"
   ]
  },
  {
   "cell_type": "code",
   "execution_count": 3,
   "id": "6ff8a8d7",
   "metadata": {},
   "outputs": [],
   "source": [
    "%load_ext autoreload\n",
    "%autoreload 2\n",
    "LOGGERDEFINED = False"
   ]
  },
  {
   "cell_type": "code",
   "execution_count": 6,
   "id": "3a22efb7",
   "metadata": {
    "tags": []
   },
   "outputs": [],
   "source": [
    "import os\n",
    "import sys\n",
    "sys.path.append(\"../\")\n",
    "sys.path.append(\"../../\")\n",
    "import py.fileHandling as fh\n",
    "from py.config import cfg\n",
    "import py.logs as logs\n",
    "import py.printVals as pv\n",
    "LOGGERDEFINED = logs.openLog('fileHandling.ipynb', LOGGERDEFINED, level='DEBUG', exportLog=False)"
   ]
  },
  {
   "cell_type": "markdown",
   "id": "e0ee4d74",
   "metadata": {},
   "source": [
    "## pressure vals"
   ]
  },
  {
   "cell_type": "code",
   "execution_count": 23,
   "id": "5df02fd5",
   "metadata": {},
   "outputs": [
    {
     "name": "stderr",
     "output_type": "stream",
     "text": [
      "..."
     ]
    },
    {
     "name": "stdout",
     "output_type": "stream",
     "text": [
      "WARNING: No pressure calibration found for //cfs2e.nist.gov/642/internal/3D Printing Lab/Shopbot/videos/singleLines\\mineral812 LapRD\\I_M5_S_2.75\\I_M5_S_2.75_210305\n"
     ]
    },
    {
     "name": "stderr",
     "output_type": "stream",
     "text": [
      "."
     ]
    },
    {
     "name": "stdout",
     "output_type": "stream",
     "text": [
      "WARNING: No pressure calibration found for //cfs2e.nist.gov/642/internal/3D Printing Lab/Shopbot/videos/singleLines\\mineral812 LapRD\\I_M5_S_2.75\\I_M5_S_2.75_210407\n"
     ]
    },
    {
     "name": "stderr",
     "output_type": "stream",
     "text": [
      "....\n",
      "----------------------------------------------------------------------\n",
      "Ran 8 tests in 0.551s\n",
      "\n",
      "OK\n"
     ]
    }
   ],
   "source": [
    "run ../../tests/test_pressureVals"
   ]
  },
  {
   "cell_type": "code",
   "execution_count": 35,
   "id": "f2743c95",
   "metadata": {},
   "outputs": [
    {
     "name": "stderr",
     "output_type": "stream",
     "text": [
      "..........\n",
      "----------------------------------------------------------------------\n",
      "Ran 10 tests in 0.627s\n",
      "\n",
      "OK\n"
     ]
    }
   ],
   "source": [
    "run ../../tests/test_geometryVals"
   ]
  },
  {
   "cell_type": "code",
   "execution_count": null,
   "id": "fc9b0390",
   "metadata": {},
   "outputs": [],
   "source": []
  }
 ],
 "metadata": {
  "kernelspec": {
   "display_name": "Python 3",
   "language": "python",
   "name": "python3"
  },
  "language_info": {
   "codemirror_mode": {
    "name": "ipython",
    "version": 3
   },
   "file_extension": ".py",
   "mimetype": "text/x-python",
   "name": "python",
   "nbconvert_exporter": "python",
   "pygments_lexer": "ipython3",
   "version": "3.8.3"
  }
 },
 "nbformat": 4,
 "nbformat_minor": 5
}
