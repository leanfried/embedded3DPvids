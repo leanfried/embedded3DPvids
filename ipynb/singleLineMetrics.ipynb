{
 "cells": [
  {
   "cell_type": "markdown",
   "id": "3a309d14",
   "metadata": {},
   "source": [
    "# Collecting metrics from single lines"
   ]
  },
  {
   "cell_type": "markdown",
   "id": "e7c55e6a",
   "metadata": {},
   "source": [
    "Leanne Friedrich 7/22/21"
   ]
  },
  {
   "cell_type": "markdown",
   "id": "73607cf9",
   "metadata": {},
   "source": [
    "## initialization"
   ]
  },
  {
   "cell_type": "code",
   "execution_count": null,
   "id": "5b1e4875",
   "metadata": {},
   "outputs": [],
   "source": [
    "%load_ext autoreload\n",
    "%autoreload 2\n",
    "LOGGERDEFINED = False"
   ]
  },
  {
   "cell_type": "code",
   "execution_count": null,
   "id": "7d46efae",
   "metadata": {},
   "outputs": [],
   "source": [
    "import os\n",
    "import sys\n",
    "sys.path.append(\"../\")\n",
    "import py.fileHandling as fh\n",
    "from py.config import cfg\n",
    "import py.logs as logs\n",
    "import py.vidplots as vp\n",
    "import py.metrics as me\n",
    "LOGGERDEFINED = logs.openLog('vidplots.ipynb', LOGGERDEFINED, level='DEBUG', exportLog=False)"
   ]
  },
  {
   "cell_type": "code",
   "execution_count": null,
   "id": "1eee2fb1",
   "metadata": {},
   "outputs": [],
   "source": [
    "ss,u = me.importStillsSummary(diag=True)\n",
    "seg, useg = me.importStillsSummary(file='segmentsSummary.csv', diag=False)"
   ]
  },
  {
   "cell_type": "markdown",
   "id": "4e435c30",
   "metadata": {},
   "source": [
    "# measuring stills"
   ]
  },
  {
   "cell_type": "markdown",
   "id": "0a0c6ebd",
   "metadata": {},
   "source": [
    "## measure all stills"
   ]
  },
  {
   "cell_type": "code",
   "execution_count": null,
   "id": "c587f24e",
   "metadata": {
    "tags": []
   },
   "outputs": [],
   "source": [
    "ftop = os.path.join(cfg.path.server, 'singleLines', r'LapRD LapRD 1day')\n",
    "me.measureStillsRecursive(ftop, diag=0,  overwrite=True, overwriteList=['vert'], critHorizLines=2)"
   ]
  },
  {
   "cell_type": "markdown",
   "id": "9803996f",
   "metadata": {},
   "source": [
    "## measure one folder"
   ]
  },
  {
   "cell_type": "code",
   "execution_count": null,
   "id": "8110e079",
   "metadata": {},
   "outputs": [],
   "source": [
    "file = os.path.join(cfg.path.server, r'singleLines\\vels LapRD LapRD 1day\\I_3.00_S_3.00\\I_3.00_S_3.00_VI_7.5_VS_5_211109')\n",
    "me.measureStills(file, overwrite=True, overwriteList=['vert'])"
   ]
  },
  {
   "cell_type": "markdown",
   "id": "2f76c2a3",
   "metadata": {},
   "source": [
    "##### delete all horizontal summaries from 09/22/21 (bad contrast=bad data)"
   ]
  },
  {
   "cell_type": "code",
   "execution_count": null,
   "id": "6f503169",
   "metadata": {},
   "outputs": [],
   "source": [
    "ftop = os.path.join(cfg.path.server, r'singleLines\\mineral812S LapRDT')\n",
    "for f in os.listdir(ftop):\n",
    "    for f1 in os.listdir(os.path.join(ftop,f)):\n",
    "        if '210922' in f1:\n",
    "            f2 = os.path.join(ftop,f, f1,f1+'_horizSummary.csv')\n",
    "            if os.path.exists(f2):\n",
    "                os.remove(f2)"
   ]
  },
  {
   "cell_type": "markdown",
   "id": "319c106e",
   "metadata": {},
   "source": [
    "## diagnostics"
   ]
  },
  {
   "cell_type": "markdown",
   "id": "ddc9a2ea",
   "metadata": {},
   "source": [
    "##### initialize the folder and check if the summaries are good"
   ]
  },
  {
   "cell_type": "code",
   "execution_count": null,
   "id": "7007867c",
   "metadata": {},
   "outputs": [],
   "source": [
    "folder = os.path.join(cfg.path.server, r'singleLines\\vels LapRD LapRD 1day\\I_3.00_S_3.00\\I_3.00_S_3.00_VI_7.5_VS_5_211109')"
   ]
  },
  {
   "cell_type": "code",
   "execution_count": null,
   "id": "2db467a6",
   "metadata": {},
   "outputs": [],
   "source": [
    "i = '4.00'\n",
    "s = '4.00'\n",
    "folder = os.path.join(cfg.path.server, r'singleLines\\LapRD LapRD 1day',f'I_{i}_S_{s}', f'I_{i}_S_{s}_210727')\n",
    "# folder = os.path.join(cfg.path.server, r'singleLines\\mineral812S LapRDT', f'I_M{i}S_S_{s}T', f'I_M{i}S_S_{s}T_210922')\n",
    "# folder = os.path.join(cfg.path.server, r'singleLines\\vels LapRD LapRD 1day\\I_3.00_S_3.00\\I_3.00_S_3.00_VI_2.5_VS_10_211109')\n",
    "me.checkAndDiagnoseRecursive(folder, redo=False)"
   ]
  },
  {
   "cell_type": "markdown",
   "id": "83797a63",
   "metadata": {},
   "source": [
    "##### collect existing summary data into a table"
   ]
  },
  {
   "cell_type": "code",
   "execution_count": null,
   "id": "595ec062",
   "metadata": {},
   "outputs": [],
   "source": [
    "r,_ = me.stillsSummary(folder, '', filename='empty.csv')\n",
    "display(r[['bn', 'vert_meanTN', 'dEst', 'vert_hN']])"
   ]
  },
  {
   "cell_type": "markdown",
   "id": "04e0b76d",
   "metadata": {},
   "source": [
    "##### initialize the folder from the bad_read list"
   ]
  },
  {
   "cell_type": "code",
   "execution_count": null,
   "id": "1fdf8f30",
   "metadata": {
    "tags": []
   },
   "outputs": [],
   "source": [
    "i = 10\n",
    "br = bad_read.iloc[i]\n",
    "folder = br['folder']\n",
    "br"
   ]
  },
  {
   "cell_type": "markdown",
   "id": "96b85e01",
   "metadata": {},
   "source": [
    "##### preview measurements of just one line, with diagnostics"
   ]
  },
  {
   "cell_type": "code",
   "execution_count": null,
   "id": "3025c2b0",
   "metadata": {
    "tags": []
   },
   "outputs": [],
   "source": [
    "me.measure1Line(os.path.join(folder), 'vert', 0, diag=3, critHorizLines=2, topthresh=130)"
   ]
  },
  {
   "cell_type": "markdown",
   "id": "fb28256b",
   "metadata": {},
   "source": [
    "##### measure all stills for the folder, for stills in the overwrite list"
   ]
  },
  {
   "cell_type": "code",
   "execution_count": null,
   "id": "b2ac0f6c",
   "metadata": {},
   "outputs": [],
   "source": [
    "topdir = os.path.join(cfg.path.server, 'singleLines', 'vels mineral LapRD', 'I_M5_S_3.00', 'I_M5_S_3.00_VI_20_VS_40_211005')\n",
    "folders = [os.path.join(topdir, f) for f in os.listdir(topdir)]"
   ]
  },
  {
   "cell_type": "code",
   "execution_count": null,
   "id": "034e1ef1",
   "metadata": {
    "tags": []
   },
   "outputs": [],
   "source": [
    "me.measureStills(folder, overwrite=True, overwriteList=['horiz'], diag=2, critHorizLines=2, topthresh=130)"
   ]
  },
  {
   "cell_type": "markdown",
   "id": "c73c58ca",
   "metadata": {},
   "source": [
    "##### make a copy of the stitched image"
   ]
  },
  {
   "cell_type": "code",
   "execution_count": null,
   "id": "c34b9627",
   "metadata": {},
   "outputs": [],
   "source": [
    "me.copyImage(folder, 'horiz', 0)"
   ]
  },
  {
   "cell_type": "markdown",
   "id": "75b75321",
   "metadata": {},
   "source": [
    "##### open the stitched image"
   ]
  },
  {
   "cell_type": "code",
   "execution_count": null,
   "id": "8658a3c4",
   "metadata": {},
   "outputs": [],
   "source": [
    "me.openImageInPaint(folder, 'horiz', 0)"
   ]
  },
  {
   "cell_type": "code",
   "execution_count": null,
   "id": "d56c9a60",
   "metadata": {},
   "outputs": [],
   "source": [
    "me.openExplorer(folder)"
   ]
  }
 ],
 "metadata": {
  "kernelspec": {
   "display_name": "Python 3 (ipykernel)",
   "language": "python",
   "name": "python3"
  },
  "language_info": {
   "codemirror_mode": {
    "name": "ipython",
    "version": 3
   },
   "file_extension": ".py",
   "mimetype": "text/x-python",
   "name": "python",
   "nbconvert_exporter": "python",
   "pygments_lexer": "ipython3",
   "version": "3.8.18"
  }
 },
 "nbformat": 4,
 "nbformat_minor": 5
}
