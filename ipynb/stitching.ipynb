{
 "cells": [
  {
   "cell_type": "markdown",
   "metadata": {},
   "source": [
    "# Stitching images using translation only\n",
    "Leanne Friedrich 5/22/21"
   ]
  },
  {
   "cell_type": "markdown",
   "metadata": {},
   "source": [
    "## initialization"
   ]
  },
  {
   "cell_type": "code",
   "execution_count": 2,
   "metadata": {},
   "outputs": [],
   "source": [
    "%load_ext autoreload\n",
    "%autoreload 2\n",
    "LOGGERDEFINED = False"
   ]
  },
  {
   "cell_type": "code",
   "execution_count": 3,
   "metadata": {},
   "outputs": [],
   "source": [
    "import os\n",
    "import cv2\n",
    "import sys\n",
    "sys.path.append(\"../\")\n",
    "import py.stitching as st\n",
    "from py.config import cfg\n",
    "import py.logs as logs\n",
    "import py.stitchBas as sb\n",
    "from matplotlib import pyplot as plt\n",
    "import ipywidgets as widgets\n",
    "from ipywidgets import interact, interact_manual\n",
    "LOGGERDEFINED = logs.openLog('stitching.ipynb', LOGGERDEFINED, level='DEBUG', exportLog=False)"
   ]
  },
  {
   "cell_type": "markdown",
   "metadata": {},
   "source": [
    "# identify missing files"
   ]
  },
  {
   "cell_type": "code",
   "execution_count": 3,
   "metadata": {},
   "outputs": [
    {
     "name": "stdout",
     "output_type": "stream",
     "text": [
      "INFO: No missing files\n"
     ]
    }
   ],
   "source": [
    "df = sb.countFiles(os.path.join(cfg.path.server, 'singleLines'), stills=False, stitches=True)"
   ]
  },
  {
   "cell_type": "markdown",
   "metadata": {},
   "source": [
    "# stitch all images in the folder"
   ]
  },
  {
   "cell_type": "code",
   "execution_count": null,
   "metadata": {},
   "outputs": [],
   "source": [
    "# duplicate=0 to check if the file already exists\n",
    "# duplicate=1 in to add a new file if this stitch already exists\n",
    "# duplicate=2 to overwrite existing file\n",
    "folder = os.path.join(cfg.path.server, r'singleLines\\vels LapRD LapRD 1day')\n",
    "sb.stitchRecursive(folder, duplicate=0)"
   ]
  },
  {
   "cell_type": "code",
   "execution_count": null,
   "metadata": {
    "tags": []
   },
   "outputs": [],
   "source": [
    "# duplicate=0 to check if the file already exists\n",
    "# duplicate=1 in to add a new file if this stitch already exists\n",
    "# duplicate=2 to overwrite existing file\n",
    "folder = os.path.join(cfg.path.server, r'singleLines\\mineral812S LapRDT')\n",
    "for f1 in os.listdir(folder):\n",
    "    for f2 in os.listdir(os.path.join(folder, f1)):\n",
    "        if '210922' in f2:\n",
    "            try:\n",
    "                fl = sb.fileList(os.path.join(folder, f1, f2))\n",
    "                for s in ['xs1', 'xs2', 'xs3', 'xs4', 'xs5']:\n",
    "                    setattr(fl, s+'Still', [getattr(fl,s+'Still')[0]])\n",
    "                    fl.stitchGroup(s, duplicate=2)\n",
    "            except:\n",
    "                pass"
   ]
  },
  {
   "cell_type": "code",
   "execution_count": 23,
   "metadata": {},
   "outputs": [
    {
     "name": "stdout",
     "output_type": "stream",
     "text": [
      "INFO: horiz1Still, ['110258', '110258', '110259', '110300', '110301', '110302', '110303', '110304', '110305', '110306']\n",
      "INFO: horiz2Still, ['110309', '110310', '110311', '110312', '110313', '110314', '110315', '110316', '110317', '110318']\n",
      "INFO: horiz3Still, ['110320', '110321', '110322', '110323', '110324', '110325', '110326', '110327', '110328', '110329']\n",
      "INFO: horiz4Still, ['110332', '110333', '110334', '110335', '110336', '110337', '110338', '110338', '110339', '110340']\n",
      "INFO: horiz5Still, ['110343', '110344', '110345', '110346', '110347', '110348', '110349', '110350', '110351', '110352']\n",
      "INFO: horiz6Still, ['110355', '110356', '110357', '110357', '110358', '110359', '110400', '110401', '110402', '110403']\n",
      "INFO: horiz7Still, ['110406', '110407', '110408', '110409', '110410', '110411', '110412', '110413', '110414', '110415']\n",
      "INFO: horiz8Still, ['110417', '110418', '110419', '110420', '110421', '110422', '110423', '110424', '110425', '110426']\n",
      "INFO: horizStill, []\n",
      "INFO: horizfullStill, []\n",
      "INFO: vert1Still, ['110431', '110432', '110433', '110434', '110435', '110436', '110437', '110438', '110439']\n",
      "INFO: vert2Still, ['110442', '110443', '110445', '110446', '110446', '110447', '110448', '110449', '110450']\n",
      "INFO: vert3Still, ['110452', '110453', '110454', '110455', '110456', '110457', '110458', '110459', '110500']\n",
      "INFO: vert4Still, ['110503', '110504', '110505', '110506', '110507', '110508', '110509', '110510', '110511']\n",
      "INFO: xs1Still, ['110513', '110514', '110515', '110515']\n",
      "INFO: xs2Still, ['110517', '110518', '110519', '110520']\n",
      "INFO: xs3Still, ['110522', '110523', '110524', '110525']\n",
      "INFO: xs4Still, ['110527', '110528', '110529', '110530']\n",
      "INFO: xs5Still, ['110531', '110532', '110533', '110534']\n",
      "INFO: horiz1Stitch, []\n",
      "INFO: horiz2Stitch, []\n",
      "INFO: horiz3Stitch, []\n",
      "INFO: horiz4Stitch, []\n",
      "INFO: horiz5Stitch, []\n",
      "INFO: horiz6Stitch, []\n",
      "INFO: horiz7Stitch, []\n",
      "INFO: horiz8Stitch, []\n",
      "INFO: horizStitch, []\n",
      "INFO: horizfullStitch, []\n",
      "INFO: vert1Stitch, []\n",
      "INFO: vert2Stitch, []\n",
      "INFO: vert3Stitch, []\n",
      "INFO: vert4Stitch, []\n",
      "INFO: xs1Stitch, []\n",
      "INFO: xs2Stitch, []\n",
      "INFO: xs3Stitch, []\n",
      "INFO: xs4Stitch, []\n",
      "INFO: xs5Stitch, []\n"
     ]
    }
   ],
   "source": [
    "folder = os.path.join(cfg.path.server, r'singleLines\\vels LapRD LapRD 1day\\I_3.00_S_3.00\\I_3.00_S_3.00_VI_7.5_VS_5_211109')\n",
    "fl = sb.fileList(folder)\n",
    "fl.printGroups()"
   ]
  }
 ],
 "metadata": {
  "kernelspec": {
   "display_name": "Python 3",
   "language": "python",
   "name": "python3"
  },
  "language_info": {
   "codemirror_mode": {
    "name": "ipython",
    "version": 3
   },
   "file_extension": ".py",
   "mimetype": "text/x-python",
   "name": "python",
   "nbconvert_exporter": "python",
   "pygments_lexer": "ipython3",
   "version": "3.8.3"
  }
 },
 "nbformat": 4,
 "nbformat_minor": 4
}
