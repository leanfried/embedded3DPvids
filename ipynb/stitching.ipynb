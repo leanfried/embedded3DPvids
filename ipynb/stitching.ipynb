{
 "cells": [
  {
   "cell_type": "code",
   "execution_count": 1,
   "metadata": {},
   "outputs": [],
   "source": [
    "%load_ext autoreload\n",
    "%autoreload 2\n",
    "LOGGERDEFINED = False"
   ]
  },
  {
   "cell_type": "code",
   "execution_count": 2,
   "metadata": {},
   "outputs": [],
   "source": [
    "import os\n",
    "import cv2\n",
    "import sys\n",
    "sys.path.append(\"../\")\n",
    "import py.stitching as st\n",
    "from py.config import cfg\n",
    "import py.logs as logs\n",
    "import py.stitchBas as sb\n",
    "from matplotlib import pyplot as plt\n",
    "LOGGERDEFINED = logs.openLog('stitching.ipynb', LOGGERDEFINED, level='DEBUG', exportLog=False)"
   ]
  },
  {
   "cell_type": "code",
   "execution_count": null,
   "metadata": {},
   "outputs": [
    {
     "name": "stdout",
     "output_type": "stream",
     "text": [
      "DEBUG: Stitching 10 images in I_2.25_S_2.25_210517\n",
      "INFO: Wrote image I_2.25_S_2.25_210517_horiz_00.png\n",
      "DEBUG: Stitching 7 images in I_2.25_S_2.25_210517\n",
      "INFO: Wrote image I_2.25_S_2.25_210517_vert1_00.png\n",
      "DEBUG: Stitching 7 images in I_2.25_S_2.25_210517\n",
      "INFO: Wrote image I_2.25_S_2.25_210517_vert2_00.png\n",
      "DEBUG: Stitching 7 images in I_2.25_S_2.25_210517\n",
      "INFO: Wrote image I_2.25_S_2.25_210517_vert3_00.png\n",
      "DEBUG: Stitching 7 images in I_2.25_S_2.25_210517\n"
     ]
    }
   ],
   "source": [
    "sb.stitchRecursive(os.path.join(cfg.path.server, 'singleLines'), duplicate=False)"
   ]
  },
  {
   "cell_type": "code",
   "execution_count": null,
   "metadata": {},
   "outputs": [],
   "source": []
  }
 ],
 "metadata": {
  "kernelspec": {
   "display_name": "Python 3",
   "language": "python",
   "name": "python3"
  },
  "language_info": {
   "codemirror_mode": {
    "name": "ipython",
    "version": 3
   },
   "file_extension": ".py",
   "mimetype": "text/x-python",
   "name": "python",
   "nbconvert_exporter": "python",
   "pygments_lexer": "ipython3",
   "version": "3.7.7"
  }
 },
 "nbformat": 4,
 "nbformat_minor": 4
}
