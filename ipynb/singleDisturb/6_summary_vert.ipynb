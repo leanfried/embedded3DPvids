{
 "cells": [
  {
   "cell_type": "markdown",
   "id": "df36f115",
   "metadata": {},
   "source": [
    "# Summarizing metrics from disturbed vertical lines"
   ]
  },
  {
   "cell_type": "markdown",
   "id": "4ef16888",
   "metadata": {},
   "source": [
    "Leanne Friedrich 11/15/22"
   ]
  },
  {
   "cell_type": "markdown",
   "id": "62a2fa47",
   "metadata": {},
   "source": [
    "## initialization"
   ]
  },
  {
   "cell_type": "code",
   "execution_count": null,
   "id": "78e9dafc",
   "metadata": {},
   "outputs": [],
   "source": [
    "%load_ext autoreload\n",
    "%autoreload 2\n",
    "LOGGERDEFINED = False"
   ]
  },
  {
   "cell_type": "code",
   "execution_count": null,
   "id": "116a32a6",
   "metadata": {},
   "outputs": [],
   "source": [
    "import os\n",
    "import sys\n",
    "sys.path.append(\"../\")\n",
    "sys.path.append(\"../../\")\n",
    "from py.tools.config import cfg\n",
    "import py.tools.logs as logs\n",
    "from plainIm import plainIm\n",
    "import matplotlib.pyplot as plt\n",
    "import py.metric_plots as mp\n",
    "import py.metrics_disturb as me\n",
    "import regression as rg\n",
    "import matplotlib.cm as cm\n",
    "import py.file_handling as fh\n",
    "LOGGERDEFINED = logs.openLog('summary_vert.ipynb', LOGGERDEFINED, level='DEBUG', exportLog=False)"
   ]
  },
  {
   "cell_type": "markdown",
   "id": "79a28b45",
   "metadata": {},
   "source": [
    "## analyzing data"
   ]
  },
  {
   "cell_type": "code",
   "execution_count": null,
   "id": "beb53b8b",
   "metadata": {},
   "outputs": [],
   "source": [
    "me.vertDisturbSummaries(os.path.join(cfg.path.server, 'singleDisturb'), os.path.join(cfg.path.fig, 'singleDisturb'), overwrite=False)"
   ]
  },
  {
   "cell_type": "code",
   "execution_count": null,
   "id": "14a9b4ee",
   "metadata": {},
   "outputs": [],
   "source": [
    "ms = me.metricDisturbSummary(os.path.join(cfg.path.fig, 'singleDisturb', 'vertDisturbSummaries.csv')\n",
    "                             , diag=True)"
   ]
  },
  {
   "cell_type": "code",
   "execution_count": null,
   "id": "ff08c52b",
   "metadata": {},
   "outputs": [],
   "source": [
    "def waterOilPlots(yvar0:str, yideal:float, mode:str='ppt', export:bool=False, top:bool=True):\n",
    "    if top:\n",
    "        tlist = ['top', 'bot']\n",
    "    else:\n",
    "        tlist = ['bot']\n",
    "    if mode=='ppt':\n",
    "        figsize = (9,6+2*(len(tlist)-1))\n",
    "        fs = 18\n",
    "        markersize=100\n",
    "    elif mode=='paper':\n",
    "        figsize=(6,4)\n",
    "        fs = 10\n",
    "        markersize=20\n",
    "    fig,axs = plt.subplots(len(tlist),2,figsize=figsize, sharey='row', sharex=True)\n",
    "    if not top:\n",
    "        axs = [axs]\n",
    "    ms.ss.sort_values(by=['sigma', 'sup_val'], inplace=True)\n",
    "    for i,sigma in enumerate(ms.ss.sigma.unique()):\n",
    "        for j,si in enumerate(tlist):\n",
    "            yvar = f'{si}_{yvar0}'\n",
    "            mp.scatterSS(ms, ms.ss[ms.ss.sigma==sigma], 'spacing', yvar, 'sup_val'\n",
    "                 ,fig=fig, ax=axs[j][i], logx=False, yideal=yideal, xideal=0.875, fontsize=fs, markersize=markersize\n",
    "                         , legend=False, set_ylabel=False, set_xlabel=(j==len(tlist)-1))\n",
    "    for axrow in axs:\n",
    "        for ax in axrow:\n",
    "            mp.setSquare(ax)\n",
    "            if ms.ss[yvar].min()>0:\n",
    "                yy = ms.ss[yvar].max()*0.9\n",
    "            else:\n",
    "                yy = ms.ss[yvar].min()*0.9\n",
    "            ax.text(0.88, yy, 'space filling', color='#555555', fontsize=fs)\n",
    "            ax.text(1.08, 0.01, 'ideal', color='#555555', fontsize=fs)\n",
    "    axs[0][0].set_title('Water/water', fontsize=fs)\n",
    "    axs[0][1].set_title('Oil/water', fontsize=fs)\n",
    "    if top:\n",
    "        axs[0][0].set_ylabel('Top')\n",
    "        axs[1][0].set_ylabel('Bottom')\n",
    "    fig.supylabel(ms.varSymbol(yvar).replace('bot ',''), fontsize=fs)\n",
    "    fig.tight_layout()\n",
    "    if export:\n",
    "        fig.savefig(os.path.join(cfg.path.fig, 'singleDisturb', 'figures', f'vert_{yvar}.svg'), bbox_inches='tight', dpi=300)"
   ]
  },
  {
   "cell_type": "code",
   "execution_count": null,
   "id": "ea36447c",
   "metadata": {
    "tags": []
   },
   "outputs": [],
   "source": [
    "for s in ['delta_h_n', 'delta_meanT_n', 'delta_xc_n']:\n",
    "    waterOilPlots(s, 0, top=False)"
   ]
  },
  {
   "cell_type": "code",
   "execution_count": null,
   "id": "b9602225",
   "metadata": {},
   "outputs": [],
   "source": [
    "ms.ss[(ms.ss.bot_delta_meanT_n<0)&(ms.ss.ink_base=='water')&(ms.ss.spacing==1.25)&(ms.ss.sup_val==2.25)]"
   ]
  },
  {
   "cell_type": "code",
   "execution_count": null,
   "id": "e451c952",
   "metadata": {},
   "outputs": [],
   "source": [
    "ms.ss[ms.ss.bot_w_dxprint>0.1]"
   ]
  },
  {
   "cell_type": "code",
   "execution_count": null,
   "id": "adfabcc6",
   "metadata": {},
   "outputs": [],
   "source": [
    "for s in ['w_dxprint']:\n",
    "    waterOilPlots(s, 0, export=True, top=True)\n",
    "for s in ['d_dxf', 'd_space_at', 'd_space_a']:\n",
    "    waterOilPlots(s, 0, export=True, top=False)"
   ]
  },
  {
   "cell_type": "code",
   "execution_count": null,
   "id": "809534ef",
   "metadata": {},
   "outputs": [],
   "source": [
    "inspect =ms.ss[ms.ss.bot_w_dxprint>0.1]\n",
    "inspect"
   ]
  },
  {
   "cell_type": "code",
   "execution_count": null,
   "id": "e67ba277",
   "metadata": {},
   "outputs": [],
   "source": [
    "folder = inspect.iloc[1]['printFolder']\n",
    "fh.openExplorer(folder)"
   ]
  },
  {
   "cell_type": "code",
   "execution_count": null,
   "id": "b475d647",
   "metadata": {
    "tags": []
   },
   "outputs": [],
   "source": [
    "me.vertDisturbMeasures(folder, overwrite=True, diag=1, lines=['l0wo', 'l0do', 'l2wo', 'l2do'])"
   ]
  },
  {
   "cell_type": "code",
   "execution_count": null,
   "id": "85df1ffc",
   "metadata": {
    "tags": []
   },
   "outputs": [],
   "source": [
    "me.vertDisturbMeasures(folder, overwrite=True, diag=1, lines=['l0w', 'l0d', 'l2w', 'l2d'])"
   ]
  },
  {
   "cell_type": "code",
   "execution_count": null,
   "id": "572eaa5b",
   "metadata": {
    "tags": []
   },
   "outputs": [],
   "source": [
    "me.vertDisturbMeasures(folder, overwrite=True, diag=1)\n",
    "me.vertDisturbSummary(folder, overwrite=True);"
   ]
  },
  {
   "cell_type": "code",
   "execution_count": null,
   "id": "03a9e5f5",
   "metadata": {},
   "outputs": [],
   "source": []
  }
 ],
 "metadata": {
  "kernelspec": {
   "display_name": "Python 3 (ipykernel)",
   "language": "python",
   "name": "python3"
  },
  "language_info": {
   "codemirror_mode": {
    "name": "ipython",
    "version": 3
   },
   "file_extension": ".py",
   "mimetype": "text/x-python",
   "name": "python",
   "nbconvert_exporter": "python",
   "pygments_lexer": "ipython3",
   "version": "3.8.18"
  }
 },
 "nbformat": 4,
 "nbformat_minor": 5
}
