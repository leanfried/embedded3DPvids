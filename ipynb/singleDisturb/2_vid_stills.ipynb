{
 "cells": [
  {
   "cell_type": "markdown",
   "id": "0321a4dd",
   "metadata": {},
   "source": [
    "# Making stills of disturbed lines"
   ]
  },
  {
   "cell_type": "markdown",
   "id": "2cea7867",
   "metadata": {},
   "source": [
    "## Initialization"
   ]
  },
  {
   "cell_type": "code",
   "execution_count": null,
   "id": "ec4f96da",
   "metadata": {
    "tags": []
   },
   "outputs": [],
   "source": [
    "%load_ext autoreload\n",
    "%autoreload 2\n",
    "LOGGERDEFINED = False"
   ]
  },
  {
   "cell_type": "code",
   "execution_count": null,
   "id": "8b444937",
   "metadata": {},
   "outputs": [],
   "source": [
    "import os\n",
    "import sys\n",
    "import numpy as np\n",
    "module_path = os.path.abspath(os.path.join('..'))\n",
    "sys.path.append(module_path)\n",
    "sys.path.append(os.path.dirname(module_path))\n",
    "from py.tools.config import cfg\n",
    "import py.tools.logs as logs\n",
    "import py.vid_tools as vt\n",
    "from py.tools.imshow import imshow\n",
    "import matplotlib.pyplot as plt\n",
    "import py.file_handling as fh\n",
    "LOGGERDEFINED = logs.openLog('vidAnalysis.ipynb', LOGGERDEFINED, level='DEBUG', exportLog=False)"
   ]
  },
  {
   "cell_type": "code",
   "execution_count": null,
   "id": "37ff6ef2",
   "metadata": {},
   "outputs": [],
   "source": [
    "fh.openExplorer(errorList2[0])"
   ]
  },
  {
   "cell_type": "markdown",
   "id": "9bb44568",
   "metadata": {},
   "source": [
    "### get programmed dimension"
   ]
  },
  {
   "cell_type": "code",
   "execution_count": null,
   "id": "804339e9",
   "metadata": {},
   "outputs": [],
   "source": [
    "folder = os.path.join(cfg.path.server, r'singleDoubleTriple\\SO\\I_SO11_S_3.50\\I_SO11_S_3.50_230214\\disturbHoriz3_2_1.250')"
   ]
  },
  {
   "cell_type": "code",
   "execution_count": null,
   "id": "b6b8706f",
   "metadata": {
    "tags": []
   },
   "outputs": [],
   "source": [
    "pg = vt.getProgDims(os.path.join(cfg.path.server, r'singleDoubleTriple\\SO_S20-0.5\\I_SO6-S20-0.5_S_3.50\\I_SO6-S20-0.5_S_3.50_230215\\disturbHoriz3_2_0.750'))\n",
    "pg.exportAll(overwrite=True)"
   ]
  },
  {
   "cell_type": "code",
   "execution_count": null,
   "id": "cd07c281",
   "metadata": {
    "tags": []
   },
   "outputs": [],
   "source": [
    "vt.exportProgDims(errorList3[1], overwrite=True)"
   ]
  },
  {
   "cell_type": "markdown",
   "id": "66a8f496",
   "metadata": {},
   "source": [
    "## make stills"
   ]
  },
  {
   "cell_type": "code",
   "execution_count": null,
   "id": "ff201730",
   "metadata": {
    "tags": []
   },
   "outputs": [],
   "source": [
    "errorList = vt.exportStillsRecursive(os.path.join(cfg.path.server, r'singleDoubleTriple')\n",
    "                                     , overwriteDims=False, overwrite=False)"
   ]
  },
  {
   "cell_type": "code",
   "execution_count": null,
   "id": "ace12a82",
   "metadata": {
    "tags": []
   },
   "outputs": [],
   "source": [
    "errorList3 = vt.exportStillsList(errorList[41:], overwrite=True, overwriteDims=True)"
   ]
  }
 ],
 "metadata": {
  "kernelspec": {
   "display_name": "Python 3 (ipykernel)",
   "language": "python",
   "name": "python3"
  },
  "language_info": {
   "codemirror_mode": {
    "name": "ipython",
    "version": 3
   },
   "file_extension": ".py",
   "mimetype": "text/x-python",
   "name": "python",
   "nbconvert_exporter": "python",
   "pygments_lexer": "ipython3",
   "version": "3.8.18"
  }
 },
 "nbformat": 4,
 "nbformat_minor": 5
}
