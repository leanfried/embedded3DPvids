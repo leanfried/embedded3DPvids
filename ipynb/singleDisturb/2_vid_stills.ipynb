{
 "cells": [
  {
   "cell_type": "markdown",
   "id": "a3136587",
   "metadata": {},
   "source": [
    "# Making stills of disturbed lines"
   ]
  },
  {
   "cell_type": "markdown",
   "id": "3b0732a8",
   "metadata": {},
   "source": [
    "## Initialization"
   ]
  },
  {
   "cell_type": "code",
   "execution_count": 1,
   "id": "ed95c488",
   "metadata": {},
   "outputs": [],
   "source": [
    "%load_ext autoreload\n",
    "%autoreload 2\n",
    "LOGGERDEFINED = False"
   ]
  },
  {
   "cell_type": "code",
   "execution_count": 2,
   "id": "40dd7052",
   "metadata": {},
   "outputs": [],
   "source": [
    "import os\n",
    "import sys\n",
    "import numpy as np\n",
    "module_path = os.path.abspath(os.path.join('..'))\n",
    "sys.path.append(module_path)\n",
    "sys.path.append(os.path.dirname(module_path))\n",
    "from py.tools.config import cfg\n",
    "import py.tools.logs as logs\n",
    "import py.vid_tools as vt\n",
    "from py.tools.imshow import imshow\n",
    "import matplotlib.pyplot as plt\n",
    "import py.file_handling as fh\n",
    "LOGGERDEFINED = logs.openLog('vidAnalysis.ipynb', LOGGERDEFINED, level='DEBUG', exportLog=False)"
   ]
  },
  {
   "cell_type": "code",
   "execution_count": 4,
   "id": "a870cb5b",
   "metadata": {},
   "outputs": [],
   "source": [
    "fh.openExplorer(folder)"
   ]
  },
  {
   "cell_type": "markdown",
   "id": "9e5ebad8",
   "metadata": {},
   "source": [
    "### get programmed dimension"
   ]
  },
  {
   "cell_type": "code",
   "execution_count": 9,
   "id": "4ea853ba",
   "metadata": {},
   "outputs": [],
   "source": [
    "folder = os.path.join(cfg.path.server, r'singleDisturb\\mineral_LapRD_visc\\I_M8_S_3.00\\I_M8_S_3.00_220930\\disturbHoriz2_0.500')"
   ]
  },
  {
   "cell_type": "code",
   "execution_count": 18,
   "id": "0cc2c42e",
   "metadata": {
    "collapsed": true,
    "jupyter": {
     "outputs_hidden": true
    },
    "tags": []
   },
   "outputs": [
    {
     "name": "stdout",
     "output_type": "stream",
     "text": [
      "\n",
      "vstill:\t['disturbHoriz2_0.500_vstill_HOh_l0do_I_M8_S_3.00_220930_134137_1.png', 'disturbHoriz2_0.500_vstill_HOh_l0d_I_M8_S_3.00_220930_134137_1.png', 'disturbHoriz2_0.500_vstill_HOh_l0wo_I_M8_S_3.00_220930_134137_1.png', 'disturbHoriz2_0.500_vstill_HOh_l0w_I_M8_S_3.00_220930_134137_1.png', 'disturbHoriz2_0.500_vstill_HOh_l1do_I_M8_S_3.00_220930_134137_1.png', 'disturbHoriz2_0.500_vstill_HOh_l1d_I_M8_S_3.00_220930_134137_1.png', 'disturbHoriz2_0.500_vstill_HOh_l1wo_I_M8_S_3.00_220930_134137_1.png', 'disturbHoriz2_0.500_vstill_HOh_l1w_I_M8_S_3.00_220930_134137_1.png', 'disturbHoriz2_0.500_vstill_HOh_l2do_I_M8_S_3.00_220930_134137_1.png', 'disturbHoriz2_0.500_vstill_HOh_l2d_I_M8_S_3.00_220930_134137_1.png', 'disturbHoriz2_0.500_vstill_HOh_l2wo_I_M8_S_3.00_220930_134137_1.png', 'disturbHoriz2_0.500_vstill_HOh_l2w_I_M8_S_3.00_220930_134137_1.png', 'disturbHoriz2_0.500_vstill_HOh_l3do_I_M8_S_3.00_220930_134137_1.png', 'disturbHoriz2_0.500_vstill_HOh_l3d_I_M8_S_3.00_220930_134137_1.png', 'disturbHoriz2_0.500_vstill_HOh_l3wo_I_M8_S_3.00_220930_134137_1.png', 'disturbHoriz2_0.500_vstill_HOh_l3w_I_M8_S_3.00_220930_134137_1.png']\n",
      "\n",
      "\n",
      "vid:\t['disturbHoriz2_0.500_Basler camera_I_M8_S_3.00_220930_134137_1.avi']\n",
      "\n",
      "\n",
      "timeSeries:\t['disturbHoriz2_0.500_time_I_M8_S_3.00_220930_134137_1.csv']\n",
      "\n",
      "\n",
      "timeRewrite:\t['disturbHoriz2_0.500_timeRewrite_I_M8_S_3.00_220930_134137_1.csv']\n",
      "\n",
      "\n",
      "meta:\t['disturbHoriz2_0.500_meta_I_M8_S_3.00_220930_134137_1.csv']\n",
      "\n",
      "\n",
      "progDims:\t['disturbHoriz2_0.500_progDims_I_M8_S_3.00_220930_134137_1.csv']\n",
      "\n",
      "\n",
      "progPos:\t['disturbHoriz2_0.500_progPos_I_M8_S_3.00_220930_134137_1.csv']\n",
      "\n",
      "printType:\tsingleDisturb\n",
      "nozDims:\tdisturbHoriz2_0.500_nozDims_I_M8_S_3.00_220930_134137_1.csv\n",
      "vidStats:\tdisturbHoriz2_0.500_vidStats_I_M8_S_3.00_220930_134137_1.csv\n",
      "date:\t220930\n"
     ]
    }
   ],
   "source": [
    "vd = fh.printFileDict(folder)\n",
    "vd.printAll()"
   ]
  },
  {
   "cell_type": "code",
   "execution_count": 8,
   "id": "e3252f4c",
   "metadata": {
    "collapsed": true,
    "jupyter": {
     "outputs_hidden": true
    },
    "tags": []
   },
   "outputs": [
    {
     "name": "stdout",
     "output_type": "stream",
     "text": [
      "INFO: Exported //cfs2e.nist.gov/642/internal/3D Printing Lab/Shopbot/videos/singleDisturb\\archive\\I_M9_S_3.00_220930_v1\\disturbHoriz2_0.500\\disturbHoriz2_0.500_vidStats_I_M9_S_3.00_220930_150358_0.csv\n",
      "INFO: Exported //cfs2e.nist.gov/642/internal/3D Printing Lab/Shopbot/videos/singleDisturb\\archive\\I_M9_S_3.00_220930_v1\\disturbHoriz2_0.625\\disturbHoriz2_0.625_vidStats_I_M9_S_3.00_220930_150442_0.csv\n",
      "INFO: Exported //cfs2e.nist.gov/642/internal/3D Printing Lab/Shopbot/videos/singleDisturb\\archive\\I_M9_S_3.00_220930_v1\\disturbHoriz2_0.875\\disturbHoriz2_0.875_vidStats_I_M9_S_3.00_220930_150727_5.csv\n",
      "INFO: Exported //cfs2e.nist.gov/642/internal/3D Printing Lab/Shopbot/videos/singleDisturb\\archive\\I_M9_S_3.00_220930_v1\\disturbHoriz2_1.250\\disturbHoriz2_1.250_vidStats_I_M9_S_3.00_220930_150844_0.csv\n",
      "INFO: Exported //cfs2e.nist.gov/642/internal/3D Printing Lab/Shopbot/videos/singleDisturb\\archive\\I_M9_S_3.50_v1_220930\\disturbHoriz2_0.500\\disturbHoriz2_0.500_vidStats_I_M9_S_3.50_220930_152650_3.csv\n",
      "INFO: Exported //cfs2e.nist.gov/642/internal/3D Printing Lab/Shopbot/videos/singleDisturb\\LapRD_LapRD_visc\\I_3.00_S_2.25\\I_3.00_S_2.25_220928\\disturbHoriz_0.500\\disturbHoriz_0.500_vidStats_I_3.00_S_2.25_220928_170914_6.csv\n",
      "INFO: Exported //cfs2e.nist.gov/642/internal/3D Printing Lab/Shopbot/videos/singleDisturb\\LapRD_LapRD_visc\\I_3.00_S_2.25\\I_3.00_S_2.25_220928\\disturbHoriz_0.625\\disturbHoriz_0.625_vidStats_I_3.00_S_2.25_220928_171011_9.csv\n",
      "INFO: Exported //cfs2e.nist.gov/642/internal/3D Printing Lab/Shopbot/videos/singleDisturb\\LapRD_LapRD_visc\\I_3.00_S_2.25\\I_3.00_S_2.25_220928\\disturbHoriz_0.750\\disturbHoriz_0.750_vidStats_I_3.00_S_2.25_220928_171121_4.csv\n",
      "INFO: Exported //cfs2e.nist.gov/642/internal/3D Printing Lab/Shopbot/videos/singleDisturb\\LapRD_LapRD_visc\\I_3.00_S_2.25\\I_3.00_S_2.25_220928\\disturbHoriz_0.875\\disturbHoriz_0.875_vidStats_I_3.00_S_2.25_220928_171311_1.csv\n",
      "INFO: Exported //cfs2e.nist.gov/642/internal/3D Printing Lab/Shopbot/videos/singleDisturb\\LapRD_LapRD_visc\\I_3.00_S_2.25\\I_3.00_S_2.25_220928\\disturbHoriz_1.000\\disturbHoriz_1.000_vidStats_I_3.00_S_2.25_220928_171417_0.csv\n",
      "INFO: Exported //cfs2e.nist.gov/642/internal/3D Printing Lab/Shopbot/videos/singleDisturb\\LapRD_LapRD_visc\\I_3.00_S_2.25\\I_3.00_S_2.25_220928\\disturbHoriz_1.250\\disturbHoriz_1.250_vidStats_I_3.00_S_2.25_220928_171510_4.csv\n",
      "INFO: Exported //cfs2e.nist.gov/642/internal/3D Printing Lab/Shopbot/videos/singleDisturb\\LapRD_LapRD_visc\\I_3.00_S_2.25\\I_3.00_S_2.25_220928\\disturbVert_0.500\\disturbVert_0.500_vidStats_I_3.00_S_2.25_220928_171622_2.csv\n",
      "INFO: Exported //cfs2e.nist.gov/642/internal/3D Printing Lab/Shopbot/videos/singleDisturb\\LapRD_LapRD_visc\\I_3.00_S_2.25\\I_3.00_S_2.25_220928\\disturbVert_0.625\\disturbVert_0.625_vidStats_I_3.00_S_2.25_220928_171726_2.csv\n",
      "INFO: Exported //cfs2e.nist.gov/642/internal/3D Printing Lab/Shopbot/videos/singleDisturb\\LapRD_LapRD_visc\\I_3.00_S_2.25\\I_3.00_S_2.25_220928\\disturbVert_0.750\\disturbVert_0.750_vidStats_I_3.00_S_2.25_220928_171824_6.csv\n",
      "INFO: Exported //cfs2e.nist.gov/642/internal/3D Printing Lab/Shopbot/videos/singleDisturb\\LapRD_LapRD_visc\\I_3.00_S_2.25\\I_3.00_S_2.25_220928\\disturbVert_0.875\\disturbVert_0.875_vidStats_I_3.00_S_2.25_220928_171921_1.csv\n",
      "INFO: Exported //cfs2e.nist.gov/642/internal/3D Printing Lab/Shopbot/videos/singleDisturb\\LapRD_LapRD_visc\\I_3.00_S_2.25\\I_3.00_S_2.25_220928\\disturbVert_1.000\\disturbVert_1.000_vidStats_I_3.00_S_2.25_220928_172020_5.csv\n",
      "INFO: Exported //cfs2e.nist.gov/642/internal/3D Printing Lab/Shopbot/videos/singleDisturb\\LapRD_LapRD_visc\\I_3.00_S_2.25\\I_3.00_S_2.25_220928\\disturbVert_1.250\\disturbVert_1.250_vidStats_I_3.00_S_2.25_220928_172117_0.csv\n",
      "INFO: Exported //cfs2e.nist.gov/642/internal/3D Printing Lab/Shopbot/videos/singleDisturb\\LapRD_LapRD_visc\\I_3.00_S_2.25\\I_3.00_S_2.25_220928\\disturbXS_+y_0.500\\disturbXS_+y_0.500_vidStats_I_3.00_S_2.25_220928_172306_2.csv\n",
      "INFO: Exported //cfs2e.nist.gov/642/internal/3D Printing Lab/Shopbot/videos/singleDisturb\\LapRD_LapRD_visc\\I_3.00_S_2.25\\I_3.00_S_2.25_220928\\disturbXS_+y_0.625\\disturbXS_+y_0.625_vidStats_I_3.00_S_2.25_220928_172415_0.csv\n",
      "INFO: Exported //cfs2e.nist.gov/642/internal/3D Printing Lab/Shopbot/videos/singleDisturb\\LapRD_LapRD_visc\\I_3.00_S_2.25\\I_3.00_S_2.25_220928\\disturbXS_+y_0.750\\disturbXS_+y_0.750_vidStats_I_3.00_S_2.25_220928_172527_3.csv\n",
      "INFO: Exported //cfs2e.nist.gov/642/internal/3D Printing Lab/Shopbot/videos/singleDisturb\\LapRD_LapRD_visc\\I_3.00_S_2.25\\I_3.00_S_2.25_220928\\disturbXS_+y_0.875\\disturbXS_+y_0.875_vidStats_I_3.00_S_2.25_220928_172629_5.csv\n",
      "INFO: Exported //cfs2e.nist.gov/642/internal/3D Printing Lab/Shopbot/videos/singleDisturb\\LapRD_LapRD_visc\\I_3.00_S_2.25\\I_3.00_S_2.25_220928\\disturbXS_+y_1.000\\disturbXS_+y_1.000_vidStats_I_3.00_S_2.25_220928_172731_8.csv\n",
      "INFO: Exported //cfs2e.nist.gov/642/internal/3D Printing Lab/Shopbot/videos/singleDisturb\\LapRD_LapRD_visc\\I_3.00_S_2.25\\I_3.00_S_2.25_220928\\disturbXS_+y_1.250\\disturbXS_+y_1.250_vidStats_I_3.00_S_2.25_220928_172857_6.csv\n",
      "INFO: Exported //cfs2e.nist.gov/642/internal/3D Printing Lab/Shopbot/videos/singleDisturb\\LapRD_LapRD_visc\\I_3.00_S_2.25\\I_3.00_S_2.25_220928\\disturbXS_+z_0.500\\disturbXS_+z_0.500_vidStats_I_3.00_S_2.25_220928_173002_2.csv\n",
      "INFO: Exported //cfs2e.nist.gov/642/internal/3D Printing Lab/Shopbot/videos/singleDisturb\\LapRD_LapRD_visc\\I_3.00_S_2.25\\I_3.00_S_2.25_220928\\disturbXS_+z_0.625\\disturbXS_+z_0.625_vidStats_I_3.00_S_2.25_220928_173108_4.csv\n",
      "INFO: Exported //cfs2e.nist.gov/642/internal/3D Printing Lab/Shopbot/videos/singleDisturb\\LapRD_LapRD_visc\\I_3.00_S_2.25\\I_3.00_S_2.25_220928\\disturbXS_+z_0.750\\disturbXS_+z_0.750_vidStats_I_3.00_S_2.25_220928_173212_7.csv\n",
      "INFO: Exported //cfs2e.nist.gov/642/internal/3D Printing Lab/Shopbot/videos/singleDisturb\\LapRD_LapRD_visc\\I_3.00_S_2.25\\I_3.00_S_2.25_220928\\disturbXS_+z_0.875\\disturbXS_+z_0.875_vidStats_I_3.00_S_2.25_220928_173319_2.csv\n",
      "INFO: Exported //cfs2e.nist.gov/642/internal/3D Printing Lab/Shopbot/videos/singleDisturb\\LapRD_LapRD_visc\\I_3.00_S_2.25\\I_3.00_S_2.25_220928\\disturbXS_+z_1.000\\disturbXS_+z_1.000_vidStats_I_3.00_S_2.25_220928_173429_0.csv\n",
      "INFO: Exported //cfs2e.nist.gov/642/internal/3D Printing Lab/Shopbot/videos/singleDisturb\\LapRD_LapRD_visc\\I_3.00_S_2.25\\I_3.00_S_2.25_220928\\disturbXS_+z_1.250\\disturbXS_+z_1.250_vidStats_I_3.00_S_2.25_220928_173537_1.csv\n",
      "INFO: Exported //cfs2e.nist.gov/642/internal/3D Printing Lab/Shopbot/videos/singleDisturb\\LapRD_LapRD_visc\\I_3.00_S_2.25\\I_3.00_S_2.25_220928_v1\\disturbHoriz_0.500\\disturbHoriz_0.500_vidStats_I_3.00_S_2.25_220928_142725_0.csv\n",
      "INFO: Exported //cfs2e.nist.gov/642/internal/3D Printing Lab/Shopbot/videos/singleDisturb\\LapRD_LapRD_visc\\I_3.00_S_2.25\\I_3.00_S_2.25_220928_v1\\disturbHoriz_0.625\\disturbHoriz_0.625_vidStats_I_3.00_S_2.25_220928_142828_0.csv\n",
      "INFO: Exported //cfs2e.nist.gov/642/internal/3D Printing Lab/Shopbot/videos/singleDisturb\\LapRD_LapRD_visc\\I_3.00_S_2.25\\I_3.00_S_2.25_220928_v1\\disturbHoriz_0.750\\disturbHoriz_0.750_vidStats_I_3.00_S_2.25_220928_142919_4.csv\n",
      "INFO: Exported //cfs2e.nist.gov/642/internal/3D Printing Lab/Shopbot/videos/singleDisturb\\LapRD_LapRD_visc\\I_3.00_S_2.25\\I_3.00_S_2.25_220928_v1\\disturbHoriz_0.875\\disturbHoriz_0.875_vidStats_I_3.00_S_2.25_220928_143003_2.csv\n",
      "INFO: Exported //cfs2e.nist.gov/642/internal/3D Printing Lab/Shopbot/videos/singleDisturb\\LapRD_LapRD_visc\\I_3.00_S_2.25\\I_3.00_S_2.25_220928_v1\\disturbHoriz_1.000\\disturbHoriz_1.000_vidStats_I_3.00_S_2.25_220928_143047_2.csv\n",
      "INFO: Exported //cfs2e.nist.gov/642/internal/3D Printing Lab/Shopbot/videos/singleDisturb\\LapRD_LapRD_visc\\I_3.00_S_2.25\\I_3.00_S_2.25_220928_v1\\disturbHoriz_1.250\\disturbHoriz_1.250_vidStats_I_3.00_S_2.25_220928_143131_2.csv\n",
      "INFO: Exported //cfs2e.nist.gov/642/internal/3D Printing Lab/Shopbot/videos/singleDisturb\\LapRD_LapRD_visc\\I_3.00_S_2.25\\I_3.00_S_2.25_220928_v1\\disturbVert_0.500\\disturbVert_0.500_vidStats_I_3.00_S_2.25_220928_152757_7.csv\n",
      "INFO: Exported //cfs2e.nist.gov/642/internal/3D Printing Lab/Shopbot/videos/singleDisturb\\LapRD_LapRD_visc\\I_3.00_S_2.25\\I_3.00_S_2.25_220928_v1\\disturbVert_0.625\\disturbVert_0.625_vidStats_I_3.00_S_2.25_220928_152833_3.csv\n",
      "INFO: Exported //cfs2e.nist.gov/642/internal/3D Printing Lab/Shopbot/videos/singleDisturb\\LapRD_LapRD_visc\\I_3.00_S_2.25\\I_3.00_S_2.25_220928_v1\\disturbVert_0.750\\disturbVert_0.750_vidStats_I_3.00_S_2.25_220928_152907_9.csv\n",
      "INFO: Exported //cfs2e.nist.gov/642/internal/3D Printing Lab/Shopbot/videos/singleDisturb\\LapRD_LapRD_visc\\I_3.00_S_2.25\\I_3.00_S_2.25_220928_v1\\disturbVert_0.875\\disturbVert_0.875_vidStats_I_3.00_S_2.25_220928_152942_8.csv\n",
      "INFO: Exported //cfs2e.nist.gov/642/internal/3D Printing Lab/Shopbot/videos/singleDisturb\\LapRD_LapRD_visc\\I_3.00_S_2.25\\I_3.00_S_2.25_220928_v1\\disturbVert_1.000\\disturbVert_1.000_vidStats_I_3.00_S_2.25_220928_153017_7.csv\n",
      "INFO: Exported //cfs2e.nist.gov/642/internal/3D Printing Lab/Shopbot/videos/singleDisturb\\LapRD_LapRD_visc\\I_3.00_S_2.25\\I_3.00_S_2.25_220928_v1\\disturbVert_1.250\\disturbVert_1.250_vidStats_I_3.00_S_2.25_220928_153052_6.csv\n",
      "INFO: Exported //cfs2e.nist.gov/642/internal/3D Printing Lab/Shopbot/videos/singleDisturb\\LapRD_LapRD_visc\\I_3.00_S_2.25\\I_3.00_S_2.25_220928_v2\\disturbHoriz_0.500\\disturbHoriz_0.500_vidStats_I_3.00_S_2.25_220928_152241_5.csv\n",
      "INFO: Exported //cfs2e.nist.gov/642/internal/3D Printing Lab/Shopbot/videos/singleDisturb\\LapRD_LapRD_visc\\I_3.00_S_2.25\\I_3.00_S_2.25_220928_v2\\disturbHoriz_0.625\\disturbHoriz_0.625_vidStats_I_3.00_S_2.25_220928_152329_9.csv\n",
      "INFO: Exported //cfs2e.nist.gov/642/internal/3D Printing Lab/Shopbot/videos/singleDisturb\\LapRD_LapRD_visc\\I_3.00_S_2.25\\I_3.00_S_2.25_220928_v2\\disturbHoriz_0.750\\disturbHoriz_0.750_vidStats_I_3.00_S_2.25_220928_152409_2.csv\n",
      "INFO: Exported //cfs2e.nist.gov/642/internal/3D Printing Lab/Shopbot/videos/singleDisturb\\LapRD_LapRD_visc\\I_3.00_S_2.25\\I_3.00_S_2.25_220928_v2\\disturbHoriz_0.875\\disturbHoriz_0.875_vidStats_I_3.00_S_2.25_220928_152448_5.csv\n",
      "INFO: Exported //cfs2e.nist.gov/642/internal/3D Printing Lab/Shopbot/videos/singleDisturb\\LapRD_LapRD_visc\\I_3.00_S_2.25\\I_3.00_S_2.25_220928_v2\\disturbHoriz_1.000\\disturbHoriz_1.000_vidStats_I_3.00_S_2.25_220928_152527_6.csv\n",
      "INFO: Exported //cfs2e.nist.gov/642/internal/3D Printing Lab/Shopbot/videos/singleDisturb\\LapRD_LapRD_visc\\I_3.00_S_2.25\\I_3.00_S_2.25_220928_v2\\disturbHoriz_1.250\\disturbHoriz_1.250_vidStats_I_3.00_S_2.25_220928_152606_7.csv\n",
      "INFO: Exported //cfs2e.nist.gov/642/internal/3D Printing Lab/Shopbot/videos/singleDisturb\\LapRD_LapRD_visc\\I_3.00_S_2.25\\I_3.00_S_2.25_220928_v2\\disturbVert_0.500\\disturbVert_0.500_vidStats_I_3.00_S_2.25_220928_153330_3.csv\n",
      "INFO: Exported //cfs2e.nist.gov/642/internal/3D Printing Lab/Shopbot/videos/singleDisturb\\LapRD_LapRD_visc\\I_3.00_S_2.25\\I_3.00_S_2.25_220928_v2\\disturbVert_0.625\\disturbVert_0.625_vidStats_I_3.00_S_2.25_220928_153409_8.csv\n",
      "INFO: Exported //cfs2e.nist.gov/642/internal/3D Printing Lab/Shopbot/videos/singleDisturb\\LapRD_LapRD_visc\\I_3.00_S_2.25\\I_3.00_S_2.25_220928_v2\\disturbVert_0.750\\disturbVert_0.750_vidStats_I_3.00_S_2.25_220928_153448_4.csv\n",
      "INFO: Exported //cfs2e.nist.gov/642/internal/3D Printing Lab/Shopbot/videos/singleDisturb\\LapRD_LapRD_visc\\I_3.00_S_2.25\\I_3.00_S_2.25_220928_v2\\disturbVert_0.875\\disturbVert_0.875_vidStats_I_3.00_S_2.25_220928_153527_3.csv\n",
      "INFO: Exported //cfs2e.nist.gov/642/internal/3D Printing Lab/Shopbot/videos/singleDisturb\\LapRD_LapRD_visc\\I_3.00_S_2.25\\I_3.00_S_2.25_220928_v2\\disturbVert_1.000\\disturbVert_1.000_vidStats_I_3.00_S_2.25_220928_153606_1.csv\n",
      "INFO: Exported //cfs2e.nist.gov/642/internal/3D Printing Lab/Shopbot/videos/singleDisturb\\LapRD_LapRD_visc\\I_3.00_S_2.25\\I_3.00_S_2.25_220928_v2\\disturbVert_1.250\\disturbVert_1.250_vidStats_I_3.00_S_2.25_220928_153644_8.csv\n",
      "INFO: Exported //cfs2e.nist.gov/642/internal/3D Printing Lab/Shopbot/videos/singleDisturb\\LapRD_LapRD_visc\\I_3.00_S_2.25\\I_3.00_S_2.25_220928_v2\\disturbXS_+y_0.500\\disturbXS_+y_0.500_vidStats_I_3.00_S_2.25_220928_153913_5.csv\n",
      "INFO: Exported //cfs2e.nist.gov/642/internal/3D Printing Lab/Shopbot/videos/singleDisturb\\LapRD_LapRD_visc\\I_3.00_S_2.25\\I_3.00_S_2.25_220928_v2\\disturbXS_+y_0.625\\disturbXS_+y_0.625_vidStats_I_3.00_S_2.25_220928_154000_0.csv\n",
      "INFO: Exported //cfs2e.nist.gov/642/internal/3D Printing Lab/Shopbot/videos/singleDisturb\\LapRD_LapRD_visc\\I_3.00_S_2.25\\I_3.00_S_2.25_220928_v2\\disturbXS_+y_0.750\\disturbXS_+y_0.750_vidStats_I_3.00_S_2.25_220928_154046_3.csv\n",
      "INFO: Exported //cfs2e.nist.gov/642/internal/3D Printing Lab/Shopbot/videos/singleDisturb\\LapRD_LapRD_visc\\I_3.00_S_2.25\\I_3.00_S_2.25_220928_v2\\disturbXS_+y_0.875\\disturbXS_+y_0.875_vidStats_I_3.00_S_2.25_220928_154132_7.csv\n",
      "INFO: Exported //cfs2e.nist.gov/642/internal/3D Printing Lab/Shopbot/videos/singleDisturb\\LapRD_LapRD_visc\\I_3.00_S_2.25\\I_3.00_S_2.25_220928_v2\\disturbXS_+y_1.000\\disturbXS_+y_1.000_vidStats_I_3.00_S_2.25_220928_154218_8.csv\n",
      "INFO: Exported //cfs2e.nist.gov/642/internal/3D Printing Lab/Shopbot/videos/singleDisturb\\LapRD_LapRD_visc\\I_3.00_S_2.25\\I_3.00_S_2.25_220928_v2\\disturbXS_+y_1.250\\disturbXS_+y_1.250_vidStats_I_3.00_S_2.25_220928_154304_9.csv\n",
      "INFO: Exported //cfs2e.nist.gov/642/internal/3D Printing Lab/Shopbot/videos/singleDisturb\\LapRD_LapRD_visc\\I_3.00_S_2.25\\I_3.00_S_2.25_220928_v2\\disturbXS_+z_0.500\\disturbXS_+z_0.500_vidStats_I_3.00_S_2.25_220928_154350_9.csv\n",
      "INFO: Exported //cfs2e.nist.gov/642/internal/3D Printing Lab/Shopbot/videos/singleDisturb\\LapRD_LapRD_visc\\I_3.00_S_2.25\\I_3.00_S_2.25_220928_v2\\disturbXS_+z_0.625\\disturbXS_+z_0.625_vidStats_I_3.00_S_2.25_220928_154437_5.csv\n",
      "INFO: Exported //cfs2e.nist.gov/642/internal/3D Printing Lab/Shopbot/videos/singleDisturb\\LapRD_LapRD_visc\\I_3.00_S_2.25\\I_3.00_S_2.25_220928_v2\\disturbXS_+z_0.750\\disturbXS_+z_0.750_vidStats_I_3.00_S_2.25_220928_154524_2.csv\n",
      "INFO: Exported //cfs2e.nist.gov/642/internal/3D Printing Lab/Shopbot/videos/singleDisturb\\LapRD_LapRD_visc\\I_3.00_S_2.25\\I_3.00_S_2.25_220928_v2\\disturbXS_+z_0.875\\disturbXS_+z_0.875_vidStats_I_3.00_S_2.25_220928_154611_0.csv\n",
      "INFO: Exported //cfs2e.nist.gov/642/internal/3D Printing Lab/Shopbot/videos/singleDisturb\\LapRD_LapRD_visc\\I_3.00_S_2.25\\I_3.00_S_2.25_220928_v2\\disturbXS_+z_1.000\\disturbXS_+z_1.000_vidStats_I_3.00_S_2.25_220928_154657_5.csv\n",
      "INFO: Exported //cfs2e.nist.gov/642/internal/3D Printing Lab/Shopbot/videos/singleDisturb\\LapRD_LapRD_visc\\I_3.00_S_2.25\\I_3.00_S_2.25_220928_v2\\disturbXS_+z_1.250\\disturbXS_+z_1.250_vidStats_I_3.00_S_2.25_220928_154744_3.csv\n",
      "INFO: Exported //cfs2e.nist.gov/642/internal/3D Printing Lab/Shopbot/videos/singleDisturb\\LapRD_LapRD_visc\\I_3.00_S_2.50\\I_3.00_S_2.50_220928\\disturbHoriz_0.500\\disturbHoriz_0.500_vidStats_I_3.00_S_2.50_220928_155034_3.csv\n",
      "INFO: Exported //cfs2e.nist.gov/642/internal/3D Printing Lab/Shopbot/videos/singleDisturb\\LapRD_LapRD_visc\\I_3.00_S_2.50\\I_3.00_S_2.50_220928\\disturbHoriz_0.625\\disturbHoriz_0.625_vidStats_I_3.00_S_2.50_220928_155114_2.csv\n",
      "INFO: Exported //cfs2e.nist.gov/642/internal/3D Printing Lab/Shopbot/videos/singleDisturb\\LapRD_LapRD_visc\\I_3.00_S_2.50\\I_3.00_S_2.50_220928\\disturbHoriz_0.750\\disturbHoriz_0.750_vidStats_I_3.00_S_2.50_220928_155213_9.csv\n",
      "INFO: Exported //cfs2e.nist.gov/642/internal/3D Printing Lab/Shopbot/videos/singleDisturb\\LapRD_LapRD_visc\\I_3.00_S_2.50\\I_3.00_S_2.50_220928\\disturbHoriz_0.875\\disturbHoriz_0.875_vidStats_I_3.00_S_2.50_220928_155315_3.csv\n",
      "INFO: Exported //cfs2e.nist.gov/642/internal/3D Printing Lab/Shopbot/videos/singleDisturb\\LapRD_LapRD_visc\\I_3.00_S_2.50\\I_3.00_S_2.50_220928\\disturbHoriz_1.000\\disturbHoriz_1.000_vidStats_I_3.00_S_2.50_220928_155408_0.csv\n",
      "INFO: Exported //cfs2e.nist.gov/642/internal/3D Printing Lab/Shopbot/videos/singleDisturb\\LapRD_LapRD_visc\\I_3.00_S_2.50\\I_3.00_S_2.50_220928\\disturbHoriz_1.250\\disturbHoriz_1.250_vidStats_I_3.00_S_2.50_220928_155511_7.csv\n",
      "INFO: Exported //cfs2e.nist.gov/642/internal/3D Printing Lab/Shopbot/videos/singleDisturb\\LapRD_LapRD_visc\\I_3.00_S_2.50\\I_3.00_S_2.50_220928\\disturbVert_0.500\\disturbVert_0.500_vidStats_I_3.00_S_2.50_220928_160239_6.csv\n",
      "INFO: Exported //cfs2e.nist.gov/642/internal/3D Printing Lab/Shopbot/videos/singleDisturb\\LapRD_LapRD_visc\\I_3.00_S_2.50\\I_3.00_S_2.50_220928\\disturbVert_0.625\\disturbVert_0.625_vidStats_I_3.00_S_2.50_220928_161032_0.csv\n",
      "INFO: Exported //cfs2e.nist.gov/642/internal/3D Printing Lab/Shopbot/videos/singleDisturb\\LapRD_LapRD_visc\\I_3.00_S_2.50\\I_3.00_S_2.50_220928\\disturbVert_0.750\\disturbVert_0.750_vidStats_I_3.00_S_2.50_220928_161947_8.csv\n",
      "INFO: Exported //cfs2e.nist.gov/642/internal/3D Printing Lab/Shopbot/videos/singleDisturb\\LapRD_LapRD_visc\\I_3.00_S_2.50\\I_3.00_S_2.50_220928\\disturbVert_0.875\\disturbVert_0.875_vidStats_I_3.00_S_2.50_220928_162043_5.csv\n",
      "INFO: Exported //cfs2e.nist.gov/642/internal/3D Printing Lab/Shopbot/videos/singleDisturb\\LapRD_LapRD_visc\\I_3.00_S_2.50\\I_3.00_S_2.50_220928\\disturbVert_1.000\\disturbVert_1.000_vidStats_I_3.00_S_2.50_220928_162237_4.csv\n",
      "INFO: Exported //cfs2e.nist.gov/642/internal/3D Printing Lab/Shopbot/videos/singleDisturb\\LapRD_LapRD_visc\\I_3.00_S_2.50\\I_3.00_S_2.50_220928\\disturbVert_1.250\\disturbVert_1.250_vidStats_I_3.00_S_2.50_220928_162434_6.csv\n",
      "INFO: Exported //cfs2e.nist.gov/642/internal/3D Printing Lab/Shopbot/videos/singleDisturb\\LapRD_LapRD_visc\\I_3.00_S_2.50\\I_3.00_S_2.50_220928\\disturbXS_+y_0.500\\disturbXS_+y_0.500_vidStats_I_3.00_S_2.50_220928_162610_0.csv\n",
      "INFO: Exported //cfs2e.nist.gov/642/internal/3D Printing Lab/Shopbot/videos/singleDisturb\\LapRD_LapRD_visc\\I_3.00_S_2.50\\I_3.00_S_2.50_220928\\disturbXS_+y_0.625\\disturbXS_+y_0.625_vidStats_I_3.00_S_2.50_220928_162721_2.csv\n",
      "INFO: Exported //cfs2e.nist.gov/642/internal/3D Printing Lab/Shopbot/videos/singleDisturb\\LapRD_LapRD_visc\\I_3.00_S_2.50\\I_3.00_S_2.50_220928\\disturbXS_+y_0.750\\disturbXS_+y_0.750_vidStats_I_3.00_S_2.50_220928_162825_1.csv\n",
      "INFO: Exported //cfs2e.nist.gov/642/internal/3D Printing Lab/Shopbot/videos/singleDisturb\\LapRD_LapRD_visc\\I_3.00_S_2.50\\I_3.00_S_2.50_220928\\disturbXS_+y_0.875\\disturbXS_+y_0.875_vidStats_I_3.00_S_2.50_220928_162940_0.csv\n",
      "INFO: Exported //cfs2e.nist.gov/642/internal/3D Printing Lab/Shopbot/videos/singleDisturb\\LapRD_LapRD_visc\\I_3.00_S_2.50\\I_3.00_S_2.50_220928\\disturbXS_+y_1.000\\disturbXS_+y_1.000_vidStats_I_3.00_S_2.50_220928_163043_8.csv\n",
      "INFO: Exported //cfs2e.nist.gov/642/internal/3D Printing Lab/Shopbot/videos/singleDisturb\\LapRD_LapRD_visc\\I_3.00_S_2.50\\I_3.00_S_2.50_220928\\disturbXS_+y_1.250\\disturbXS_+y_1.250_vidStats_I_3.00_S_2.50_220928_163204_6.csv\n",
      "INFO: Exported //cfs2e.nist.gov/642/internal/3D Printing Lab/Shopbot/videos/singleDisturb\\LapRD_LapRD_visc\\I_3.00_S_2.50\\I_3.00_S_2.50_220928\\disturbXS_+z_0.500\\disturbXS_+z_0.500_vidStats_I_3.00_S_2.50_220928_163306_0.csv\n",
      "INFO: Exported //cfs2e.nist.gov/642/internal/3D Printing Lab/Shopbot/videos/singleDisturb\\LapRD_LapRD_visc\\I_3.00_S_2.50\\I_3.00_S_2.50_220928\\disturbXS_+z_0.625\\disturbXS_+z_0.625_vidStats_I_3.00_S_2.50_220928_163418_7.csv\n",
      "INFO: Exported //cfs2e.nist.gov/642/internal/3D Printing Lab/Shopbot/videos/singleDisturb\\LapRD_LapRD_visc\\I_3.00_S_2.50\\I_3.00_S_2.50_220928\\disturbXS_+z_0.750\\disturbXS_+z_0.750_vidStats_I_3.00_S_2.50_220928_163523_4.csv\n",
      "INFO: Exported //cfs2e.nist.gov/642/internal/3D Printing Lab/Shopbot/videos/singleDisturb\\LapRD_LapRD_visc\\I_3.00_S_2.50\\I_3.00_S_2.50_220928\\disturbXS_+z_0.875\\disturbXS_+z_0.875_vidStats_I_3.00_S_2.50_220928_163626_1.csv\n",
      "INFO: Exported //cfs2e.nist.gov/642/internal/3D Printing Lab/Shopbot/videos/singleDisturb\\LapRD_LapRD_visc\\I_3.00_S_2.50\\I_3.00_S_2.50_220928\\disturbXS_+z_1.000\\disturbXS_+z_1.000_vidStats_I_3.00_S_2.50_220928_163729_2.csv\n",
      "INFO: Exported //cfs2e.nist.gov/642/internal/3D Printing Lab/Shopbot/videos/singleDisturb\\LapRD_LapRD_visc\\I_3.00_S_2.50\\I_3.00_S_2.50_220928\\disturbXS_+z_1.250\\disturbXS_+z_1.250_vidStats_I_3.00_S_2.50_220928_163830_6.csv\n",
      "INFO: Exported //cfs2e.nist.gov/642/internal/3D Printing Lab/Shopbot/videos/singleDisturb\\LapRD_LapRD_visc\\I_3.00_S_2.75\\I_3.00_S_2.75_220928\\disturbHoriz_0.500\\disturbHoriz_0.500_vidStats_I_3.00_S_2.75_220928_164017_3.csv\n",
      "INFO: Exported //cfs2e.nist.gov/642/internal/3D Printing Lab/Shopbot/videos/singleDisturb\\LapRD_LapRD_visc\\I_3.00_S_2.75\\I_3.00_S_2.75_220928\\disturbHoriz_0.625\\disturbHoriz_0.625_vidStats_I_3.00_S_2.75_220928_164117_5.csv\n",
      "INFO: Exported //cfs2e.nist.gov/642/internal/3D Printing Lab/Shopbot/videos/singleDisturb\\LapRD_LapRD_visc\\I_3.00_S_2.75\\I_3.00_S_2.75_220928\\disturbHoriz_0.750\\disturbHoriz_0.750_vidStats_I_3.00_S_2.75_220928_164215_5.csv\n",
      "INFO: Exported //cfs2e.nist.gov/642/internal/3D Printing Lab/Shopbot/videos/singleDisturb\\LapRD_LapRD_visc\\I_3.00_S_2.75\\I_3.00_S_2.75_220928\\disturbHoriz_0.875\\disturbHoriz_0.875_vidStats_I_3.00_S_2.75_220928_164310_9.csv\n",
      "INFO: Exported //cfs2e.nist.gov/642/internal/3D Printing Lab/Shopbot/videos/singleDisturb\\LapRD_LapRD_visc\\I_3.00_S_2.75\\I_3.00_S_2.75_220928\\disturbHoriz_1.000\\disturbHoriz_1.000_vidStats_I_3.00_S_2.75_220928_164403_8.csv\n",
      "INFO: Exported //cfs2e.nist.gov/642/internal/3D Printing Lab/Shopbot/videos/singleDisturb\\LapRD_LapRD_visc\\I_3.00_S_2.75\\I_3.00_S_2.75_220928\\disturbHoriz_1.250\\disturbHoriz_1.250_vidStats_I_3.00_S_2.75_220928_164459_6.csv\n",
      "INFO: Exported //cfs2e.nist.gov/642/internal/3D Printing Lab/Shopbot/videos/singleDisturb\\LapRD_LapRD_visc\\I_3.00_S_2.75\\I_3.00_S_2.75_220928\\disturbVert_0.500\\disturbVert_0.500_vidStats_I_3.00_S_2.75_220928_164645_4.csv\n",
      "INFO: Exported //cfs2e.nist.gov/642/internal/3D Printing Lab/Shopbot/videos/singleDisturb\\LapRD_LapRD_visc\\I_3.00_S_2.75\\I_3.00_S_2.75_220928\\disturbVert_0.625\\disturbVert_0.625_vidStats_I_3.00_S_2.75_220928_164741_9.csv\n",
      "INFO: Exported //cfs2e.nist.gov/642/internal/3D Printing Lab/Shopbot/videos/singleDisturb\\LapRD_LapRD_visc\\I_3.00_S_2.75\\I_3.00_S_2.75_220928\\disturbVert_0.750\\disturbVert_0.750_vidStats_I_3.00_S_2.75_220928_164842_1.csv\n",
      "INFO: Exported //cfs2e.nist.gov/642/internal/3D Printing Lab/Shopbot/videos/singleDisturb\\LapRD_LapRD_visc\\I_3.00_S_2.75\\I_3.00_S_2.75_220928\\disturbVert_0.875\\disturbVert_0.875_vidStats_I_3.00_S_2.75_220928_164934_4.csv\n",
      "INFO: Exported //cfs2e.nist.gov/642/internal/3D Printing Lab/Shopbot/videos/singleDisturb\\LapRD_LapRD_visc\\I_3.00_S_2.75\\I_3.00_S_2.75_220928\\disturbVert_1.000\\disturbVert_1.000_vidStats_I_3.00_S_2.75_220928_165027_0.csv\n",
      "INFO: Exported //cfs2e.nist.gov/642/internal/3D Printing Lab/Shopbot/videos/singleDisturb\\LapRD_LapRD_visc\\I_3.00_S_2.75\\I_3.00_S_2.75_220928\\disturbVert_1.250\\disturbVert_1.250_vidStats_I_3.00_S_2.75_220928_165118_6.csv\n",
      "INFO: Exported //cfs2e.nist.gov/642/internal/3D Printing Lab/Shopbot/videos/singleDisturb\\LapRD_LapRD_visc\\I_3.00_S_2.75\\I_3.00_S_2.75_220928\\disturbXS_+y_0.500\\disturbXS_+y_0.500_vidStats_I_3.00_S_2.75_220928_165450_8.csv\n",
      "INFO: Exported //cfs2e.nist.gov/642/internal/3D Printing Lab/Shopbot/videos/singleDisturb\\LapRD_LapRD_visc\\I_3.00_S_2.75\\I_3.00_S_2.75_220928\\disturbXS_+y_0.625\\disturbXS_+y_0.625_vidStats_I_3.00_S_2.75_220928_165600_9.csv\n",
      "INFO: Exported //cfs2e.nist.gov/642/internal/3D Printing Lab/Shopbot/videos/singleDisturb\\LapRD_LapRD_visc\\I_3.00_S_2.75\\I_3.00_S_2.75_220928\\disturbXS_+y_0.750\\disturbXS_+y_0.750_vidStats_I_3.00_S_2.75_220928_165705_1.csv\n",
      "INFO: Exported //cfs2e.nist.gov/642/internal/3D Printing Lab/Shopbot/videos/singleDisturb\\LapRD_LapRD_visc\\I_3.00_S_2.75\\I_3.00_S_2.75_220928\\disturbXS_+y_0.875\\disturbXS_+y_0.875_vidStats_I_3.00_S_2.75_220928_165809_7.csv\n",
      "INFO: Exported //cfs2e.nist.gov/642/internal/3D Printing Lab/Shopbot/videos/singleDisturb\\LapRD_LapRD_visc\\I_3.00_S_2.75\\I_3.00_S_2.75_220928\\disturbXS_+y_1.000\\disturbXS_+y_1.000_vidStats_I_3.00_S_2.75_220928_165912_7.csv\n",
      "INFO: Exported //cfs2e.nist.gov/642/internal/3D Printing Lab/Shopbot/videos/singleDisturb\\LapRD_LapRD_visc\\I_3.00_S_2.75\\I_3.00_S_2.75_220928\\disturbXS_+y_1.250\\disturbXS_+y_1.250_vidStats_I_3.00_S_2.75_220928_170025_1.csv\n",
      "INFO: Exported //cfs2e.nist.gov/642/internal/3D Printing Lab/Shopbot/videos/singleDisturb\\LapRD_LapRD_visc\\I_3.00_S_2.75\\I_3.00_S_2.75_220928\\disturbXS_+z_0.500\\disturbXS_+z_0.500_vidStats_I_3.00_S_2.75_220928_170127_7.csv\n",
      "INFO: Exported //cfs2e.nist.gov/642/internal/3D Printing Lab/Shopbot/videos/singleDisturb\\LapRD_LapRD_visc\\I_3.00_S_2.75\\I_3.00_S_2.75_220928\\disturbXS_+z_0.625\\disturbXS_+z_0.625_vidStats_I_3.00_S_2.75_220928_170231_6.csv\n",
      "INFO: Exported //cfs2e.nist.gov/642/internal/3D Printing Lab/Shopbot/videos/singleDisturb\\LapRD_LapRD_visc\\I_3.00_S_2.75\\I_3.00_S_2.75_220928\\disturbXS_+z_0.750\\disturbXS_+z_0.750_vidStats_I_3.00_S_2.75_220928_170338_0.csv\n",
      "INFO: Exported //cfs2e.nist.gov/642/internal/3D Printing Lab/Shopbot/videos/singleDisturb\\LapRD_LapRD_visc\\I_3.00_S_2.75\\I_3.00_S_2.75_220928\\disturbXS_+z_0.875\\disturbXS_+z_0.875_vidStats_I_3.00_S_2.75_220928_170438_4.csv\n",
      "INFO: Exported //cfs2e.nist.gov/642/internal/3D Printing Lab/Shopbot/videos/singleDisturb\\LapRD_LapRD_visc\\I_3.00_S_2.75\\I_3.00_S_2.75_220928\\disturbXS_+z_1.000\\disturbXS_+z_1.000_vidStats_I_3.00_S_2.75_220928_170543_5.csv\n",
      "INFO: Exported //cfs2e.nist.gov/642/internal/3D Printing Lab/Shopbot/videos/singleDisturb\\LapRD_LapRD_visc\\I_3.00_S_2.75\\I_3.00_S_2.75_220928\\disturbXS_+z_1.250\\disturbXS_+z_1.250_vidStats_I_3.00_S_2.75_220928_170643_8.csv\n",
      "INFO: Exported //cfs2e.nist.gov/642/internal/3D Printing Lab/Shopbot/videos/singleDisturb\\mineral_LapRD_visc\\I_M7_S_3.00\\I_M7_S_3.00_220930\\disturbHoriz2_0.500\\disturbHoriz2_0.500_vidStats_I_M7_S_3.00_220930_105332_3.csv\n",
      "INFO: Exported //cfs2e.nist.gov/642/internal/3D Printing Lab/Shopbot/videos/singleDisturb\\mineral_LapRD_visc\\I_M7_S_3.00\\I_M7_S_3.00_220930\\disturbHoriz2_0.625\\disturbHoriz2_0.625_vidStats_I_M7_S_3.00_220930_105427_9.csv\n",
      "INFO: Exported //cfs2e.nist.gov/642/internal/3D Printing Lab/Shopbot/videos/singleDisturb\\mineral_LapRD_visc\\I_M7_S_3.00\\I_M7_S_3.00_220930\\disturbHoriz2_0.750\\disturbHoriz2_0.750_vidStats_I_M7_S_3.00_220930_105507_8.csv\n",
      "INFO: Exported //cfs2e.nist.gov/642/internal/3D Printing Lab/Shopbot/videos/singleDisturb\\mineral_LapRD_visc\\I_M7_S_3.00\\I_M7_S_3.00_220930\\disturbHoriz2_0.875\\disturbHoriz2_0.875_vidStats_I_M7_S_3.00_220930_105547_9.csv\n",
      "INFO: Exported //cfs2e.nist.gov/642/internal/3D Printing Lab/Shopbot/videos/singleDisturb\\mineral_LapRD_visc\\I_M7_S_3.00\\I_M7_S_3.00_220930\\disturbHoriz2_1.000\\disturbHoriz2_1.000_vidStats_I_M7_S_3.00_220930_105627_8.csv\n",
      "INFO: Exported //cfs2e.nist.gov/642/internal/3D Printing Lab/Shopbot/videos/singleDisturb\\mineral_LapRD_visc\\I_M7_S_3.00\\I_M7_S_3.00_220930\\disturbHoriz2_1.250\\disturbHoriz2_1.250_vidStats_I_M7_S_3.00_220930_105707_8.csv\n",
      "INFO: Exported //cfs2e.nist.gov/642/internal/3D Printing Lab/Shopbot/videos/singleDisturb\\mineral_LapRD_visc\\I_M7_S_3.00\\I_M7_S_3.00_220930\\disturbVert_0.500\\disturbVert_0.500_vidStats_I_M7_S_3.00_220930_105840_7.csv\n",
      "INFO: Exported //cfs2e.nist.gov/642/internal/3D Printing Lab/Shopbot/videos/singleDisturb\\mineral_LapRD_visc\\I_M7_S_3.00\\I_M7_S_3.00_220930\\disturbVert_0.625\\disturbVert_0.625_vidStats_I_M7_S_3.00_220930_105923_6.csv\n",
      "INFO: Exported //cfs2e.nist.gov/642/internal/3D Printing Lab/Shopbot/videos/singleDisturb\\mineral_LapRD_visc\\I_M7_S_3.00\\I_M7_S_3.00_220930\\disturbVert_0.750\\disturbVert_0.750_vidStats_I_M7_S_3.00_220930_110003_2.csv\n",
      "INFO: Exported //cfs2e.nist.gov/642/internal/3D Printing Lab/Shopbot/videos/singleDisturb\\mineral_LapRD_visc\\I_M7_S_3.00\\I_M7_S_3.00_220930\\disturbVert_0.875\\disturbVert_0.875_vidStats_I_M7_S_3.00_220930_110042_9.csv\n",
      "INFO: Exported //cfs2e.nist.gov/642/internal/3D Printing Lab/Shopbot/videos/singleDisturb\\mineral_LapRD_visc\\I_M7_S_3.00\\I_M7_S_3.00_220930\\disturbVert_1.000\\disturbVert_1.000_vidStats_I_M7_S_3.00_220930_110122_6.csv\n",
      "INFO: Exported //cfs2e.nist.gov/642/internal/3D Printing Lab/Shopbot/videos/singleDisturb\\mineral_LapRD_visc\\I_M7_S_3.00\\I_M7_S_3.00_220930\\disturbVert_1.250\\disturbVert_1.250_vidStats_I_M7_S_3.00_220930_110202_5.csv\n",
      "INFO: Exported //cfs2e.nist.gov/642/internal/3D Printing Lab/Shopbot/videos/singleDisturb\\mineral_LapRD_visc\\I_M7_S_3.00\\I_M7_S_3.00_220930\\disturbXS_+y_0.500\\disturbXS_+y_0.500_vidStats_I_M7_S_3.00_220930_110345_4.csv\n",
      "INFO: Exported //cfs2e.nist.gov/642/internal/3D Printing Lab/Shopbot/videos/singleDisturb\\mineral_LapRD_visc\\I_M7_S_3.00\\I_M7_S_3.00_220930\\disturbXS_+y_0.625\\disturbXS_+y_0.625_vidStats_I_M7_S_3.00_220930_110452_6.csv\n",
      "INFO: Exported //cfs2e.nist.gov/642/internal/3D Printing Lab/Shopbot/videos/singleDisturb\\mineral_LapRD_visc\\I_M7_S_3.00\\I_M7_S_3.00_220930\\disturbXS_+y_0.750\\disturbXS_+y_0.750_vidStats_I_M7_S_3.00_220930_110539_7.csv\n",
      "INFO: Exported //cfs2e.nist.gov/642/internal/3D Printing Lab/Shopbot/videos/singleDisturb\\mineral_LapRD_visc\\I_M7_S_3.00\\I_M7_S_3.00_220930\\disturbXS_+y_0.875\\disturbXS_+y_0.875_vidStats_I_M7_S_3.00_220930_110626_7.csv\n",
      "INFO: Exported //cfs2e.nist.gov/642/internal/3D Printing Lab/Shopbot/videos/singleDisturb\\mineral_LapRD_visc\\I_M7_S_3.00\\I_M7_S_3.00_220930\\disturbXS_+y_1.000\\disturbXS_+y_1.000_vidStats_I_M7_S_3.00_220930_110713_9.csv\n",
      "INFO: Exported //cfs2e.nist.gov/642/internal/3D Printing Lab/Shopbot/videos/singleDisturb\\mineral_LapRD_visc\\I_M7_S_3.00\\I_M7_S_3.00_220930\\disturbXS_+y_1.250\\disturbXS_+y_1.250_vidStats_I_M7_S_3.00_220930_110800_8.csv\n",
      "INFO: Exported //cfs2e.nist.gov/642/internal/3D Printing Lab/Shopbot/videos/singleDisturb\\mineral_LapRD_visc\\I_M7_S_3.00\\I_M7_S_3.00_220930\\disturbXS_+z_0.500\\disturbXS_+z_0.500_vidStats_I_M7_S_3.00_220930_110847_7.csv\n",
      "INFO: Exported //cfs2e.nist.gov/642/internal/3D Printing Lab/Shopbot/videos/singleDisturb\\mineral_LapRD_visc\\I_M7_S_3.00\\I_M7_S_3.00_220930\\disturbXS_+z_0.625\\disturbXS_+z_0.625_vidStats_I_M7_S_3.00_220930_110935_1.csv\n",
      "INFO: Exported //cfs2e.nist.gov/642/internal/3D Printing Lab/Shopbot/videos/singleDisturb\\mineral_LapRD_visc\\I_M7_S_3.00\\I_M7_S_3.00_220930\\disturbXS_+z_0.750\\disturbXS_+z_0.750_vidStats_I_M7_S_3.00_220930_111022_6.csv\n",
      "INFO: Exported //cfs2e.nist.gov/642/internal/3D Printing Lab/Shopbot/videos/singleDisturb\\mineral_LapRD_visc\\I_M7_S_3.00\\I_M7_S_3.00_220930\\disturbXS_+z_0.875\\disturbXS_+z_0.875_vidStats_I_M7_S_3.00_220930_111110_7.csv\n",
      "INFO: Exported //cfs2e.nist.gov/642/internal/3D Printing Lab/Shopbot/videos/singleDisturb\\mineral_LapRD_visc\\I_M7_S_3.00\\I_M7_S_3.00_220930\\disturbXS_+z_1.000\\disturbXS_+z_1.000_vidStats_I_M7_S_3.00_220930_111158_2.csv\n",
      "INFO: Exported //cfs2e.nist.gov/642/internal/3D Printing Lab/Shopbot/videos/singleDisturb\\mineral_LapRD_visc\\I_M7_S_3.00\\I_M7_S_3.00_220930\\disturbXS_+z_1.250\\disturbXS_+z_1.250_vidStats_I_M7_S_3.00_220930_111245_8.csv\n",
      "INFO: Exported //cfs2e.nist.gov/642/internal/3D Printing Lab/Shopbot/videos/singleDisturb\\mineral_LapRD_visc\\I_M7_S_3.50\\I_M7_S_3.50_220930\\disturbHoriz2_0.500\\disturbHoriz2_0.500_vidStats_I_M7_S_3.50_220930_111421_6.csv\n",
      "INFO: Exported //cfs2e.nist.gov/642/internal/3D Printing Lab/Shopbot/videos/singleDisturb\\mineral_LapRD_visc\\I_M7_S_3.50\\I_M7_S_3.50_220930\\disturbHoriz2_0.625\\disturbHoriz2_0.625_vidStats_I_M7_S_3.50_220930_111505_2.csv\n",
      "INFO: Exported //cfs2e.nist.gov/642/internal/3D Printing Lab/Shopbot/videos/singleDisturb\\mineral_LapRD_visc\\I_M7_S_3.50\\I_M7_S_3.50_220930\\disturbHoriz2_0.750\\disturbHoriz2_0.750_vidStats_I_M7_S_3.50_220930_111544_1.csv\n",
      "INFO: Exported //cfs2e.nist.gov/642/internal/3D Printing Lab/Shopbot/videos/singleDisturb\\mineral_LapRD_visc\\I_M7_S_3.50\\I_M7_S_3.50_220930\\disturbHoriz2_0.875\\disturbHoriz2_0.875_vidStats_I_M7_S_3.50_220930_111623_0.csv\n",
      "INFO: Exported //cfs2e.nist.gov/642/internal/3D Printing Lab/Shopbot/videos/singleDisturb\\mineral_LapRD_visc\\I_M7_S_3.50\\I_M7_S_3.50_220930\\disturbHoriz2_1.000\\disturbHoriz2_1.000_vidStats_I_M7_S_3.50_220930_111702_0.csv\n",
      "INFO: Exported //cfs2e.nist.gov/642/internal/3D Printing Lab/Shopbot/videos/singleDisturb\\mineral_LapRD_visc\\I_M7_S_3.50\\I_M7_S_3.50_220930\\disturbHoriz2_1.250\\disturbHoriz2_1.250_vidStats_I_M7_S_3.50_220930_111741_1.csv\n",
      "INFO: Exported //cfs2e.nist.gov/642/internal/3D Printing Lab/Shopbot/videos/singleDisturb\\mineral_LapRD_visc\\I_M7_S_3.50\\I_M7_S_3.50_220930\\disturbVert_0.500\\disturbVert_0.500_vidStats_I_M7_S_3.50_220930_111850_7.csv\n",
      "INFO: Exported //cfs2e.nist.gov/642/internal/3D Printing Lab/Shopbot/videos/singleDisturb\\mineral_LapRD_visc\\I_M7_S_3.50\\I_M7_S_3.50_220930\\disturbVert_0.625\\disturbVert_0.625_vidStats_I_M7_S_3.50_220930_111933_7.csv\n",
      "INFO: Exported //cfs2e.nist.gov/642/internal/3D Printing Lab/Shopbot/videos/singleDisturb\\mineral_LapRD_visc\\I_M7_S_3.50\\I_M7_S_3.50_220930\\disturbVert_0.750\\disturbVert_0.750_vidStats_I_M7_S_3.50_220930_112013_4.csv\n",
      "INFO: Exported //cfs2e.nist.gov/642/internal/3D Printing Lab/Shopbot/videos/singleDisturb\\mineral_LapRD_visc\\I_M7_S_3.50\\I_M7_S_3.50_220930\\disturbVert_0.875\\disturbVert_0.875_vidStats_I_M7_S_3.50_220930_112053_1.csv\n",
      "INFO: Exported //cfs2e.nist.gov/642/internal/3D Printing Lab/Shopbot/videos/singleDisturb\\mineral_LapRD_visc\\I_M7_S_3.50\\I_M7_S_3.50_220930\\disturbVert_1.000\\disturbVert_1.000_vidStats_I_M7_S_3.50_220930_112132_9.csv\n",
      "INFO: Exported //cfs2e.nist.gov/642/internal/3D Printing Lab/Shopbot/videos/singleDisturb\\mineral_LapRD_visc\\I_M7_S_3.50\\I_M7_S_3.50_220930\\disturbVert_1.250\\disturbVert_1.250_vidStats_I_M7_S_3.50_220930_112212_5.csv\n",
      "INFO: Exported //cfs2e.nist.gov/642/internal/3D Printing Lab/Shopbot/videos/singleDisturb\\mineral_LapRD_visc\\I_M7_S_3.50\\I_M7_S_3.50_220930\\disturbXS_+y_0.500\\disturbXS_+y_0.500_vidStats_I_M7_S_3.50_220930_112330_6.csv\n",
      "INFO: Exported //cfs2e.nist.gov/642/internal/3D Printing Lab/Shopbot/videos/singleDisturb\\mineral_LapRD_visc\\I_M7_S_3.50\\I_M7_S_3.50_220930\\disturbXS_+y_0.625\\disturbXS_+y_0.625_vidStats_I_M7_S_3.50_220930_112417_9.csv\n",
      "INFO: Exported //cfs2e.nist.gov/642/internal/3D Printing Lab/Shopbot/videos/singleDisturb\\mineral_LapRD_visc\\I_M7_S_3.50\\I_M7_S_3.50_220930\\disturbXS_+y_0.750\\disturbXS_+y_0.750_vidStats_I_M7_S_3.50_220930_112505_0.csv\n",
      "INFO: Exported //cfs2e.nist.gov/642/internal/3D Printing Lab/Shopbot/videos/singleDisturb\\mineral_LapRD_visc\\I_M7_S_3.50\\I_M7_S_3.50_220930\\disturbXS_+y_0.875\\disturbXS_+y_0.875_vidStats_I_M7_S_3.50_220930_112552_0.csv\n",
      "INFO: Exported //cfs2e.nist.gov/642/internal/3D Printing Lab/Shopbot/videos/singleDisturb\\mineral_LapRD_visc\\I_M7_S_3.50\\I_M7_S_3.50_220930\\disturbXS_+y_1.000\\disturbXS_+y_1.000_vidStats_I_M7_S_3.50_220930_112639_0.csv\n",
      "INFO: Exported //cfs2e.nist.gov/642/internal/3D Printing Lab/Shopbot/videos/singleDisturb\\mineral_LapRD_visc\\I_M7_S_3.50\\I_M7_S_3.50_220930\\disturbXS_+y_1.250\\disturbXS_+y_1.250_vidStats_I_M7_S_3.50_220930_112726_1.csv\n",
      "INFO: Exported //cfs2e.nist.gov/642/internal/3D Printing Lab/Shopbot/videos/singleDisturb\\mineral_LapRD_visc\\I_M7_S_3.50\\I_M7_S_3.50_220930\\disturbXS_+z_0.500\\disturbXS_+z_0.500_vidStats_I_M7_S_3.50_220930_112812_9.csv\n",
      "INFO: Exported //cfs2e.nist.gov/642/internal/3D Printing Lab/Shopbot/videos/singleDisturb\\mineral_LapRD_visc\\I_M7_S_3.50\\I_M7_S_3.50_220930\\disturbXS_+z_0.625\\disturbXS_+z_0.625_vidStats_I_M7_S_3.50_220930_112900_4.csv\n",
      "INFO: Exported //cfs2e.nist.gov/642/internal/3D Printing Lab/Shopbot/videos/singleDisturb\\mineral_LapRD_visc\\I_M7_S_3.50\\I_M7_S_3.50_220930\\disturbXS_+z_0.750\\disturbXS_+z_0.750_vidStats_I_M7_S_3.50_220930_112947_8.csv\n",
      "INFO: Exported //cfs2e.nist.gov/642/internal/3D Printing Lab/Shopbot/videos/singleDisturb\\mineral_LapRD_visc\\I_M7_S_3.50\\I_M7_S_3.50_220930\\disturbXS_+z_0.875\\disturbXS_+z_0.875_vidStats_I_M7_S_3.50_220930_113035_4.csv\n",
      "INFO: Exported //cfs2e.nist.gov/642/internal/3D Printing Lab/Shopbot/videos/singleDisturb\\mineral_LapRD_visc\\I_M7_S_3.50\\I_M7_S_3.50_220930\\disturbXS_+z_1.000\\disturbXS_+z_1.000_vidStats_I_M7_S_3.50_220930_113122_9.csv\n",
      "INFO: Exported //cfs2e.nist.gov/642/internal/3D Printing Lab/Shopbot/videos/singleDisturb\\mineral_LapRD_visc\\I_M7_S_3.50\\I_M7_S_3.50_220930\\disturbXS_+z_1.250\\disturbXS_+z_1.250_vidStats_I_M7_S_3.50_220930_113210_5.csv\n",
      "INFO: Exported //cfs2e.nist.gov/642/internal/3D Printing Lab/Shopbot/videos/singleDisturb\\mineral_LapRD_visc\\I_M7_S_4.00\\I_M7_S_4.00_220930\\disturbHoriz2_0.500\\disturbHoriz2_0.500_vidStats_I_M7_S_4.00_220930_113410_9.csv\n",
      "INFO: Exported //cfs2e.nist.gov/642/internal/3D Printing Lab/Shopbot/videos/singleDisturb\\mineral_LapRD_visc\\I_M7_S_4.00\\I_M7_S_4.00_220930\\disturbHoriz2_0.625\\disturbHoriz2_0.625_vidStats_I_M7_S_4.00_220930_113454_7.csv\n",
      "INFO: Exported //cfs2e.nist.gov/642/internal/3D Printing Lab/Shopbot/videos/singleDisturb\\mineral_LapRD_visc\\I_M7_S_4.00\\I_M7_S_4.00_220930\\disturbHoriz2_0.750\\disturbHoriz2_0.750_vidStats_I_M7_S_4.00_220930_113533_7.csv\n",
      "INFO: Exported //cfs2e.nist.gov/642/internal/3D Printing Lab/Shopbot/videos/singleDisturb\\mineral_LapRD_visc\\I_M7_S_4.00\\I_M7_S_4.00_220930\\disturbHoriz2_0.875\\disturbHoriz2_0.875_vidStats_I_M7_S_4.00_220930_113612_8.csv\n",
      "INFO: Exported //cfs2e.nist.gov/642/internal/3D Printing Lab/Shopbot/videos/singleDisturb\\mineral_LapRD_visc\\I_M7_S_4.00\\I_M7_S_4.00_220930\\disturbHoriz2_1.000\\disturbHoriz2_1.000_vidStats_I_M7_S_4.00_220930_113651_7.csv\n",
      "INFO: Exported //cfs2e.nist.gov/642/internal/3D Printing Lab/Shopbot/videos/singleDisturb\\mineral_LapRD_visc\\I_M7_S_4.00\\I_M7_S_4.00_220930\\disturbHoriz2_1.250\\disturbHoriz2_1.250_vidStats_I_M7_S_4.00_220930_113730_7.csv\n",
      "INFO: Exported //cfs2e.nist.gov/642/internal/3D Printing Lab/Shopbot/videos/singleDisturb\\mineral_LapRD_visc\\I_M7_S_4.00\\I_M7_S_4.00_220930\\disturbVert_0.500\\disturbVert_0.500_vidStats_I_M7_S_4.00_220930_113848_4.csv\n",
      "INFO: Exported //cfs2e.nist.gov/642/internal/3D Printing Lab/Shopbot/videos/singleDisturb\\mineral_LapRD_visc\\I_M7_S_4.00\\I_M7_S_4.00_220930\\disturbVert_0.625\\disturbVert_0.625_vidStats_I_M7_S_4.00_220930_113931_3.csv\n",
      "INFO: Exported //cfs2e.nist.gov/642/internal/3D Printing Lab/Shopbot/videos/singleDisturb\\mineral_LapRD_visc\\I_M7_S_4.00\\I_M7_S_4.00_220930\\disturbVert_0.750\\disturbVert_0.750_vidStats_I_M7_S_4.00_220930_114011_0.csv\n",
      "INFO: Exported //cfs2e.nist.gov/642/internal/3D Printing Lab/Shopbot/videos/singleDisturb\\mineral_LapRD_visc\\I_M7_S_4.00\\I_M7_S_4.00_220930\\disturbVert_0.875\\disturbVert_0.875_vidStats_I_M7_S_4.00_220930_114050_7.csv\n",
      "INFO: Exported //cfs2e.nist.gov/642/internal/3D Printing Lab/Shopbot/videos/singleDisturb\\mineral_LapRD_visc\\I_M7_S_4.00\\I_M7_S_4.00_220930\\disturbVert_1.000\\disturbVert_1.000_vidStats_I_M7_S_4.00_220930_114130_3.csv\n",
      "INFO: Exported //cfs2e.nist.gov/642/internal/3D Printing Lab/Shopbot/videos/singleDisturb\\mineral_LapRD_visc\\I_M7_S_4.00\\I_M7_S_4.00_220930\\disturbVert_1.250\\disturbVert_1.250_vidStats_I_M7_S_4.00_220930_114209_9.csv\n",
      "INFO: Exported //cfs2e.nist.gov/642/internal/3D Printing Lab/Shopbot/videos/singleDisturb\\mineral_LapRD_visc\\I_M7_S_4.00\\I_M7_S_4.00_220930\\disturbXS_+y_0.500\\disturbXS_+y_0.500_vidStats_I_M7_S_4.00_220930_114321_7.csv\n",
      "INFO: Exported //cfs2e.nist.gov/642/internal/3D Printing Lab/Shopbot/videos/singleDisturb\\mineral_LapRD_visc\\I_M7_S_4.00\\I_M7_S_4.00_220930\\disturbXS_+y_0.625\\disturbXS_+y_0.625_vidStats_I_M7_S_4.00_220930_114408_9.csv\n",
      "INFO: Exported //cfs2e.nist.gov/642/internal/3D Printing Lab/Shopbot/videos/singleDisturb\\mineral_LapRD_visc\\I_M7_S_4.00\\I_M7_S_4.00_220930\\disturbXS_+y_0.750\\disturbXS_+y_0.750_vidStats_I_M7_S_4.00_220930_114455_9.csv\n",
      "INFO: Exported //cfs2e.nist.gov/642/internal/3D Printing Lab/Shopbot/videos/singleDisturb\\mineral_LapRD_visc\\I_M7_S_4.00\\I_M7_S_4.00_220930\\disturbXS_+y_0.875\\disturbXS_+y_0.875_vidStats_I_M7_S_4.00_220930_114542_9.csv\n",
      "INFO: Exported //cfs2e.nist.gov/642/internal/3D Printing Lab/Shopbot/videos/singleDisturb\\mineral_LapRD_visc\\I_M7_S_4.00\\I_M7_S_4.00_220930\\disturbXS_+y_1.000\\disturbXS_+y_1.000_vidStats_I_M7_S_4.00_220930_114630_1.csv\n",
      "INFO: Exported //cfs2e.nist.gov/642/internal/3D Printing Lab/Shopbot/videos/singleDisturb\\mineral_LapRD_visc\\I_M7_S_4.00\\I_M7_S_4.00_220930\\disturbXS_+y_1.250\\disturbXS_+y_1.250_vidStats_I_M7_S_4.00_220930_114717_2.csv\n",
      "INFO: Exported //cfs2e.nist.gov/642/internal/3D Printing Lab/Shopbot/videos/singleDisturb\\mineral_LapRD_visc\\I_M7_S_4.00\\I_M7_S_4.00_220930\\disturbXS_+z_0.500\\disturbXS_+z_0.500_vidStats_I_M7_S_4.00_220930_114804_0.csv\n",
      "INFO: Exported //cfs2e.nist.gov/642/internal/3D Printing Lab/Shopbot/videos/singleDisturb\\mineral_LapRD_visc\\I_M7_S_4.00\\I_M7_S_4.00_220930\\disturbXS_+z_0.625\\disturbXS_+z_0.625_vidStats_I_M7_S_4.00_220930_114851_6.csv\n",
      "INFO: Exported //cfs2e.nist.gov/642/internal/3D Printing Lab/Shopbot/videos/singleDisturb\\mineral_LapRD_visc\\I_M7_S_4.00\\I_M7_S_4.00_220930\\disturbXS_+z_0.750\\disturbXS_+z_0.750_vidStats_I_M7_S_4.00_220930_114938_8.csv\n",
      "INFO: Exported //cfs2e.nist.gov/642/internal/3D Printing Lab/Shopbot/videos/singleDisturb\\mineral_LapRD_visc\\I_M7_S_4.00\\I_M7_S_4.00_220930\\disturbXS_+z_0.875\\disturbXS_+z_0.875_vidStats_I_M7_S_4.00_220930_115026_2.csv\n",
      "INFO: Exported //cfs2e.nist.gov/642/internal/3D Printing Lab/Shopbot/videos/singleDisturb\\mineral_LapRD_visc\\I_M7_S_4.00\\I_M7_S_4.00_220930\\disturbXS_+z_1.000\\disturbXS_+z_1.000_vidStats_I_M7_S_4.00_220930_115113_9.csv\n",
      "INFO: Exported //cfs2e.nist.gov/642/internal/3D Printing Lab/Shopbot/videos/singleDisturb\\mineral_LapRD_visc\\I_M7_S_4.00\\I_M7_S_4.00_220930\\disturbXS_+z_1.250\\disturbXS_+z_1.250_vidStats_I_M7_S_4.00_220930_115201_9.csv\n",
      "INFO: Exported //cfs2e.nist.gov/642/internal/3D Printing Lab/Shopbot/videos/singleDisturb\\mineral_LapRD_visc\\I_M8_S_3.50\\I_M8_S_3.50_220930\\disturbHoriz2_0.500\\disturbHoriz2_0.500_vidStats_I_M8_S_3.50_220930_140156_0.csv\n",
      "INFO: Exported //cfs2e.nist.gov/642/internal/3D Printing Lab/Shopbot/videos/singleDisturb\\mineral_LapRD_visc\\I_M8_S_3.50\\I_M8_S_3.50_220930\\disturbHoriz2_0.625\\disturbHoriz2_0.625_vidStats_I_M8_S_3.50_220930_140239_7.csv\n",
      "INFO: Exported //cfs2e.nist.gov/642/internal/3D Printing Lab/Shopbot/videos/singleDisturb\\mineral_LapRD_visc\\I_M8_S_3.50\\I_M8_S_3.50_220930\\disturbHoriz2_0.750\\disturbHoriz2_0.750_vidStats_I_M8_S_3.50_220930_140318_6.csv\n",
      "INFO: Exported //cfs2e.nist.gov/642/internal/3D Printing Lab/Shopbot/videos/singleDisturb\\mineral_LapRD_visc\\I_M8_S_3.50\\I_M8_S_3.50_220930\\disturbHoriz2_0.875\\disturbHoriz2_0.875_vidStats_I_M8_S_3.50_220930_140357_6.csv\n",
      "INFO: Exported //cfs2e.nist.gov/642/internal/3D Printing Lab/Shopbot/videos/singleDisturb\\mineral_LapRD_visc\\I_M8_S_3.50\\I_M8_S_3.50_220930\\disturbHoriz2_1.000\\disturbHoriz2_1.000_vidStats_I_M8_S_3.50_220930_140436_5.csv\n",
      "INFO: Exported //cfs2e.nist.gov/642/internal/3D Printing Lab/Shopbot/videos/singleDisturb\\mineral_LapRD_visc\\I_M8_S_3.50\\I_M8_S_3.50_220930\\disturbHoriz2_1.250\\disturbHoriz2_1.250_vidStats_I_M8_S_3.50_220930_140515_4.csv\n",
      "INFO: Exported //cfs2e.nist.gov/642/internal/3D Printing Lab/Shopbot/videos/singleDisturb\\mineral_LapRD_visc\\I_M8_S_3.50\\I_M8_S_3.50_220930\\disturbVert_0.500\\disturbVert_0.500_vidStats_I_M8_S_3.50_220930_140626_3.csv\n",
      "INFO: Exported //cfs2e.nist.gov/642/internal/3D Printing Lab/Shopbot/videos/singleDisturb\\mineral_LapRD_visc\\I_M8_S_3.50\\I_M8_S_3.50_220930\\disturbVert_0.625\\disturbVert_0.625_vidStats_I_M8_S_3.50_220930_140709_5.csv\n",
      "INFO: Exported //cfs2e.nist.gov/642/internal/3D Printing Lab/Shopbot/videos/singleDisturb\\mineral_LapRD_visc\\I_M8_S_3.50\\I_M8_S_3.50_220930\\disturbVert_0.750\\disturbVert_0.750_vidStats_I_M8_S_3.50_220930_140749_2.csv\n",
      "INFO: Exported //cfs2e.nist.gov/642/internal/3D Printing Lab/Shopbot/videos/singleDisturb\\mineral_LapRD_visc\\I_M8_S_3.50\\I_M8_S_3.50_220930\\disturbVert_0.875\\disturbVert_0.875_vidStats_I_M8_S_3.50_220930_140828_9.csv\n",
      "INFO: Exported //cfs2e.nist.gov/642/internal/3D Printing Lab/Shopbot/videos/singleDisturb\\mineral_LapRD_visc\\I_M8_S_3.50\\I_M8_S_3.50_220930\\disturbVert_1.000\\disturbVert_1.000_vidStats_I_M8_S_3.50_220930_140908_5.csv\n",
      "INFO: Exported //cfs2e.nist.gov/642/internal/3D Printing Lab/Shopbot/videos/singleDisturb\\mineral_LapRD_visc\\I_M8_S_3.50\\I_M8_S_3.50_220930\\disturbVert_1.250\\disturbVert_1.250_vidStats_I_M8_S_3.50_220930_140948_1.csv\n",
      "INFO: Exported //cfs2e.nist.gov/642/internal/3D Printing Lab/Shopbot/videos/singleDisturb\\mineral_LapRD_visc\\I_M8_S_3.50\\I_M8_S_3.50_220930\\disturbXS_+y_0.500\\disturbXS_+y_0.500_vidStats_I_M8_S_3.50_220930_141132_0.csv\n",
      "INFO: Exported //cfs2e.nist.gov/642/internal/3D Printing Lab/Shopbot/videos/singleDisturb\\mineral_LapRD_visc\\I_M8_S_3.50\\I_M8_S_3.50_220930\\disturbXS_+y_0.625\\disturbXS_+y_0.625_vidStats_I_M8_S_3.50_220930_141219_1.csv\n",
      "INFO: Exported //cfs2e.nist.gov/642/internal/3D Printing Lab/Shopbot/videos/singleDisturb\\mineral_LapRD_visc\\I_M8_S_3.50\\I_M8_S_3.50_220930\\disturbXS_+y_0.750\\disturbXS_+y_0.750_vidStats_I_M8_S_3.50_220930_141306_1.csv\n",
      "INFO: Exported //cfs2e.nist.gov/642/internal/3D Printing Lab/Shopbot/videos/singleDisturb\\mineral_LapRD_visc\\I_M8_S_3.50\\I_M8_S_3.50_220930\\disturbXS_+y_0.875\\disturbXS_+y_0.875_vidStats_I_M8_S_3.50_220930_141353_2.csv\n",
      "INFO: Exported //cfs2e.nist.gov/642/internal/3D Printing Lab/Shopbot/videos/singleDisturb\\mineral_LapRD_visc\\I_M8_S_3.50\\I_M8_S_3.50_220930\\disturbXS_+y_1.000\\disturbXS_+y_1.000_vidStats_I_M8_S_3.50_220930_141440_1.csv\n",
      "INFO: Exported //cfs2e.nist.gov/642/internal/3D Printing Lab/Shopbot/videos/singleDisturb\\mineral_LapRD_visc\\I_M8_S_3.50\\I_M8_S_3.50_220930\\disturbXS_+y_1.250\\disturbXS_+y_1.250_vidStats_I_M8_S_3.50_220930_141527_2.csv\n",
      "INFO: Exported //cfs2e.nist.gov/642/internal/3D Printing Lab/Shopbot/videos/singleDisturb\\mineral_LapRD_visc\\I_M8_S_3.50\\I_M8_S_3.50_220930\\disturbXS_+z_0.500\\disturbXS_+z_0.500_vidStats_I_M8_S_3.50_220930_141614_1.csv\n",
      "INFO: Exported //cfs2e.nist.gov/642/internal/3D Printing Lab/Shopbot/videos/singleDisturb\\mineral_LapRD_visc\\I_M8_S_3.50\\I_M8_S_3.50_220930\\disturbXS_+z_0.625\\disturbXS_+z_0.625_vidStats_I_M8_S_3.50_220930_141701_7.csv\n",
      "INFO: Exported //cfs2e.nist.gov/642/internal/3D Printing Lab/Shopbot/videos/singleDisturb\\mineral_LapRD_visc\\I_M8_S_3.50\\I_M8_S_3.50_220930\\disturbXS_+z_0.750\\disturbXS_+z_0.750_vidStats_I_M8_S_3.50_220930_141749_3.csv\n",
      "INFO: Exported //cfs2e.nist.gov/642/internal/3D Printing Lab/Shopbot/videos/singleDisturb\\mineral_LapRD_visc\\I_M8_S_3.50\\I_M8_S_3.50_220930\\disturbXS_+z_0.875\\disturbXS_+z_0.875_vidStats_I_M8_S_3.50_220930_141836_7.csv\n",
      "INFO: Exported //cfs2e.nist.gov/642/internal/3D Printing Lab/Shopbot/videos/singleDisturb\\mineral_LapRD_visc\\I_M8_S_3.50\\I_M8_S_3.50_220930\\disturbXS_+z_1.000\\disturbXS_+z_1.000_vidStats_I_M8_S_3.50_220930_141924_4.csv\n",
      "INFO: Exported //cfs2e.nist.gov/642/internal/3D Printing Lab/Shopbot/videos/singleDisturb\\mineral_LapRD_visc\\I_M8_S_3.50\\I_M8_S_3.50_220930\\disturbXS_+z_1.250\\disturbXS_+z_1.250_vidStats_I_M8_S_3.50_220930_142012_0.csv\n",
      "INFO: Exported //cfs2e.nist.gov/642/internal/3D Printing Lab/Shopbot/videos/singleDisturb\\mineral_LapRD_visc\\I_M8_S_4.00\\I_M8_S_4.00_220930\\disturbHoriz2_0.500\\disturbHoriz2_0.500_vidStats_I_M8_S_4.00_220930_142130_5.csv\n",
      "INFO: Exported //cfs2e.nist.gov/642/internal/3D Printing Lab/Shopbot/videos/singleDisturb\\mineral_LapRD_visc\\I_M8_S_4.00\\I_M8_S_4.00_220930\\disturbHoriz2_0.625\\disturbHoriz2_0.625_vidStats_I_M8_S_4.00_220930_142214_3.csv\n",
      "INFO: Exported //cfs2e.nist.gov/642/internal/3D Printing Lab/Shopbot/videos/singleDisturb\\mineral_LapRD_visc\\I_M8_S_4.00\\I_M8_S_4.00_220930\\disturbHoriz2_0.750\\disturbHoriz2_0.750_vidStats_I_M8_S_4.00_220930_142253_4.csv\n",
      "INFO: Exported //cfs2e.nist.gov/642/internal/3D Printing Lab/Shopbot/videos/singleDisturb\\mineral_LapRD_visc\\I_M8_S_4.00\\I_M8_S_4.00_220930\\disturbHoriz2_0.875\\disturbHoriz2_0.875_vidStats_I_M8_S_4.00_220930_142332_4.csv\n",
      "INFO: Exported //cfs2e.nist.gov/642/internal/3D Printing Lab/Shopbot/videos/singleDisturb\\mineral_LapRD_visc\\I_M8_S_4.00\\I_M8_S_4.00_220930\\disturbHoriz2_1.000\\disturbHoriz2_1.000_vidStats_I_M8_S_4.00_220930_142411_3.csv\n",
      "INFO: Exported //cfs2e.nist.gov/642/internal/3D Printing Lab/Shopbot/videos/singleDisturb\\mineral_LapRD_visc\\I_M8_S_4.00\\I_M8_S_4.00_220930\\disturbHoriz2_1.250\\disturbHoriz2_1.250_vidStats_I_M8_S_4.00_220930_142450_7.csv\n",
      "INFO: Exported //cfs2e.nist.gov/642/internal/3D Printing Lab/Shopbot/videos/singleDisturb\\mineral_LapRD_visc\\I_M8_S_4.00\\I_M8_S_4.00_220930\\disturbVert_0.500\\disturbVert_0.500_vidStats_I_M8_S_4.00_220930_142604_6.csv\n",
      "INFO: Exported //cfs2e.nist.gov/642/internal/3D Printing Lab/Shopbot/videos/singleDisturb\\mineral_LapRD_visc\\I_M8_S_4.00\\I_M8_S_4.00_220930\\disturbVert_0.625\\disturbVert_0.625_vidStats_I_M8_S_4.00_220930_142647_4.csv\n",
      "INFO: Exported //cfs2e.nist.gov/642/internal/3D Printing Lab/Shopbot/videos/singleDisturb\\mineral_LapRD_visc\\I_M8_S_4.00\\I_M8_S_4.00_220930\\disturbVert_0.750\\disturbVert_0.750_vidStats_I_M8_S_4.00_220930_142727_1.csv\n",
      "INFO: Exported //cfs2e.nist.gov/642/internal/3D Printing Lab/Shopbot/videos/singleDisturb\\mineral_LapRD_visc\\I_M8_S_4.00\\I_M8_S_4.00_220930\\disturbVert_0.875\\disturbVert_0.875_vidStats_I_M8_S_4.00_220930_142806_9.csv\n",
      "INFO: Exported //cfs2e.nist.gov/642/internal/3D Printing Lab/Shopbot/videos/singleDisturb\\mineral_LapRD_visc\\I_M8_S_4.00\\I_M8_S_4.00_220930\\disturbVert_1.000\\disturbVert_1.000_vidStats_I_M8_S_4.00_220930_142846_6.csv\n",
      "INFO: Exported //cfs2e.nist.gov/642/internal/3D Printing Lab/Shopbot/videos/singleDisturb\\mineral_LapRD_visc\\I_M8_S_4.00\\I_M8_S_4.00_220930\\disturbVert_1.250\\disturbVert_1.250_vidStats_I_M8_S_4.00_220930_142926_3.csv\n",
      "INFO: Exported //cfs2e.nist.gov/642/internal/3D Printing Lab/Shopbot/videos/singleDisturb\\mineral_LapRD_visc\\I_M8_S_4.00\\I_M8_S_4.00_220930\\disturbXS_+y_0.500\\disturbXS_+y_0.500_vidStats_I_M8_S_4.00_220930_143032_2.csv\n",
      "INFO: Exported //cfs2e.nist.gov/642/internal/3D Printing Lab/Shopbot/videos/singleDisturb\\mineral_LapRD_visc\\I_M8_S_4.00\\I_M8_S_4.00_220930\\disturbXS_+y_0.625\\disturbXS_+y_0.625_vidStats_I_M8_S_4.00_220930_143119_5.csv\n",
      "INFO: Exported //cfs2e.nist.gov/642/internal/3D Printing Lab/Shopbot/videos/singleDisturb\\mineral_LapRD_visc\\I_M8_S_4.00\\I_M8_S_4.00_220930\\disturbXS_+y_0.750\\disturbXS_+y_0.750_vidStats_I_M8_S_4.00_220930_143206_7.csv\n",
      "INFO: Exported //cfs2e.nist.gov/642/internal/3D Printing Lab/Shopbot/videos/singleDisturb\\mineral_LapRD_visc\\I_M8_S_4.00\\I_M8_S_4.00_220930\\disturbXS_+y_0.875\\disturbXS_+y_0.875_vidStats_I_M8_S_4.00_220930_143253_7.csv\n",
      "INFO: Exported //cfs2e.nist.gov/642/internal/3D Printing Lab/Shopbot/videos/singleDisturb\\mineral_LapRD_visc\\I_M8_S_4.00\\I_M8_S_4.00_220930\\disturbXS_+y_1.000\\disturbXS_+y_1.000_vidStats_I_M8_S_4.00_220930_143340_8.csv\n",
      "INFO: Exported //cfs2e.nist.gov/642/internal/3D Printing Lab/Shopbot/videos/singleDisturb\\mineral_LapRD_visc\\I_M8_S_4.00\\I_M8_S_4.00_220930\\disturbXS_+y_1.250\\disturbXS_+y_1.250_vidStats_I_M8_S_4.00_220930_143427_7.csv\n",
      "INFO: Exported //cfs2e.nist.gov/642/internal/3D Printing Lab/Shopbot/videos/singleDisturb\\mineral_LapRD_visc\\I_M8_S_4.00\\I_M8_S_4.00_220930\\disturbXS_+z_0.500\\disturbXS_+z_0.500_vidStats_I_M8_S_4.00_220930_143514_5.csv\n",
      "INFO: Exported //cfs2e.nist.gov/642/internal/3D Printing Lab/Shopbot/videos/singleDisturb\\mineral_LapRD_visc\\I_M8_S_4.00\\I_M8_S_4.00_220930\\disturbXS_+z_0.625\\disturbXS_+z_0.625_vidStats_I_M8_S_4.00_220930_143602_0.csv\n",
      "INFO: Exported //cfs2e.nist.gov/642/internal/3D Printing Lab/Shopbot/videos/singleDisturb\\mineral_LapRD_visc\\I_M8_S_4.00\\I_M8_S_4.00_220930\\disturbXS_+z_0.750\\disturbXS_+z_0.750_vidStats_I_M8_S_4.00_220930_143649_5.csv\n",
      "INFO: Exported //cfs2e.nist.gov/642/internal/3D Printing Lab/Shopbot/videos/singleDisturb\\mineral_LapRD_visc\\I_M8_S_4.00\\I_M8_S_4.00_220930\\disturbXS_+z_0.875\\disturbXS_+z_0.875_vidStats_I_M8_S_4.00_220930_143737_0.csv\n",
      "INFO: Exported //cfs2e.nist.gov/642/internal/3D Printing Lab/Shopbot/videos/singleDisturb\\mineral_LapRD_visc\\I_M8_S_4.00\\I_M8_S_4.00_220930\\disturbXS_+z_1.000\\disturbXS_+z_1.000_vidStats_I_M8_S_4.00_220930_143824_5.csv\n",
      "INFO: Exported //cfs2e.nist.gov/642/internal/3D Printing Lab/Shopbot/videos/singleDisturb\\mineral_LapRD_visc\\I_M8_S_4.00\\I_M8_S_4.00_220930\\disturbXS_+z_1.250\\disturbXS_+z_1.250_vidStats_I_M8_S_4.00_220930_143912_2.csv\n",
      "INFO: Exported //cfs2e.nist.gov/642/internal/3D Printing Lab/Shopbot/videos/singleDisturb\\mineral_LapRD_visc\\I_M9_S_3.00\\I_M9_S_3.00_220930\\disturbHoriz2_0.500\\disturbHoriz2_0.500_vidStats_I_M9_S_3.00_220930_145845_4.csv\n",
      "INFO: Exported //cfs2e.nist.gov/642/internal/3D Printing Lab/Shopbot/videos/singleDisturb\\mineral_LapRD_visc\\I_M9_S_3.00\\I_M9_S_3.00_220930\\disturbHoriz2_0.625\\disturbHoriz2_0.625_vidStats_I_M9_S_3.00_220930_145923_3.csv\n",
      "INFO: Exported //cfs2e.nist.gov/642/internal/3D Printing Lab/Shopbot/videos/singleDisturb\\mineral_LapRD_visc\\I_M9_S_3.00\\I_M9_S_3.00_220930\\disturbHoriz2_0.750\\disturbHoriz2_0.750_vidStats_I_M9_S_3.00_220930_150002_6.csv\n",
      "INFO: Exported //cfs2e.nist.gov/642/internal/3D Printing Lab/Shopbot/videos/singleDisturb\\mineral_LapRD_visc\\I_M9_S_3.00\\I_M9_S_3.00_220930\\disturbHoriz2_0.875\\disturbHoriz2_0.875_vidStats_I_M9_S_3.00_220930_150042_0.csv\n",
      "INFO: Exported //cfs2e.nist.gov/642/internal/3D Printing Lab/Shopbot/videos/singleDisturb\\mineral_LapRD_visc\\I_M9_S_3.00\\I_M9_S_3.00_220930\\disturbHoriz2_1.000\\disturbHoriz2_1.000_vidStats_I_M9_S_3.00_220930_150121_0.csv\n",
      "INFO: Exported //cfs2e.nist.gov/642/internal/3D Printing Lab/Shopbot/videos/singleDisturb\\mineral_LapRD_visc\\I_M9_S_3.00\\I_M9_S_3.00_220930\\disturbHoriz2_1.250\\disturbHoriz2_1.250_vidStats_I_M9_S_3.00_220930_150200_1.csv\n",
      "INFO: Exported //cfs2e.nist.gov/642/internal/3D Printing Lab/Shopbot/videos/singleDisturb\\mineral_LapRD_visc\\I_M9_S_3.00\\I_M9_S_3.00_220930\\disturbVert_0.500\\disturbVert_0.500_vidStats_I_M9_S_3.00_220930_151026_2.csv\n",
      "INFO: Exported //cfs2e.nist.gov/642/internal/3D Printing Lab/Shopbot/videos/singleDisturb\\mineral_LapRD_visc\\I_M9_S_3.00\\I_M9_S_3.00_220930\\disturbVert_0.625\\disturbVert_0.625_vidStats_I_M9_S_3.00_220930_151109_2.csv\n",
      "INFO: Exported //cfs2e.nist.gov/642/internal/3D Printing Lab/Shopbot/videos/singleDisturb\\mineral_LapRD_visc\\I_M9_S_3.00\\I_M9_S_3.00_220930\\disturbVert_0.750\\disturbVert_0.750_vidStats_I_M9_S_3.00_220930_151148_7.csv\n",
      "INFO: Exported //cfs2e.nist.gov/642/internal/3D Printing Lab/Shopbot/videos/singleDisturb\\mineral_LapRD_visc\\I_M9_S_3.00\\I_M9_S_3.00_220930\\disturbVert_0.875\\disturbVert_0.875_vidStats_I_M9_S_3.00_220930_151228_3.csv\n",
      "INFO: Exported //cfs2e.nist.gov/642/internal/3D Printing Lab/Shopbot/videos/singleDisturb\\mineral_LapRD_visc\\I_M9_S_3.00\\I_M9_S_3.00_220930\\disturbVert_1.000\\disturbVert_1.000_vidStats_I_M9_S_3.00_220930_151307_9.csv\n",
      "INFO: Exported //cfs2e.nist.gov/642/internal/3D Printing Lab/Shopbot/videos/singleDisturb\\mineral_LapRD_visc\\I_M9_S_3.00\\I_M9_S_3.00_220930\\disturbVert_1.250\\disturbVert_1.250_vidStats_I_M9_S_3.00_220930_151347_6.csv\n",
      "INFO: Exported //cfs2e.nist.gov/642/internal/3D Printing Lab/Shopbot/videos/singleDisturb\\mineral_LapRD_visc\\I_M9_S_3.00\\I_M9_S_3.00_220930\\disturbXS_+y_0.500\\disturbXS_+y_0.500_vidStats_I_M9_S_3.00_220930_151509_7.csv\n",
      "INFO: Exported //cfs2e.nist.gov/642/internal/3D Printing Lab/Shopbot/videos/singleDisturb\\mineral_LapRD_visc\\I_M9_S_3.00\\I_M9_S_3.00_220930\\disturbXS_+y_0.625\\disturbXS_+y_0.625_vidStats_I_M9_S_3.00_220930_151557_0.csv\n",
      "INFO: Exported //cfs2e.nist.gov/642/internal/3D Printing Lab/Shopbot/videos/singleDisturb\\mineral_LapRD_visc\\I_M9_S_3.00\\I_M9_S_3.00_220930\\disturbXS_+y_0.750\\disturbXS_+y_0.750_vidStats_I_M9_S_3.00_220930_151644_3.csv\n",
      "INFO: Exported //cfs2e.nist.gov/642/internal/3D Printing Lab/Shopbot/videos/singleDisturb\\mineral_LapRD_visc\\I_M9_S_3.00\\I_M9_S_3.00_220930\\disturbXS_+y_0.875\\disturbXS_+y_0.875_vidStats_I_M9_S_3.00_220930_151731_4.csv\n",
      "INFO: Exported //cfs2e.nist.gov/642/internal/3D Printing Lab/Shopbot/videos/singleDisturb\\mineral_LapRD_visc\\I_M9_S_3.00\\I_M9_S_3.00_220930\\disturbXS_+y_1.000\\disturbXS_+y_1.000_vidStats_I_M9_S_3.00_220930_151818_4.csv\n",
      "INFO: Exported //cfs2e.nist.gov/642/internal/3D Printing Lab/Shopbot/videos/singleDisturb\\mineral_LapRD_visc\\I_M9_S_3.00\\I_M9_S_3.00_220930\\disturbXS_+y_1.250\\disturbXS_+y_1.250_vidStats_I_M9_S_3.00_220930_151905_4.csv\n",
      "INFO: Exported //cfs2e.nist.gov/642/internal/3D Printing Lab/Shopbot/videos/singleDisturb\\mineral_LapRD_visc\\I_M9_S_3.00\\I_M9_S_3.00_220930\\disturbXS_+z_0.500\\disturbXS_+z_0.500_vidStats_I_M9_S_3.00_220930_151952_3.csv\n",
      "INFO: Exported //cfs2e.nist.gov/642/internal/3D Printing Lab/Shopbot/videos/singleDisturb\\mineral_LapRD_visc\\I_M9_S_3.00\\I_M9_S_3.00_220930\\disturbXS_+z_0.625\\disturbXS_+z_0.625_vidStats_I_M9_S_3.00_220930_152039_8.csv\n",
      "INFO: Exported //cfs2e.nist.gov/642/internal/3D Printing Lab/Shopbot/videos/singleDisturb\\mineral_LapRD_visc\\I_M9_S_3.00\\I_M9_S_3.00_220930\\disturbXS_+z_0.750\\disturbXS_+z_0.750_vidStats_I_M9_S_3.00_220930_152127_4.csv\n",
      "INFO: Exported //cfs2e.nist.gov/642/internal/3D Printing Lab/Shopbot/videos/singleDisturb\\mineral_LapRD_visc\\I_M9_S_3.00\\I_M9_S_3.00_220930\\disturbXS_+z_0.875\\disturbXS_+z_0.875_vidStats_I_M9_S_3.00_220930_152214_8.csv\n",
      "INFO: Exported //cfs2e.nist.gov/642/internal/3D Printing Lab/Shopbot/videos/singleDisturb\\mineral_LapRD_visc\\I_M9_S_3.00\\I_M9_S_3.00_220930\\disturbXS_+z_1.000\\disturbXS_+z_1.000_vidStats_I_M9_S_3.00_220930_152302_4.csv\n",
      "INFO: Exported //cfs2e.nist.gov/642/internal/3D Printing Lab/Shopbot/videos/singleDisturb\\mineral_LapRD_visc\\I_M9_S_3.00\\I_M9_S_3.00_220930\\disturbXS_+z_1.250\\disturbXS_+z_1.250_vidStats_I_M9_S_3.00_220930_152350_0.csv\n",
      "INFO: Exported //cfs2e.nist.gov/642/internal/3D Printing Lab/Shopbot/videos/singleDisturb\\mineral_LapRD_visc\\I_M9_S_3.00\\I_M9_S_3.00_220930_v1\\disturbHoriz2_0.750\\disturbHoriz2_0.750_vidStats_I_M9_S_3.00_220930_150552_5.csv\n",
      "INFO: Exported //cfs2e.nist.gov/642/internal/3D Printing Lab/Shopbot/videos/singleDisturb\\mineral_LapRD_visc\\I_M9_S_3.00\\I_M9_S_3.00_220930_v1\\disturbHoriz2_0.875\\disturbHoriz2_0.875_vidStats_I_M9_S_3.00_220930_150631_3.csv\n",
      "INFO: Exported //cfs2e.nist.gov/642/internal/3D Printing Lab/Shopbot/videos/singleDisturb\\mineral_LapRD_visc\\I_M9_S_3.00\\I_M9_S_3.00_220930_v1\\disturbHoriz2_1.000\\disturbHoriz2_1.000_vidStats_I_M9_S_3.00_220930_150805_0.csv\n",
      "INFO: Exported //cfs2e.nist.gov/642/internal/3D Printing Lab/Shopbot/videos/singleDisturb\\mineral_LapRD_visc\\I_M9_S_3.50\\I_M9_S_3.50_220930\\disturbHoriz2_0.500\\disturbHoriz2_0.500_vidStats_I_M9_S_3.50_220930_152504_6.csv\n",
      "INFO: Exported //cfs2e.nist.gov/642/internal/3D Printing Lab/Shopbot/videos/singleDisturb\\mineral_LapRD_visc\\I_M9_S_3.50\\I_M9_S_3.50_220930\\disturbHoriz2_0.625\\disturbHoriz2_0.625_vidStats_I_M9_S_3.50_220930_152746_2.csv\n",
      "INFO: Exported //cfs2e.nist.gov/642/internal/3D Printing Lab/Shopbot/videos/singleDisturb\\mineral_LapRD_visc\\I_M9_S_3.50\\I_M9_S_3.50_220930\\disturbHoriz2_0.750\\disturbHoriz2_0.750_vidStats_I_M9_S_3.50_220930_152825_2.csv\n",
      "INFO: Exported //cfs2e.nist.gov/642/internal/3D Printing Lab/Shopbot/videos/singleDisturb\\mineral_LapRD_visc\\I_M9_S_3.50\\I_M9_S_3.50_220930\\disturbHoriz2_0.875\\disturbHoriz2_0.875_vidStats_I_M9_S_3.50_220930_152904_3.csv\n",
      "INFO: Exported //cfs2e.nist.gov/642/internal/3D Printing Lab/Shopbot/videos/singleDisturb\\mineral_LapRD_visc\\I_M9_S_3.50\\I_M9_S_3.50_220930\\disturbHoriz2_1.000\\disturbHoriz2_1.000_vidStats_I_M9_S_3.50_220930_152943_1.csv\n",
      "INFO: Exported //cfs2e.nist.gov/642/internal/3D Printing Lab/Shopbot/videos/singleDisturb\\mineral_LapRD_visc\\I_M9_S_3.50\\I_M9_S_3.50_220930\\disturbHoriz2_1.250\\disturbHoriz2_1.250_vidStats_I_M9_S_3.50_220930_153022_1.csv\n",
      "INFO: Exported //cfs2e.nist.gov/642/internal/3D Printing Lab/Shopbot/videos/singleDisturb\\mineral_LapRD_visc\\I_M9_S_3.50\\I_M9_S_3.50_220930\\disturbVert_0.500\\disturbVert_0.500_vidStats_I_M9_S_3.50_220930_153131_7.csv\n",
      "INFO: Exported //cfs2e.nist.gov/642/internal/3D Printing Lab/Shopbot/videos/singleDisturb\\mineral_LapRD_visc\\I_M9_S_3.50\\I_M9_S_3.50_220930\\disturbVert_0.625\\disturbVert_0.625_vidStats_I_M9_S_3.50_220930_153214_5.csv\n",
      "INFO: Exported //cfs2e.nist.gov/642/internal/3D Printing Lab/Shopbot/videos/singleDisturb\\mineral_LapRD_visc\\I_M9_S_3.50\\I_M9_S_3.50_220930\\disturbVert_0.750\\disturbVert_0.750_vidStats_I_M9_S_3.50_220930_153254_2.csv\n",
      "INFO: Exported //cfs2e.nist.gov/642/internal/3D Printing Lab/Shopbot/videos/singleDisturb\\mineral_LapRD_visc\\I_M9_S_3.50\\I_M9_S_3.50_220930\\disturbVert_0.875\\disturbVert_0.875_vidStats_I_M9_S_3.50_220930_153333_9.csv\n",
      "INFO: Exported //cfs2e.nist.gov/642/internal/3D Printing Lab/Shopbot/videos/singleDisturb\\mineral_LapRD_visc\\I_M9_S_3.50\\I_M9_S_3.50_220930\\disturbVert_1.000\\disturbVert_1.000_vidStats_I_M9_S_3.50_220930_153413_5.csv\n",
      "INFO: Exported //cfs2e.nist.gov/642/internal/3D Printing Lab/Shopbot/videos/singleDisturb\\mineral_LapRD_visc\\I_M9_S_3.50\\I_M9_S_3.50_220930\\disturbVert_1.250\\disturbVert_1.250_vidStats_I_M9_S_3.50_220930_153453_1.csv\n",
      "INFO: Exported //cfs2e.nist.gov/642/internal/3D Printing Lab/Shopbot/videos/singleDisturb\\mineral_LapRD_visc\\I_M9_S_3.50\\I_M9_S_3.50_220930\\disturbXS_+y_0.500\\disturbXS_+y_0.500_vidStats_I_M9_S_3.50_220930_153633_2.csv\n",
      "INFO: Exported //cfs2e.nist.gov/642/internal/3D Printing Lab/Shopbot/videos/singleDisturb\\mineral_LapRD_visc\\I_M9_S_3.50\\I_M9_S_3.50_220930\\disturbXS_+y_0.625\\disturbXS_+y_0.625_vidStats_I_M9_S_3.50_220930_153720_5.csv\n",
      "INFO: Exported //cfs2e.nist.gov/642/internal/3D Printing Lab/Shopbot/videos/singleDisturb\\mineral_LapRD_visc\\I_M9_S_3.50\\I_M9_S_3.50_220930\\disturbXS_+y_0.750\\disturbXS_+y_0.750_vidStats_I_M9_S_3.50_220930_153807_7.csv\n",
      "INFO: Exported //cfs2e.nist.gov/642/internal/3D Printing Lab/Shopbot/videos/singleDisturb\\mineral_LapRD_visc\\I_M9_S_3.50\\I_M9_S_3.50_220930\\disturbXS_+y_0.875\\disturbXS_+y_0.875_vidStats_I_M9_S_3.50_220930_153854_6.csv\n",
      "INFO: Exported //cfs2e.nist.gov/642/internal/3D Printing Lab/Shopbot/videos/singleDisturb\\mineral_LapRD_visc\\I_M9_S_3.50\\I_M9_S_3.50_220930\\disturbXS_+y_1.000\\disturbXS_+y_1.000_vidStats_I_M9_S_3.50_220930_153941_5.csv\n",
      "INFO: Exported //cfs2e.nist.gov/642/internal/3D Printing Lab/Shopbot/videos/singleDisturb\\mineral_LapRD_visc\\I_M9_S_3.50\\I_M9_S_3.50_220930\\disturbXS_+y_1.250\\disturbXS_+y_1.250_vidStats_I_M9_S_3.50_220930_154042_3.csv\n",
      "INFO: Exported //cfs2e.nist.gov/642/internal/3D Printing Lab/Shopbot/videos/singleDisturb\\mineral_LapRD_visc\\I_M9_S_3.50\\I_M9_S_3.50_220930\\disturbXS_+z_0.500\\disturbXS_+z_0.500_vidStats_I_M9_S_3.50_220930_154129_1.csv\n",
      "INFO: Exported //cfs2e.nist.gov/642/internal/3D Printing Lab/Shopbot/videos/singleDisturb\\mineral_LapRD_visc\\I_M9_S_3.50\\I_M9_S_3.50_220930\\disturbXS_+z_0.625\\disturbXS_+z_0.625_vidStats_I_M9_S_3.50_220930_154216_5.csv\n",
      "INFO: Exported //cfs2e.nist.gov/642/internal/3D Printing Lab/Shopbot/videos/singleDisturb\\mineral_LapRD_visc\\I_M9_S_3.50\\I_M9_S_3.50_220930\\disturbXS_+z_0.750\\disturbXS_+z_0.750_vidStats_I_M9_S_3.50_220930_154303_8.csv\n",
      "INFO: Exported //cfs2e.nist.gov/642/internal/3D Printing Lab/Shopbot/videos/singleDisturb\\mineral_LapRD_visc\\I_M9_S_3.50\\I_M9_S_3.50_220930\\disturbXS_+z_0.875\\disturbXS_+z_0.875_vidStats_I_M9_S_3.50_220930_154351_2.csv\n",
      "INFO: Exported //cfs2e.nist.gov/642/internal/3D Printing Lab/Shopbot/videos/singleDisturb\\mineral_LapRD_visc\\I_M9_S_3.50\\I_M9_S_3.50_220930\\disturbXS_+z_1.000\\disturbXS_+z_1.000_vidStats_I_M9_S_3.50_220930_154438_9.csv\n",
      "INFO: Exported //cfs2e.nist.gov/642/internal/3D Printing Lab/Shopbot/videos/singleDisturb\\mineral_LapRD_visc\\I_M9_S_3.50\\I_M9_S_3.50_220930\\disturbXS_+z_1.250\\disturbXS_+z_1.250_vidStats_I_M9_S_3.50_220930_154526_4.csv\n",
      "INFO: Exported //cfs2e.nist.gov/642/internal/3D Printing Lab/Shopbot/videos/singleDisturb\\mineral_LapRD_visc\\I_M9_S_3.50\\I_M9_S_3.50_v2_220930\\disturbHoriz2_0.500\\disturbHoriz2_0.500_vidStats_I_M9_S_3.50_v2_220930_154645_1.csv\n",
      "INFO: Exported //cfs2e.nist.gov/642/internal/3D Printing Lab/Shopbot/videos/singleDisturb\\mineral_LapRD_visc\\I_M9_S_3.50\\I_M9_S_3.50_v2_220930\\disturbHoriz2_0.625\\disturbHoriz2_0.625_vidStats_I_M9_S_3.50_v2_220930_154728_8.csv\n",
      "INFO: Exported //cfs2e.nist.gov/642/internal/3D Printing Lab/Shopbot/videos/singleDisturb\\mineral_LapRD_visc\\I_M9_S_3.50\\I_M9_S_3.50_v2_220930\\disturbHoriz2_0.750\\disturbHoriz2_0.750_vidStats_I_M9_S_3.50_v2_220930_154807_7.csv\n",
      "INFO: Exported //cfs2e.nist.gov/642/internal/3D Printing Lab/Shopbot/videos/singleDisturb\\mineral_LapRD_visc\\I_M9_S_3.50\\I_M9_S_3.50_v2_220930\\disturbHoriz2_0.875\\disturbHoriz2_0.875_vidStats_I_M9_S_3.50_v2_220930_154846_7.csv\n",
      "INFO: Exported //cfs2e.nist.gov/642/internal/3D Printing Lab/Shopbot/videos/singleDisturb\\mineral_LapRD_visc\\I_M9_S_3.50\\I_M9_S_3.50_v2_220930\\disturbHoriz2_1.000\\disturbHoriz2_1.000_vidStats_I_M9_S_3.50_v2_220930_154925_7.csv\n",
      "INFO: Exported //cfs2e.nist.gov/642/internal/3D Printing Lab/Shopbot/videos/singleDisturb\\mineral_LapRD_visc\\I_M9_S_3.50\\I_M9_S_3.50_v2_220930\\disturbHoriz2_1.250\\disturbHoriz2_1.250_vidStats_I_M9_S_3.50_v2_220930_155004_6.csv\n",
      "INFO: Exported //cfs2e.nist.gov/642/internal/3D Printing Lab/Shopbot/videos/singleDisturb\\mineral_LapRD_visc\\I_M9_S_4.00\\I_M9_S_4.00_220930\\disturbHoriz2_0.500\\disturbHoriz2_0.500_vidStats_I_M9_S_4.00_220930_155109_0.csv\n",
      "INFO: Exported //cfs2e.nist.gov/642/internal/3D Printing Lab/Shopbot/videos/singleDisturb\\mineral_LapRD_visc\\I_M9_S_4.00\\I_M9_S_4.00_220930\\disturbHoriz2_0.625\\disturbHoriz2_0.625_vidStats_I_M9_S_4.00_220930_155153_5.csv\n",
      "INFO: Exported //cfs2e.nist.gov/642/internal/3D Printing Lab/Shopbot/videos/singleDisturb\\mineral_LapRD_visc\\I_M9_S_4.00\\I_M9_S_4.00_220930\\disturbHoriz2_0.750\\disturbHoriz2_0.750_vidStats_I_M9_S_4.00_220930_155232_7.csv\n",
      "INFO: Exported //cfs2e.nist.gov/642/internal/3D Printing Lab/Shopbot/videos/singleDisturb\\mineral_LapRD_visc\\I_M9_S_4.00\\I_M9_S_4.00_220930\\disturbHoriz2_0.875\\disturbHoriz2_0.875_vidStats_I_M9_S_4.00_220930_155311_7.csv\n",
      "INFO: Exported //cfs2e.nist.gov/642/internal/3D Printing Lab/Shopbot/videos/singleDisturb\\mineral_LapRD_visc\\I_M9_S_4.00\\I_M9_S_4.00_220930\\disturbHoriz2_1.000\\disturbHoriz2_1.000_vidStats_I_M9_S_4.00_220930_155350_7.csv\n",
      "INFO: Exported //cfs2e.nist.gov/642/internal/3D Printing Lab/Shopbot/videos/singleDisturb\\mineral_LapRD_visc\\I_M9_S_4.00\\I_M9_S_4.00_220930\\disturbHoriz2_1.250\\disturbHoriz2_1.250_vidStats_I_M9_S_4.00_220930_155429_7.csv\n",
      "INFO: Exported //cfs2e.nist.gov/642/internal/3D Printing Lab/Shopbot/videos/singleDisturb\\mineral_LapRD_visc\\I_M9_S_4.00\\I_M9_S_4.00_220930\\disturbVert_0.500\\disturbVert_0.500_vidStats_I_M9_S_4.00_220930_155535_4.csv\n",
      "INFO: Exported //cfs2e.nist.gov/642/internal/3D Printing Lab/Shopbot/videos/singleDisturb\\mineral_LapRD_visc\\I_M9_S_4.00\\I_M9_S_4.00_220930\\disturbVert_0.625\\disturbVert_0.625_vidStats_I_M9_S_4.00_220930_155618_6.csv\n",
      "INFO: Exported //cfs2e.nist.gov/642/internal/3D Printing Lab/Shopbot/videos/singleDisturb\\mineral_LapRD_visc\\I_M9_S_4.00\\I_M9_S_4.00_220930\\disturbVert_0.750\\disturbVert_0.750_vidStats_I_M9_S_4.00_220930_155658_3.csv\n",
      "INFO: Exported //cfs2e.nist.gov/642/internal/3D Printing Lab/Shopbot/videos/singleDisturb\\mineral_LapRD_visc\\I_M9_S_4.00\\I_M9_S_4.00_220930\\disturbVert_0.875\\disturbVert_0.875_vidStats_I_M9_S_4.00_220930_155738_0.csv\n",
      "INFO: Exported //cfs2e.nist.gov/642/internal/3D Printing Lab/Shopbot/videos/singleDisturb\\mineral_LapRD_visc\\I_M9_S_4.00\\I_M9_S_4.00_220930\\disturbVert_1.000\\disturbVert_1.000_vidStats_I_M9_S_4.00_220930_155817_8.csv\n",
      "INFO: Exported //cfs2e.nist.gov/642/internal/3D Printing Lab/Shopbot/videos/singleDisturb\\mineral_LapRD_visc\\I_M9_S_4.00\\I_M9_S_4.00_220930\\disturbVert_1.250\\disturbVert_1.250_vidStats_I_M9_S_4.00_220930_155857_3.csv\n",
      "INFO: Exported //cfs2e.nist.gov/642/internal/3D Printing Lab/Shopbot/videos/singleDisturb\\mineral_LapRD_visc\\I_M9_S_4.00\\I_M9_S_4.00_220930\\disturbXS_+y_0.500\\disturbXS_+y_0.500_vidStats_I_M9_S_4.00_220930_160006_4.csv\n",
      "INFO: Exported //cfs2e.nist.gov/642/internal/3D Printing Lab/Shopbot/videos/singleDisturb\\mineral_LapRD_visc\\I_M9_S_4.00\\I_M9_S_4.00_220930\\disturbXS_+y_0.625\\disturbXS_+y_0.625_vidStats_I_M9_S_4.00_220930_160053_8.csv\n",
      "INFO: Exported //cfs2e.nist.gov/642/internal/3D Printing Lab/Shopbot/videos/singleDisturb\\mineral_LapRD_visc\\I_M9_S_4.00\\I_M9_S_4.00_220930\\disturbXS_+y_0.750\\disturbXS_+y_0.750_vidStats_I_M9_S_4.00_220930_160141_0.csv\n",
      "INFO: Exported //cfs2e.nist.gov/642/internal/3D Printing Lab/Shopbot/videos/singleDisturb\\mineral_LapRD_visc\\I_M9_S_4.00\\I_M9_S_4.00_220930\\disturbXS_+y_0.875\\disturbXS_+y_0.875_vidStats_I_M9_S_4.00_220930_160228_0.csv\n",
      "INFO: Exported //cfs2e.nist.gov/642/internal/3D Printing Lab/Shopbot/videos/singleDisturb\\mineral_LapRD_visc\\I_M9_S_4.00\\I_M9_S_4.00_220930\\disturbXS_+y_1.000\\disturbXS_+y_1.000_vidStats_I_M9_S_4.00_220930_160315_1.csv\n",
      "INFO: Exported //cfs2e.nist.gov/642/internal/3D Printing Lab/Shopbot/videos/singleDisturb\\mineral_LapRD_visc\\I_M9_S_4.00\\I_M9_S_4.00_220930\\disturbXS_+y_1.250\\disturbXS_+y_1.250_vidStats_I_M9_S_4.00_220930_160402_1.csv\n",
      "INFO: Exported //cfs2e.nist.gov/642/internal/3D Printing Lab/Shopbot/videos/singleDisturb\\mineral_LapRD_visc\\I_M9_S_4.00\\I_M9_S_4.00_220930\\disturbXS_+z_0.500\\disturbXS_+z_0.500_vidStats_I_M9_S_4.00_220930_160449_0.csv\n",
      "INFO: Exported //cfs2e.nist.gov/642/internal/3D Printing Lab/Shopbot/videos/singleDisturb\\mineral_LapRD_visc\\I_M9_S_4.00\\I_M9_S_4.00_220930\\disturbXS_+z_0.625\\disturbXS_+z_0.625_vidStats_I_M9_S_4.00_220930_160536_4.csv\n",
      "INFO: Exported //cfs2e.nist.gov/642/internal/3D Printing Lab/Shopbot/videos/singleDisturb\\mineral_LapRD_visc\\I_M9_S_4.00\\I_M9_S_4.00_220930\\disturbXS_+z_0.750\\disturbXS_+z_0.750_vidStats_I_M9_S_4.00_220930_160624_0.csv\n",
      "INFO: Exported //cfs2e.nist.gov/642/internal/3D Printing Lab/Shopbot/videos/singleDisturb\\mineral_LapRD_visc\\I_M9_S_4.00\\I_M9_S_4.00_220930\\disturbXS_+z_0.875\\disturbXS_+z_0.875_vidStats_I_M9_S_4.00_220930_160711_5.csv\n",
      "INFO: Exported //cfs2e.nist.gov/642/internal/3D Printing Lab/Shopbot/videos/singleDisturb\\mineral_LapRD_visc\\I_M9_S_4.00\\I_M9_S_4.00_220930\\disturbXS_+z_1.000\\disturbXS_+z_1.000_vidStats_I_M9_S_4.00_220930_160758_9.csv\n",
      "INFO: Exported //cfs2e.nist.gov/642/internal/3D Printing Lab/Shopbot/videos/singleDisturb\\mineral_LapRD_visc\\I_M9_S_4.00\\I_M9_S_4.00_220930\\disturbXS_+z_1.250\\disturbXS_+z_1.250_vidStats_I_M9_S_4.00_220930_160846_5.csv\n"
     ]
    }
   ],
   "source": [
    "def exportStats(folder):\n",
    "    vd = vt.vidData(folder)\n",
    "    vd.exportVidStats()\n",
    "for f in fh.printFolders(os.path.join(cfg.path.server, r'singleDisturb')):\n",
    "    exportStats(f)"
   ]
  },
  {
   "cell_type": "code",
   "execution_count": null,
   "id": "6317ab86",
   "metadata": {},
   "outputs": [],
   "source": [
    "folder = os.path.join(cfg.path.server, r'singleDisturb\\LapRD_LapRD_visc\\I_3.00_S_2.25\\I_3.00_S_2.25_220928\\disturbHoriz_0.625')"
   ]
  },
  {
   "cell_type": "code",
   "execution_count": null,
   "id": "932ab76b",
   "metadata": {},
   "outputs": [],
   "source": [
    "pdim = vt.getProgDims(folder)\n",
    "pdim.exportAll(overwrite=True, diag=0)"
   ]
  },
  {
   "cell_type": "code",
   "execution_count": null,
   "id": "356c24cf",
   "metadata": {},
   "outputs": [],
   "source": [
    "folder = os.path.join(cfg.path.server, r'singleDisturb\\mineral_LapRD_visc\\I_M7_S_3.00\\I_M7_S_3.00_220930\\disturbHoriz2_0.750')"
   ]
  },
  {
   "cell_type": "code",
   "execution_count": null,
   "id": "e6dccc9f",
   "metadata": {},
   "outputs": [],
   "source": [
    "p1 = pdim.ftable.loc[300:400]\n",
    "p1[p1.flag>2048].time.min()"
   ]
  },
  {
   "cell_type": "code",
   "execution_count": null,
   "id": "11c77314",
   "metadata": {},
   "outputs": [],
   "source": [
    "pdim = vt.getProgDims(folder)\n",
    "pdim.importTimeRewriteFile()"
   ]
  },
  {
   "cell_type": "code",
   "execution_count": null,
   "id": "dac46797",
   "metadata": {
    "tags": []
   },
   "outputs": [],
   "source": [
    "pdim.rewriteTargets()\n",
    "pdim.ftable"
   ]
  },
  {
   "cell_type": "code",
   "execution_count": null,
   "id": "17d9c3d6",
   "metadata": {
    "tags": []
   },
   "outputs": [],
   "source": [
    "pdim.importTimeFile()\n",
    "pdim.getTargetPoints()"
   ]
  },
  {
   "cell_type": "markdown",
   "id": "e6287e3d",
   "metadata": {},
   "source": [
    "## make stills"
   ]
  },
  {
   "cell_type": "code",
   "execution_count": null,
   "id": "a37475fc",
   "metadata": {
    "tags": []
   },
   "outputs": [],
   "source": [
    "errorList = vt.exportStillsRecursive(os.path.join(cfg.path.server, r'singleDisturb')\n",
    "                                     , overwriteDims=True, overwrite=True)"
   ]
  },
  {
   "cell_type": "code",
   "execution_count": 139,
   "id": "c47f7288",
   "metadata": {},
   "outputs": [
    {
     "data": {
      "text/plain": [
       "['//cfs2e.nist.gov/642/internal/3D Printing Lab/Shopbot/videos/singleDisturb\\\\LapRD_LapRD_visc\\\\I_3.00_S_2.25\\\\I_3.00_S_2.25_220928_v1\\\\disturbHoriz_0.500',\n",
       " '//cfs2e.nist.gov/642/internal/3D Printing Lab/Shopbot/videos/singleDisturb\\\\LapRD_LapRD_visc\\\\I_3.00_S_2.25\\\\I_3.00_S_2.25_220928_v1\\\\disturbHoriz_0.625',\n",
       " '//cfs2e.nist.gov/642/internal/3D Printing Lab/Shopbot/videos/singleDisturb\\\\LapRD_LapRD_visc\\\\I_3.00_S_2.25\\\\I_3.00_S_2.25_220928_v1\\\\disturbHoriz_0.750',\n",
       " '//cfs2e.nist.gov/642/internal/3D Printing Lab/Shopbot/videos/singleDisturb\\\\LapRD_LapRD_visc\\\\I_3.00_S_2.25\\\\I_3.00_S_2.25_220928_v1\\\\disturbHoriz_0.875',\n",
       " '//cfs2e.nist.gov/642/internal/3D Printing Lab/Shopbot/videos/singleDisturb\\\\LapRD_LapRD_visc\\\\I_3.00_S_2.25\\\\I_3.00_S_2.25_220928_v1\\\\disturbHoriz_1.000',\n",
       " '//cfs2e.nist.gov/642/internal/3D Printing Lab/Shopbot/videos/singleDisturb\\\\LapRD_LapRD_visc\\\\I_3.00_S_2.25\\\\I_3.00_S_2.25_220928_v1\\\\disturbHoriz_1.250',\n",
       " '//cfs2e.nist.gov/642/internal/3D Printing Lab/Shopbot/videos/singleDisturb\\\\LapRD_LapRD_visc\\\\I_3.00_S_2.25\\\\I_3.00_S_2.25_220928_v1\\\\disturbVert_0.500',\n",
       " '//cfs2e.nist.gov/642/internal/3D Printing Lab/Shopbot/videos/singleDisturb\\\\LapRD_LapRD_visc\\\\I_3.00_S_2.25\\\\I_3.00_S_2.25_220928_v1\\\\disturbVert_0.625',\n",
       " '//cfs2e.nist.gov/642/internal/3D Printing Lab/Shopbot/videos/singleDisturb\\\\LapRD_LapRD_visc\\\\I_3.00_S_2.25\\\\I_3.00_S_2.25_220928_v1\\\\disturbVert_0.750',\n",
       " '//cfs2e.nist.gov/642/internal/3D Printing Lab/Shopbot/videos/singleDisturb\\\\LapRD_LapRD_visc\\\\I_3.00_S_2.25\\\\I_3.00_S_2.25_220928_v1\\\\disturbVert_0.875',\n",
       " '//cfs2e.nist.gov/642/internal/3D Printing Lab/Shopbot/videos/singleDisturb\\\\LapRD_LapRD_visc\\\\I_3.00_S_2.25\\\\I_3.00_S_2.25_220928_v1\\\\disturbVert_1.000',\n",
       " '//cfs2e.nist.gov/642/internal/3D Printing Lab/Shopbot/videos/singleDisturb\\\\LapRD_LapRD_visc\\\\I_3.00_S_2.25\\\\I_3.00_S_2.25_220928_v1\\\\disturbVert_1.250',\n",
       " '//cfs2e.nist.gov/642/internal/3D Printing Lab/Shopbot/videos/singleDisturb\\\\mineral_LapRD_visc\\\\I_M9_S_3.00\\\\I_M9_S_3.00_220930_v1\\\\disturbHoriz2_0.625',\n",
       " '//cfs2e.nist.gov/642/internal/3D Printing Lab/Shopbot/videos/singleDisturb\\\\mineral_LapRD_visc\\\\I_M9_S_3.50\\\\I_M9_S_3.50_220930\\\\disturbHoriz2_0.500']"
      ]
     },
     "execution_count": 139,
     "metadata": {},
     "output_type": "execute_result"
    }
   ],
   "source": [
    "errorList"
   ]
  },
  {
   "cell_type": "code",
   "execution_count": 16,
   "id": "f11da403",
   "metadata": {
    "tags": []
   },
   "outputs": [
    {
     "name": "stdout",
     "output_type": "stream",
     "text": [
      "INFO: Exported //cfs2e.nist.gov/642/internal/3D Printing Lab/Shopbot/videos/singleDisturb\\LapRD_LapRD_visc\\I_3.00_S_2.25\\I_3.00_S_2.25_220928\\disturbHoriz_0.750\\disturbHoriz_0.750_vstill_HOh_l0w_I_3.00_S_2.25_220928_171121_4.png\n",
      "INFO: Exported //cfs2e.nist.gov/642/internal/3D Printing Lab/Shopbot/videos/singleDisturb\\LapRD_LapRD_visc\\I_3.00_S_2.25\\I_3.00_S_2.25_220928\\disturbHoriz_0.750\\disturbHoriz_0.750_vstill_HOh_l0wo_I_3.00_S_2.25_220928_171121_4.png\n",
      "INFO: Exported //cfs2e.nist.gov/642/internal/3D Printing Lab/Shopbot/videos/singleDisturb\\LapRD_LapRD_visc\\I_3.00_S_2.25\\I_3.00_S_2.25_220928\\disturbHoriz_0.750\\disturbHoriz_0.750_vstill_HOh_l0d_I_3.00_S_2.25_220928_171121_4.png\n",
      "INFO: Exported //cfs2e.nist.gov/642/internal/3D Printing Lab/Shopbot/videos/singleDisturb\\LapRD_LapRD_visc\\I_3.00_S_2.25\\I_3.00_S_2.25_220928\\disturbHoriz_0.750\\disturbHoriz_0.750_vstill_HOh_l0do_I_3.00_S_2.25_220928_171121_4.png\n",
      "INFO: Exported //cfs2e.nist.gov/642/internal/3D Printing Lab/Shopbot/videos/singleDisturb\\LapRD_LapRD_visc\\I_3.00_S_2.25\\I_3.00_S_2.25_220928\\disturbHoriz_0.750\\disturbHoriz_0.750_vstill_HOh_l1w_I_3.00_S_2.25_220928_171121_4.png\n",
      "INFO: Exported //cfs2e.nist.gov/642/internal/3D Printing Lab/Shopbot/videos/singleDisturb\\LapRD_LapRD_visc\\I_3.00_S_2.25\\I_3.00_S_2.25_220928\\disturbHoriz_0.750\\disturbHoriz_0.750_vstill_HOh_l1wo_I_3.00_S_2.25_220928_171121_4.png\n",
      "INFO: Exported //cfs2e.nist.gov/642/internal/3D Printing Lab/Shopbot/videos/singleDisturb\\LapRD_LapRD_visc\\I_3.00_S_2.25\\I_3.00_S_2.25_220928\\disturbHoriz_0.750\\disturbHoriz_0.750_vstill_HOh_l1d_I_3.00_S_2.25_220928_171121_4.png\n",
      "INFO: Exported //cfs2e.nist.gov/642/internal/3D Printing Lab/Shopbot/videos/singleDisturb\\LapRD_LapRD_visc\\I_3.00_S_2.25\\I_3.00_S_2.25_220928\\disturbHoriz_0.750\\disturbHoriz_0.750_vstill_HOh_l1do_I_3.00_S_2.25_220928_171121_4.png\n",
      "INFO: Exported //cfs2e.nist.gov/642/internal/3D Printing Lab/Shopbot/videos/singleDisturb\\LapRD_LapRD_visc\\I_3.00_S_2.25\\I_3.00_S_2.25_220928\\disturbHoriz_0.750\\disturbHoriz_0.750_vstill_HOh_l2w_I_3.00_S_2.25_220928_171121_4.png\n",
      "INFO: Exported //cfs2e.nist.gov/642/internal/3D Printing Lab/Shopbot/videos/singleDisturb\\LapRD_LapRD_visc\\I_3.00_S_2.25\\I_3.00_S_2.25_220928\\disturbHoriz_0.750\\disturbHoriz_0.750_vstill_HOh_l2wo_I_3.00_S_2.25_220928_171121_4.png\n",
      "INFO: Exported //cfs2e.nist.gov/642/internal/3D Printing Lab/Shopbot/videos/singleDisturb\\LapRD_LapRD_visc\\I_3.00_S_2.25\\I_3.00_S_2.25_220928\\disturbHoriz_0.750\\disturbHoriz_0.750_vstill_HOh_l2d_I_3.00_S_2.25_220928_171121_4.png\n",
      "INFO: Exported //cfs2e.nist.gov/642/internal/3D Printing Lab/Shopbot/videos/singleDisturb\\LapRD_LapRD_visc\\I_3.00_S_2.25\\I_3.00_S_2.25_220928\\disturbHoriz_0.750\\disturbHoriz_0.750_vstill_HOh_l2do_I_3.00_S_2.25_220928_171121_4.png\n",
      "INFO: Exported //cfs2e.nist.gov/642/internal/3D Printing Lab/Shopbot/videos/singleDisturb\\LapRD_LapRD_visc\\I_3.00_S_2.25\\I_3.00_S_2.25_220928\\disturbHoriz_0.750\\disturbHoriz_0.750_vstill_HOh_l3w_I_3.00_S_2.25_220928_171121_4.png\n",
      "INFO: Exported //cfs2e.nist.gov/642/internal/3D Printing Lab/Shopbot/videos/singleDisturb\\LapRD_LapRD_visc\\I_3.00_S_2.25\\I_3.00_S_2.25_220928\\disturbHoriz_0.750\\disturbHoriz_0.750_vstill_HOh_l3wo_I_3.00_S_2.25_220928_171121_4.png\n",
      "INFO: Exported //cfs2e.nist.gov/642/internal/3D Printing Lab/Shopbot/videos/singleDisturb\\LapRD_LapRD_visc\\I_3.00_S_2.25\\I_3.00_S_2.25_220928\\disturbHoriz_0.750\\disturbHoriz_0.750_vstill_HOh_l3d_I_3.00_S_2.25_220928_171121_4.png\n",
      "INFO: Exported //cfs2e.nist.gov/642/internal/3D Printing Lab/Shopbot/videos/singleDisturb\\LapRD_LapRD_visc\\I_3.00_S_2.25\\I_3.00_S_2.25_220928\\disturbHoriz_0.750\\disturbHoriz_0.750_vstill_HOh_l3do_I_3.00_S_2.25_220928_171121_4.png\n"
     ]
    },
    {
     "data": {
      "text/plain": [
       "[]"
      ]
     },
     "execution_count": 16,
     "metadata": {},
     "output_type": "execute_result"
    }
   ],
   "source": [
    "folder = os.path.join(cfg.path.server, r'singleDisturb\\LapRD_LapRD_visc\\I_3.00_S_2.25\\I_3.00_S_2.25_220928\\disturbHoriz_0.750')\n",
    "vt.exportStillsRecursive(folder, overwriteDims=False, overwrite=True, prefixes=['HOh'])"
   ]
  },
  {
   "cell_type": "code",
   "execution_count": null,
   "id": "7d418163",
   "metadata": {},
   "outputs": [],
   "source": []
  }
 ],
 "metadata": {
  "kernelspec": {
   "display_name": "Python 3",
   "language": "python",
   "name": "python3"
  },
  "language_info": {
   "codemirror_mode": {
    "name": "ipython",
    "version": 3
   },
   "file_extension": ".py",
   "mimetype": "text/x-python",
   "name": "python",
   "nbconvert_exporter": "python",
   "pygments_lexer": "ipython3",
   "version": "3.8.3"
  }
 },
 "nbformat": 4,
 "nbformat_minor": 5
}
