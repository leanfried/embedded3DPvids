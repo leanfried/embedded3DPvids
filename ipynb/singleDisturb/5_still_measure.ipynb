{
 "cells": [
  {
   "cell_type": "markdown",
   "id": "0b6e6be4",
   "metadata": {},
   "source": [
    "# Analyzing images of disturbed lines"
   ]
  },
  {
   "cell_type": "markdown",
   "id": "d09cd1f0",
   "metadata": {},
   "source": [
    "## Initialization"
   ]
  },
  {
   "cell_type": "code",
   "execution_count": null,
   "id": "f148063f",
   "metadata": {},
   "outputs": [],
   "source": [
    "%load_ext autoreload\n",
    "%autoreload 2\n",
    "LOGGERDEFINED = False"
   ]
  },
  {
   "cell_type": "code",
   "execution_count": null,
   "id": "5fcca5eb",
   "metadata": {},
   "outputs": [],
   "source": [
    "import os\n",
    "import sys\n",
    "import numpy as np\n",
    "module_path = os.path.abspath(os.path.join('..'))\n",
    "sys.path.append(module_path)\n",
    "sys.path.append(os.path.dirname(module_path))\n",
    "from py.tools.config import cfg\n",
    "import py.tools.logs as logs\n",
    "import py.vid_tools as vt\n",
    "import py.metrics_SDT as me\n",
    "from py.tools.imshow import imshow\n",
    "import matplotlib.pyplot as plt\n",
    "import py.file_handling as fh\n",
    "import pandas as pd\n",
    "LOGGERDEFINED = logs.openLog('still_measure.ipynb', LOGGERDEFINED, level='DEBUG', exportLog=False)"
   ]
  },
  {
   "cell_type": "code",
   "execution_count": null,
   "id": "530b48ed",
   "metadata": {},
   "outputs": [],
   "source": [
    "fh.openExplorer(folder)"
   ]
  },
  {
   "cell_type": "markdown",
   "id": "3877639c",
   "metadata": {},
   "source": [
    "# measure videos"
   ]
  },
  {
   "cell_type": "markdown",
   "id": "dd2d072a",
   "metadata": {
    "collapsed": true,
    "jupyter": {
     "outputs_hidden": true
    }
   },
   "source": [
    "measure all videos"
   ]
  },
  {
   "cell_type": "code",
   "execution_count": null,
   "id": "af981120",
   "metadata": {
    "tags": []
   },
   "outputs": [],
   "source": [
    "errorFolders = me.measureFolders(os.path.join(cfg.path.server, r'singleDisturb'), overwrite=True, horiz=False, xs=False, vert=True)\n",
    "errorFolders"
   ]
  },
  {
   "cell_type": "code",
   "execution_count": null,
   "id": "57fbbd40",
   "metadata": {},
   "outputs": [],
   "source": [
    "errorFolders"
   ]
  },
  {
   "cell_type": "markdown",
   "id": "a3cdf55b",
   "metadata": {},
   "source": [
    "## xs"
   ]
  },
  {
   "cell_type": "markdown",
   "id": "e51afcb0",
   "metadata": {},
   "source": [
    "#### individual folders"
   ]
  },
  {
   "cell_type": "code",
   "execution_count": null,
   "id": "2c7e840e",
   "metadata": {
    "tags": []
   },
   "outputs": [],
   "source": [
    "fstr = r'singleDisturb\\mineral_LapRD_visc\\I_M9_S_4.00\\I_M9_S_4.00_220930\\disturbXS_+z_0.875'\n",
    "fistr = 'disturbXS_+z_0.875_vstill_HOx_l3do_I_M9_S_4.00_220930_160711_5.png'\n",
    "folder = os.path.join(cfg.path.server, fstr)\n",
    "file = os.path.join(folder, fistr)\n",
    "d,u = me.xsSegmentDisturb(file, diag=1).values()\n",
    "if 'w' in d:\n",
    "    w = d['w']\n",
    "    h = d['h']\n",
    "else:\n",
    "    w = -1\n",
    "    h = -1\n",
    "print(f'{fstr},{fistr},{w},{h}')"
   ]
  },
  {
   "cell_type": "code",
   "execution_count": null,
   "id": "bd755b90",
   "metadata": {
    "tags": []
   },
   "outputs": [],
   "source": [
    "fstr = r'singleDisturb\\LapRD_LapRD_visc\\I_3.00_S_2.50\\I_3.00_S_2.50_220928\\disturbXS_+y_1.250'\n",
    "folder = os.path.join(cfg.path.server, fstr)\n",
    "fistr = 'disturbXS_+y_1.250_vstill_HIx_l0do_I_3.00_S_2.50_220928_163204_6.png'\n",
    "file = os.path.join(folder, fistr)\n",
    "me.xsDisturbMeasure(file, overwrite=True, diag=1)"
   ]
  },
  {
   "cell_type": "markdown",
   "id": "09df6eb5",
   "metadata": {},
   "source": [
    "### unit test"
   ]
  },
  {
   "cell_type": "code",
   "execution_count": null,
   "id": "365911f5",
   "metadata": {
    "tags": []
   },
   "outputs": [],
   "source": [
    "run ../../tests/test_disturbXS"
   ]
  },
  {
   "cell_type": "code",
   "execution_count": null,
   "id": "fad687c4",
   "metadata": {},
   "outputs": [],
   "source": [
    "cdir = os.path.dirname(os.path.abspath(os.path.join('..')))\n",
    "testcsv = os.path.join(cdir, 'tests', 'test_disturbXS.csv')\n",
    "testlist = pd.read_csv(testcsv, dtype={'folder':'str', 'file':'str', 'w':'int', 'h':'int'})"
   ]
  },
  {
   "cell_type": "code",
   "execution_count": null,
   "id": "d1860075",
   "metadata": {
    "tags": []
   },
   "outputs": [],
   "source": [
    "# folder = os.path.join(cfg.path.server, r'singleDisturb\\LapRD_LapRD_visc\\I_3.00_S_2.50\\I_3.00_S_2.50_220928\\disturbVert_0.500')\n",
    "# file = os.path.join(folder, 'disturbVert_0.500_vstill_V_l1do_I_3.00_S_2.50_220928_160239_6.png')\n",
    "# i = 17\n",
    "for i in [19]:\n",
    "    folder = os.path.join(cfg.path.server, testlist.loc[i, 'folder'])\n",
    "    file = os.path.join(folder, testlist.loc[i, 'file'])\n",
    "    d,u = me.xsDisturbMeasure(file, diag=1)\n",
    "    if 'w' in d:\n",
    "        print({'i':i, 'folder':testlist.loc[i,'folder'], 'file':testlist.loc[i,'file'], 'w':d['w'], 'h':d['h'], 'w0':testlist.loc[i,'w'], 'h0':testlist.loc[i, 'h']})\n",
    "    else:\n",
    "        print({'i':i, 'folder':testlist.loc[i,'folder'], 'file':testlist.loc[i,'file'], 'w':0, 'h':0, 'w0':testlist.loc[i,'w'], 'h0':testlist.loc[i, 'h']})"
   ]
  },
  {
   "cell_type": "markdown",
   "id": "1a91a280",
   "metadata": {},
   "source": [
    "### summary"
   ]
  },
  {
   "cell_type": "code",
   "execution_count": null,
   "id": "13c80ba5",
   "metadata": {
    "tags": []
   },
   "outputs": [],
   "source": [
    "fstr = r'singleDisturb\\mineral_LapRD_visc\\I_M8_S_4.00\\I_M8_S_4.00_220930\\disturbXS_+z_0.750'\n",
    "folder = os.path.join(cfg.path.server, fstr)\n",
    "me.xsDisturbMeasureSummarize(folder, dire='+z', overwrite=True, diag=1)"
   ]
  },
  {
   "cell_type": "code",
   "execution_count": null,
   "id": "0269b342",
   "metadata": {
    "tags": []
   },
   "outputs": [],
   "source": [
    "me.xsDisturbSummaries(os.path.join(cfg.path.server, 'singleDisturb\\LapRD_LapRD_visc\\I_3.00_S_2.50\\I_3.00_S_2.50_220928'), os.path.join(cfg.path.fig, r'singleDoubleTriple'), overwrite=False)"
   ]
  },
  {
   "cell_type": "markdown",
   "id": "a40955f4",
   "metadata": {},
   "source": [
    "## vert"
   ]
  },
  {
   "cell_type": "markdown",
   "id": "c3a51893",
   "metadata": {},
   "source": [
    "### individual folders"
   ]
  },
  {
   "cell_type": "code",
   "execution_count": null,
   "id": "50e1450b",
   "metadata": {
    "tags": []
   },
   "outputs": [],
   "source": [
    "folder = os.path.join(cfg.path.server, r'singleDisturb\\mineral_LapRD_visc\\I_M7_S_4.00\\I_M7_S_4.00_220930\\disturbVert_0.500')\n",
    "file = os.path.join(folder, 'disturbVert_0.500_vstill_V_l1d_I_M7_S_4.00_220930_113848_4.png')\n",
    "vv = me.vertSegmentDisturb(file, diag=3)\n",
    "d,u = vv.values()\n",
    "if 'w' in d:\n",
    "    print({'w':d['w'], 'h':d['h']})\n",
    "else:\n",
    "    print({ 'w':0, 'h':0})"
   ]
  },
  {
   "cell_type": "markdown",
   "id": "7c8e551b",
   "metadata": {},
   "source": [
    "### unit test"
   ]
  },
  {
   "cell_type": "code",
   "execution_count": null,
   "id": "f674f38c",
   "metadata": {},
   "outputs": [],
   "source": [
    "run ../../tests/test_disturbVert"
   ]
  },
  {
   "cell_type": "code",
   "execution_count": null,
   "id": "85399141",
   "metadata": {},
   "outputs": [],
   "source": [
    "fh.openExplorer(cdir)"
   ]
  },
  {
   "cell_type": "code",
   "execution_count": null,
   "id": "03d70f97",
   "metadata": {},
   "outputs": [],
   "source": [
    "cdir = os.path.dirname(os.path.abspath(os.path.join('..')))\n",
    "testcsv = os.path.join(cdir, 'tests', 'test_disturbVert.csv')\n",
    "testlist = pd.read_csv(testcsv, dtype={'folder':'str', 'file':'str', 'w':'int', 'h':'int'})"
   ]
  },
  {
   "cell_type": "code",
   "execution_count": null,
   "id": "4466139f",
   "metadata": {
    "tags": []
   },
   "outputs": [],
   "source": [
    "# folder = os.path.join(cfg.path.server, r'singleDisturb\\LapRD_LapRD_visc\\I_3.00_S_2.50\\I_3.00_S_2.50_220928\\disturbVert_0.500')\n",
    "# file = os.path.join(folder, 'disturbVert_0.500_vstill_V_l1do_I_3.00_S_2.50_220928_160239_6.png')\n",
    "# i = 17\n",
    "for i in [24]:\n",
    "    folder = os.path.join(cfg.path.server, testlist.loc[i, 'folder'])\n",
    "    file = os.path.join(folder, testlist.loc[i, 'file'])\n",
    "    d,u = me.vertDisturbMeasure(file, diag=2)\n",
    "    if 'w' in d:\n",
    "        print({'i':i, 'folder':testlist.loc[i,'folder'], 'file':testlist.loc[i,'file'], 'w':d['w'], 'h':d['h'], 'w0':testlist.loc[i,'w'], 'h0':testlist.loc[i, 'h']})\n",
    "    else:\n",
    "        print({'i':i, 'folder':testlist.loc[i,'folder'], 'file':testlist.loc[i,'file'], 'w':0, 'h':0, 'w0':testlist.loc[i,'w'], 'h0':testlist.loc[i, 'h']})"
   ]
  },
  {
   "cell_type": "code",
   "execution_count": null,
   "id": "0460cf5d",
   "metadata": {
    "tags": []
   },
   "outputs": [],
   "source": [
    "folder = os.path.join(cfg.path.server, r'singleDisturb\\mineral_LapRD_visc\\I_M9_S_4.00\\I_M9_S_4.00_220930\\disturbVert_1.250')\n",
    "me.vertDisturbMeasures(folder, overwrite=True, diag=1)\n",
    "me.vertDisturbSummary(folder, overwrite=True);"
   ]
  },
  {
   "cell_type": "markdown",
   "id": "8dfdf7a3",
   "metadata": {},
   "source": [
    "### summary"
   ]
  },
  {
   "cell_type": "code",
   "execution_count": null,
   "id": "01f8bcec",
   "metadata": {
    "tags": []
   },
   "outputs": [],
   "source": [
    "me.vertDisturbSummaries(os.path.join(cfg.path.server, r'singleDisturb\\LapRD_LapRD_visc\\I_3.00_S_2.50\\I_3.00_S_2.50_220928\\disturbVert_1.250'), os.path.join(cfg.path.fig, r'singleDoubleTriple'), overwrite=False)"
   ]
  },
  {
   "cell_type": "code",
   "execution_count": null,
   "id": "f6532cd5",
   "metadata": {
    "tags": []
   },
   "outputs": [],
   "source": [
    "me.vertDisturbSummaries(os.path.join(cfg.path.server, 'singleDisturb'), os.path.join(cfg.path.fig, 'singleDisturb'), overwrite=False)"
   ]
  },
  {
   "cell_type": "markdown",
   "id": "f7a1ed13",
   "metadata": {},
   "source": [
    "### horiz"
   ]
  },
  {
   "cell_type": "markdown",
   "id": "ce13ab1d",
   "metadata": {},
   "source": [
    "### individual files"
   ]
  },
  {
   "cell_type": "code",
   "execution_count": null,
   "id": "d4c1f5a4",
   "metadata": {
    "tags": []
   },
   "outputs": [],
   "source": [
    "fstr = r'singleDisturb\\mineral_LapRD_visc\\I_M9_S_4.00\\I_M9_S_4.00_220930\\disturbHoriz2_0.750'\n",
    "fistr = 'disturbHoriz2_0.750_vstill_HOh_l0wo_I_M9_S_4.00_220930_155232_7.png'\n",
    "folder = os.path.join(cfg.path.server, fstr)\n",
    "file = os.path.join(folder, fistr)\n",
    "d,u = me.horizSegmentDisturb(file, diag=2).values()\n",
    "if 'segments' in d:\n",
    "    segments = d['segments']\n",
    "    totlen = int(d['totlen'])\n",
    "    meanT = int(d['meanT'])\n",
    "else:\n",
    "    segments=-1\n",
    "    totlen=-1\n",
    "    meanT=-1\n",
    "print(f'{fstr},{fistr},{segments},{totlen},{meanT}')"
   ]
  },
  {
   "cell_type": "markdown",
   "id": "538e084d",
   "metadata": {},
   "source": [
    "### unit test"
   ]
  },
  {
   "cell_type": "code",
   "execution_count": null,
   "id": "06c23577",
   "metadata": {},
   "outputs": [],
   "source": [
    "run ../../tests/test_disturbHoriz"
   ]
  },
  {
   "cell_type": "code",
   "execution_count": null,
   "id": "a089b322",
   "metadata": {
    "jupyter": {
     "source_hidden": true
    },
    "tags": []
   },
   "outputs": [],
   "source": []
  },
  {
   "cell_type": "code",
   "execution_count": null,
   "id": "942fb062",
   "metadata": {},
   "outputs": [],
   "source": [
    "cdir = os.path.dirname(os.path.abspath(os.path.join('..')))\n",
    "testcsv = os.path.join(cdir, 'tests', 'test_disturbHoriz.csv')\n",
    "testlist = pd.read_csv(testcsv, dtype={'folder':'str', 'file':'str', 'w':'int', 'h':'int'})"
   ]
  },
  {
   "cell_type": "code",
   "execution_count": null,
   "id": "2e8bee78",
   "metadata": {
    "tags": []
   },
   "outputs": [],
   "source": [
    "# folder = os.path.join(cfg.path.server, r'singleDisturb\\LapRD_LapRD_visc\\I_3.00_S_2.50\\I_3.00_S_2.50_220928\\disturbVert_0.500')\n",
    "# file = os.path.join(folder, 'disturbVert_0.500_vstill_V_l1do_I_3.00_S_2.50_220928_160239_6.png')\n",
    "# i = 17\n",
    "for i in [19]:\n",
    "    folder = os.path.join(cfg.path.server, testlist.loc[i, 'folder'])\n",
    "    file = os.path.join(folder, testlist.loc[i, 'file'])\n",
    "    d,u = me.horizDisturbMeasure(file, diag=2)\n",
    "    if 'segments' in d:\n",
    "        print({'i':i, 'folder':testlist.loc[i,'folder'], 'file':testlist.loc[i,'file']\n",
    "               , 'segments':d['segments'], 'totlen':d['totlen'], 'meanT':d['meanT']\n",
    "               , 'segments0':testlist.loc[i,'segments'], 'totlen0':testlist.loc[i, 'totlen'], 'meanT0':testlist.loc[i, 'meanT']})\n",
    "    else:\n",
    "        print({'i':i, 'folder':testlist.loc[i,'folder'], 'file':testlist.loc[i,'file']\n",
    "               , 'segments':0, 'totlen':0, 'meanT':0\n",
    "               , 'segments0':testlist.loc[i,'segments'], 'totlen0':testlist.loc[i, 'totlen'], 'meanT0':testlist.loc[i, 'meanT']})"
   ]
  },
  {
   "cell_type": "markdown",
   "id": "8fdf0e7d",
   "metadata": {},
   "source": [
    "## summary"
   ]
  },
  {
   "cell_type": "code",
   "execution_count": null,
   "id": "2e7d6a33",
   "metadata": {
    "tags": []
   },
   "outputs": [],
   "source": [
    "fstr =  r'singleDisturb\\LapRD_LapRD_visc\\I_3.00_S_2.25\\I_3.00_S_2.25_220928_v2\\disturbHoriz_0.625'\n",
    "folder = os.path.join(cfg.path.server, fstr)\n",
    "me.horizDisturbMeasureSummarize(folder, overwrite=True, diag=1)"
   ]
  },
  {
   "cell_type": "code",
   "execution_count": null,
   "id": "b3ed2f4d",
   "metadata": {
    "tags": []
   },
   "outputs": [],
   "source": [
    "fstr = r'singleDisturb\\LapRD_LapRD_visc\\I_3.00_S_2.50\\I_3.00_S_2.50_220928\\disturbHoriz_0.500'\n",
    "folder = os.path.join(cfg.path.server, fstr)\n",
    "me.horizDisturbSummary(folder, overwrite=True)"
   ]
  },
  {
   "cell_type": "code",
   "execution_count": null,
   "id": "9081cab7",
   "metadata": {
    "tags": []
   },
   "outputs": [],
   "source": [
    "me.horizDisturbSummaries(os.path.join(cfg.path.server, 'singleDisturb')\n",
    "                         , os.path.join(cfg.path.fig, 'singleDisturb'), overwrite=False)"
   ]
  }
 ],
 "metadata": {
  "kernelspec": {
   "display_name": "Python 3 (ipykernel)",
   "language": "python",
   "name": "python3"
  },
  "language_info": {
   "codemirror_mode": {
    "name": "ipython",
    "version": 3
   },
   "file_extension": ".py",
   "mimetype": "text/x-python",
   "name": "python",
   "nbconvert_exporter": "python",
   "pygments_lexer": "ipython3",
   "version": "3.8.18"
  }
 },
 "nbformat": 4,
 "nbformat_minor": 5
}
