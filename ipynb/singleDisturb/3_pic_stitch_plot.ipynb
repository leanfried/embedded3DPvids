{
 "cells": [
  {
   "cell_type": "markdown",
   "id": "1d7b408f",
   "metadata": {},
   "source": [
    "# Plotting data from videos\n",
    "Leanne Friedrich 5/22/21"
   ]
  },
  {
   "cell_type": "markdown",
   "id": "b16bd2ac",
   "metadata": {},
   "source": [
    "## initialization"
   ]
  },
  {
   "cell_type": "code",
   "execution_count": null,
   "id": "6814838f",
   "metadata": {
    "tags": []
   },
   "outputs": [],
   "source": [
    "%load_ext autoreload\n",
    "%autoreload 2\n",
    "LOGGERDEFINED = False"
   ]
  },
  {
   "cell_type": "code",
   "execution_count": null,
   "id": "bf83541f",
   "metadata": {
    "tags": []
   },
   "outputs": [],
   "source": [
    "import os\n",
    "import sys\n",
    "sys.path.append(\"../\")\n",
    "sys.path.append(\"../../\")\n",
    "import py.file_handling as fh\n",
    "from py.tools.config import cfg\n",
    "import py.tools.logs as logs\n",
    "from py.pic_plots_disturb import *\n",
    "import pandas as pd\n",
    "LOGGERDEFINED = logs.openLog('pic_stitch_plot.ipynb', LOGGERDEFINED, level='DEBUG', exportLog=False)\n",
    "IMFOLDER = os.path.join(cfg.path.fig, 'singleDisturb', 'images')"
   ]
  },
  {
   "cell_type": "markdown",
   "id": "79ec549a",
   "metadata": {},
   "source": [
    "## plot images"
   ]
  },
  {
   "cell_type": "markdown",
   "id": "b0c250a6",
   "metadata": {},
   "source": [
    "#### LapRD LapRD"
   ]
  },
  {
   "cell_type": "code",
   "execution_count": null,
   "id": "d5c012a0",
   "metadata": {
    "tags": []
   },
   "outputs": [],
   "source": [
    "mp1 = multiPlots(os.path.join(cfg.path.server,'singleDisturb', 'LapRD_LapRD_visc'), IMFOLDER,\n",
    "        ['220928'])"
   ]
  },
  {
   "cell_type": "code",
   "execution_count": null,
   "id": "6f0ddd00",
   "metadata": {
    "tags": []
   },
   "outputs": [],
   "source": [
    "mp1.keyPlots(overwrite=False, export=True)"
   ]
  },
  {
   "cell_type": "markdown",
   "id": "090893a5",
   "metadata": {},
   "source": [
    "#### Mineral LapRD"
   ]
  },
  {
   "cell_type": "code",
   "execution_count": null,
   "id": "0f7fc3ba",
   "metadata": {
    "tags": []
   },
   "outputs": [],
   "source": [
    "mp2 = multiPlots(os.path.join(cfg.path.server,'singleDisturb', 'mineral_LapRD_visc'), IMFOLDER, ['220930'])"
   ]
  },
  {
   "cell_type": "code",
   "execution_count": null,
   "id": "80551b6d",
   "metadata": {},
   "outputs": [],
   "source": [
    "mp2.keyPlots(overwrite=False)"
   ]
  },
  {
   "cell_type": "code",
   "execution_count": null,
   "id": "0623969e",
   "metadata": {},
   "outputs": [],
   "source": [
    "mp2.plot('HOx', spacing=0.875, overwrite=True)\n",
    "mp2.plot('HOx', ink=mp2.inkList[-1], overwrite=True)"
   ]
  },
  {
   "cell_type": "code",
   "execution_count": null,
   "id": "d3ae5178",
   "metadata": {},
   "outputs": [],
   "source": []
  }
 ],
 "metadata": {
  "kernelspec": {
   "display_name": "Python 3 (ipykernel)",
   "language": "python",
   "name": "python3"
  },
  "language_info": {
   "codemirror_mode": {
    "name": "ipython",
    "version": 3
   },
   "file_extension": ".py",
   "mimetype": "text/x-python",
   "name": "python",
   "nbconvert_exporter": "python",
   "pygments_lexer": "ipython3",
   "version": "3.8.18"
  }
 },
 "nbformat": 4,
 "nbformat_minor": 5
}
