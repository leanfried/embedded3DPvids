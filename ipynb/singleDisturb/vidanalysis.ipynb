{
 "cells": [
  {
   "cell_type": "markdown",
   "id": "7f1c6891",
   "metadata": {},
   "source": [
    "# Making stills of disturbed lines"
   ]
  },
  {
   "cell_type": "markdown",
   "id": "7edf20d1",
   "metadata": {},
   "source": [
    "## Initialization"
   ]
  },
  {
   "cell_type": "code",
   "execution_count": 1,
   "id": "cd1362ae",
   "metadata": {},
   "outputs": [],
   "source": [
    "%load_ext autoreload\n",
    "%autoreload 2\n",
    "LOGGERDEFINED = False"
   ]
  },
  {
   "cell_type": "code",
   "execution_count": 2,
   "id": "b7967c24",
   "metadata": {},
   "outputs": [],
   "source": [
    "import os\n",
    "import sys\n",
    "import numpy as np\n",
    "module_path = os.path.abspath(os.path.join('..'))\n",
    "sys.path.append(module_path)\n",
    "sys.path.append(os.path.dirname(module_path))\n",
    "from py.tools.config import cfg\n",
    "import py.tools.logs as logs\n",
    "import py.vid_tools as vt\n",
    "from py.tools.imshow import imshow\n",
    "import matplotlib.pyplot as plt\n",
    "import py.file_handling as fh\n",
    "LOGGERDEFINED = logs.openLog('vidAnalysis.ipynb', LOGGERDEFINED, level='DEBUG', exportLog=False)"
   ]
  },
  {
   "cell_type": "code",
   "execution_count": 288,
   "id": "881b480c",
   "metadata": {},
   "outputs": [],
   "source": [
    "fh.openExplorer(folder)"
   ]
  },
  {
   "cell_type": "markdown",
   "id": "0eb339ad",
   "metadata": {},
   "source": [
    "### get programmed dimension"
   ]
  },
  {
   "cell_type": "code",
   "execution_count": 286,
   "id": "4df2fa82",
   "metadata": {},
   "outputs": [],
   "source": [
    "folder = os.path.join(cfg.path.server, r'singleDisturb\\mineral_LapRD_visc\\I_M7_S_3.50\\I_M7_S_3.50_220930\\disturbHoriz2_0.500')"
   ]
  },
  {
   "cell_type": "code",
   "execution_count": 111,
   "id": "273d0af9",
   "metadata": {},
   "outputs": [],
   "source": [
    "folder = os.path.join(cfg.path.server, r'singleDisturb\\LapRD_LapRD_visc\\I_3.00_S_2.25\\I_3.00_S_2.25_220928\\disturbHoriz_0.625')"
   ]
  },
  {
   "cell_type": "code",
   "execution_count": 139,
   "id": "79971a6f",
   "metadata": {},
   "outputs": [
    {
     "name": "stdout",
     "output_type": "stream",
     "text": [
      "INFO: Exported //cfs2e.nist.gov/642/internal/3D Printing Lab/Shopbot/videos/singleDisturb\\mineral_LapRD_visc\\I_M7_S_4.00\\I_M7_S_4.00_220930\\disturbXS_+z_0.875\\disturbXS_+z_0.875_timeRewrite_I_M7_S_4.00_220930_115026_2.csv\n",
      "INFO: Exported //cfs2e.nist.gov/642/internal/3D Printing Lab/Shopbot/videos/singleDisturb\\mineral_LapRD_visc\\I_M7_S_4.00\\I_M7_S_4.00_220930\\disturbXS_+z_0.875\\disturbXS_+z_0.875_progPos_I_M7_S_4.00_220930_115026_2.csv\n",
      "INFO: Exported //cfs2e.nist.gov/642/internal/3D Printing Lab/Shopbot/videos/singleDisturb\\mineral_LapRD_visc\\I_M7_S_4.00\\I_M7_S_4.00_220930\\disturbXS_+z_0.875\\disturbXS_+z_0.875_progDims_I_M7_S_4.00_220930_115026_2.csv\n"
     ]
    }
   ],
   "source": [
    "pdim = vt.getProgDims(folder)\n",
    "pdim.exportAll(overwrite=True, diag=0)"
   ]
  },
  {
   "cell_type": "code",
   "execution_count": 116,
   "id": "86202691",
   "metadata": {},
   "outputs": [],
   "source": [
    "folder = os.path.join(cfg.path.server, r'singleDisturb\\mineral_LapRD_visc\\I_M7_S_3.00\\I_M7_S_3.00_220930\\disturbHoriz2_0.750')"
   ]
  },
  {
   "cell_type": "markdown",
   "id": "6f250a4e",
   "metadata": {},
   "source": [
    "## make stills"
   ]
  },
  {
   "cell_type": "code",
   "execution_count": null,
   "id": "54c09fbf",
   "metadata": {
    "tags": []
   },
   "outputs": [],
   "source": [
    "errorList = vt.exportStillsRecursive(os.path.join(cfg.path.server, r'singleDisturb'), overwriteDims=False, overwrite=False)"
   ]
  },
  {
   "cell_type": "code",
   "execution_count": 140,
   "id": "9f82b670",
   "metadata": {},
   "outputs": [
    {
     "name": "stdout",
     "output_type": "stream",
     "text": [
      "INFO: Exported //cfs2e.nist.gov/642/internal/3D Printing Lab/Shopbot/videos/singleDisturb\\mineral_LapRD_visc\\I_M7_S_4.00\\I_M7_S_4.00_220930\\disturbXS_+z_0.875\\disturbXS_+z_0.875_still_l0w_I_M7_S_4.00_220930_115026_2.png\n",
      "INFO: Exported //cfs2e.nist.gov/642/internal/3D Printing Lab/Shopbot/videos/singleDisturb\\mineral_LapRD_visc\\I_M7_S_4.00\\I_M7_S_4.00_220930\\disturbXS_+z_0.875\\disturbXS_+z_0.875_still_l0wo_I_M7_S_4.00_220930_115026_2.png\n",
      "INFO: Exported //cfs2e.nist.gov/642/internal/3D Printing Lab/Shopbot/videos/singleDisturb\\mineral_LapRD_visc\\I_M7_S_4.00\\I_M7_S_4.00_220930\\disturbXS_+z_0.875\\disturbXS_+z_0.875_still_l0d_I_M7_S_4.00_220930_115026_2.png\n",
      "INFO: Exported //cfs2e.nist.gov/642/internal/3D Printing Lab/Shopbot/videos/singleDisturb\\mineral_LapRD_visc\\I_M7_S_4.00\\I_M7_S_4.00_220930\\disturbXS_+z_0.875\\disturbXS_+z_0.875_still_l0do_I_M7_S_4.00_220930_115026_2.png\n",
      "INFO: Exported //cfs2e.nist.gov/642/internal/3D Printing Lab/Shopbot/videos/singleDisturb\\mineral_LapRD_visc\\I_M7_S_4.00\\I_M7_S_4.00_220930\\disturbXS_+z_0.875\\disturbXS_+z_0.875_still_l1w_I_M7_S_4.00_220930_115026_2.png\n",
      "INFO: Exported //cfs2e.nist.gov/642/internal/3D Printing Lab/Shopbot/videos/singleDisturb\\mineral_LapRD_visc\\I_M7_S_4.00\\I_M7_S_4.00_220930\\disturbXS_+z_0.875\\disturbXS_+z_0.875_still_l1wo_I_M7_S_4.00_220930_115026_2.png\n",
      "INFO: Exported //cfs2e.nist.gov/642/internal/3D Printing Lab/Shopbot/videos/singleDisturb\\mineral_LapRD_visc\\I_M7_S_4.00\\I_M7_S_4.00_220930\\disturbXS_+z_0.875\\disturbXS_+z_0.875_still_l1d_I_M7_S_4.00_220930_115026_2.png\n",
      "INFO: Exported //cfs2e.nist.gov/642/internal/3D Printing Lab/Shopbot/videos/singleDisturb\\mineral_LapRD_visc\\I_M7_S_4.00\\I_M7_S_4.00_220930\\disturbXS_+z_0.875\\disturbXS_+z_0.875_still_l1do_I_M7_S_4.00_220930_115026_2.png\n",
      "INFO: Exported //cfs2e.nist.gov/642/internal/3D Printing Lab/Shopbot/videos/singleDisturb\\mineral_LapRD_visc\\I_M7_S_4.00\\I_M7_S_4.00_220930\\disturbXS_+z_0.875\\disturbXS_+z_0.875_still_l2w_I_M7_S_4.00_220930_115026_2.png\n",
      "INFO: Exported //cfs2e.nist.gov/642/internal/3D Printing Lab/Shopbot/videos/singleDisturb\\mineral_LapRD_visc\\I_M7_S_4.00\\I_M7_S_4.00_220930\\disturbXS_+z_0.875\\disturbXS_+z_0.875_still_l2wo_I_M7_S_4.00_220930_115026_2.png\n",
      "INFO: Exported //cfs2e.nist.gov/642/internal/3D Printing Lab/Shopbot/videos/singleDisturb\\mineral_LapRD_visc\\I_M7_S_4.00\\I_M7_S_4.00_220930\\disturbXS_+z_0.875\\disturbXS_+z_0.875_still_l2d_I_M7_S_4.00_220930_115026_2.png\n",
      "INFO: Exported //cfs2e.nist.gov/642/internal/3D Printing Lab/Shopbot/videos/singleDisturb\\mineral_LapRD_visc\\I_M7_S_4.00\\I_M7_S_4.00_220930\\disturbXS_+z_0.875\\disturbXS_+z_0.875_still_l2do_I_M7_S_4.00_220930_115026_2.png\n",
      "INFO: Exported //cfs2e.nist.gov/642/internal/3D Printing Lab/Shopbot/videos/singleDisturb\\mineral_LapRD_visc\\I_M7_S_4.00\\I_M7_S_4.00_220930\\disturbXS_+z_0.875\\disturbXS_+z_0.875_still_l3w_I_M7_S_4.00_220930_115026_2.png\n",
      "INFO: Exported //cfs2e.nist.gov/642/internal/3D Printing Lab/Shopbot/videos/singleDisturb\\mineral_LapRD_visc\\I_M7_S_4.00\\I_M7_S_4.00_220930\\disturbXS_+z_0.875\\disturbXS_+z_0.875_still_l3wo_I_M7_S_4.00_220930_115026_2.png\n",
      "INFO: Exported //cfs2e.nist.gov/642/internal/3D Printing Lab/Shopbot/videos/singleDisturb\\mineral_LapRD_visc\\I_M7_S_4.00\\I_M7_S_4.00_220930\\disturbXS_+z_0.875\\disturbXS_+z_0.875_still_l3d_I_M7_S_4.00_220930_115026_2.png\n",
      "INFO: Exported //cfs2e.nist.gov/642/internal/3D Printing Lab/Shopbot/videos/singleDisturb\\mineral_LapRD_visc\\I_M7_S_4.00\\I_M7_S_4.00_220930\\disturbXS_+z_0.875\\disturbXS_+z_0.875_still_l3do_I_M7_S_4.00_220930_115026_2.png\n"
     ]
    }
   ],
   "source": [
    "vd = vt.vidData(folder)\n",
    "vd.exportStills()"
   ]
  },
  {
   "cell_type": "code",
   "execution_count": 287,
   "id": "a067bc1f",
   "metadata": {
    "tags": []
   },
   "outputs": [
    {
     "data": {
      "text/plain": [
       "[]"
      ]
     },
     "execution_count": 287,
     "metadata": {},
     "output_type": "execute_result"
    }
   ],
   "source": [
    "vt.exportStillsRecursive(folder, overwriteDims=False, overwrite=True)"
   ]
  },
  {
   "cell_type": "code",
   "execution_count": 262,
   "id": "e789f304",
   "metadata": {
    "collapsed": true,
    "jupyter": {
     "outputs_hidden": true
    },
    "tags": []
   },
   "outputs": [
    {
     "name": "stdout",
     "output_type": "stream",
     "text": [
      "    time                sbp             \n",
      "      xt    yt     zt    xt    yt     zt\n",
      "0   12.5   2.5  10.00  12.5   2.5  10.00\n",
      "1   12.5   2.5 -25.00  12.5   2.5 -25.00\n",
      "2   12.5  12.5 -22.50  12.5   2.5 -22.50\n",
      "3   12.5  12.5 -20.69  12.5  12.5 -22.50\n",
      "4   12.5   7.5 -20.69  12.5  12.5 -20.69\n",
      "5   12.5   2.5 -20.69  12.5   7.5 -20.69\n",
      "6   12.5   2.5 -22.20  12.5   2.5 -20.69\n",
      "7   12.5  12.5 -22.20  12.5   2.5 -22.20\n",
      "8   12.5  12.5 -20.69  12.5  12.5 -22.20\n",
      "9   12.5   7.5 -20.69  12.5  12.5 -20.69\n",
      "10  12.5   2.5 -20.69  12.5   7.5 -20.69\n",
      "11  12.5   2.5 -17.50  12.5   2.5 -20.69\n",
      "12  12.5  12.5 -17.50  12.5   2.5 -17.50\n",
      "13  12.5   7.5 -15.69  12.5  12.5 -17.50\n",
      "14  12.5   2.5 -15.69  12.5  12.5 -15.69\n",
      "15  12.5   2.5 -17.20  12.5   7.5 -15.69\n",
      "16  12.5  12.5 -17.20  12.5   2.5 -15.69\n",
      "17  12.5  12.5 -15.69  12.5   2.5 -17.20\n",
      "18  12.5   7.5 -15.69  12.5  12.5 -17.20\n",
      "19  12.5   2.5 -15.69  12.5  12.5 -15.69\n",
      "20  12.5   2.5 -12.50  12.5   7.5 -15.69\n",
      "21  12.5  12.5 -12.50  12.5   2.5 -15.69\n",
      "22  12.5   7.5 -10.69  12.5   2.5 -12.50\n",
      "23  12.5   2.5 -10.69  12.5  12.5 -12.50\n",
      "24  12.5   2.5 -12.20  12.5  12.5 -10.69\n",
      "25  12.5  12.5 -12.20  12.5   7.5 -10.69\n",
      "26  12.5  12.5 -10.69  12.5   2.5 -10.69\n",
      "27  12.5   7.5 -10.69  12.5   2.5 -12.20\n",
      "28  12.5   2.5 -10.69  12.5  12.5 -12.20\n",
      "29  12.5   2.5  -7.50  12.5  12.5 -10.69\n",
      "30  12.5  12.5  -7.50  12.5   7.5 -10.69\n",
      "31  12.5  12.5  -5.69  12.5   2.5 -10.69\n",
      "32  12.5   7.5  -5.69  12.5   2.5  -7.50\n",
      "33  12.5   2.5  -5.69  12.5  12.5  -7.50\n",
      "34  12.5   2.5  -7.20  12.5  12.5  -5.69\n",
      "35   NaN   NaN    NaN  12.5   7.5  -5.69\n",
      "36   NaN   NaN    NaN  12.5   2.5  -5.69\n",
      "37   NaN   NaN    NaN  12.5   2.5  -7.20\n",
      "38   NaN   NaN    NaN  12.5  12.5  -7.20\n",
      "39   NaN   NaN    NaN  12.5  12.5  -5.69\n",
      "40   NaN   NaN    NaN  12.5   7.5  -5.69\n",
      "41   NaN   NaN    NaN  12.5   2.5  -5.69\n",
      "42   NaN   NaN    NaN  12.5   2.5  10.00\n",
      "ti si tii sii tpoint\tsbppoint\n",
      "0 0 0 0 [12.5, 2.5, 10.001] [12.5, 2.5, 10.001] extra time\n",
      "1 1 1 1 [12.5, 2.5, -25.0] [12.5, 2.5, -25.0] extra time\n",
      "2 2 2 3 [12.5, 12.5, -22.5] [12.5, 12.5, -22.5] extra time\n",
      "3 4 3 4 [12.5, 12.5, -20.691] [12.5, 12.5, -20.691] extra time\n",
      "4 5 4 5 [12.5, 7.5, -20.691] [12.5, 7.5, -20.691] extra time\n",
      "5 6 5 6 [12.5, 2.5, -20.691] [12.5, 2.5, -20.691] extra time\n",
      "6 7 6 7 [12.5, 2.5, -22.1985] [12.5, 2.5, -22.1985] extra time\n",
      "7 8 7 8 [12.5, 12.5, -22.1985] [12.5, 12.5, -22.1985] extra time\n",
      "8 9 8 9 [12.5, 12.5, -20.691] [12.5, 12.5, -20.691] extra time\n",
      "9 10 9 10 [12.5, 7.5, -20.691] [12.5, 7.5, -20.691] extra time\n",
      "10 11 10 11 [12.5, 2.5, -20.691] [12.5, 2.5, -20.691] extra time\n",
      "11 12 11 12 [12.5, 2.5, -17.5] [12.5, 2.5, -17.5] extra time\n",
      "12 13 12 13 [12.5, 12.5, -17.5] [12.5, 12.5, -17.5] extra time\n",
      "13 14 13 15 [12.5, 7.5, -15.691] [12.5, 7.5, -15.691] extra time\n",
      "14 16 14 16 [12.5, 2.5, -15.691] [12.5, 2.5, -15.691] extra time\n",
      "15 17 15 17 [12.5, 2.5, -17.1985] [12.5, 2.5, -17.1985] extra time\n",
      "16 18 16 18 [12.5, 12.5, -17.1985] [12.5, 12.5, -17.1985] extra time\n",
      "17 19 17 19 [12.5, 12.5, -15.691] [12.5, 12.5, -15.691] extra time\n",
      "18 20 18 20 [12.5, 7.5, -15.691] [12.5, 7.5, -15.691] extra time\n",
      "19 21 19 21 [12.5, 2.5, -15.691] [12.5, 2.5, -15.691] extra time\n",
      "20 22 20 22 [12.5, 2.5, -12.5] [12.5, 2.5, -12.5] extra time\n",
      "21 23 21 23 [12.5, 12.5, -12.5] [12.5, 12.5, -12.5] extra time\n",
      "22 24 22 25 [12.5, 7.5, -10.691] [12.5, 7.5, -10.691] extra time\n",
      "23 26 23 26 [12.5, 2.5, -10.691] [12.5, 2.5, -10.691] extra time\n",
      "24 27 24 27 [12.5, 2.5, -12.1985] [12.5, 2.5, -12.1985] extra time\n",
      "25 28 25 28 [12.5, 12.5, -12.1985] [12.5, 12.5, -12.1985] extra time\n",
      "26 29 26 29 [12.5, 12.5, -10.691] [12.5, 12.5, -10.691] extra time\n",
      "27 30 27 30 [12.5, 7.5, -10.691] [12.5, 7.5, -10.691] extra time\n",
      "28 31 28 31 [12.5, 2.5, -10.691] [12.5, 2.5, -10.691] extra time\n",
      "29 32 29 32 [12.5, 2.5, -7.5] [12.5, 2.5, -7.5] extra time\n",
      "30 33 30 33 [12.5, 12.5, -7.5] [12.5, 12.5, -7.5] extra time\n",
      "31 34 31 34 [12.5, 12.5, -5.691] [12.5, 12.5, -5.691] extra time\n",
      "32 35 32 35 [12.5, 7.5, -5.691] [12.5, 7.5, -5.691] extra time\n",
      "33 36 33 36 [12.5, 2.5, -5.691] [12.5, 2.5, -5.691] extra time\n",
      "34 37 34 37 [12.5, 2.5, -7.1985] [12.5, 2.5, -7.1985] extra time\n",
      "67 [12.503, 2.502, 8.998] [12.5, 2.5, 10.001] 1.0030064805373893 0.0036055512754639618\n",
      "128 [12.503, 2.502, -24.746] [12.5, 2.5, -25.0] 0.2540255892621857 0.0036055512754639618\n",
      "130 [12.503, 4.445, -22.498] [12.5, 2.5, -22.5] 1.945003341899443 0.732008879727562\n",
      "141 [12.503, 12.503, -22.149] [12.5, 12.5, -22.5] 0.3510256400891527 0.2000324973598033\n",
      "148 [12.503, 11.538, -20.688] [12.5, 12.5, -20.691] 0.9620093554638642 0.24503673194033684\n",
      "224 [12.503, 7.41, -20.688] [12.5, 7.5, -20.691] 0.0900999445060871 0.004358898943540907\n",
      "239 [12.503, 4.242, -22.2] [12.5, 2.5, -20.691] 2.3047025838489446 0.004690415759823481\n",
      "241 [12.503, 9.093, -22.2] [12.5, 2.5, -22.1985] 6.593000853177558 3.5330015921309745\n",
      "278 [12.503, 12.503, -21.234] [12.5, 12.5, -22.1985] 0.9645093312145794 0.0045000000000001705\n",
      "286 [12.503, 9.188, -20.688] [12.5, 12.5, -20.691] 3.312002717390189 0.005196152422706829\n",
      "335 [12.503, 6.814, -20.688] [12.5, 7.5, -20.691] 0.6860131194080765 0.004358898943540907\n",
      "349 [12.503, 2.502, -17.691] [12.5, 2.5, -20.691] 3.000002166665884 0.004690415759823481\n",
      "351 [12.503, 5.867, -17.501] [12.5, 2.5, -17.5] 3.3670014850011576 0.04610856753359387\n",
      "364 [12.503, 12.503, -16.624] [12.5, 12.5, -17.5] 0.8760102739123566 0.251019919528311\n",
      "372 [12.503, 11.011, -15.691] [12.5, 12.5, -15.691] 1.489003022159459 0.27601630386627507\n",
      "445 [12.503, 7.41, -15.691] [12.5, 7.5, -15.691] 0.09004998611882167 0.0031622776601685928\n",
      "460 [12.503, 4.248, -17.196] [12.5, 2.5, -15.691] 2.306629142276669 0.0036055512754639618\n",
      "462 [12.503, 8.782, -17.196] [12.5, 2.5, -17.1985] 6.282001213785301 4.174001826784459\n",
      "500 [12.503, 12.503, -15.691] [12.5, 12.5, -17.1985] 1.5075059701374305 0.0049244289008970364\n",
      "507 [12.503, 9.823, -15.691] [12.5, 12.5, -15.691] 2.6770016809856503 0.004242640687119446\n",
      "558 [12.503, 6.496, -15.691] [12.5, 7.5, -15.691] 1.0040044820617082 0.0031622776601685928\n",
      "573 [12.503, 2.502, -12.694] [12.5, 2.5, -15.691] 2.997002168834717 0.0036055512754639618\n",
      "574 [12.503, 3.759, -12.503] [12.5, 2.5, -12.5] 1.2590071485102854 0.1940335022618525\n",
      "588 [12.503, 12.503, -11.627] [12.5, 12.5, -12.5] 0.8730103092174792 0.2510358540129272\n",
      "596 [12.503, 11.011, -10.693] [12.5, 12.5, -10.691] 1.4890043653394716 0.2760235497199467\n",
      "670 [12.503, 7.029, -10.693] [12.5, 7.5, -10.691] 0.4710138002224564 0.0037416573867735297\n",
      "685 [12.503, 3.035, -12.198] [12.5, 2.5, -10.691] 1.5991507120968929 0.004123105625617099\n",
      "686 [12.503, 4.248, -12.198] [12.5, 2.5, -12.1985] 1.7480026458790046 0.5350086447899699\n",
      "725 [12.503, 12.503, -10.852] [12.5, 12.5, -12.1985] 1.3465066839789535 0.004272001872658789\n",
      "733 [12.503, 9.188, -10.693] [12.5, 12.5, -10.691] 3.3120019625598047 0.004690415759823103\n",
      "783 [12.503, 7.029, -10.693] [12.5, 7.5, -10.691] 0.4710138002224564 0.0037416573867735297\n",
      "799 [12.503, 2.502, -8.014] [12.5, 2.5, -10.691] 2.677002428090047 0.004123105625617099\n",
      "801 [12.503, 4.966, -7.499] [12.5, 2.5, -7.5] 2.466002027574187 0.04012480529547781\n",
      "815 [12.503, 12.503, -6.629] [12.5, 12.5, -7.5] 0.871010332889341 0.257019454516579\n",
      "822 [12.503, 11.017, -5.69] [12.5, 12.5, -5.691] 1.4830033715403352 0.27001851788349585\n",
      "895 [12.503, 7.22, -5.69] [12.5, 7.5, -5.691] 0.2800178565734695 0.0033166247903554363\n",
      "911 [12.503, 3.029, -7.201] [12.5, 2.5, -5.691] 1.599984374923705 0.0037416573867737665\n",
      "912 [12.503, 4.242, -7.201] [12.5, 2.5, -7.1985] 1.742004377147199 0.5290144137922896\n",
      "960 [12.503, 9.188, -5.69] [12.5, 12.5, -5.691] 3.312001509661491 0.004358898943540703\n",
      "1010 [12.503, 5.226, -5.69] [12.5, 7.5, -5.691] 2.2740021987676267 0.0033166247903554363\n",
      "1023 [12.503, 2.502, -3.734] [12.5, 2.5, -5.691] 1.9570033214075033 0.0037416573867737665\n",
      "INFO: Exported //cfs2e.nist.gov/642/internal/3D Printing Lab/Shopbot/videos/singleDisturb\\mineral_LapRD_visc\\I_M9_S_3.50\\I_M9_S_3.50_v1_220930\\disturbHoriz2_0.500\\disturbHoriz2_0.500_timeRewrite_I_M9_S_3.50_220930_152650_3.csv\n"
     ]
    }
   ],
   "source": [
    "pdim = vt.getProgDims(folder)\n",
    "pdim.exportTime(overwrite=True, diag=1)"
   ]
  },
  {
   "cell_type": "code",
   "execution_count": 156,
   "id": "ec474d44",
   "metadata": {
    "collapsed": true,
    "jupyter": {
     "outputs_hidden": true
    },
    "tags": []
   },
   "outputs": [
    {
     "name": "stdout",
     "output_type": "stream",
     "text": [
      "      xt    yt     zt\n",
      "0   12.5   2.5  10.00\n",
      "1   12.5   2.5 -25.00\n",
      "2   12.5   2.5 -22.50\n",
      "3   12.5  10.5 -22.50\n",
      "4   12.5  10.5 -20.69\n",
      "5   12.5   6.5 -20.69\n",
      "6   12.5   2.5 -20.69\n",
      "7   12.5   2.5 -22.20\n",
      "8   12.5  10.5 -22.20\n",
      "9   12.5  10.5 -20.69\n",
      "10  12.5   6.5 -20.69\n",
      "11  12.5   2.5 -20.69\n",
      "12  12.5   2.5 -20.00\n",
      "13  12.5   2.5 -17.50\n",
      "14  12.5  10.5 -17.50\n",
      "15  12.5  10.5 -15.69\n",
      "16  12.5   6.5 -15.69\n",
      "17  12.5   2.5 -15.69\n",
      "18  12.5   2.5 -17.20\n",
      "19  12.5  10.5 -17.20\n",
      "20  12.5  10.5 -15.69\n",
      "21  12.5   6.5 -15.69\n",
      "22  12.5   2.5 -15.69\n",
      "23  12.5   2.5 -15.00\n",
      "24  12.5   2.5 -12.50\n",
      "25  12.5  10.5 -12.50\n",
      "26  12.5  10.5 -10.69\n",
      "27  12.5   6.5 -10.69\n",
      "28  12.5   2.5 -10.69\n",
      "29  12.5   2.5 -12.20\n",
      "30  12.5  10.5 -12.20\n",
      "31  12.5  10.5 -10.69\n",
      "32  12.5   6.5 -10.69\n",
      "33  12.5   2.5 -10.69\n",
      "34  12.5   2.5 -10.00\n",
      "35  12.5   2.5  -7.50\n",
      "36  12.5  10.5  -7.50\n",
      "37  12.5  10.5  -5.69\n",
      "38  12.5   6.5  -5.69\n",
      "39  12.5   2.5  -5.69\n",
      "40  12.5   2.5  -7.20\n",
      "41  12.5  10.5  -7.20\n",
      "42  12.5  10.5  -5.69\n",
      "43  12.5   6.5  -5.69\n",
      "44  12.5   2.5  -5.69\n",
      "45  12.5   2.5  10.00       xt    yt     zt\n",
      "0   12.5   2.5  10.00\n",
      "1   12.5   2.5 -25.00\n",
      "2   12.5   2.5 -22.50\n",
      "3   12.5  12.5 -22.50\n",
      "4   12.5  12.5 -20.69\n",
      "5   12.5   7.5 -20.69\n",
      "6   12.5   2.5 -20.69\n",
      "7   12.5   2.5 -22.20\n",
      "8   12.5  12.5 -22.20\n",
      "9   12.5  12.5 -20.69\n",
      "10  12.5   7.5 -20.69\n",
      "11  12.5   2.5 -20.69\n",
      "12  12.5   2.5 -20.00\n",
      "13  12.5   2.5 -17.50\n",
      "14  12.5  12.5 -17.50\n",
      "15  12.5  12.5 -15.69\n",
      "16  12.5   7.5 -15.69\n",
      "17  12.5   2.5 -15.69\n",
      "18  12.5   2.5 -17.20\n",
      "19  12.5  12.5 -17.20\n",
      "20  12.5  12.5 -15.69\n",
      "21  12.5   7.5 -15.69\n",
      "22  12.5   2.5 -15.69\n",
      "23  12.5   2.5 -15.00\n",
      "24  12.5   2.5 -12.50\n",
      "25  12.5  12.5 -12.50\n",
      "26  12.5  12.5 -10.69\n",
      "27  12.5   7.5 -10.69\n",
      "28  12.5   2.5 -10.69\n",
      "29  12.5   2.5 -12.20\n",
      "30  12.5  12.5 -12.20\n",
      "31  12.5  12.5 -10.69\n",
      "32  12.5   7.5 -10.69\n",
      "33  12.5   2.5 -10.69\n",
      "34  12.5   2.5 -10.00\n",
      "35  12.5   2.5  -7.50\n",
      "36  12.5  12.5  -7.50\n",
      "37  12.5  12.5  -5.69\n",
      "38  12.5   7.5  -5.69\n",
      "39  12.5   2.5  -5.69\n",
      "40  12.5   2.5  -7.20\n",
      "41  12.5  12.5  -7.20\n",
      "42  12.5  12.5  -5.69\n",
      "43  12.5   7.5  -5.69\n",
      "44  12.5   2.5  -5.69\n",
      "45  12.5   2.5  10.00\n"
     ]
    },
    {
     "ename": "KeyError",
     "evalue": "46",
     "output_type": "error",
     "traceback": [
      "\u001b[1;31m---------------------------------------------------------------------------\u001b[0m",
      "\u001b[1;31mValueError\u001b[0m                                Traceback (most recent call last)",
      "\u001b[1;32m~\\Miniconda3\\lib\\site-packages\\pandas\\core\\indexes\\range.py\u001b[0m in \u001b[0;36mget_loc\u001b[1;34m(self, key, method, tolerance)\u001b[0m\n\u001b[0;32m    350\u001b[0m                 \u001b[1;32mtry\u001b[0m\u001b[1;33m:\u001b[0m\u001b[1;33m\u001b[0m\u001b[1;33m\u001b[0m\u001b[0m\n\u001b[1;32m--> 351\u001b[1;33m                     \u001b[1;32mreturn\u001b[0m \u001b[0mself\u001b[0m\u001b[1;33m.\u001b[0m\u001b[0m_range\u001b[0m\u001b[1;33m.\u001b[0m\u001b[0mindex\u001b[0m\u001b[1;33m(\u001b[0m\u001b[0mnew_key\u001b[0m\u001b[1;33m)\u001b[0m\u001b[1;33m\u001b[0m\u001b[1;33m\u001b[0m\u001b[0m\n\u001b[0m\u001b[0;32m    352\u001b[0m                 \u001b[1;32mexcept\u001b[0m \u001b[0mValueError\u001b[0m \u001b[1;32mas\u001b[0m \u001b[0merr\u001b[0m\u001b[1;33m:\u001b[0m\u001b[1;33m\u001b[0m\u001b[1;33m\u001b[0m\u001b[0m\n",
      "\u001b[1;31mValueError\u001b[0m: 46 is not in range",
      "\nThe above exception was the direct cause of the following exception:\n",
      "\u001b[1;31mKeyError\u001b[0m                                  Traceback (most recent call last)",
      "\u001b[1;32m<ipython-input-156-7223b59f8bad>\u001b[0m in \u001b[0;36m<module>\u001b[1;34m\u001b[0m\n\u001b[1;32m----> 1\u001b[1;33m \u001b[0mvt\u001b[0m\u001b[1;33m.\u001b[0m\u001b[0mexportProgDims\u001b[0m\u001b[1;33m(\u001b[0m\u001b[0merrorList\u001b[0m\u001b[1;33m[\u001b[0m\u001b[1;36m0\u001b[0m\u001b[1;33m]\u001b[0m\u001b[1;33m,\u001b[0m \u001b[0moverwrite\u001b[0m\u001b[1;33m=\u001b[0m\u001b[1;32mTrue\u001b[0m\u001b[1;33m)\u001b[0m\u001b[1;33m\u001b[0m\u001b[1;33m\u001b[0m\u001b[0m\n\u001b[0m",
      "\u001b[1;32m~\\Documents\\GitHub\\embedded3DPvids\\py\\val_progDim.py\u001b[0m in \u001b[0;36mexportProgDims\u001b[1;34m(folder, overwrite)\u001b[0m\n\u001b[0;32m    776\u001b[0m     \u001b[1;32mtry\u001b[0m\u001b[1;33m:\u001b[0m\u001b[1;33m\u001b[0m\u001b[1;33m\u001b[0m\u001b[0m\n\u001b[0;32m    777\u001b[0m         \u001b[0mpdim\u001b[0m \u001b[1;33m=\u001b[0m \u001b[0mgetProgDims\u001b[0m\u001b[1;33m(\u001b[0m\u001b[0mfolder\u001b[0m\u001b[1;33m)\u001b[0m\u001b[1;33m\u001b[0m\u001b[1;33m\u001b[0m\u001b[0m\n\u001b[1;32m--> 778\u001b[1;33m         \u001b[0mpdim\u001b[0m\u001b[1;33m.\u001b[0m\u001b[0mexportAll\u001b[0m\u001b[1;33m(\u001b[0m\u001b[0moverwrite\u001b[0m\u001b[1;33m=\u001b[0m\u001b[0moverwrite\u001b[0m\u001b[1;33m)\u001b[0m\u001b[1;33m\u001b[0m\u001b[1;33m\u001b[0m\u001b[0m\n\u001b[0m\u001b[0;32m    779\u001b[0m     \u001b[1;32mexcept\u001b[0m \u001b[0mValueError\u001b[0m \u001b[1;32mas\u001b[0m \u001b[0me\u001b[0m\u001b[1;33m:\u001b[0m\u001b[1;33m\u001b[0m\u001b[1;33m\u001b[0m\u001b[0m\n\u001b[0;32m    780\u001b[0m         \u001b[0merrorList\u001b[0m\u001b[1;33m.\u001b[0m\u001b[0mappend\u001b[0m\u001b[1;33m(\u001b[0m\u001b[0mfolder\u001b[0m\u001b[1;33m)\u001b[0m\u001b[1;33m\u001b[0m\u001b[1;33m\u001b[0m\u001b[0m\n",
      "\u001b[1;32m~\\Documents\\GitHub\\embedded3DPvids\\py\\val_progDim.py\u001b[0m in \u001b[0;36mexportAll\u001b[1;34m(self, overwrite, diag)\u001b[0m\n\u001b[0;32m    423\u001b[0m         \u001b[1;34m'''export rewritten time, progPos, and progDims'''\u001b[0m\u001b[1;33m\u001b[0m\u001b[1;33m\u001b[0m\u001b[0m\n\u001b[0;32m    424\u001b[0m \u001b[1;33m\u001b[0m\u001b[0m\n\u001b[1;32m--> 425\u001b[1;33m         \u001b[0mself\u001b[0m\u001b[1;33m.\u001b[0m\u001b[0mexportTime\u001b[0m\u001b[1;33m(\u001b[0m\u001b[0moverwrite\u001b[0m\u001b[1;33m=\u001b[0m\u001b[0moverwrite\u001b[0m\u001b[1;33m,\u001b[0m \u001b[0mdiag\u001b[0m\u001b[1;33m=\u001b[0m\u001b[0mdiag\u001b[0m\u001b[1;33m)\u001b[0m\u001b[1;33m\u001b[0m\u001b[1;33m\u001b[0m\u001b[0m\n\u001b[0m\u001b[0;32m    426\u001b[0m         \u001b[0mself\u001b[0m\u001b[1;33m.\u001b[0m\u001b[0mexportProgPos\u001b[0m\u001b[1;33m(\u001b[0m\u001b[0moverwrite\u001b[0m\u001b[1;33m=\u001b[0m\u001b[0moverwrite\u001b[0m\u001b[1;33m,\u001b[0m\u001b[0mdiag\u001b[0m\u001b[1;33m=\u001b[0m\u001b[0mdiag\u001b[0m\u001b[1;33m)\u001b[0m\u001b[1;33m\u001b[0m\u001b[1;33m\u001b[0m\u001b[0m\n\u001b[0;32m    427\u001b[0m         \u001b[0mself\u001b[0m\u001b[1;33m.\u001b[0m\u001b[0mexportProgDims\u001b[0m\u001b[1;33m(\u001b[0m\u001b[0moverwrite\u001b[0m\u001b[1;33m=\u001b[0m\u001b[0moverwrite\u001b[0m\u001b[1;33m,\u001b[0m\u001b[0mdiag\u001b[0m\u001b[1;33m=\u001b[0m\u001b[0mdiag\u001b[0m\u001b[1;33m)\u001b[0m\u001b[1;33m\u001b[0m\u001b[1;33m\u001b[0m\u001b[0m\n",
      "\u001b[1;32m~\\Documents\\GitHub\\embedded3DPvids\\py\\val_progDim.py\u001b[0m in \u001b[0;36mexportTime\u001b[1;34m(self, overwrite, diag)\u001b[0m\n\u001b[0;32m    263\u001b[0m \u001b[1;33m\u001b[0m\u001b[0m\n\u001b[0;32m    264\u001b[0m         \u001b[1;32mif\u001b[0m \u001b[1;32mnot\u001b[0m \u001b[0mself\u001b[0m\u001b[1;33m.\u001b[0m\u001b[0mrewritten\u001b[0m\u001b[1;33m:\u001b[0m\u001b[1;33m\u001b[0m\u001b[1;33m\u001b[0m\u001b[0m\n\u001b[1;32m--> 265\u001b[1;33m             \u001b[0mself\u001b[0m\u001b[1;33m.\u001b[0m\u001b[0mrewriteTargets\u001b[0m\u001b[1;33m(\u001b[0m\u001b[0mdiag\u001b[0m\u001b[1;33m=\u001b[0m\u001b[0mdiag\u001b[0m\u001b[1;33m)\u001b[0m\u001b[1;33m\u001b[0m\u001b[1;33m\u001b[0m\u001b[0m\n\u001b[0m\u001b[0;32m    266\u001b[0m \u001b[1;33m\u001b[0m\u001b[0m\n\u001b[0;32m    267\u001b[0m         \u001b[0mftable2\u001b[0m \u001b[1;33m=\u001b[0m \u001b[0mself\u001b[0m\u001b[1;33m.\u001b[0m\u001b[0mftable\u001b[0m\u001b[1;33m.\u001b[0m\u001b[0mcopy\u001b[0m\u001b[1;33m(\u001b[0m\u001b[1;33m)\u001b[0m\u001b[1;33m\u001b[0m\u001b[1;33m\u001b[0m\u001b[0m\n",
      "\u001b[1;32m~\\Documents\\GitHub\\embedded3DPvids\\py\\val_progDim.py\u001b[0m in \u001b[0;36mrewriteTargets\u001b[1;34m(self, diag)\u001b[0m\n\u001b[0;32m    206\u001b[0m             \u001b[1;32mreturn\u001b[0m \u001b[1;36m1\u001b[0m\u001b[1;33m\u001b[0m\u001b[1;33m\u001b[0m\u001b[0m\n\u001b[0;32m    207\u001b[0m \u001b[1;33m\u001b[0m\u001b[0m\n\u001b[1;32m--> 208\u001b[1;33m         \u001b[0mself\u001b[0m\u001b[1;33m.\u001b[0m\u001b[0mgetTargetPoints\u001b[0m\u001b[1;33m(\u001b[0m\u001b[1;33m)\u001b[0m\u001b[1;33m\u001b[0m\u001b[1;33m\u001b[0m\u001b[0m\n\u001b[0m\u001b[0;32m    209\u001b[0m \u001b[1;33m\u001b[0m\u001b[0m\n\u001b[0;32m    210\u001b[0m         \u001b[0mspi\u001b[0m \u001b[1;33m=\u001b[0m \u001b[1;36m0\u001b[0m\u001b[1;33m\u001b[0m\u001b[1;33m\u001b[0m\u001b[0m\n",
      "\u001b[1;32m~\\Documents\\GitHub\\embedded3DPvids\\py\\val_progDim.py\u001b[0m in \u001b[0;36mgetTargetPoints\u001b[1;34m(self)\u001b[0m\n\u001b[0;32m    177\u001b[0m                 \u001b[0mtii\u001b[0m\u001b[1;33m+=\u001b[0m\u001b[1;36m1\u001b[0m\u001b[1;33m\u001b[0m\u001b[1;33m\u001b[0m\u001b[0m\n\u001b[0;32m    178\u001b[0m                 \u001b[0msii\u001b[0m\u001b[1;33m+=\u001b[0m\u001b[1;36m1\u001b[0m\u001b[1;33m\u001b[0m\u001b[1;33m\u001b[0m\u001b[0m\n\u001b[1;32m--> 179\u001b[1;33m                 \u001b[0mtp\u001b[0m\u001b[1;33m.\u001b[0m\u001b[0mappend\u001b[0m\u001b[1;33m(\u001b[0m\u001b[0mtimeT\u001b[0m\u001b[1;33m.\u001b[0m\u001b[0mloc\u001b[0m\u001b[1;33m[\u001b[0m\u001b[0mtii\u001b[0m\u001b[1;33m]\u001b[0m\u001b[1;33m)\u001b[0m\u001b[1;33m\u001b[0m\u001b[1;33m\u001b[0m\u001b[0m\n\u001b[0m\u001b[0;32m    180\u001b[0m                 \u001b[0msp\u001b[0m\u001b[1;33m.\u001b[0m\u001b[0mappend\u001b[0m\u001b[1;33m(\u001b[0m\u001b[0msT\u001b[0m\u001b[1;33m.\u001b[0m\u001b[0mloc\u001b[0m\u001b[1;33m[\u001b[0m\u001b[0msii\u001b[0m\u001b[1;33m]\u001b[0m\u001b[1;33m)\u001b[0m\u001b[1;33m\u001b[0m\u001b[1;33m\u001b[0m\u001b[0m\n\u001b[0;32m    181\u001b[0m             \u001b[1;32mif\u001b[0m \u001b[0mself\u001b[0m\u001b[1;33m.\u001b[0m\u001b[0msamePoint\u001b[0m\u001b[1;33m(\u001b[0m\u001b[0mtp\u001b[0m\u001b[1;33m[\u001b[0m\u001b[1;36m0\u001b[0m\u001b[1;33m]\u001b[0m\u001b[1;33m,\u001b[0m\u001b[0msp\u001b[0m\u001b[1;33m[\u001b[0m\u001b[1;33m-\u001b[0m\u001b[1;36m1\u001b[0m\u001b[1;33m]\u001b[0m\u001b[1;33m)\u001b[0m\u001b[1;33m:\u001b[0m\u001b[1;33m\u001b[0m\u001b[1;33m\u001b[0m\u001b[0m\n",
      "\u001b[1;32m~\\Miniconda3\\lib\\site-packages\\pandas\\core\\indexing.py\u001b[0m in \u001b[0;36m__getitem__\u001b[1;34m(self, key)\u001b[0m\n\u001b[0;32m    893\u001b[0m \u001b[1;33m\u001b[0m\u001b[0m\n\u001b[0;32m    894\u001b[0m             \u001b[0mmaybe_callable\u001b[0m \u001b[1;33m=\u001b[0m \u001b[0mcom\u001b[0m\u001b[1;33m.\u001b[0m\u001b[0mapply_if_callable\u001b[0m\u001b[1;33m(\u001b[0m\u001b[0mkey\u001b[0m\u001b[1;33m,\u001b[0m \u001b[0mself\u001b[0m\u001b[1;33m.\u001b[0m\u001b[0mobj\u001b[0m\u001b[1;33m)\u001b[0m\u001b[1;33m\u001b[0m\u001b[1;33m\u001b[0m\u001b[0m\n\u001b[1;32m--> 895\u001b[1;33m             \u001b[1;32mreturn\u001b[0m \u001b[0mself\u001b[0m\u001b[1;33m.\u001b[0m\u001b[0m_getitem_axis\u001b[0m\u001b[1;33m(\u001b[0m\u001b[0mmaybe_callable\u001b[0m\u001b[1;33m,\u001b[0m \u001b[0maxis\u001b[0m\u001b[1;33m=\u001b[0m\u001b[0maxis\u001b[0m\u001b[1;33m)\u001b[0m\u001b[1;33m\u001b[0m\u001b[1;33m\u001b[0m\u001b[0m\n\u001b[0m\u001b[0;32m    896\u001b[0m \u001b[1;33m\u001b[0m\u001b[0m\n\u001b[0;32m    897\u001b[0m     \u001b[1;32mdef\u001b[0m \u001b[0m_is_scalar_access\u001b[0m\u001b[1;33m(\u001b[0m\u001b[0mself\u001b[0m\u001b[1;33m,\u001b[0m \u001b[0mkey\u001b[0m\u001b[1;33m:\u001b[0m \u001b[0mTuple\u001b[0m\u001b[1;33m)\u001b[0m\u001b[1;33m:\u001b[0m\u001b[1;33m\u001b[0m\u001b[1;33m\u001b[0m\u001b[0m\n",
      "\u001b[1;32m~\\Miniconda3\\lib\\site-packages\\pandas\\core\\indexing.py\u001b[0m in \u001b[0;36m_getitem_axis\u001b[1;34m(self, key, axis)\u001b[0m\n\u001b[0;32m   1122\u001b[0m         \u001b[1;31m# fall thru to straight lookup\u001b[0m\u001b[1;33m\u001b[0m\u001b[1;33m\u001b[0m\u001b[1;33m\u001b[0m\u001b[0m\n\u001b[0;32m   1123\u001b[0m         \u001b[0mself\u001b[0m\u001b[1;33m.\u001b[0m\u001b[0m_validate_key\u001b[0m\u001b[1;33m(\u001b[0m\u001b[0mkey\u001b[0m\u001b[1;33m,\u001b[0m \u001b[0maxis\u001b[0m\u001b[1;33m)\u001b[0m\u001b[1;33m\u001b[0m\u001b[1;33m\u001b[0m\u001b[0m\n\u001b[1;32m-> 1124\u001b[1;33m         \u001b[1;32mreturn\u001b[0m \u001b[0mself\u001b[0m\u001b[1;33m.\u001b[0m\u001b[0m_get_label\u001b[0m\u001b[1;33m(\u001b[0m\u001b[0mkey\u001b[0m\u001b[1;33m,\u001b[0m \u001b[0maxis\u001b[0m\u001b[1;33m=\u001b[0m\u001b[0maxis\u001b[0m\u001b[1;33m)\u001b[0m\u001b[1;33m\u001b[0m\u001b[1;33m\u001b[0m\u001b[0m\n\u001b[0m\u001b[0;32m   1125\u001b[0m \u001b[1;33m\u001b[0m\u001b[0m\n\u001b[0;32m   1126\u001b[0m     \u001b[1;32mdef\u001b[0m \u001b[0m_get_slice_axis\u001b[0m\u001b[1;33m(\u001b[0m\u001b[0mself\u001b[0m\u001b[1;33m,\u001b[0m \u001b[0mslice_obj\u001b[0m\u001b[1;33m:\u001b[0m \u001b[0mslice\u001b[0m\u001b[1;33m,\u001b[0m \u001b[0maxis\u001b[0m\u001b[1;33m:\u001b[0m \u001b[0mint\u001b[0m\u001b[1;33m)\u001b[0m\u001b[1;33m:\u001b[0m\u001b[1;33m\u001b[0m\u001b[1;33m\u001b[0m\u001b[0m\n",
      "\u001b[1;32m~\\Miniconda3\\lib\\site-packages\\pandas\\core\\indexing.py\u001b[0m in \u001b[0;36m_get_label\u001b[1;34m(self, label, axis)\u001b[0m\n\u001b[0;32m   1071\u001b[0m     \u001b[1;32mdef\u001b[0m \u001b[0m_get_label\u001b[0m\u001b[1;33m(\u001b[0m\u001b[0mself\u001b[0m\u001b[1;33m,\u001b[0m \u001b[0mlabel\u001b[0m\u001b[1;33m,\u001b[0m \u001b[0maxis\u001b[0m\u001b[1;33m:\u001b[0m \u001b[0mint\u001b[0m\u001b[1;33m)\u001b[0m\u001b[1;33m:\u001b[0m\u001b[1;33m\u001b[0m\u001b[1;33m\u001b[0m\u001b[0m\n\u001b[0;32m   1072\u001b[0m         \u001b[1;31m# GH#5667 this will fail if the label is not present in the axis.\u001b[0m\u001b[1;33m\u001b[0m\u001b[1;33m\u001b[0m\u001b[1;33m\u001b[0m\u001b[0m\n\u001b[1;32m-> 1073\u001b[1;33m         \u001b[1;32mreturn\u001b[0m \u001b[0mself\u001b[0m\u001b[1;33m.\u001b[0m\u001b[0mobj\u001b[0m\u001b[1;33m.\u001b[0m\u001b[0mxs\u001b[0m\u001b[1;33m(\u001b[0m\u001b[0mlabel\u001b[0m\u001b[1;33m,\u001b[0m \u001b[0maxis\u001b[0m\u001b[1;33m=\u001b[0m\u001b[0maxis\u001b[0m\u001b[1;33m)\u001b[0m\u001b[1;33m\u001b[0m\u001b[1;33m\u001b[0m\u001b[0m\n\u001b[0m\u001b[0;32m   1074\u001b[0m \u001b[1;33m\u001b[0m\u001b[0m\n\u001b[0;32m   1075\u001b[0m     \u001b[1;32mdef\u001b[0m \u001b[0m_handle_lowerdim_multi_index_axis0\u001b[0m\u001b[1;33m(\u001b[0m\u001b[0mself\u001b[0m\u001b[1;33m,\u001b[0m \u001b[0mtup\u001b[0m\u001b[1;33m:\u001b[0m \u001b[0mTuple\u001b[0m\u001b[1;33m)\u001b[0m\u001b[1;33m:\u001b[0m\u001b[1;33m\u001b[0m\u001b[1;33m\u001b[0m\u001b[0m\n",
      "\u001b[1;32m~\\Miniconda3\\lib\\site-packages\\pandas\\core\\generic.py\u001b[0m in \u001b[0;36mxs\u001b[1;34m(self, key, axis, level, drop_level)\u001b[0m\n\u001b[0;32m   3737\u001b[0m                 \u001b[1;32mraise\u001b[0m \u001b[0mTypeError\u001b[0m\u001b[1;33m(\u001b[0m\u001b[1;34mf\"Expected label or tuple of labels, got {key}\"\u001b[0m\u001b[1;33m)\u001b[0m \u001b[1;32mfrom\u001b[0m \u001b[0me\u001b[0m\u001b[1;33m\u001b[0m\u001b[1;33m\u001b[0m\u001b[0m\n\u001b[0;32m   3738\u001b[0m         \u001b[1;32melse\u001b[0m\u001b[1;33m:\u001b[0m\u001b[1;33m\u001b[0m\u001b[1;33m\u001b[0m\u001b[0m\n\u001b[1;32m-> 3739\u001b[1;33m             \u001b[0mloc\u001b[0m \u001b[1;33m=\u001b[0m \u001b[0mindex\u001b[0m\u001b[1;33m.\u001b[0m\u001b[0mget_loc\u001b[0m\u001b[1;33m(\u001b[0m\u001b[0mkey\u001b[0m\u001b[1;33m)\u001b[0m\u001b[1;33m\u001b[0m\u001b[1;33m\u001b[0m\u001b[0m\n\u001b[0m\u001b[0;32m   3740\u001b[0m \u001b[1;33m\u001b[0m\u001b[0m\n\u001b[0;32m   3741\u001b[0m             \u001b[1;32mif\u001b[0m \u001b[0misinstance\u001b[0m\u001b[1;33m(\u001b[0m\u001b[0mloc\u001b[0m\u001b[1;33m,\u001b[0m \u001b[0mnp\u001b[0m\u001b[1;33m.\u001b[0m\u001b[0mndarray\u001b[0m\u001b[1;33m)\u001b[0m\u001b[1;33m:\u001b[0m\u001b[1;33m\u001b[0m\u001b[1;33m\u001b[0m\u001b[0m\n",
      "\u001b[1;32m~\\Miniconda3\\lib\\site-packages\\pandas\\core\\indexes\\range.py\u001b[0m in \u001b[0;36mget_loc\u001b[1;34m(self, key, method, tolerance)\u001b[0m\n\u001b[0;32m    351\u001b[0m                     \u001b[1;32mreturn\u001b[0m \u001b[0mself\u001b[0m\u001b[1;33m.\u001b[0m\u001b[0m_range\u001b[0m\u001b[1;33m.\u001b[0m\u001b[0mindex\u001b[0m\u001b[1;33m(\u001b[0m\u001b[0mnew_key\u001b[0m\u001b[1;33m)\u001b[0m\u001b[1;33m\u001b[0m\u001b[1;33m\u001b[0m\u001b[0m\n\u001b[0;32m    352\u001b[0m                 \u001b[1;32mexcept\u001b[0m \u001b[0mValueError\u001b[0m \u001b[1;32mas\u001b[0m \u001b[0merr\u001b[0m\u001b[1;33m:\u001b[0m\u001b[1;33m\u001b[0m\u001b[1;33m\u001b[0m\u001b[0m\n\u001b[1;32m--> 353\u001b[1;33m                     \u001b[1;32mraise\u001b[0m \u001b[0mKeyError\u001b[0m\u001b[1;33m(\u001b[0m\u001b[0mkey\u001b[0m\u001b[1;33m)\u001b[0m \u001b[1;32mfrom\u001b[0m \u001b[0merr\u001b[0m\u001b[1;33m\u001b[0m\u001b[1;33m\u001b[0m\u001b[0m\n\u001b[0m\u001b[0;32m    354\u001b[0m             \u001b[1;32mraise\u001b[0m \u001b[0mKeyError\u001b[0m\u001b[1;33m(\u001b[0m\u001b[0mkey\u001b[0m\u001b[1;33m)\u001b[0m\u001b[1;33m\u001b[0m\u001b[1;33m\u001b[0m\u001b[0m\n\u001b[0;32m    355\u001b[0m         \u001b[1;32mreturn\u001b[0m \u001b[0msuper\u001b[0m\u001b[1;33m(\u001b[0m\u001b[1;33m)\u001b[0m\u001b[1;33m.\u001b[0m\u001b[0mget_loc\u001b[0m\u001b[1;33m(\u001b[0m\u001b[0mkey\u001b[0m\u001b[1;33m,\u001b[0m \u001b[0mmethod\u001b[0m\u001b[1;33m=\u001b[0m\u001b[0mmethod\u001b[0m\u001b[1;33m,\u001b[0m \u001b[0mtolerance\u001b[0m\u001b[1;33m=\u001b[0m\u001b[0mtolerance\u001b[0m\u001b[1;33m)\u001b[0m\u001b[1;33m\u001b[0m\u001b[1;33m\u001b[0m\u001b[0m\n",
      "\u001b[1;31mKeyError\u001b[0m: 46"
     ]
    }
   ],
   "source": [
    "vt.exportProgDims(errorList[0], overwrite=True)"
   ]
  },
  {
   "cell_type": "code",
   "execution_count": 279,
   "id": "92f89523",
   "metadata": {},
   "outputs": [
    {
     "name": "stdout",
     "output_type": "stream",
     "text": [
      "HOh\n"
     ]
    }
   ],
   "source": [
    "pdim = vt.getProgDims(folder)\n",
    "pdim.initializeProgDims()"
   ]
  },
  {
   "cell_type": "code",
   "execution_count": null,
   "id": "e147fd00",
   "metadata": {},
   "outputs": [],
   "source": []
  }
 ],
 "metadata": {
  "kernelspec": {
   "display_name": "Python 3",
   "language": "python",
   "name": "python3"
  },
  "language_info": {
   "codemirror_mode": {
    "name": "ipython",
    "version": 3
   },
   "file_extension": ".py",
   "mimetype": "text/x-python",
   "name": "python",
   "nbconvert_exporter": "python",
   "pygments_lexer": "ipython3",
   "version": "3.8.3"
  }
 },
 "nbformat": 4,
 "nbformat_minor": 5
}
