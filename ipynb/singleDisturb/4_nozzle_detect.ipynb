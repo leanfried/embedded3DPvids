{
 "cells": [
  {
   "cell_type": "markdown",
   "id": "48df5d4c",
   "metadata": {},
   "source": [
    "# Detecting nozzle positions"
   ]
  },
  {
   "cell_type": "markdown",
   "id": "bca3c5f5",
   "metadata": {},
   "source": [
    "## Initialization"
   ]
  },
  {
   "cell_type": "code",
   "execution_count": null,
   "id": "f52ff2fc",
   "metadata": {},
   "outputs": [],
   "source": [
    "%load_ext autoreload\n",
    "%autoreload 2\n",
    "LOGGERDEFINED = False"
   ]
  },
  {
   "cell_type": "code",
   "execution_count": null,
   "id": "1560828e",
   "metadata": {},
   "outputs": [],
   "source": [
    "# global packages\n",
    "import os\n",
    "import sys\n",
    "import numpy as np\n",
    "import matplotlib.pyplot as plt\n",
    "import pandas as pd\n",
    "\n",
    "# local packages\n",
    "module_path = os.path.abspath(os.path.join('..'))\n",
    "sys.path.append(module_path)\n",
    "sys.path.append(os.path.dirname(module_path))\n",
    "from py.tools.config import cfg\n",
    "import py.tools.logs as logs\n",
    "from py.tools.imshow import imshow\n",
    "import py.vid_noz_detect as nt\n",
    "import py.file_handling as fh\n",
    "import py.im_morph as vm\n",
    "\n",
    "# logging\n",
    "LOGGERDEFINED = logs.openLog('nozzle_detect.ipynb', LOGGERDEFINED, level='DEBUG', exportLog=False)"
   ]
  },
  {
   "cell_type": "markdown",
   "id": "1e0cb6b1",
   "metadata": {},
   "source": [
    "# detect all nozzles"
   ]
  },
  {
   "cell_type": "code",
   "execution_count": null,
   "id": "891e22d7",
   "metadata": {},
   "outputs": [],
   "source": [
    "im = nd.vd.getFrameAtTime(25)\n",
    "imshow(im[:,:,0], im[:,:,1], im[:,:,2])"
   ]
  },
  {
   "cell_type": "code",
   "execution_count": null,
   "id": "4f8a9c45",
   "metadata": {},
   "outputs": [],
   "source": [
    "badPics = pd.read_excel(os.path.join(cfg.path.fig, r'singleDisturb\\badBackground.xlsx'))"
   ]
  },
  {
   "cell_type": "code",
   "execution_count": null,
   "id": "533c8d51",
   "metadata": {},
   "outputs": [],
   "source": [
    "len(badPics)"
   ]
  },
  {
   "cell_type": "code",
   "execution_count": null,
   "id": "adb228b7",
   "metadata": {},
   "outputs": [],
   "source": [
    "for f in [badPics.loc[11, 'folder']]:\n",
    "    nd = nt.nozData(f)\n",
    "    nd.exportBackground(overwrite=True, diag=2)"
   ]
  },
  {
   "cell_type": "code",
   "execution_count": null,
   "id": "aced3112",
   "metadata": {},
   "outputs": [],
   "source": [
    "fh.openExplorer(f)"
   ]
  },
  {
   "cell_type": "code",
   "execution_count": null,
   "id": "df991058",
   "metadata": {
    "tags": []
   },
   "outputs": [],
   "source": [
    "errorList = nt.exportNozDims(os.path.join(cfg.path.server, r'singleDisturb'))"
   ]
  },
  {
   "cell_type": "code",
   "execution_count": null,
   "id": "b5a9c6d5",
   "metadata": {},
   "outputs": [],
   "source": [
    "errorList"
   ]
  },
  {
   "cell_type": "markdown",
   "id": "4e67ea95",
   "metadata": {},
   "source": [
    "# detect one nozzle"
   ]
  },
  {
   "cell_type": "code",
   "execution_count": null,
   "id": "397f242d",
   "metadata": {},
   "outputs": [],
   "source": [
    "fh.openExplorer(folder)"
   ]
  },
  {
   "cell_type": "code",
   "execution_count": null,
   "id": "1bc7d91b",
   "metadata": {},
   "outputs": [],
   "source": [
    "folder = os.path.join(cfg.path.server, r'singleDisturb\\\\mineral_LapRD_visc\\\\I_M8_S_4.00\\\\I_M8_S_4.00_220930\\\\disturbXS_+y_0.875')\n",
    "nv = nt.nozData(folder)\n",
    "nv.detectNozzle(diag=2)\n",
    "nv.nozDims()"
   ]
  },
  {
   "cell_type": "code",
   "execution_count": null,
   "id": "cad32e40",
   "metadata": {
    "tags": []
   },
   "outputs": [],
   "source": [
    "folder = os.path.join(cfg.path.server, r'singleLines\\LapRD LapRD 1day\\I_2.50_S_2.75\\I_2.50_S_2.75_210727')\n",
    "fh.printFileDict(folder).printAll()"
   ]
  },
  {
   "cell_type": "code",
   "execution_count": null,
   "id": "3e25a07e",
   "metadata": {},
   "outputs": [],
   "source": []
  },
  {
   "cell_type": "code",
   "execution_count": null,
   "id": "9ac3a539",
   "metadata": {},
   "outputs": [],
   "source": [
    "folder = os.path.join(cfg.path.server, r'singleLines\\LapRD LapRD 1day\\I_2.50_S_2.75\\I_2.50_S_2.75_210727')\n",
    "nv = nt.nozData(folder)\n",
    "# nv.detectNozzle(diag=1)\n",
    "# nv.nozDims()\n",
    "nv.exportBackground()"
   ]
  },
  {
   "cell_type": "code",
   "execution_count": null,
   "id": "453a5366",
   "metadata": {},
   "outputs": [],
   "source": [
    "run ../../tests/test_nozDetect"
   ]
  },
  {
   "cell_type": "code",
   "execution_count": null,
   "id": "ccc5b210",
   "metadata": {},
   "outputs": [],
   "source": []
  }
 ],
 "metadata": {
  "kernelspec": {
   "display_name": "Python 3 (ipykernel)",
   "language": "python",
   "name": "python3"
  },
  "language_info": {
   "codemirror_mode": {
    "name": "ipython",
    "version": 3
   },
   "file_extension": ".py",
   "mimetype": "text/x-python",
   "name": "python",
   "nbconvert_exporter": "python",
   "pygments_lexer": "ipython3",
   "version": "3.8.18"
  }
 },
 "nbformat": 4,
 "nbformat_minor": 5
}
