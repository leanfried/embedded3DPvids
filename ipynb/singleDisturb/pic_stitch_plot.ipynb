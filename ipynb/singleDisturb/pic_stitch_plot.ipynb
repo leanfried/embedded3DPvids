{
 "cells": [
  {
   "cell_type": "markdown",
   "id": "c123a77f",
   "metadata": {},
   "source": [
    "# Plotting data from videos\n",
    "Leanne Friedrich 5/22/21"
   ]
  },
  {
   "cell_type": "markdown",
   "id": "0939ea6d",
   "metadata": {},
   "source": [
    "## initialization"
   ]
  },
  {
   "cell_type": "code",
   "execution_count": 1,
   "id": "40375373",
   "metadata": {
    "tags": []
   },
   "outputs": [],
   "source": [
    "%load_ext autoreload\n",
    "%autoreload 2\n",
    "LOGGERDEFINED = False"
   ]
  },
  {
   "cell_type": "code",
   "execution_count": 2,
   "id": "71f71e40",
   "metadata": {
    "tags": []
   },
   "outputs": [],
   "source": [
    "import os\n",
    "import sys\n",
    "sys.path.append(\"../\")\n",
    "sys.path.append(\"../../\")\n",
    "import py.file_handling as fh\n",
    "from py.tools.config import cfg\n",
    "import py.tools.logs as logs\n",
    "from py.pic_plots_disturb import *\n",
    "import pandas as pd\n",
    "LOGGERDEFINED = logs.openLog('pic_stitch_plot.ipynb', LOGGERDEFINED, level='DEBUG', exportLog=False)\n",
    "IMFOLDER = os.path.join(cfg.path.fig, 'singleDisturb', 'images')"
   ]
  },
  {
   "cell_type": "markdown",
   "id": "3546fc55",
   "metadata": {},
   "source": [
    "## plot images"
   ]
  },
  {
   "cell_type": "markdown",
   "id": "abecf23e",
   "metadata": {},
   "source": [
    "#### LapRD LapRD"
   ]
  },
  {
   "cell_type": "code",
   "execution_count": 3,
   "id": "d01650a1",
   "metadata": {
    "tags": []
   },
   "outputs": [],
   "source": [
    "mp1 = multiPlots(os.path.join(cfg.path.server,'singleDisturb', 'LapRD_LapRD_visc'), IMFOLDER,\n",
    "        ['220928'])"
   ]
  },
  {
   "cell_type": "code",
   "execution_count": 4,
   "id": "f413d523",
   "metadata": {
    "tags": []
   },
   "outputs": [
    {
     "name": "stdout",
     "output_type": "stream",
     "text": [
      "INFO: Exported C:/Users/lmf1/OneDriveNIST/NIST/data/shopbot/results\\singleDisturb\\images\\HIx\\LapRD_LapRD_visc\\l1wol1do_LapRD_LapRD_visc_dates_220928_xvar_ink.var_yvar_sup.var_concat_h_spacing_0.875\n",
      "INFO: Exported C:/Users/lmf1/OneDriveNIST/NIST/data/shopbot/results\\singleDisturb\\images\\HIx\\LapRD_LapRD_visc\\l1wol1do_LapRD_LapRD_visc_dates_220928_xvar_self.spacing_yvar_sup.var_concat_h_ink_3.00_I_3.00\n",
      "INFO: Exported C:/Users/lmf1/OneDriveNIST/NIST/data/shopbot/results\\singleDisturb\\images\\HOx\\LapRD_LapRD_visc\\l1wol1do_LapRD_LapRD_visc_dates_220928_xvar_ink.var_yvar_sup.var_concat_h_spacing_0.875\n",
      "INFO: Exported C:/Users/lmf1/OneDriveNIST/NIST/data/shopbot/results\\singleDisturb\\images\\HOx\\LapRD_LapRD_visc\\l1wol1do_LapRD_LapRD_visc_dates_220928_xvar_self.spacing_yvar_sup.var_concat_h_ink_3.00_I_3.00\n",
      "INFO: Exported C:/Users/lmf1/OneDriveNIST/NIST/data/shopbot/results\\singleDisturb\\images\\HOh\\LapRD_LapRD_visc\\l1wol1do_LapRD_LapRD_visc_dates_220928_xvar_ink.var_yvar_sup.var_concat_v_spacing_0.875\n",
      "INFO: Exported C:/Users/lmf1/OneDriveNIST/NIST/data/shopbot/results\\singleDisturb\\images\\HOh\\LapRD_LapRD_visc\\l1wol1do_LapRD_LapRD_visc_dates_220928_xvar_self.spacing_yvar_sup.var_concat_v_ink_3.00_I_3.00\n",
      "INFO: Exported C:/Users/lmf1/OneDriveNIST/NIST/data/shopbot/results\\singleDisturb\\images\\V\\LapRD_LapRD_visc\\l1wol1do_LapRD_LapRD_visc_dates_220928_xvar_ink.var_yvar_sup.var_concat_h_spacing_0.875\n",
      "INFO: Exported C:/Users/lmf1/OneDriveNIST/NIST/data/shopbot/results\\singleDisturb\\images\\V\\LapRD_LapRD_visc\\l1wol1do_LapRD_LapRD_visc_dates_220928_xvar_self.spacing_yvar_sup.var_concat_h_ink_3.00_I_3.00\n"
     ]
    }
   ],
   "source": [
    "mp1.keyPlots(overwrite=True, export=True)"
   ]
  },
  {
   "cell_type": "markdown",
   "id": "ab700d6e",
   "metadata": {},
   "source": [
    "#### Mineral LapRD"
   ]
  },
  {
   "cell_type": "code",
   "execution_count": 7,
   "id": "eb04fb3e",
   "metadata": {
    "tags": []
   },
   "outputs": [],
   "source": [
    "mp2 = multiPlots(os.path.join(cfg.path.server,'singleDisturb', 'mineral_LapRD_visc'), IMFOLDER,\n",
    "        ['220930'])"
   ]
  },
  {
   "cell_type": "code",
   "execution_count": 8,
   "id": "55f1efe8",
   "metadata": {},
   "outputs": [
    {
     "name": "stdout",
     "output_type": "stream",
     "text": [
      "INFO: Exported C:/Users/lmf1/OneDriveNIST/NIST/data/shopbot/results\\singleDisturb\\images\\HIx\\mineral_LapRD_visc\\l1wol1do_mineral_LapRD_visc_dates_220930_xvar_ink.var_yvar_sup.var_concat_h_spacing_0.875\n",
      "INFO: Exported C:/Users/lmf1/OneDriveNIST/NIST/data/shopbot/results\\singleDisturb\\images\\HIx\\mineral_LapRD_visc\\l1wol1do_mineral_LapRD_visc_dates_220930_xvar_self.spacing_yvar_sup.var_concat_h_ink_M9_I_M9\n",
      "INFO: Exported C:/Users/lmf1/OneDriveNIST/NIST/data/shopbot/results\\singleDisturb\\images\\HOx\\mineral_LapRD_visc\\l1wol1do_mineral_LapRD_visc_dates_220930_xvar_ink.var_yvar_sup.var_concat_h_spacing_0.875\n",
      "INFO: Exported C:/Users/lmf1/OneDriveNIST/NIST/data/shopbot/results\\singleDisturb\\images\\HOx\\mineral_LapRD_visc\\l1wol1do_mineral_LapRD_visc_dates_220930_xvar_self.spacing_yvar_sup.var_concat_h_ink_M9_I_M9\n",
      "DEBUG: No folders to plot: ['220930']\n",
      "INFO: Exported C:/Users/lmf1/OneDriveNIST/NIST/data/shopbot/results\\singleDisturb\\images\\HOh\\mineral_LapRD_visc\\l1wol1do_mineral_LapRD_visc_dates_220930_xvar_self.spacing_yvar_sup.var_concat_v_ink_M9_I_M9\n",
      "INFO: Exported C:/Users/lmf1/OneDriveNIST/NIST/data/shopbot/results\\singleDisturb\\images\\V\\mineral_LapRD_visc\\l1wol1do_mineral_LapRD_visc_dates_220930_xvar_ink.var_yvar_sup.var_concat_h_spacing_0.875\n",
      "INFO: Exported C:/Users/lmf1/OneDriveNIST/NIST/data/shopbot/results\\singleDisturb\\images\\V\\mineral_LapRD_visc\\l1wol1do_mineral_LapRD_visc_dates_220930_xvar_self.spacing_yvar_sup.var_concat_h_ink_M9_I_M9\n"
     ]
    }
   ],
   "source": [
    "mp2.keyPlots()"
   ]
  },
  {
   "cell_type": "code",
   "execution_count": null,
   "id": "84312849",
   "metadata": {},
   "outputs": [],
   "source": []
  }
 ],
 "metadata": {
  "kernelspec": {
   "display_name": "Python 3",
   "language": "python",
   "name": "python3"
  },
  "language_info": {
   "codemirror_mode": {
    "name": "ipython",
    "version": 3
   },
   "file_extension": ".py",
   "mimetype": "text/x-python",
   "name": "python",
   "nbconvert_exporter": "python",
   "pygments_lexer": "ipython3",
   "version": "3.8.3"
  }
 },
 "nbformat": 4,
 "nbformat_minor": 5
}
