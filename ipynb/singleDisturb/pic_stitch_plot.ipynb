{
 "cells": [
  {
   "cell_type": "markdown",
   "id": "fb44f522",
   "metadata": {},
   "source": [
    "# Plotting data from videos\n",
    "Leanne Friedrich 5/22/21"
   ]
  },
  {
   "cell_type": "markdown",
   "id": "e71b489b",
   "metadata": {},
   "source": [
    "## initialization"
   ]
  },
  {
   "cell_type": "code",
   "execution_count": 1,
   "id": "a5be4405",
   "metadata": {
    "tags": []
   },
   "outputs": [],
   "source": [
    "%load_ext autoreload\n",
    "%autoreload 2\n",
    "LOGGERDEFINED = False"
   ]
  },
  {
   "cell_type": "code",
   "execution_count": 2,
   "id": "aa219334",
   "metadata": {
    "tags": []
   },
   "outputs": [],
   "source": [
    "import os\n",
    "import sys\n",
    "sys.path.append(\"../\")\n",
    "sys.path.append(\"../../\")\n",
    "import py.file_handling as fh\n",
    "from py.tools.config import cfg\n",
    "import py.tools.logs as logs\n",
    "from py.pic_plots_disturb import *\n",
    "import pandas as pd\n",
    "LOGGERDEFINED = logs.openLog('pic_stitch_plot.ipynb', LOGGERDEFINED, level='DEBUG', exportLog=False)\n",
    "IMFOLDER = os.path.join(cfg.path.fig, 'singleDisturb', 'images')"
   ]
  },
  {
   "cell_type": "markdown",
   "id": "636f257a",
   "metadata": {},
   "source": [
    "## plot images"
   ]
  },
  {
   "cell_type": "markdown",
   "id": "7dbaf242",
   "metadata": {},
   "source": [
    "#### LapRD LapRD"
   ]
  },
  {
   "cell_type": "code",
   "execution_count": 3,
   "id": "5cb4b3ef",
   "metadata": {
    "tags": []
   },
   "outputs": [],
   "source": [
    "mp1 = multiPlots(os.path.join(cfg.path.server,'singleDisturb', 'LapRD_LapRD_visc'), IMFOLDER,\n",
    "        ['220928'])"
   ]
  },
  {
   "cell_type": "code",
   "execution_count": 26,
   "id": "5dea01d6",
   "metadata": {
    "tags": []
   },
   "outputs": [
    {
     "name": "stdout",
     "output_type": "stream",
     "text": [
      "INFO: Exported C:/Users/lmf1/OneDriveNIST/NIST/data/shopbot/results\\singleDisturb\\images\\V\\LapRD_LapRD_visc\\l2wl2d_LapRD_LapRD_visc_dates_220928_xvar_ink.var_yvar_sup.var_concat_h_spacing_0.875\n",
      "INFO: Exported C:/Users/lmf1/OneDriveNIST/NIST/data/shopbot/results\\singleDisturb\\images\\V\\LapRD_LapRD_visc\\l2wl2d_LapRD_LapRD_visc_dates_220928_xvar_self.spacing_yvar_sup.var_concat_h_ink_3.00_I_3.00\n"
     ]
    }
   ],
   "source": [
    "mp1.keyPlots(overwrite=False, export=True)"
   ]
  },
  {
   "cell_type": "markdown",
   "id": "ac41d6c5",
   "metadata": {},
   "source": [
    "#### Mineral LapRD"
   ]
  },
  {
   "cell_type": "code",
   "execution_count": 5,
   "id": "7c50f724",
   "metadata": {
    "tags": []
   },
   "outputs": [],
   "source": [
    "mp2 = multiPlots(os.path.join(cfg.path.server,'singleDisturb', 'mineral_LapRD_visc'), IMFOLDER, ['220930'])"
   ]
  },
  {
   "cell_type": "code",
   "execution_count": 31,
   "id": "66287b4e",
   "metadata": {},
   "outputs": [
    {
     "name": "stdout",
     "output_type": "stream",
     "text": [
      "INFO: Exported C:/Users/lmf1/OneDriveNIST/NIST/data/shopbot/results\\singleDisturb\\images\\HOh\\mineral_LapRD_visc\\l2wol2do_mineral_LapRD_visc_dates_220930_xvar_ink.var_yvar_sup.var_concat_v_spacing_0.875\n"
     ]
    }
   ],
   "source": [
    "mp2.keyPlots(overwrite=False)"
   ]
  },
  {
   "cell_type": "code",
   "execution_count": 19,
   "id": "459b7de8",
   "metadata": {},
   "outputs": [
    {
     "name": "stdout",
     "output_type": "stream",
     "text": [
      "INFO: Exported C:/Users/lmf1/OneDriveNIST/NIST/data/shopbot/results\\singleDisturb\\images\\HOx\\mineral_LapRD_visc\\l1wol1do_mineral_LapRD_visc_dates_220930_xvar_ink.var_yvar_sup.var_concat_h_spacing_0.875\n",
      "INFO: Exported C:/Users/lmf1/OneDriveNIST/NIST/data/shopbot/results\\singleDisturb\\images\\HOx\\mineral_LapRD_visc\\l1wol1do_mineral_LapRD_visc_dates_220930_xvar_self.spacing_yvar_sup.var_concat_h_ink_M9_I_M9\n"
     ]
    }
   ],
   "source": [
    "mp2.plot('HOx', spacing=0.875, overwrite=True)\n",
    "mp2.plot('HOx', ink=mp2.inkList[-1], overwrite=True)"
   ]
  },
  {
   "cell_type": "code",
   "execution_count": null,
   "id": "34c95a66",
   "metadata": {},
   "outputs": [],
   "source": []
  }
 ],
 "metadata": {
  "kernelspec": {
   "display_name": "Python 3",
   "language": "python",
   "name": "python3"
  },
  "language_info": {
   "codemirror_mode": {
    "name": "ipython",
    "version": 3
   },
   "file_extension": ".py",
   "mimetype": "text/x-python",
   "name": "python",
   "nbconvert_exporter": "python",
   "pygments_lexer": "ipython3",
   "version": "3.8.3"
  }
 },
 "nbformat": 4,
 "nbformat_minor": 5
}
