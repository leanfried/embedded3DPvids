{
 "cells": [
  {
   "cell_type": "markdown",
   "id": "905e6403",
   "metadata": {},
   "source": [
    "# Summarizing metrics from disturbed horizontal lines"
   ]
  },
  {
   "cell_type": "markdown",
   "id": "d4b18070",
   "metadata": {},
   "source": [
    "Leanne Friedrich 11/15/22"
   ]
  },
  {
   "cell_type": "markdown",
   "id": "3d679eed",
   "metadata": {},
   "source": [
    "## initialization"
   ]
  },
  {
   "cell_type": "code",
   "execution_count": null,
   "id": "86387b1f",
   "metadata": {},
   "outputs": [],
   "source": [
    "%load_ext autoreload\n",
    "%autoreload 2\n",
    "LOGGERDEFINED = False"
   ]
  },
  {
   "cell_type": "code",
   "execution_count": null,
   "id": "a3cd40ba",
   "metadata": {},
   "outputs": [],
   "source": [
    "import os\n",
    "import sys\n",
    "sys.path.append(\"../\")\n",
    "sys.path.append(\"../../\")\n",
    "from py.tools.config import cfg\n",
    "import py.tools.logs as logs\n",
    "from plainIm import plainIm\n",
    "import matplotlib.pyplot as plt\n",
    "import py.metric_plots as mp\n",
    "import py.metrics_disturb as me\n",
    "import regression as rg\n",
    "import matplotlib.cm as cm\n",
    "import py.file_handling as fh\n",
    "LOGGERDEFINED = logs.openLog('summary_horiz.ipynb', LOGGERDEFINED, level='DEBUG', exportLog=False)"
   ]
  },
  {
   "cell_type": "markdown",
   "id": "75641ecf",
   "metadata": {},
   "source": [
    "## analyzing data"
   ]
  },
  {
   "cell_type": "code",
   "execution_count": null,
   "id": "011986b0",
   "metadata": {},
   "outputs": [],
   "source": [
    "me.horizDisturbSummaries(os.path.join(cfg.path.server, 'singleDisturb')\n",
    "                         , os.path.join(cfg.path.fig, 'singleDisturb'), overwrite=False)"
   ]
  },
  {
   "cell_type": "code",
   "execution_count": null,
   "id": "6c648238",
   "metadata": {},
   "outputs": [],
   "source": [
    "ms = me.metricDisturbSummary(os.path.join(cfg.path.fig, 'singleDisturb', 'horizDisturbSummaries.csv')\n",
    "                             , diag=True)"
   ]
  },
  {
   "cell_type": "code",
   "execution_count": null,
   "id": "1a630f44",
   "metadata": {},
   "outputs": [],
   "source": [
    "def waterOilPlots(yvar:str, yideal:float, mode:str='ppt', export:bool=False):\n",
    "    if mode=='ppt':\n",
    "        figsize = (9,6)\n",
    "        fs = 18\n",
    "        markersize=100\n",
    "    elif mode=='paper':\n",
    "        figsize=(6,4)\n",
    "        fs = 10\n",
    "        markersize=20\n",
    "    fig,axs = plt.subplots(1,2,figsize=figsize, sharey=True, sharex=True)\n",
    "    ms.ss.sort_values(by=['sigma', 'sup_val'], inplace=True)\n",
    "    for i,sigma in enumerate(ms.ss.sigma.unique()):\n",
    "        mp.scatterSS(ms, ms.ss[ms.ss.sigma==sigma], 'spacing', yvar, 'sup_val'\n",
    "                 ,fig=fig, ax=axs[i], logx=False, yideal=yideal, xideal=0.875, fontsize=fs, markersize=markersize, legend=False)\n",
    "    for ax in axs:\n",
    "        mp.setSquare(ax)\n",
    "        if ms.ss[yvar].min()<0:\n",
    "            yy = ms.ss[yvar].min()*0.9\n",
    "        else:\n",
    "            yy = ms.ss[yvar].max()*0.9\n",
    "        ax.text(0.88, yy, 'space filling', color='#555555', fontsize=fs)\n",
    "        ax.text(1.08, 0.01, 'ideal', color='#555555', fontsize=fs)\n",
    "    axs[0].set_title('Water/water', fontsize=fs)\n",
    "    axs[1].set_title('Oil/water', fontsize=fs)\n",
    "    fig.tight_layout()\n",
    "    if export:\n",
    "        fig.savefig(os.path.join(cfg.path.fig, 'singleDisturb', 'figures', f'horiz_{yvar}.svg'), bbox_inches='tight', dpi=300)"
   ]
  },
  {
   "cell_type": "code",
   "execution_count": null,
   "id": "243633a6",
   "metadata": {},
   "outputs": [],
   "source": [
    "waterOilPlots('delta_totlen_n', 0)"
   ]
  },
  {
   "cell_type": "code",
   "execution_count": null,
   "id": "03764590",
   "metadata": {},
   "outputs": [],
   "source": [
    "waterOilPlots('delta_meanT_n', 0)"
   ]
  },
  {
   "cell_type": "code",
   "execution_count": null,
   "id": "9f7b8697",
   "metadata": {},
   "outputs": [],
   "source": [
    "waterOilPlots('delta_yc_n', 0)"
   ]
  },
  {
   "cell_type": "code",
   "execution_count": null,
   "id": "8d4078b8",
   "metadata": {},
   "outputs": [],
   "source": [
    "for s in ['w_dy0l', 'd_dy0l', 'd_dy0r', 'd_dy0lr', 'd_space_b']:\n",
    "    waterOilPlots(s, 0)"
   ]
  },
  {
   "cell_type": "code",
   "execution_count": null,
   "id": "4bf4c95f",
   "metadata": {},
   "outputs": [],
   "source": [
    "ms.ss[(ms.ss.ink_base=='water')&(ms.ss.d_dy0r>0.6)]"
   ]
  },
  {
   "cell_type": "code",
   "execution_count": null,
   "id": "47fe1b60",
   "metadata": {},
   "outputs": [],
   "source": []
  },
  {
   "cell_type": "code",
   "execution_count": null,
   "id": "6625c48d",
   "metadata": {},
   "outputs": [],
   "source": [
    "inspect = ms.ss[(ms.ss.spacing==0.75)&(ms.ss.delta_meanT_n>0.2)&(ms.ss.sup_val==4)]\n",
    "inspect"
   ]
  },
  {
   "cell_type": "code",
   "execution_count": null,
   "id": "6e544d39",
   "metadata": {},
   "outputs": [],
   "source": [
    "folder = inspect.iloc[1]['printFolder']\n",
    "fh.openExplorer(folder)"
   ]
  },
  {
   "cell_type": "code",
   "execution_count": null,
   "id": "158f38fc",
   "metadata": {},
   "outputs": [],
   "source": [
    "me.horizDisturbMeasures(folder, overwrite=True, diag=1)\n",
    "me.horizDisturbSummary(folder, overwrite=True);"
   ]
  },
  {
   "cell_type": "code",
   "execution_count": null,
   "id": "5389d84c",
   "metadata": {},
   "outputs": [],
   "source": []
  }
 ],
 "metadata": {
  "kernelspec": {
   "display_name": "Python 3 (ipykernel)",
   "language": "python",
   "name": "python3"
  },
  "language_info": {
   "codemirror_mode": {
    "name": "ipython",
    "version": 3
   },
   "file_extension": ".py",
   "mimetype": "text/x-python",
   "name": "python",
   "nbconvert_exporter": "python",
   "pygments_lexer": "ipython3",
   "version": "3.8.18"
  }
 },
 "nbformat": 4,
 "nbformat_minor": 5
}
