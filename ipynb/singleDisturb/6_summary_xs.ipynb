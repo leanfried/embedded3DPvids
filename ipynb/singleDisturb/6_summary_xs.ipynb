{
 "cells": [
  {
   "cell_type": "markdown",
   "id": "fb5ee0f9",
   "metadata": {},
   "source": [
    "# Summarizing metrics from disturbed XS"
   ]
  },
  {
   "cell_type": "markdown",
   "id": "1558cf54",
   "metadata": {},
   "source": [
    "Leanne Friedrich 11/15/22"
   ]
  },
  {
   "cell_type": "markdown",
   "id": "d7780c1f",
   "metadata": {},
   "source": [
    "## initialization"
   ]
  },
  {
   "cell_type": "code",
   "execution_count": null,
   "id": "32a82ddc",
   "metadata": {},
   "outputs": [],
   "source": [
    "%load_ext autoreload\n",
    "%autoreload 2\n",
    "LOGGERDEFINED = False"
   ]
  },
  {
   "cell_type": "code",
   "execution_count": null,
   "id": "15a97d45",
   "metadata": {},
   "outputs": [],
   "source": [
    "import os\n",
    "import sys\n",
    "sys.path.append(\"../\")\n",
    "sys.path.append(\"../../\")\n",
    "from py.tools.config import cfg\n",
    "import py.tools.logs as logs\n",
    "from plainIm import plainIm\n",
    "import matplotlib.pyplot as plt\n",
    "import py.metric_plots as mp\n",
    "import py.metrics_disturb as me\n",
    "import regression as rg\n",
    "import matplotlib.cm as cm\n",
    "import py.file_handling as fh\n",
    "import pandas as pd\n",
    "LOGGERDEFINED = logs.openLog('summary_xs.ipynb', LOGGERDEFINED, level='DEBUG', exportLog=False)"
   ]
  },
  {
   "cell_type": "markdown",
   "id": "f76025d6",
   "metadata": {},
   "source": [
    "## analyzing data"
   ]
  },
  {
   "cell_type": "code",
   "execution_count": null,
   "id": "5a9dab35",
   "metadata": {},
   "outputs": [],
   "source": [
    "me.xsDisturbSummaries(os.path.join(cfg.path.server, 'singleDisturb'), os.path.join(cfg.path.fig, 'singleDisturb'), overwrite=False)"
   ]
  },
  {
   "cell_type": "code",
   "execution_count": null,
   "id": "a5901be4",
   "metadata": {},
   "outputs": [],
   "source": [
    "msy = me.metricDisturbSummary(os.path.join(cfg.path.fig, 'singleDisturb', 'xs+yDisturbSummaries.csv'), diag=True)\n",
    "print('\\n\\n')\n",
    "msz = me.metricDisturbSummary(os.path.join(cfg.path.fig, 'singleDisturb', 'xs+zDisturbSummaries.csv'), diag=True)"
   ]
  },
  {
   "cell_type": "code",
   "execution_count": null,
   "id": "72887f05",
   "metadata": {},
   "outputs": [],
   "source": [
    "def waterOilPlots(ms:pd.DataFrame, yvar:str, yideal:float, mode:str='ppt', export:bool=False):\n",
    "    if mode=='ppt':\n",
    "        figsize = (9,6)\n",
    "        fs = 18\n",
    "        markersize=100\n",
    "    elif mode=='paper':\n",
    "        figsize=(6,4)\n",
    "        fs = 10\n",
    "        markersize=20\n",
    "    fig,axs = plt.subplots(1,2,figsize=figsize, sharey=True, sharex=True)\n",
    "    ms.ss.sort_values(by=['sigma', 'sup_val'], inplace=True)\n",
    "    for i,sigma in enumerate(ms.ss.sigma.unique()):\n",
    "        mp.scatterSS(ms, ms.ss[ms.ss.sigma==sigma], 'spacing', yvar, 'sup_val'\n",
    "                 ,fig=fig, ax=axs[i], logx=False, yideal=yideal, xideal=0.875, fontsize=fs, markersize=markersize, legend=False)\n",
    "    for ax in axs:\n",
    "        mp.setSquare(ax)\n",
    "        if ms.ss[yvar].min()<0:\n",
    "            yy = ms.ss[yvar].min()*0.9\n",
    "        else:\n",
    "            yy = ms.ss[yvar].max()*0.9\n",
    "        ax.text(0.88, yy, 'space filling', color='#555555', fontsize=fs)\n",
    "        ax.text(1.08, 0.01, 'ideal', color='#555555', fontsize=fs)\n",
    "    axs[0].set_title('Water/water', fontsize=fs)\n",
    "    axs[1].set_title('Oil/water', fontsize=fs)\n",
    "    fig.tight_layout()\n",
    "    if '+y' in ms.ss.loc[0].printFolder:\n",
    "        fig.supylabel('In plane')\n",
    "    else:\n",
    "        fig.supylabel('Out of plane')\n",
    "    if export:\n",
    "        fig.savefig(os.path.join(cfg.path.fig, 'singleDisturb', 'figures', f'horiz_{yvar}.svg'), bbox_inches='tight', dpi=300)"
   ]
  },
  {
   "cell_type": "code",
   "execution_count": null,
   "id": "00902b67",
   "metadata": {
    "tags": []
   },
   "outputs": [],
   "source": [
    "for ms in [msy, msz]:\n",
    "    for s in ['delta_aspect', 'delta_h_n', 'delta_w_n', 'delta_yshift', 'delta_xshift', 'delta_xc_n']:\n",
    "        waterOilPlots(ms, s, 0)"
   ]
  },
  {
   "cell_type": "code",
   "execution_count": null,
   "id": "6f2eb8e4",
   "metadata": {},
   "outputs": [],
   "source": [
    "inspect =ms.ss[ms.ss.bot_w_dxprint>0.1]\n",
    "inspect"
   ]
  },
  {
   "cell_type": "code",
   "execution_count": null,
   "id": "d18f0560",
   "metadata": {},
   "outputs": [],
   "source": [
    "folder = inspect.iloc[1]['printFolder']\n",
    "fh.openExplorer(folder)"
   ]
  },
  {
   "cell_type": "code",
   "execution_count": null,
   "id": "c70d250c",
   "metadata": {
    "tags": []
   },
   "outputs": [],
   "source": [
    "me.vertDisturbMeasures(folder, overwrite=True, diag=1, lines=['l0wo', 'l0do', 'l2wo', 'l2do'])"
   ]
  },
  {
   "cell_type": "code",
   "execution_count": null,
   "id": "6aebdd8b",
   "metadata": {
    "tags": []
   },
   "outputs": [],
   "source": [
    "me.vertDisturbMeasures(folder, overwrite=True, diag=1, lines=['l0w', 'l0d', 'l2w', 'l2d'])"
   ]
  },
  {
   "cell_type": "code",
   "execution_count": null,
   "id": "532b5289",
   "metadata": {
    "tags": []
   },
   "outputs": [],
   "source": [
    "me.vertDisturbMeasures(folder, overwrite=True, diag=1)\n",
    "me.vertDisturbSummary(folder, overwrite=True);"
   ]
  },
  {
   "cell_type": "code",
   "execution_count": null,
   "id": "f53086b5",
   "metadata": {},
   "outputs": [],
   "source": []
  }
 ],
 "metadata": {
  "kernelspec": {
   "display_name": "Python 3 (ipykernel)",
   "language": "python",
   "name": "python3"
  },
  "language_info": {
   "codemirror_mode": {
    "name": "ipython",
    "version": 3
   },
   "file_extension": ".py",
   "mimetype": "text/x-python",
   "name": "python",
   "nbconvert_exporter": "python",
   "pygments_lexer": "ipython3",
   "version": "3.8.18"
  }
 },
 "nbformat": 4,
 "nbformat_minor": 5
}
