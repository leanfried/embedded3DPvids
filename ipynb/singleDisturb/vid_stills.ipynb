{
 "cells": [
  {
   "cell_type": "markdown",
   "id": "9e3ad28b",
   "metadata": {},
   "source": [
    "# Making stills of disturbed lines"
   ]
  },
  {
   "cell_type": "markdown",
   "id": "5fa6f42f",
   "metadata": {},
   "source": [
    "## Initialization"
   ]
  },
  {
   "cell_type": "code",
   "execution_count": null,
   "id": "6ee8de94",
   "metadata": {},
   "outputs": [],
   "source": [
    "%load_ext autoreload\n",
    "%autoreload 2\n",
    "LOGGERDEFINED = False"
   ]
  },
  {
   "cell_type": "code",
   "execution_count": null,
   "id": "c6d4e48b",
   "metadata": {},
   "outputs": [],
   "source": [
    "import os\n",
    "import sys\n",
    "import numpy as np\n",
    "module_path = os.path.abspath(os.path.join('..'))\n",
    "sys.path.append(module_path)\n",
    "sys.path.append(os.path.dirname(module_path))\n",
    "from py.tools.config import cfg\n",
    "import py.tools.logs as logs\n",
    "import py.vid_tools as vt\n",
    "from py.tools.imshow import imshow\n",
    "import matplotlib.pyplot as plt\n",
    "import py.file_handling as fh\n",
    "LOGGERDEFINED = logs.openLog('vidAnalysis.ipynb', LOGGERDEFINED, level='DEBUG', exportLog=False)"
   ]
  },
  {
   "cell_type": "code",
   "execution_count": null,
   "id": "7909705f",
   "metadata": {},
   "outputs": [],
   "source": [
    "fh.openExplorer(folder)"
   ]
  },
  {
   "cell_type": "markdown",
   "id": "0f0f7ceb",
   "metadata": {},
   "source": [
    "### get programmed dimension"
   ]
  },
  {
   "cell_type": "code",
   "execution_count": 140,
   "id": "ef57a5fd",
   "metadata": {},
   "outputs": [],
   "source": [
    "folder = os.path.join(cfg.path.server, r'singleDisturb\\mineral_LapRD_visc\\I_M8_S_3.00\\I_M8_S_3.00_220930\\disturbHoriz2_0.500')"
   ]
  },
  {
   "cell_type": "code",
   "execution_count": null,
   "id": "e4aebfd1",
   "metadata": {},
   "outputs": [],
   "source": [
    "folder = os.path.join(cfg.path.server, r'singleDisturb\\LapRD_LapRD_visc\\I_3.00_S_2.25\\I_3.00_S_2.25_220928\\disturbHoriz_0.625')"
   ]
  },
  {
   "cell_type": "code",
   "execution_count": null,
   "id": "73fd1e4d",
   "metadata": {},
   "outputs": [],
   "source": [
    "pdim = vt.getProgDims(folder)\n",
    "pdim.exportAll(overwrite=True, diag=0)"
   ]
  },
  {
   "cell_type": "code",
   "execution_count": null,
   "id": "3385b466",
   "metadata": {},
   "outputs": [],
   "source": [
    "folder = os.path.join(cfg.path.server, r'singleDisturb\\mineral_LapRD_visc\\I_M7_S_3.00\\I_M7_S_3.00_220930\\disturbHoriz2_0.750')"
   ]
  },
  {
   "cell_type": "code",
   "execution_count": null,
   "id": "4e3db5b1",
   "metadata": {},
   "outputs": [],
   "source": [
    "p1 = pdim.ftable.loc[300:400]\n",
    "p1[p1.flag>2048].time.min()"
   ]
  },
  {
   "cell_type": "code",
   "execution_count": null,
   "id": "ec350455",
   "metadata": {},
   "outputs": [],
   "source": [
    "pdim = vt.getProgDims(folder)\n",
    "pdim.importTimeRewriteFile()"
   ]
  },
  {
   "cell_type": "code",
   "execution_count": null,
   "id": "f86d1f84",
   "metadata": {
    "tags": []
   },
   "outputs": [],
   "source": [
    "pdim.rewriteTargets()\n",
    "pdim.ftable"
   ]
  },
  {
   "cell_type": "code",
   "execution_count": null,
   "id": "9ce6a452",
   "metadata": {
    "tags": []
   },
   "outputs": [],
   "source": [
    "pdim.importTimeFile()\n",
    "pdim.getTargetPoints()"
   ]
  },
  {
   "cell_type": "markdown",
   "id": "8a314c25",
   "metadata": {},
   "source": [
    "## make stills"
   ]
  },
  {
   "cell_type": "code",
   "execution_count": null,
   "id": "6c119f18",
   "metadata": {
    "tags": []
   },
   "outputs": [],
   "source": [
    "errorList = vt.exportStillsRecursive(os.path.join(cfg.path.server, r'singleDisturb'), overwriteDims=True, overwrite=True)"
   ]
  },
  {
   "cell_type": "code",
   "execution_count": 139,
   "id": "bc4a3cc8",
   "metadata": {},
   "outputs": [
    {
     "data": {
      "text/plain": [
       "['//cfs2e.nist.gov/642/internal/3D Printing Lab/Shopbot/videos/singleDisturb\\\\LapRD_LapRD_visc\\\\I_3.00_S_2.25\\\\I_3.00_S_2.25_220928_v1\\\\disturbHoriz_0.500',\n",
       " '//cfs2e.nist.gov/642/internal/3D Printing Lab/Shopbot/videos/singleDisturb\\\\LapRD_LapRD_visc\\\\I_3.00_S_2.25\\\\I_3.00_S_2.25_220928_v1\\\\disturbHoriz_0.625',\n",
       " '//cfs2e.nist.gov/642/internal/3D Printing Lab/Shopbot/videos/singleDisturb\\\\LapRD_LapRD_visc\\\\I_3.00_S_2.25\\\\I_3.00_S_2.25_220928_v1\\\\disturbHoriz_0.750',\n",
       " '//cfs2e.nist.gov/642/internal/3D Printing Lab/Shopbot/videos/singleDisturb\\\\LapRD_LapRD_visc\\\\I_3.00_S_2.25\\\\I_3.00_S_2.25_220928_v1\\\\disturbHoriz_0.875',\n",
       " '//cfs2e.nist.gov/642/internal/3D Printing Lab/Shopbot/videos/singleDisturb\\\\LapRD_LapRD_visc\\\\I_3.00_S_2.25\\\\I_3.00_S_2.25_220928_v1\\\\disturbHoriz_1.000',\n",
       " '//cfs2e.nist.gov/642/internal/3D Printing Lab/Shopbot/videos/singleDisturb\\\\LapRD_LapRD_visc\\\\I_3.00_S_2.25\\\\I_3.00_S_2.25_220928_v1\\\\disturbHoriz_1.250',\n",
       " '//cfs2e.nist.gov/642/internal/3D Printing Lab/Shopbot/videos/singleDisturb\\\\LapRD_LapRD_visc\\\\I_3.00_S_2.25\\\\I_3.00_S_2.25_220928_v1\\\\disturbVert_0.500',\n",
       " '//cfs2e.nist.gov/642/internal/3D Printing Lab/Shopbot/videos/singleDisturb\\\\LapRD_LapRD_visc\\\\I_3.00_S_2.25\\\\I_3.00_S_2.25_220928_v1\\\\disturbVert_0.625',\n",
       " '//cfs2e.nist.gov/642/internal/3D Printing Lab/Shopbot/videos/singleDisturb\\\\LapRD_LapRD_visc\\\\I_3.00_S_2.25\\\\I_3.00_S_2.25_220928_v1\\\\disturbVert_0.750',\n",
       " '//cfs2e.nist.gov/642/internal/3D Printing Lab/Shopbot/videos/singleDisturb\\\\LapRD_LapRD_visc\\\\I_3.00_S_2.25\\\\I_3.00_S_2.25_220928_v1\\\\disturbVert_0.875',\n",
       " '//cfs2e.nist.gov/642/internal/3D Printing Lab/Shopbot/videos/singleDisturb\\\\LapRD_LapRD_visc\\\\I_3.00_S_2.25\\\\I_3.00_S_2.25_220928_v1\\\\disturbVert_1.000',\n",
       " '//cfs2e.nist.gov/642/internal/3D Printing Lab/Shopbot/videos/singleDisturb\\\\LapRD_LapRD_visc\\\\I_3.00_S_2.25\\\\I_3.00_S_2.25_220928_v1\\\\disturbVert_1.250',\n",
       " '//cfs2e.nist.gov/642/internal/3D Printing Lab/Shopbot/videos/singleDisturb\\\\mineral_LapRD_visc\\\\I_M9_S_3.00\\\\I_M9_S_3.00_220930_v1\\\\disturbHoriz2_0.625',\n",
       " '//cfs2e.nist.gov/642/internal/3D Printing Lab/Shopbot/videos/singleDisturb\\\\mineral_LapRD_visc\\\\I_M9_S_3.50\\\\I_M9_S_3.50_220930\\\\disturbHoriz2_0.500']"
      ]
     },
     "execution_count": 139,
     "metadata": {},
     "output_type": "execute_result"
    }
   ],
   "source": [
    "errorList"
   ]
  },
  {
   "cell_type": "code",
   "execution_count": 181,
   "id": "fcac990f",
   "metadata": {
    "tags": []
   },
   "outputs": [
    {
     "name": "stdout",
     "output_type": "stream",
     "text": [
      "INFO: Exported //cfs2e.nist.gov/642/internal/3D Printing Lab/Shopbot/videos/singleDisturb\\mineral_LapRD_visc\\I_M9_S_3.00\\I_M9_S_3.00_220930_v1\\disturbHoriz2_0.875\\disturbHoriz2_0.875_still_HOh_l0w_I_M9_S_3.00_220930_150631_3.png\n",
      "INFO: Exported //cfs2e.nist.gov/642/internal/3D Printing Lab/Shopbot/videos/singleDisturb\\mineral_LapRD_visc\\I_M9_S_3.00\\I_M9_S_3.00_220930_v1\\disturbHoriz2_0.875\\disturbHoriz2_0.875_still_HOh_l0wo_I_M9_S_3.00_220930_150631_3.png\n",
      "INFO: Exported //cfs2e.nist.gov/642/internal/3D Printing Lab/Shopbot/videos/singleDisturb\\mineral_LapRD_visc\\I_M9_S_3.00\\I_M9_S_3.00_220930_v1\\disturbHoriz2_0.875\\disturbHoriz2_0.875_still_HOh_l0d_I_M9_S_3.00_220930_150631_3.png\n",
      "INFO: Exported //cfs2e.nist.gov/642/internal/3D Printing Lab/Shopbot/videos/singleDisturb\\mineral_LapRD_visc\\I_M9_S_3.00\\I_M9_S_3.00_220930_v1\\disturbHoriz2_0.875\\disturbHoriz2_0.875_still_HOh_l0do_I_M9_S_3.00_220930_150631_3.png\n",
      "INFO: Exported //cfs2e.nist.gov/642/internal/3D Printing Lab/Shopbot/videos/singleDisturb\\mineral_LapRD_visc\\I_M9_S_3.00\\I_M9_S_3.00_220930_v1\\disturbHoriz2_0.875\\disturbHoriz2_0.875_still_HOh_l1w_I_M9_S_3.00_220930_150631_3.png\n",
      "INFO: Exported //cfs2e.nist.gov/642/internal/3D Printing Lab/Shopbot/videos/singleDisturb\\mineral_LapRD_visc\\I_M9_S_3.00\\I_M9_S_3.00_220930_v1\\disturbHoriz2_0.875\\disturbHoriz2_0.875_still_HOh_l1wo_I_M9_S_3.00_220930_150631_3.png\n",
      "INFO: Exported //cfs2e.nist.gov/642/internal/3D Printing Lab/Shopbot/videos/singleDisturb\\mineral_LapRD_visc\\I_M9_S_3.00\\I_M9_S_3.00_220930_v1\\disturbHoriz2_0.875\\disturbHoriz2_0.875_still_HOh_l1d_I_M9_S_3.00_220930_150631_3.png\n",
      "INFO: Exported //cfs2e.nist.gov/642/internal/3D Printing Lab/Shopbot/videos/singleDisturb\\mineral_LapRD_visc\\I_M9_S_3.00\\I_M9_S_3.00_220930_v1\\disturbHoriz2_0.875\\disturbHoriz2_0.875_still_HOh_l1do_I_M9_S_3.00_220930_150631_3.png\n",
      "INFO: Exported //cfs2e.nist.gov/642/internal/3D Printing Lab/Shopbot/videos/singleDisturb\\mineral_LapRD_visc\\I_M9_S_3.00\\I_M9_S_3.00_220930_v1\\disturbHoriz2_0.875\\disturbHoriz2_0.875_still_HOh_l2w_I_M9_S_3.00_220930_150631_3.png\n",
      "INFO: Exported //cfs2e.nist.gov/642/internal/3D Printing Lab/Shopbot/videos/singleDisturb\\mineral_LapRD_visc\\I_M9_S_3.00\\I_M9_S_3.00_220930_v1\\disturbHoriz2_0.875\\disturbHoriz2_0.875_still_HOh_l2wo_I_M9_S_3.00_220930_150631_3.png\n",
      "INFO: Exported //cfs2e.nist.gov/642/internal/3D Printing Lab/Shopbot/videos/singleDisturb\\mineral_LapRD_visc\\I_M9_S_3.00\\I_M9_S_3.00_220930_v1\\disturbHoriz2_0.875\\disturbHoriz2_0.875_still_HOh_l2d_I_M9_S_3.00_220930_150631_3.png\n",
      "INFO: Exported //cfs2e.nist.gov/642/internal/3D Printing Lab/Shopbot/videos/singleDisturb\\mineral_LapRD_visc\\I_M9_S_3.00\\I_M9_S_3.00_220930_v1\\disturbHoriz2_0.875\\disturbHoriz2_0.875_still_HOh_l2do_I_M9_S_3.00_220930_150631_3.png\n",
      "INFO: Exported //cfs2e.nist.gov/642/internal/3D Printing Lab/Shopbot/videos/singleDisturb\\mineral_LapRD_visc\\I_M9_S_3.00\\I_M9_S_3.00_220930_v1\\disturbHoriz2_0.875\\disturbHoriz2_0.875_still_HOh_l3w_I_M9_S_3.00_220930_150631_3.png\n",
      "INFO: Exported //cfs2e.nist.gov/642/internal/3D Printing Lab/Shopbot/videos/singleDisturb\\mineral_LapRD_visc\\I_M9_S_3.00\\I_M9_S_3.00_220930_v1\\disturbHoriz2_0.875\\disturbHoriz2_0.875_still_HOh_l3wo_I_M9_S_3.00_220930_150631_3.png\n",
      "INFO: Exported //cfs2e.nist.gov/642/internal/3D Printing Lab/Shopbot/videos/singleDisturb\\mineral_LapRD_visc\\I_M9_S_3.00\\I_M9_S_3.00_220930_v1\\disturbHoriz2_0.875\\disturbHoriz2_0.875_still_HOh_l3d_I_M9_S_3.00_220930_150631_3.png\n",
      "INFO: Exported //cfs2e.nist.gov/642/internal/3D Printing Lab/Shopbot/videos/singleDisturb\\mineral_LapRD_visc\\I_M9_S_3.00\\I_M9_S_3.00_220930_v1\\disturbHoriz2_0.875\\disturbHoriz2_0.875_still_HOh_l3do_I_M9_S_3.00_220930_150631_3.png\n"
     ]
    },
    {
     "data": {
      "text/plain": [
       "[]"
      ]
     },
     "execution_count": 181,
     "metadata": {},
     "output_type": "execute_result"
    }
   ],
   "source": [
    "folder = os.path.join(cfg.path.server, r'singleDisturb\\mineral_LapRD_visc\\I_M9_S_3.00\\I_M9_S_3.00_220930_v1\\disturbHoriz2_0.875')\n",
    "vt.exportStillsRecursive(folder, overwriteDims=False, overwrite=True, prefixes=['HOh'])"
   ]
  },
  {
   "cell_type": "code",
   "execution_count": null,
   "id": "ffb9de88",
   "metadata": {
    "tags": []
   },
   "outputs": [],
   "source": [
    "vt.exportStillsRecursive(folder, overwriteDims=True, overwrite=True)"
   ]
  },
  {
   "cell_type": "code",
   "execution_count": null,
   "id": "3d90ae16",
   "metadata": {
    "tags": []
   },
   "outputs": [],
   "source": [
    "pdim = vt.getProgDims(folder)\n",
    "pdim.exportTime(overwrite=True, diag=1)"
   ]
  },
  {
   "cell_type": "code",
   "execution_count": null,
   "id": "a18f6121",
   "metadata": {
    "tags": []
   },
   "outputs": [],
   "source": [
    "vt.exportProgDims(errorList[0], overwrite=True)"
   ]
  },
  {
   "cell_type": "code",
   "execution_count": null,
   "id": "0eddc570",
   "metadata": {},
   "outputs": [],
   "source": [
    "pdim = vt.getProgDims(folder)\n",
    "pdim.initializeProgDims()"
   ]
  },
  {
   "cell_type": "code",
   "execution_count": 189,
   "id": "fae4c2c9",
   "metadata": {},
   "outputs": [],
   "source": [
    "folder = os.path.join(cfg.path.server, r'singleLines\\LapRD LapRD 1day\\I_2.50_S_2.75\\I_2.50_S_2.75_210727')\n",
    "pdim = vt.getProgDims(folder)"
   ]
  },
  {
   "cell_type": "code",
   "execution_count": 190,
   "id": "7925c1f0",
   "metadata": {},
   "outputs": [
    {
     "data": {
      "text/html": [
       "<div>\n",
       "<style scoped>\n",
       "    .dataframe tbody tr th:only-of-type {\n",
       "        vertical-align: middle;\n",
       "    }\n",
       "\n",
       "    .dataframe tbody tr th {\n",
       "        vertical-align: top;\n",
       "    }\n",
       "\n",
       "    .dataframe thead th {\n",
       "        text-align: right;\n",
       "    }\n",
       "</style>\n",
       "<table border=\"1\" class=\"dataframe\">\n",
       "  <thead>\n",
       "    <tr style=\"text-align: right;\">\n",
       "      <th></th>\n",
       "      <th>time</th>\n",
       "      <th>pressure</th>\n",
       "    </tr>\n",
       "  </thead>\n",
       "  <tbody>\n",
       "    <tr>\n",
       "      <th>0</th>\n",
       "      <td>0.00</td>\n",
       "      <td>12</td>\n",
       "    </tr>\n",
       "    <tr>\n",
       "      <th>1</th>\n",
       "      <td>0.20</td>\n",
       "      <td>106</td>\n",
       "    </tr>\n",
       "    <tr>\n",
       "      <th>2</th>\n",
       "      <td>0.40</td>\n",
       "      <td>146</td>\n",
       "    </tr>\n",
       "    <tr>\n",
       "      <th>3</th>\n",
       "      <td>0.60</td>\n",
       "      <td>164</td>\n",
       "    </tr>\n",
       "    <tr>\n",
       "      <th>4</th>\n",
       "      <td>0.80</td>\n",
       "      <td>173</td>\n",
       "    </tr>\n",
       "    <tr>\n",
       "      <th>...</th>\n",
       "      <td>...</td>\n",
       "      <td>...</td>\n",
       "    </tr>\n",
       "    <tr>\n",
       "      <th>232</th>\n",
       "      <td>46.69</td>\n",
       "      <td>158</td>\n",
       "    </tr>\n",
       "    <tr>\n",
       "      <th>233</th>\n",
       "      <td>46.89</td>\n",
       "      <td>158</td>\n",
       "    </tr>\n",
       "    <tr>\n",
       "      <th>234</th>\n",
       "      <td>47.09</td>\n",
       "      <td>158</td>\n",
       "    </tr>\n",
       "    <tr>\n",
       "      <th>235</th>\n",
       "      <td>47.29</td>\n",
       "      <td>158</td>\n",
       "    </tr>\n",
       "    <tr>\n",
       "      <th>236</th>\n",
       "      <td>47.49</td>\n",
       "      <td>158</td>\n",
       "    </tr>\n",
       "  </tbody>\n",
       "</table>\n",
       "<p>237 rows × 2 columns</p>\n",
       "</div>"
      ],
      "text/plain": [
       "      time  pressure\n",
       "0     0.00        12\n",
       "1     0.20       106\n",
       "2     0.40       146\n",
       "3     0.60       164\n",
       "4     0.80       173\n",
       "..     ...       ...\n",
       "232  46.69       158\n",
       "233  46.89       158\n",
       "234  47.09       158\n",
       "235  47.29       158\n",
       "236  47.49       158\n",
       "\n",
       "[237 rows x 2 columns]"
      ]
     },
     "execution_count": 190,
     "metadata": {},
     "output_type": "execute_result"
    }
   ],
   "source": [
    "pdim.ftable"
   ]
  },
  {
   "cell_type": "code",
   "execution_count": null,
   "id": "9e397ee1",
   "metadata": {},
   "outputs": [],
   "source": []
  }
 ],
 "metadata": {
  "kernelspec": {
   "display_name": "Python 3",
   "language": "python",
   "name": "python3"
  },
  "language_info": {
   "codemirror_mode": {
    "name": "ipython",
    "version": 3
   },
   "file_extension": ".py",
   "mimetype": "text/x-python",
   "name": "python",
   "nbconvert_exporter": "python",
   "pygments_lexer": "ipython3",
   "version": "3.8.3"
  }
 },
 "nbformat": 4,
 "nbformat_minor": 5
}
