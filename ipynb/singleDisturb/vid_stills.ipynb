{
 "cells": [
  {
   "cell_type": "markdown",
   "id": "bff1f469",
   "metadata": {},
   "source": [
    "# Making stills of disturbed lines"
   ]
  },
  {
   "cell_type": "markdown",
   "id": "c4768f4d",
   "metadata": {},
   "source": [
    "## Initialization"
   ]
  },
  {
   "cell_type": "code",
   "execution_count": null,
   "id": "1595d14d",
   "metadata": {},
   "outputs": [],
   "source": [
    "%load_ext autoreload\n",
    "%autoreload 2\n",
    "LOGGERDEFINED = False"
   ]
  },
  {
   "cell_type": "code",
   "execution_count": null,
   "id": "88c4603f",
   "metadata": {},
   "outputs": [],
   "source": [
    "import os\n",
    "import sys\n",
    "import numpy as np\n",
    "module_path = os.path.abspath(os.path.join('..'))\n",
    "sys.path.append(module_path)\n",
    "sys.path.append(os.path.dirname(module_path))\n",
    "from py.tools.config import cfg\n",
    "import py.tools.logs as logs\n",
    "import py.vid_tools as vt\n",
    "from py.tools.imshow import imshow\n",
    "import matplotlib.pyplot as plt\n",
    "import py.file_handling as fh\n",
    "LOGGERDEFINED = logs.openLog('vidAnalysis.ipynb', LOGGERDEFINED, level='DEBUG', exportLog=False)"
   ]
  },
  {
   "cell_type": "code",
   "execution_count": null,
   "id": "662fa037",
   "metadata": {},
   "outputs": [],
   "source": [
    "fh.openExplorer(folder)"
   ]
  },
  {
   "cell_type": "markdown",
   "id": "ee90b89c",
   "metadata": {},
   "source": [
    "### get programmed dimension"
   ]
  },
  {
   "cell_type": "code",
   "execution_count": 140,
   "id": "d81fdda4",
   "metadata": {},
   "outputs": [],
   "source": [
    "folder = os.path.join(cfg.path.server, r'singleDisturb\\mineral_LapRD_visc\\I_M8_S_3.00\\I_M8_S_3.00_220930\\disturbHoriz2_0.500')"
   ]
  },
  {
   "cell_type": "code",
   "execution_count": null,
   "id": "fb5cb15b",
   "metadata": {},
   "outputs": [],
   "source": [
    "folder = os.path.join(cfg.path.server, r'singleDisturb\\LapRD_LapRD_visc\\I_3.00_S_2.25\\I_3.00_S_2.25_220928\\disturbHoriz_0.625')"
   ]
  },
  {
   "cell_type": "code",
   "execution_count": null,
   "id": "a4466e1e",
   "metadata": {},
   "outputs": [],
   "source": [
    "pdim = vt.getProgDims(folder)\n",
    "pdim.exportAll(overwrite=True, diag=0)"
   ]
  },
  {
   "cell_type": "code",
   "execution_count": null,
   "id": "149e3a25",
   "metadata": {},
   "outputs": [],
   "source": [
    "folder = os.path.join(cfg.path.server, r'singleDisturb\\mineral_LapRD_visc\\I_M7_S_3.00\\I_M7_S_3.00_220930\\disturbHoriz2_0.750')"
   ]
  },
  {
   "cell_type": "code",
   "execution_count": null,
   "id": "cfd07cfa",
   "metadata": {},
   "outputs": [],
   "source": [
    "p1 = pdim.ftable.loc[300:400]\n",
    "p1[p1.flag>2048].time.min()"
   ]
  },
  {
   "cell_type": "code",
   "execution_count": null,
   "id": "c682aca5",
   "metadata": {},
   "outputs": [],
   "source": [
    "pdim = vt.getProgDims(folder)\n",
    "pdim.importTimeRewriteFile()"
   ]
  },
  {
   "cell_type": "code",
   "execution_count": null,
   "id": "2c20eaab",
   "metadata": {
    "tags": []
   },
   "outputs": [],
   "source": [
    "pdim.rewriteTargets()\n",
    "pdim.ftable"
   ]
  },
  {
   "cell_type": "code",
   "execution_count": null,
   "id": "ba4a191c",
   "metadata": {
    "tags": []
   },
   "outputs": [],
   "source": [
    "pdim.importTimeFile()\n",
    "pdim.getTargetPoints()"
   ]
  },
  {
   "cell_type": "markdown",
   "id": "fd3e7f21",
   "metadata": {},
   "source": [
    "## make stills"
   ]
  },
  {
   "cell_type": "code",
   "execution_count": null,
   "id": "ae783f25",
   "metadata": {
    "tags": []
   },
   "outputs": [],
   "source": [
    "errorList = vt.exportStillsRecursive(os.path.join(cfg.path.server, r'singleDisturb'), overwriteDims=True, overwrite=True)"
   ]
  },
  {
   "cell_type": "code",
   "execution_count": 139,
   "id": "e0ac452c",
   "metadata": {},
   "outputs": [
    {
     "data": {
      "text/plain": [
       "['//cfs2e.nist.gov/642/internal/3D Printing Lab/Shopbot/videos/singleDisturb\\\\LapRD_LapRD_visc\\\\I_3.00_S_2.25\\\\I_3.00_S_2.25_220928_v1\\\\disturbHoriz_0.500',\n",
       " '//cfs2e.nist.gov/642/internal/3D Printing Lab/Shopbot/videos/singleDisturb\\\\LapRD_LapRD_visc\\\\I_3.00_S_2.25\\\\I_3.00_S_2.25_220928_v1\\\\disturbHoriz_0.625',\n",
       " '//cfs2e.nist.gov/642/internal/3D Printing Lab/Shopbot/videos/singleDisturb\\\\LapRD_LapRD_visc\\\\I_3.00_S_2.25\\\\I_3.00_S_2.25_220928_v1\\\\disturbHoriz_0.750',\n",
       " '//cfs2e.nist.gov/642/internal/3D Printing Lab/Shopbot/videos/singleDisturb\\\\LapRD_LapRD_visc\\\\I_3.00_S_2.25\\\\I_3.00_S_2.25_220928_v1\\\\disturbHoriz_0.875',\n",
       " '//cfs2e.nist.gov/642/internal/3D Printing Lab/Shopbot/videos/singleDisturb\\\\LapRD_LapRD_visc\\\\I_3.00_S_2.25\\\\I_3.00_S_2.25_220928_v1\\\\disturbHoriz_1.000',\n",
       " '//cfs2e.nist.gov/642/internal/3D Printing Lab/Shopbot/videos/singleDisturb\\\\LapRD_LapRD_visc\\\\I_3.00_S_2.25\\\\I_3.00_S_2.25_220928_v1\\\\disturbHoriz_1.250',\n",
       " '//cfs2e.nist.gov/642/internal/3D Printing Lab/Shopbot/videos/singleDisturb\\\\LapRD_LapRD_visc\\\\I_3.00_S_2.25\\\\I_3.00_S_2.25_220928_v1\\\\disturbVert_0.500',\n",
       " '//cfs2e.nist.gov/642/internal/3D Printing Lab/Shopbot/videos/singleDisturb\\\\LapRD_LapRD_visc\\\\I_3.00_S_2.25\\\\I_3.00_S_2.25_220928_v1\\\\disturbVert_0.625',\n",
       " '//cfs2e.nist.gov/642/internal/3D Printing Lab/Shopbot/videos/singleDisturb\\\\LapRD_LapRD_visc\\\\I_3.00_S_2.25\\\\I_3.00_S_2.25_220928_v1\\\\disturbVert_0.750',\n",
       " '//cfs2e.nist.gov/642/internal/3D Printing Lab/Shopbot/videos/singleDisturb\\\\LapRD_LapRD_visc\\\\I_3.00_S_2.25\\\\I_3.00_S_2.25_220928_v1\\\\disturbVert_0.875',\n",
       " '//cfs2e.nist.gov/642/internal/3D Printing Lab/Shopbot/videos/singleDisturb\\\\LapRD_LapRD_visc\\\\I_3.00_S_2.25\\\\I_3.00_S_2.25_220928_v1\\\\disturbVert_1.000',\n",
       " '//cfs2e.nist.gov/642/internal/3D Printing Lab/Shopbot/videos/singleDisturb\\\\LapRD_LapRD_visc\\\\I_3.00_S_2.25\\\\I_3.00_S_2.25_220928_v1\\\\disturbVert_1.250',\n",
       " '//cfs2e.nist.gov/642/internal/3D Printing Lab/Shopbot/videos/singleDisturb\\\\mineral_LapRD_visc\\\\I_M9_S_3.00\\\\I_M9_S_3.00_220930_v1\\\\disturbHoriz2_0.625',\n",
       " '//cfs2e.nist.gov/642/internal/3D Printing Lab/Shopbot/videos/singleDisturb\\\\mineral_LapRD_visc\\\\I_M9_S_3.50\\\\I_M9_S_3.50_220930\\\\disturbHoriz2_0.500']"
      ]
     },
     "execution_count": 139,
     "metadata": {},
     "output_type": "execute_result"
    }
   ],
   "source": [
    "errorList"
   ]
  },
  {
   "cell_type": "code",
   "execution_count": 181,
   "id": "552805af",
   "metadata": {
    "tags": []
   },
   "outputs": [
    {
     "name": "stdout",
     "output_type": "stream",
     "text": [
      "INFO: Exported //cfs2e.nist.gov/642/internal/3D Printing Lab/Shopbot/videos/singleDisturb\\mineral_LapRD_visc\\I_M9_S_3.00\\I_M9_S_3.00_220930_v1\\disturbHoriz2_0.875\\disturbHoriz2_0.875_still_HOh_l0w_I_M9_S_3.00_220930_150631_3.png\n",
      "INFO: Exported //cfs2e.nist.gov/642/internal/3D Printing Lab/Shopbot/videos/singleDisturb\\mineral_LapRD_visc\\I_M9_S_3.00\\I_M9_S_3.00_220930_v1\\disturbHoriz2_0.875\\disturbHoriz2_0.875_still_HOh_l0wo_I_M9_S_3.00_220930_150631_3.png\n",
      "INFO: Exported //cfs2e.nist.gov/642/internal/3D Printing Lab/Shopbot/videos/singleDisturb\\mineral_LapRD_visc\\I_M9_S_3.00\\I_M9_S_3.00_220930_v1\\disturbHoriz2_0.875\\disturbHoriz2_0.875_still_HOh_l0d_I_M9_S_3.00_220930_150631_3.png\n",
      "INFO: Exported //cfs2e.nist.gov/642/internal/3D Printing Lab/Shopbot/videos/singleDisturb\\mineral_LapRD_visc\\I_M9_S_3.00\\I_M9_S_3.00_220930_v1\\disturbHoriz2_0.875\\disturbHoriz2_0.875_still_HOh_l0do_I_M9_S_3.00_220930_150631_3.png\n",
      "INFO: Exported //cfs2e.nist.gov/642/internal/3D Printing Lab/Shopbot/videos/singleDisturb\\mineral_LapRD_visc\\I_M9_S_3.00\\I_M9_S_3.00_220930_v1\\disturbHoriz2_0.875\\disturbHoriz2_0.875_still_HOh_l1w_I_M9_S_3.00_220930_150631_3.png\n",
      "INFO: Exported //cfs2e.nist.gov/642/internal/3D Printing Lab/Shopbot/videos/singleDisturb\\mineral_LapRD_visc\\I_M9_S_3.00\\I_M9_S_3.00_220930_v1\\disturbHoriz2_0.875\\disturbHoriz2_0.875_still_HOh_l1wo_I_M9_S_3.00_220930_150631_3.png\n",
      "INFO: Exported //cfs2e.nist.gov/642/internal/3D Printing Lab/Shopbot/videos/singleDisturb\\mineral_LapRD_visc\\I_M9_S_3.00\\I_M9_S_3.00_220930_v1\\disturbHoriz2_0.875\\disturbHoriz2_0.875_still_HOh_l1d_I_M9_S_3.00_220930_150631_3.png\n",
      "INFO: Exported //cfs2e.nist.gov/642/internal/3D Printing Lab/Shopbot/videos/singleDisturb\\mineral_LapRD_visc\\I_M9_S_3.00\\I_M9_S_3.00_220930_v1\\disturbHoriz2_0.875\\disturbHoriz2_0.875_still_HOh_l1do_I_M9_S_3.00_220930_150631_3.png\n",
      "INFO: Exported //cfs2e.nist.gov/642/internal/3D Printing Lab/Shopbot/videos/singleDisturb\\mineral_LapRD_visc\\I_M9_S_3.00\\I_M9_S_3.00_220930_v1\\disturbHoriz2_0.875\\disturbHoriz2_0.875_still_HOh_l2w_I_M9_S_3.00_220930_150631_3.png\n",
      "INFO: Exported //cfs2e.nist.gov/642/internal/3D Printing Lab/Shopbot/videos/singleDisturb\\mineral_LapRD_visc\\I_M9_S_3.00\\I_M9_S_3.00_220930_v1\\disturbHoriz2_0.875\\disturbHoriz2_0.875_still_HOh_l2wo_I_M9_S_3.00_220930_150631_3.png\n",
      "INFO: Exported //cfs2e.nist.gov/642/internal/3D Printing Lab/Shopbot/videos/singleDisturb\\mineral_LapRD_visc\\I_M9_S_3.00\\I_M9_S_3.00_220930_v1\\disturbHoriz2_0.875\\disturbHoriz2_0.875_still_HOh_l2d_I_M9_S_3.00_220930_150631_3.png\n",
      "INFO: Exported //cfs2e.nist.gov/642/internal/3D Printing Lab/Shopbot/videos/singleDisturb\\mineral_LapRD_visc\\I_M9_S_3.00\\I_M9_S_3.00_220930_v1\\disturbHoriz2_0.875\\disturbHoriz2_0.875_still_HOh_l2do_I_M9_S_3.00_220930_150631_3.png\n",
      "INFO: Exported //cfs2e.nist.gov/642/internal/3D Printing Lab/Shopbot/videos/singleDisturb\\mineral_LapRD_visc\\I_M9_S_3.00\\I_M9_S_3.00_220930_v1\\disturbHoriz2_0.875\\disturbHoriz2_0.875_still_HOh_l3w_I_M9_S_3.00_220930_150631_3.png\n",
      "INFO: Exported //cfs2e.nist.gov/642/internal/3D Printing Lab/Shopbot/videos/singleDisturb\\mineral_LapRD_visc\\I_M9_S_3.00\\I_M9_S_3.00_220930_v1\\disturbHoriz2_0.875\\disturbHoriz2_0.875_still_HOh_l3wo_I_M9_S_3.00_220930_150631_3.png\n",
      "INFO: Exported //cfs2e.nist.gov/642/internal/3D Printing Lab/Shopbot/videos/singleDisturb\\mineral_LapRD_visc\\I_M9_S_3.00\\I_M9_S_3.00_220930_v1\\disturbHoriz2_0.875\\disturbHoriz2_0.875_still_HOh_l3d_I_M9_S_3.00_220930_150631_3.png\n",
      "INFO: Exported //cfs2e.nist.gov/642/internal/3D Printing Lab/Shopbot/videos/singleDisturb\\mineral_LapRD_visc\\I_M9_S_3.00\\I_M9_S_3.00_220930_v1\\disturbHoriz2_0.875\\disturbHoriz2_0.875_still_HOh_l3do_I_M9_S_3.00_220930_150631_3.png\n"
     ]
    },
    {
     "data": {
      "text/plain": [
       "[]"
      ]
     },
     "execution_count": 181,
     "metadata": {},
     "output_type": "execute_result"
    }
   ],
   "source": [
    "folder = os.path.join(cfg.path.server, r'singleDisturb\\mineral_LapRD_visc\\I_M9_S_3.00\\I_M9_S_3.00_220930_v1\\disturbHoriz2_0.875')\n",
    "vt.exportStillsRecursive(folder, overwriteDims=False, overwrite=True, prefixes=['HOh'])"
   ]
  },
  {
   "cell_type": "code",
   "execution_count": null,
   "id": "fe17e721",
   "metadata": {
    "tags": []
   },
   "outputs": [],
   "source": [
    "vt.exportStillsRecursive(folder, overwriteDims=True, overwrite=True)"
   ]
  },
  {
   "cell_type": "code",
   "execution_count": null,
   "id": "a3a55412",
   "metadata": {
    "tags": []
   },
   "outputs": [],
   "source": [
    "pdim = vt.getProgDims(folder)\n",
    "pdim.exportTime(overwrite=True, diag=1)"
   ]
  },
  {
   "cell_type": "code",
   "execution_count": null,
   "id": "4498459a",
   "metadata": {
    "tags": []
   },
   "outputs": [],
   "source": [
    "vt.exportProgDims(errorList[0], overwrite=True)"
   ]
  },
  {
   "cell_type": "code",
   "execution_count": null,
   "id": "23d1c65c",
   "metadata": {},
   "outputs": [],
   "source": [
    "pdim = vt.getProgDims(folder)\n",
    "pdim.initializeProgDims()"
   ]
  },
  {
   "cell_type": "code",
   "execution_count": null,
   "id": "854b87fb",
   "metadata": {},
   "outputs": [],
   "source": []
  }
 ],
 "metadata": {
  "kernelspec": {
   "display_name": "Python 3",
   "language": "python",
   "name": "python3"
  },
  "language_info": {
   "codemirror_mode": {
    "name": "ipython",
    "version": 3
   },
   "file_extension": ".py",
   "mimetype": "text/x-python",
   "name": "python",
   "nbconvert_exporter": "python",
   "pygments_lexer": "ipython3",
   "version": "3.8.3"
  }
 },
 "nbformat": 4,
 "nbformat_minor": 5
}
