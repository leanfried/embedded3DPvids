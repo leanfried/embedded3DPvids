{
 "cells": [
  {
   "cell_type": "markdown",
   "metadata": {},
   "source": [
    "# Sort files in folder\n",
    "Leanne Friedrich 9/29/22"
   ]
  },
  {
   "cell_type": "markdown",
   "metadata": {},
   "source": [
    "# initialization"
   ]
  },
  {
   "cell_type": "code",
   "execution_count": 1,
   "metadata": {},
   "outputs": [],
   "source": [
    "%load_ext autoreload\n",
    "%autoreload 2\n",
    "LOGGERDEFINED = False"
   ]
  },
  {
   "cell_type": "code",
   "execution_count": 2,
   "metadata": {
    "tags": []
   },
   "outputs": [],
   "source": [
    "import os\n",
    "import sys\n",
    "sys.path.append(\"../\")\n",
    "sys.path.append(\"../../\")\n",
    "import py.file_handling as fh\n",
    "from py.tools.config import cfg\n",
    "import py.tools.logs as logs\n",
    "LOGGERDEFINED = logs.openLog('fileHandling.ipynb', LOGGERDEFINED, level='DEBUG', exportLog=False)"
   ]
  },
  {
   "cell_type": "markdown",
   "metadata": {},
   "source": [
    "# Sort and rename files and folders"
   ]
  },
  {
   "cell_type": "code",
   "execution_count": 3,
   "metadata": {
    "tags": []
   },
   "outputs": [
    {
     "name": "stdout",
     "output_type": "stream",
     "text": [
      "INFO: Moved \\\\cfs2e.nist.gov\\642\\internal\\3D Printing Lab\\Shopbot\\videos\\singleDisturb\\mineral_LapRD_visc\\I_M7_S_3.00_220930 to \\\\cfs2e.nist.gov\\642\\internal\\3D Printing Lab\\Shopbot\\videos\\singleDisturb\\mineral_LapRD_visc\\I_M7_S_3.00\\I_M7_S_3.00_220930\n",
      "INFO: Moved \\\\cfs2e.nist.gov\\642\\internal\\3D Printing Lab\\Shopbot\\videos\\singleDisturb\\mineral_LapRD_visc\\I_M7_S_3.50_220930 to \\\\cfs2e.nist.gov\\642\\internal\\3D Printing Lab\\Shopbot\\videos\\singleDisturb\\mineral_LapRD_visc\\I_M7_S_3.50\\I_M7_S_3.50_220930\n",
      "INFO: Moved \\\\cfs2e.nist.gov\\642\\internal\\3D Printing Lab\\Shopbot\\videos\\singleDisturb\\mineral_LapRD_visc\\I_M7_S_4.00_220930 to \\\\cfs2e.nist.gov\\642\\internal\\3D Printing Lab\\Shopbot\\videos\\singleDisturb\\mineral_LapRD_visc\\I_M7_S_4.00\\I_M7_S_4.00_220930\n",
      "INFO: Moved \\\\cfs2e.nist.gov\\642\\internal\\3D Printing Lab\\Shopbot\\videos\\singleDisturb\\mineral_LapRD_visc\\I_M8_S_3.00_220930 to \\\\cfs2e.nist.gov\\642\\internal\\3D Printing Lab\\Shopbot\\videos\\singleDisturb\\mineral_LapRD_visc\\I_M8_S_3.00\\I_M8_S_3.00_220930\n",
      "INFO: Moved \\\\cfs2e.nist.gov\\642\\internal\\3D Printing Lab\\Shopbot\\videos\\singleDisturb\\mineral_LapRD_visc\\I_M8_S_3.50_220930 to \\\\cfs2e.nist.gov\\642\\internal\\3D Printing Lab\\Shopbot\\videos\\singleDisturb\\mineral_LapRD_visc\\I_M8_S_3.50\\I_M8_S_3.50_220930\n",
      "INFO: Moved \\\\cfs2e.nist.gov\\642\\internal\\3D Printing Lab\\Shopbot\\videos\\singleDisturb\\mineral_LapRD_visc\\I_M8_S_4.00_220930 to \\\\cfs2e.nist.gov\\642\\internal\\3D Printing Lab\\Shopbot\\videos\\singleDisturb\\mineral_LapRD_visc\\I_M8_S_4.00\\I_M8_S_4.00_220930\n",
      "INFO: Moved \\\\cfs2e.nist.gov\\642\\internal\\3D Printing Lab\\Shopbot\\videos\\singleDisturb\\mineral_LapRD_visc\\I_M9_S_3.00_220930 to \\\\cfs2e.nist.gov\\642\\internal\\3D Printing Lab\\Shopbot\\videos\\singleDisturb\\mineral_LapRD_visc\\I_M9_S_3.00\\I_M9_S_3.00_220930\n",
      "INFO: Moved \\\\cfs2e.nist.gov\\642\\internal\\3D Printing Lab\\Shopbot\\videos\\singleDisturb\\mineral_LapRD_visc\\I_M9_S_3.00_220930_v1 to \\\\cfs2e.nist.gov\\642\\internal\\3D Printing Lab\\Shopbot\\videos\\singleDisturb\\mineral_LapRD_visc\\I_M9_S_3.00\\I_M9_S_3.00_220930_v1\n",
      "INFO: Moved \\\\cfs2e.nist.gov\\642\\internal\\3D Printing Lab\\Shopbot\\videos\\singleDisturb\\mineral_LapRD_visc\\I_M9_S_3.00_220930_v2 to \\\\cfs2e.nist.gov\\642\\internal\\3D Printing Lab\\Shopbot\\videos\\singleDisturb\\mineral_LapRD_visc\\I_M9_S_3.00\\I_M9_S_3.00_220930_v2\n",
      "INFO: Moved \\\\cfs2e.nist.gov\\642\\internal\\3D Printing Lab\\Shopbot\\videos\\singleDisturb\\mineral_LapRD_visc\\I_M9_S_3.50_220930 to \\\\cfs2e.nist.gov\\642\\internal\\3D Printing Lab\\Shopbot\\videos\\singleDisturb\\mineral_LapRD_visc\\I_M9_S_3.50\\I_M9_S_3.50_220930\n",
      "INFO: Moved \\\\cfs2e.nist.gov\\642\\internal\\3D Printing Lab\\Shopbot\\videos\\singleDisturb\\mineral_LapRD_visc\\I_M9_S_3.50_v1_220930 to \\\\cfs2e.nist.gov\\642\\internal\\3D Printing Lab\\Shopbot\\videos\\singleDisturb\\mineral_LapRD_visc\\I_M9_S_3.50\\I_M9_S_3.50_v1_220930\n",
      "INFO: Moved \\\\cfs2e.nist.gov\\642\\internal\\3D Printing Lab\\Shopbot\\videos\\singleDisturb\\mineral_LapRD_visc\\I_M9_S_3.50_v2_220930 to \\\\cfs2e.nist.gov\\642\\internal\\3D Printing Lab\\Shopbot\\videos\\singleDisturb\\mineral_LapRD_visc\\I_M9_S_3.50\\I_M9_S_3.50_v2_220930\n",
      "INFO: Moved \\\\cfs2e.nist.gov\\642\\internal\\3D Printing Lab\\Shopbot\\videos\\singleDisturb\\mineral_LapRD_visc\\I_M9_S_4.00_220930 to \\\\cfs2e.nist.gov\\642\\internal\\3D Printing Lab\\Shopbot\\videos\\singleDisturb\\mineral_LapRD_visc\\I_M9_S_4.00\\I_M9_S_4.00_220930\n"
     ]
    }
   ],
   "source": [
    "fh.sortRecursive(r'\\\\cfs2e.nist.gov\\642\\internal\\3D Printing Lab\\Shopbot\\videos\\singleDisturb', debug=False)"
   ]
  },
  {
   "cell_type": "code",
   "execution_count": 9,
   "metadata": {
    "tags": []
   },
   "outputs": [
    {
     "data": {
      "text/plain": [
       "[]"
      ]
     },
     "execution_count": 9,
     "metadata": {},
     "output_type": "execute_result"
    }
   ],
   "source": [
    "mismatch, tooMany = fh.checkFolders(r'\\\\cfs2e.nist.gov\\642\\internal\\3D Printing Lab\\Shopbot\\videos\\singleDisturb')\n",
    "mismatch"
   ]
  }
 ],
 "metadata": {
  "kernelspec": {
   "display_name": "Python 3",
   "language": "python",
   "name": "python3"
  },
  "language_info": {
   "codemirror_mode": {
    "name": "ipython",
    "version": 3
   },
   "file_extension": ".py",
   "mimetype": "text/x-python",
   "name": "python",
   "nbconvert_exporter": "python",
   "pygments_lexer": "ipython3",
   "version": "3.8.3"
  }
 },
 "nbformat": 4,
 "nbformat_minor": 4
}
