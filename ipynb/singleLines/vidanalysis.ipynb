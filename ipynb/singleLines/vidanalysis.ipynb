{
 "cells": [
  {
   "cell_type": "markdown",
   "id": "ab250f45",
   "metadata": {},
   "source": [
    "# Analyzing videos of single lines"
   ]
  },
  {
   "cell_type": "markdown",
   "id": "e29d8dca",
   "metadata": {},
   "source": [
    "## Initialization"
   ]
  },
  {
   "cell_type": "code",
   "execution_count": null,
   "id": "b715676f",
   "metadata": {},
   "outputs": [],
   "source": [
    "%load_ext autoreload\n",
    "%autoreload 2\n",
    "LOGGERDEFINED = False"
   ]
  },
  {
   "cell_type": "code",
   "execution_count": null,
   "id": "2375b6a5",
   "metadata": {},
   "outputs": [],
   "source": [
    "import os\n",
    "import sys\n",
    "import numpy as np\n",
    "module_path = os.path.abspath(os.path.join('..'))\n",
    "sys.path.append(module_path)\n",
    "sys.path.append(os.path.dirname(module_path))\n",
    "from py.config import cfg\n",
    "import py.logs as logs\n",
    "import py.vidTools as vt\n",
    "from py.imshow import imshow\n",
    "import matplotlib.pyplot as plt\n",
    "LOGGERDEFINED = logs.openLog('vidAnalysis.ipynb', LOGGERDEFINED, level='DEBUG', exportLog=False)"
   ]
  },
  {
   "cell_type": "markdown",
   "id": "0f8fc581",
   "metadata": {},
   "source": [
    "# measure videos"
   ]
  },
  {
   "cell_type": "markdown",
   "id": "aaa72ff7",
   "metadata": {
    "collapsed": true,
    "jupyter": {
     "outputs_hidden": true
    }
   },
   "source": [
    "measure all videos"
   ]
  },
  {
   "cell_type": "markdown",
   "id": "0a86b591",
   "metadata": {},
   "source": [
    "### measure all videos"
   ]
  },
  {
   "cell_type": "code",
   "execution_count": null,
   "id": "9f924c76",
   "metadata": {
    "tags": []
   },
   "outputs": [],
   "source": [
    "# measure all of the videos\n",
    "errorVids = vt.measureVideosRecursiveSingle(os.path.join(cfg.path.server, r'singleLines\\vels LapRD LapRD 1day\\I_3.00_S_3.00'), \\\n",
    "                                      diag=0, overwrite=0, measureHoriz=True, measureXS=True, exportVert=True, exportHoriz=True)"
   ]
  },
  {
   "cell_type": "markdown",
   "id": "a663d879",
   "metadata": {},
   "source": [
    "### summarize all video data"
   ]
  },
  {
   "cell_type": "code",
   "execution_count": null,
   "id": "a92a0876",
   "metadata": {
    "tags": []
   },
   "outputs": [],
   "source": [
    "tt, u = vt.videoSummarySingle(os.path.join(cfg.path.server, 'singleLines'), cfg.path.fig)"
   ]
  },
  {
   "cell_type": "code",
   "execution_count": null,
   "id": "d5877399",
   "metadata": {},
   "outputs": [],
   "source": [
    "import metrics as me\n",
    "vs,uv = me.importStillsSummary(file='videoSummary.csv', diag=True)"
   ]
  },
  {
   "cell_type": "markdown",
   "id": "1f525031",
   "metadata": {},
   "source": [
    "### redo bad measurements"
   ]
  },
  {
   "cell_type": "code",
   "execution_count": null,
   "id": "d7543c06",
   "metadata": {},
   "outputs": [],
   "source": [
    "# badfiles = vs[(vs.projectionN.isna())|(vs.projectionN_N<5)]\n",
    "badfiles = vs[(vs.sweepType=='visc_20')&(vs.vertDispBotN>0.5)]\n",
    "badfiles[['bn', 'projectionN']]"
   ]
  },
  {
   "cell_type": "code",
   "execution_count": null,
   "id": "a034f968",
   "metadata": {
    "tags": []
   },
   "outputs": [],
   "source": [
    "# redo all of the measurements for badfiles\n",
    "for i,row in badfiles.iterrows():\n",
    "    vd = vt.vidData(row['folder'])\n",
    "    vd.detectNozzle()\n",
    "    vd.measureVideoHoriz(overwrite=1, topthresh=120)"
   ]
  },
  {
   "cell_type": "markdown",
   "id": "4e4146f5",
   "metadata": {},
   "source": [
    "# test one video"
   ]
  },
  {
   "cell_type": "code",
   "execution_count": null,
   "id": "62a76145",
   "metadata": {},
   "outputs": [],
   "source": [
    "# initialize the detection program\n",
    "# folder = badfiles.iloc[1]['folder']\n",
    "folder = os.path.join(cfg.path.server, 'singleLines', r'vels LapRD LapRD 1day\\I_3.00_S_3.00\\I_3.00_S_3.00_VI_7.5_VS_5_211109')\n",
    "vd = vt.vidData(folder, pxpmm=139)\n",
    "vd.detectNozzle()"
   ]
  },
  {
   "cell_type": "markdown",
   "id": "16df1d38",
   "metadata": {},
   "source": [
    "### image series"
   ]
  },
  {
   "cell_type": "code",
   "execution_count": null,
   "id": "0bcc1036",
   "metadata": {},
   "outputs": [],
   "source": [
    "folder = os.path.join(cfg.path.server, 'singleLines', r'vels mineral LapRD\\I_M5_S_3.00\\I_M5_S_3.00_VI_2.5_VS_5_211005')\n",
    "vd = vt.vidData(folder, pxpmm=139)\n",
    "dt = 0.05\n",
    "fig = vd.showFrames([41+dt*i for i in range(8)], \n",
    "              crop={'x0':300, 'xf':-1, 'y0':0, 'yf':-1},\n",
    "             figw=6.5)\n",
    "fig.savefig(os.path.join(folder, 'time_series.svg'), bbox_inches='tight', dpi=300)"
   ]
  },
  {
   "cell_type": "code",
   "execution_count": null,
   "id": "c1d64d46",
   "metadata": {},
   "outputs": [],
   "source": [
    "folder = os.path.join(cfg.path.server, 'singleLines', r'vels mineral LapRD\\I_M6_S_3.00\\I_M6_S_3.00_VI_2.5_VS_5_210824')\n",
    "vd = vt.vidData(folder, pxpmm=139)\n",
    "dt = 0.25\n",
    "fig = vd.showFrames([41+dt*i for i in range(8)], \n",
    "              crop={'x0':300, 'xf':-1, 'y0':0, 'yf':-1},\n",
    "             figw=6.5)\n",
    "fig.savefig(os.path.join(folder, 'time_series.svg'), bbox_inches='tight', dpi=300)"
   ]
  },
  {
   "cell_type": "markdown",
   "id": "8e7323d5",
   "metadata": {},
   "source": [
    "#### fix nozzle detection"
   ]
  },
  {
   "cell_type": "code",
   "execution_count": null,
   "id": "03e40c00",
   "metadata": {},
   "outputs": [],
   "source": [
    "# show nozzle dimensions\n",
    "vd.xL, vd.xR, vd.yB"
   ]
  },
  {
   "cell_type": "code",
   "execution_count": null,
   "id": "234b00a0",
   "metadata": {},
   "outputs": [],
   "source": [
    "# draw nozzle dimensions on the image\n",
    "# vd.yB = 420\n",
    "vd.drawDiagnostics(1)"
   ]
  },
  {
   "cell_type": "code",
   "execution_count": null,
   "id": "2e2b7802",
   "metadata": {},
   "outputs": [],
   "source": [
    "# export the nozzle dimensions\n",
    "vd.exportNozzleDims()"
   ]
  },
  {
   "cell_type": "code",
   "execution_count": null,
   "id": "6f5e90b0",
   "metadata": {},
   "outputs": [],
   "source": [
    "# manually change the nozzle mask\n",
    "vd.xL = 320\n",
    "vd.xR = 433\n",
    "vd.yB = 340\n",
    "vd.createNozzleMask()"
   ]
  },
  {
   "cell_type": "code",
   "execution_count": null,
   "id": "953c2e0e",
   "metadata": {
    "tags": []
   },
   "outputs": [],
   "source": [
    "# measure a single frame\n",
    "vd.measureFrameFromLine('vert1', 0.62, diag=2, topthresh=130)"
   ]
  },
  {
   "cell_type": "code",
   "execution_count": null,
   "id": "8611debd",
   "metadata": {
    "tags": []
   },
   "outputs": [],
   "source": [
    "# measure horizontal lines\n",
    "vd.measureVideoHoriz(overwrite=1, topthresh=130)"
   ]
  },
  {
   "cell_type": "markdown",
   "id": "a0f35964",
   "metadata": {},
   "source": [
    "#### overwrite images"
   ]
  },
  {
   "cell_type": "code",
   "execution_count": null,
   "id": "e68b8091",
   "metadata": {},
   "outputs": [],
   "source": [
    "# show a lineup of frames\n",
    "dt0 = -1.5\n",
    "flist = [vd.getLineFrame('xs2', t) for t in np.arange(dt0, dt0+1.1, 0.1)]\n",
    "imshow(*flist)"
   ]
  },
  {
   "cell_type": "code",
   "execution_count": null,
   "id": "a66482e6",
   "metadata": {},
   "outputs": [],
   "source": [
    "# overwrite the still frame\n",
    "vd.overwriteFrame('xs2',-1.06, diag=True)"
   ]
  },
  {
   "cell_type": "code",
   "execution_count": null,
   "id": "5386c60b",
   "metadata": {
    "tags": []
   },
   "outputs": [],
   "source": [
    "# measure XS metrics\n",
    "vd.measureVideoXS(overwrite=1, diag=1)"
   ]
  },
  {
   "cell_type": "markdown",
   "id": "2135e83e",
   "metadata": {},
   "source": [
    "## test nozzle detection over several videos"
   ]
  },
  {
   "cell_type": "code",
   "execution_count": null,
   "id": "15eed06c",
   "metadata": {
    "tags": []
   },
   "outputs": [],
   "source": [
    "run ../tests/test_nozDetect"
   ]
  }
 ],
 "metadata": {
  "kernelspec": {
   "display_name": "Python 3 (ipykernel)",
   "language": "python",
   "name": "python3"
  },
  "language_info": {
   "codemirror_mode": {
    "name": "ipython",
    "version": 3
   },
   "file_extension": ".py",
   "mimetype": "text/x-python",
   "name": "python",
   "nbconvert_exporter": "python",
   "pygments_lexer": "ipython3",
   "version": "3.8.18"
  }
 },
 "nbformat": 4,
 "nbformat_minor": 5
}
