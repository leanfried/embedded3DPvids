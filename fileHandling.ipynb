{
 "cells": [
  {
   "cell_type": "code",
   "execution_count": 46,
   "metadata": {},
   "outputs": [
    {
     "name": "stdout",
     "output_type": "stream",
     "text": [
      "The autoreload extension is already loaded. To reload it, use:\n",
      "  %reload_ext autoreload\n"
     ]
    }
   ],
   "source": [
    "%load_ext autoreload\n",
    "%autoreload 2"
   ]
  },
  {
   "cell_type": "code",
   "execution_count": 47,
   "metadata": {},
   "outputs": [],
   "source": [
    "import fileHandling as fh"
   ]
  },
  {
   "cell_type": "code",
   "execution_count": 28,
   "metadata": {},
   "outputs": [],
   "source": [
    "f1 = r'\\\\cfs2e.nist.gov\\642\\internal\\3D Printing Lab\\Shopbot\\videos\\singleLines\\LapRD LapRD\\I_2.25_S_2.25'"
   ]
  },
  {
   "cell_type": "code",
   "execution_count": 31,
   "metadata": {},
   "outputs": [],
   "source": [
    "import os\n",
    "import re"
   ]
  },
  {
   "cell_type": "code",
   "execution_count": 12,
   "metadata": {},
   "outputs": [
    {
     "name": "stdout",
     "output_type": "stream",
     "text": [
      "\\\\cfs2e.nist.gov\\642\\internal\\3D Printing Lab\\Shopbot\\videos\\singleLines\\LapRD LapRD\\I2.25_S2.25\\I2.25_S2.25\n"
     ]
    }
   ],
   "source": [
    "for f in os.listdir(f1):\n",
    "    ffull = os.path.join(f1, f)\n",
    "    if os.path.isdir(ffull):\n",
    "        print(ffull)\n",
    "        f2 = os.listdir(ffull)[0]\n",
    "        date = re.split('_', f2)[-2]\n",
    "        os.rename(ffull, ffull+'_'+date)"
   ]
  },
  {
   "cell_type": "code",
   "execution_count": 5,
   "metadata": {},
   "outputs": [],
   "source": [
    "renameSubFolder(os.path.join(f1, 'I2.25_S2.25_210405'))"
   ]
  },
  {
   "cell_type": "code",
   "execution_count": 15,
   "metadata": {},
   "outputs": [
    {
     "data": {
      "text/plain": [
       "'210405'"
      ]
     },
     "execution_count": 15,
     "metadata": {},
     "output_type": "execute_result"
    }
   ],
   "source": [
    "import time\n",
    "fname = r'\\\\cfs2e.nist.gov\\642\\internal\\3D Printing Lab\\Shopbot\\videos\\singleLines\\LapRD LapRD\\I2.25_S2.25\\I2.25_S2.25_210405\\Basler camera_I2.25_S2.25_210405_114244.png'\n",
    "time.strftime(\"%y%m%d\", time.gmtime(os.path.getctime(fname)))"
   ]
  },
  {
   "cell_type": "code",
   "execution_count": 23,
   "metadata": {},
   "outputs": [
    {
     "name": "stdout",
     "output_type": "stream",
     "text": [
      "I2.25_S2.25\n"
     ]
    }
   ],
   "source": [
    "fh.putInSubFolder(r'\\\\cfs2e.nist.gov\\642\\internal\\3D Printing Lab\\Shopbot\\videos\\singleLines\\LapRD LapRD\\I2.25_S2.25\\20210303_135705.jpg')"
   ]
  },
  {
   "cell_type": "code",
   "execution_count": 24,
   "metadata": {},
   "outputs": [],
   "source": [
    "fh.renameSubFolder(r'\\\\cfs2e.nist.gov\\642\\internal\\3D Printing Lab\\Shopbot\\videos\\singleLines\\LapRD LapRD\\I2.25_S2.25', includeDate=False)"
   ]
  },
  {
   "cell_type": "code",
   "execution_count": 139,
   "metadata": {},
   "outputs": [
    {
     "name": "stdout",
     "output_type": "stream",
     "text": [
      "\\\\cfs2e.nist.gov\\642\\internal\\3D Printing Lab\\Shopbot\\videos\\singleLines\\LapRD LapRD\\I_3.00_S_2.75\\I_3.00_S_2.75_210303\n",
      "\\\\cfs2e.nist.gov\\642\\internal\\3D Printing Lab\\Shopbot\\videos\\singleLines\\LapRD LapRD\\I_3.00_S_2.75\\I_3.00_S_2.75_210405\n"
     ]
    }
   ],
   "source": [
    "fh.sortSampleFolder(r'\\\\cfs2e.nist.gov\\642\\internal\\3D Printing Lab\\Shopbot\\videos\\singleLines\\LapRD LapRD\\I_3.00_S_2.75')"
   ]
  },
  {
   "cell_type": "code",
   "execution_count": 146,
   "metadata": {},
   "outputs": [
    {
     "data": {
      "text/plain": [
       "'M4_Lap2.50'"
      ]
     },
     "execution_count": 146,
     "metadata": {},
     "output_type": "execute_result"
    }
   ],
   "source": [
    "fh.mlapSample(r'\\\\cfs2e.nist.gov\\642\\internal\\3D Printing Lab\\Shopbot\\videos\\singleLines\\mineral812 LapRD\\IM4_S2.50\\M4_Lap2.50_210407', formatOutput=False)"
   ]
  },
  {
   "cell_type": "code",
   "execution_count": 150,
   "metadata": {},
   "outputs": [],
   "source": [
    "fh.sortSampleFolder(r'\\\\cfs2e.nist.gov\\642\\internal\\3D Printing Lab\\Shopbot\\videos\\singleLines\\mineral812 LapRD\\I_M4_S_2.50')"
   ]
  },
  {
   "cell_type": "code",
   "execution_count": 158,
   "metadata": {},
   "outputs": [
    {
     "data": {
      "text/plain": [
       "'\\\\\\\\cfs2e.nist.gov\\\\642\\\\internal\\\\3D Printing Lab\\\\Shopbot\\\\videos\\\\singleLines\\\\mineral812S LapRDT\\\\I_M4S_S_2.5ishT_210324'"
      ]
     },
     "execution_count": 158,
     "metadata": {},
     "output_type": "execute_result"
    }
   ],
   "source": [
    "fh.renameSubFolder(r'\\\\cfs2e.nist.gov\\642\\internal\\3D Printing Lab\\Shopbot\\videos\\singleLines\\mineral812S LapRDT\\I_M4S_S_2.5ishT', debug=False)"
   ]
  },
  {
   "cell_type": "code",
   "execution_count": 159,
   "metadata": {},
   "outputs": [
    {
     "name": "stdout",
     "output_type": "stream",
     "text": [
      "\\\\cfs2e.nist.gov\\642\\internal\\3D Printing Lab\\Shopbot\\videos\\singleLines\\mineral812S LapRDT\\I_M4S_S2.75\n",
      "\\\\cfs2e.nist.gov\\642\\internal\\3D Printing Lab\\Shopbot\\videos\\singleLines\\mineral812S LapRDT\\I_M4S_S_2.5ishT\n"
     ]
    }
   ],
   "source": [
    "t1 =r'\\\\cfs2e.nist.gov\\642\\internal\\3D Printing Lab\\Shopbot\\videos\\singleLines\\mineral812S LapRDT'\n",
    "for f1 in os.listdir(t1):\n",
    "    print(os.path.join(t1, f1))\n",
    "    fh.sortSampleFolder(os.path.join(t1, f1))"
   ]
  },
  {
   "cell_type": "code",
   "execution_count": 41,
   "metadata": {},
   "outputs": [],
   "source": [
    "for f2 in os.listdir(f1):\n",
    "    f2f = os.path.join(f1, f2)\n",
    "    if os.path.isdir(f2f):\n",
    "        l = os.listdir(f2f)\n",
    "        if len(l)==0:\n",
    "            try:\n",
    "                os.remove(f2f)\n",
    "            except:\n",
    "                pass\n",
    "        else:\n",
    "            for f3 in os.listdir(f2f):\n",
    "                if not 'Thumbs' in f3:\n",
    "                    f3f = os.path.join(f2f,f3)\n",
    "                    os.rename(f3f, os.path.join(f1, f3))"
   ]
  },
  {
   "cell_type": "code",
   "execution_count": 49,
   "metadata": {},
   "outputs": [
    {
     "data": {
      "text/plain": [
       "'\\\\\\\\cfs2e.nist.gov\\\\642\\\\internal\\\\3D Printing Lab\\\\Shopbot\\\\videos\\\\singleLines\\\\LapRD LapRD\\\\I_2.25_S_2.25\\\\I_2.25_S_2.25_210310'"
      ]
     },
     "execution_count": 49,
     "metadata": {},
     "output_type": "execute_result"
    }
   ],
   "source": [
    "fh.renameSubFolder(r'\\\\cfs2e.nist.gov\\642\\internal\\3D Printing Lab\\Shopbot\\videos\\singleLines\\LapRD LapRD\\I_2.25_S_2.25\\I_2.25_S_2.25_210310')"
   ]
  },
  {
   "cell_type": "code",
   "execution_count": 80,
   "metadata": {},
   "outputs": [],
   "source": [
    "fh.putInSubFolder(r'\\\\cfs2e.nist.gov\\642\\internal\\3D Printing Lab\\Shopbot\\videos\\singleLines\\LapRD LapRD\\I_2.25_S_2.25\\Basler camera_I_2.25_S_2.25_5mmps_210303_164933.png')"
   ]
  },
  {
   "cell_type": "code",
   "execution_count": 82,
   "metadata": {},
   "outputs": [],
   "source": [
    "f0 =r'\\\\cfs2e.nist.gov\\642\\internal\\3D Printing Lab\\Shopbot\\videos\\singleLines\\LapRD LapRD\\I_2.25_S_2.25\\I_2.25_S_2.25_210310'\n",
    "for f in os.listdir(f0):\n",
    "    fh.correctPhonePicName(os.path.join(f0, f))"
   ]
  },
  {
   "cell_type": "code",
   "execution_count": 86,
   "metadata": {},
   "outputs": [
    {
     "name": "stdout",
     "output_type": "stream",
     "text": [
      "210310\n",
      "\\\\cfs2e.nist.gov\\642\\internal\\3D Printing Lab\\Shopbot\\videos\\singleLines\\LapRD LapRD\\I_2.25_S_2.25\\I_2.25_S_2.25_210310\\20210310_114946.jpg \n",
      " \\\\cfs2e.nist.gov\\642\\internal\\3D Printing Lab\\Shopbot\\videos\\singleLines\\LapRD LapRD\\I_2.25_S_2.25\\I_2.25_S_2.25_210310\\phoneCam_I_2.25_S_2.25_210310_114946.jpg\n"
     ]
    },
    {
     "data": {
      "text/plain": [
       "'\\\\\\\\cfs2e.nist.gov\\\\642\\\\internal\\\\3D Printing Lab\\\\Shopbot\\\\videos\\\\singleLines\\\\LapRD LapRD\\\\I_2.25_S_2.25\\\\I_2.25_S_2.25_210310\\\\phoneCam_I_2.25_S_2.25_210310_114946.jpg'"
      ]
     },
     "execution_count": 86,
     "metadata": {},
     "output_type": "execute_result"
    }
   ],
   "source": [
    "fh.correctPhonePicName(r'\\\\cfs2e.nist.gov\\642\\internal\\3D Printing Lab\\Shopbot\\videos\\singleLines\\LapRD LapRD\\I_2.25_S_2.25\\I_2.25_S_2.25_210310\\20210310_114946.jpg', debug=True)"
   ]
  },
  {
   "cell_type": "code",
   "execution_count": 93,
   "metadata": {},
   "outputs": [
    {
     "data": {
      "text/plain": [
       "'2.00'"
      ]
     },
     "execution_count": 93,
     "metadata": {},
     "output_type": "execute_result"
    }
   ],
   "source": [
    "fh.convertToLapFormat('_2')"
   ]
  },
  {
   "cell_type": "code",
   "execution_count": 113,
   "metadata": {},
   "outputs": [
    {
     "data": {
      "text/plain": [
       "'I2.75_S2.5'"
      ]
     },
     "execution_count": 113,
     "metadata": {},
     "output_type": "execute_result"
    }
   ],
   "source": [
    "fh.sampleName(r'\\\\cfs2e.nist.gov\\642\\internal\\3D Printing Lab\\Shopbot\\videos\\singleLines\\LapRD LapRD\\I_2.75_S_2.50\\blah_I2.75_S2.5_210303', formatOutput=False)"
   ]
  },
  {
   "cell_type": "code",
   "execution_count": 129,
   "metadata": {},
   "outputs": [
    {
     "data": {
      "text/plain": [
       "'\\\\\\\\cfs2e.nist.gov\\\\642\\\\internal\\\\3D Printing Lab\\\\Shopbot\\\\videos\\\\singleLines\\\\LapRD LapRD\\\\I_3.00_S_2.50\\\\I_3_S_2.5_210303'"
      ]
     },
     "execution_count": 129,
     "metadata": {},
     "output_type": "execute_result"
    }
   ],
   "source": [
    "fh.renameSubFolder(r'\\\\cfs2e.nist.gov\\642\\internal\\3D Printing Lab\\Shopbot\\videos\\singleLines\\LapRD LapRD\\I_3.00_S_2.50\\I_3_S_2.5_210303', debug=False)"
   ]
  },
  {
   "cell_type": "code",
   "execution_count": 133,
   "metadata": {},
   "outputs": [],
   "source": [
    "f0 =r'\\\\cfs2e.nist.gov\\642\\internal\\3D Printing Lab\\Shopbot\\videos\\singleLines\\LapRD LapRD'\n",
    "for f1 in os.listdir(f0):\n",
    "    f1f = os.path.join(f0, f1)\n",
    "    if os.path.isdir(f1f):\n",
    "        for f2 in os.listdir(f1f):\n",
    "            f2f = os.path.join(f1f, f2)\n",
    "            if os.path.isdir(f2f):\n",
    "                for f3 in os.listdir(f2f):\n",
    "                    if 'phoneCam' in f3 and '210412' in f3:\n",
    "                        os.remove(os.path.join(f2f, f3))\n",
    "                if len(os.listdir(f2f))==0:\n",
    "                    os.rmdir(f2f)"
   ]
  },
  {
   "cell_type": "code",
   "execution_count": 134,
   "metadata": {},
   "outputs": [
    {
     "data": {
      "text/plain": [
       "'\\\\\\\\cfs2e.nist.gov\\\\642\\\\internal\\\\3D Printing Lab\\\\Shopbot\\\\videos\\\\singleLines\\\\LapRD LapRD\\\\I_2.50_S_2.25\\\\I_2.50_S_2.25_210303'"
      ]
     },
     "execution_count": 134,
     "metadata": {},
     "output_type": "execute_result"
    }
   ],
   "source": [
    "fh.renameSubFolder(r'\\\\cfs2e.nist.gov\\642\\internal\\3D Printing Lab\\Shopbot\\videos\\singleLines\\LapRD LapRD\\I_2.50_S_2.25\\I_2.5_S_2.25_210303')"
   ]
  },
  {
   "cell_type": "code",
   "execution_count": null,
   "metadata": {},
   "outputs": [],
   "source": []
  }
 ],
 "metadata": {
  "kernelspec": {
   "display_name": "Python 3",
   "language": "python",
   "name": "python3"
  },
  "language_info": {
   "codemirror_mode": {
    "name": "ipython",
    "version": 3
   },
   "file_extension": ".py",
   "mimetype": "text/x-python",
   "name": "python",
   "nbconvert_exporter": "python",
   "pygments_lexer": "ipython3",
   "version": "3.7.7"
  }
 },
 "nbformat": 4,
 "nbformat_minor": 4
}
